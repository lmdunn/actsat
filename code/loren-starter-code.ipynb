{
 "cells": [
  {
   "cell_type": "markdown",
   "metadata": {},
   "source": [
    "<img src=\"http://imgur.com/1ZcRyrc.png\" style=\"float: left; margin: 20px; height: 55px\">\n",
    "\n",
    "# Project 1: Standardized Test Analysis"
   ]
  },
  {
   "cell_type": "markdown",
   "metadata": {
    "jp-MarkdownHeadingCollapsed": true,
    "tags": []
   },
   "source": [
    "--- \n",
    "# Part 1\n",
    "\n",
    "Part 1 requires knowledge of basic Python.\n",
    "\n",
    "---"
   ]
  },
  {
   "cell_type": "markdown",
   "metadata": {
    "jp-MarkdownHeadingCollapsed": true,
    "tags": []
   },
   "source": [
    "## Problem Statement"
   ]
  },
  {
   "cell_type": "markdown",
   "metadata": {},
   "source": [
    "Decide on your problem statement that will guide your analysis for this project. For guidelines, sample prompts, or inspiration, check out the README.\n",
    "\n",
    "**To-Do:** *Replace this cell with your problem statement.*"
   ]
  },
  {
   "cell_type": "markdown",
   "metadata": {},
   "source": [
    "### Contents:\n",
    "- [Background](#Background)\n",
    "- [Data Import & Cleaning](#Data-Import-and-Cleaning)\n",
    "- [Exploratory Data Analysis](#Exploratory-Data-Analysis)\n",
    "- [Data Visualization](#Visualize-the-Data)\n",
    "- [Conclusions and Recommendations](#Conclusions-and-Recommendations)"
   ]
  },
  {
   "cell_type": "markdown",
   "metadata": {
    "tags": []
   },
   "source": [
    "## Background"
   ]
  },
  {
   "cell_type": "markdown",
   "metadata": {},
   "source": [
    "The SAT and ACT are standardized tests that many colleges and universities in the United States require for their admissions process. This score is used along with other materials such as grade point average (GPA) and essay responses to determine whether or not a potential student will be accepted to the university.\n",
    "\n",
    "The SAT has two sections of the test: Evidence-Based Reading (EBRW) and Writing and Math ([*source*](https://www.princetonreview.com/college/sat-sections)). The ACT has 4 sections: English, Mathematics, Reading, and Science, with an additional optional writing section ([*source*](https://www.act.org/content/act/en/products-and-services/the-act/scores/understanding-your-scores.html)). They have different score ranges, which you can read more about on their websites or additional outside sources (a quick Google search will help you understand the scores for each test):\n",
    "* [SAT](https://collegereadiness.collegeboard.org/sat)\n",
    "* [ACT](https://www.act.org/content/act/en.html)\n",
    "\n",
    "Standardized tests have long been a controversial topic for students, administrators, and legislators. Since the 1940's, an increasing number of colleges have been using scores from sudents' performances on tests like the SAT and the ACT as a measure for college readiness and aptitude ([*source*](https://www.minotdailynews.com/news/local-news/2017/04/a-brief-history-of-the-sat-and-act/)). Supporters of these tests argue that these scores can be used as an objective measure to determine college admittance. Opponents of these tests claim that these tests are not accurate measures of students potential or ability and serve as an inequitable barrier to entry. Lately, more and more schools are opting to drop the SAT/ACT requirement for their Fall 2021 applications ([*read more about this here*](https://www.cnn.com/2020/04/14/us/coronavirus-colleges-sat-act-test-trnd/index.html))."
   ]
  },
  {
   "cell_type": "markdown",
   "metadata": {},
   "source": [
    "**To-Do:** *Fill out this cell (or edit the above cell) with any other background or information that is necessary for your problem statement.*"
   ]
  },
  {
   "cell_type": "markdown",
   "metadata": {},
   "source": [
    "### Choose your Data\n",
    "\n",
    "There are 10 datasets included in the [`data`](./data/) folder for this project. You are required to pick **at least two** of these to complete your analysis. Feel free to use more than two if you would like, or add other relevant datasets you find online.\n",
    "\n",
    "* [`act_2017.csv`](./data/act_2017.csv): 2017 ACT Scores by State\n",
    "* [`act_2018.csv`](./data/act_2018.csv): 2018 ACT Scores by State\n",
    "* [`act_2019.csv`](./data/act_2019.csv): 2019 ACT Scores by State\n",
    "* [`act_2019_ca.csv`](./data/act_2019_ca.csv): 2019 ACT Scores in California by School\n",
    "* [`sat_2017.csv`](./data/sat_2017.csv): 2017 SAT Scores by State\n",
    "* [`sat_2018.csv`](./data/sat_2018.csv): 2018 SAT Scores by State\n",
    "* [`sat_2019.csv`](./data/sat_2019.csv): 2019 SAT Scores by State\n",
    "* [`sat_2019_by_intended_college_major.csv`](./data/sat_2019_by_intended_college_major.csv): 2019 SAT Scores by Intended College Major\n",
    "* [`sat_2019_ca.csv`](./data/sat_2019_ca.csv): 2019 SAT Scores in California by School\n",
    "* [`sat_act_by_college.csv`](./data/sat_act_by_college.csv): Ranges of Accepted ACT & SAT Student Scores by Colleges"
   ]
  },
  {
   "cell_type": "markdown",
   "metadata": {},
   "source": [
    "**To-Do:** *Fill out this cell with the datasets you will use for your analysis. Write a brief description of the contents for each dataset that you choose.*"
   ]
  },
  {
   "cell_type": "markdown",
   "metadata": {},
   "source": [
    "### Outside Research"
   ]
  },
  {
   "cell_type": "markdown",
   "metadata": {},
   "source": [
    "Based on your problem statement and your chosen datasets, spend some time doing outside research on state policies or additional information that might be relevant. Summarize your findings below. If you bring in any outside tables or charts, make sure you are explicit about having borrowed them. If you quote any text, make sure that it renders as being quoted. **Make sure that you cite your sources.**"
   ]
  },
  {
   "cell_type": "markdown",
   "metadata": {},
   "source": [
    "**To-Do:** *Fill out this cell with outside research or any additional background information that will support your analysis.*\n",
    "\n",
    "The 2018 ACT-SAT Concordance chart published by ACT https://www.act.org/content/act/en/products-and-services/the-act/scores/act-sat-concordance.html"
   ]
  },
  {
   "cell_type": "markdown",
   "metadata": {},
   "source": [
    "### Coding Challenges\n",
    "\n",
    "1. Manually calculate mean:\n",
    "\n",
    "    Write a function that takes in values and returns the mean of the values. Create a list of numbers that you test on your function to check to make sure your function works!\n",
    "    \n",
    "    *Note*: Do not use any mean methods built-in to any Python libraries to do this! This should be done without importing any additional libraries."
   ]
  },
  {
   "cell_type": "code",
   "execution_count": 3,
   "metadata": {},
   "outputs": [],
   "source": [
    "# Code:\n",
    "\n",
    "def meanfnc(numlist):\n",
    "    return sum(numlist)/len(numlist)"
   ]
  },
  {
   "cell_type": "code",
   "execution_count": 4,
   "metadata": {},
   "outputs": [
    {
     "data": {
      "text/plain": [
       "9.875"
      ]
     },
     "execution_count": 4,
     "metadata": {},
     "output_type": "execute_result"
    }
   ],
   "source": [
    "test_num = [3, 42, -6, 0.5]\n",
    "\n",
    "meanfnc(test_num)"
   ]
  },
  {
   "cell_type": "markdown",
   "metadata": {},
   "source": [
    "2. Manually calculate standard deviation:\n",
    "\n",
    "    The formula for standard deviation is below:\n",
    "\n",
    "    $$\\sigma = \\sqrt{\\frac{1}{n}\\sum_{i=1}^n(x_i - \\mu)^2}$$\n",
    "\n",
    "    Where $x_i$ represents each value in the dataset, $\\mu$ represents the mean of all values in the dataset and $n$ represents the number of values in the dataset.\n",
    "\n",
    "    Write a function that takes in values and returns the standard deviation of the values using the formula above. Hint: use the function you wrote above to calculate the mean! Use the list of numbers you created above to test on your function.\n",
    "    \n",
    "    *Note*: Do not use any standard deviation methods built-in to any Python libraries to do this! This should be done without importing any additional libraries."
   ]
  },
  {
   "cell_type": "code",
   "execution_count": 5,
   "metadata": {},
   "outputs": [],
   "source": [
    "# Code:\n",
    "\n",
    "def stddevfnc(numlist):\n",
    "    \n",
    "    diff_sqr = []\n",
    "    \n",
    "    for x in numlist:\n",
    "        diff_sqr = diff_sqr + [(x - meanfnc(numlist))**2]\n",
    "    \n",
    "    return float(((1/len(numlist)) * sum(diff_sqr)) ** 0.5)\n",
    "\n"
   ]
  },
  {
   "cell_type": "code",
   "execution_count": 6,
   "metadata": {},
   "outputs": [
    {
     "data": {
      "text/plain": [
       "18.83605253231154"
      ]
     },
     "execution_count": 6,
     "metadata": {},
     "output_type": "execute_result"
    }
   ],
   "source": [
    "stddevfnc(test_num)"
   ]
  },
  {
   "cell_type": "markdown",
   "metadata": {},
   "source": [
    "3. Data cleaning function:\n",
    "    \n",
    "    Write a function that takes in a string that is a number and a percent symbol (ex. '50%', '30.5%', etc.) and converts this to a float that is the decimal approximation of the percent. For example, inputting '50%' in your function should return 0.5, '30.5%' should return 0.305, etc. Make sure to test your function to make sure it works!\n",
    "\n",
    "You will use these functions later on in the project!"
   ]
  },
  {
   "cell_type": "code",
   "execution_count": 88,
   "metadata": {},
   "outputs": [],
   "source": [
    "# Code:\n",
    "\n",
    "# after working with the sat_19_df I discovered there were '-' in the 'Participation Rate' column \n",
    "# I wrote in a .replace('-', '0') but I realized it actually isn't a 0 participation rate for those territories,\n",
    "# so I eliminated it.\n",
    "\n",
    "def per_to_dec(percent):\n",
    "    \"\"\"\n",
    "    this function converts percents in a string (%) format into a decimal, float format.\n",
    "    \"\"\"\n",
    "    return float(percent.replace('%','').replace(' ', ''))/100"
   ]
  },
  {
   "cell_type": "code",
   "execution_count": 89,
   "metadata": {},
   "outputs": [
    {
     "data": {
      "text/plain": [
       "0.3025"
      ]
     },
     "execution_count": 89,
     "metadata": {},
     "output_type": "execute_result"
    }
   ],
   "source": [
    "per_to_dec('30.25%')"
   ]
  },
  {
   "cell_type": "code",
   "execution_count": 90,
   "metadata": {},
   "outputs": [
    {
     "data": {
      "text/plain": [
       "0.25"
      ]
     },
     "execution_count": 90,
     "metadata": {},
     "output_type": "execute_result"
    }
   ],
   "source": [
    "per_to_dec('25%')"
   ]
  },
  {
   "cell_type": "markdown",
   "metadata": {
    "tags": []
   },
   "source": [
    "--- \n",
    "# Part 2\n",
    "\n",
    "Part 2 requires knowledge of Pandas, EDA, data cleaning, and data visualization.\n",
    "\n",
    "---"
   ]
  },
  {
   "cell_type": "markdown",
   "metadata": {},
   "source": [
    "*All libraries used should be added here*"
   ]
  },
  {
   "cell_type": "code",
   "execution_count": 970,
   "metadata": {},
   "outputs": [],
   "source": [
    "# Imports:\n",
    "\n",
    "import pandas as pd\n",
    "import numpy as np\n",
    "import seaborn as sns\n",
    "import matplotlib.pyplot as plt"
   ]
  },
  {
   "cell_type": "markdown",
   "metadata": {},
   "source": [
    "## Data Import and Cleaning"
   ]
  },
  {
   "cell_type": "markdown",
   "metadata": {},
   "source": [
    "### Data Import & Cleaning\n",
    "\n",
    "Import the datasets that you selected for this project and go through the following steps at a minimum. You are welcome to do further cleaning as you feel necessary:\n",
    "1. Display the data: print the first 5 rows of each dataframe to your Jupyter notebook.\n",
    "2. Check for missing values.\n",
    "3. Check for any obvious issues with the observations (keep in mind the minimum & maximum possible values for each test/subtest).\n",
    "4. Fix any errors you identified in steps 2-3.\n",
    "5. Display the data types of each feature.\n",
    "6. Fix any incorrect data types found in step 5.\n",
    "    - Fix any individual values preventing other columns from being the appropriate type.\n",
    "    - If your dataset has a column of percents (ex. '50%', '30.5%', etc.), use the function you wrote in Part 1 (coding challenges, number 3) to convert this to floats! *Hint*: use `.map()` or `.apply()`.\n",
    "7. Rename Columns.\n",
    "    - Column names should be all lowercase.\n",
    "    - Column names should not contain spaces (underscores will suffice--this allows for using the `df.column_name` method to access columns in addition to `df['column_name']`).\n",
    "    - Column names should be unique and informative.\n",
    "8. Drop unnecessary rows (if needed).\n",
    "9. Merge dataframes that can be merged.\n",
    "10. Perform any additional cleaning that you feel is necessary.\n",
    "11. Save your cleaned and merged dataframes as csv files."
   ]
  },
  {
   "cell_type": "markdown",
   "metadata": {
    "jp-MarkdownHeadingCollapsed": true,
    "tags": []
   },
   "source": [
    "# SAT Total Score/ACT Composite Conversion DF"
   ]
  },
  {
   "cell_type": "markdown",
   "metadata": {
    "jp-MarkdownHeadingCollapsed": true,
    "tags": []
   },
   "source": [
    "#### 0.0 Importing Data Set, SAT Total Score/ACT Composite Conversion Tables"
   ]
  },
  {
   "cell_type": "code",
   "execution_count": 10,
   "metadata": {},
   "outputs": [],
   "source": [
    "# My first data file, which has conversion data for total SAT scores \n",
    "# to ACT composites and vice versa\n",
    "\n",
    "conv_file_path = '../data/2018concordance_table_A1.csv'\n",
    "\n",
    "dirty_conv_table = pd.read_csv(conv_file_path)"
   ]
  },
  {
   "cell_type": "markdown",
   "metadata": {
    "jp-MarkdownHeadingCollapsed": true,
    "tags": []
   },
   "source": [
    "#### 1.0 Printing the head, SAT Total Score/ACT Composite Conversion Tables\n",
    "I find there are entries that have asterisks. The original Excel file states that these are the SAT scores we should use if we're choosing a single score to correspond to an ACT score. For example, as you can see in the head, there are 4 SAT scores that correspond to an ACT of 36, but the documentation recommends using 1590 if you're not using a range."
   ]
  },
  {
   "cell_type": "code",
   "execution_count": 11,
   "metadata": {},
   "outputs": [
    {
     "data": {
      "text/html": [
       "<div>\n",
       "<style scoped>\n",
       "    .dataframe tbody tr th:only-of-type {\n",
       "        vertical-align: middle;\n",
       "    }\n",
       "\n",
       "    .dataframe tbody tr th {\n",
       "        vertical-align: top;\n",
       "    }\n",
       "\n",
       "    .dataframe thead th {\n",
       "        text-align: right;\n",
       "    }\n",
       "</style>\n",
       "<table border=\"1\" class=\"dataframe\">\n",
       "  <thead>\n",
       "    <tr style=\"text-align: right;\">\n",
       "      <th></th>\n",
       "      <th>SAT</th>\n",
       "      <th>ACT</th>\n",
       "    </tr>\n",
       "  </thead>\n",
       "  <tbody>\n",
       "    <tr>\n",
       "      <th>0</th>\n",
       "      <td>1600</td>\n",
       "      <td>36</td>\n",
       "    </tr>\n",
       "    <tr>\n",
       "      <th>1</th>\n",
       "      <td>*1590</td>\n",
       "      <td>36</td>\n",
       "    </tr>\n",
       "    <tr>\n",
       "      <th>2</th>\n",
       "      <td>1580</td>\n",
       "      <td>36</td>\n",
       "    </tr>\n",
       "    <tr>\n",
       "      <th>3</th>\n",
       "      <td>1570</td>\n",
       "      <td>36</td>\n",
       "    </tr>\n",
       "    <tr>\n",
       "      <th>4</th>\n",
       "      <td>1560</td>\n",
       "      <td>35</td>\n",
       "    </tr>\n",
       "  </tbody>\n",
       "</table>\n",
       "</div>"
      ],
      "text/plain": [
       "     SAT  ACT\n",
       "0   1600   36\n",
       "1  *1590   36\n",
       "2   1580   36\n",
       "3   1570   36\n",
       "4   1560   35"
      ]
     },
     "execution_count": 11,
     "metadata": {},
     "output_type": "execute_result"
    }
   ],
   "source": [
    "dirty_conv_table.head()"
   ]
  },
  {
   "cell_type": "markdown",
   "metadata": {
    "jp-MarkdownHeadingCollapsed": true,
    "tags": []
   },
   "source": [
    "#### 2.0 Checking for Nulls, SAT Total Score/ACT Composite Conversion Tables\n",
    "\n",
    "There are no nulls"
   ]
  },
  {
   "cell_type": "code",
   "execution_count": 12,
   "metadata": {},
   "outputs": [
    {
     "data": {
      "text/plain": [
       "SAT    0\n",
       "ACT    0\n",
       "dtype: int64"
      ]
     },
     "execution_count": 12,
     "metadata": {},
     "output_type": "execute_result"
    }
   ],
   "source": [
    "dirty_conv_table.isnull().sum()"
   ]
  },
  {
   "cell_type": "markdown",
   "metadata": {
    "jp-MarkdownHeadingCollapsed": true,
    "tags": []
   },
   "source": [
    "#### 3.0 Looking for Obvious Errors in the Data, SAT Total Score/ACT Composite Conversion Tables\n",
    "\n",
    "I'll need to deal with the asterisk issue for both tables (SAT-->ACT and ACT-->SAT). for the ACT --> SAT I'll need to eliminate the \"non-asterisk\" values from the SAT so each ACT score only returns one SAT value."
   ]
  },
  {
   "cell_type": "code",
   "execution_count": 13,
   "metadata": {},
   "outputs": [
    {
     "data": {
      "text/plain": [
       "SAT    object\n",
       "ACT     int64\n",
       "dtype: object"
      ]
     },
     "execution_count": 13,
     "metadata": {},
     "output_type": "execute_result"
    }
   ],
   "source": [
    "dirty_conv_table.dtypes"
   ]
  },
  {
   "cell_type": "markdown",
   "metadata": {
    "jp-MarkdownHeadingCollapsed": true,
    "tags": []
   },
   "source": [
    "#### 4.0 Fix Errors, SAT Total Score/ACT Composite Conversion Tables\n",
    "\n",
    "In this section, I make a version of the SAT-->ACT table (s_to_a_df) with the asterisk eliminated and the datatype corrected to integer and I make a version of the ACT-->SAT table (a_to_s_df) that reduces the table to the asterisked SAT values and then removed the asterisk in order to have a 1-to-1 conversion from ACT composite to SAT total score."
   ]
  },
  {
   "cell_type": "code",
   "execution_count": 14,
   "metadata": {},
   "outputs": [],
   "source": [
    "s_to_a_df = dirty_conv_table.copy()"
   ]
  },
  {
   "cell_type": "code",
   "execution_count": 15,
   "metadata": {},
   "outputs": [
    {
     "data": {
      "text/html": [
       "<div>\n",
       "<style scoped>\n",
       "    .dataframe tbody tr th:only-of-type {\n",
       "        vertical-align: middle;\n",
       "    }\n",
       "\n",
       "    .dataframe tbody tr th {\n",
       "        vertical-align: top;\n",
       "    }\n",
       "\n",
       "    .dataframe thead th {\n",
       "        text-align: right;\n",
       "    }\n",
       "</style>\n",
       "<table border=\"1\" class=\"dataframe\">\n",
       "  <thead>\n",
       "    <tr style=\"text-align: right;\">\n",
       "      <th></th>\n",
       "      <th>SAT</th>\n",
       "      <th>ACT</th>\n",
       "    </tr>\n",
       "  </thead>\n",
       "  <tbody>\n",
       "    <tr>\n",
       "      <th>0</th>\n",
       "      <td>1600</td>\n",
       "      <td>36</td>\n",
       "    </tr>\n",
       "    <tr>\n",
       "      <th>1</th>\n",
       "      <td>*1590</td>\n",
       "      <td>36</td>\n",
       "    </tr>\n",
       "    <tr>\n",
       "      <th>2</th>\n",
       "      <td>1580</td>\n",
       "      <td>36</td>\n",
       "    </tr>\n",
       "    <tr>\n",
       "      <th>3</th>\n",
       "      <td>1570</td>\n",
       "      <td>36</td>\n",
       "    </tr>\n",
       "    <tr>\n",
       "      <th>4</th>\n",
       "      <td>1560</td>\n",
       "      <td>35</td>\n",
       "    </tr>\n",
       "  </tbody>\n",
       "</table>\n",
       "</div>"
      ],
      "text/plain": [
       "     SAT  ACT\n",
       "0   1600   36\n",
       "1  *1590   36\n",
       "2   1580   36\n",
       "3   1570   36\n",
       "4   1560   35"
      ]
     },
     "execution_count": 15,
     "metadata": {},
     "output_type": "execute_result"
    }
   ],
   "source": [
    "s_to_a_df.head()"
   ]
  },
  {
   "cell_type": "code",
   "execution_count": 16,
   "metadata": {},
   "outputs": [],
   "source": [
    "#this creates the SAT->ACT conversion table without the asterisk and as integer.\n",
    "s_to_a_df['SAT'] = s_to_a_df['SAT'].map(lambda score: int(score.replace(\"*\", \"\")) if \"*\" in score else int(score))"
   ]
  },
  {
   "cell_type": "code",
   "execution_count": 17,
   "metadata": {},
   "outputs": [
    {
     "data": {
      "text/html": [
       "<div>\n",
       "<style scoped>\n",
       "    .dataframe tbody tr th:only-of-type {\n",
       "        vertical-align: middle;\n",
       "    }\n",
       "\n",
       "    .dataframe tbody tr th {\n",
       "        vertical-align: top;\n",
       "    }\n",
       "\n",
       "    .dataframe thead th {\n",
       "        text-align: right;\n",
       "    }\n",
       "</style>\n",
       "<table border=\"1\" class=\"dataframe\">\n",
       "  <thead>\n",
       "    <tr style=\"text-align: right;\">\n",
       "      <th></th>\n",
       "      <th>SAT</th>\n",
       "      <th>ACT</th>\n",
       "    </tr>\n",
       "  </thead>\n",
       "  <tbody>\n",
       "    <tr>\n",
       "      <th>0</th>\n",
       "      <td>1600</td>\n",
       "      <td>36</td>\n",
       "    </tr>\n",
       "    <tr>\n",
       "      <th>1</th>\n",
       "      <td>1590</td>\n",
       "      <td>36</td>\n",
       "    </tr>\n",
       "    <tr>\n",
       "      <th>2</th>\n",
       "      <td>1580</td>\n",
       "      <td>36</td>\n",
       "    </tr>\n",
       "    <tr>\n",
       "      <th>3</th>\n",
       "      <td>1570</td>\n",
       "      <td>36</td>\n",
       "    </tr>\n",
       "    <tr>\n",
       "      <th>4</th>\n",
       "      <td>1560</td>\n",
       "      <td>35</td>\n",
       "    </tr>\n",
       "  </tbody>\n",
       "</table>\n",
       "</div>"
      ],
      "text/plain": [
       "    SAT  ACT\n",
       "0  1600   36\n",
       "1  1590   36\n",
       "2  1580   36\n",
       "3  1570   36\n",
       "4  1560   35"
      ]
     },
     "execution_count": 17,
     "metadata": {},
     "output_type": "execute_result"
    }
   ],
   "source": [
    "s_to_a_df.head()"
   ]
  },
  {
   "cell_type": "code",
   "execution_count": 18,
   "metadata": {},
   "outputs": [
    {
     "data": {
      "text/plain": [
       "SAT    int64\n",
       "ACT    int64\n",
       "dtype: object"
      ]
     },
     "execution_count": 18,
     "metadata": {},
     "output_type": "execute_result"
    }
   ],
   "source": [
    "s_to_a_df.dtypes"
   ]
  },
  {
   "cell_type": "code",
   "execution_count": 19,
   "metadata": {},
   "outputs": [],
   "source": [
    "# this creates the ACT->SAT conversion chart first with asterisk, then eliminates asterisks, converts to int\n",
    "\n",
    "a_to_s_df = dirty_conv_table.copy()\n",
    "\n",
    "# eliminate rows that have DON'T have an asterisk\n",
    "\n",
    "a_to_s_df = a_to_s_df[a_to_s_df['SAT'].map(lambda x: True if '*' in x else False)]\n"
   ]
  },
  {
   "cell_type": "code",
   "execution_count": 20,
   "metadata": {},
   "outputs": [
    {
     "data": {
      "text/html": [
       "<div>\n",
       "<style scoped>\n",
       "    .dataframe tbody tr th:only-of-type {\n",
       "        vertical-align: middle;\n",
       "    }\n",
       "\n",
       "    .dataframe tbody tr th {\n",
       "        vertical-align: top;\n",
       "    }\n",
       "\n",
       "    .dataframe thead th {\n",
       "        text-align: right;\n",
       "    }\n",
       "</style>\n",
       "<table border=\"1\" class=\"dataframe\">\n",
       "  <thead>\n",
       "    <tr style=\"text-align: right;\">\n",
       "      <th></th>\n",
       "      <th>SAT</th>\n",
       "      <th>ACT</th>\n",
       "    </tr>\n",
       "  </thead>\n",
       "  <tbody>\n",
       "    <tr>\n",
       "      <th>1</th>\n",
       "      <td>*1590</td>\n",
       "      <td>36</td>\n",
       "    </tr>\n",
       "    <tr>\n",
       "      <th>6</th>\n",
       "      <td>*1540</td>\n",
       "      <td>35</td>\n",
       "    </tr>\n",
       "    <tr>\n",
       "      <th>10</th>\n",
       "      <td>*1500</td>\n",
       "      <td>34</td>\n",
       "    </tr>\n",
       "    <tr>\n",
       "      <th>14</th>\n",
       "      <td>*1460</td>\n",
       "      <td>33</td>\n",
       "    </tr>\n",
       "    <tr>\n",
       "      <th>17</th>\n",
       "      <td>*1430</td>\n",
       "      <td>32</td>\n",
       "    </tr>\n",
       "  </tbody>\n",
       "</table>\n",
       "</div>"
      ],
      "text/plain": [
       "      SAT  ACT\n",
       "1   *1590   36\n",
       "6   *1540   35\n",
       "10  *1500   34\n",
       "14  *1460   33\n",
       "17  *1430   32"
      ]
     },
     "execution_count": 20,
     "metadata": {},
     "output_type": "execute_result"
    }
   ],
   "source": [
    "a_to_s_df.head()"
   ]
  },
  {
   "cell_type": "code",
   "execution_count": 21,
   "metadata": {},
   "outputs": [],
   "source": [
    "# now eliminate the asterisks as I did for the SAT-> ACT chart\n",
    "\n",
    "a_to_s_df['SAT'] = a_to_s_df['SAT'].map(lambda score: int(score.replace(\"*\", \"\")) if \"*\" in score else int(score))"
   ]
  },
  {
   "cell_type": "code",
   "execution_count": 22,
   "metadata": {},
   "outputs": [
    {
     "data": {
      "text/html": [
       "<div>\n",
       "<style scoped>\n",
       "    .dataframe tbody tr th:only-of-type {\n",
       "        vertical-align: middle;\n",
       "    }\n",
       "\n",
       "    .dataframe tbody tr th {\n",
       "        vertical-align: top;\n",
       "    }\n",
       "\n",
       "    .dataframe thead th {\n",
       "        text-align: right;\n",
       "    }\n",
       "</style>\n",
       "<table border=\"1\" class=\"dataframe\">\n",
       "  <thead>\n",
       "    <tr style=\"text-align: right;\">\n",
       "      <th></th>\n",
       "      <th>SAT</th>\n",
       "      <th>ACT</th>\n",
       "    </tr>\n",
       "  </thead>\n",
       "  <tbody>\n",
       "    <tr>\n",
       "      <th>1</th>\n",
       "      <td>1590</td>\n",
       "      <td>36</td>\n",
       "    </tr>\n",
       "    <tr>\n",
       "      <th>6</th>\n",
       "      <td>1540</td>\n",
       "      <td>35</td>\n",
       "    </tr>\n",
       "    <tr>\n",
       "      <th>10</th>\n",
       "      <td>1500</td>\n",
       "      <td>34</td>\n",
       "    </tr>\n",
       "    <tr>\n",
       "      <th>14</th>\n",
       "      <td>1460</td>\n",
       "      <td>33</td>\n",
       "    </tr>\n",
       "    <tr>\n",
       "      <th>17</th>\n",
       "      <td>1430</td>\n",
       "      <td>32</td>\n",
       "    </tr>\n",
       "  </tbody>\n",
       "</table>\n",
       "</div>"
      ],
      "text/plain": [
       "     SAT  ACT\n",
       "1   1590   36\n",
       "6   1540   35\n",
       "10  1500   34\n",
       "14  1460   33\n",
       "17  1430   32"
      ]
     },
     "execution_count": 22,
     "metadata": {},
     "output_type": "execute_result"
    }
   ],
   "source": [
    "a_to_s_df.head()"
   ]
  },
  {
   "cell_type": "code",
   "execution_count": 23,
   "metadata": {},
   "outputs": [
    {
     "data": {
      "text/plain": [
       "SAT    int64\n",
       "ACT    int64\n",
       "dtype: object"
      ]
     },
     "execution_count": 23,
     "metadata": {},
     "output_type": "execute_result"
    }
   ],
   "source": [
    "a_to_s_df.dtypes"
   ]
  },
  {
   "cell_type": "markdown",
   "metadata": {
    "tags": []
   },
   "source": [
    "#### 5.0 Display Data Types, SAT Total Score/ACT Composite Conversion Tables\n",
    "\n",
    "I already did this above."
   ]
  },
  {
   "cell_type": "markdown",
   "metadata": {},
   "source": [
    "#### 6.0 Correct Data Types, SAT Total Score/ACT Composite Conversion Tables\n",
    "\n",
    "I already did this above."
   ]
  },
  {
   "cell_type": "markdown",
   "metadata": {
    "tags": []
   },
   "source": [
    "#### 7.0 Rename Columns, SAT Total Score/ACT Composite Conversion Tables"
   ]
  },
  {
   "cell_type": "code",
   "execution_count": 24,
   "metadata": {},
   "outputs": [],
   "source": [
    "s_a_col_dict = {\n",
    "    \"SAT\": \"sat_tot_score\",\n",
    "    \"ACT\": \"act_composite\"\n",
    "}"
   ]
  },
  {
   "cell_type": "code",
   "execution_count": 25,
   "metadata": {},
   "outputs": [],
   "source": [
    "s_to_a_df.rename(columns = s_a_col_dict,\n",
    "                 inplace = True)"
   ]
  },
  {
   "cell_type": "code",
   "execution_count": 26,
   "metadata": {},
   "outputs": [
    {
     "data": {
      "text/html": [
       "<div>\n",
       "<style scoped>\n",
       "    .dataframe tbody tr th:only-of-type {\n",
       "        vertical-align: middle;\n",
       "    }\n",
       "\n",
       "    .dataframe tbody tr th {\n",
       "        vertical-align: top;\n",
       "    }\n",
       "\n",
       "    .dataframe thead th {\n",
       "        text-align: right;\n",
       "    }\n",
       "</style>\n",
       "<table border=\"1\" class=\"dataframe\">\n",
       "  <thead>\n",
       "    <tr style=\"text-align: right;\">\n",
       "      <th></th>\n",
       "      <th>sat_tot_score</th>\n",
       "      <th>act_composite</th>\n",
       "    </tr>\n",
       "  </thead>\n",
       "  <tbody>\n",
       "    <tr>\n",
       "      <th>0</th>\n",
       "      <td>1600</td>\n",
       "      <td>36</td>\n",
       "    </tr>\n",
       "    <tr>\n",
       "      <th>1</th>\n",
       "      <td>1590</td>\n",
       "      <td>36</td>\n",
       "    </tr>\n",
       "    <tr>\n",
       "      <th>2</th>\n",
       "      <td>1580</td>\n",
       "      <td>36</td>\n",
       "    </tr>\n",
       "    <tr>\n",
       "      <th>3</th>\n",
       "      <td>1570</td>\n",
       "      <td>36</td>\n",
       "    </tr>\n",
       "    <tr>\n",
       "      <th>4</th>\n",
       "      <td>1560</td>\n",
       "      <td>35</td>\n",
       "    </tr>\n",
       "  </tbody>\n",
       "</table>\n",
       "</div>"
      ],
      "text/plain": [
       "   sat_tot_score  act_composite\n",
       "0           1600             36\n",
       "1           1590             36\n",
       "2           1580             36\n",
       "3           1570             36\n",
       "4           1560             35"
      ]
     },
     "execution_count": 26,
     "metadata": {},
     "output_type": "execute_result"
    }
   ],
   "source": [
    "s_to_a_df.head()"
   ]
  },
  {
   "cell_type": "code",
   "execution_count": 27,
   "metadata": {},
   "outputs": [],
   "source": [
    "a_to_s_df.rename(columns = s_a_col_dict,\n",
    "                inplace = True)"
   ]
  },
  {
   "cell_type": "code",
   "execution_count": 28,
   "metadata": {
    "tags": []
   },
   "outputs": [
    {
     "data": {
      "text/html": [
       "<div>\n",
       "<style scoped>\n",
       "    .dataframe tbody tr th:only-of-type {\n",
       "        vertical-align: middle;\n",
       "    }\n",
       "\n",
       "    .dataframe tbody tr th {\n",
       "        vertical-align: top;\n",
       "    }\n",
       "\n",
       "    .dataframe thead th {\n",
       "        text-align: right;\n",
       "    }\n",
       "</style>\n",
       "<table border=\"1\" class=\"dataframe\">\n",
       "  <thead>\n",
       "    <tr style=\"text-align: right;\">\n",
       "      <th></th>\n",
       "      <th>sat_tot_score</th>\n",
       "      <th>act_composite</th>\n",
       "    </tr>\n",
       "  </thead>\n",
       "  <tbody>\n",
       "    <tr>\n",
       "      <th>1</th>\n",
       "      <td>1590</td>\n",
       "      <td>36</td>\n",
       "    </tr>\n",
       "    <tr>\n",
       "      <th>6</th>\n",
       "      <td>1540</td>\n",
       "      <td>35</td>\n",
       "    </tr>\n",
       "    <tr>\n",
       "      <th>10</th>\n",
       "      <td>1500</td>\n",
       "      <td>34</td>\n",
       "    </tr>\n",
       "    <tr>\n",
       "      <th>14</th>\n",
       "      <td>1460</td>\n",
       "      <td>33</td>\n",
       "    </tr>\n",
       "    <tr>\n",
       "      <th>17</th>\n",
       "      <td>1430</td>\n",
       "      <td>32</td>\n",
       "    </tr>\n",
       "  </tbody>\n",
       "</table>\n",
       "</div>"
      ],
      "text/plain": [
       "    sat_tot_score  act_composite\n",
       "1            1590             36\n",
       "6            1540             35\n",
       "10           1500             34\n",
       "14           1460             33\n",
       "17           1430             32"
      ]
     },
     "execution_count": 28,
     "metadata": {},
     "output_type": "execute_result"
    }
   ],
   "source": [
    "a_to_s_df.head()"
   ]
  },
  {
   "cell_type": "markdown",
   "metadata": {},
   "source": [
    "#### 8.0 Drop Unnecessary Rows, SAT Total Score/ACT Composite Conversion Tables\n",
    "\n",
    "No unnecessary rows to drop."
   ]
  },
  {
   "cell_type": "markdown",
   "metadata": {
    "tags": []
   },
   "source": [
    "# SAT 2019 DF"
   ]
  },
  {
   "cell_type": "markdown",
   "metadata": {
    "jp-MarkdownHeadingCollapsed": true,
    "tags": []
   },
   "source": [
    "#### 0.0 Importing Data Set, SAT 2019 DF"
   ]
  },
  {
   "cell_type": "code",
   "execution_count": 191,
   "metadata": {},
   "outputs": [],
   "source": [
    "raw_sat_19 = pd.read_csv('../data/sat_2019.csv')\n",
    "\n",
    "sat_19_df = raw_sat_19.copy()"
   ]
  },
  {
   "cell_type": "markdown",
   "metadata": {
    "jp-MarkdownHeadingCollapsed": true,
    "tags": []
   },
   "source": [
    "#### 1.0 Printing the head, SAT 2019 DF"
   ]
  },
  {
   "cell_type": "code",
   "execution_count": 192,
   "metadata": {},
   "outputs": [
    {
     "data": {
      "text/html": [
       "<div>\n",
       "<style scoped>\n",
       "    .dataframe tbody tr th:only-of-type {\n",
       "        vertical-align: middle;\n",
       "    }\n",
       "\n",
       "    .dataframe tbody tr th {\n",
       "        vertical-align: top;\n",
       "    }\n",
       "\n",
       "    .dataframe thead th {\n",
       "        text-align: right;\n",
       "    }\n",
       "</style>\n",
       "<table border=\"1\" class=\"dataframe\">\n",
       "  <thead>\n",
       "    <tr style=\"text-align: right;\">\n",
       "      <th></th>\n",
       "      <th>State</th>\n",
       "      <th>Participation Rate</th>\n",
       "      <th>EBRW</th>\n",
       "      <th>Math</th>\n",
       "      <th>Total</th>\n",
       "    </tr>\n",
       "  </thead>\n",
       "  <tbody>\n",
       "    <tr>\n",
       "      <th>0</th>\n",
       "      <td>Alabama</td>\n",
       "      <td>7%</td>\n",
       "      <td>583</td>\n",
       "      <td>560</td>\n",
       "      <td>1143</td>\n",
       "    </tr>\n",
       "    <tr>\n",
       "      <th>1</th>\n",
       "      <td>Alaska</td>\n",
       "      <td>41%</td>\n",
       "      <td>556</td>\n",
       "      <td>541</td>\n",
       "      <td>1097</td>\n",
       "    </tr>\n",
       "    <tr>\n",
       "      <th>2</th>\n",
       "      <td>Arizona</td>\n",
       "      <td>31%</td>\n",
       "      <td>569</td>\n",
       "      <td>565</td>\n",
       "      <td>1134</td>\n",
       "    </tr>\n",
       "    <tr>\n",
       "      <th>3</th>\n",
       "      <td>Arkansas</td>\n",
       "      <td>6%</td>\n",
       "      <td>582</td>\n",
       "      <td>559</td>\n",
       "      <td>1141</td>\n",
       "    </tr>\n",
       "    <tr>\n",
       "      <th>4</th>\n",
       "      <td>California</td>\n",
       "      <td>63%</td>\n",
       "      <td>534</td>\n",
       "      <td>531</td>\n",
       "      <td>1065</td>\n",
       "    </tr>\n",
       "  </tbody>\n",
       "</table>\n",
       "</div>"
      ],
      "text/plain": [
       "        State Participation Rate  EBRW  Math  Total\n",
       "0     Alabama                 7%   583   560   1143\n",
       "1      Alaska                41%   556   541   1097\n",
       "2     Arizona                31%   569   565   1134\n",
       "3    Arkansas                 6%   582   559   1141\n",
       "4  California                63%   534   531   1065"
      ]
     },
     "execution_count": 192,
     "metadata": {},
     "output_type": "execute_result"
    }
   ],
   "source": [
    "sat_19_df.head()"
   ]
  },
  {
   "cell_type": "markdown",
   "metadata": {
    "jp-MarkdownHeadingCollapsed": true,
    "tags": []
   },
   "source": [
    "#### 2.0 Checking for Nulls, SAT 2019 DF\n",
    "\n",
    "No nulls"
   ]
  },
  {
   "cell_type": "code",
   "execution_count": 193,
   "metadata": {},
   "outputs": [
    {
     "data": {
      "text/plain": [
       "State                 0\n",
       "Participation Rate    0\n",
       "EBRW                  0\n",
       "Math                  0\n",
       "Total                 0\n",
       "dtype: int64"
      ]
     },
     "execution_count": 193,
     "metadata": {},
     "output_type": "execute_result"
    }
   ],
   "source": [
    "sat_19_df.isnull().sum()"
   ]
  },
  {
   "cell_type": "markdown",
   "metadata": {
    "jp-MarkdownHeadingCollapsed": true,
    "tags": []
   },
   "source": [
    "#### 3.0 Looking for Obvious Errors in the Data, SAT 2019 DF\n",
    "\n",
    ".dytpes reveals that the participation rate needs to be converted from a string with '%' to a float.\n",
    "\n",
    ".describe() shows no surprises.\n",
    "\n",
    "I discovered '-' in the participation rate column. Looking at the data for those columns, it's clear there was participation. Ultimately, the best solution would be to find the # of eligible students in those territories and calculate participation rate. Do get the correct number would be very involved, so for now I'm eliminating those two territories."
   ]
  },
  {
   "cell_type": "code",
   "execution_count": 194,
   "metadata": {},
   "outputs": [
    {
     "data": {
      "text/plain": [
       "State                 object\n",
       "Participation Rate    object\n",
       "EBRW                   int64\n",
       "Math                   int64\n",
       "Total                  int64\n",
       "dtype: object"
      ]
     },
     "execution_count": 194,
     "metadata": {},
     "output_type": "execute_result"
    }
   ],
   "source": [
    "sat_19_df.dtypes"
   ]
  },
  {
   "cell_type": "code",
   "execution_count": 195,
   "metadata": {},
   "outputs": [
    {
     "data": {
      "text/plain": [
       "(53, 5)"
      ]
     },
     "execution_count": 195,
     "metadata": {},
     "output_type": "execute_result"
    }
   ],
   "source": [
    "sat_19_df.shape"
   ]
  },
  {
   "cell_type": "code",
   "execution_count": 196,
   "metadata": {},
   "outputs": [
    {
     "data": {
      "text/html": [
       "<div>\n",
       "<style scoped>\n",
       "    .dataframe tbody tr th:only-of-type {\n",
       "        vertical-align: middle;\n",
       "    }\n",
       "\n",
       "    .dataframe tbody tr th {\n",
       "        vertical-align: top;\n",
       "    }\n",
       "\n",
       "    .dataframe thead th {\n",
       "        text-align: right;\n",
       "    }\n",
       "</style>\n",
       "<table border=\"1\" class=\"dataframe\">\n",
       "  <thead>\n",
       "    <tr style=\"text-align: right;\">\n",
       "      <th></th>\n",
       "      <th>EBRW</th>\n",
       "      <th>Math</th>\n",
       "      <th>Total</th>\n",
       "    </tr>\n",
       "  </thead>\n",
       "  <tbody>\n",
       "    <tr>\n",
       "      <th>count</th>\n",
       "      <td>53.000000</td>\n",
       "      <td>53.000000</td>\n",
       "      <td>53.000000</td>\n",
       "    </tr>\n",
       "    <tr>\n",
       "      <th>mean</th>\n",
       "      <td>558.000000</td>\n",
       "      <td>548.471698</td>\n",
       "      <td>1106.528302</td>\n",
       "    </tr>\n",
       "    <tr>\n",
       "      <th>std</th>\n",
       "      <td>47.554422</td>\n",
       "      <td>53.785044</td>\n",
       "      <td>100.994784</td>\n",
       "    </tr>\n",
       "    <tr>\n",
       "      <th>min</th>\n",
       "      <td>483.000000</td>\n",
       "      <td>445.000000</td>\n",
       "      <td>935.000000</td>\n",
       "    </tr>\n",
       "    <tr>\n",
       "      <th>25%</th>\n",
       "      <td>518.000000</td>\n",
       "      <td>506.000000</td>\n",
       "      <td>1024.000000</td>\n",
       "    </tr>\n",
       "    <tr>\n",
       "      <th>50%</th>\n",
       "      <td>550.000000</td>\n",
       "      <td>545.000000</td>\n",
       "      <td>1097.000000</td>\n",
       "    </tr>\n",
       "    <tr>\n",
       "      <th>75%</th>\n",
       "      <td>610.000000</td>\n",
       "      <td>596.000000</td>\n",
       "      <td>1200.000000</td>\n",
       "    </tr>\n",
       "    <tr>\n",
       "      <th>max</th>\n",
       "      <td>636.000000</td>\n",
       "      <td>648.000000</td>\n",
       "      <td>1284.000000</td>\n",
       "    </tr>\n",
       "  </tbody>\n",
       "</table>\n",
       "</div>"
      ],
      "text/plain": [
       "             EBRW        Math        Total\n",
       "count   53.000000   53.000000    53.000000\n",
       "mean   558.000000  548.471698  1106.528302\n",
       "std     47.554422   53.785044   100.994784\n",
       "min    483.000000  445.000000   935.000000\n",
       "25%    518.000000  506.000000  1024.000000\n",
       "50%    550.000000  545.000000  1097.000000\n",
       "75%    610.000000  596.000000  1200.000000\n",
       "max    636.000000  648.000000  1284.000000"
      ]
     },
     "execution_count": 196,
     "metadata": {},
     "output_type": "execute_result"
    }
   ],
   "source": [
    "sat_19_df.describe()"
   ]
  },
  {
   "cell_type": "code",
   "execution_count": 197,
   "metadata": {},
   "outputs": [
    {
     "data": {
      "text/plain": [
       "100%    8\n",
       "3%      6\n",
       "4%      5\n",
       "68%     3\n",
       "66%     2\n",
       "—       2\n",
       "70%     2\n",
       "51%     2\n",
       "99%     2\n",
       "7%      2\n",
       "82%     2\n",
       "71%     1\n",
       "31%     1\n",
       "6%      1\n",
       "22%     1\n",
       "19%     1\n",
       "2%      1\n",
       "63%     1\n",
       "79%     1\n",
       "54%     1\n",
       "95%     1\n",
       "20%     1\n",
       "9%      1\n",
       "81%     1\n",
       "41%     1\n",
       "94%     1\n",
       "5%      1\n",
       "18%     1\n",
       "Name: Participation Rate, dtype: int64"
      ]
     },
     "execution_count": 197,
     "metadata": {},
     "output_type": "execute_result"
    }
   ],
   "source": [
    "sat_19_df['Participation Rate'].value_counts()"
   ]
  },
  {
   "cell_type": "code",
   "execution_count": 198,
   "metadata": {},
   "outputs": [
    {
     "data": {
      "text/plain": [
       "['—']"
      ]
     },
     "execution_count": 198,
     "metadata": {},
     "output_type": "execute_result"
    }
   ],
   "source": [
    "list(sat_19_df.loc[sat_19_df['State'] == 'Virgin Islands']['Participation Rate'])"
   ]
  },
  {
   "cell_type": "code",
   "execution_count": 199,
   "metadata": {},
   "outputs": [
    {
     "data": {
      "text/html": [
       "<div>\n",
       "<style scoped>\n",
       "    .dataframe tbody tr th:only-of-type {\n",
       "        vertical-align: middle;\n",
       "    }\n",
       "\n",
       "    .dataframe tbody tr th {\n",
       "        vertical-align: top;\n",
       "    }\n",
       "\n",
       "    .dataframe thead th {\n",
       "        text-align: right;\n",
       "    }\n",
       "</style>\n",
       "<table border=\"1\" class=\"dataframe\">\n",
       "  <thead>\n",
       "    <tr style=\"text-align: right;\">\n",
       "      <th></th>\n",
       "      <th>State</th>\n",
       "      <th>Participation Rate</th>\n",
       "      <th>EBRW</th>\n",
       "      <th>Math</th>\n",
       "      <th>Total</th>\n",
       "    </tr>\n",
       "  </thead>\n",
       "  <tbody>\n",
       "    <tr>\n",
       "      <th>39</th>\n",
       "      <td>Puerto Rico</td>\n",
       "      <td>—</td>\n",
       "      <td>483</td>\n",
       "      <td>462</td>\n",
       "      <td>944</td>\n",
       "    </tr>\n",
       "    <tr>\n",
       "      <th>47</th>\n",
       "      <td>Virgin Islands</td>\n",
       "      <td>—</td>\n",
       "      <td>490</td>\n",
       "      <td>445</td>\n",
       "      <td>935</td>\n",
       "    </tr>\n",
       "  </tbody>\n",
       "</table>\n",
       "</div>"
      ],
      "text/plain": [
       "             State Participation Rate  EBRW  Math  Total\n",
       "39     Puerto Rico                  —   483   462    944\n",
       "47  Virgin Islands                  —   490   445    935"
      ]
     },
     "execution_count": 199,
     "metadata": {},
     "output_type": "execute_result"
    }
   ],
   "source": [
    "sat_19_df[sat_19_df['Participation Rate'] == '—']"
   ]
  },
  {
   "cell_type": "markdown",
   "metadata": {
    "tags": []
   },
   "source": [
    "#### 4.0 Fix Errors, SAT 2019 DF\n",
    "\n",
    "I eliminated the territories that don't report participation rate because I'm more interested in being able to look at participation rates across the remaining 51 states/territories than I am in the additional two SAT data points.\n",
    "\n",
    "I then converted the remaining 'Participation Rate' entries from strings to floats."
   ]
  },
  {
   "cell_type": "code",
   "execution_count": 200,
   "metadata": {},
   "outputs": [],
   "source": [
    "# Dropping the two cases of \"-\" in 'Participation Rate'\n",
    "sat_19_df = sat_19_df[sat_19_df['Participation Rate'] != '—']"
   ]
  },
  {
   "cell_type": "code",
   "execution_count": 201,
   "metadata": {},
   "outputs": [
    {
     "data": {
      "text/plain": [
       "(51, 5)"
      ]
     },
     "execution_count": 201,
     "metadata": {},
     "output_type": "execute_result"
    }
   ],
   "source": [
    "sat_19_df.shape"
   ]
  },
  {
   "cell_type": "code",
   "execution_count": 202,
   "metadata": {},
   "outputs": [],
   "source": [
    "sat_19_df['Participation Rate'] = sat_19_df['Participation Rate'].map(lambda x: per_to_dec(x))"
   ]
  },
  {
   "cell_type": "code",
   "execution_count": 203,
   "metadata": {},
   "outputs": [
    {
     "data": {
      "text/html": [
       "<div>\n",
       "<style scoped>\n",
       "    .dataframe tbody tr th:only-of-type {\n",
       "        vertical-align: middle;\n",
       "    }\n",
       "\n",
       "    .dataframe tbody tr th {\n",
       "        vertical-align: top;\n",
       "    }\n",
       "\n",
       "    .dataframe thead th {\n",
       "        text-align: right;\n",
       "    }\n",
       "</style>\n",
       "<table border=\"1\" class=\"dataframe\">\n",
       "  <thead>\n",
       "    <tr style=\"text-align: right;\">\n",
       "      <th></th>\n",
       "      <th>State</th>\n",
       "      <th>Participation Rate</th>\n",
       "      <th>EBRW</th>\n",
       "      <th>Math</th>\n",
       "      <th>Total</th>\n",
       "    </tr>\n",
       "  </thead>\n",
       "  <tbody>\n",
       "    <tr>\n",
       "      <th>0</th>\n",
       "      <td>Alabama</td>\n",
       "      <td>0.07</td>\n",
       "      <td>583</td>\n",
       "      <td>560</td>\n",
       "      <td>1143</td>\n",
       "    </tr>\n",
       "    <tr>\n",
       "      <th>1</th>\n",
       "      <td>Alaska</td>\n",
       "      <td>0.41</td>\n",
       "      <td>556</td>\n",
       "      <td>541</td>\n",
       "      <td>1097</td>\n",
       "    </tr>\n",
       "    <tr>\n",
       "      <th>2</th>\n",
       "      <td>Arizona</td>\n",
       "      <td>0.31</td>\n",
       "      <td>569</td>\n",
       "      <td>565</td>\n",
       "      <td>1134</td>\n",
       "    </tr>\n",
       "    <tr>\n",
       "      <th>3</th>\n",
       "      <td>Arkansas</td>\n",
       "      <td>0.06</td>\n",
       "      <td>582</td>\n",
       "      <td>559</td>\n",
       "      <td>1141</td>\n",
       "    </tr>\n",
       "    <tr>\n",
       "      <th>4</th>\n",
       "      <td>California</td>\n",
       "      <td>0.63</td>\n",
       "      <td>534</td>\n",
       "      <td>531</td>\n",
       "      <td>1065</td>\n",
       "    </tr>\n",
       "  </tbody>\n",
       "</table>\n",
       "</div>"
      ],
      "text/plain": [
       "        State  Participation Rate  EBRW  Math  Total\n",
       "0     Alabama                0.07   583   560   1143\n",
       "1      Alaska                0.41   556   541   1097\n",
       "2     Arizona                0.31   569   565   1134\n",
       "3    Arkansas                0.06   582   559   1141\n",
       "4  California                0.63   534   531   1065"
      ]
     },
     "execution_count": 203,
     "metadata": {},
     "output_type": "execute_result"
    }
   ],
   "source": [
    "sat_19_df.head()"
   ]
  },
  {
   "cell_type": "code",
   "execution_count": 204,
   "metadata": {},
   "outputs": [
    {
     "data": {
      "text/plain": [
       "State                  object\n",
       "Participation Rate    float64\n",
       "EBRW                    int64\n",
       "Math                    int64\n",
       "Total                   int64\n",
       "dtype: object"
      ]
     },
     "execution_count": 204,
     "metadata": {},
     "output_type": "execute_result"
    }
   ],
   "source": [
    "sat_19_df.dtypes"
   ]
  },
  {
   "cell_type": "markdown",
   "metadata": {
    "jp-MarkdownHeadingCollapsed": true,
    "tags": []
   },
   "source": [
    "#### 5.0 Display Data Types, SAT 2019 DF\n",
    "\n",
    "I already did this above."
   ]
  },
  {
   "cell_type": "markdown",
   "metadata": {
    "jp-MarkdownHeadingCollapsed": true,
    "tags": []
   },
   "source": [
    "#### 6.0 Correct Data Types, SAT 2019 DF\n",
    "\n",
    "I already did this above."
   ]
  },
  {
   "cell_type": "markdown",
   "metadata": {
    "jp-MarkdownHeadingCollapsed": true,
    "tags": []
   },
   "source": [
    "#### 7.0 Rename Columns, SAT 2019 DF"
   ]
  },
  {
   "cell_type": "code",
   "execution_count": 205,
   "metadata": {},
   "outputs": [],
   "source": [
    "sat19_col_dict = {\n",
    "    \"State\": \"state_or_territory\",\n",
    "    \"Participation Rate\": \"sat_participation_rate\",\n",
    "    \"EBRW\": \"ebrw\",\n",
    "    \"Math\": \"math\",\n",
    "    \"Total\": \"sat_total\"\n",
    "}"
   ]
  },
  {
   "cell_type": "code",
   "execution_count": 206,
   "metadata": {},
   "outputs": [],
   "source": [
    "sat_19_df.rename(columns = sat19_col_dict,\n",
    "                 inplace = True)"
   ]
  },
  {
   "cell_type": "code",
   "execution_count": 207,
   "metadata": {},
   "outputs": [
    {
     "data": {
      "text/html": [
       "<div>\n",
       "<style scoped>\n",
       "    .dataframe tbody tr th:only-of-type {\n",
       "        vertical-align: middle;\n",
       "    }\n",
       "\n",
       "    .dataframe tbody tr th {\n",
       "        vertical-align: top;\n",
       "    }\n",
       "\n",
       "    .dataframe thead th {\n",
       "        text-align: right;\n",
       "    }\n",
       "</style>\n",
       "<table border=\"1\" class=\"dataframe\">\n",
       "  <thead>\n",
       "    <tr style=\"text-align: right;\">\n",
       "      <th></th>\n",
       "      <th>state_or_territory</th>\n",
       "      <th>sat_participation_rate</th>\n",
       "      <th>ebrw</th>\n",
       "      <th>math</th>\n",
       "      <th>sat_total</th>\n",
       "    </tr>\n",
       "  </thead>\n",
       "  <tbody>\n",
       "    <tr>\n",
       "      <th>0</th>\n",
       "      <td>Alabama</td>\n",
       "      <td>0.07</td>\n",
       "      <td>583</td>\n",
       "      <td>560</td>\n",
       "      <td>1143</td>\n",
       "    </tr>\n",
       "    <tr>\n",
       "      <th>1</th>\n",
       "      <td>Alaska</td>\n",
       "      <td>0.41</td>\n",
       "      <td>556</td>\n",
       "      <td>541</td>\n",
       "      <td>1097</td>\n",
       "    </tr>\n",
       "    <tr>\n",
       "      <th>2</th>\n",
       "      <td>Arizona</td>\n",
       "      <td>0.31</td>\n",
       "      <td>569</td>\n",
       "      <td>565</td>\n",
       "      <td>1134</td>\n",
       "    </tr>\n",
       "    <tr>\n",
       "      <th>3</th>\n",
       "      <td>Arkansas</td>\n",
       "      <td>0.06</td>\n",
       "      <td>582</td>\n",
       "      <td>559</td>\n",
       "      <td>1141</td>\n",
       "    </tr>\n",
       "    <tr>\n",
       "      <th>4</th>\n",
       "      <td>California</td>\n",
       "      <td>0.63</td>\n",
       "      <td>534</td>\n",
       "      <td>531</td>\n",
       "      <td>1065</td>\n",
       "    </tr>\n",
       "  </tbody>\n",
       "</table>\n",
       "</div>"
      ],
      "text/plain": [
       "  state_or_territory  sat_participation_rate  ebrw  math  sat_total\n",
       "0            Alabama                    0.07   583   560       1143\n",
       "1             Alaska                    0.41   556   541       1097\n",
       "2            Arizona                    0.31   569   565       1134\n",
       "3           Arkansas                    0.06   582   559       1141\n",
       "4         California                    0.63   534   531       1065"
      ]
     },
     "execution_count": 207,
     "metadata": {},
     "output_type": "execute_result"
    }
   ],
   "source": [
    "sat_19_df.head()"
   ]
  },
  {
   "cell_type": "markdown",
   "metadata": {
    "jp-MarkdownHeadingCollapsed": true,
    "tags": []
   },
   "source": [
    "#### 8.0 Drop Unnecessary Rows, SAT 2019 DF\n",
    "\n",
    "Already did that above, while changing data type for participation rate. NB: Eliminating the section level columns would be acceptable because we won't use them in this analysis."
   ]
  },
  {
   "cell_type": "markdown",
   "metadata": {
    "tags": []
   },
   "source": [
    "#### 8.1 Dropping ebrw and math columns"
   ]
  },
  {
   "cell_type": "code",
   "execution_count": 571,
   "metadata": {},
   "outputs": [],
   "source": [
    "sat_19_df.drop(columns = ['ebrw', 'math'],\n",
    "              inplace = True)"
   ]
  },
  {
   "cell_type": "code",
   "execution_count": 572,
   "metadata": {},
   "outputs": [
    {
     "data": {
      "text/html": [
       "<div>\n",
       "<style scoped>\n",
       "    .dataframe tbody tr th:only-of-type {\n",
       "        vertical-align: middle;\n",
       "    }\n",
       "\n",
       "    .dataframe tbody tr th {\n",
       "        vertical-align: top;\n",
       "    }\n",
       "\n",
       "    .dataframe thead th {\n",
       "        text-align: right;\n",
       "    }\n",
       "</style>\n",
       "<table border=\"1\" class=\"dataframe\">\n",
       "  <thead>\n",
       "    <tr style=\"text-align: right;\">\n",
       "      <th></th>\n",
       "      <th>state_or_territory</th>\n",
       "      <th>sat_participation_rate</th>\n",
       "      <th>sat_total</th>\n",
       "    </tr>\n",
       "  </thead>\n",
       "  <tbody>\n",
       "    <tr>\n",
       "      <th>0</th>\n",
       "      <td>Alabama</td>\n",
       "      <td>0.07</td>\n",
       "      <td>1143</td>\n",
       "    </tr>\n",
       "    <tr>\n",
       "      <th>1</th>\n",
       "      <td>Alaska</td>\n",
       "      <td>0.41</td>\n",
       "      <td>1097</td>\n",
       "    </tr>\n",
       "    <tr>\n",
       "      <th>2</th>\n",
       "      <td>Arizona</td>\n",
       "      <td>0.31</td>\n",
       "      <td>1134</td>\n",
       "    </tr>\n",
       "    <tr>\n",
       "      <th>3</th>\n",
       "      <td>Arkansas</td>\n",
       "      <td>0.06</td>\n",
       "      <td>1141</td>\n",
       "    </tr>\n",
       "    <tr>\n",
       "      <th>4</th>\n",
       "      <td>California</td>\n",
       "      <td>0.63</td>\n",
       "      <td>1065</td>\n",
       "    </tr>\n",
       "  </tbody>\n",
       "</table>\n",
       "</div>"
      ],
      "text/plain": [
       "  state_or_territory  sat_participation_rate  sat_total\n",
       "0            Alabama                    0.07       1143\n",
       "1             Alaska                    0.41       1097\n",
       "2            Arizona                    0.31       1134\n",
       "3           Arkansas                    0.06       1141\n",
       "4         California                    0.63       1065"
      ]
     },
     "execution_count": 572,
     "metadata": {},
     "output_type": "execute_result"
    }
   ],
   "source": [
    "sat_19_df.head()"
   ]
  },
  {
   "cell_type": "markdown",
   "metadata": {
    "jp-MarkdownHeadingCollapsed": true,
    "tags": []
   },
   "source": [
    "# ACT 2019 DF"
   ]
  },
  {
   "cell_type": "markdown",
   "metadata": {
    "jp-MarkdownHeadingCollapsed": true,
    "tags": []
   },
   "source": [
    "#### 0.0 Importing Data Set, ACT 2019 DF"
   ]
  },
  {
   "cell_type": "code",
   "execution_count": 155,
   "metadata": {},
   "outputs": [],
   "source": [
    "raw_act2019_df = pd.read_csv('../data/act_2019.csv')\n",
    "\n",
    "act2019_df = raw_act2019_df.copy()"
   ]
  },
  {
   "cell_type": "markdown",
   "metadata": {
    "jp-MarkdownHeadingCollapsed": true,
    "tags": []
   },
   "source": [
    "#### 1.0 Printing the head, ACT 2019 DF\n",
    "\n",
    "It turns out the section data is missing from this data NB: the 2017 ACT data has it, if a section level comparison becomes desireable."
   ]
  },
  {
   "cell_type": "code",
   "execution_count": 156,
   "metadata": {},
   "outputs": [
    {
     "data": {
      "text/html": [
       "<div>\n",
       "<style scoped>\n",
       "    .dataframe tbody tr th:only-of-type {\n",
       "        vertical-align: middle;\n",
       "    }\n",
       "\n",
       "    .dataframe tbody tr th {\n",
       "        vertical-align: top;\n",
       "    }\n",
       "\n",
       "    .dataframe thead th {\n",
       "        text-align: right;\n",
       "    }\n",
       "</style>\n",
       "<table border=\"1\" class=\"dataframe\">\n",
       "  <thead>\n",
       "    <tr style=\"text-align: right;\">\n",
       "      <th></th>\n",
       "      <th>State</th>\n",
       "      <th>Participation</th>\n",
       "      <th>Composite</th>\n",
       "    </tr>\n",
       "  </thead>\n",
       "  <tbody>\n",
       "    <tr>\n",
       "      <th>0</th>\n",
       "      <td>Alabama</td>\n",
       "      <td>100%</td>\n",
       "      <td>18.9</td>\n",
       "    </tr>\n",
       "    <tr>\n",
       "      <th>1</th>\n",
       "      <td>Alaska</td>\n",
       "      <td>38%</td>\n",
       "      <td>20.1</td>\n",
       "    </tr>\n",
       "    <tr>\n",
       "      <th>2</th>\n",
       "      <td>Arizona</td>\n",
       "      <td>73%</td>\n",
       "      <td>19.0</td>\n",
       "    </tr>\n",
       "    <tr>\n",
       "      <th>3</th>\n",
       "      <td>Arkansas</td>\n",
       "      <td>100%</td>\n",
       "      <td>19.3</td>\n",
       "    </tr>\n",
       "    <tr>\n",
       "      <th>4</th>\n",
       "      <td>California</td>\n",
       "      <td>23%</td>\n",
       "      <td>22.6</td>\n",
       "    </tr>\n",
       "  </tbody>\n",
       "</table>\n",
       "</div>"
      ],
      "text/plain": [
       "        State Participation  Composite\n",
       "0     Alabama          100%       18.9\n",
       "1      Alaska           38%       20.1\n",
       "2     Arizona           73%       19.0\n",
       "3    Arkansas          100%       19.3\n",
       "4  California           23%       22.6"
      ]
     },
     "execution_count": 156,
     "metadata": {},
     "output_type": "execute_result"
    }
   ],
   "source": [
    "act2019_df.head()"
   ]
  },
  {
   "cell_type": "markdown",
   "metadata": {
    "jp-MarkdownHeadingCollapsed": true,
    "tags": []
   },
   "source": [
    "#### 2.0 Checking for Nulls, ACT 2019 DF\n",
    "\n",
    "No nulls"
   ]
  },
  {
   "cell_type": "code",
   "execution_count": 158,
   "metadata": {},
   "outputs": [
    {
     "data": {
      "text/plain": [
       "State            0\n",
       "Participation    0\n",
       "Composite        0\n",
       "dtype: int64"
      ]
     },
     "execution_count": 158,
     "metadata": {},
     "output_type": "execute_result"
    }
   ],
   "source": [
    "act2019_df.isnull().sum()"
   ]
  },
  {
   "cell_type": "markdown",
   "metadata": {
    "jp-MarkdownHeadingCollapsed": true,
    "tags": []
   },
   "source": [
    "#### 3.0 Looking for Obvious Errors in the Data, ACT 2019 DF\n",
    "\n",
    ".dytpes reveals that the participation rate needs to be converted from a string with '%' to a float.\n",
    "\n",
    ".describe() shows no surprises.\n",
    "\n",
    "There are 52 states here, where as there are 51 states and territories in the sat_2019_df once I was finished. I'll handle this once I've merged the data frames."
   ]
  },
  {
   "cell_type": "code",
   "execution_count": 159,
   "metadata": {},
   "outputs": [
    {
     "data": {
      "text/plain": [
       "State             object\n",
       "Participation     object\n",
       "Composite        float64\n",
       "dtype: object"
      ]
     },
     "execution_count": 159,
     "metadata": {},
     "output_type": "execute_result"
    }
   ],
   "source": [
    "act2019_df.dtypes"
   ]
  },
  {
   "cell_type": "code",
   "execution_count": 160,
   "metadata": {},
   "outputs": [
    {
     "data": {
      "text/html": [
       "<div>\n",
       "<style scoped>\n",
       "    .dataframe tbody tr th:only-of-type {\n",
       "        vertical-align: middle;\n",
       "    }\n",
       "\n",
       "    .dataframe tbody tr th {\n",
       "        vertical-align: top;\n",
       "    }\n",
       "\n",
       "    .dataframe thead th {\n",
       "        text-align: right;\n",
       "    }\n",
       "</style>\n",
       "<table border=\"1\" class=\"dataframe\">\n",
       "  <thead>\n",
       "    <tr style=\"text-align: right;\">\n",
       "      <th></th>\n",
       "      <th>Composite</th>\n",
       "    </tr>\n",
       "  </thead>\n",
       "  <tbody>\n",
       "    <tr>\n",
       "      <th>count</th>\n",
       "      <td>52.000000</td>\n",
       "    </tr>\n",
       "    <tr>\n",
       "      <th>mean</th>\n",
       "      <td>21.450000</td>\n",
       "    </tr>\n",
       "    <tr>\n",
       "      <th>std</th>\n",
       "      <td>2.175487</td>\n",
       "    </tr>\n",
       "    <tr>\n",
       "      <th>min</th>\n",
       "      <td>17.900000</td>\n",
       "    </tr>\n",
       "    <tr>\n",
       "      <th>25%</th>\n",
       "      <td>19.800000</td>\n",
       "    </tr>\n",
       "    <tr>\n",
       "      <th>50%</th>\n",
       "      <td>20.950000</td>\n",
       "    </tr>\n",
       "    <tr>\n",
       "      <th>75%</th>\n",
       "      <td>23.650000</td>\n",
       "    </tr>\n",
       "    <tr>\n",
       "      <th>max</th>\n",
       "      <td>25.500000</td>\n",
       "    </tr>\n",
       "  </tbody>\n",
       "</table>\n",
       "</div>"
      ],
      "text/plain": [
       "       Composite\n",
       "count  52.000000\n",
       "mean   21.450000\n",
       "std     2.175487\n",
       "min    17.900000\n",
       "25%    19.800000\n",
       "50%    20.950000\n",
       "75%    23.650000\n",
       "max    25.500000"
      ]
     },
     "execution_count": 160,
     "metadata": {},
     "output_type": "execute_result"
    }
   ],
   "source": [
    "act2019_df.describe()"
   ]
  },
  {
   "cell_type": "code",
   "execution_count": 161,
   "metadata": {},
   "outputs": [
    {
     "data": {
      "text/plain": [
       "(52, 3)"
      ]
     },
     "execution_count": 161,
     "metadata": {},
     "output_type": "execute_result"
    }
   ],
   "source": [
    "act2019_df.shape"
   ]
  },
  {
   "cell_type": "code",
   "execution_count": 168,
   "metadata": {},
   "outputs": [
    {
     "data": {
      "text/plain": [
       "100%    15\n",
       "22%      2\n",
       "49%      2\n",
       "21%      2\n",
       "20%      1\n",
       "39%      1\n",
       "24%      1\n",
       "75%      1\n",
       "78%      1\n",
       "12%      1\n",
       "19%      1\n",
       "17%      1\n",
       "42%      1\n",
       "96%      1\n",
       "63%      1\n",
       "25%      1\n",
       "14%      1\n",
       "82%      1\n",
       "95%      1\n",
       "28%      1\n",
       "38%      1\n",
       "6%       1\n",
       "72%      1\n",
       "66%      1\n",
       "29%      1\n",
       "35%      1\n",
       "31%      1\n",
       "80%      1\n",
       "54%      1\n",
       "32%      1\n",
       "13%      1\n",
       "27%      1\n",
       "23%      1\n",
       "73%      1\n",
       "52%      1\n",
       "Name: Participation, dtype: int64"
      ]
     },
     "execution_count": 168,
     "metadata": {},
     "output_type": "execute_result"
    }
   ],
   "source": [
    "act2019_df['Participation'].value_counts()"
   ]
  },
  {
   "cell_type": "markdown",
   "metadata": {
    "jp-MarkdownHeadingCollapsed": true,
    "tags": []
   },
   "source": [
    "#### 4.0 Fix Errors, ACT 2019 DF\n",
    "\n",
    "I converted the Participation Rate to floats."
   ]
  },
  {
   "cell_type": "code",
   "execution_count": 208,
   "metadata": {},
   "outputs": [],
   "source": [
    "act2019_df['Participation'] = act2019_df['Participation'].map(lambda x : per_to_dec(x))"
   ]
  },
  {
   "cell_type": "code",
   "execution_count": 209,
   "metadata": {},
   "outputs": [
    {
     "data": {
      "text/html": [
       "<div>\n",
       "<style scoped>\n",
       "    .dataframe tbody tr th:only-of-type {\n",
       "        vertical-align: middle;\n",
       "    }\n",
       "\n",
       "    .dataframe tbody tr th {\n",
       "        vertical-align: top;\n",
       "    }\n",
       "\n",
       "    .dataframe thead th {\n",
       "        text-align: right;\n",
       "    }\n",
       "</style>\n",
       "<table border=\"1\" class=\"dataframe\">\n",
       "  <thead>\n",
       "    <tr style=\"text-align: right;\">\n",
       "      <th></th>\n",
       "      <th>State</th>\n",
       "      <th>Participation</th>\n",
       "      <th>Composite</th>\n",
       "    </tr>\n",
       "  </thead>\n",
       "  <tbody>\n",
       "    <tr>\n",
       "      <th>0</th>\n",
       "      <td>Alabama</td>\n",
       "      <td>1.00</td>\n",
       "      <td>18.9</td>\n",
       "    </tr>\n",
       "    <tr>\n",
       "      <th>1</th>\n",
       "      <td>Alaska</td>\n",
       "      <td>0.38</td>\n",
       "      <td>20.1</td>\n",
       "    </tr>\n",
       "    <tr>\n",
       "      <th>2</th>\n",
       "      <td>Arizona</td>\n",
       "      <td>0.73</td>\n",
       "      <td>19.0</td>\n",
       "    </tr>\n",
       "    <tr>\n",
       "      <th>3</th>\n",
       "      <td>Arkansas</td>\n",
       "      <td>1.00</td>\n",
       "      <td>19.3</td>\n",
       "    </tr>\n",
       "    <tr>\n",
       "      <th>4</th>\n",
       "      <td>California</td>\n",
       "      <td>0.23</td>\n",
       "      <td>22.6</td>\n",
       "    </tr>\n",
       "  </tbody>\n",
       "</table>\n",
       "</div>"
      ],
      "text/plain": [
       "        State  Participation  Composite\n",
       "0     Alabama           1.00       18.9\n",
       "1      Alaska           0.38       20.1\n",
       "2     Arizona           0.73       19.0\n",
       "3    Arkansas           1.00       19.3\n",
       "4  California           0.23       22.6"
      ]
     },
     "execution_count": 209,
     "metadata": {},
     "output_type": "execute_result"
    }
   ],
   "source": [
    "act2019_df.head()"
   ]
  },
  {
   "cell_type": "markdown",
   "metadata": {
    "tags": []
   },
   "source": [
    "#### 5.0 Display Data Types, ACT 2019 DF\n",
    "\n",
    "I already did this above."
   ]
  },
  {
   "cell_type": "markdown",
   "metadata": {},
   "source": [
    "#### 6.0 Correct Data Types, ACT 2019 DF\n",
    "\n",
    "I already did this above."
   ]
  },
  {
   "cell_type": "markdown",
   "metadata": {
    "jp-MarkdownHeadingCollapsed": true,
    "tags": []
   },
   "source": [
    "#### 7.0 Rename Columns, ACT 2019 DF"
   ]
  },
  {
   "cell_type": "code",
   "execution_count": 210,
   "metadata": {},
   "outputs": [],
   "source": [
    "act_col_dict = {\n",
    "    'State': 'state_or_territory',\n",
    "    'Participation': 'act_participation_rate',\n",
    "    'Composite': 'act_composite'\n",
    "}"
   ]
  },
  {
   "cell_type": "code",
   "execution_count": 211,
   "metadata": {},
   "outputs": [],
   "source": [
    "act2019_df.rename(columns = act_col_dict,\n",
    "                 inplace = True)"
   ]
  },
  {
   "cell_type": "code",
   "execution_count": 212,
   "metadata": {},
   "outputs": [
    {
     "data": {
      "text/html": [
       "<div>\n",
       "<style scoped>\n",
       "    .dataframe tbody tr th:only-of-type {\n",
       "        vertical-align: middle;\n",
       "    }\n",
       "\n",
       "    .dataframe tbody tr th {\n",
       "        vertical-align: top;\n",
       "    }\n",
       "\n",
       "    .dataframe thead th {\n",
       "        text-align: right;\n",
       "    }\n",
       "</style>\n",
       "<table border=\"1\" class=\"dataframe\">\n",
       "  <thead>\n",
       "    <tr style=\"text-align: right;\">\n",
       "      <th></th>\n",
       "      <th>state_or_territory</th>\n",
       "      <th>act_participation_rate</th>\n",
       "      <th>act_composite</th>\n",
       "    </tr>\n",
       "  </thead>\n",
       "  <tbody>\n",
       "    <tr>\n",
       "      <th>0</th>\n",
       "      <td>Alabama</td>\n",
       "      <td>1.00</td>\n",
       "      <td>18.9</td>\n",
       "    </tr>\n",
       "    <tr>\n",
       "      <th>1</th>\n",
       "      <td>Alaska</td>\n",
       "      <td>0.38</td>\n",
       "      <td>20.1</td>\n",
       "    </tr>\n",
       "    <tr>\n",
       "      <th>2</th>\n",
       "      <td>Arizona</td>\n",
       "      <td>0.73</td>\n",
       "      <td>19.0</td>\n",
       "    </tr>\n",
       "    <tr>\n",
       "      <th>3</th>\n",
       "      <td>Arkansas</td>\n",
       "      <td>1.00</td>\n",
       "      <td>19.3</td>\n",
       "    </tr>\n",
       "    <tr>\n",
       "      <th>4</th>\n",
       "      <td>California</td>\n",
       "      <td>0.23</td>\n",
       "      <td>22.6</td>\n",
       "    </tr>\n",
       "  </tbody>\n",
       "</table>\n",
       "</div>"
      ],
      "text/plain": [
       "  state_or_territory  act_participation_rate  act_composite\n",
       "0            Alabama                    1.00           18.9\n",
       "1             Alaska                    0.38           20.1\n",
       "2            Arizona                    0.73           19.0\n",
       "3           Arkansas                    1.00           19.3\n",
       "4         California                    0.23           22.6"
      ]
     },
     "execution_count": 212,
     "metadata": {},
     "output_type": "execute_result"
    }
   ],
   "source": [
    "act2019_df.head()"
   ]
  },
  {
   "cell_type": "markdown",
   "metadata": {
    "jp-MarkdownHeadingCollapsed": true,
    "tags": []
   },
   "source": [
    "#### 8.0 Drop Unnecessary Rows, ACT 2019 DF\n",
    "\n",
    "I waited to eliminate rows with incomplete data until after I merged the SAT and ACT tables"
   ]
  },
  {
   "cell_type": "markdown",
   "metadata": {
    "jp-MarkdownHeadingCollapsed": true,
    "tags": []
   },
   "source": [
    "# SAT/ACT by College DF\n",
    "\n",
    "I'm using this to determine if there are any discrepancies between SAT and ACT scores once converted."
   ]
  },
  {
   "cell_type": "markdown",
   "metadata": {
    "tags": []
   },
   "source": [
    "#### 0.0 Importing Data Set, SAT/ACT by College DF"
   ]
  },
  {
   "cell_type": "code",
   "execution_count": 821,
   "metadata": {},
   "outputs": [],
   "source": [
    "raw_colleges_df = pd.read_csv('../data/sat_act_by_college.csv')\n",
    "\n",
    "colleges_df = raw_colleges_df.copy()"
   ]
  },
  {
   "cell_type": "markdown",
   "metadata": {
    "tags": []
   },
   "source": [
    "#### 1.0 Printing the head, SAT/ACT by College DF\n",
    "\n",
    "It turns out the section data is missing from this data NB: the 2017 ACT data has it, if a section level comparison becomes desireable."
   ]
  },
  {
   "cell_type": "code",
   "execution_count": 822,
   "metadata": {},
   "outputs": [
    {
     "data": {
      "text/html": [
       "<div>\n",
       "<style scoped>\n",
       "    .dataframe tbody tr th:only-of-type {\n",
       "        vertical-align: middle;\n",
       "    }\n",
       "\n",
       "    .dataframe tbody tr th {\n",
       "        vertical-align: top;\n",
       "    }\n",
       "\n",
       "    .dataframe thead th {\n",
       "        text-align: right;\n",
       "    }\n",
       "</style>\n",
       "<table border=\"1\" class=\"dataframe\">\n",
       "  <thead>\n",
       "    <tr style=\"text-align: right;\">\n",
       "      <th></th>\n",
       "      <th>School</th>\n",
       "      <th>Test Optional?</th>\n",
       "      <th>Applies to Class Year(s)</th>\n",
       "      <th>Policy Details</th>\n",
       "      <th>Number of Applicants</th>\n",
       "      <th>Accept Rate</th>\n",
       "      <th>SAT Total 25th-75th Percentile</th>\n",
       "      <th>ACT Total 25th-75th Percentile</th>\n",
       "    </tr>\n",
       "  </thead>\n",
       "  <tbody>\n",
       "    <tr>\n",
       "      <th>0</th>\n",
       "      <td>Stanford University</td>\n",
       "      <td>Yes</td>\n",
       "      <td>2021</td>\n",
       "      <td>Stanford has adopted a one-year test optional ...</td>\n",
       "      <td>47452</td>\n",
       "      <td>4.3%</td>\n",
       "      <td>1440-1570</td>\n",
       "      <td>32-35</td>\n",
       "    </tr>\n",
       "    <tr>\n",
       "      <th>1</th>\n",
       "      <td>Harvard College</td>\n",
       "      <td>Yes</td>\n",
       "      <td>2021</td>\n",
       "      <td>Harvard has adopted a one-year test optional p...</td>\n",
       "      <td>42749</td>\n",
       "      <td>4.7%</td>\n",
       "      <td>1460-1580</td>\n",
       "      <td>33-35</td>\n",
       "    </tr>\n",
       "    <tr>\n",
       "      <th>2</th>\n",
       "      <td>Princeton University</td>\n",
       "      <td>Yes</td>\n",
       "      <td>2021</td>\n",
       "      <td>Princeton has adopted a one-year test optional...</td>\n",
       "      <td>35370</td>\n",
       "      <td>5.5%</td>\n",
       "      <td>1440-1570</td>\n",
       "      <td>32-35</td>\n",
       "    </tr>\n",
       "    <tr>\n",
       "      <th>3</th>\n",
       "      <td>Columbia University</td>\n",
       "      <td>Yes</td>\n",
       "      <td>2021</td>\n",
       "      <td>Columbia has adopted a one-year test optional ...</td>\n",
       "      <td>40203</td>\n",
       "      <td>5.5%</td>\n",
       "      <td>1450-1560</td>\n",
       "      <td>33-35</td>\n",
       "    </tr>\n",
       "    <tr>\n",
       "      <th>4</th>\n",
       "      <td>Yale University</td>\n",
       "      <td>Yes</td>\n",
       "      <td>2021</td>\n",
       "      <td>Yale has adopted a one-year test optional poli...</td>\n",
       "      <td>36844</td>\n",
       "      <td>6.1%</td>\n",
       "      <td>1460-1570</td>\n",
       "      <td>33-35</td>\n",
       "    </tr>\n",
       "  </tbody>\n",
       "</table>\n",
       "</div>"
      ],
      "text/plain": [
       "                 School Test Optional? Applies to Class Year(s)  \\\n",
       "0   Stanford University            Yes                     2021   \n",
       "1       Harvard College            Yes                     2021   \n",
       "2  Princeton University            Yes                     2021   \n",
       "3   Columbia University            Yes                     2021   \n",
       "4       Yale University            Yes                     2021   \n",
       "\n",
       "                                      Policy Details  Number of Applicants  \\\n",
       "0  Stanford has adopted a one-year test optional ...                 47452   \n",
       "1  Harvard has adopted a one-year test optional p...                 42749   \n",
       "2  Princeton has adopted a one-year test optional...                 35370   \n",
       "3  Columbia has adopted a one-year test optional ...                 40203   \n",
       "4  Yale has adopted a one-year test optional poli...                 36844   \n",
       "\n",
       "  Accept Rate SAT Total 25th-75th Percentile ACT Total 25th-75th Percentile  \n",
       "0        4.3%                      1440-1570                          32-35  \n",
       "1        4.7%                      1460-1580                          33-35  \n",
       "2        5.5%                      1440-1570                          32-35  \n",
       "3        5.5%                      1450-1560                          33-35  \n",
       "4        6.1%                      1460-1570                          33-35  "
      ]
     },
     "execution_count": 822,
     "metadata": {},
     "output_type": "execute_result"
    }
   ],
   "source": [
    "colleges_df.head()"
   ]
  },
  {
   "cell_type": "markdown",
   "metadata": {
    "tags": []
   },
   "source": [
    "#### 2.0 Checking for Nulls, SAT/ACT by College DF\n",
    "\n",
    "There are some nulls for \"Applies to Class Year(s)\". Since I'm not interested in this, I'm going to delete that column."
   ]
  },
  {
   "cell_type": "code",
   "execution_count": 823,
   "metadata": {},
   "outputs": [
    {
     "data": {
      "text/plain": [
       "School                             0\n",
       "Test Optional?                     0\n",
       "Applies to Class Year(s)          26\n",
       "Policy Details                     0\n",
       "Number of Applicants               0\n",
       "Accept Rate                        0\n",
       "SAT Total 25th-75th Percentile     0\n",
       "ACT Total 25th-75th Percentile     0\n",
       "dtype: int64"
      ]
     },
     "execution_count": 823,
     "metadata": {},
     "output_type": "execute_result"
    }
   ],
   "source": [
    "colleges_df.isnull().sum()"
   ]
  },
  {
   "cell_type": "markdown",
   "metadata": {
    "tags": []
   },
   "source": [
    "#### 3.0 Looking for Obvious Errors in the Data, SAT/ACT by College DF\n",
    "\n",
    ".dytpes confirms that the 25th-75th Percentile will need to be cleaned to a form that's usable.\n",
    "\n",
    ".describe() showed a school with ~111k applicants. I checked, and that's UCLA. Further investigaction suggests that the current figure is actually a lot higher (https://newsroom.ucla.edu/releases/increase-in-top-california-applicants-for-fall-2022)."
   ]
  },
  {
   "cell_type": "code",
   "execution_count": 824,
   "metadata": {},
   "outputs": [
    {
     "data": {
      "text/plain": [
       "School                            object\n",
       "Test Optional?                    object\n",
       "Applies to Class Year(s)          object\n",
       "Policy Details                    object\n",
       "Number of Applicants               int64\n",
       "Accept Rate                       object\n",
       "SAT Total 25th-75th Percentile    object\n",
       "ACT Total 25th-75th Percentile    object\n",
       "dtype: object"
      ]
     },
     "execution_count": 824,
     "metadata": {},
     "output_type": "execute_result"
    }
   ],
   "source": [
    "colleges_df.dtypes"
   ]
  },
  {
   "cell_type": "code",
   "execution_count": 825,
   "metadata": {},
   "outputs": [
    {
     "data": {
      "text/html": [
       "<div>\n",
       "<style scoped>\n",
       "    .dataframe tbody tr th:only-of-type {\n",
       "        vertical-align: middle;\n",
       "    }\n",
       "\n",
       "    .dataframe tbody tr th {\n",
       "        vertical-align: top;\n",
       "    }\n",
       "\n",
       "    .dataframe thead th {\n",
       "        text-align: right;\n",
       "    }\n",
       "</style>\n",
       "<table border=\"1\" class=\"dataframe\">\n",
       "  <thead>\n",
       "    <tr style=\"text-align: right;\">\n",
       "      <th></th>\n",
       "      <th>Number of Applicants</th>\n",
       "    </tr>\n",
       "  </thead>\n",
       "  <tbody>\n",
       "    <tr>\n",
       "      <th>count</th>\n",
       "      <td>416.000000</td>\n",
       "    </tr>\n",
       "    <tr>\n",
       "      <th>mean</th>\n",
       "      <td>17481.759615</td>\n",
       "    </tr>\n",
       "    <tr>\n",
       "      <th>std</th>\n",
       "      <td>17447.621897</td>\n",
       "    </tr>\n",
       "    <tr>\n",
       "      <th>min</th>\n",
       "      <td>211.000000</td>\n",
       "    </tr>\n",
       "    <tr>\n",
       "      <th>25%</th>\n",
       "      <td>5313.000000</td>\n",
       "    </tr>\n",
       "    <tr>\n",
       "      <th>50%</th>\n",
       "      <td>11622.000000</td>\n",
       "    </tr>\n",
       "    <tr>\n",
       "      <th>75%</th>\n",
       "      <td>23599.750000</td>\n",
       "    </tr>\n",
       "    <tr>\n",
       "      <th>max</th>\n",
       "      <td>111322.000000</td>\n",
       "    </tr>\n",
       "  </tbody>\n",
       "</table>\n",
       "</div>"
      ],
      "text/plain": [
       "       Number of Applicants\n",
       "count            416.000000\n",
       "mean           17481.759615\n",
       "std            17447.621897\n",
       "min              211.000000\n",
       "25%             5313.000000\n",
       "50%            11622.000000\n",
       "75%            23599.750000\n",
       "max           111322.000000"
      ]
     },
     "execution_count": 825,
     "metadata": {},
     "output_type": "execute_result"
    }
   ],
   "source": [
    "colleges_df.describe()"
   ]
  },
  {
   "cell_type": "code",
   "execution_count": 826,
   "metadata": {},
   "outputs": [
    {
     "data": {
      "text/html": [
       "<div>\n",
       "<style scoped>\n",
       "    .dataframe tbody tr th:only-of-type {\n",
       "        vertical-align: middle;\n",
       "    }\n",
       "\n",
       "    .dataframe tbody tr th {\n",
       "        vertical-align: top;\n",
       "    }\n",
       "\n",
       "    .dataframe thead th {\n",
       "        text-align: right;\n",
       "    }\n",
       "</style>\n",
       "<table border=\"1\" class=\"dataframe\">\n",
       "  <thead>\n",
       "    <tr style=\"text-align: right;\">\n",
       "      <th></th>\n",
       "      <th>School</th>\n",
       "      <th>Test Optional?</th>\n",
       "      <th>Applies to Class Year(s)</th>\n",
       "      <th>Policy Details</th>\n",
       "      <th>Number of Applicants</th>\n",
       "      <th>Accept Rate</th>\n",
       "      <th>SAT Total 25th-75th Percentile</th>\n",
       "      <th>ACT Total 25th-75th Percentile</th>\n",
       "    </tr>\n",
       "  </thead>\n",
       "  <tbody>\n",
       "    <tr>\n",
       "      <th>24</th>\n",
       "      <td>University of California—​Los Angeles</td>\n",
       "      <td>Yes</td>\n",
       "      <td>2021 2022 2023 2024</td>\n",
       "      <td>The UC system has adopted a two-year test opti...</td>\n",
       "      <td>111322</td>\n",
       "      <td>12.3%</td>\n",
       "      <td>1290-1510</td>\n",
       "      <td>27-34</td>\n",
       "    </tr>\n",
       "  </tbody>\n",
       "</table>\n",
       "</div>"
      ],
      "text/plain": [
       "                                   School Test Optional?  \\\n",
       "24  University of California—​Los Angeles            Yes   \n",
       "\n",
       "   Applies to Class Year(s)  \\\n",
       "24      2021 2022 2023 2024   \n",
       "\n",
       "                                       Policy Details  Number of Applicants  \\\n",
       "24  The UC system has adopted a two-year test opti...                111322   \n",
       "\n",
       "   Accept Rate SAT Total 25th-75th Percentile ACT Total 25th-75th Percentile  \n",
       "24       12.3%                      1290-1510                          27-34  "
      ]
     },
     "execution_count": 826,
     "metadata": {},
     "output_type": "execute_result"
    }
   ],
   "source": [
    "colleges_df[colleges_df['Number of Applicants'] == 111322]"
   ]
  },
  {
   "cell_type": "markdown",
   "metadata": {
    "jp-MarkdownHeadingCollapsed": true,
    "tags": []
   },
   "source": [
    "#### 4.0 Fix Errors, SAT/ACT by College DF\n",
    "\n",
    "No errors discerned."
   ]
  },
  {
   "cell_type": "markdown",
   "metadata": {
    "tags": []
   },
   "source": [
    "#### 5.0 Display Data Types, SAT/ACT by College DF\n",
    "\n",
    "I already did this above."
   ]
  },
  {
   "cell_type": "markdown",
   "metadata": {
    "tags": []
   },
   "source": [
    "#### 6.0 Correct Data Types, SAT/ACT by College DF\n",
    "\n",
    "This website helped me turn the ranges of percentiles into separate columns after I'd made lists out of them.\n",
    "\n",
    "https://datascienceparichay.com/article/split-pandas-column-of-lists-into-multiple-columns/\n",
    "\n",
    "split_df = pd.DataFrame(df['Values'].tolist(), columns=['v1', 'v2', 'v3'])\n",
    "\n",
    "and\n",
    "\n",
    "df = pd.concat([df, split_df], axis=1)"
   ]
  },
  {
   "cell_type": "code",
   "execution_count": 827,
   "metadata": {},
   "outputs": [
    {
     "data": {
      "text/html": [
       "<div>\n",
       "<style scoped>\n",
       "    .dataframe tbody tr th:only-of-type {\n",
       "        vertical-align: middle;\n",
       "    }\n",
       "\n",
       "    .dataframe tbody tr th {\n",
       "        vertical-align: top;\n",
       "    }\n",
       "\n",
       "    .dataframe thead th {\n",
       "        text-align: right;\n",
       "    }\n",
       "</style>\n",
       "<table border=\"1\" class=\"dataframe\">\n",
       "  <thead>\n",
       "    <tr style=\"text-align: right;\">\n",
       "      <th></th>\n",
       "      <th>School</th>\n",
       "      <th>Test Optional?</th>\n",
       "      <th>Applies to Class Year(s)</th>\n",
       "      <th>Policy Details</th>\n",
       "      <th>Number of Applicants</th>\n",
       "      <th>Accept Rate</th>\n",
       "      <th>SAT Total 25th-75th Percentile</th>\n",
       "      <th>ACT Total 25th-75th Percentile</th>\n",
       "    </tr>\n",
       "  </thead>\n",
       "  <tbody>\n",
       "    <tr>\n",
       "      <th>0</th>\n",
       "      <td>Stanford University</td>\n",
       "      <td>Yes</td>\n",
       "      <td>2021</td>\n",
       "      <td>Stanford has adopted a one-year test optional ...</td>\n",
       "      <td>47452</td>\n",
       "      <td>4.3%</td>\n",
       "      <td>1440-1570</td>\n",
       "      <td>32-35</td>\n",
       "    </tr>\n",
       "    <tr>\n",
       "      <th>1</th>\n",
       "      <td>Harvard College</td>\n",
       "      <td>Yes</td>\n",
       "      <td>2021</td>\n",
       "      <td>Harvard has adopted a one-year test optional p...</td>\n",
       "      <td>42749</td>\n",
       "      <td>4.7%</td>\n",
       "      <td>1460-1580</td>\n",
       "      <td>33-35</td>\n",
       "    </tr>\n",
       "  </tbody>\n",
       "</table>\n",
       "</div>"
      ],
      "text/plain": [
       "                School Test Optional? Applies to Class Year(s)  \\\n",
       "0  Stanford University            Yes                     2021   \n",
       "1      Harvard College            Yes                     2021   \n",
       "\n",
       "                                      Policy Details  Number of Applicants  \\\n",
       "0  Stanford has adopted a one-year test optional ...                 47452   \n",
       "1  Harvard has adopted a one-year test optional p...                 42749   \n",
       "\n",
       "  Accept Rate SAT Total 25th-75th Percentile ACT Total 25th-75th Percentile  \n",
       "0        4.3%                      1440-1570                          32-35  \n",
       "1        4.7%                      1460-1580                          33-35  "
      ]
     },
     "execution_count": 827,
     "metadata": {},
     "output_type": "execute_result"
    }
   ],
   "source": [
    "colleges_df.head(2)"
   ]
  },
  {
   "cell_type": "code",
   "execution_count": 828,
   "metadata": {},
   "outputs": [
    {
     "data": {
      "text/plain": [
       "0    [1440, 1570]\n",
       "Name: SAT Total 25th-75th Percentile, dtype: object"
      ]
     },
     "execution_count": 828,
     "metadata": {},
     "output_type": "execute_result"
    }
   ],
   "source": [
    "colleges_df.loc[colleges_df['School'] == 'Stanford University']['SAT Total 25th-75th Percentile'].str.split('-')"
   ]
  },
  {
   "cell_type": "code",
   "execution_count": 829,
   "metadata": {
    "tags": []
   },
   "outputs": [
    {
     "data": {
      "text/plain": [
       "0    [1440, 1570]\n",
       "1    [1460, 1580]\n",
       "2    [1440, 1570]\n",
       "3    [1450, 1560]\n",
       "4    [1460, 1570]\n",
       "Name: SAT Total 25th-75th Percentile, dtype: object"
      ]
     },
     "execution_count": 829,
     "metadata": {},
     "output_type": "execute_result"
    }
   ],
   "source": [
    "colleges_df['SAT Total 25th-75th Percentile'].str.split('-').head()"
   ]
  },
  {
   "cell_type": "code",
   "execution_count": 830,
   "metadata": {},
   "outputs": [],
   "source": [
    "colleges_df['sat_25_75_list'] = colleges_df['SAT Total 25th-75th Percentile'].str.split('-')"
   ]
  },
  {
   "cell_type": "code",
   "execution_count": 831,
   "metadata": {},
   "outputs": [
    {
     "data": {
      "text/html": [
       "<div>\n",
       "<style scoped>\n",
       "    .dataframe tbody tr th:only-of-type {\n",
       "        vertical-align: middle;\n",
       "    }\n",
       "\n",
       "    .dataframe tbody tr th {\n",
       "        vertical-align: top;\n",
       "    }\n",
       "\n",
       "    .dataframe thead th {\n",
       "        text-align: right;\n",
       "    }\n",
       "</style>\n",
       "<table border=\"1\" class=\"dataframe\">\n",
       "  <thead>\n",
       "    <tr style=\"text-align: right;\">\n",
       "      <th></th>\n",
       "      <th>School</th>\n",
       "      <th>Test Optional?</th>\n",
       "      <th>Applies to Class Year(s)</th>\n",
       "      <th>Policy Details</th>\n",
       "      <th>Number of Applicants</th>\n",
       "      <th>Accept Rate</th>\n",
       "      <th>SAT Total 25th-75th Percentile</th>\n",
       "      <th>ACT Total 25th-75th Percentile</th>\n",
       "      <th>sat_25_75_list</th>\n",
       "    </tr>\n",
       "  </thead>\n",
       "  <tbody>\n",
       "    <tr>\n",
       "      <th>0</th>\n",
       "      <td>Stanford University</td>\n",
       "      <td>Yes</td>\n",
       "      <td>2021</td>\n",
       "      <td>Stanford has adopted a one-year test optional ...</td>\n",
       "      <td>47452</td>\n",
       "      <td>4.3%</td>\n",
       "      <td>1440-1570</td>\n",
       "      <td>32-35</td>\n",
       "      <td>[1440, 1570]</td>\n",
       "    </tr>\n",
       "    <tr>\n",
       "      <th>1</th>\n",
       "      <td>Harvard College</td>\n",
       "      <td>Yes</td>\n",
       "      <td>2021</td>\n",
       "      <td>Harvard has adopted a one-year test optional p...</td>\n",
       "      <td>42749</td>\n",
       "      <td>4.7%</td>\n",
       "      <td>1460-1580</td>\n",
       "      <td>33-35</td>\n",
       "      <td>[1460, 1580]</td>\n",
       "    </tr>\n",
       "    <tr>\n",
       "      <th>2</th>\n",
       "      <td>Princeton University</td>\n",
       "      <td>Yes</td>\n",
       "      <td>2021</td>\n",
       "      <td>Princeton has adopted a one-year test optional...</td>\n",
       "      <td>35370</td>\n",
       "      <td>5.5%</td>\n",
       "      <td>1440-1570</td>\n",
       "      <td>32-35</td>\n",
       "      <td>[1440, 1570]</td>\n",
       "    </tr>\n",
       "    <tr>\n",
       "      <th>3</th>\n",
       "      <td>Columbia University</td>\n",
       "      <td>Yes</td>\n",
       "      <td>2021</td>\n",
       "      <td>Columbia has adopted a one-year test optional ...</td>\n",
       "      <td>40203</td>\n",
       "      <td>5.5%</td>\n",
       "      <td>1450-1560</td>\n",
       "      <td>33-35</td>\n",
       "      <td>[1450, 1560]</td>\n",
       "    </tr>\n",
       "    <tr>\n",
       "      <th>4</th>\n",
       "      <td>Yale University</td>\n",
       "      <td>Yes</td>\n",
       "      <td>2021</td>\n",
       "      <td>Yale has adopted a one-year test optional poli...</td>\n",
       "      <td>36844</td>\n",
       "      <td>6.1%</td>\n",
       "      <td>1460-1570</td>\n",
       "      <td>33-35</td>\n",
       "      <td>[1460, 1570]</td>\n",
       "    </tr>\n",
       "  </tbody>\n",
       "</table>\n",
       "</div>"
      ],
      "text/plain": [
       "                 School Test Optional? Applies to Class Year(s)  \\\n",
       "0   Stanford University            Yes                     2021   \n",
       "1       Harvard College            Yes                     2021   \n",
       "2  Princeton University            Yes                     2021   \n",
       "3   Columbia University            Yes                     2021   \n",
       "4       Yale University            Yes                     2021   \n",
       "\n",
       "                                      Policy Details  Number of Applicants  \\\n",
       "0  Stanford has adopted a one-year test optional ...                 47452   \n",
       "1  Harvard has adopted a one-year test optional p...                 42749   \n",
       "2  Princeton has adopted a one-year test optional...                 35370   \n",
       "3  Columbia has adopted a one-year test optional ...                 40203   \n",
       "4  Yale has adopted a one-year test optional poli...                 36844   \n",
       "\n",
       "  Accept Rate SAT Total 25th-75th Percentile ACT Total 25th-75th Percentile  \\\n",
       "0        4.3%                      1440-1570                          32-35   \n",
       "1        4.7%                      1460-1580                          33-35   \n",
       "2        5.5%                      1440-1570                          32-35   \n",
       "3        5.5%                      1450-1560                          33-35   \n",
       "4        6.1%                      1460-1570                          33-35   \n",
       "\n",
       "  sat_25_75_list  \n",
       "0   [1440, 1570]  \n",
       "1   [1460, 1580]  \n",
       "2   [1440, 1570]  \n",
       "3   [1450, 1560]  \n",
       "4   [1460, 1570]  "
      ]
     },
     "execution_count": 831,
     "metadata": {},
     "output_type": "execute_result"
    }
   ],
   "source": [
    "colleges_df.head()"
   ]
  },
  {
   "cell_type": "code",
   "execution_count": 832,
   "metadata": {},
   "outputs": [],
   "source": [
    "split_sat_25_75 = pd.DataFrame(colleges_df['sat_25_75_list'].tolist())"
   ]
  },
  {
   "cell_type": "code",
   "execution_count": 833,
   "metadata": {},
   "outputs": [
    {
     "data": {
      "text/html": [
       "<div>\n",
       "<style scoped>\n",
       "    .dataframe tbody tr th:only-of-type {\n",
       "        vertical-align: middle;\n",
       "    }\n",
       "\n",
       "    .dataframe tbody tr th {\n",
       "        vertical-align: top;\n",
       "    }\n",
       "\n",
       "    .dataframe thead th {\n",
       "        text-align: right;\n",
       "    }\n",
       "</style>\n",
       "<table border=\"1\" class=\"dataframe\">\n",
       "  <thead>\n",
       "    <tr style=\"text-align: right;\">\n",
       "      <th></th>\n",
       "      <th>0</th>\n",
       "      <th>1</th>\n",
       "      <th>2</th>\n",
       "    </tr>\n",
       "  </thead>\n",
       "  <tbody>\n",
       "    <tr>\n",
       "      <th>0</th>\n",
       "      <td>1440</td>\n",
       "      <td>1570</td>\n",
       "      <td>None</td>\n",
       "    </tr>\n",
       "    <tr>\n",
       "      <th>1</th>\n",
       "      <td>1460</td>\n",
       "      <td>1580</td>\n",
       "      <td>None</td>\n",
       "    </tr>\n",
       "    <tr>\n",
       "      <th>2</th>\n",
       "      <td>1440</td>\n",
       "      <td>1570</td>\n",
       "      <td>None</td>\n",
       "    </tr>\n",
       "    <tr>\n",
       "      <th>3</th>\n",
       "      <td>1450</td>\n",
       "      <td>1560</td>\n",
       "      <td>None</td>\n",
       "    </tr>\n",
       "    <tr>\n",
       "      <th>4</th>\n",
       "      <td>1460</td>\n",
       "      <td>1570</td>\n",
       "      <td>None</td>\n",
       "    </tr>\n",
       "  </tbody>\n",
       "</table>\n",
       "</div>"
      ],
      "text/plain": [
       "      0     1     2\n",
       "0  1440  1570  None\n",
       "1  1460  1580  None\n",
       "2  1440  1570  None\n",
       "3  1450  1560  None\n",
       "4  1460  1570  None"
      ]
     },
     "execution_count": 833,
     "metadata": {},
     "output_type": "execute_result"
    }
   ],
   "source": [
    "split_sat_25_75.head()"
   ]
  },
  {
   "cell_type": "code",
   "execution_count": 834,
   "metadata": {},
   "outputs": [],
   "source": [
    "split_sat_25_75.drop(2, axis = 1, inplace = True)"
   ]
  },
  {
   "cell_type": "code",
   "execution_count": 835,
   "metadata": {},
   "outputs": [
    {
     "data": {
      "text/html": [
       "<div>\n",
       "<style scoped>\n",
       "    .dataframe tbody tr th:only-of-type {\n",
       "        vertical-align: middle;\n",
       "    }\n",
       "\n",
       "    .dataframe tbody tr th {\n",
       "        vertical-align: top;\n",
       "    }\n",
       "\n",
       "    .dataframe thead th {\n",
       "        text-align: right;\n",
       "    }\n",
       "</style>\n",
       "<table border=\"1\" class=\"dataframe\">\n",
       "  <thead>\n",
       "    <tr style=\"text-align: right;\">\n",
       "      <th></th>\n",
       "      <th>0</th>\n",
       "      <th>1</th>\n",
       "    </tr>\n",
       "  </thead>\n",
       "  <tbody>\n",
       "    <tr>\n",
       "      <th>0</th>\n",
       "      <td>1440</td>\n",
       "      <td>1570</td>\n",
       "    </tr>\n",
       "    <tr>\n",
       "      <th>1</th>\n",
       "      <td>1460</td>\n",
       "      <td>1580</td>\n",
       "    </tr>\n",
       "    <tr>\n",
       "      <th>2</th>\n",
       "      <td>1440</td>\n",
       "      <td>1570</td>\n",
       "    </tr>\n",
       "    <tr>\n",
       "      <th>3</th>\n",
       "      <td>1450</td>\n",
       "      <td>1560</td>\n",
       "    </tr>\n",
       "    <tr>\n",
       "      <th>4</th>\n",
       "      <td>1460</td>\n",
       "      <td>1570</td>\n",
       "    </tr>\n",
       "  </tbody>\n",
       "</table>\n",
       "</div>"
      ],
      "text/plain": [
       "      0     1\n",
       "0  1440  1570\n",
       "1  1460  1580\n",
       "2  1440  1570\n",
       "3  1450  1560\n",
       "4  1460  1570"
      ]
     },
     "execution_count": 835,
     "metadata": {},
     "output_type": "execute_result"
    }
   ],
   "source": [
    "split_sat_25_75.head()"
   ]
  },
  {
   "cell_type": "code",
   "execution_count": 836,
   "metadata": {},
   "outputs": [],
   "source": [
    "split_sat_25_75.columns = ['sat_tot_25th_percentile', 'sat_tot_75th_percentile']"
   ]
  },
  {
   "cell_type": "code",
   "execution_count": 837,
   "metadata": {},
   "outputs": [
    {
     "data": {
      "text/html": [
       "<div>\n",
       "<style scoped>\n",
       "    .dataframe tbody tr th:only-of-type {\n",
       "        vertical-align: middle;\n",
       "    }\n",
       "\n",
       "    .dataframe tbody tr th {\n",
       "        vertical-align: top;\n",
       "    }\n",
       "\n",
       "    .dataframe thead th {\n",
       "        text-align: right;\n",
       "    }\n",
       "</style>\n",
       "<table border=\"1\" class=\"dataframe\">\n",
       "  <thead>\n",
       "    <tr style=\"text-align: right;\">\n",
       "      <th></th>\n",
       "      <th>sat_tot_25th_percentile</th>\n",
       "      <th>sat_tot_75th_percentile</th>\n",
       "    </tr>\n",
       "  </thead>\n",
       "  <tbody>\n",
       "    <tr>\n",
       "      <th>0</th>\n",
       "      <td>1440</td>\n",
       "      <td>1570</td>\n",
       "    </tr>\n",
       "    <tr>\n",
       "      <th>1</th>\n",
       "      <td>1460</td>\n",
       "      <td>1580</td>\n",
       "    </tr>\n",
       "    <tr>\n",
       "      <th>2</th>\n",
       "      <td>1440</td>\n",
       "      <td>1570</td>\n",
       "    </tr>\n",
       "    <tr>\n",
       "      <th>3</th>\n",
       "      <td>1450</td>\n",
       "      <td>1560</td>\n",
       "    </tr>\n",
       "    <tr>\n",
       "      <th>4</th>\n",
       "      <td>1460</td>\n",
       "      <td>1570</td>\n",
       "    </tr>\n",
       "  </tbody>\n",
       "</table>\n",
       "</div>"
      ],
      "text/plain": [
       "  sat_tot_25th_percentile sat_tot_75th_percentile\n",
       "0                    1440                    1570\n",
       "1                    1460                    1580\n",
       "2                    1440                    1570\n",
       "3                    1450                    1560\n",
       "4                    1460                    1570"
      ]
     },
     "execution_count": 837,
     "metadata": {},
     "output_type": "execute_result"
    }
   ],
   "source": [
    "split_sat_25_75.head()"
   ]
  },
  {
   "cell_type": "code",
   "execution_count": 838,
   "metadata": {},
   "outputs": [
    {
     "data": {
      "text/plain": [
       "sat_tot_25th_percentile    object\n",
       "sat_tot_75th_percentile    object\n",
       "dtype: object"
      ]
     },
     "execution_count": 838,
     "metadata": {},
     "output_type": "execute_result"
    }
   ],
   "source": [
    "split_sat_25_75.dtypes"
   ]
  },
  {
   "cell_type": "code",
   "execution_count": 839,
   "metadata": {},
   "outputs": [
    {
     "data": {
      "text/html": [
       "<div>\n",
       "<style scoped>\n",
       "    .dataframe tbody tr th:only-of-type {\n",
       "        vertical-align: middle;\n",
       "    }\n",
       "\n",
       "    .dataframe tbody tr th {\n",
       "        vertical-align: top;\n",
       "    }\n",
       "\n",
       "    .dataframe thead th {\n",
       "        text-align: right;\n",
       "    }\n",
       "</style>\n",
       "<table border=\"1\" class=\"dataframe\">\n",
       "  <thead>\n",
       "    <tr style=\"text-align: right;\">\n",
       "      <th></th>\n",
       "      <th>School</th>\n",
       "      <th>Test Optional?</th>\n",
       "      <th>Applies to Class Year(s)</th>\n",
       "      <th>Policy Details</th>\n",
       "      <th>Number of Applicants</th>\n",
       "      <th>Accept Rate</th>\n",
       "      <th>SAT Total 25th-75th Percentile</th>\n",
       "      <th>ACT Total 25th-75th Percentile</th>\n",
       "      <th>sat_25_75_list</th>\n",
       "    </tr>\n",
       "  </thead>\n",
       "  <tbody>\n",
       "    <tr>\n",
       "      <th>0</th>\n",
       "      <td>Stanford University</td>\n",
       "      <td>Yes</td>\n",
       "      <td>2021</td>\n",
       "      <td>Stanford has adopted a one-year test optional ...</td>\n",
       "      <td>47452</td>\n",
       "      <td>4.3%</td>\n",
       "      <td>1440-1570</td>\n",
       "      <td>32-35</td>\n",
       "      <td>[1440, 1570]</td>\n",
       "    </tr>\n",
       "    <tr>\n",
       "      <th>1</th>\n",
       "      <td>Harvard College</td>\n",
       "      <td>Yes</td>\n",
       "      <td>2021</td>\n",
       "      <td>Harvard has adopted a one-year test optional p...</td>\n",
       "      <td>42749</td>\n",
       "      <td>4.7%</td>\n",
       "      <td>1460-1580</td>\n",
       "      <td>33-35</td>\n",
       "      <td>[1460, 1580]</td>\n",
       "    </tr>\n",
       "    <tr>\n",
       "      <th>2</th>\n",
       "      <td>Princeton University</td>\n",
       "      <td>Yes</td>\n",
       "      <td>2021</td>\n",
       "      <td>Princeton has adopted a one-year test optional...</td>\n",
       "      <td>35370</td>\n",
       "      <td>5.5%</td>\n",
       "      <td>1440-1570</td>\n",
       "      <td>32-35</td>\n",
       "      <td>[1440, 1570]</td>\n",
       "    </tr>\n",
       "    <tr>\n",
       "      <th>3</th>\n",
       "      <td>Columbia University</td>\n",
       "      <td>Yes</td>\n",
       "      <td>2021</td>\n",
       "      <td>Columbia has adopted a one-year test optional ...</td>\n",
       "      <td>40203</td>\n",
       "      <td>5.5%</td>\n",
       "      <td>1450-1560</td>\n",
       "      <td>33-35</td>\n",
       "      <td>[1450, 1560]</td>\n",
       "    </tr>\n",
       "    <tr>\n",
       "      <th>4</th>\n",
       "      <td>Yale University</td>\n",
       "      <td>Yes</td>\n",
       "      <td>2021</td>\n",
       "      <td>Yale has adopted a one-year test optional poli...</td>\n",
       "      <td>36844</td>\n",
       "      <td>6.1%</td>\n",
       "      <td>1460-1570</td>\n",
       "      <td>33-35</td>\n",
       "      <td>[1460, 1570]</td>\n",
       "    </tr>\n",
       "  </tbody>\n",
       "</table>\n",
       "</div>"
      ],
      "text/plain": [
       "                 School Test Optional? Applies to Class Year(s)  \\\n",
       "0   Stanford University            Yes                     2021   \n",
       "1       Harvard College            Yes                     2021   \n",
       "2  Princeton University            Yes                     2021   \n",
       "3   Columbia University            Yes                     2021   \n",
       "4       Yale University            Yes                     2021   \n",
       "\n",
       "                                      Policy Details  Number of Applicants  \\\n",
       "0  Stanford has adopted a one-year test optional ...                 47452   \n",
       "1  Harvard has adopted a one-year test optional p...                 42749   \n",
       "2  Princeton has adopted a one-year test optional...                 35370   \n",
       "3  Columbia has adopted a one-year test optional ...                 40203   \n",
       "4  Yale has adopted a one-year test optional poli...                 36844   \n",
       "\n",
       "  Accept Rate SAT Total 25th-75th Percentile ACT Total 25th-75th Percentile  \\\n",
       "0        4.3%                      1440-1570                          32-35   \n",
       "1        4.7%                      1460-1580                          33-35   \n",
       "2        5.5%                      1440-1570                          32-35   \n",
       "3        5.5%                      1450-1560                          33-35   \n",
       "4        6.1%                      1460-1570                          33-35   \n",
       "\n",
       "  sat_25_75_list  \n",
       "0   [1440, 1570]  \n",
       "1   [1460, 1580]  \n",
       "2   [1440, 1570]  \n",
       "3   [1450, 1560]  \n",
       "4   [1460, 1570]  "
      ]
     },
     "execution_count": 839,
     "metadata": {},
     "output_type": "execute_result"
    }
   ],
   "source": [
    "colleges_df.head()"
   ]
  },
  {
   "cell_type": "code",
   "execution_count": 840,
   "metadata": {
    "tags": []
   },
   "outputs": [],
   "source": [
    "colleges_df = pd.concat([colleges_df, split_sat_25_75], axis=1)"
   ]
  },
  {
   "cell_type": "code",
   "execution_count": 841,
   "metadata": {},
   "outputs": [
    {
     "data": {
      "text/html": [
       "<div>\n",
       "<style scoped>\n",
       "    .dataframe tbody tr th:only-of-type {\n",
       "        vertical-align: middle;\n",
       "    }\n",
       "\n",
       "    .dataframe tbody tr th {\n",
       "        vertical-align: top;\n",
       "    }\n",
       "\n",
       "    .dataframe thead th {\n",
       "        text-align: right;\n",
       "    }\n",
       "</style>\n",
       "<table border=\"1\" class=\"dataframe\">\n",
       "  <thead>\n",
       "    <tr style=\"text-align: right;\">\n",
       "      <th></th>\n",
       "      <th>School</th>\n",
       "      <th>Test Optional?</th>\n",
       "      <th>Applies to Class Year(s)</th>\n",
       "      <th>Policy Details</th>\n",
       "      <th>Number of Applicants</th>\n",
       "      <th>Accept Rate</th>\n",
       "      <th>SAT Total 25th-75th Percentile</th>\n",
       "      <th>ACT Total 25th-75th Percentile</th>\n",
       "      <th>sat_25_75_list</th>\n",
       "      <th>sat_tot_25th_percentile</th>\n",
       "      <th>sat_tot_75th_percentile</th>\n",
       "    </tr>\n",
       "  </thead>\n",
       "  <tbody>\n",
       "    <tr>\n",
       "      <th>0</th>\n",
       "      <td>Stanford University</td>\n",
       "      <td>Yes</td>\n",
       "      <td>2021</td>\n",
       "      <td>Stanford has adopted a one-year test optional ...</td>\n",
       "      <td>47452</td>\n",
       "      <td>4.3%</td>\n",
       "      <td>1440-1570</td>\n",
       "      <td>32-35</td>\n",
       "      <td>[1440, 1570]</td>\n",
       "      <td>1440</td>\n",
       "      <td>1570</td>\n",
       "    </tr>\n",
       "    <tr>\n",
       "      <th>1</th>\n",
       "      <td>Harvard College</td>\n",
       "      <td>Yes</td>\n",
       "      <td>2021</td>\n",
       "      <td>Harvard has adopted a one-year test optional p...</td>\n",
       "      <td>42749</td>\n",
       "      <td>4.7%</td>\n",
       "      <td>1460-1580</td>\n",
       "      <td>33-35</td>\n",
       "      <td>[1460, 1580]</td>\n",
       "      <td>1460</td>\n",
       "      <td>1580</td>\n",
       "    </tr>\n",
       "    <tr>\n",
       "      <th>2</th>\n",
       "      <td>Princeton University</td>\n",
       "      <td>Yes</td>\n",
       "      <td>2021</td>\n",
       "      <td>Princeton has adopted a one-year test optional...</td>\n",
       "      <td>35370</td>\n",
       "      <td>5.5%</td>\n",
       "      <td>1440-1570</td>\n",
       "      <td>32-35</td>\n",
       "      <td>[1440, 1570]</td>\n",
       "      <td>1440</td>\n",
       "      <td>1570</td>\n",
       "    </tr>\n",
       "    <tr>\n",
       "      <th>3</th>\n",
       "      <td>Columbia University</td>\n",
       "      <td>Yes</td>\n",
       "      <td>2021</td>\n",
       "      <td>Columbia has adopted a one-year test optional ...</td>\n",
       "      <td>40203</td>\n",
       "      <td>5.5%</td>\n",
       "      <td>1450-1560</td>\n",
       "      <td>33-35</td>\n",
       "      <td>[1450, 1560]</td>\n",
       "      <td>1450</td>\n",
       "      <td>1560</td>\n",
       "    </tr>\n",
       "    <tr>\n",
       "      <th>4</th>\n",
       "      <td>Yale University</td>\n",
       "      <td>Yes</td>\n",
       "      <td>2021</td>\n",
       "      <td>Yale has adopted a one-year test optional poli...</td>\n",
       "      <td>36844</td>\n",
       "      <td>6.1%</td>\n",
       "      <td>1460-1570</td>\n",
       "      <td>33-35</td>\n",
       "      <td>[1460, 1570]</td>\n",
       "      <td>1460</td>\n",
       "      <td>1570</td>\n",
       "    </tr>\n",
       "  </tbody>\n",
       "</table>\n",
       "</div>"
      ],
      "text/plain": [
       "                 School Test Optional? Applies to Class Year(s)  \\\n",
       "0   Stanford University            Yes                     2021   \n",
       "1       Harvard College            Yes                     2021   \n",
       "2  Princeton University            Yes                     2021   \n",
       "3   Columbia University            Yes                     2021   \n",
       "4       Yale University            Yes                     2021   \n",
       "\n",
       "                                      Policy Details  Number of Applicants  \\\n",
       "0  Stanford has adopted a one-year test optional ...                 47452   \n",
       "1  Harvard has adopted a one-year test optional p...                 42749   \n",
       "2  Princeton has adopted a one-year test optional...                 35370   \n",
       "3  Columbia has adopted a one-year test optional ...                 40203   \n",
       "4  Yale has adopted a one-year test optional poli...                 36844   \n",
       "\n",
       "  Accept Rate SAT Total 25th-75th Percentile ACT Total 25th-75th Percentile  \\\n",
       "0        4.3%                      1440-1570                          32-35   \n",
       "1        4.7%                      1460-1580                          33-35   \n",
       "2        5.5%                      1440-1570                          32-35   \n",
       "3        5.5%                      1450-1560                          33-35   \n",
       "4        6.1%                      1460-1570                          33-35   \n",
       "\n",
       "  sat_25_75_list sat_tot_25th_percentile sat_tot_75th_percentile  \n",
       "0   [1440, 1570]                    1440                    1570  \n",
       "1   [1460, 1580]                    1460                    1580  \n",
       "2   [1440, 1570]                    1440                    1570  \n",
       "3   [1450, 1560]                    1450                    1560  \n",
       "4   [1460, 1570]                    1460                    1570  "
      ]
     },
     "execution_count": 841,
     "metadata": {},
     "output_type": "execute_result"
    }
   ],
   "source": [
    "colleges_df.head()"
   ]
  },
  {
   "cell_type": "code",
   "execution_count": 842,
   "metadata": {},
   "outputs": [],
   "source": [
    "colleges_df['act_25_75_list'] = colleges_df['ACT Total 25th-75th Percentile'].str.split('-')"
   ]
  },
  {
   "cell_type": "code",
   "execution_count": 843,
   "metadata": {
    "tags": []
   },
   "outputs": [
    {
     "data": {
      "text/html": [
       "<div>\n",
       "<style scoped>\n",
       "    .dataframe tbody tr th:only-of-type {\n",
       "        vertical-align: middle;\n",
       "    }\n",
       "\n",
       "    .dataframe tbody tr th {\n",
       "        vertical-align: top;\n",
       "    }\n",
       "\n",
       "    .dataframe thead th {\n",
       "        text-align: right;\n",
       "    }\n",
       "</style>\n",
       "<table border=\"1\" class=\"dataframe\">\n",
       "  <thead>\n",
       "    <tr style=\"text-align: right;\">\n",
       "      <th></th>\n",
       "      <th>School</th>\n",
       "      <th>Test Optional?</th>\n",
       "      <th>Applies to Class Year(s)</th>\n",
       "      <th>Policy Details</th>\n",
       "      <th>Number of Applicants</th>\n",
       "      <th>Accept Rate</th>\n",
       "      <th>SAT Total 25th-75th Percentile</th>\n",
       "      <th>ACT Total 25th-75th Percentile</th>\n",
       "      <th>sat_25_75_list</th>\n",
       "      <th>sat_tot_25th_percentile</th>\n",
       "      <th>sat_tot_75th_percentile</th>\n",
       "      <th>act_25_75_list</th>\n",
       "    </tr>\n",
       "  </thead>\n",
       "  <tbody>\n",
       "    <tr>\n",
       "      <th>0</th>\n",
       "      <td>Stanford University</td>\n",
       "      <td>Yes</td>\n",
       "      <td>2021</td>\n",
       "      <td>Stanford has adopted a one-year test optional ...</td>\n",
       "      <td>47452</td>\n",
       "      <td>4.3%</td>\n",
       "      <td>1440-1570</td>\n",
       "      <td>32-35</td>\n",
       "      <td>[1440, 1570]</td>\n",
       "      <td>1440</td>\n",
       "      <td>1570</td>\n",
       "      <td>[32, 35]</td>\n",
       "    </tr>\n",
       "    <tr>\n",
       "      <th>1</th>\n",
       "      <td>Harvard College</td>\n",
       "      <td>Yes</td>\n",
       "      <td>2021</td>\n",
       "      <td>Harvard has adopted a one-year test optional p...</td>\n",
       "      <td>42749</td>\n",
       "      <td>4.7%</td>\n",
       "      <td>1460-1580</td>\n",
       "      <td>33-35</td>\n",
       "      <td>[1460, 1580]</td>\n",
       "      <td>1460</td>\n",
       "      <td>1580</td>\n",
       "      <td>[33, 35]</td>\n",
       "    </tr>\n",
       "    <tr>\n",
       "      <th>2</th>\n",
       "      <td>Princeton University</td>\n",
       "      <td>Yes</td>\n",
       "      <td>2021</td>\n",
       "      <td>Princeton has adopted a one-year test optional...</td>\n",
       "      <td>35370</td>\n",
       "      <td>5.5%</td>\n",
       "      <td>1440-1570</td>\n",
       "      <td>32-35</td>\n",
       "      <td>[1440, 1570]</td>\n",
       "      <td>1440</td>\n",
       "      <td>1570</td>\n",
       "      <td>[32, 35]</td>\n",
       "    </tr>\n",
       "    <tr>\n",
       "      <th>3</th>\n",
       "      <td>Columbia University</td>\n",
       "      <td>Yes</td>\n",
       "      <td>2021</td>\n",
       "      <td>Columbia has adopted a one-year test optional ...</td>\n",
       "      <td>40203</td>\n",
       "      <td>5.5%</td>\n",
       "      <td>1450-1560</td>\n",
       "      <td>33-35</td>\n",
       "      <td>[1450, 1560]</td>\n",
       "      <td>1450</td>\n",
       "      <td>1560</td>\n",
       "      <td>[33, 35]</td>\n",
       "    </tr>\n",
       "    <tr>\n",
       "      <th>4</th>\n",
       "      <td>Yale University</td>\n",
       "      <td>Yes</td>\n",
       "      <td>2021</td>\n",
       "      <td>Yale has adopted a one-year test optional poli...</td>\n",
       "      <td>36844</td>\n",
       "      <td>6.1%</td>\n",
       "      <td>1460-1570</td>\n",
       "      <td>33-35</td>\n",
       "      <td>[1460, 1570]</td>\n",
       "      <td>1460</td>\n",
       "      <td>1570</td>\n",
       "      <td>[33, 35]</td>\n",
       "    </tr>\n",
       "  </tbody>\n",
       "</table>\n",
       "</div>"
      ],
      "text/plain": [
       "                 School Test Optional? Applies to Class Year(s)  \\\n",
       "0   Stanford University            Yes                     2021   \n",
       "1       Harvard College            Yes                     2021   \n",
       "2  Princeton University            Yes                     2021   \n",
       "3   Columbia University            Yes                     2021   \n",
       "4       Yale University            Yes                     2021   \n",
       "\n",
       "                                      Policy Details  Number of Applicants  \\\n",
       "0  Stanford has adopted a one-year test optional ...                 47452   \n",
       "1  Harvard has adopted a one-year test optional p...                 42749   \n",
       "2  Princeton has adopted a one-year test optional...                 35370   \n",
       "3  Columbia has adopted a one-year test optional ...                 40203   \n",
       "4  Yale has adopted a one-year test optional poli...                 36844   \n",
       "\n",
       "  Accept Rate SAT Total 25th-75th Percentile ACT Total 25th-75th Percentile  \\\n",
       "0        4.3%                      1440-1570                          32-35   \n",
       "1        4.7%                      1460-1580                          33-35   \n",
       "2        5.5%                      1440-1570                          32-35   \n",
       "3        5.5%                      1450-1560                          33-35   \n",
       "4        6.1%                      1460-1570                          33-35   \n",
       "\n",
       "  sat_25_75_list sat_tot_25th_percentile sat_tot_75th_percentile  \\\n",
       "0   [1440, 1570]                    1440                    1570   \n",
       "1   [1460, 1580]                    1460                    1580   \n",
       "2   [1440, 1570]                    1440                    1570   \n",
       "3   [1450, 1560]                    1450                    1560   \n",
       "4   [1460, 1570]                    1460                    1570   \n",
       "\n",
       "  act_25_75_list  \n",
       "0       [32, 35]  \n",
       "1       [33, 35]  \n",
       "2       [32, 35]  \n",
       "3       [33, 35]  \n",
       "4       [33, 35]  "
      ]
     },
     "execution_count": 843,
     "metadata": {},
     "output_type": "execute_result"
    }
   ],
   "source": [
    "colleges_df.head()"
   ]
  },
  {
   "cell_type": "code",
   "execution_count": 844,
   "metadata": {},
   "outputs": [],
   "source": [
    "split_act_25_75 = pd.DataFrame(colleges_df['act_25_75_list'].tolist())"
   ]
  },
  {
   "cell_type": "code",
   "execution_count": 845,
   "metadata": {},
   "outputs": [
    {
     "data": {
      "text/html": [
       "<div>\n",
       "<style scoped>\n",
       "    .dataframe tbody tr th:only-of-type {\n",
       "        vertical-align: middle;\n",
       "    }\n",
       "\n",
       "    .dataframe tbody tr th {\n",
       "        vertical-align: top;\n",
       "    }\n",
       "\n",
       "    .dataframe thead th {\n",
       "        text-align: right;\n",
       "    }\n",
       "</style>\n",
       "<table border=\"1\" class=\"dataframe\">\n",
       "  <thead>\n",
       "    <tr style=\"text-align: right;\">\n",
       "      <th></th>\n",
       "      <th>0</th>\n",
       "      <th>1</th>\n",
       "      <th>2</th>\n",
       "    </tr>\n",
       "  </thead>\n",
       "  <tbody>\n",
       "    <tr>\n",
       "      <th>0</th>\n",
       "      <td>32</td>\n",
       "      <td>35</td>\n",
       "      <td>None</td>\n",
       "    </tr>\n",
       "    <tr>\n",
       "      <th>1</th>\n",
       "      <td>33</td>\n",
       "      <td>35</td>\n",
       "      <td>None</td>\n",
       "    </tr>\n",
       "    <tr>\n",
       "      <th>2</th>\n",
       "      <td>32</td>\n",
       "      <td>35</td>\n",
       "      <td>None</td>\n",
       "    </tr>\n",
       "    <tr>\n",
       "      <th>3</th>\n",
       "      <td>33</td>\n",
       "      <td>35</td>\n",
       "      <td>None</td>\n",
       "    </tr>\n",
       "    <tr>\n",
       "      <th>4</th>\n",
       "      <td>33</td>\n",
       "      <td>35</td>\n",
       "      <td>None</td>\n",
       "    </tr>\n",
       "  </tbody>\n",
       "</table>\n",
       "</div>"
      ],
      "text/plain": [
       "    0   1     2\n",
       "0  32  35  None\n",
       "1  33  35  None\n",
       "2  32  35  None\n",
       "3  33  35  None\n",
       "4  33  35  None"
      ]
     },
     "execution_count": 845,
     "metadata": {},
     "output_type": "execute_result"
    }
   ],
   "source": [
    "split_act_25_75.head()"
   ]
  },
  {
   "cell_type": "code",
   "execution_count": 846,
   "metadata": {},
   "outputs": [],
   "source": [
    "split_act_25_75.drop(2, axis = 1, inplace = True)"
   ]
  },
  {
   "cell_type": "code",
   "execution_count": 847,
   "metadata": {},
   "outputs": [
    {
     "data": {
      "text/html": [
       "<div>\n",
       "<style scoped>\n",
       "    .dataframe tbody tr th:only-of-type {\n",
       "        vertical-align: middle;\n",
       "    }\n",
       "\n",
       "    .dataframe tbody tr th {\n",
       "        vertical-align: top;\n",
       "    }\n",
       "\n",
       "    .dataframe thead th {\n",
       "        text-align: right;\n",
       "    }\n",
       "</style>\n",
       "<table border=\"1\" class=\"dataframe\">\n",
       "  <thead>\n",
       "    <tr style=\"text-align: right;\">\n",
       "      <th></th>\n",
       "      <th>0</th>\n",
       "      <th>1</th>\n",
       "    </tr>\n",
       "  </thead>\n",
       "  <tbody>\n",
       "    <tr>\n",
       "      <th>0</th>\n",
       "      <td>32</td>\n",
       "      <td>35</td>\n",
       "    </tr>\n",
       "    <tr>\n",
       "      <th>1</th>\n",
       "      <td>33</td>\n",
       "      <td>35</td>\n",
       "    </tr>\n",
       "    <tr>\n",
       "      <th>2</th>\n",
       "      <td>32</td>\n",
       "      <td>35</td>\n",
       "    </tr>\n",
       "    <tr>\n",
       "      <th>3</th>\n",
       "      <td>33</td>\n",
       "      <td>35</td>\n",
       "    </tr>\n",
       "    <tr>\n",
       "      <th>4</th>\n",
       "      <td>33</td>\n",
       "      <td>35</td>\n",
       "    </tr>\n",
       "  </tbody>\n",
       "</table>\n",
       "</div>"
      ],
      "text/plain": [
       "    0   1\n",
       "0  32  35\n",
       "1  33  35\n",
       "2  32  35\n",
       "3  33  35\n",
       "4  33  35"
      ]
     },
     "execution_count": 847,
     "metadata": {},
     "output_type": "execute_result"
    }
   ],
   "source": [
    "split_act_25_75.head()"
   ]
  },
  {
   "cell_type": "code",
   "execution_count": 848,
   "metadata": {},
   "outputs": [],
   "source": [
    "split_act_25_75.columns = ['act_composite_25th_percentile', 'act_composite_75th_percentile']"
   ]
  },
  {
   "cell_type": "code",
   "execution_count": 849,
   "metadata": {},
   "outputs": [
    {
     "data": {
      "text/html": [
       "<div>\n",
       "<style scoped>\n",
       "    .dataframe tbody tr th:only-of-type {\n",
       "        vertical-align: middle;\n",
       "    }\n",
       "\n",
       "    .dataframe tbody tr th {\n",
       "        vertical-align: top;\n",
       "    }\n",
       "\n",
       "    .dataframe thead th {\n",
       "        text-align: right;\n",
       "    }\n",
       "</style>\n",
       "<table border=\"1\" class=\"dataframe\">\n",
       "  <thead>\n",
       "    <tr style=\"text-align: right;\">\n",
       "      <th></th>\n",
       "      <th>act_composite_25th_percentile</th>\n",
       "      <th>act_composite_75th_percentile</th>\n",
       "    </tr>\n",
       "  </thead>\n",
       "  <tbody>\n",
       "    <tr>\n",
       "      <th>0</th>\n",
       "      <td>32</td>\n",
       "      <td>35</td>\n",
       "    </tr>\n",
       "    <tr>\n",
       "      <th>1</th>\n",
       "      <td>33</td>\n",
       "      <td>35</td>\n",
       "    </tr>\n",
       "    <tr>\n",
       "      <th>2</th>\n",
       "      <td>32</td>\n",
       "      <td>35</td>\n",
       "    </tr>\n",
       "    <tr>\n",
       "      <th>3</th>\n",
       "      <td>33</td>\n",
       "      <td>35</td>\n",
       "    </tr>\n",
       "    <tr>\n",
       "      <th>4</th>\n",
       "      <td>33</td>\n",
       "      <td>35</td>\n",
       "    </tr>\n",
       "  </tbody>\n",
       "</table>\n",
       "</div>"
      ],
      "text/plain": [
       "  act_composite_25th_percentile act_composite_75th_percentile\n",
       "0                            32                            35\n",
       "1                            33                            35\n",
       "2                            32                            35\n",
       "3                            33                            35\n",
       "4                            33                            35"
      ]
     },
     "execution_count": 849,
     "metadata": {},
     "output_type": "execute_result"
    }
   ],
   "source": [
    "split_act_25_75.head()"
   ]
  },
  {
   "cell_type": "code",
   "execution_count": 850,
   "metadata": {},
   "outputs": [],
   "source": [
    "colleges_df = pd.concat([colleges_df, split_act_25_75], axis = 1)"
   ]
  },
  {
   "cell_type": "code",
   "execution_count": 851,
   "metadata": {},
   "outputs": [
    {
     "data": {
      "text/html": [
       "<div>\n",
       "<style scoped>\n",
       "    .dataframe tbody tr th:only-of-type {\n",
       "        vertical-align: middle;\n",
       "    }\n",
       "\n",
       "    .dataframe tbody tr th {\n",
       "        vertical-align: top;\n",
       "    }\n",
       "\n",
       "    .dataframe thead th {\n",
       "        text-align: right;\n",
       "    }\n",
       "</style>\n",
       "<table border=\"1\" class=\"dataframe\">\n",
       "  <thead>\n",
       "    <tr style=\"text-align: right;\">\n",
       "      <th></th>\n",
       "      <th>School</th>\n",
       "      <th>Test Optional?</th>\n",
       "      <th>Applies to Class Year(s)</th>\n",
       "      <th>Policy Details</th>\n",
       "      <th>Number of Applicants</th>\n",
       "      <th>Accept Rate</th>\n",
       "      <th>SAT Total 25th-75th Percentile</th>\n",
       "      <th>ACT Total 25th-75th Percentile</th>\n",
       "      <th>sat_25_75_list</th>\n",
       "      <th>sat_tot_25th_percentile</th>\n",
       "      <th>sat_tot_75th_percentile</th>\n",
       "      <th>act_25_75_list</th>\n",
       "      <th>act_composite_25th_percentile</th>\n",
       "      <th>act_composite_75th_percentile</th>\n",
       "    </tr>\n",
       "  </thead>\n",
       "  <tbody>\n",
       "    <tr>\n",
       "      <th>0</th>\n",
       "      <td>Stanford University</td>\n",
       "      <td>Yes</td>\n",
       "      <td>2021</td>\n",
       "      <td>Stanford has adopted a one-year test optional ...</td>\n",
       "      <td>47452</td>\n",
       "      <td>4.3%</td>\n",
       "      <td>1440-1570</td>\n",
       "      <td>32-35</td>\n",
       "      <td>[1440, 1570]</td>\n",
       "      <td>1440</td>\n",
       "      <td>1570</td>\n",
       "      <td>[32, 35]</td>\n",
       "      <td>32</td>\n",
       "      <td>35</td>\n",
       "    </tr>\n",
       "    <tr>\n",
       "      <th>1</th>\n",
       "      <td>Harvard College</td>\n",
       "      <td>Yes</td>\n",
       "      <td>2021</td>\n",
       "      <td>Harvard has adopted a one-year test optional p...</td>\n",
       "      <td>42749</td>\n",
       "      <td>4.7%</td>\n",
       "      <td>1460-1580</td>\n",
       "      <td>33-35</td>\n",
       "      <td>[1460, 1580]</td>\n",
       "      <td>1460</td>\n",
       "      <td>1580</td>\n",
       "      <td>[33, 35]</td>\n",
       "      <td>33</td>\n",
       "      <td>35</td>\n",
       "    </tr>\n",
       "    <tr>\n",
       "      <th>2</th>\n",
       "      <td>Princeton University</td>\n",
       "      <td>Yes</td>\n",
       "      <td>2021</td>\n",
       "      <td>Princeton has adopted a one-year test optional...</td>\n",
       "      <td>35370</td>\n",
       "      <td>5.5%</td>\n",
       "      <td>1440-1570</td>\n",
       "      <td>32-35</td>\n",
       "      <td>[1440, 1570]</td>\n",
       "      <td>1440</td>\n",
       "      <td>1570</td>\n",
       "      <td>[32, 35]</td>\n",
       "      <td>32</td>\n",
       "      <td>35</td>\n",
       "    </tr>\n",
       "    <tr>\n",
       "      <th>3</th>\n",
       "      <td>Columbia University</td>\n",
       "      <td>Yes</td>\n",
       "      <td>2021</td>\n",
       "      <td>Columbia has adopted a one-year test optional ...</td>\n",
       "      <td>40203</td>\n",
       "      <td>5.5%</td>\n",
       "      <td>1450-1560</td>\n",
       "      <td>33-35</td>\n",
       "      <td>[1450, 1560]</td>\n",
       "      <td>1450</td>\n",
       "      <td>1560</td>\n",
       "      <td>[33, 35]</td>\n",
       "      <td>33</td>\n",
       "      <td>35</td>\n",
       "    </tr>\n",
       "    <tr>\n",
       "      <th>4</th>\n",
       "      <td>Yale University</td>\n",
       "      <td>Yes</td>\n",
       "      <td>2021</td>\n",
       "      <td>Yale has adopted a one-year test optional poli...</td>\n",
       "      <td>36844</td>\n",
       "      <td>6.1%</td>\n",
       "      <td>1460-1570</td>\n",
       "      <td>33-35</td>\n",
       "      <td>[1460, 1570]</td>\n",
       "      <td>1460</td>\n",
       "      <td>1570</td>\n",
       "      <td>[33, 35]</td>\n",
       "      <td>33</td>\n",
       "      <td>35</td>\n",
       "    </tr>\n",
       "  </tbody>\n",
       "</table>\n",
       "</div>"
      ],
      "text/plain": [
       "                 School Test Optional? Applies to Class Year(s)  \\\n",
       "0   Stanford University            Yes                     2021   \n",
       "1       Harvard College            Yes                     2021   \n",
       "2  Princeton University            Yes                     2021   \n",
       "3   Columbia University            Yes                     2021   \n",
       "4       Yale University            Yes                     2021   \n",
       "\n",
       "                                      Policy Details  Number of Applicants  \\\n",
       "0  Stanford has adopted a one-year test optional ...                 47452   \n",
       "1  Harvard has adopted a one-year test optional p...                 42749   \n",
       "2  Princeton has adopted a one-year test optional...                 35370   \n",
       "3  Columbia has adopted a one-year test optional ...                 40203   \n",
       "4  Yale has adopted a one-year test optional poli...                 36844   \n",
       "\n",
       "  Accept Rate SAT Total 25th-75th Percentile ACT Total 25th-75th Percentile  \\\n",
       "0        4.3%                      1440-1570                          32-35   \n",
       "1        4.7%                      1460-1580                          33-35   \n",
       "2        5.5%                      1440-1570                          32-35   \n",
       "3        5.5%                      1450-1560                          33-35   \n",
       "4        6.1%                      1460-1570                          33-35   \n",
       "\n",
       "  sat_25_75_list sat_tot_25th_percentile sat_tot_75th_percentile  \\\n",
       "0   [1440, 1570]                    1440                    1570   \n",
       "1   [1460, 1580]                    1460                    1580   \n",
       "2   [1440, 1570]                    1440                    1570   \n",
       "3   [1450, 1560]                    1450                    1560   \n",
       "4   [1460, 1570]                    1460                    1570   \n",
       "\n",
       "  act_25_75_list act_composite_25th_percentile act_composite_75th_percentile  \n",
       "0       [32, 35]                            32                            35  \n",
       "1       [33, 35]                            33                            35  \n",
       "2       [32, 35]                            32                            35  \n",
       "3       [33, 35]                            33                            35  \n",
       "4       [33, 35]                            33                            35  "
      ]
     },
     "execution_count": 851,
     "metadata": {},
     "output_type": "execute_result"
    }
   ],
   "source": [
    "colleges_df.head()"
   ]
  },
  {
   "cell_type": "code",
   "execution_count": 852,
   "metadata": {},
   "outputs": [],
   "source": [
    "colleges_df.drop(['sat_25_75_list', 'act_25_75_list'], axis = 1, inplace = True)"
   ]
  },
  {
   "cell_type": "code",
   "execution_count": 853,
   "metadata": {
    "tags": []
   },
   "outputs": [
    {
     "data": {
      "text/html": [
       "<div>\n",
       "<style scoped>\n",
       "    .dataframe tbody tr th:only-of-type {\n",
       "        vertical-align: middle;\n",
       "    }\n",
       "\n",
       "    .dataframe tbody tr th {\n",
       "        vertical-align: top;\n",
       "    }\n",
       "\n",
       "    .dataframe thead th {\n",
       "        text-align: right;\n",
       "    }\n",
       "</style>\n",
       "<table border=\"1\" class=\"dataframe\">\n",
       "  <thead>\n",
       "    <tr style=\"text-align: right;\">\n",
       "      <th></th>\n",
       "      <th>School</th>\n",
       "      <th>Test Optional?</th>\n",
       "      <th>Applies to Class Year(s)</th>\n",
       "      <th>Policy Details</th>\n",
       "      <th>Number of Applicants</th>\n",
       "      <th>Accept Rate</th>\n",
       "      <th>SAT Total 25th-75th Percentile</th>\n",
       "      <th>ACT Total 25th-75th Percentile</th>\n",
       "      <th>sat_tot_25th_percentile</th>\n",
       "      <th>sat_tot_75th_percentile</th>\n",
       "      <th>act_composite_25th_percentile</th>\n",
       "      <th>act_composite_75th_percentile</th>\n",
       "    </tr>\n",
       "  </thead>\n",
       "  <tbody>\n",
       "    <tr>\n",
       "      <th>0</th>\n",
       "      <td>Stanford University</td>\n",
       "      <td>Yes</td>\n",
       "      <td>2021</td>\n",
       "      <td>Stanford has adopted a one-year test optional ...</td>\n",
       "      <td>47452</td>\n",
       "      <td>4.3%</td>\n",
       "      <td>1440-1570</td>\n",
       "      <td>32-35</td>\n",
       "      <td>1440</td>\n",
       "      <td>1570</td>\n",
       "      <td>32</td>\n",
       "      <td>35</td>\n",
       "    </tr>\n",
       "    <tr>\n",
       "      <th>1</th>\n",
       "      <td>Harvard College</td>\n",
       "      <td>Yes</td>\n",
       "      <td>2021</td>\n",
       "      <td>Harvard has adopted a one-year test optional p...</td>\n",
       "      <td>42749</td>\n",
       "      <td>4.7%</td>\n",
       "      <td>1460-1580</td>\n",
       "      <td>33-35</td>\n",
       "      <td>1460</td>\n",
       "      <td>1580</td>\n",
       "      <td>33</td>\n",
       "      <td>35</td>\n",
       "    </tr>\n",
       "    <tr>\n",
       "      <th>2</th>\n",
       "      <td>Princeton University</td>\n",
       "      <td>Yes</td>\n",
       "      <td>2021</td>\n",
       "      <td>Princeton has adopted a one-year test optional...</td>\n",
       "      <td>35370</td>\n",
       "      <td>5.5%</td>\n",
       "      <td>1440-1570</td>\n",
       "      <td>32-35</td>\n",
       "      <td>1440</td>\n",
       "      <td>1570</td>\n",
       "      <td>32</td>\n",
       "      <td>35</td>\n",
       "    </tr>\n",
       "    <tr>\n",
       "      <th>3</th>\n",
       "      <td>Columbia University</td>\n",
       "      <td>Yes</td>\n",
       "      <td>2021</td>\n",
       "      <td>Columbia has adopted a one-year test optional ...</td>\n",
       "      <td>40203</td>\n",
       "      <td>5.5%</td>\n",
       "      <td>1450-1560</td>\n",
       "      <td>33-35</td>\n",
       "      <td>1450</td>\n",
       "      <td>1560</td>\n",
       "      <td>33</td>\n",
       "      <td>35</td>\n",
       "    </tr>\n",
       "    <tr>\n",
       "      <th>4</th>\n",
       "      <td>Yale University</td>\n",
       "      <td>Yes</td>\n",
       "      <td>2021</td>\n",
       "      <td>Yale has adopted a one-year test optional poli...</td>\n",
       "      <td>36844</td>\n",
       "      <td>6.1%</td>\n",
       "      <td>1460-1570</td>\n",
       "      <td>33-35</td>\n",
       "      <td>1460</td>\n",
       "      <td>1570</td>\n",
       "      <td>33</td>\n",
       "      <td>35</td>\n",
       "    </tr>\n",
       "  </tbody>\n",
       "</table>\n",
       "</div>"
      ],
      "text/plain": [
       "                 School Test Optional? Applies to Class Year(s)  \\\n",
       "0   Stanford University            Yes                     2021   \n",
       "1       Harvard College            Yes                     2021   \n",
       "2  Princeton University            Yes                     2021   \n",
       "3   Columbia University            Yes                     2021   \n",
       "4       Yale University            Yes                     2021   \n",
       "\n",
       "                                      Policy Details  Number of Applicants  \\\n",
       "0  Stanford has adopted a one-year test optional ...                 47452   \n",
       "1  Harvard has adopted a one-year test optional p...                 42749   \n",
       "2  Princeton has adopted a one-year test optional...                 35370   \n",
       "3  Columbia has adopted a one-year test optional ...                 40203   \n",
       "4  Yale has adopted a one-year test optional poli...                 36844   \n",
       "\n",
       "  Accept Rate SAT Total 25th-75th Percentile ACT Total 25th-75th Percentile  \\\n",
       "0        4.3%                      1440-1570                          32-35   \n",
       "1        4.7%                      1460-1580                          33-35   \n",
       "2        5.5%                      1440-1570                          32-35   \n",
       "3        5.5%                      1450-1560                          33-35   \n",
       "4        6.1%                      1460-1570                          33-35   \n",
       "\n",
       "  sat_tot_25th_percentile sat_tot_75th_percentile  \\\n",
       "0                    1440                    1570   \n",
       "1                    1460                    1580   \n",
       "2                    1440                    1570   \n",
       "3                    1450                    1560   \n",
       "4                    1460                    1570   \n",
       "\n",
       "  act_composite_25th_percentile act_composite_75th_percentile  \n",
       "0                            32                            35  \n",
       "1                            33                            35  \n",
       "2                            32                            35  \n",
       "3                            33                            35  \n",
       "4                            33                            35  "
      ]
     },
     "execution_count": 853,
     "metadata": {},
     "output_type": "execute_result"
    }
   ],
   "source": [
    "colleges_df.head()"
   ]
  },
  {
   "cell_type": "code",
   "execution_count": 854,
   "metadata": {},
   "outputs": [],
   "source": [
    "colleges_df.drop(['SAT Total 25th-75th Percentile', 'ACT Total 25th-75th Percentile'], axis = 1, inplace = True)"
   ]
  },
  {
   "cell_type": "code",
   "execution_count": 855,
   "metadata": {},
   "outputs": [
    {
     "data": {
      "text/html": [
       "<div>\n",
       "<style scoped>\n",
       "    .dataframe tbody tr th:only-of-type {\n",
       "        vertical-align: middle;\n",
       "    }\n",
       "\n",
       "    .dataframe tbody tr th {\n",
       "        vertical-align: top;\n",
       "    }\n",
       "\n",
       "    .dataframe thead th {\n",
       "        text-align: right;\n",
       "    }\n",
       "</style>\n",
       "<table border=\"1\" class=\"dataframe\">\n",
       "  <thead>\n",
       "    <tr style=\"text-align: right;\">\n",
       "      <th></th>\n",
       "      <th>School</th>\n",
       "      <th>Test Optional?</th>\n",
       "      <th>Applies to Class Year(s)</th>\n",
       "      <th>Policy Details</th>\n",
       "      <th>Number of Applicants</th>\n",
       "      <th>Accept Rate</th>\n",
       "      <th>sat_tot_25th_percentile</th>\n",
       "      <th>sat_tot_75th_percentile</th>\n",
       "      <th>act_composite_25th_percentile</th>\n",
       "      <th>act_composite_75th_percentile</th>\n",
       "    </tr>\n",
       "  </thead>\n",
       "  <tbody>\n",
       "    <tr>\n",
       "      <th>0</th>\n",
       "      <td>Stanford University</td>\n",
       "      <td>Yes</td>\n",
       "      <td>2021</td>\n",
       "      <td>Stanford has adopted a one-year test optional ...</td>\n",
       "      <td>47452</td>\n",
       "      <td>4.3%</td>\n",
       "      <td>1440</td>\n",
       "      <td>1570</td>\n",
       "      <td>32</td>\n",
       "      <td>35</td>\n",
       "    </tr>\n",
       "    <tr>\n",
       "      <th>1</th>\n",
       "      <td>Harvard College</td>\n",
       "      <td>Yes</td>\n",
       "      <td>2021</td>\n",
       "      <td>Harvard has adopted a one-year test optional p...</td>\n",
       "      <td>42749</td>\n",
       "      <td>4.7%</td>\n",
       "      <td>1460</td>\n",
       "      <td>1580</td>\n",
       "      <td>33</td>\n",
       "      <td>35</td>\n",
       "    </tr>\n",
       "    <tr>\n",
       "      <th>2</th>\n",
       "      <td>Princeton University</td>\n",
       "      <td>Yes</td>\n",
       "      <td>2021</td>\n",
       "      <td>Princeton has adopted a one-year test optional...</td>\n",
       "      <td>35370</td>\n",
       "      <td>5.5%</td>\n",
       "      <td>1440</td>\n",
       "      <td>1570</td>\n",
       "      <td>32</td>\n",
       "      <td>35</td>\n",
       "    </tr>\n",
       "    <tr>\n",
       "      <th>3</th>\n",
       "      <td>Columbia University</td>\n",
       "      <td>Yes</td>\n",
       "      <td>2021</td>\n",
       "      <td>Columbia has adopted a one-year test optional ...</td>\n",
       "      <td>40203</td>\n",
       "      <td>5.5%</td>\n",
       "      <td>1450</td>\n",
       "      <td>1560</td>\n",
       "      <td>33</td>\n",
       "      <td>35</td>\n",
       "    </tr>\n",
       "    <tr>\n",
       "      <th>4</th>\n",
       "      <td>Yale University</td>\n",
       "      <td>Yes</td>\n",
       "      <td>2021</td>\n",
       "      <td>Yale has adopted a one-year test optional poli...</td>\n",
       "      <td>36844</td>\n",
       "      <td>6.1%</td>\n",
       "      <td>1460</td>\n",
       "      <td>1570</td>\n",
       "      <td>33</td>\n",
       "      <td>35</td>\n",
       "    </tr>\n",
       "  </tbody>\n",
       "</table>\n",
       "</div>"
      ],
      "text/plain": [
       "                 School Test Optional? Applies to Class Year(s)  \\\n",
       "0   Stanford University            Yes                     2021   \n",
       "1       Harvard College            Yes                     2021   \n",
       "2  Princeton University            Yes                     2021   \n",
       "3   Columbia University            Yes                     2021   \n",
       "4       Yale University            Yes                     2021   \n",
       "\n",
       "                                      Policy Details  Number of Applicants  \\\n",
       "0  Stanford has adopted a one-year test optional ...                 47452   \n",
       "1  Harvard has adopted a one-year test optional p...                 42749   \n",
       "2  Princeton has adopted a one-year test optional...                 35370   \n",
       "3  Columbia has adopted a one-year test optional ...                 40203   \n",
       "4  Yale has adopted a one-year test optional poli...                 36844   \n",
       "\n",
       "  Accept Rate sat_tot_25th_percentile sat_tot_75th_percentile  \\\n",
       "0        4.3%                    1440                    1570   \n",
       "1        4.7%                    1460                    1580   \n",
       "2        5.5%                    1440                    1570   \n",
       "3        5.5%                    1450                    1560   \n",
       "4        6.1%                    1460                    1570   \n",
       "\n",
       "  act_composite_25th_percentile act_composite_75th_percentile  \n",
       "0                            32                            35  \n",
       "1                            33                            35  \n",
       "2                            32                            35  \n",
       "3                            33                            35  \n",
       "4                            33                            35  "
      ]
     },
     "execution_count": 855,
     "metadata": {},
     "output_type": "execute_result"
    }
   ],
   "source": [
    "colleges_df.head()"
   ]
  },
  {
   "cell_type": "code",
   "execution_count": 856,
   "metadata": {},
   "outputs": [],
   "source": [
    "colleges_df['Accept Rate'] = colleges_df['Accept Rate'].map(lambda x: per_to_dec(x))"
   ]
  },
  {
   "cell_type": "code",
   "execution_count": 857,
   "metadata": {
    "tags": []
   },
   "outputs": [
    {
     "data": {
      "text/html": [
       "<div>\n",
       "<style scoped>\n",
       "    .dataframe tbody tr th:only-of-type {\n",
       "        vertical-align: middle;\n",
       "    }\n",
       "\n",
       "    .dataframe tbody tr th {\n",
       "        vertical-align: top;\n",
       "    }\n",
       "\n",
       "    .dataframe thead th {\n",
       "        text-align: right;\n",
       "    }\n",
       "</style>\n",
       "<table border=\"1\" class=\"dataframe\">\n",
       "  <thead>\n",
       "    <tr style=\"text-align: right;\">\n",
       "      <th></th>\n",
       "      <th>School</th>\n",
       "      <th>Test Optional?</th>\n",
       "      <th>Applies to Class Year(s)</th>\n",
       "      <th>Policy Details</th>\n",
       "      <th>Number of Applicants</th>\n",
       "      <th>Accept Rate</th>\n",
       "      <th>sat_tot_25th_percentile</th>\n",
       "      <th>sat_tot_75th_percentile</th>\n",
       "      <th>act_composite_25th_percentile</th>\n",
       "      <th>act_composite_75th_percentile</th>\n",
       "    </tr>\n",
       "  </thead>\n",
       "  <tbody>\n",
       "    <tr>\n",
       "      <th>0</th>\n",
       "      <td>Stanford University</td>\n",
       "      <td>Yes</td>\n",
       "      <td>2021</td>\n",
       "      <td>Stanford has adopted a one-year test optional ...</td>\n",
       "      <td>47452</td>\n",
       "      <td>0.043</td>\n",
       "      <td>1440</td>\n",
       "      <td>1570</td>\n",
       "      <td>32</td>\n",
       "      <td>35</td>\n",
       "    </tr>\n",
       "    <tr>\n",
       "      <th>1</th>\n",
       "      <td>Harvard College</td>\n",
       "      <td>Yes</td>\n",
       "      <td>2021</td>\n",
       "      <td>Harvard has adopted a one-year test optional p...</td>\n",
       "      <td>42749</td>\n",
       "      <td>0.047</td>\n",
       "      <td>1460</td>\n",
       "      <td>1580</td>\n",
       "      <td>33</td>\n",
       "      <td>35</td>\n",
       "    </tr>\n",
       "    <tr>\n",
       "      <th>2</th>\n",
       "      <td>Princeton University</td>\n",
       "      <td>Yes</td>\n",
       "      <td>2021</td>\n",
       "      <td>Princeton has adopted a one-year test optional...</td>\n",
       "      <td>35370</td>\n",
       "      <td>0.055</td>\n",
       "      <td>1440</td>\n",
       "      <td>1570</td>\n",
       "      <td>32</td>\n",
       "      <td>35</td>\n",
       "    </tr>\n",
       "    <tr>\n",
       "      <th>3</th>\n",
       "      <td>Columbia University</td>\n",
       "      <td>Yes</td>\n",
       "      <td>2021</td>\n",
       "      <td>Columbia has adopted a one-year test optional ...</td>\n",
       "      <td>40203</td>\n",
       "      <td>0.055</td>\n",
       "      <td>1450</td>\n",
       "      <td>1560</td>\n",
       "      <td>33</td>\n",
       "      <td>35</td>\n",
       "    </tr>\n",
       "    <tr>\n",
       "      <th>4</th>\n",
       "      <td>Yale University</td>\n",
       "      <td>Yes</td>\n",
       "      <td>2021</td>\n",
       "      <td>Yale has adopted a one-year test optional poli...</td>\n",
       "      <td>36844</td>\n",
       "      <td>0.061</td>\n",
       "      <td>1460</td>\n",
       "      <td>1570</td>\n",
       "      <td>33</td>\n",
       "      <td>35</td>\n",
       "    </tr>\n",
       "  </tbody>\n",
       "</table>\n",
       "</div>"
      ],
      "text/plain": [
       "                 School Test Optional? Applies to Class Year(s)  \\\n",
       "0   Stanford University            Yes                     2021   \n",
       "1       Harvard College            Yes                     2021   \n",
       "2  Princeton University            Yes                     2021   \n",
       "3   Columbia University            Yes                     2021   \n",
       "4       Yale University            Yes                     2021   \n",
       "\n",
       "                                      Policy Details  Number of Applicants  \\\n",
       "0  Stanford has adopted a one-year test optional ...                 47452   \n",
       "1  Harvard has adopted a one-year test optional p...                 42749   \n",
       "2  Princeton has adopted a one-year test optional...                 35370   \n",
       "3  Columbia has adopted a one-year test optional ...                 40203   \n",
       "4  Yale has adopted a one-year test optional poli...                 36844   \n",
       "\n",
       "   Accept Rate sat_tot_25th_percentile sat_tot_75th_percentile  \\\n",
       "0        0.043                    1440                    1570   \n",
       "1        0.047                    1460                    1580   \n",
       "2        0.055                    1440                    1570   \n",
       "3        0.055                    1450                    1560   \n",
       "4        0.061                    1460                    1570   \n",
       "\n",
       "  act_composite_25th_percentile act_composite_75th_percentile  \n",
       "0                            32                            35  \n",
       "1                            33                            35  \n",
       "2                            32                            35  \n",
       "3                            33                            35  \n",
       "4                            33                            35  "
      ]
     },
     "execution_count": 857,
     "metadata": {},
     "output_type": "execute_result"
    }
   ],
   "source": [
    "colleges_df.head()"
   ]
  },
  {
   "cell_type": "code",
   "execution_count": 858,
   "metadata": {},
   "outputs": [
    {
     "data": {
      "text/plain": [
       "School                            object\n",
       "Test Optional?                    object\n",
       "Applies to Class Year(s)          object\n",
       "Policy Details                    object\n",
       "Number of Applicants               int64\n",
       "Accept Rate                      float64\n",
       "sat_tot_25th_percentile           object\n",
       "sat_tot_75th_percentile           object\n",
       "act_composite_25th_percentile     object\n",
       "act_composite_75th_percentile     object\n",
       "dtype: object"
      ]
     },
     "execution_count": 858,
     "metadata": {},
     "output_type": "execute_result"
    }
   ],
   "source": [
    "colleges_df.dtypes"
   ]
  },
  {
   "cell_type": "code",
   "execution_count": 859,
   "metadata": {},
   "outputs": [
    {
     "data": {
      "text/html": [
       "<div>\n",
       "<style scoped>\n",
       "    .dataframe tbody tr th:only-of-type {\n",
       "        vertical-align: middle;\n",
       "    }\n",
       "\n",
       "    .dataframe tbody tr th {\n",
       "        vertical-align: top;\n",
       "    }\n",
       "\n",
       "    .dataframe thead th {\n",
       "        text-align: right;\n",
       "    }\n",
       "</style>\n",
       "<table border=\"1\" class=\"dataframe\">\n",
       "  <thead>\n",
       "    <tr style=\"text-align: right;\">\n",
       "      <th></th>\n",
       "      <th>School</th>\n",
       "      <th>Test Optional?</th>\n",
       "      <th>Applies to Class Year(s)</th>\n",
       "      <th>Policy Details</th>\n",
       "      <th>Number of Applicants</th>\n",
       "      <th>Accept Rate</th>\n",
       "      <th>sat_tot_25th_percentile</th>\n",
       "      <th>sat_tot_75th_percentile</th>\n",
       "      <th>act_composite_25th_percentile</th>\n",
       "      <th>act_composite_75th_percentile</th>\n",
       "    </tr>\n",
       "  </thead>\n",
       "  <tbody>\n",
       "    <tr>\n",
       "      <th>5</th>\n",
       "      <td>California Institute of Technology</td>\n",
       "      <td>Yes (TB)</td>\n",
       "      <td>2021 2022</td>\n",
       "      <td>CalTech has adopted a two-year Test Blind poli...</td>\n",
       "      <td>8367</td>\n",
       "      <td>0.064</td>\n",
       "      <td>​​ 1530</td>\n",
       "      <td>1560</td>\n",
       "      <td>35</td>\n",
       "      <td>36</td>\n",
       "    </tr>\n",
       "  </tbody>\n",
       "</table>\n",
       "</div>"
      ],
      "text/plain": [
       "                               School Test Optional? Applies to Class Year(s)  \\\n",
       "5  California Institute of Technology       Yes (TB)                2021 2022   \n",
       "\n",
       "                                      Policy Details  Number of Applicants  \\\n",
       "5  CalTech has adopted a two-year Test Blind poli...                  8367   \n",
       "\n",
       "   Accept Rate sat_tot_25th_percentile sat_tot_75th_percentile  \\\n",
       "5        0.064                 ​​ 1530                    1560   \n",
       "\n",
       "  act_composite_25th_percentile act_composite_75th_percentile  \n",
       "5                            35                            36  "
      ]
     },
     "execution_count": 859,
     "metadata": {},
     "output_type": "execute_result"
    }
   ],
   "source": [
    "colleges_df[colleges_df['sat_tot_25th_percentile'] == '\\u200b\\u200b 1530']"
   ]
  },
  {
   "cell_type": "code",
   "execution_count": 860,
   "metadata": {},
   "outputs": [],
   "source": [
    "colleges_df['sat_tot_25th_percentile'] = colleges_df['sat_tot_25th_percentile'].map(lambda x: int(x.replace(\"\\u200b\\u200b \", \"\")) if \"\\u200b\\u200b \" in x else 0 if x == \"\" else int(round(float(x))))"
   ]
  },
  {
   "cell_type": "code",
   "execution_count": 861,
   "metadata": {},
   "outputs": [
    {
     "data": {
      "text/plain": [
       "School                            object\n",
       "Test Optional?                    object\n",
       "Applies to Class Year(s)          object\n",
       "Policy Details                    object\n",
       "Number of Applicants               int64\n",
       "Accept Rate                      float64\n",
       "sat_tot_25th_percentile            int64\n",
       "sat_tot_75th_percentile           object\n",
       "act_composite_25th_percentile     object\n",
       "act_composite_75th_percentile     object\n",
       "dtype: object"
      ]
     },
     "execution_count": 861,
     "metadata": {},
     "output_type": "execute_result"
    }
   ],
   "source": [
    "colleges_df.dtypes"
   ]
  },
  {
   "cell_type": "code",
   "execution_count": 862,
   "metadata": {},
   "outputs": [],
   "source": [
    "colleges_df['sat_tot_75th_percentile'] = colleges_df['sat_tot_75th_percentile'].map(lambda x: int(x.replace(\"\\u200b\\u200b \", \"\")) if \"\\u200b\\u200b \" in x else 0 if x == \"\" else int(round(float(x))))\n",
    "colleges_df['act_composite_25th_percentile'] = colleges_df['act_composite_25th_percentile'].map(lambda x: int(x.replace(\"\\u200b\\u200b \", \"\")) if \"\\u200b\\u200b \" in x else 0 if x == \"\" else int(round(float(x))))\n",
    "colleges_df['act_composite_75th_percentile'] = colleges_df['act_composite_75th_percentile'].map(lambda x: int(x.replace(\"\\u200b\\u200b \", \"\")) if \"\\u200b\\u200b \" in x else 0 if x == \"\" else int(round(float(x))))\n"
   ]
  },
  {
   "cell_type": "code",
   "execution_count": 863,
   "metadata": {},
   "outputs": [
    {
     "data": {
      "text/plain": [
       "School                            object\n",
       "Test Optional?                    object\n",
       "Applies to Class Year(s)          object\n",
       "Policy Details                    object\n",
       "Number of Applicants               int64\n",
       "Accept Rate                      float64\n",
       "sat_tot_25th_percentile            int64\n",
       "sat_tot_75th_percentile            int64\n",
       "act_composite_25th_percentile      int64\n",
       "act_composite_75th_percentile      int64\n",
       "dtype: object"
      ]
     },
     "execution_count": 863,
     "metadata": {},
     "output_type": "execute_result"
    }
   ],
   "source": [
    "colleges_df.dtypes"
   ]
  },
  {
   "cell_type": "markdown",
   "metadata": {
    "tags": []
   },
   "source": [
    "#### 6.1 Discovered Missing Data\n",
    "In the course of the above work I discovered that there are some 0 values in the data that don't make sense so I searched for it and eliminated it below.\n",
    "\n",
    "I found 6 colleges that don't have SAT scores. I eliminated them from the data frame.\n",
    "\n",
    "I found 5 colleges that don't have ACT scores. I eliminated them from the data frame.\n",
    "\n",
    "All this done below."
   ]
  },
  {
   "cell_type": "code",
   "execution_count": 864,
   "metadata": {},
   "outputs": [
    {
     "data": {
      "text/plain": [
       "count     416.000000\n",
       "mean     1150.175481\n",
       "std       189.620815\n",
       "min         0.000000\n",
       "25%      1070.000000\n",
       "50%      1150.000000\n",
       "75%      1250.000000\n",
       "max      1530.000000\n",
       "Name: sat_tot_25th_percentile, dtype: float64"
      ]
     },
     "execution_count": 864,
     "metadata": {},
     "output_type": "execute_result"
    }
   ],
   "source": [
    "colleges_df['sat_tot_25th_percentile'].describe()"
   ]
  },
  {
   "cell_type": "code",
   "execution_count": 865,
   "metadata": {},
   "outputs": [
    {
     "data": {
      "text/plain": [
       "0    6\n",
       "Name: sat_tot_25th_percentile, dtype: int64"
      ]
     },
     "execution_count": 865,
     "metadata": {},
     "output_type": "execute_result"
    }
   ],
   "source": [
    "colleges_df[colleges_df['sat_tot_25th_percentile'] == 0]['sat_tot_25th_percentile'].value_counts()"
   ]
  },
  {
   "cell_type": "code",
   "execution_count": 866,
   "metadata": {},
   "outputs": [
    {
     "data": {
      "text/html": [
       "<div>\n",
       "<style scoped>\n",
       "    .dataframe tbody tr th:only-of-type {\n",
       "        vertical-align: middle;\n",
       "    }\n",
       "\n",
       "    .dataframe tbody tr th {\n",
       "        vertical-align: top;\n",
       "    }\n",
       "\n",
       "    .dataframe thead th {\n",
       "        text-align: right;\n",
       "    }\n",
       "</style>\n",
       "<table border=\"1\" class=\"dataframe\">\n",
       "  <thead>\n",
       "    <tr style=\"text-align: right;\">\n",
       "      <th></th>\n",
       "      <th>School</th>\n",
       "      <th>Test Optional?</th>\n",
       "      <th>Applies to Class Year(s)</th>\n",
       "      <th>Policy Details</th>\n",
       "      <th>Number of Applicants</th>\n",
       "      <th>Accept Rate</th>\n",
       "      <th>sat_tot_25th_percentile</th>\n",
       "      <th>sat_tot_75th_percentile</th>\n",
       "      <th>act_composite_25th_percentile</th>\n",
       "      <th>act_composite_75th_percentile</th>\n",
       "    </tr>\n",
       "  </thead>\n",
       "  <tbody>\n",
       "    <tr>\n",
       "      <th>254</th>\n",
       "      <td>Gustavus Adolphus College</td>\n",
       "      <td>Yes</td>\n",
       "      <td>All / Permanent Policy</td>\n",
       "      <td>Gustavus Adolphus College offers a test option...</td>\n",
       "      <td>4957</td>\n",
       "      <td>0.692</td>\n",
       "      <td>0</td>\n",
       "      <td>0</td>\n",
       "      <td>25</td>\n",
       "      <td>30</td>\n",
       "    </tr>\n",
       "    <tr>\n",
       "      <th>305</th>\n",
       "      <td>Ball State</td>\n",
       "      <td>Yes</td>\n",
       "      <td>All / Permanent Policy</td>\n",
       "      <td>Ball State University offers a test optional p...</td>\n",
       "      <td>23305</td>\n",
       "      <td>0.767</td>\n",
       "      <td>0</td>\n",
       "      <td>0</td>\n",
       "      <td>0</td>\n",
       "      <td>0</td>\n",
       "    </tr>\n",
       "    <tr>\n",
       "      <th>375</th>\n",
       "      <td>Weber State</td>\n",
       "      <td>Yes</td>\n",
       "      <td>All / Permanent Policy</td>\n",
       "      <td>Weber State University offers a test optional ...</td>\n",
       "      <td>6853</td>\n",
       "      <td>0.891</td>\n",
       "      <td>0</td>\n",
       "      <td>0</td>\n",
       "      <td>18</td>\n",
       "      <td>24</td>\n",
       "    </tr>\n",
       "    <tr>\n",
       "      <th>383</th>\n",
       "      <td>University of Kansas</td>\n",
       "      <td>Yes*</td>\n",
       "      <td>All / Permanent Policy</td>\n",
       "      <td>The University of Kansas requires either the S...</td>\n",
       "      <td>15093</td>\n",
       "      <td>0.931</td>\n",
       "      <td>0</td>\n",
       "      <td>0</td>\n",
       "      <td>23</td>\n",
       "      <td>29</td>\n",
       "    </tr>\n",
       "    <tr>\n",
       "      <th>386</th>\n",
       "      <td>Kansas State University</td>\n",
       "      <td>Yes*</td>\n",
       "      <td>All / Permanent Policy</td>\n",
       "      <td>Kansas State requires either the SAT or ACT. H...</td>\n",
       "      <td>8140</td>\n",
       "      <td>0.957</td>\n",
       "      <td>0</td>\n",
       "      <td>0</td>\n",
       "      <td>22</td>\n",
       "      <td>28</td>\n",
       "    </tr>\n",
       "    <tr>\n",
       "      <th>405</th>\n",
       "      <td>Milwaukee School of Engineering</td>\n",
       "      <td>No</td>\n",
       "      <td>NaN</td>\n",
       "      <td>The Milwaukee School of Engineering requires e...</td>\n",
       "      <td>3552</td>\n",
       "      <td>0.617</td>\n",
       "      <td>0</td>\n",
       "      <td>0</td>\n",
       "      <td>25</td>\n",
       "      <td>30</td>\n",
       "    </tr>\n",
       "  </tbody>\n",
       "</table>\n",
       "</div>"
      ],
      "text/plain": [
       "                              School Test Optional? Applies to Class Year(s)  \\\n",
       "254        Gustavus Adolphus College            Yes   All / Permanent Policy   \n",
       "305                       Ball State            Yes   All / Permanent Policy   \n",
       "375                      Weber State            Yes   All / Permanent Policy   \n",
       "383             University of Kansas           Yes*   All / Permanent Policy   \n",
       "386          Kansas State University           Yes*   All / Permanent Policy   \n",
       "405  Milwaukee School of Engineering             No                      NaN   \n",
       "\n",
       "                                        Policy Details  Number of Applicants  \\\n",
       "254  Gustavus Adolphus College offers a test option...                  4957   \n",
       "305  Ball State University offers a test optional p...                 23305   \n",
       "375  Weber State University offers a test optional ...                  6853   \n",
       "383  The University of Kansas requires either the S...                 15093   \n",
       "386  Kansas State requires either the SAT or ACT. H...                  8140   \n",
       "405  The Milwaukee School of Engineering requires e...                  3552   \n",
       "\n",
       "     Accept Rate  sat_tot_25th_percentile  sat_tot_75th_percentile  \\\n",
       "254        0.692                        0                        0   \n",
       "305        0.767                        0                        0   \n",
       "375        0.891                        0                        0   \n",
       "383        0.931                        0                        0   \n",
       "386        0.957                        0                        0   \n",
       "405        0.617                        0                        0   \n",
       "\n",
       "     act_composite_25th_percentile  act_composite_75th_percentile  \n",
       "254                             25                             30  \n",
       "305                              0                              0  \n",
       "375                             18                             24  \n",
       "383                             23                             29  \n",
       "386                             22                             28  \n",
       "405                             25                             30  "
      ]
     },
     "execution_count": 866,
     "metadata": {},
     "output_type": "execute_result"
    }
   ],
   "source": [
    "colleges_df[colleges_df['sat_tot_25th_percentile'] == 0]"
   ]
  },
  {
   "cell_type": "code",
   "execution_count": 867,
   "metadata": {},
   "outputs": [],
   "source": [
    "colleges_df = colleges_df[colleges_df['sat_tot_25th_percentile'].map(lambda x: True if x != 0 else False)]"
   ]
  },
  {
   "cell_type": "code",
   "execution_count": 868,
   "metadata": {},
   "outputs": [
    {
     "data": {
      "text/html": [
       "<div>\n",
       "<style scoped>\n",
       "    .dataframe tbody tr th:only-of-type {\n",
       "        vertical-align: middle;\n",
       "    }\n",
       "\n",
       "    .dataframe tbody tr th {\n",
       "        vertical-align: top;\n",
       "    }\n",
       "\n",
       "    .dataframe thead th {\n",
       "        text-align: right;\n",
       "    }\n",
       "</style>\n",
       "<table border=\"1\" class=\"dataframe\">\n",
       "  <thead>\n",
       "    <tr style=\"text-align: right;\">\n",
       "      <th></th>\n",
       "      <th>School</th>\n",
       "      <th>Test Optional?</th>\n",
       "      <th>Applies to Class Year(s)</th>\n",
       "      <th>Policy Details</th>\n",
       "      <th>Number of Applicants</th>\n",
       "      <th>Accept Rate</th>\n",
       "      <th>sat_tot_25th_percentile</th>\n",
       "      <th>sat_tot_75th_percentile</th>\n",
       "      <th>act_composite_25th_percentile</th>\n",
       "      <th>act_composite_75th_percentile</th>\n",
       "    </tr>\n",
       "  </thead>\n",
       "  <tbody>\n",
       "  </tbody>\n",
       "</table>\n",
       "</div>"
      ],
      "text/plain": [
       "Empty DataFrame\n",
       "Columns: [School, Test Optional?, Applies to Class Year(s), Policy Details, Number of Applicants, Accept Rate, sat_tot_25th_percentile, sat_tot_75th_percentile, act_composite_25th_percentile, act_composite_75th_percentile]\n",
       "Index: []"
      ]
     },
     "execution_count": 868,
     "metadata": {},
     "output_type": "execute_result"
    }
   ],
   "source": [
    "colleges_df[colleges_df['sat_tot_25th_percentile'] == 0]"
   ]
  },
  {
   "cell_type": "code",
   "execution_count": 869,
   "metadata": {},
   "outputs": [
    {
     "data": {
      "text/plain": [
       "count    410.000000\n",
       "mean      24.436585\n",
       "std        4.929541\n",
       "min        0.000000\n",
       "25%       22.000000\n",
       "50%       24.000000\n",
       "75%       28.000000\n",
       "max       35.000000\n",
       "Name: act_composite_25th_percentile, dtype: float64"
      ]
     },
     "execution_count": 869,
     "metadata": {},
     "output_type": "execute_result"
    }
   ],
   "source": [
    "colleges_df['act_composite_25th_percentile'].describe()"
   ]
  },
  {
   "cell_type": "code",
   "execution_count": 870,
   "metadata": {},
   "outputs": [
    {
     "data": {
      "text/plain": [
       "0    5\n",
       "Name: act_composite_25th_percentile, dtype: int64"
      ]
     },
     "execution_count": 870,
     "metadata": {},
     "output_type": "execute_result"
    }
   ],
   "source": [
    "colleges_df[colleges_df['act_composite_25th_percentile'] == 0]['act_composite_25th_percentile'].value_counts()"
   ]
  },
  {
   "cell_type": "code",
   "execution_count": 871,
   "metadata": {},
   "outputs": [
    {
     "data": {
      "text/html": [
       "<div>\n",
       "<style scoped>\n",
       "    .dataframe tbody tr th:only-of-type {\n",
       "        vertical-align: middle;\n",
       "    }\n",
       "\n",
       "    .dataframe tbody tr th {\n",
       "        vertical-align: top;\n",
       "    }\n",
       "\n",
       "    .dataframe thead th {\n",
       "        text-align: right;\n",
       "    }\n",
       "</style>\n",
       "<table border=\"1\" class=\"dataframe\">\n",
       "  <thead>\n",
       "    <tr style=\"text-align: right;\">\n",
       "      <th></th>\n",
       "      <th>School</th>\n",
       "      <th>Test Optional?</th>\n",
       "      <th>Applies to Class Year(s)</th>\n",
       "      <th>Policy Details</th>\n",
       "      <th>Number of Applicants</th>\n",
       "      <th>Accept Rate</th>\n",
       "      <th>sat_tot_25th_percentile</th>\n",
       "      <th>sat_tot_75th_percentile</th>\n",
       "      <th>act_composite_25th_percentile</th>\n",
       "      <th>act_composite_75th_percentile</th>\n",
       "    </tr>\n",
       "  </thead>\n",
       "  <tbody>\n",
       "    <tr>\n",
       "      <th>60</th>\n",
       "      <td>University of California—​Irvine</td>\n",
       "      <td>Yes (TB)</td>\n",
       "      <td>2021 2022 2023 2024</td>\n",
       "      <td>UCI has adopted a four-year test blind policy ...</td>\n",
       "      <td>95568</td>\n",
       "      <td>0.265</td>\n",
       "      <td>1180</td>\n",
       "      <td>1440</td>\n",
       "      <td>0</td>\n",
       "      <td>0</td>\n",
       "    </tr>\n",
       "    <tr>\n",
       "      <th>93</th>\n",
       "      <td>CUNY--Hunter</td>\n",
       "      <td>Yes (TB)</td>\n",
       "      <td>2021</td>\n",
       "      <td>The CUNY system has adopted a one-year Test Bl...</td>\n",
       "      <td>31030</td>\n",
       "      <td>0.364</td>\n",
       "      <td>1090</td>\n",
       "      <td>1260</td>\n",
       "      <td>0</td>\n",
       "      <td>0</td>\n",
       "    </tr>\n",
       "    <tr>\n",
       "      <th>114</th>\n",
       "      <td>CUNY--Baruch College</td>\n",
       "      <td>Yes (TB)</td>\n",
       "      <td>2021</td>\n",
       "      <td>The CUNY system has adopted a one-year Test Bl...</td>\n",
       "      <td>20303</td>\n",
       "      <td>0.434</td>\n",
       "      <td>1130</td>\n",
       "      <td>1330</td>\n",
       "      <td>0</td>\n",
       "      <td>0</td>\n",
       "    </tr>\n",
       "    <tr>\n",
       "      <th>242</th>\n",
       "      <td>DePaul University</td>\n",
       "      <td>Yes</td>\n",
       "      <td>All / Permanent Policy</td>\n",
       "      <td>DePaul University offers a test optional polic...</td>\n",
       "      <td>26895</td>\n",
       "      <td>0.682</td>\n",
       "      <td>1070</td>\n",
       "      <td>1290</td>\n",
       "      <td>0</td>\n",
       "      <td>0</td>\n",
       "    </tr>\n",
       "    <tr>\n",
       "      <th>261</th>\n",
       "      <td>Montclair State</td>\n",
       "      <td>Yes</td>\n",
       "      <td>All / Permanent Policy</td>\n",
       "      <td>Montclair State offers a test optional policy ...</td>\n",
       "      <td>14324</td>\n",
       "      <td>0.709</td>\n",
       "      <td>990</td>\n",
       "      <td>1170</td>\n",
       "      <td>0</td>\n",
       "      <td>0</td>\n",
       "    </tr>\n",
       "  </tbody>\n",
       "</table>\n",
       "</div>"
      ],
      "text/plain": [
       "                               School Test Optional? Applies to Class Year(s)  \\\n",
       "60   University of California—​Irvine       Yes (TB)      2021 2022 2023 2024   \n",
       "93                       CUNY--Hunter       Yes (TB)                     2021   \n",
       "114              CUNY--Baruch College       Yes (TB)                     2021   \n",
       "242                 DePaul University            Yes   All / Permanent Policy   \n",
       "261                   Montclair State            Yes   All / Permanent Policy   \n",
       "\n",
       "                                        Policy Details  Number of Applicants  \\\n",
       "60   UCI has adopted a four-year test blind policy ...                 95568   \n",
       "93   The CUNY system has adopted a one-year Test Bl...                 31030   \n",
       "114  The CUNY system has adopted a one-year Test Bl...                 20303   \n",
       "242  DePaul University offers a test optional polic...                 26895   \n",
       "261  Montclair State offers a test optional policy ...                 14324   \n",
       "\n",
       "     Accept Rate  sat_tot_25th_percentile  sat_tot_75th_percentile  \\\n",
       "60         0.265                     1180                     1440   \n",
       "93         0.364                     1090                     1260   \n",
       "114        0.434                     1130                     1330   \n",
       "242        0.682                     1070                     1290   \n",
       "261        0.709                      990                     1170   \n",
       "\n",
       "     act_composite_25th_percentile  act_composite_75th_percentile  \n",
       "60                               0                              0  \n",
       "93                               0                              0  \n",
       "114                              0                              0  \n",
       "242                              0                              0  \n",
       "261                              0                              0  "
      ]
     },
     "execution_count": 871,
     "metadata": {},
     "output_type": "execute_result"
    }
   ],
   "source": [
    "colleges_df[colleges_df['act_composite_25th_percentile'] == 0]"
   ]
  },
  {
   "cell_type": "code",
   "execution_count": 872,
   "metadata": {},
   "outputs": [],
   "source": [
    "colleges_df = colleges_df[colleges_df['act_composite_25th_percentile'].map(lambda x: True if x != 0 else False)]"
   ]
  },
  {
   "cell_type": "code",
   "execution_count": 873,
   "metadata": {},
   "outputs": [
    {
     "data": {
      "text/html": [
       "<div>\n",
       "<style scoped>\n",
       "    .dataframe tbody tr th:only-of-type {\n",
       "        vertical-align: middle;\n",
       "    }\n",
       "\n",
       "    .dataframe tbody tr th {\n",
       "        vertical-align: top;\n",
       "    }\n",
       "\n",
       "    .dataframe thead th {\n",
       "        text-align: right;\n",
       "    }\n",
       "</style>\n",
       "<table border=\"1\" class=\"dataframe\">\n",
       "  <thead>\n",
       "    <tr style=\"text-align: right;\">\n",
       "      <th></th>\n",
       "      <th>School</th>\n",
       "      <th>Test Optional?</th>\n",
       "      <th>Applies to Class Year(s)</th>\n",
       "      <th>Policy Details</th>\n",
       "      <th>Number of Applicants</th>\n",
       "      <th>Accept Rate</th>\n",
       "      <th>sat_tot_25th_percentile</th>\n",
       "      <th>sat_tot_75th_percentile</th>\n",
       "      <th>act_composite_25th_percentile</th>\n",
       "      <th>act_composite_75th_percentile</th>\n",
       "    </tr>\n",
       "  </thead>\n",
       "  <tbody>\n",
       "  </tbody>\n",
       "</table>\n",
       "</div>"
      ],
      "text/plain": [
       "Empty DataFrame\n",
       "Columns: [School, Test Optional?, Applies to Class Year(s), Policy Details, Number of Applicants, Accept Rate, sat_tot_25th_percentile, sat_tot_75th_percentile, act_composite_25th_percentile, act_composite_75th_percentile]\n",
       "Index: []"
      ]
     },
     "execution_count": 873,
     "metadata": {},
     "output_type": "execute_result"
    }
   ],
   "source": [
    "colleges_df[colleges_df['act_composite_25th_percentile'] == 0]"
   ]
  },
  {
   "cell_type": "code",
   "execution_count": 874,
   "metadata": {},
   "outputs": [
    {
     "data": {
      "text/plain": [
       "Series([], dtype: int64)"
      ]
     },
     "execution_count": 874,
     "metadata": {},
     "output_type": "execute_result"
    }
   ],
   "source": [
    "colleges_df[colleges_df['sat_tot_75th_percentile'] == 0].value_counts()"
   ]
  },
  {
   "cell_type": "code",
   "execution_count": 875,
   "metadata": {},
   "outputs": [
    {
     "data": {
      "text/html": [
       "<div>\n",
       "<style scoped>\n",
       "    .dataframe tbody tr th:only-of-type {\n",
       "        vertical-align: middle;\n",
       "    }\n",
       "\n",
       "    .dataframe tbody tr th {\n",
       "        vertical-align: top;\n",
       "    }\n",
       "\n",
       "    .dataframe thead th {\n",
       "        text-align: right;\n",
       "    }\n",
       "</style>\n",
       "<table border=\"1\" class=\"dataframe\">\n",
       "  <thead>\n",
       "    <tr style=\"text-align: right;\">\n",
       "      <th></th>\n",
       "      <th>School</th>\n",
       "      <th>Test Optional?</th>\n",
       "      <th>Applies to Class Year(s)</th>\n",
       "      <th>Policy Details</th>\n",
       "      <th>Number of Applicants</th>\n",
       "      <th>Accept Rate</th>\n",
       "      <th>sat_tot_25th_percentile</th>\n",
       "      <th>sat_tot_75th_percentile</th>\n",
       "      <th>act_composite_25th_percentile</th>\n",
       "      <th>act_composite_75th_percentile</th>\n",
       "    </tr>\n",
       "  </thead>\n",
       "  <tbody>\n",
       "  </tbody>\n",
       "</table>\n",
       "</div>"
      ],
      "text/plain": [
       "Empty DataFrame\n",
       "Columns: [School, Test Optional?, Applies to Class Year(s), Policy Details, Number of Applicants, Accept Rate, sat_tot_25th_percentile, sat_tot_75th_percentile, act_composite_25th_percentile, act_composite_75th_percentile]\n",
       "Index: []"
      ]
     },
     "execution_count": 875,
     "metadata": {},
     "output_type": "execute_result"
    }
   ],
   "source": [
    "colleges_df[colleges_df['sat_tot_75th_percentile'] == 0]"
   ]
  },
  {
   "cell_type": "code",
   "execution_count": 876,
   "metadata": {},
   "outputs": [
    {
     "data": {
      "text/plain": [
       "Series([], dtype: int64)"
      ]
     },
     "execution_count": 876,
     "metadata": {},
     "output_type": "execute_result"
    }
   ],
   "source": [
    "colleges_df[colleges_df['act_composite_75th_percentile'] == 0].value_counts()"
   ]
  },
  {
   "cell_type": "code",
   "execution_count": 877,
   "metadata": {},
   "outputs": [
    {
     "data": {
      "text/html": [
       "<div>\n",
       "<style scoped>\n",
       "    .dataframe tbody tr th:only-of-type {\n",
       "        vertical-align: middle;\n",
       "    }\n",
       "\n",
       "    .dataframe tbody tr th {\n",
       "        vertical-align: top;\n",
       "    }\n",
       "\n",
       "    .dataframe thead th {\n",
       "        text-align: right;\n",
       "    }\n",
       "</style>\n",
       "<table border=\"1\" class=\"dataframe\">\n",
       "  <thead>\n",
       "    <tr style=\"text-align: right;\">\n",
       "      <th></th>\n",
       "      <th>School</th>\n",
       "      <th>Test Optional?</th>\n",
       "      <th>Applies to Class Year(s)</th>\n",
       "      <th>Policy Details</th>\n",
       "      <th>Number of Applicants</th>\n",
       "      <th>Accept Rate</th>\n",
       "      <th>sat_tot_25th_percentile</th>\n",
       "      <th>sat_tot_75th_percentile</th>\n",
       "      <th>act_composite_25th_percentile</th>\n",
       "      <th>act_composite_75th_percentile</th>\n",
       "    </tr>\n",
       "  </thead>\n",
       "  <tbody>\n",
       "  </tbody>\n",
       "</table>\n",
       "</div>"
      ],
      "text/plain": [
       "Empty DataFrame\n",
       "Columns: [School, Test Optional?, Applies to Class Year(s), Policy Details, Number of Applicants, Accept Rate, sat_tot_25th_percentile, sat_tot_75th_percentile, act_composite_25th_percentile, act_composite_75th_percentile]\n",
       "Index: []"
      ]
     },
     "execution_count": 877,
     "metadata": {},
     "output_type": "execute_result"
    }
   ],
   "source": [
    "colleges_df[colleges_df['act_composite_75th_percentile'] == 0]"
   ]
  },
  {
   "cell_type": "markdown",
   "metadata": {
    "tags": []
   },
   "source": [
    "#### 7.0 Rename Columns, SAT/ACT by College DF"
   ]
  },
  {
   "cell_type": "code",
   "execution_count": 878,
   "metadata": {},
   "outputs": [
    {
     "data": {
      "text/html": [
       "<div>\n",
       "<style scoped>\n",
       "    .dataframe tbody tr th:only-of-type {\n",
       "        vertical-align: middle;\n",
       "    }\n",
       "\n",
       "    .dataframe tbody tr th {\n",
       "        vertical-align: top;\n",
       "    }\n",
       "\n",
       "    .dataframe thead th {\n",
       "        text-align: right;\n",
       "    }\n",
       "</style>\n",
       "<table border=\"1\" class=\"dataframe\">\n",
       "  <thead>\n",
       "    <tr style=\"text-align: right;\">\n",
       "      <th></th>\n",
       "      <th>School</th>\n",
       "      <th>Test Optional?</th>\n",
       "      <th>Applies to Class Year(s)</th>\n",
       "      <th>Policy Details</th>\n",
       "      <th>Number of Applicants</th>\n",
       "      <th>Accept Rate</th>\n",
       "      <th>sat_tot_25th_percentile</th>\n",
       "      <th>sat_tot_75th_percentile</th>\n",
       "      <th>act_composite_25th_percentile</th>\n",
       "      <th>act_composite_75th_percentile</th>\n",
       "    </tr>\n",
       "  </thead>\n",
       "  <tbody>\n",
       "    <tr>\n",
       "      <th>0</th>\n",
       "      <td>Stanford University</td>\n",
       "      <td>Yes</td>\n",
       "      <td>2021</td>\n",
       "      <td>Stanford has adopted a one-year test optional ...</td>\n",
       "      <td>47452</td>\n",
       "      <td>0.043</td>\n",
       "      <td>1440</td>\n",
       "      <td>1570</td>\n",
       "      <td>32</td>\n",
       "      <td>35</td>\n",
       "    </tr>\n",
       "    <tr>\n",
       "      <th>1</th>\n",
       "      <td>Harvard College</td>\n",
       "      <td>Yes</td>\n",
       "      <td>2021</td>\n",
       "      <td>Harvard has adopted a one-year test optional p...</td>\n",
       "      <td>42749</td>\n",
       "      <td>0.047</td>\n",
       "      <td>1460</td>\n",
       "      <td>1580</td>\n",
       "      <td>33</td>\n",
       "      <td>35</td>\n",
       "    </tr>\n",
       "  </tbody>\n",
       "</table>\n",
       "</div>"
      ],
      "text/plain": [
       "                School Test Optional? Applies to Class Year(s)  \\\n",
       "0  Stanford University            Yes                     2021   \n",
       "1      Harvard College            Yes                     2021   \n",
       "\n",
       "                                      Policy Details  Number of Applicants  \\\n",
       "0  Stanford has adopted a one-year test optional ...                 47452   \n",
       "1  Harvard has adopted a one-year test optional p...                 42749   \n",
       "\n",
       "   Accept Rate  sat_tot_25th_percentile  sat_tot_75th_percentile  \\\n",
       "0        0.043                     1440                     1570   \n",
       "1        0.047                     1460                     1580   \n",
       "\n",
       "   act_composite_25th_percentile  act_composite_75th_percentile  \n",
       "0                             32                             35  \n",
       "1                             33                             35  "
      ]
     },
     "execution_count": 878,
     "metadata": {},
     "output_type": "execute_result"
    }
   ],
   "source": [
    "colleges_df.head(2)"
   ]
  },
  {
   "cell_type": "code",
   "execution_count": 879,
   "metadata": {},
   "outputs": [],
   "source": [
    "coll_df_column_dict = {\n",
    "    'School': 'school',\n",
    "    'Test Optional?': 'test_optional_or_no',\n",
    "    'Applies to Class Year(s)': 'applies_to_class_year_s',\n",
    "    'Policy Details': 'policy_details',\n",
    "    'Number of Applicants': 'number_of_applicants',\n",
    "    'Accept Rate': 'accept_rate',\n",
    "}"
   ]
  },
  {
   "cell_type": "code",
   "execution_count": 880,
   "metadata": {},
   "outputs": [
    {
     "ename": "AttributeError",
     "evalue": "'NoneType' object has no attribute 'copy'",
     "output_type": "error",
     "traceback": [
      "\u001b[0;31m---------------------------------------------------------------------------\u001b[0m",
      "\u001b[0;31mAttributeError\u001b[0m                            Traceback (most recent call last)",
      "Input \u001b[0;32mIn [880]\u001b[0m, in \u001b[0;36m<cell line: 7>\u001b[0;34m()\u001b[0m\n\u001b[1;32m      1\u001b[0m \u001b[38;5;66;03m# WHY DOES THIS THROW AN ERROR BUT APPEAR TO WORK, NONETHELESS?\u001b[39;00m\n\u001b[1;32m      2\u001b[0m \n\u001b[1;32m      3\u001b[0m \u001b[38;5;66;03m# Previously I got an error about how I was trying to work on a copy of a slice. In researching it here:\u001b[39;00m\n\u001b[1;32m      4\u001b[0m \u001b[38;5;66;03m# https://stackoverflow.com/questions/44028898/a-value-is-trying-to-be-set-on-a-copy-of-a-slice-from-a-dataframe-pandas\u001b[39;00m\n\u001b[1;32m      5\u001b[0m \u001b[38;5;66;03m# I added the .copy() at the end, which seems to have worked despite the error.\u001b[39;00m\n\u001b[0;32m----> 7\u001b[0m \u001b[43mcolleges_df\u001b[49m\u001b[38;5;241;43m.\u001b[39;49m\u001b[43mrename\u001b[49m\u001b[43m(\u001b[49m\u001b[43mcolumns\u001b[49m\u001b[43m \u001b[49m\u001b[38;5;241;43m=\u001b[39;49m\u001b[43m \u001b[49m\u001b[43mcoll_df_column_dict\u001b[49m\u001b[43m,\u001b[49m\u001b[43m \u001b[49m\u001b[43minplace\u001b[49m\u001b[43m \u001b[49m\u001b[38;5;241;43m=\u001b[39;49m\u001b[43m \u001b[49m\u001b[38;5;28;43;01mTrue\u001b[39;49;00m\u001b[43m)\u001b[49m\u001b[38;5;241;43m.\u001b[39;49m\u001b[43mcopy\u001b[49m()\n",
      "\u001b[0;31mAttributeError\u001b[0m: 'NoneType' object has no attribute 'copy'"
     ]
    }
   ],
   "source": [
    "# WHY DOES THIS THROW AN ERROR BUT APPEAR TO WORK, NONETHELESS?\n",
    "\n",
    "# Previously I got an error about how I was trying to work on a copy of a slice. In researching it here:\n",
    "# https://stackoverflow.com/questions/44028898/a-value-is-trying-to-be-set-on-a-copy-of-a-slice-from-a-dataframe-pandas\n",
    "# I added the .copy() at the end, which seems to have worked despite the error.\n",
    "\n",
    "colleges_df.rename(columns = coll_df_column_dict, inplace = True).copy()"
   ]
  },
  {
   "cell_type": "code",
   "execution_count": 881,
   "metadata": {},
   "outputs": [
    {
     "data": {
      "text/html": [
       "<div>\n",
       "<style scoped>\n",
       "    .dataframe tbody tr th:only-of-type {\n",
       "        vertical-align: middle;\n",
       "    }\n",
       "\n",
       "    .dataframe tbody tr th {\n",
       "        vertical-align: top;\n",
       "    }\n",
       "\n",
       "    .dataframe thead th {\n",
       "        text-align: right;\n",
       "    }\n",
       "</style>\n",
       "<table border=\"1\" class=\"dataframe\">\n",
       "  <thead>\n",
       "    <tr style=\"text-align: right;\">\n",
       "      <th></th>\n",
       "      <th>school</th>\n",
       "      <th>test_optional_or_no</th>\n",
       "      <th>applies_to_class_year_s</th>\n",
       "      <th>policy_details</th>\n",
       "      <th>number_of_applicants</th>\n",
       "      <th>accept_rate</th>\n",
       "      <th>sat_tot_25th_percentile</th>\n",
       "      <th>sat_tot_75th_percentile</th>\n",
       "      <th>act_composite_25th_percentile</th>\n",
       "      <th>act_composite_75th_percentile</th>\n",
       "    </tr>\n",
       "  </thead>\n",
       "  <tbody>\n",
       "    <tr>\n",
       "      <th>0</th>\n",
       "      <td>Stanford University</td>\n",
       "      <td>Yes</td>\n",
       "      <td>2021</td>\n",
       "      <td>Stanford has adopted a one-year test optional ...</td>\n",
       "      <td>47452</td>\n",
       "      <td>0.043</td>\n",
       "      <td>1440</td>\n",
       "      <td>1570</td>\n",
       "      <td>32</td>\n",
       "      <td>35</td>\n",
       "    </tr>\n",
       "    <tr>\n",
       "      <th>1</th>\n",
       "      <td>Harvard College</td>\n",
       "      <td>Yes</td>\n",
       "      <td>2021</td>\n",
       "      <td>Harvard has adopted a one-year test optional p...</td>\n",
       "      <td>42749</td>\n",
       "      <td>0.047</td>\n",
       "      <td>1460</td>\n",
       "      <td>1580</td>\n",
       "      <td>33</td>\n",
       "      <td>35</td>\n",
       "    </tr>\n",
       "    <tr>\n",
       "      <th>2</th>\n",
       "      <td>Princeton University</td>\n",
       "      <td>Yes</td>\n",
       "      <td>2021</td>\n",
       "      <td>Princeton has adopted a one-year test optional...</td>\n",
       "      <td>35370</td>\n",
       "      <td>0.055</td>\n",
       "      <td>1440</td>\n",
       "      <td>1570</td>\n",
       "      <td>32</td>\n",
       "      <td>35</td>\n",
       "    </tr>\n",
       "    <tr>\n",
       "      <th>3</th>\n",
       "      <td>Columbia University</td>\n",
       "      <td>Yes</td>\n",
       "      <td>2021</td>\n",
       "      <td>Columbia has adopted a one-year test optional ...</td>\n",
       "      <td>40203</td>\n",
       "      <td>0.055</td>\n",
       "      <td>1450</td>\n",
       "      <td>1560</td>\n",
       "      <td>33</td>\n",
       "      <td>35</td>\n",
       "    </tr>\n",
       "    <tr>\n",
       "      <th>4</th>\n",
       "      <td>Yale University</td>\n",
       "      <td>Yes</td>\n",
       "      <td>2021</td>\n",
       "      <td>Yale has adopted a one-year test optional poli...</td>\n",
       "      <td>36844</td>\n",
       "      <td>0.061</td>\n",
       "      <td>1460</td>\n",
       "      <td>1570</td>\n",
       "      <td>33</td>\n",
       "      <td>35</td>\n",
       "    </tr>\n",
       "  </tbody>\n",
       "</table>\n",
       "</div>"
      ],
      "text/plain": [
       "                 school test_optional_or_no applies_to_class_year_s  \\\n",
       "0   Stanford University                 Yes                    2021   \n",
       "1       Harvard College                 Yes                    2021   \n",
       "2  Princeton University                 Yes                    2021   \n",
       "3   Columbia University                 Yes                    2021   \n",
       "4       Yale University                 Yes                    2021   \n",
       "\n",
       "                                      policy_details  number_of_applicants  \\\n",
       "0  Stanford has adopted a one-year test optional ...                 47452   \n",
       "1  Harvard has adopted a one-year test optional p...                 42749   \n",
       "2  Princeton has adopted a one-year test optional...                 35370   \n",
       "3  Columbia has adopted a one-year test optional ...                 40203   \n",
       "4  Yale has adopted a one-year test optional poli...                 36844   \n",
       "\n",
       "   accept_rate  sat_tot_25th_percentile  sat_tot_75th_percentile  \\\n",
       "0        0.043                     1440                     1570   \n",
       "1        0.047                     1460                     1580   \n",
       "2        0.055                     1440                     1570   \n",
       "3        0.055                     1450                     1560   \n",
       "4        0.061                     1460                     1570   \n",
       "\n",
       "   act_composite_25th_percentile  act_composite_75th_percentile  \n",
       "0                             32                             35  \n",
       "1                             33                             35  \n",
       "2                             32                             35  \n",
       "3                             33                             35  \n",
       "4                             33                             35  "
      ]
     },
     "execution_count": 881,
     "metadata": {},
     "output_type": "execute_result"
    }
   ],
   "source": [
    "colleges_df.head()"
   ]
  },
  {
   "cell_type": "markdown",
   "metadata": {
    "jp-MarkdownHeadingCollapsed": true,
    "tags": []
   },
   "source": [
    "#### 8.0 Drop Unnecessary Rows, SAT/ACT by College DF\n",
    "\n",
    "I did this above."
   ]
  },
  {
   "cell_type": "markdown",
   "metadata": {
    "jp-MarkdownHeadingCollapsed": true,
    "tags": []
   },
   "source": [
    "# 9.0 Merging SAT 2019 and ACT 2019 Data and adding ACT Composite to SAT Total conversion\n",
    "\n",
    "Combining the sat_19_df and act_2019_df to get act_sat_2019_df.\n",
    "\n",
    "Adding a column to give ACT Composite to SAT Total scores for each state."
   ]
  },
  {
   "cell_type": "code",
   "execution_count": 717,
   "metadata": {},
   "outputs": [
    {
     "data": {
      "text/html": [
       "<div>\n",
       "<style scoped>\n",
       "    .dataframe tbody tr th:only-of-type {\n",
       "        vertical-align: middle;\n",
       "    }\n",
       "\n",
       "    .dataframe tbody tr th {\n",
       "        vertical-align: top;\n",
       "    }\n",
       "\n",
       "    .dataframe thead th {\n",
       "        text-align: right;\n",
       "    }\n",
       "</style>\n",
       "<table border=\"1\" class=\"dataframe\">\n",
       "  <thead>\n",
       "    <tr style=\"text-align: right;\">\n",
       "      <th></th>\n",
       "      <th>state_or_territory</th>\n",
       "      <th>sat_participation_rate</th>\n",
       "      <th>sat_total</th>\n",
       "    </tr>\n",
       "  </thead>\n",
       "  <tbody>\n",
       "    <tr>\n",
       "      <th>0</th>\n",
       "      <td>Alabama</td>\n",
       "      <td>0.07</td>\n",
       "      <td>1143</td>\n",
       "    </tr>\n",
       "    <tr>\n",
       "      <th>1</th>\n",
       "      <td>Alaska</td>\n",
       "      <td>0.41</td>\n",
       "      <td>1097</td>\n",
       "    </tr>\n",
       "    <tr>\n",
       "      <th>2</th>\n",
       "      <td>Arizona</td>\n",
       "      <td>0.31</td>\n",
       "      <td>1134</td>\n",
       "    </tr>\n",
       "    <tr>\n",
       "      <th>3</th>\n",
       "      <td>Arkansas</td>\n",
       "      <td>0.06</td>\n",
       "      <td>1141</td>\n",
       "    </tr>\n",
       "    <tr>\n",
       "      <th>4</th>\n",
       "      <td>California</td>\n",
       "      <td>0.63</td>\n",
       "      <td>1065</td>\n",
       "    </tr>\n",
       "  </tbody>\n",
       "</table>\n",
       "</div>"
      ],
      "text/plain": [
       "  state_or_territory  sat_participation_rate  sat_total\n",
       "0            Alabama                    0.07       1143\n",
       "1             Alaska                    0.41       1097\n",
       "2            Arizona                    0.31       1134\n",
       "3           Arkansas                    0.06       1141\n",
       "4         California                    0.63       1065"
      ]
     },
     "execution_count": 717,
     "metadata": {},
     "output_type": "execute_result"
    }
   ],
   "source": [
    "sat_19_df.head()"
   ]
  },
  {
   "cell_type": "code",
   "execution_count": 718,
   "metadata": {},
   "outputs": [
    {
     "data": {
      "text/html": [
       "<div>\n",
       "<style scoped>\n",
       "    .dataframe tbody tr th:only-of-type {\n",
       "        vertical-align: middle;\n",
       "    }\n",
       "\n",
       "    .dataframe tbody tr th {\n",
       "        vertical-align: top;\n",
       "    }\n",
       "\n",
       "    .dataframe thead th {\n",
       "        text-align: right;\n",
       "    }\n",
       "</style>\n",
       "<table border=\"1\" class=\"dataframe\">\n",
       "  <thead>\n",
       "    <tr style=\"text-align: right;\">\n",
       "      <th></th>\n",
       "      <th>state_or_territory</th>\n",
       "      <th>act_participation_rate</th>\n",
       "      <th>act_composite</th>\n",
       "    </tr>\n",
       "  </thead>\n",
       "  <tbody>\n",
       "    <tr>\n",
       "      <th>0</th>\n",
       "      <td>Alabama</td>\n",
       "      <td>1.00</td>\n",
       "      <td>18.9</td>\n",
       "    </tr>\n",
       "    <tr>\n",
       "      <th>1</th>\n",
       "      <td>Alaska</td>\n",
       "      <td>0.38</td>\n",
       "      <td>20.1</td>\n",
       "    </tr>\n",
       "    <tr>\n",
       "      <th>2</th>\n",
       "      <td>Arizona</td>\n",
       "      <td>0.73</td>\n",
       "      <td>19.0</td>\n",
       "    </tr>\n",
       "    <tr>\n",
       "      <th>3</th>\n",
       "      <td>Arkansas</td>\n",
       "      <td>1.00</td>\n",
       "      <td>19.3</td>\n",
       "    </tr>\n",
       "    <tr>\n",
       "      <th>4</th>\n",
       "      <td>California</td>\n",
       "      <td>0.23</td>\n",
       "      <td>22.6</td>\n",
       "    </tr>\n",
       "  </tbody>\n",
       "</table>\n",
       "</div>"
      ],
      "text/plain": [
       "  state_or_territory  act_participation_rate  act_composite\n",
       "0            Alabama                    1.00           18.9\n",
       "1             Alaska                    0.38           20.1\n",
       "2            Arizona                    0.73           19.0\n",
       "3           Arkansas                    1.00           19.3\n",
       "4         California                    0.23           22.6"
      ]
     },
     "execution_count": 718,
     "metadata": {},
     "output_type": "execute_result"
    }
   ],
   "source": [
    "act2019_df.head()"
   ]
  },
  {
   "cell_type": "code",
   "execution_count": 719,
   "metadata": {},
   "outputs": [],
   "source": [
    "act_sat_2019_df = sat_19_df.set_index('state_or_territory').join(act2019_df.set_index('state_or_territory'))"
   ]
  },
  {
   "cell_type": "code",
   "execution_count": 720,
   "metadata": {},
   "outputs": [
    {
     "data": {
      "text/html": [
       "<div>\n",
       "<style scoped>\n",
       "    .dataframe tbody tr th:only-of-type {\n",
       "        vertical-align: middle;\n",
       "    }\n",
       "\n",
       "    .dataframe tbody tr th {\n",
       "        vertical-align: top;\n",
       "    }\n",
       "\n",
       "    .dataframe thead th {\n",
       "        text-align: right;\n",
       "    }\n",
       "</style>\n",
       "<table border=\"1\" class=\"dataframe\">\n",
       "  <thead>\n",
       "    <tr style=\"text-align: right;\">\n",
       "      <th></th>\n",
       "      <th>sat_participation_rate</th>\n",
       "      <th>sat_total</th>\n",
       "      <th>act_participation_rate</th>\n",
       "      <th>act_composite</th>\n",
       "    </tr>\n",
       "    <tr>\n",
       "      <th>state_or_territory</th>\n",
       "      <th></th>\n",
       "      <th></th>\n",
       "      <th></th>\n",
       "      <th></th>\n",
       "    </tr>\n",
       "  </thead>\n",
       "  <tbody>\n",
       "    <tr>\n",
       "      <th>Alabama</th>\n",
       "      <td>0.07</td>\n",
       "      <td>1143</td>\n",
       "      <td>1.00</td>\n",
       "      <td>18.9</td>\n",
       "    </tr>\n",
       "    <tr>\n",
       "      <th>Alaska</th>\n",
       "      <td>0.41</td>\n",
       "      <td>1097</td>\n",
       "      <td>0.38</td>\n",
       "      <td>20.1</td>\n",
       "    </tr>\n",
       "    <tr>\n",
       "      <th>Arizona</th>\n",
       "      <td>0.31</td>\n",
       "      <td>1134</td>\n",
       "      <td>0.73</td>\n",
       "      <td>19.0</td>\n",
       "    </tr>\n",
       "    <tr>\n",
       "      <th>Arkansas</th>\n",
       "      <td>0.06</td>\n",
       "      <td>1141</td>\n",
       "      <td>1.00</td>\n",
       "      <td>19.3</td>\n",
       "    </tr>\n",
       "    <tr>\n",
       "      <th>California</th>\n",
       "      <td>0.63</td>\n",
       "      <td>1065</td>\n",
       "      <td>0.23</td>\n",
       "      <td>22.6</td>\n",
       "    </tr>\n",
       "  </tbody>\n",
       "</table>\n",
       "</div>"
      ],
      "text/plain": [
       "                    sat_participation_rate  sat_total  act_participation_rate  \\\n",
       "state_or_territory                                                              \n",
       "Alabama                               0.07       1143                    1.00   \n",
       "Alaska                                0.41       1097                    0.38   \n",
       "Arizona                               0.31       1134                    0.73   \n",
       "Arkansas                              0.06       1141                    1.00   \n",
       "California                            0.63       1065                    0.23   \n",
       "\n",
       "                    act_composite  \n",
       "state_or_territory                 \n",
       "Alabama                      18.9  \n",
       "Alaska                       20.1  \n",
       "Arizona                      19.0  \n",
       "Arkansas                     19.3  \n",
       "California                   22.6  "
      ]
     },
     "execution_count": 720,
     "metadata": {},
     "output_type": "execute_result"
    }
   ],
   "source": [
    "act_sat_2019_df.head()"
   ]
  },
  {
   "cell_type": "code",
   "execution_count": 721,
   "metadata": {},
   "outputs": [],
   "source": [
    "# I discovered below that I needed to reset my index or I'd lose the state names from my join.\n",
    "\n",
    "act_sat_2019_df.reset_index(inplace=True)"
   ]
  },
  {
   "cell_type": "code",
   "execution_count": 722,
   "metadata": {},
   "outputs": [],
   "source": [
    "# I need to round my sat_total (to nearest ten) and act_composite (to nearest whole number) in order\n",
    "# to be able to compare them\n",
    "# got help here: https://www.tutorialkart.com/python/python-round/python-round-to-nearest-10/ on rounding to 10\n",
    "\n",
    "act_sat_2019_df['sat_total'] = act_sat_2019_df['sat_total'].map(lambda x: int(round(x/10)*10))"
   ]
  },
  {
   "cell_type": "code",
   "execution_count": 723,
   "metadata": {},
   "outputs": [
    {
     "data": {
      "text/html": [
       "<div>\n",
       "<style scoped>\n",
       "    .dataframe tbody tr th:only-of-type {\n",
       "        vertical-align: middle;\n",
       "    }\n",
       "\n",
       "    .dataframe tbody tr th {\n",
       "        vertical-align: top;\n",
       "    }\n",
       "\n",
       "    .dataframe thead th {\n",
       "        text-align: right;\n",
       "    }\n",
       "</style>\n",
       "<table border=\"1\" class=\"dataframe\">\n",
       "  <thead>\n",
       "    <tr style=\"text-align: right;\">\n",
       "      <th></th>\n",
       "      <th>state_or_territory</th>\n",
       "      <th>sat_participation_rate</th>\n",
       "      <th>sat_total</th>\n",
       "      <th>act_participation_rate</th>\n",
       "      <th>act_composite</th>\n",
       "    </tr>\n",
       "  </thead>\n",
       "  <tbody>\n",
       "    <tr>\n",
       "      <th>0</th>\n",
       "      <td>Alabama</td>\n",
       "      <td>0.07</td>\n",
       "      <td>1140</td>\n",
       "      <td>1.00</td>\n",
       "      <td>18.9</td>\n",
       "    </tr>\n",
       "    <tr>\n",
       "      <th>1</th>\n",
       "      <td>Alaska</td>\n",
       "      <td>0.41</td>\n",
       "      <td>1100</td>\n",
       "      <td>0.38</td>\n",
       "      <td>20.1</td>\n",
       "    </tr>\n",
       "    <tr>\n",
       "      <th>2</th>\n",
       "      <td>Arizona</td>\n",
       "      <td>0.31</td>\n",
       "      <td>1130</td>\n",
       "      <td>0.73</td>\n",
       "      <td>19.0</td>\n",
       "    </tr>\n",
       "    <tr>\n",
       "      <th>3</th>\n",
       "      <td>Arkansas</td>\n",
       "      <td>0.06</td>\n",
       "      <td>1140</td>\n",
       "      <td>1.00</td>\n",
       "      <td>19.3</td>\n",
       "    </tr>\n",
       "    <tr>\n",
       "      <th>4</th>\n",
       "      <td>California</td>\n",
       "      <td>0.63</td>\n",
       "      <td>1060</td>\n",
       "      <td>0.23</td>\n",
       "      <td>22.6</td>\n",
       "    </tr>\n",
       "  </tbody>\n",
       "</table>\n",
       "</div>"
      ],
      "text/plain": [
       "  state_or_territory  sat_participation_rate  sat_total  \\\n",
       "0            Alabama                    0.07       1140   \n",
       "1             Alaska                    0.41       1100   \n",
       "2            Arizona                    0.31       1130   \n",
       "3           Arkansas                    0.06       1140   \n",
       "4         California                    0.63       1060   \n",
       "\n",
       "   act_participation_rate  act_composite  \n",
       "0                    1.00           18.9  \n",
       "1                    0.38           20.1  \n",
       "2                    0.73           19.0  \n",
       "3                    1.00           19.3  \n",
       "4                    0.23           22.6  "
      ]
     },
     "execution_count": 723,
     "metadata": {},
     "output_type": "execute_result"
    }
   ],
   "source": [
    "act_sat_2019_df.head()"
   ]
  },
  {
   "cell_type": "code",
   "execution_count": 724,
   "metadata": {},
   "outputs": [],
   "source": [
    "# I need to lookup SAT total equivalent of ACT composite.\n",
    "\n",
    "act_sat_2019_df['act_composite'] = act_sat_2019_df['act_composite'].map(lambda x: round(x))"
   ]
  },
  {
   "cell_type": "code",
   "execution_count": 725,
   "metadata": {},
   "outputs": [
    {
     "data": {
      "text/html": [
       "<div>\n",
       "<style scoped>\n",
       "    .dataframe tbody tr th:only-of-type {\n",
       "        vertical-align: middle;\n",
       "    }\n",
       "\n",
       "    .dataframe tbody tr th {\n",
       "        vertical-align: top;\n",
       "    }\n",
       "\n",
       "    .dataframe thead th {\n",
       "        text-align: right;\n",
       "    }\n",
       "</style>\n",
       "<table border=\"1\" class=\"dataframe\">\n",
       "  <thead>\n",
       "    <tr style=\"text-align: right;\">\n",
       "      <th></th>\n",
       "      <th>state_or_territory</th>\n",
       "      <th>sat_participation_rate</th>\n",
       "      <th>sat_total</th>\n",
       "      <th>act_participation_rate</th>\n",
       "      <th>act_composite</th>\n",
       "    </tr>\n",
       "  </thead>\n",
       "  <tbody>\n",
       "    <tr>\n",
       "      <th>0</th>\n",
       "      <td>Alabama</td>\n",
       "      <td>0.07</td>\n",
       "      <td>1140</td>\n",
       "      <td>1.00</td>\n",
       "      <td>19</td>\n",
       "    </tr>\n",
       "    <tr>\n",
       "      <th>1</th>\n",
       "      <td>Alaska</td>\n",
       "      <td>0.41</td>\n",
       "      <td>1100</td>\n",
       "      <td>0.38</td>\n",
       "      <td>20</td>\n",
       "    </tr>\n",
       "    <tr>\n",
       "      <th>2</th>\n",
       "      <td>Arizona</td>\n",
       "      <td>0.31</td>\n",
       "      <td>1130</td>\n",
       "      <td>0.73</td>\n",
       "      <td>19</td>\n",
       "    </tr>\n",
       "    <tr>\n",
       "      <th>3</th>\n",
       "      <td>Arkansas</td>\n",
       "      <td>0.06</td>\n",
       "      <td>1140</td>\n",
       "      <td>1.00</td>\n",
       "      <td>19</td>\n",
       "    </tr>\n",
       "    <tr>\n",
       "      <th>4</th>\n",
       "      <td>California</td>\n",
       "      <td>0.63</td>\n",
       "      <td>1060</td>\n",
       "      <td>0.23</td>\n",
       "      <td>23</td>\n",
       "    </tr>\n",
       "  </tbody>\n",
       "</table>\n",
       "</div>"
      ],
      "text/plain": [
       "  state_or_territory  sat_participation_rate  sat_total  \\\n",
       "0            Alabama                    0.07       1140   \n",
       "1             Alaska                    0.41       1100   \n",
       "2            Arizona                    0.31       1130   \n",
       "3           Arkansas                    0.06       1140   \n",
       "4         California                    0.63       1060   \n",
       "\n",
       "   act_participation_rate  act_composite  \n",
       "0                    1.00             19  \n",
       "1                    0.38             20  \n",
       "2                    0.73             19  \n",
       "3                    1.00             19  \n",
       "4                    0.23             23  "
      ]
     },
     "execution_count": 725,
     "metadata": {},
     "output_type": "execute_result"
    }
   ],
   "source": [
    "act_sat_2019_df.head()"
   ]
  },
  {
   "cell_type": "code",
   "execution_count": 726,
   "metadata": {},
   "outputs": [
    {
     "data": {
      "text/plain": [
       "state_or_territory         object\n",
       "sat_participation_rate    float64\n",
       "sat_total                   int64\n",
       "act_participation_rate    float64\n",
       "act_composite               int64\n",
       "dtype: object"
      ]
     },
     "execution_count": 726,
     "metadata": {},
     "output_type": "execute_result"
    }
   ],
   "source": [
    "act_sat_2019_df.dtypes"
   ]
  },
  {
   "cell_type": "code",
   "execution_count": 727,
   "metadata": {},
   "outputs": [],
   "source": [
    "#I used this site to learn how to do this: https://www.geeksforgeeks.org/how-to-do-a-vlookup-in-python-using-pandas/\n",
    "\n",
    "act_sat_2019_df = pd.merge(act_sat_2019_df, \n",
    "                           a_to_s_df,\n",
    "                           on = 'act_composite',\n",
    "                           how = 'inner')"
   ]
  },
  {
   "cell_type": "code",
   "execution_count": 728,
   "metadata": {},
   "outputs": [
    {
     "data": {
      "text/html": [
       "<div>\n",
       "<style scoped>\n",
       "    .dataframe tbody tr th:only-of-type {\n",
       "        vertical-align: middle;\n",
       "    }\n",
       "\n",
       "    .dataframe tbody tr th {\n",
       "        vertical-align: top;\n",
       "    }\n",
       "\n",
       "    .dataframe thead th {\n",
       "        text-align: right;\n",
       "    }\n",
       "</style>\n",
       "<table border=\"1\" class=\"dataframe\">\n",
       "  <thead>\n",
       "    <tr style=\"text-align: right;\">\n",
       "      <th></th>\n",
       "      <th>state_or_territory</th>\n",
       "      <th>sat_participation_rate</th>\n",
       "      <th>sat_total</th>\n",
       "      <th>act_participation_rate</th>\n",
       "      <th>act_composite</th>\n",
       "      <th>sat_tot_score</th>\n",
       "    </tr>\n",
       "  </thead>\n",
       "  <tbody>\n",
       "    <tr>\n",
       "      <th>0</th>\n",
       "      <td>Alabama</td>\n",
       "      <td>0.07</td>\n",
       "      <td>1140</td>\n",
       "      <td>1.00</td>\n",
       "      <td>19</td>\n",
       "      <td>1010</td>\n",
       "    </tr>\n",
       "    <tr>\n",
       "      <th>1</th>\n",
       "      <td>Arizona</td>\n",
       "      <td>0.31</td>\n",
       "      <td>1130</td>\n",
       "      <td>0.73</td>\n",
       "      <td>19</td>\n",
       "      <td>1010</td>\n",
       "    </tr>\n",
       "    <tr>\n",
       "      <th>2</th>\n",
       "      <td>Arkansas</td>\n",
       "      <td>0.06</td>\n",
       "      <td>1140</td>\n",
       "      <td>1.00</td>\n",
       "      <td>19</td>\n",
       "      <td>1010</td>\n",
       "    </tr>\n",
       "    <tr>\n",
       "      <th>3</th>\n",
       "      <td>Hawaii</td>\n",
       "      <td>0.54</td>\n",
       "      <td>1100</td>\n",
       "      <td>0.80</td>\n",
       "      <td>19</td>\n",
       "      <td>1010</td>\n",
       "    </tr>\n",
       "    <tr>\n",
       "      <th>4</th>\n",
       "      <td>Louisiana</td>\n",
       "      <td>0.05</td>\n",
       "      <td>1200</td>\n",
       "      <td>1.00</td>\n",
       "      <td>19</td>\n",
       "      <td>1010</td>\n",
       "    </tr>\n",
       "  </tbody>\n",
       "</table>\n",
       "</div>"
      ],
      "text/plain": [
       "  state_or_territory  sat_participation_rate  sat_total  \\\n",
       "0            Alabama                    0.07       1140   \n",
       "1            Arizona                    0.31       1130   \n",
       "2           Arkansas                    0.06       1140   \n",
       "3             Hawaii                    0.54       1100   \n",
       "4          Louisiana                    0.05       1200   \n",
       "\n",
       "   act_participation_rate  act_composite  sat_tot_score  \n",
       "0                    1.00             19           1010  \n",
       "1                    0.73             19           1010  \n",
       "2                    1.00             19           1010  \n",
       "3                    0.80             19           1010  \n",
       "4                    1.00             19           1010  "
      ]
     },
     "execution_count": 728,
     "metadata": {},
     "output_type": "execute_result"
    }
   ],
   "source": [
    "act_sat_2019_df.head()"
   ]
  },
  {
   "cell_type": "code",
   "execution_count": 729,
   "metadata": {},
   "outputs": [],
   "source": [
    "act_sat_2019_df.rename(columns = {'sat_tot_score': 'sat_equiv_of_act_composite',},\n",
    "                                     inplace = True)"
   ]
  },
  {
   "cell_type": "code",
   "execution_count": 882,
   "metadata": {},
   "outputs": [
    {
     "data": {
      "text/html": [
       "<div>\n",
       "<style scoped>\n",
       "    .dataframe tbody tr th:only-of-type {\n",
       "        vertical-align: middle;\n",
       "    }\n",
       "\n",
       "    .dataframe tbody tr th {\n",
       "        vertical-align: top;\n",
       "    }\n",
       "\n",
       "    .dataframe thead th {\n",
       "        text-align: right;\n",
       "    }\n",
       "</style>\n",
       "<table border=\"1\" class=\"dataframe\">\n",
       "  <thead>\n",
       "    <tr style=\"text-align: right;\">\n",
       "      <th></th>\n",
       "      <th>state_or_territory</th>\n",
       "      <th>sat_participation_rate</th>\n",
       "      <th>sat_total</th>\n",
       "      <th>act_participation_rate</th>\n",
       "      <th>act_composite</th>\n",
       "      <th>sat_equiv_of_act_composite</th>\n",
       "    </tr>\n",
       "  </thead>\n",
       "  <tbody>\n",
       "    <tr>\n",
       "      <th>0</th>\n",
       "      <td>Alabama</td>\n",
       "      <td>0.07</td>\n",
       "      <td>1140</td>\n",
       "      <td>1.00</td>\n",
       "      <td>19</td>\n",
       "      <td>1010</td>\n",
       "    </tr>\n",
       "    <tr>\n",
       "      <th>1</th>\n",
       "      <td>Arizona</td>\n",
       "      <td>0.31</td>\n",
       "      <td>1130</td>\n",
       "      <td>0.73</td>\n",
       "      <td>19</td>\n",
       "      <td>1010</td>\n",
       "    </tr>\n",
       "    <tr>\n",
       "      <th>2</th>\n",
       "      <td>Arkansas</td>\n",
       "      <td>0.06</td>\n",
       "      <td>1140</td>\n",
       "      <td>1.00</td>\n",
       "      <td>19</td>\n",
       "      <td>1010</td>\n",
       "    </tr>\n",
       "    <tr>\n",
       "      <th>3</th>\n",
       "      <td>Hawaii</td>\n",
       "      <td>0.54</td>\n",
       "      <td>1100</td>\n",
       "      <td>0.80</td>\n",
       "      <td>19</td>\n",
       "      <td>1010</td>\n",
       "    </tr>\n",
       "    <tr>\n",
       "      <th>4</th>\n",
       "      <td>Louisiana</td>\n",
       "      <td>0.05</td>\n",
       "      <td>1200</td>\n",
       "      <td>1.00</td>\n",
       "      <td>19</td>\n",
       "      <td>1010</td>\n",
       "    </tr>\n",
       "  </tbody>\n",
       "</table>\n",
       "</div>"
      ],
      "text/plain": [
       "  state_or_territory  sat_participation_rate  sat_total  \\\n",
       "0            Alabama                    0.07       1140   \n",
       "1            Arizona                    0.31       1130   \n",
       "2           Arkansas                    0.06       1140   \n",
       "3             Hawaii                    0.54       1100   \n",
       "4          Louisiana                    0.05       1200   \n",
       "\n",
       "   act_participation_rate  act_composite  sat_equiv_of_act_composite  \n",
       "0                    1.00             19                        1010  \n",
       "1                    0.73             19                        1010  \n",
       "2                    1.00             19                        1010  \n",
       "3                    0.80             19                        1010  \n",
       "4                    1.00             19                        1010  "
      ]
     },
     "execution_count": 882,
     "metadata": {},
     "output_type": "execute_result"
    }
   ],
   "source": [
    "act_sat_2019_df.head()"
   ]
  },
  {
   "cell_type": "markdown",
   "metadata": {
    "jp-MarkdownHeadingCollapsed": true,
    "tags": []
   },
   "source": [
    "# 9.1 Adding ACT Composite to SAT total conversion to SAT/ACT by College Data Frame\n",
    "\n",
    "Adding a column to give ACT Composite to SAT Total scores for ACT 25th Percentile and ACT 75th percentile\n",
    "\n",
    "This stackoverflow on merging was very helpful:\n",
    "https://stackoverflow.com/questions/53645882/pandas-merging-101"
   ]
  },
  {
   "cell_type": "code",
   "execution_count": 883,
   "metadata": {},
   "outputs": [
    {
     "data": {
      "text/html": [
       "<div>\n",
       "<style scoped>\n",
       "    .dataframe tbody tr th:only-of-type {\n",
       "        vertical-align: middle;\n",
       "    }\n",
       "\n",
       "    .dataframe tbody tr th {\n",
       "        vertical-align: top;\n",
       "    }\n",
       "\n",
       "    .dataframe thead th {\n",
       "        text-align: right;\n",
       "    }\n",
       "</style>\n",
       "<table border=\"1\" class=\"dataframe\">\n",
       "  <thead>\n",
       "    <tr style=\"text-align: right;\">\n",
       "      <th></th>\n",
       "      <th>school</th>\n",
       "      <th>test_optional_or_no</th>\n",
       "      <th>applies_to_class_year_s</th>\n",
       "      <th>policy_details</th>\n",
       "      <th>number_of_applicants</th>\n",
       "      <th>accept_rate</th>\n",
       "      <th>sat_tot_25th_percentile</th>\n",
       "      <th>sat_tot_75th_percentile</th>\n",
       "      <th>act_composite_25th_percentile</th>\n",
       "      <th>act_composite_75th_percentile</th>\n",
       "    </tr>\n",
       "  </thead>\n",
       "  <tbody>\n",
       "    <tr>\n",
       "      <th>0</th>\n",
       "      <td>Stanford University</td>\n",
       "      <td>Yes</td>\n",
       "      <td>2021</td>\n",
       "      <td>Stanford has adopted a one-year test optional ...</td>\n",
       "      <td>47452</td>\n",
       "      <td>0.043</td>\n",
       "      <td>1440</td>\n",
       "      <td>1570</td>\n",
       "      <td>32</td>\n",
       "      <td>35</td>\n",
       "    </tr>\n",
       "    <tr>\n",
       "      <th>1</th>\n",
       "      <td>Harvard College</td>\n",
       "      <td>Yes</td>\n",
       "      <td>2021</td>\n",
       "      <td>Harvard has adopted a one-year test optional p...</td>\n",
       "      <td>42749</td>\n",
       "      <td>0.047</td>\n",
       "      <td>1460</td>\n",
       "      <td>1580</td>\n",
       "      <td>33</td>\n",
       "      <td>35</td>\n",
       "    </tr>\n",
       "    <tr>\n",
       "      <th>2</th>\n",
       "      <td>Princeton University</td>\n",
       "      <td>Yes</td>\n",
       "      <td>2021</td>\n",
       "      <td>Princeton has adopted a one-year test optional...</td>\n",
       "      <td>35370</td>\n",
       "      <td>0.055</td>\n",
       "      <td>1440</td>\n",
       "      <td>1570</td>\n",
       "      <td>32</td>\n",
       "      <td>35</td>\n",
       "    </tr>\n",
       "    <tr>\n",
       "      <th>3</th>\n",
       "      <td>Columbia University</td>\n",
       "      <td>Yes</td>\n",
       "      <td>2021</td>\n",
       "      <td>Columbia has adopted a one-year test optional ...</td>\n",
       "      <td>40203</td>\n",
       "      <td>0.055</td>\n",
       "      <td>1450</td>\n",
       "      <td>1560</td>\n",
       "      <td>33</td>\n",
       "      <td>35</td>\n",
       "    </tr>\n",
       "    <tr>\n",
       "      <th>4</th>\n",
       "      <td>Yale University</td>\n",
       "      <td>Yes</td>\n",
       "      <td>2021</td>\n",
       "      <td>Yale has adopted a one-year test optional poli...</td>\n",
       "      <td>36844</td>\n",
       "      <td>0.061</td>\n",
       "      <td>1460</td>\n",
       "      <td>1570</td>\n",
       "      <td>33</td>\n",
       "      <td>35</td>\n",
       "    </tr>\n",
       "  </tbody>\n",
       "</table>\n",
       "</div>"
      ],
      "text/plain": [
       "                 school test_optional_or_no applies_to_class_year_s  \\\n",
       "0   Stanford University                 Yes                    2021   \n",
       "1       Harvard College                 Yes                    2021   \n",
       "2  Princeton University                 Yes                    2021   \n",
       "3   Columbia University                 Yes                    2021   \n",
       "4       Yale University                 Yes                    2021   \n",
       "\n",
       "                                      policy_details  number_of_applicants  \\\n",
       "0  Stanford has adopted a one-year test optional ...                 47452   \n",
       "1  Harvard has adopted a one-year test optional p...                 42749   \n",
       "2  Princeton has adopted a one-year test optional...                 35370   \n",
       "3  Columbia has adopted a one-year test optional ...                 40203   \n",
       "4  Yale has adopted a one-year test optional poli...                 36844   \n",
       "\n",
       "   accept_rate  sat_tot_25th_percentile  sat_tot_75th_percentile  \\\n",
       "0        0.043                     1440                     1570   \n",
       "1        0.047                     1460                     1580   \n",
       "2        0.055                     1440                     1570   \n",
       "3        0.055                     1450                     1560   \n",
       "4        0.061                     1460                     1570   \n",
       "\n",
       "   act_composite_25th_percentile  act_composite_75th_percentile  \n",
       "0                             32                             35  \n",
       "1                             33                             35  \n",
       "2                             32                             35  \n",
       "3                             33                             35  \n",
       "4                             33                             35  "
      ]
     },
     "execution_count": 883,
     "metadata": {},
     "output_type": "execute_result"
    }
   ],
   "source": [
    "colleges_df.head()"
   ]
  },
  {
   "cell_type": "code",
   "execution_count": 884,
   "metadata": {},
   "outputs": [
    {
     "data": {
      "text/html": [
       "<div>\n",
       "<style scoped>\n",
       "    .dataframe tbody tr th:only-of-type {\n",
       "        vertical-align: middle;\n",
       "    }\n",
       "\n",
       "    .dataframe tbody tr th {\n",
       "        vertical-align: top;\n",
       "    }\n",
       "\n",
       "    .dataframe thead th {\n",
       "        text-align: right;\n",
       "    }\n",
       "</style>\n",
       "<table border=\"1\" class=\"dataframe\">\n",
       "  <thead>\n",
       "    <tr style=\"text-align: right;\">\n",
       "      <th></th>\n",
       "      <th>sat_tot_score</th>\n",
       "      <th>act_composite</th>\n",
       "    </tr>\n",
       "  </thead>\n",
       "  <tbody>\n",
       "    <tr>\n",
       "      <th>1</th>\n",
       "      <td>1590</td>\n",
       "      <td>36</td>\n",
       "    </tr>\n",
       "    <tr>\n",
       "      <th>6</th>\n",
       "      <td>1540</td>\n",
       "      <td>35</td>\n",
       "    </tr>\n",
       "    <tr>\n",
       "      <th>10</th>\n",
       "      <td>1500</td>\n",
       "      <td>34</td>\n",
       "    </tr>\n",
       "    <tr>\n",
       "      <th>14</th>\n",
       "      <td>1460</td>\n",
       "      <td>33</td>\n",
       "    </tr>\n",
       "    <tr>\n",
       "      <th>17</th>\n",
       "      <td>1430</td>\n",
       "      <td>32</td>\n",
       "    </tr>\n",
       "  </tbody>\n",
       "</table>\n",
       "</div>"
      ],
      "text/plain": [
       "    sat_tot_score  act_composite\n",
       "1            1590             36\n",
       "6            1540             35\n",
       "10           1500             34\n",
       "14           1460             33\n",
       "17           1430             32"
      ]
     },
     "execution_count": 884,
     "metadata": {},
     "output_type": "execute_result"
    }
   ],
   "source": [
    "a_to_s_df.head()"
   ]
  },
  {
   "cell_type": "code",
   "execution_count": 885,
   "metadata": {},
   "outputs": [],
   "source": [
    "colleges_df = colleges_df.merge(a_to_s_df, left_on='act_composite_25th_percentile', right_on='act_composite', how='left')"
   ]
  },
  {
   "cell_type": "code",
   "execution_count": 886,
   "metadata": {},
   "outputs": [
    {
     "data": {
      "text/html": [
       "<div>\n",
       "<style scoped>\n",
       "    .dataframe tbody tr th:only-of-type {\n",
       "        vertical-align: middle;\n",
       "    }\n",
       "\n",
       "    .dataframe tbody tr th {\n",
       "        vertical-align: top;\n",
       "    }\n",
       "\n",
       "    .dataframe thead th {\n",
       "        text-align: right;\n",
       "    }\n",
       "</style>\n",
       "<table border=\"1\" class=\"dataframe\">\n",
       "  <thead>\n",
       "    <tr style=\"text-align: right;\">\n",
       "      <th></th>\n",
       "      <th>school</th>\n",
       "      <th>test_optional_or_no</th>\n",
       "      <th>applies_to_class_year_s</th>\n",
       "      <th>policy_details</th>\n",
       "      <th>number_of_applicants</th>\n",
       "      <th>accept_rate</th>\n",
       "      <th>sat_tot_25th_percentile</th>\n",
       "      <th>sat_tot_75th_percentile</th>\n",
       "      <th>act_composite_25th_percentile</th>\n",
       "      <th>act_composite_75th_percentile</th>\n",
       "      <th>sat_tot_score</th>\n",
       "      <th>act_composite</th>\n",
       "    </tr>\n",
       "  </thead>\n",
       "  <tbody>\n",
       "    <tr>\n",
       "      <th>0</th>\n",
       "      <td>Stanford University</td>\n",
       "      <td>Yes</td>\n",
       "      <td>2021</td>\n",
       "      <td>Stanford has adopted a one-year test optional ...</td>\n",
       "      <td>47452</td>\n",
       "      <td>0.043</td>\n",
       "      <td>1440</td>\n",
       "      <td>1570</td>\n",
       "      <td>32</td>\n",
       "      <td>35</td>\n",
       "      <td>1430</td>\n",
       "      <td>32</td>\n",
       "    </tr>\n",
       "    <tr>\n",
       "      <th>1</th>\n",
       "      <td>Harvard College</td>\n",
       "      <td>Yes</td>\n",
       "      <td>2021</td>\n",
       "      <td>Harvard has adopted a one-year test optional p...</td>\n",
       "      <td>42749</td>\n",
       "      <td>0.047</td>\n",
       "      <td>1460</td>\n",
       "      <td>1580</td>\n",
       "      <td>33</td>\n",
       "      <td>35</td>\n",
       "      <td>1460</td>\n",
       "      <td>33</td>\n",
       "    </tr>\n",
       "    <tr>\n",
       "      <th>2</th>\n",
       "      <td>Princeton University</td>\n",
       "      <td>Yes</td>\n",
       "      <td>2021</td>\n",
       "      <td>Princeton has adopted a one-year test optional...</td>\n",
       "      <td>35370</td>\n",
       "      <td>0.055</td>\n",
       "      <td>1440</td>\n",
       "      <td>1570</td>\n",
       "      <td>32</td>\n",
       "      <td>35</td>\n",
       "      <td>1430</td>\n",
       "      <td>32</td>\n",
       "    </tr>\n",
       "    <tr>\n",
       "      <th>3</th>\n",
       "      <td>Columbia University</td>\n",
       "      <td>Yes</td>\n",
       "      <td>2021</td>\n",
       "      <td>Columbia has adopted a one-year test optional ...</td>\n",
       "      <td>40203</td>\n",
       "      <td>0.055</td>\n",
       "      <td>1450</td>\n",
       "      <td>1560</td>\n",
       "      <td>33</td>\n",
       "      <td>35</td>\n",
       "      <td>1460</td>\n",
       "      <td>33</td>\n",
       "    </tr>\n",
       "    <tr>\n",
       "      <th>4</th>\n",
       "      <td>Yale University</td>\n",
       "      <td>Yes</td>\n",
       "      <td>2021</td>\n",
       "      <td>Yale has adopted a one-year test optional poli...</td>\n",
       "      <td>36844</td>\n",
       "      <td>0.061</td>\n",
       "      <td>1460</td>\n",
       "      <td>1570</td>\n",
       "      <td>33</td>\n",
       "      <td>35</td>\n",
       "      <td>1460</td>\n",
       "      <td>33</td>\n",
       "    </tr>\n",
       "  </tbody>\n",
       "</table>\n",
       "</div>"
      ],
      "text/plain": [
       "                 school test_optional_or_no applies_to_class_year_s  \\\n",
       "0   Stanford University                 Yes                    2021   \n",
       "1       Harvard College                 Yes                    2021   \n",
       "2  Princeton University                 Yes                    2021   \n",
       "3   Columbia University                 Yes                    2021   \n",
       "4       Yale University                 Yes                    2021   \n",
       "\n",
       "                                      policy_details  number_of_applicants  \\\n",
       "0  Stanford has adopted a one-year test optional ...                 47452   \n",
       "1  Harvard has adopted a one-year test optional p...                 42749   \n",
       "2  Princeton has adopted a one-year test optional...                 35370   \n",
       "3  Columbia has adopted a one-year test optional ...                 40203   \n",
       "4  Yale has adopted a one-year test optional poli...                 36844   \n",
       "\n",
       "   accept_rate  sat_tot_25th_percentile  sat_tot_75th_percentile  \\\n",
       "0        0.043                     1440                     1570   \n",
       "1        0.047                     1460                     1580   \n",
       "2        0.055                     1440                     1570   \n",
       "3        0.055                     1450                     1560   \n",
       "4        0.061                     1460                     1570   \n",
       "\n",
       "   act_composite_25th_percentile  act_composite_75th_percentile  \\\n",
       "0                             32                             35   \n",
       "1                             33                             35   \n",
       "2                             32                             35   \n",
       "3                             33                             35   \n",
       "4                             33                             35   \n",
       "\n",
       "   sat_tot_score  act_composite  \n",
       "0           1430             32  \n",
       "1           1460             33  \n",
       "2           1430             32  \n",
       "3           1460             33  \n",
       "4           1460             33  "
      ]
     },
     "execution_count": 886,
     "metadata": {},
     "output_type": "execute_result"
    }
   ],
   "source": [
    "colleges_df.head()"
   ]
  },
  {
   "cell_type": "code",
   "execution_count": 887,
   "metadata": {},
   "outputs": [],
   "source": [
    "colleges_df.drop('act_composite', axis = 1, inplace = True)\n",
    "colleges_df.rename(columns = {'sat_tot_score': 'sat_equiv_of_act_25th',},\n",
    "                  inplace = True)"
   ]
  },
  {
   "cell_type": "code",
   "execution_count": 888,
   "metadata": {},
   "outputs": [
    {
     "data": {
      "text/html": [
       "<div>\n",
       "<style scoped>\n",
       "    .dataframe tbody tr th:only-of-type {\n",
       "        vertical-align: middle;\n",
       "    }\n",
       "\n",
       "    .dataframe tbody tr th {\n",
       "        vertical-align: top;\n",
       "    }\n",
       "\n",
       "    .dataframe thead th {\n",
       "        text-align: right;\n",
       "    }\n",
       "</style>\n",
       "<table border=\"1\" class=\"dataframe\">\n",
       "  <thead>\n",
       "    <tr style=\"text-align: right;\">\n",
       "      <th></th>\n",
       "      <th>school</th>\n",
       "      <th>test_optional_or_no</th>\n",
       "      <th>applies_to_class_year_s</th>\n",
       "      <th>policy_details</th>\n",
       "      <th>number_of_applicants</th>\n",
       "      <th>accept_rate</th>\n",
       "      <th>sat_tot_25th_percentile</th>\n",
       "      <th>sat_tot_75th_percentile</th>\n",
       "      <th>act_composite_25th_percentile</th>\n",
       "      <th>act_composite_75th_percentile</th>\n",
       "      <th>sat_equiv_of_act_25th</th>\n",
       "    </tr>\n",
       "  </thead>\n",
       "  <tbody>\n",
       "    <tr>\n",
       "      <th>0</th>\n",
       "      <td>Stanford University</td>\n",
       "      <td>Yes</td>\n",
       "      <td>2021</td>\n",
       "      <td>Stanford has adopted a one-year test optional ...</td>\n",
       "      <td>47452</td>\n",
       "      <td>0.043</td>\n",
       "      <td>1440</td>\n",
       "      <td>1570</td>\n",
       "      <td>32</td>\n",
       "      <td>35</td>\n",
       "      <td>1430</td>\n",
       "    </tr>\n",
       "    <tr>\n",
       "      <th>1</th>\n",
       "      <td>Harvard College</td>\n",
       "      <td>Yes</td>\n",
       "      <td>2021</td>\n",
       "      <td>Harvard has adopted a one-year test optional p...</td>\n",
       "      <td>42749</td>\n",
       "      <td>0.047</td>\n",
       "      <td>1460</td>\n",
       "      <td>1580</td>\n",
       "      <td>33</td>\n",
       "      <td>35</td>\n",
       "      <td>1460</td>\n",
       "    </tr>\n",
       "    <tr>\n",
       "      <th>2</th>\n",
       "      <td>Princeton University</td>\n",
       "      <td>Yes</td>\n",
       "      <td>2021</td>\n",
       "      <td>Princeton has adopted a one-year test optional...</td>\n",
       "      <td>35370</td>\n",
       "      <td>0.055</td>\n",
       "      <td>1440</td>\n",
       "      <td>1570</td>\n",
       "      <td>32</td>\n",
       "      <td>35</td>\n",
       "      <td>1430</td>\n",
       "    </tr>\n",
       "    <tr>\n",
       "      <th>3</th>\n",
       "      <td>Columbia University</td>\n",
       "      <td>Yes</td>\n",
       "      <td>2021</td>\n",
       "      <td>Columbia has adopted a one-year test optional ...</td>\n",
       "      <td>40203</td>\n",
       "      <td>0.055</td>\n",
       "      <td>1450</td>\n",
       "      <td>1560</td>\n",
       "      <td>33</td>\n",
       "      <td>35</td>\n",
       "      <td>1460</td>\n",
       "    </tr>\n",
       "    <tr>\n",
       "      <th>4</th>\n",
       "      <td>Yale University</td>\n",
       "      <td>Yes</td>\n",
       "      <td>2021</td>\n",
       "      <td>Yale has adopted a one-year test optional poli...</td>\n",
       "      <td>36844</td>\n",
       "      <td>0.061</td>\n",
       "      <td>1460</td>\n",
       "      <td>1570</td>\n",
       "      <td>33</td>\n",
       "      <td>35</td>\n",
       "      <td>1460</td>\n",
       "    </tr>\n",
       "  </tbody>\n",
       "</table>\n",
       "</div>"
      ],
      "text/plain": [
       "                 school test_optional_or_no applies_to_class_year_s  \\\n",
       "0   Stanford University                 Yes                    2021   \n",
       "1       Harvard College                 Yes                    2021   \n",
       "2  Princeton University                 Yes                    2021   \n",
       "3   Columbia University                 Yes                    2021   \n",
       "4       Yale University                 Yes                    2021   \n",
       "\n",
       "                                      policy_details  number_of_applicants  \\\n",
       "0  Stanford has adopted a one-year test optional ...                 47452   \n",
       "1  Harvard has adopted a one-year test optional p...                 42749   \n",
       "2  Princeton has adopted a one-year test optional...                 35370   \n",
       "3  Columbia has adopted a one-year test optional ...                 40203   \n",
       "4  Yale has adopted a one-year test optional poli...                 36844   \n",
       "\n",
       "   accept_rate  sat_tot_25th_percentile  sat_tot_75th_percentile  \\\n",
       "0        0.043                     1440                     1570   \n",
       "1        0.047                     1460                     1580   \n",
       "2        0.055                     1440                     1570   \n",
       "3        0.055                     1450                     1560   \n",
       "4        0.061                     1460                     1570   \n",
       "\n",
       "   act_composite_25th_percentile  act_composite_75th_percentile  \\\n",
       "0                             32                             35   \n",
       "1                             33                             35   \n",
       "2                             32                             35   \n",
       "3                             33                             35   \n",
       "4                             33                             35   \n",
       "\n",
       "   sat_equiv_of_act_25th  \n",
       "0                   1430  \n",
       "1                   1460  \n",
       "2                   1430  \n",
       "3                   1460  \n",
       "4                   1460  "
      ]
     },
     "execution_count": 888,
     "metadata": {},
     "output_type": "execute_result"
    }
   ],
   "source": [
    "colleges_df.head()"
   ]
  },
  {
   "cell_type": "code",
   "execution_count": 889,
   "metadata": {},
   "outputs": [],
   "source": [
    "colleges_df = colleges_df.merge(a_to_s_df, left_on='act_composite_75th_percentile', right_on='act_composite', how='left')"
   ]
  },
  {
   "cell_type": "code",
   "execution_count": 890,
   "metadata": {},
   "outputs": [
    {
     "data": {
      "text/html": [
       "<div>\n",
       "<style scoped>\n",
       "    .dataframe tbody tr th:only-of-type {\n",
       "        vertical-align: middle;\n",
       "    }\n",
       "\n",
       "    .dataframe tbody tr th {\n",
       "        vertical-align: top;\n",
       "    }\n",
       "\n",
       "    .dataframe thead th {\n",
       "        text-align: right;\n",
       "    }\n",
       "</style>\n",
       "<table border=\"1\" class=\"dataframe\">\n",
       "  <thead>\n",
       "    <tr style=\"text-align: right;\">\n",
       "      <th></th>\n",
       "      <th>school</th>\n",
       "      <th>test_optional_or_no</th>\n",
       "      <th>applies_to_class_year_s</th>\n",
       "      <th>policy_details</th>\n",
       "      <th>number_of_applicants</th>\n",
       "      <th>accept_rate</th>\n",
       "      <th>sat_tot_25th_percentile</th>\n",
       "      <th>sat_tot_75th_percentile</th>\n",
       "      <th>act_composite_25th_percentile</th>\n",
       "      <th>act_composite_75th_percentile</th>\n",
       "      <th>sat_equiv_of_act_25th</th>\n",
       "      <th>sat_tot_score</th>\n",
       "      <th>act_composite</th>\n",
       "    </tr>\n",
       "  </thead>\n",
       "  <tbody>\n",
       "    <tr>\n",
       "      <th>0</th>\n",
       "      <td>Stanford University</td>\n",
       "      <td>Yes</td>\n",
       "      <td>2021</td>\n",
       "      <td>Stanford has adopted a one-year test optional ...</td>\n",
       "      <td>47452</td>\n",
       "      <td>0.043</td>\n",
       "      <td>1440</td>\n",
       "      <td>1570</td>\n",
       "      <td>32</td>\n",
       "      <td>35</td>\n",
       "      <td>1430</td>\n",
       "      <td>1540</td>\n",
       "      <td>35</td>\n",
       "    </tr>\n",
       "    <tr>\n",
       "      <th>1</th>\n",
       "      <td>Harvard College</td>\n",
       "      <td>Yes</td>\n",
       "      <td>2021</td>\n",
       "      <td>Harvard has adopted a one-year test optional p...</td>\n",
       "      <td>42749</td>\n",
       "      <td>0.047</td>\n",
       "      <td>1460</td>\n",
       "      <td>1580</td>\n",
       "      <td>33</td>\n",
       "      <td>35</td>\n",
       "      <td>1460</td>\n",
       "      <td>1540</td>\n",
       "      <td>35</td>\n",
       "    </tr>\n",
       "    <tr>\n",
       "      <th>2</th>\n",
       "      <td>Princeton University</td>\n",
       "      <td>Yes</td>\n",
       "      <td>2021</td>\n",
       "      <td>Princeton has adopted a one-year test optional...</td>\n",
       "      <td>35370</td>\n",
       "      <td>0.055</td>\n",
       "      <td>1440</td>\n",
       "      <td>1570</td>\n",
       "      <td>32</td>\n",
       "      <td>35</td>\n",
       "      <td>1430</td>\n",
       "      <td>1540</td>\n",
       "      <td>35</td>\n",
       "    </tr>\n",
       "    <tr>\n",
       "      <th>3</th>\n",
       "      <td>Columbia University</td>\n",
       "      <td>Yes</td>\n",
       "      <td>2021</td>\n",
       "      <td>Columbia has adopted a one-year test optional ...</td>\n",
       "      <td>40203</td>\n",
       "      <td>0.055</td>\n",
       "      <td>1450</td>\n",
       "      <td>1560</td>\n",
       "      <td>33</td>\n",
       "      <td>35</td>\n",
       "      <td>1460</td>\n",
       "      <td>1540</td>\n",
       "      <td>35</td>\n",
       "    </tr>\n",
       "    <tr>\n",
       "      <th>4</th>\n",
       "      <td>Yale University</td>\n",
       "      <td>Yes</td>\n",
       "      <td>2021</td>\n",
       "      <td>Yale has adopted a one-year test optional poli...</td>\n",
       "      <td>36844</td>\n",
       "      <td>0.061</td>\n",
       "      <td>1460</td>\n",
       "      <td>1570</td>\n",
       "      <td>33</td>\n",
       "      <td>35</td>\n",
       "      <td>1460</td>\n",
       "      <td>1540</td>\n",
       "      <td>35</td>\n",
       "    </tr>\n",
       "  </tbody>\n",
       "</table>\n",
       "</div>"
      ],
      "text/plain": [
       "                 school test_optional_or_no applies_to_class_year_s  \\\n",
       "0   Stanford University                 Yes                    2021   \n",
       "1       Harvard College                 Yes                    2021   \n",
       "2  Princeton University                 Yes                    2021   \n",
       "3   Columbia University                 Yes                    2021   \n",
       "4       Yale University                 Yes                    2021   \n",
       "\n",
       "                                      policy_details  number_of_applicants  \\\n",
       "0  Stanford has adopted a one-year test optional ...                 47452   \n",
       "1  Harvard has adopted a one-year test optional p...                 42749   \n",
       "2  Princeton has adopted a one-year test optional...                 35370   \n",
       "3  Columbia has adopted a one-year test optional ...                 40203   \n",
       "4  Yale has adopted a one-year test optional poli...                 36844   \n",
       "\n",
       "   accept_rate  sat_tot_25th_percentile  sat_tot_75th_percentile  \\\n",
       "0        0.043                     1440                     1570   \n",
       "1        0.047                     1460                     1580   \n",
       "2        0.055                     1440                     1570   \n",
       "3        0.055                     1450                     1560   \n",
       "4        0.061                     1460                     1570   \n",
       "\n",
       "   act_composite_25th_percentile  act_composite_75th_percentile  \\\n",
       "0                             32                             35   \n",
       "1                             33                             35   \n",
       "2                             32                             35   \n",
       "3                             33                             35   \n",
       "4                             33                             35   \n",
       "\n",
       "   sat_equiv_of_act_25th  sat_tot_score  act_composite  \n",
       "0                   1430           1540             35  \n",
       "1                   1460           1540             35  \n",
       "2                   1430           1540             35  \n",
       "3                   1460           1540             35  \n",
       "4                   1460           1540             35  "
      ]
     },
     "execution_count": 890,
     "metadata": {},
     "output_type": "execute_result"
    }
   ],
   "source": [
    "colleges_df.head()"
   ]
  },
  {
   "cell_type": "code",
   "execution_count": 891,
   "metadata": {},
   "outputs": [],
   "source": [
    "colleges_df.drop('act_composite', axis = 1, inplace = True)\n",
    "colleges_df.rename(columns = {'sat_tot_score': 'sat_equiv_of_act_75th',},\n",
    "                  inplace = True)"
   ]
  },
  {
   "cell_type": "code",
   "execution_count": 892,
   "metadata": {},
   "outputs": [
    {
     "data": {
      "text/html": [
       "<div>\n",
       "<style scoped>\n",
       "    .dataframe tbody tr th:only-of-type {\n",
       "        vertical-align: middle;\n",
       "    }\n",
       "\n",
       "    .dataframe tbody tr th {\n",
       "        vertical-align: top;\n",
       "    }\n",
       "\n",
       "    .dataframe thead th {\n",
       "        text-align: right;\n",
       "    }\n",
       "</style>\n",
       "<table border=\"1\" class=\"dataframe\">\n",
       "  <thead>\n",
       "    <tr style=\"text-align: right;\">\n",
       "      <th></th>\n",
       "      <th>school</th>\n",
       "      <th>test_optional_or_no</th>\n",
       "      <th>applies_to_class_year_s</th>\n",
       "      <th>policy_details</th>\n",
       "      <th>number_of_applicants</th>\n",
       "      <th>accept_rate</th>\n",
       "      <th>sat_tot_25th_percentile</th>\n",
       "      <th>sat_tot_75th_percentile</th>\n",
       "      <th>act_composite_25th_percentile</th>\n",
       "      <th>act_composite_75th_percentile</th>\n",
       "      <th>sat_equiv_of_act_25th</th>\n",
       "      <th>sat_equiv_of_act_75th</th>\n",
       "    </tr>\n",
       "  </thead>\n",
       "  <tbody>\n",
       "    <tr>\n",
       "      <th>0</th>\n",
       "      <td>Stanford University</td>\n",
       "      <td>Yes</td>\n",
       "      <td>2021</td>\n",
       "      <td>Stanford has adopted a one-year test optional ...</td>\n",
       "      <td>47452</td>\n",
       "      <td>0.043</td>\n",
       "      <td>1440</td>\n",
       "      <td>1570</td>\n",
       "      <td>32</td>\n",
       "      <td>35</td>\n",
       "      <td>1430</td>\n",
       "      <td>1540</td>\n",
       "    </tr>\n",
       "    <tr>\n",
       "      <th>1</th>\n",
       "      <td>Harvard College</td>\n",
       "      <td>Yes</td>\n",
       "      <td>2021</td>\n",
       "      <td>Harvard has adopted a one-year test optional p...</td>\n",
       "      <td>42749</td>\n",
       "      <td>0.047</td>\n",
       "      <td>1460</td>\n",
       "      <td>1580</td>\n",
       "      <td>33</td>\n",
       "      <td>35</td>\n",
       "      <td>1460</td>\n",
       "      <td>1540</td>\n",
       "    </tr>\n",
       "    <tr>\n",
       "      <th>2</th>\n",
       "      <td>Princeton University</td>\n",
       "      <td>Yes</td>\n",
       "      <td>2021</td>\n",
       "      <td>Princeton has adopted a one-year test optional...</td>\n",
       "      <td>35370</td>\n",
       "      <td>0.055</td>\n",
       "      <td>1440</td>\n",
       "      <td>1570</td>\n",
       "      <td>32</td>\n",
       "      <td>35</td>\n",
       "      <td>1430</td>\n",
       "      <td>1540</td>\n",
       "    </tr>\n",
       "    <tr>\n",
       "      <th>3</th>\n",
       "      <td>Columbia University</td>\n",
       "      <td>Yes</td>\n",
       "      <td>2021</td>\n",
       "      <td>Columbia has adopted a one-year test optional ...</td>\n",
       "      <td>40203</td>\n",
       "      <td>0.055</td>\n",
       "      <td>1450</td>\n",
       "      <td>1560</td>\n",
       "      <td>33</td>\n",
       "      <td>35</td>\n",
       "      <td>1460</td>\n",
       "      <td>1540</td>\n",
       "    </tr>\n",
       "    <tr>\n",
       "      <th>4</th>\n",
       "      <td>Yale University</td>\n",
       "      <td>Yes</td>\n",
       "      <td>2021</td>\n",
       "      <td>Yale has adopted a one-year test optional poli...</td>\n",
       "      <td>36844</td>\n",
       "      <td>0.061</td>\n",
       "      <td>1460</td>\n",
       "      <td>1570</td>\n",
       "      <td>33</td>\n",
       "      <td>35</td>\n",
       "      <td>1460</td>\n",
       "      <td>1540</td>\n",
       "    </tr>\n",
       "  </tbody>\n",
       "</table>\n",
       "</div>"
      ],
      "text/plain": [
       "                 school test_optional_or_no applies_to_class_year_s  \\\n",
       "0   Stanford University                 Yes                    2021   \n",
       "1       Harvard College                 Yes                    2021   \n",
       "2  Princeton University                 Yes                    2021   \n",
       "3   Columbia University                 Yes                    2021   \n",
       "4       Yale University                 Yes                    2021   \n",
       "\n",
       "                                      policy_details  number_of_applicants  \\\n",
       "0  Stanford has adopted a one-year test optional ...                 47452   \n",
       "1  Harvard has adopted a one-year test optional p...                 42749   \n",
       "2  Princeton has adopted a one-year test optional...                 35370   \n",
       "3  Columbia has adopted a one-year test optional ...                 40203   \n",
       "4  Yale has adopted a one-year test optional poli...                 36844   \n",
       "\n",
       "   accept_rate  sat_tot_25th_percentile  sat_tot_75th_percentile  \\\n",
       "0        0.043                     1440                     1570   \n",
       "1        0.047                     1460                     1580   \n",
       "2        0.055                     1440                     1570   \n",
       "3        0.055                     1450                     1560   \n",
       "4        0.061                     1460                     1570   \n",
       "\n",
       "   act_composite_25th_percentile  act_composite_75th_percentile  \\\n",
       "0                             32                             35   \n",
       "1                             33                             35   \n",
       "2                             32                             35   \n",
       "3                             33                             35   \n",
       "4                             33                             35   \n",
       "\n",
       "   sat_equiv_of_act_25th  sat_equiv_of_act_75th  \n",
       "0                   1430                   1540  \n",
       "1                   1460                   1540  \n",
       "2                   1430                   1540  \n",
       "3                   1460                   1540  \n",
       "4                   1460                   1540  "
      ]
     },
     "execution_count": 892,
     "metadata": {},
     "output_type": "execute_result"
    }
   ],
   "source": [
    "colleges_df.head()"
   ]
  },
  {
   "cell_type": "markdown",
   "metadata": {},
   "source": [
    "# 10.0 Additional Cleaning\n",
    "\n",
    "None. The inner join I used eliminated the discrepant row from my the ACT by state data.\n",
    "\n",
    "Adding the Difference between SAT and ACT scores to both tables."
   ]
  },
  {
   "cell_type": "code",
   "execution_count": 905,
   "metadata": {},
   "outputs": [],
   "source": [
    "colleges_df['sat_minus_sat_equiv_25th_perc'] = colleges_df['sat_tot_25th_percentile'] - colleges_df['sat_equiv_of_act_25th']\n",
    "colleges_df['sat_minus_sat_equiv_75th_perc'] = colleges_df['sat_tot_75th_percentile'] - colleges_df['sat_equiv_of_act_75th']\n"
   ]
  },
  {
   "cell_type": "code",
   "execution_count": 906,
   "metadata": {},
   "outputs": [
    {
     "data": {
      "text/html": [
       "<div>\n",
       "<style scoped>\n",
       "    .dataframe tbody tr th:only-of-type {\n",
       "        vertical-align: middle;\n",
       "    }\n",
       "\n",
       "    .dataframe tbody tr th {\n",
       "        vertical-align: top;\n",
       "    }\n",
       "\n",
       "    .dataframe thead th {\n",
       "        text-align: right;\n",
       "    }\n",
       "</style>\n",
       "<table border=\"1\" class=\"dataframe\">\n",
       "  <thead>\n",
       "    <tr style=\"text-align: right;\">\n",
       "      <th></th>\n",
       "      <th>school</th>\n",
       "      <th>test_optional_or_no</th>\n",
       "      <th>applies_to_class_year_s</th>\n",
       "      <th>policy_details</th>\n",
       "      <th>number_of_applicants</th>\n",
       "      <th>accept_rate</th>\n",
       "      <th>sat_tot_25th_percentile</th>\n",
       "      <th>sat_tot_75th_percentile</th>\n",
       "      <th>act_composite_25th_percentile</th>\n",
       "      <th>act_composite_75th_percentile</th>\n",
       "      <th>sat_equiv_of_act_25th</th>\n",
       "      <th>sat_equiv_of_act_75th</th>\n",
       "      <th>sat_minus_sat_equiv_25th_perc</th>\n",
       "      <th>sat_minus_sat_equiv_75th_perc</th>\n",
       "    </tr>\n",
       "  </thead>\n",
       "  <tbody>\n",
       "    <tr>\n",
       "      <th>0</th>\n",
       "      <td>Stanford University</td>\n",
       "      <td>Yes</td>\n",
       "      <td>2021</td>\n",
       "      <td>Stanford has adopted a one-year test optional ...</td>\n",
       "      <td>47452</td>\n",
       "      <td>0.043</td>\n",
       "      <td>1440</td>\n",
       "      <td>1570</td>\n",
       "      <td>32</td>\n",
       "      <td>35</td>\n",
       "      <td>1430</td>\n",
       "      <td>1540</td>\n",
       "      <td>10</td>\n",
       "      <td>30</td>\n",
       "    </tr>\n",
       "    <tr>\n",
       "      <th>1</th>\n",
       "      <td>Harvard College</td>\n",
       "      <td>Yes</td>\n",
       "      <td>2021</td>\n",
       "      <td>Harvard has adopted a one-year test optional p...</td>\n",
       "      <td>42749</td>\n",
       "      <td>0.047</td>\n",
       "      <td>1460</td>\n",
       "      <td>1580</td>\n",
       "      <td>33</td>\n",
       "      <td>35</td>\n",
       "      <td>1460</td>\n",
       "      <td>1540</td>\n",
       "      <td>0</td>\n",
       "      <td>40</td>\n",
       "    </tr>\n",
       "    <tr>\n",
       "      <th>2</th>\n",
       "      <td>Princeton University</td>\n",
       "      <td>Yes</td>\n",
       "      <td>2021</td>\n",
       "      <td>Princeton has adopted a one-year test optional...</td>\n",
       "      <td>35370</td>\n",
       "      <td>0.055</td>\n",
       "      <td>1440</td>\n",
       "      <td>1570</td>\n",
       "      <td>32</td>\n",
       "      <td>35</td>\n",
       "      <td>1430</td>\n",
       "      <td>1540</td>\n",
       "      <td>10</td>\n",
       "      <td>30</td>\n",
       "    </tr>\n",
       "    <tr>\n",
       "      <th>3</th>\n",
       "      <td>Columbia University</td>\n",
       "      <td>Yes</td>\n",
       "      <td>2021</td>\n",
       "      <td>Columbia has adopted a one-year test optional ...</td>\n",
       "      <td>40203</td>\n",
       "      <td>0.055</td>\n",
       "      <td>1450</td>\n",
       "      <td>1560</td>\n",
       "      <td>33</td>\n",
       "      <td>35</td>\n",
       "      <td>1460</td>\n",
       "      <td>1540</td>\n",
       "      <td>-10</td>\n",
       "      <td>20</td>\n",
       "    </tr>\n",
       "    <tr>\n",
       "      <th>4</th>\n",
       "      <td>Yale University</td>\n",
       "      <td>Yes</td>\n",
       "      <td>2021</td>\n",
       "      <td>Yale has adopted a one-year test optional poli...</td>\n",
       "      <td>36844</td>\n",
       "      <td>0.061</td>\n",
       "      <td>1460</td>\n",
       "      <td>1570</td>\n",
       "      <td>33</td>\n",
       "      <td>35</td>\n",
       "      <td>1460</td>\n",
       "      <td>1540</td>\n",
       "      <td>0</td>\n",
       "      <td>30</td>\n",
       "    </tr>\n",
       "  </tbody>\n",
       "</table>\n",
       "</div>"
      ],
      "text/plain": [
       "                 school test_optional_or_no applies_to_class_year_s  \\\n",
       "0   Stanford University                 Yes                    2021   \n",
       "1       Harvard College                 Yes                    2021   \n",
       "2  Princeton University                 Yes                    2021   \n",
       "3   Columbia University                 Yes                    2021   \n",
       "4       Yale University                 Yes                    2021   \n",
       "\n",
       "                                      policy_details  number_of_applicants  \\\n",
       "0  Stanford has adopted a one-year test optional ...                 47452   \n",
       "1  Harvard has adopted a one-year test optional p...                 42749   \n",
       "2  Princeton has adopted a one-year test optional...                 35370   \n",
       "3  Columbia has adopted a one-year test optional ...                 40203   \n",
       "4  Yale has adopted a one-year test optional poli...                 36844   \n",
       "\n",
       "   accept_rate  sat_tot_25th_percentile  sat_tot_75th_percentile  \\\n",
       "0        0.043                     1440                     1570   \n",
       "1        0.047                     1460                     1580   \n",
       "2        0.055                     1440                     1570   \n",
       "3        0.055                     1450                     1560   \n",
       "4        0.061                     1460                     1570   \n",
       "\n",
       "   act_composite_25th_percentile  act_composite_75th_percentile  \\\n",
       "0                             32                             35   \n",
       "1                             33                             35   \n",
       "2                             32                             35   \n",
       "3                             33                             35   \n",
       "4                             33                             35   \n",
       "\n",
       "   sat_equiv_of_act_25th  sat_equiv_of_act_75th  \\\n",
       "0                   1430                   1540   \n",
       "1                   1460                   1540   \n",
       "2                   1430                   1540   \n",
       "3                   1460                   1540   \n",
       "4                   1460                   1540   \n",
       "\n",
       "   sat_minus_sat_equiv_25th_perc  sat_minus_sat_equiv_75th_perc  \n",
       "0                             10                             30  \n",
       "1                              0                             40  \n",
       "2                             10                             30  \n",
       "3                            -10                             20  \n",
       "4                              0                             30  "
      ]
     },
     "execution_count": 906,
     "metadata": {},
     "output_type": "execute_result"
    }
   ],
   "source": [
    "colleges_df.head()"
   ]
  },
  {
   "cell_type": "code",
   "execution_count": 1075,
   "metadata": {},
   "outputs": [],
   "source": [
    "act_sat_2019_df['mean_sat_minus_sat_equiv_mean_act'] = act_sat_2019_df['sat_total'] - act_sat_2019_df['sat_equiv_of_act_composite']\n"
   ]
  },
  {
   "cell_type": "code",
   "execution_count": 1116,
   "metadata": {},
   "outputs": [
    {
     "data": {
      "text/html": [
       "<div>\n",
       "<style scoped>\n",
       "    .dataframe tbody tr th:only-of-type {\n",
       "        vertical-align: middle;\n",
       "    }\n",
       "\n",
       "    .dataframe tbody tr th {\n",
       "        vertical-align: top;\n",
       "    }\n",
       "\n",
       "    .dataframe thead th {\n",
       "        text-align: right;\n",
       "    }\n",
       "</style>\n",
       "<table border=\"1\" class=\"dataframe\">\n",
       "  <thead>\n",
       "    <tr style=\"text-align: right;\">\n",
       "      <th></th>\n",
       "      <th>state_or_territory</th>\n",
       "      <th>sat_participation_rate</th>\n",
       "      <th>sat_total</th>\n",
       "      <th>act_participation_rate</th>\n",
       "      <th>act_composite</th>\n",
       "      <th>sat_equiv_of_act_composite</th>\n",
       "      <th>mean_sat_minus_sat_equiv_mean_act</th>\n",
       "    </tr>\n",
       "  </thead>\n",
       "  <tbody>\n",
       "    <tr>\n",
       "      <th>0</th>\n",
       "      <td>Alabama</td>\n",
       "      <td>0.07</td>\n",
       "      <td>1140</td>\n",
       "      <td>1.00</td>\n",
       "      <td>19</td>\n",
       "      <td>1010</td>\n",
       "      <td>130</td>\n",
       "    </tr>\n",
       "    <tr>\n",
       "      <th>1</th>\n",
       "      <td>Arizona</td>\n",
       "      <td>0.31</td>\n",
       "      <td>1130</td>\n",
       "      <td>0.73</td>\n",
       "      <td>19</td>\n",
       "      <td>1010</td>\n",
       "      <td>120</td>\n",
       "    </tr>\n",
       "  </tbody>\n",
       "</table>\n",
       "</div>"
      ],
      "text/plain": [
       "  state_or_territory  sat_participation_rate  sat_total  \\\n",
       "0            Alabama                    0.07       1140   \n",
       "1            Arizona                    0.31       1130   \n",
       "\n",
       "   act_participation_rate  act_composite  sat_equiv_of_act_composite  \\\n",
       "0                    1.00             19                        1010   \n",
       "1                    0.73             19                        1010   \n",
       "\n",
       "   mean_sat_minus_sat_equiv_mean_act  \n",
       "0                                130  \n",
       "1                                120  "
      ]
     },
     "execution_count": 1116,
     "metadata": {},
     "output_type": "execute_result"
    }
   ],
   "source": [
    "act_sat_2019_df.head(2)"
   ]
  },
  {
   "cell_type": "markdown",
   "metadata": {
    "tags": []
   },
   "source": [
    "## 11.0 Save your cleaned and merged dataframes as csv files.\n",
    "\n",
    "Saving the final colleges_df, act_sat_2019_df"
   ]
  },
  {
   "cell_type": "code",
   "execution_count": 1117,
   "metadata": {},
   "outputs": [],
   "source": [
    "colleges_df.to_csv('../data/colleges_df.csv', index = False)"
   ]
  },
  {
   "cell_type": "code",
   "execution_count": 1118,
   "metadata": {},
   "outputs": [],
   "source": [
    "act_sat_2019_df.to_csv('../data/act_sat_2019_df.csv', index = False)"
   ]
  },
  {
   "cell_type": "markdown",
   "metadata": {},
   "source": [
    "### Data Dictionary\n",
    "\n",
    "Now that we've fixed our data, and given it appropriate names, let's create a [data dictionary](http://library.ucmerced.edu/node/10249). \n",
    "\n",
    "A data dictionary provides a quick overview of features/variables/columns, alongside data types and descriptions. The more descriptive you can be, the more useful this document is.\n",
    "\n",
    "Example of a Fictional Data Dictionary Entry: \n",
    "\n",
    "|Feature|Type|Dataset|Description|\n",
    "|---|---|---|---|\n",
    "|**county_pop**|*integer*|2010 census|The population of the county (units in thousands, where 2.5 represents 2500 people).| \n",
    "|**per_poverty**|*float*|2010 census|The percent of the county over the age of 18 living below the 200% of official US poverty rate (units percent to two decimal places 98.10 means 98.1%)|\n",
    "\n",
    "[Here's a quick link to a short guide for formatting markdown in Jupyter notebooks](https://jupyter-notebook.readthedocs.io/en/stable/examples/Notebook/Working%20With%20Markdown%20Cells.html).\n",
    "\n",
    "Provided is the skeleton for formatting a markdown table, with columns headers that will help you create a data dictionary to quickly summarize your data, as well as some examples. **This would be a great thing to copy and paste into your custom README for this project.**\n",
    "\n",
    "*Note*: if you are unsure of what a feature is, check the source of the data! This can be found in the README."
   ]
  },
  {
   "cell_type": "code",
   "execution_count": 1119,
   "metadata": {},
   "outputs": [
    {
     "data": {
      "text/plain": [
       "state_or_territory                    object\n",
       "sat_participation_rate               float64\n",
       "sat_total                              int64\n",
       "act_participation_rate               float64\n",
       "act_composite                          int64\n",
       "sat_equiv_of_act_composite             int64\n",
       "mean_sat_minus_sat_equiv_mean_act      int64\n",
       "dtype: object"
      ]
     },
     "execution_count": 1119,
     "metadata": {},
     "output_type": "execute_result"
    }
   ],
   "source": [
    "act_sat_2019_df.dtypes"
   ]
  },
  {
   "cell_type": "code",
   "execution_count": 1120,
   "metadata": {},
   "outputs": [
    {
     "data": {
      "text/html": [
       "<div>\n",
       "<style scoped>\n",
       "    .dataframe tbody tr th:only-of-type {\n",
       "        vertical-align: middle;\n",
       "    }\n",
       "\n",
       "    .dataframe tbody tr th {\n",
       "        vertical-align: top;\n",
       "    }\n",
       "\n",
       "    .dataframe thead th {\n",
       "        text-align: right;\n",
       "    }\n",
       "</style>\n",
       "<table border=\"1\" class=\"dataframe\">\n",
       "  <thead>\n",
       "    <tr style=\"text-align: right;\">\n",
       "      <th></th>\n",
       "      <th>state_or_territory</th>\n",
       "      <th>sat_participation_rate</th>\n",
       "      <th>sat_total</th>\n",
       "      <th>act_participation_rate</th>\n",
       "      <th>act_composite</th>\n",
       "      <th>sat_equiv_of_act_composite</th>\n",
       "      <th>mean_sat_minus_sat_equiv_mean_act</th>\n",
       "    </tr>\n",
       "  </thead>\n",
       "  <tbody>\n",
       "    <tr>\n",
       "      <th>0</th>\n",
       "      <td>Alabama</td>\n",
       "      <td>0.07</td>\n",
       "      <td>1140</td>\n",
       "      <td>1.00</td>\n",
       "      <td>19</td>\n",
       "      <td>1010</td>\n",
       "      <td>130</td>\n",
       "    </tr>\n",
       "    <tr>\n",
       "      <th>1</th>\n",
       "      <td>Arizona</td>\n",
       "      <td>0.31</td>\n",
       "      <td>1130</td>\n",
       "      <td>0.73</td>\n",
       "      <td>19</td>\n",
       "      <td>1010</td>\n",
       "      <td>120</td>\n",
       "    </tr>\n",
       "    <tr>\n",
       "      <th>2</th>\n",
       "      <td>Arkansas</td>\n",
       "      <td>0.06</td>\n",
       "      <td>1140</td>\n",
       "      <td>1.00</td>\n",
       "      <td>19</td>\n",
       "      <td>1010</td>\n",
       "      <td>130</td>\n",
       "    </tr>\n",
       "    <tr>\n",
       "      <th>3</th>\n",
       "      <td>Hawaii</td>\n",
       "      <td>0.54</td>\n",
       "      <td>1100</td>\n",
       "      <td>0.80</td>\n",
       "      <td>19</td>\n",
       "      <td>1010</td>\n",
       "      <td>90</td>\n",
       "    </tr>\n",
       "    <tr>\n",
       "      <th>4</th>\n",
       "      <td>Louisiana</td>\n",
       "      <td>0.05</td>\n",
       "      <td>1200</td>\n",
       "      <td>1.00</td>\n",
       "      <td>19</td>\n",
       "      <td>1010</td>\n",
       "      <td>190</td>\n",
       "    </tr>\n",
       "  </tbody>\n",
       "</table>\n",
       "</div>"
      ],
      "text/plain": [
       "  state_or_territory  sat_participation_rate  sat_total  \\\n",
       "0            Alabama                    0.07       1140   \n",
       "1            Arizona                    0.31       1130   \n",
       "2           Arkansas                    0.06       1140   \n",
       "3             Hawaii                    0.54       1100   \n",
       "4          Louisiana                    0.05       1200   \n",
       "\n",
       "   act_participation_rate  act_composite  sat_equiv_of_act_composite  \\\n",
       "0                    1.00             19                        1010   \n",
       "1                    0.73             19                        1010   \n",
       "2                    1.00             19                        1010   \n",
       "3                    0.80             19                        1010   \n",
       "4                    1.00             19                        1010   \n",
       "\n",
       "   mean_sat_minus_sat_equiv_mean_act  \n",
       "0                                130  \n",
       "1                                120  \n",
       "2                                130  \n",
       "3                                 90  \n",
       "4                                190  "
      ]
     },
     "execution_count": 1120,
     "metadata": {},
     "output_type": "execute_result"
    }
   ],
   "source": [
    "act_sat_2019_df.head()"
   ]
  },
  {
   "cell_type": "markdown",
   "metadata": {
    "tags": []
   },
   "source": [
    "## Data Dictionary for ACT and SAT Scores by State, 2019\n",
    "\n",
    "|Feature|Type|Dataset|Description|\n",
    "|---|---|---|---|\n",
    "|state_or_territory|object|act_2019 and sat_2019 from prepscholar.com|The name of the state or territory|\n",
    "|sat_participation_rate|float|sat_2019 from prepscholar.com|The SAT participation rate for eligible students in state or territory|\n",
    "|sat_total|int|sat_2019 from prepscholar.com|The average SAT total score (EBRW + Math) in state or territory, rounded to nearest 10|\n",
    "|act_participation_rate|float|act_2019 from prepscholar.com|The ACT participation rate for eligible students in state or territory|\n",
    "|act_composite|int|act_2019 from prepscholar.com|The average ACT composite in state/territory, rounded to nearest integer|\n",
    "|sat_equiv_of_act_composite|int|2018 ACT/SAT Concordance Tables|The equivalent SAT total score (EBRW + Math) for the state or territory's average ACT composite score|\n",
    "|mean_sat_minus_sat_equiv_mean_act|int|calculated from sat_total and act_composite|The difference between the mean SAT total and the SAT total equivalent to the mean ACT composite for the state| \n"
   ]
  },
  {
   "cell_type": "code",
   "execution_count": 1121,
   "metadata": {},
   "outputs": [
    {
     "data": {
      "text/plain": [
       "school                            object\n",
       "test_optional_or_no               object\n",
       "applies_to_class_year_s           object\n",
       "policy_details                    object\n",
       "number_of_applicants               int64\n",
       "accept_rate                      float64\n",
       "sat_tot_25th_percentile            int64\n",
       "sat_tot_75th_percentile            int64\n",
       "act_composite_25th_percentile      int64\n",
       "act_composite_75th_percentile      int64\n",
       "sat_equiv_of_act_25th              int64\n",
       "sat_equiv_of_act_75th              int64\n",
       "sat_minus_sat_equiv_25th_perc      int64\n",
       "sat_minus_sat_equiv_75th_perc      int64\n",
       "dtype: object"
      ]
     },
     "execution_count": 1121,
     "metadata": {},
     "output_type": "execute_result"
    }
   ],
   "source": [
    "colleges_df.dtypes"
   ]
  },
  {
   "cell_type": "markdown",
   "metadata": {
    "jp-MarkdownHeadingCollapsed": true,
    "tags": []
   },
   "source": [
    "## Data Dictionary for ACT/SAT Scores by College\n",
    "\n",
    "|Feature|Type|Dataset|Description|\n",
    "|---|---|---|---|\n",
    "|school|object|sat_act_by_college from Compass Prep|College name|\n",
    "|test_optional_or_no|object|sat_act_by_college from Compass Prep|Describes whether or not the college is test optional|\n",
    "|applies_to_class_year_s|object|sat_act_by_college from Compass Prep|Class year or years for which test optional is available|\n",
    "|policy_details|object|sat_act_by_college from Compass Prep|Description of the test optional policy, where applicable|\n",
    "|number_of_applicants|int|sat_act_by_college from Compass Prep|The number of applicants to the college|\n",
    "|accept_rate|float|sat_act_by_college from Compass Prep|The rate of acceptance for applicants|\n",
    "|sat_tot_25th_percentile|int|sat_act_by_college from Compass Prep|The 25th percentile SAT total score (EBRW + Math) for accepted students|\n",
    "|sat_tot_75th_percentile|int|sat_act_by_college from Compass Prep|The 75th percentile SAT total score (EBRW + Math) for accepted students|\n",
    "|act_composite_25th_percentile|int|sat_act_by_college from Compass Prep| The 25th percentile ACT composite for accepted students|\n",
    "|act_composite_75th_percentile|int|sat_act_by_college from Compass Prep| The 75th percentile ACT composite for accepted students|\n",
    "|sat_equiv_of_act_25th|int|2018 ACT/SAT Concordance Tables|The equivalent SAT total score (EBRW + Math) for the college's 25th percentile ACT composite score|\n",
    "|sat_equiv_of_act_75th|int|2018 ACT/SAT Concordance Tables|The equivalent SAT total score (EBRW + Math) for the college's 75th percentile ACT composite score|\n",
    "|sat_minus_sat_equiv_25th_perc|int|calculated from sat_tot_25th_percentile and sat_equiv_of_act_25th|This is calculated from the 25th percentile SAT score for the college minus the SAT score equivalent for the 25th percentile ACT score for the college. A positive value indicates the 25th percentile SAT score is higher than its 25th percentile ACT counterpart. A negative value indicates that the 25th percentile ACT score is higher than its 25th percentile SAT counterpart|\n",
    "|sat_minus_sat_equiv_75th_perc|int|calculated from sat_tot_75th_percentile and sat_equiv_of_act_75th|This is calculated from the 75th percentile SAT score for the college minus the SAT score equivalent for the 75th percentile ACT score for the college. A positive value indicates the 75th percentile SAT score is higher than its 75th percentile ACT counterpart. A negative value indicates that the 75th percentile ACT score is higher than its 75th percentile SAT counterpart|"
   ]
  },
  {
   "cell_type": "markdown",
   "metadata": {
    "tags": []
   },
   "source": [
    "## Exploratory Data Analysis\n",
    "\n",
    "Complete the following steps to explore your data. You are welcome to do more EDA than the steps outlined here as you feel necessary:\n",
    "### 1. Summary Statistics."
   ]
  },
  {
   "cell_type": "code",
   "execution_count": 1122,
   "metadata": {},
   "outputs": [
    {
     "data": {
      "text/html": [
       "<div>\n",
       "<style scoped>\n",
       "    .dataframe tbody tr th:only-of-type {\n",
       "        vertical-align: middle;\n",
       "    }\n",
       "\n",
       "    .dataframe tbody tr th {\n",
       "        vertical-align: top;\n",
       "    }\n",
       "\n",
       "    .dataframe thead th {\n",
       "        text-align: right;\n",
       "    }\n",
       "</style>\n",
       "<table border=\"1\" class=\"dataframe\">\n",
       "  <thead>\n",
       "    <tr style=\"text-align: right;\">\n",
       "      <th></th>\n",
       "      <th>sat_participation_rate</th>\n",
       "      <th>sat_total</th>\n",
       "      <th>act_participation_rate</th>\n",
       "      <th>act_composite</th>\n",
       "      <th>sat_equiv_of_act_composite</th>\n",
       "      <th>mean_sat_minus_sat_equiv_mean_act</th>\n",
       "    </tr>\n",
       "  </thead>\n",
       "  <tbody>\n",
       "    <tr>\n",
       "      <th>count</th>\n",
       "      <td>51.000000</td>\n",
       "      <td>51.000000</td>\n",
       "      <td>51.000000</td>\n",
       "      <td>51.000000</td>\n",
       "      <td>51.000000</td>\n",
       "      <td>51.000000</td>\n",
       "    </tr>\n",
       "    <tr>\n",
       "      <th>mean</th>\n",
       "      <td>0.490588</td>\n",
       "      <td>1112.549020</td>\n",
       "      <td>0.586667</td>\n",
       "      <td>21.431373</td>\n",
       "      <td>1090.980392</td>\n",
       "      <td>21.568627</td>\n",
       "    </tr>\n",
       "    <tr>\n",
       "      <th>std</th>\n",
       "      <td>0.387476</td>\n",
       "      <td>97.464725</td>\n",
       "      <td>0.345159</td>\n",
       "      <td>2.238347</td>\n",
       "      <td>75.980390</td>\n",
       "      <td>146.429130</td>\n",
       "    </tr>\n",
       "    <tr>\n",
       "      <th>min</th>\n",
       "      <td>0.020000</td>\n",
       "      <td>940.000000</td>\n",
       "      <td>0.060000</td>\n",
       "      <td>18.000000</td>\n",
       "      <td>970.000000</td>\n",
       "      <td>-210.000000</td>\n",
       "    </tr>\n",
       "    <tr>\n",
       "      <th>25%</th>\n",
       "      <td>0.055000</td>\n",
       "      <td>1040.000000</td>\n",
       "      <td>0.245000</td>\n",
       "      <td>20.000000</td>\n",
       "      <td>1040.000000</td>\n",
       "      <td>-110.000000</td>\n",
       "    </tr>\n",
       "    <tr>\n",
       "      <th>50%</th>\n",
       "      <td>0.540000</td>\n",
       "      <td>1100.000000</td>\n",
       "      <td>0.540000</td>\n",
       "      <td>21.000000</td>\n",
       "      <td>1080.000000</td>\n",
       "      <td>20.000000</td>\n",
       "    </tr>\n",
       "    <tr>\n",
       "      <th>75%</th>\n",
       "      <td>0.820000</td>\n",
       "      <td>1210.000000</td>\n",
       "      <td>1.000000</td>\n",
       "      <td>24.000000</td>\n",
       "      <td>1180.000000</td>\n",
       "      <td>160.000000</td>\n",
       "    </tr>\n",
       "    <tr>\n",
       "      <th>max</th>\n",
       "      <td>1.000000</td>\n",
       "      <td>1280.000000</td>\n",
       "      <td>1.000000</td>\n",
       "      <td>26.000000</td>\n",
       "      <td>1240.000000</td>\n",
       "      <td>270.000000</td>\n",
       "    </tr>\n",
       "  </tbody>\n",
       "</table>\n",
       "</div>"
      ],
      "text/plain": [
       "       sat_participation_rate    sat_total  act_participation_rate  \\\n",
       "count               51.000000    51.000000               51.000000   \n",
       "mean                 0.490588  1112.549020                0.586667   \n",
       "std                  0.387476    97.464725                0.345159   \n",
       "min                  0.020000   940.000000                0.060000   \n",
       "25%                  0.055000  1040.000000                0.245000   \n",
       "50%                  0.540000  1100.000000                0.540000   \n",
       "75%                  0.820000  1210.000000                1.000000   \n",
       "max                  1.000000  1280.000000                1.000000   \n",
       "\n",
       "       act_composite  sat_equiv_of_act_composite  \\\n",
       "count      51.000000                   51.000000   \n",
       "mean       21.431373                 1090.980392   \n",
       "std         2.238347                   75.980390   \n",
       "min        18.000000                  970.000000   \n",
       "25%        20.000000                 1040.000000   \n",
       "50%        21.000000                 1080.000000   \n",
       "75%        24.000000                 1180.000000   \n",
       "max        26.000000                 1240.000000   \n",
       "\n",
       "       mean_sat_minus_sat_equiv_mean_act  \n",
       "count                          51.000000  \n",
       "mean                           21.568627  \n",
       "std                           146.429130  \n",
       "min                          -210.000000  \n",
       "25%                          -110.000000  \n",
       "50%                            20.000000  \n",
       "75%                           160.000000  \n",
       "max                           270.000000  "
      ]
     },
     "execution_count": 1122,
     "metadata": {},
     "output_type": "execute_result"
    }
   ],
   "source": [
    "act_sat_2019_df.describe()"
   ]
  },
  {
   "cell_type": "markdown",
   "metadata": {},
   "source": [
    "Observations:\n",
    "\n",
    "The ACT has a higher average participation rate.\n",
    "The SAT equivalent of ACT scores is lower at the mean, the max, the 75th percentile, and the 50th percentile. The SAT equivalent of ACT scores is higher at the minimum and equal at the 25th percentile. NOTE: the ACT conversion chart chooses a point within a range that includes one or two SAT scores above and one or two SAT scores below. That means that when an SAT equivalent of ACT is 30 points (or potentially even 20 points) below the SAT score, that SAT score is equivalent to a full point higher on the ACT.\n",
    "\n",
    "HYPOTHESIS: higher ACT participation includes more lower-performing students, lowering mean and higher percentiles because that higher participation results from more states that require all students to take the ACT versus those requiring the SAT.\n",
    "\n",
    "Pretty wide discrepancy on how SAT and SAT equivalent of ACT stacks up by state."
   ]
  },
  {
   "cell_type": "code",
   "execution_count": 1123,
   "metadata": {},
   "outputs": [
    {
     "data": {
      "text/html": [
       "<div>\n",
       "<style scoped>\n",
       "    .dataframe tbody tr th:only-of-type {\n",
       "        vertical-align: middle;\n",
       "    }\n",
       "\n",
       "    .dataframe tbody tr th {\n",
       "        vertical-align: top;\n",
       "    }\n",
       "\n",
       "    .dataframe thead th {\n",
       "        text-align: right;\n",
       "    }\n",
       "</style>\n",
       "<table border=\"1\" class=\"dataframe\">\n",
       "  <thead>\n",
       "    <tr style=\"text-align: right;\">\n",
       "      <th></th>\n",
       "      <th>number_of_applicants</th>\n",
       "      <th>accept_rate</th>\n",
       "      <th>sat_tot_25th_percentile</th>\n",
       "      <th>sat_tot_75th_percentile</th>\n",
       "      <th>act_composite_25th_percentile</th>\n",
       "      <th>act_composite_75th_percentile</th>\n",
       "      <th>sat_equiv_of_act_25th</th>\n",
       "      <th>sat_equiv_of_act_75th</th>\n",
       "      <th>sat_minus_sat_equiv_25th_perc</th>\n",
       "      <th>sat_minus_sat_equiv_75th_perc</th>\n",
       "    </tr>\n",
       "  </thead>\n",
       "  <tbody>\n",
       "    <tr>\n",
       "      <th>count</th>\n",
       "      <td>405.000000</td>\n",
       "      <td>405.000000</td>\n",
       "      <td>405.000000</td>\n",
       "      <td>405.000000</td>\n",
       "      <td>405.000000</td>\n",
       "      <td>405.000000</td>\n",
       "      <td>405.000000</td>\n",
       "      <td>405.000000</td>\n",
       "      <td>405.000000</td>\n",
       "      <td>405.000000</td>\n",
       "    </tr>\n",
       "    <tr>\n",
       "      <th>mean</th>\n",
       "      <td>17339.239506</td>\n",
       "      <td>0.554116</td>\n",
       "      <td>1167.933333</td>\n",
       "      <td>1359.644444</td>\n",
       "      <td>24.738272</td>\n",
       "      <td>29.908642</td>\n",
       "      <td>1198.790123</td>\n",
       "      <td>1367.555556</td>\n",
       "      <td>-30.856790</td>\n",
       "      <td>-7.911111</td>\n",
       "    </tr>\n",
       "    <tr>\n",
       "      <th>std</th>\n",
       "      <td>17187.633091</td>\n",
       "      <td>0.242055</td>\n",
       "      <td>129.924056</td>\n",
       "      <td>111.478484</td>\n",
       "      <td>4.137565</td>\n",
       "      <td>3.160563</td>\n",
       "      <td>136.273850</td>\n",
       "      <td>101.609328</td>\n",
       "      <td>37.868901</td>\n",
       "      <td>37.674833</td>\n",
       "    </tr>\n",
       "    <tr>\n",
       "      <th>min</th>\n",
       "      <td>211.000000</td>\n",
       "      <td>0.043000</td>\n",
       "      <td>793.000000</td>\n",
       "      <td>1050.000000</td>\n",
       "      <td>15.000000</td>\n",
       "      <td>19.000000</td>\n",
       "      <td>850.000000</td>\n",
       "      <td>1010.000000</td>\n",
       "      <td>-260.000000</td>\n",
       "      <td>-200.000000</td>\n",
       "    </tr>\n",
       "    <tr>\n",
       "      <th>25%</th>\n",
       "      <td>5208.000000</td>\n",
       "      <td>0.374000</td>\n",
       "      <td>1070.000000</td>\n",
       "      <td>1270.000000</td>\n",
       "      <td>22.000000</td>\n",
       "      <td>28.000000</td>\n",
       "      <td>1110.000000</td>\n",
       "      <td>1310.000000</td>\n",
       "      <td>-52.000000</td>\n",
       "      <td>-30.000000</td>\n",
       "    </tr>\n",
       "    <tr>\n",
       "      <th>50%</th>\n",
       "      <td>11478.000000</td>\n",
       "      <td>0.611000</td>\n",
       "      <td>1150.000000</td>\n",
       "      <td>1350.000000</td>\n",
       "      <td>24.000000</td>\n",
       "      <td>30.000000</td>\n",
       "      <td>1180.000000</td>\n",
       "      <td>1370.000000</td>\n",
       "      <td>-30.000000</td>\n",
       "      <td>-10.000000</td>\n",
       "    </tr>\n",
       "    <tr>\n",
       "      <th>75%</th>\n",
       "      <td>23583.000000</td>\n",
       "      <td>0.742000</td>\n",
       "      <td>1250.000000</td>\n",
       "      <td>1440.000000</td>\n",
       "      <td>28.000000</td>\n",
       "      <td>32.000000</td>\n",
       "      <td>1310.000000</td>\n",
       "      <td>1430.000000</td>\n",
       "      <td>-10.000000</td>\n",
       "      <td>20.000000</td>\n",
       "    </tr>\n",
       "    <tr>\n",
       "      <th>max</th>\n",
       "      <td>111322.000000</td>\n",
       "      <td>0.999000</td>\n",
       "      <td>1530.000000</td>\n",
       "      <td>1580.000000</td>\n",
       "      <td>35.000000</td>\n",
       "      <td>36.000000</td>\n",
       "      <td>1540.000000</td>\n",
       "      <td>1590.000000</td>\n",
       "      <td>100.000000</td>\n",
       "      <td>188.000000</td>\n",
       "    </tr>\n",
       "  </tbody>\n",
       "</table>\n",
       "</div>"
      ],
      "text/plain": [
       "       number_of_applicants  accept_rate  sat_tot_25th_percentile  \\\n",
       "count            405.000000   405.000000               405.000000   \n",
       "mean           17339.239506     0.554116              1167.933333   \n",
       "std            17187.633091     0.242055               129.924056   \n",
       "min              211.000000     0.043000               793.000000   \n",
       "25%             5208.000000     0.374000              1070.000000   \n",
       "50%            11478.000000     0.611000              1150.000000   \n",
       "75%            23583.000000     0.742000              1250.000000   \n",
       "max           111322.000000     0.999000              1530.000000   \n",
       "\n",
       "       sat_tot_75th_percentile  act_composite_25th_percentile  \\\n",
       "count               405.000000                     405.000000   \n",
       "mean               1359.644444                      24.738272   \n",
       "std                 111.478484                       4.137565   \n",
       "min                1050.000000                      15.000000   \n",
       "25%                1270.000000                      22.000000   \n",
       "50%                1350.000000                      24.000000   \n",
       "75%                1440.000000                      28.000000   \n",
       "max                1580.000000                      35.000000   \n",
       "\n",
       "       act_composite_75th_percentile  sat_equiv_of_act_25th  \\\n",
       "count                     405.000000             405.000000   \n",
       "mean                       29.908642            1198.790123   \n",
       "std                         3.160563             136.273850   \n",
       "min                        19.000000             850.000000   \n",
       "25%                        28.000000            1110.000000   \n",
       "50%                        30.000000            1180.000000   \n",
       "75%                        32.000000            1310.000000   \n",
       "max                        36.000000            1540.000000   \n",
       "\n",
       "       sat_equiv_of_act_75th  sat_minus_sat_equiv_25th_perc  \\\n",
       "count             405.000000                     405.000000   \n",
       "mean             1367.555556                     -30.856790   \n",
       "std               101.609328                      37.868901   \n",
       "min              1010.000000                    -260.000000   \n",
       "25%              1310.000000                     -52.000000   \n",
       "50%              1370.000000                     -30.000000   \n",
       "75%              1430.000000                     -10.000000   \n",
       "max              1590.000000                     100.000000   \n",
       "\n",
       "       sat_minus_sat_equiv_75th_perc  \n",
       "count                     405.000000  \n",
       "mean                       -7.911111  \n",
       "std                        37.674833  \n",
       "min                      -200.000000  \n",
       "25%                       -30.000000  \n",
       "50%                       -10.000000  \n",
       "75%                        20.000000  \n",
       "max                       188.000000  "
      ]
     },
     "execution_count": 1123,
     "metadata": {},
     "output_type": "execute_result"
    }
   ],
   "source": [
    "colleges_df.describe()"
   ]
  },
  {
   "cell_type": "markdown",
   "metadata": {},
   "source": [
    "Observations:\n",
    "\n",
    "Interestingly, the mean college acceptance rate is over 50%, the 50th percentile is 61%, and the 25th percentile is 37%. It seems that a relatively few colleges skew the average downward. Working as a tutor in NYC, that fact is lost here.\n",
    "\n",
    "count, mean, std, min, 25%, 50%, 75%, max\n",
    "\n",
    "Looking at sat_minus_sat_equiv_25th_perc:\n",
    "The mean for the ACT is higher at the 25th percentile by about 30 SAT points (because the SAT equivalent of ACT is greater than the SAT). Knowing nothing about the school, we'd guess the 25th % ACT is effectively a higher score than the 25th % SAT. The minimum looks like an outlier (ACT effectively 260 SAT points higher than the SAT). The max could be an outlier as well, with a 100 SAT point skew toward the SAT.\n",
    "\n",
    "Looking at the sat_minus_sat_equiv_75th_perc:\n",
    "There's still a skew toward the ACT in the mean, but it's much smaller (~8 SAT points). The discrepancy between the two scores is less extreme at the minimum (ACT 200 SAT points stronger), but it's more extreme at the max (SAT 188 SAT points stronger).\n",
    "\n",
    "SAT 25th percentile: \n",
    "For the mean, the SAT equivalent of ACT is about 30 points higher. For the min, the SAT equivalent of ACT is about 60 points higher. For the 25th percentile, the SAT equivalent of ACT is 40 points higher. For the 50th percentile, the SAT equivalent of ACT is 30 points higher. For the 75th percentile, the SAT equivalent of ACT is 60 points higher. For the max, the SAT equivalent of the ACT is 10 points higher."
   ]
  },
  {
   "cell_type": "markdown",
   "metadata": {},
   "source": [
    "##### Summary of Observations from Summary Data\n",
    "\n",
    "It seems like the SAT is skewed towards higher performing students and schools. \n",
    "\n",
    "A school looking for higher scores is going to have SAT scores that are higher than their ACT equivalents (comparing by 25th and 75th percentiles) and that difference is going to be more pronounced at the 75th percentile than at the 25th percentile. On the other hand, a school looking for relatively lower scores is either less skewed towards the SAT or is skewered toward the ACT (ACT higher than the comparable SAT), with the same biases toward 25th versus 75th percentile as above (25th reflecting relatively higher ACT, 75th reflecting relatively higher SAT). **This suggests that a student could benefit from choosing which test to take and/or submit to the school depending on which scores are relatively lower and where the student falls on the range of scores.** In other words, a student will appear relatively stronger with a score from the \"lower\" test than an equivalen score from the \"higher\" test, which varies by school and location on the score range."
   ]
  },
  {
   "cell_type": "markdown",
   "metadata": {},
   "source": [
    "### 2. Use a **dictionary comprehension** to apply the standard deviation function you create in part 1 to each numeric column in the dataframe.  **No loops**.\n",
    "    - Assign the output to variable `sd` as a dictionary where: \n",
    "        - Each column name is now a key \n",
    "        - That standard deviation of the column is the value \n",
    "        - *Example Output :* `{'ACT_Math': 120, 'ACT_Reading': 120, ...}`"
   ]
  },
  {
   "cell_type": "code",
   "execution_count": 1124,
   "metadata": {},
   "outputs": [
    {
     "data": {
      "text/plain": [
       "state_or_territory                    object\n",
       "sat_participation_rate               float64\n",
       "sat_total                              int64\n",
       "act_participation_rate               float64\n",
       "act_composite                          int64\n",
       "sat_equiv_of_act_composite             int64\n",
       "mean_sat_minus_sat_equiv_mean_act      int64\n",
       "dtype: object"
      ]
     },
     "execution_count": 1124,
     "metadata": {},
     "output_type": "execute_result"
    }
   ],
   "source": [
    "act_sat_2019_df.dtypes"
   ]
  },
  {
   "cell_type": "code",
   "execution_count": 1125,
   "metadata": {},
   "outputs": [],
   "source": [
    "sd_ac_sat_2019_dict = {c: stddevfnc(act_sat_2019_df[c][1:].tolist()) for c in act_sat_2019_df.columns if act_sat_2019_df[c].dtypes != object}\n",
    "                                    "
   ]
  },
  {
   "cell_type": "code",
   "execution_count": 1126,
   "metadata": {},
   "outputs": [
    {
     "data": {
      "text/plain": [
       "{'sat_participation_rate': 0.3827910657264612,\n",
       " 'sat_total': 97.38583059151881,\n",
       " 'act_participation_rate': 0.3400726981102717,\n",
       " 'act_composite': 2.2112439937736403,\n",
       " 'sat_equiv_of_act_composite': 75.09487332701217,\n",
       " 'mean_sat_minus_sat_equiv_mean_act': 145.6078294598199}"
      ]
     },
     "execution_count": 1126,
     "metadata": {},
     "output_type": "execute_result"
    }
   ],
   "source": [
    "sd_ac_sat_2019_dict"
   ]
  },
  {
   "cell_type": "markdown",
   "metadata": {
    "tags": []
   },
   "source": [
    "## 3. Investigate trends in the data.\n",
    "    - Using sorting and/or masking (along with the `.head()` method to avoid printing our entire dataframe), consider questions relevant to your problem statement. Some examples are provided below (but feel free to change these questions for your specific problem):\n",
    "        - Which states have the highest and lowest participation rates for the 2019 SAT and ACT?"
   ]
  },
  {
   "cell_type": "code",
   "execution_count": 1127,
   "metadata": {},
   "outputs": [
    {
     "data": {
      "text/html": [
       "<div>\n",
       "<style scoped>\n",
       "    .dataframe tbody tr th:only-of-type {\n",
       "        vertical-align: middle;\n",
       "    }\n",
       "\n",
       "    .dataframe tbody tr th {\n",
       "        vertical-align: top;\n",
       "    }\n",
       "\n",
       "    .dataframe thead th {\n",
       "        text-align: right;\n",
       "    }\n",
       "</style>\n",
       "<table border=\"1\" class=\"dataframe\">\n",
       "  <thead>\n",
       "    <tr style=\"text-align: right;\">\n",
       "      <th></th>\n",
       "      <th>state_or_territory</th>\n",
       "      <th>sat_participation_rate</th>\n",
       "      <th>sat_total</th>\n",
       "      <th>act_participation_rate</th>\n",
       "      <th>act_composite</th>\n",
       "      <th>sat_equiv_of_act_composite</th>\n",
       "      <th>mean_sat_minus_sat_equiv_mean_act</th>\n",
       "    </tr>\n",
       "  </thead>\n",
       "  <tbody>\n",
       "    <tr>\n",
       "      <th>15</th>\n",
       "      <td>North Dakota</td>\n",
       "      <td>0.02</td>\n",
       "      <td>1260</td>\n",
       "      <td>0.96</td>\n",
       "      <td>20</td>\n",
       "      <td>1040</td>\n",
       "      <td>220</td>\n",
       "    </tr>\n",
       "    <tr>\n",
       "      <th>45</th>\n",
       "      <td>South Dakota</td>\n",
       "      <td>0.03</td>\n",
       "      <td>1270</td>\n",
       "      <td>0.75</td>\n",
       "      <td>22</td>\n",
       "      <td>1110</td>\n",
       "      <td>160</td>\n",
       "    </tr>\n",
       "    <tr>\n",
       "      <th>47</th>\n",
       "      <td>Mississippi</td>\n",
       "      <td>0.03</td>\n",
       "      <td>1240</td>\n",
       "      <td>1.00</td>\n",
       "      <td>18</td>\n",
       "      <td>970</td>\n",
       "      <td>270</td>\n",
       "    </tr>\n",
       "    <tr>\n",
       "      <th>43</th>\n",
       "      <td>Iowa</td>\n",
       "      <td>0.03</td>\n",
       "      <td>1240</td>\n",
       "      <td>0.66</td>\n",
       "      <td>22</td>\n",
       "      <td>1110</td>\n",
       "      <td>130</td>\n",
       "    </tr>\n",
       "    <tr>\n",
       "      <th>20</th>\n",
       "      <td>Wyoming</td>\n",
       "      <td>0.03</td>\n",
       "      <td>1240</td>\n",
       "      <td>1.00</td>\n",
       "      <td>20</td>\n",
       "      <td>1040</td>\n",
       "      <td>200</td>\n",
       "    </tr>\n",
       "  </tbody>\n",
       "</table>\n",
       "</div>"
      ],
      "text/plain": [
       "   state_or_territory  sat_participation_rate  sat_total  \\\n",
       "15       North Dakota                    0.02       1260   \n",
       "45       South Dakota                    0.03       1270   \n",
       "47        Mississippi                    0.03       1240   \n",
       "43               Iowa                    0.03       1240   \n",
       "20            Wyoming                    0.03       1240   \n",
       "\n",
       "    act_participation_rate  act_composite  sat_equiv_of_act_composite  \\\n",
       "15                    0.96             20                        1040   \n",
       "45                    0.75             22                        1110   \n",
       "47                    1.00             18                         970   \n",
       "43                    0.66             22                        1110   \n",
       "20                    1.00             20                        1040   \n",
       "\n",
       "    mean_sat_minus_sat_equiv_mean_act  \n",
       "15                                220  \n",
       "45                                160  \n",
       "47                                270  \n",
       "43                                130  \n",
       "20                                200  "
      ]
     },
     "execution_count": 1127,
     "metadata": {},
     "output_type": "execute_result"
    }
   ],
   "source": [
    "act_sat_2019_df.sort_values('sat_participation_rate', ascending = True).head()"
   ]
  },
  {
   "cell_type": "code",
   "execution_count": 1128,
   "metadata": {},
   "outputs": [
    {
     "data": {
      "text/html": [
       "<div>\n",
       "<style scoped>\n",
       "    .dataframe tbody tr th:only-of-type {\n",
       "        vertical-align: middle;\n",
       "    }\n",
       "\n",
       "    .dataframe tbody tr th {\n",
       "        vertical-align: top;\n",
       "    }\n",
       "\n",
       "    .dataframe thead th {\n",
       "        text-align: right;\n",
       "    }\n",
       "</style>\n",
       "<table border=\"1\" class=\"dataframe\">\n",
       "  <thead>\n",
       "    <tr style=\"text-align: right;\">\n",
       "      <th></th>\n",
       "      <th>state_or_territory</th>\n",
       "      <th>sat_participation_rate</th>\n",
       "      <th>sat_total</th>\n",
       "      <th>act_participation_rate</th>\n",
       "      <th>act_composite</th>\n",
       "      <th>sat_equiv_of_act_composite</th>\n",
       "      <th>mean_sat_minus_sat_equiv_mean_act</th>\n",
       "    </tr>\n",
       "  </thead>\n",
       "  <tbody>\n",
       "    <tr>\n",
       "      <th>25</th>\n",
       "      <td>Illinois</td>\n",
       "      <td>1.0</td>\n",
       "      <td>1010</td>\n",
       "      <td>0.35</td>\n",
       "      <td>24</td>\n",
       "      <td>1180</td>\n",
       "      <td>-170</td>\n",
       "    </tr>\n",
       "    <tr>\n",
       "      <th>11</th>\n",
       "      <td>Florida</td>\n",
       "      <td>1.0</td>\n",
       "      <td>1000</td>\n",
       "      <td>0.54</td>\n",
       "      <td>20</td>\n",
       "      <td>1040</td>\n",
       "      <td>-40</td>\n",
       "    </tr>\n",
       "    <tr>\n",
       "      <th>41</th>\n",
       "      <td>Idaho</td>\n",
       "      <td>1.0</td>\n",
       "      <td>990</td>\n",
       "      <td>0.31</td>\n",
       "      <td>22</td>\n",
       "      <td>1110</td>\n",
       "      <td>-120</td>\n",
       "    </tr>\n",
       "    <tr>\n",
       "      <th>33</th>\n",
       "      <td>Connecticut</td>\n",
       "      <td>1.0</td>\n",
       "      <td>1050</td>\n",
       "      <td>0.22</td>\n",
       "      <td>26</td>\n",
       "      <td>1240</td>\n",
       "      <td>-190</td>\n",
       "    </tr>\n",
       "    <tr>\n",
       "      <th>27</th>\n",
       "      <td>Michigan</td>\n",
       "      <td>1.0</td>\n",
       "      <td>1000</td>\n",
       "      <td>0.19</td>\n",
       "      <td>24</td>\n",
       "      <td>1180</td>\n",
       "      <td>-180</td>\n",
       "    </tr>\n",
       "  </tbody>\n",
       "</table>\n",
       "</div>"
      ],
      "text/plain": [
       "   state_or_territory  sat_participation_rate  sat_total  \\\n",
       "25           Illinois                     1.0       1010   \n",
       "11            Florida                     1.0       1000   \n",
       "41              Idaho                     1.0        990   \n",
       "33        Connecticut                     1.0       1050   \n",
       "27           Michigan                     1.0       1000   \n",
       "\n",
       "    act_participation_rate  act_composite  sat_equiv_of_act_composite  \\\n",
       "25                    0.35             24                        1180   \n",
       "11                    0.54             20                        1040   \n",
       "41                    0.31             22                        1110   \n",
       "33                    0.22             26                        1240   \n",
       "27                    0.19             24                        1180   \n",
       "\n",
       "    mean_sat_minus_sat_equiv_mean_act  \n",
       "25                               -170  \n",
       "11                                -40  \n",
       "41                               -120  \n",
       "33                               -190  \n",
       "27                               -180  "
      ]
     },
     "execution_count": 1128,
     "metadata": {},
     "output_type": "execute_result"
    }
   ],
   "source": [
    "act_sat_2019_df.sort_values('sat_participation_rate', ascending = False).head()"
   ]
  },
  {
   "cell_type": "code",
   "execution_count": 1129,
   "metadata": {},
   "outputs": [
    {
     "data": {
      "text/html": [
       "<div>\n",
       "<style scoped>\n",
       "    .dataframe tbody tr th:only-of-type {\n",
       "        vertical-align: middle;\n",
       "    }\n",
       "\n",
       "    .dataframe tbody tr th {\n",
       "        vertical-align: top;\n",
       "    }\n",
       "\n",
       "    .dataframe thead th {\n",
       "        text-align: right;\n",
       "    }\n",
       "</style>\n",
       "<table border=\"1\" class=\"dataframe\">\n",
       "  <thead>\n",
       "    <tr style=\"text-align: right;\">\n",
       "      <th></th>\n",
       "      <th>state_or_territory</th>\n",
       "      <th>sat_participation_rate</th>\n",
       "      <th>sat_total</th>\n",
       "      <th>act_participation_rate</th>\n",
       "      <th>act_composite</th>\n",
       "      <th>sat_equiv_of_act_composite</th>\n",
       "      <th>mean_sat_minus_sat_equiv_mean_act</th>\n",
       "    </tr>\n",
       "  </thead>\n",
       "  <tbody>\n",
       "    <tr>\n",
       "      <th>26</th>\n",
       "      <td>Maine</td>\n",
       "      <td>0.99</td>\n",
       "      <td>1010</td>\n",
       "      <td>0.06</td>\n",
       "      <td>24</td>\n",
       "      <td>1180</td>\n",
       "      <td>-170</td>\n",
       "    </tr>\n",
       "    <tr>\n",
       "      <th>50</th>\n",
       "      <td>Rhode Island</td>\n",
       "      <td>1.00</td>\n",
       "      <td>1000</td>\n",
       "      <td>0.12</td>\n",
       "      <td>25</td>\n",
       "      <td>1210</td>\n",
       "      <td>-210</td>\n",
       "    </tr>\n",
       "    <tr>\n",
       "      <th>23</th>\n",
       "      <td>Delaware</td>\n",
       "      <td>1.00</td>\n",
       "      <td>980</td>\n",
       "      <td>0.13</td>\n",
       "      <td>24</td>\n",
       "      <td>1180</td>\n",
       "      <td>-200</td>\n",
       "    </tr>\n",
       "    <tr>\n",
       "      <th>49</th>\n",
       "      <td>New Hampshire</td>\n",
       "      <td>0.95</td>\n",
       "      <td>1060</td>\n",
       "      <td>0.14</td>\n",
       "      <td>25</td>\n",
       "      <td>1210</td>\n",
       "      <td>-150</td>\n",
       "    </tr>\n",
       "    <tr>\n",
       "      <th>30</th>\n",
       "      <td>Pennsylvania</td>\n",
       "      <td>0.70</td>\n",
       "      <td>1080</td>\n",
       "      <td>0.17</td>\n",
       "      <td>24</td>\n",
       "      <td>1180</td>\n",
       "      <td>-100</td>\n",
       "    </tr>\n",
       "  </tbody>\n",
       "</table>\n",
       "</div>"
      ],
      "text/plain": [
       "   state_or_territory  sat_participation_rate  sat_total  \\\n",
       "26              Maine                    0.99       1010   \n",
       "50       Rhode Island                    1.00       1000   \n",
       "23           Delaware                    1.00        980   \n",
       "49      New Hampshire                    0.95       1060   \n",
       "30       Pennsylvania                    0.70       1080   \n",
       "\n",
       "    act_participation_rate  act_composite  sat_equiv_of_act_composite  \\\n",
       "26                    0.06             24                        1180   \n",
       "50                    0.12             25                        1210   \n",
       "23                    0.13             24                        1180   \n",
       "49                    0.14             25                        1210   \n",
       "30                    0.17             24                        1180   \n",
       "\n",
       "    mean_sat_minus_sat_equiv_mean_act  \n",
       "26                               -170  \n",
       "50                               -210  \n",
       "23                               -200  \n",
       "49                               -150  \n",
       "30                               -100  "
      ]
     },
     "execution_count": 1129,
     "metadata": {},
     "output_type": "execute_result"
    }
   ],
   "source": [
    "act_sat_2019_df.sort_values('act_participation_rate', ascending = True).head()"
   ]
  },
  {
   "cell_type": "code",
   "execution_count": 1130,
   "metadata": {},
   "outputs": [
    {
     "data": {
      "text/html": [
       "<div>\n",
       "<style scoped>\n",
       "    .dataframe tbody tr th:only-of-type {\n",
       "        vertical-align: middle;\n",
       "    }\n",
       "\n",
       "    .dataframe tbody tr th {\n",
       "        vertical-align: top;\n",
       "    }\n",
       "\n",
       "    .dataframe thead th {\n",
       "        text-align: right;\n",
       "    }\n",
       "</style>\n",
       "<table border=\"1\" class=\"dataframe\">\n",
       "  <thead>\n",
       "    <tr style=\"text-align: right;\">\n",
       "      <th></th>\n",
       "      <th>state_or_territory</th>\n",
       "      <th>sat_participation_rate</th>\n",
       "      <th>sat_total</th>\n",
       "      <th>act_participation_rate</th>\n",
       "      <th>act_composite</th>\n",
       "      <th>sat_equiv_of_act_composite</th>\n",
       "      <th>mean_sat_minus_sat_equiv_mean_act</th>\n",
       "    </tr>\n",
       "  </thead>\n",
       "  <tbody>\n",
       "    <tr>\n",
       "      <th>0</th>\n",
       "      <td>Alabama</td>\n",
       "      <td>0.07</td>\n",
       "      <td>1140</td>\n",
       "      <td>1.0</td>\n",
       "      <td>19</td>\n",
       "      <td>1010</td>\n",
       "      <td>130</td>\n",
       "    </tr>\n",
       "    <tr>\n",
       "      <th>16</th>\n",
       "      <td>Ohio</td>\n",
       "      <td>0.19</td>\n",
       "      <td>1100</td>\n",
       "      <td>1.0</td>\n",
       "      <td>20</td>\n",
       "      <td>1040</td>\n",
       "      <td>60</td>\n",
       "    </tr>\n",
       "    <tr>\n",
       "      <th>2</th>\n",
       "      <td>Arkansas</td>\n",
       "      <td>0.06</td>\n",
       "      <td>1140</td>\n",
       "      <td>1.0</td>\n",
       "      <td>19</td>\n",
       "      <td>1010</td>\n",
       "      <td>130</td>\n",
       "    </tr>\n",
       "    <tr>\n",
       "      <th>47</th>\n",
       "      <td>Mississippi</td>\n",
       "      <td>0.03</td>\n",
       "      <td>1240</td>\n",
       "      <td>1.0</td>\n",
       "      <td>18</td>\n",
       "      <td>970</td>\n",
       "      <td>270</td>\n",
       "    </tr>\n",
       "    <tr>\n",
       "      <th>4</th>\n",
       "      <td>Louisiana</td>\n",
       "      <td>0.05</td>\n",
       "      <td>1200</td>\n",
       "      <td>1.0</td>\n",
       "      <td>19</td>\n",
       "      <td>1010</td>\n",
       "      <td>190</td>\n",
       "    </tr>\n",
       "  </tbody>\n",
       "</table>\n",
       "</div>"
      ],
      "text/plain": [
       "   state_or_territory  sat_participation_rate  sat_total  \\\n",
       "0             Alabama                    0.07       1140   \n",
       "16               Ohio                    0.19       1100   \n",
       "2            Arkansas                    0.06       1140   \n",
       "47        Mississippi                    0.03       1240   \n",
       "4           Louisiana                    0.05       1200   \n",
       "\n",
       "    act_participation_rate  act_composite  sat_equiv_of_act_composite  \\\n",
       "0                      1.0             19                        1010   \n",
       "16                     1.0             20                        1040   \n",
       "2                      1.0             19                        1010   \n",
       "47                     1.0             18                         970   \n",
       "4                      1.0             19                        1010   \n",
       "\n",
       "    mean_sat_minus_sat_equiv_mean_act  \n",
       "0                                 130  \n",
       "16                                 60  \n",
       "2                                 130  \n",
       "47                                270  \n",
       "4                                 190  "
      ]
     },
     "execution_count": 1130,
     "metadata": {},
     "output_type": "execute_result"
    }
   ],
   "source": [
    "act_sat_2019_df.sort_values('act_participation_rate', ascending = False).head()"
   ]
  },
  {
   "cell_type": "markdown",
   "metadata": {},
   "source": [
    "### Observations about Lowest and Highest Participation Rates for SAT and ACT, by state/territory, 2019\n",
    "\n",
    "Perhaps unsurprisingly, there's an inverse correlation between SAT and ACT participation rate, at least among the top 5 highest and lowest for each test. States with 100% participation almost certainly are all requiring/offering all students to take that respective test.\n",
    "\n",
    "The SAT minus SAT equivalent of ACT mean supports this contention, with a huge difference between the tests at each end of the scale.\n",
    "\n",
    "Found this website that has 2018-19 data: https://www.edweek.org/teaching-learning/which-states-require-students-to-take-the-sat-or-act\n",
    "\n",
    "Will print the list of 100% participation and will check against it manually (in future I'll write it in and verify in Python/Pandas:))"
   ]
  },
  {
   "cell_type": "code",
   "execution_count": 1131,
   "metadata": {},
   "outputs": [
    {
     "data": {
      "text/html": [
       "<div>\n",
       "<style scoped>\n",
       "    .dataframe tbody tr th:only-of-type {\n",
       "        vertical-align: middle;\n",
       "    }\n",
       "\n",
       "    .dataframe tbody tr th {\n",
       "        vertical-align: top;\n",
       "    }\n",
       "\n",
       "    .dataframe thead th {\n",
       "        text-align: right;\n",
       "    }\n",
       "</style>\n",
       "<table border=\"1\" class=\"dataframe\">\n",
       "  <thead>\n",
       "    <tr style=\"text-align: right;\">\n",
       "      <th></th>\n",
       "      <th>state_or_territory</th>\n",
       "      <th>sat_participation_rate</th>\n",
       "      <th>sat_total</th>\n",
       "      <th>act_participation_rate</th>\n",
       "      <th>act_composite</th>\n",
       "      <th>sat_equiv_of_act_composite</th>\n",
       "      <th>mean_sat_minus_sat_equiv_mean_act</th>\n",
       "    </tr>\n",
       "  </thead>\n",
       "  <tbody>\n",
       "    <tr>\n",
       "      <th>11</th>\n",
       "      <td>Florida</td>\n",
       "      <td>1.0</td>\n",
       "      <td>1000</td>\n",
       "      <td>0.54</td>\n",
       "      <td>20</td>\n",
       "      <td>1040</td>\n",
       "      <td>-40</td>\n",
       "    </tr>\n",
       "    <tr>\n",
       "      <th>22</th>\n",
       "      <td>Colorado</td>\n",
       "      <td>1.0</td>\n",
       "      <td>1020</td>\n",
       "      <td>0.27</td>\n",
       "      <td>24</td>\n",
       "      <td>1180</td>\n",
       "      <td>-160</td>\n",
       "    </tr>\n",
       "    <tr>\n",
       "      <th>23</th>\n",
       "      <td>Delaware</td>\n",
       "      <td>1.0</td>\n",
       "      <td>980</td>\n",
       "      <td>0.13</td>\n",
       "      <td>24</td>\n",
       "      <td>1180</td>\n",
       "      <td>-200</td>\n",
       "    </tr>\n",
       "    <tr>\n",
       "      <th>25</th>\n",
       "      <td>Illinois</td>\n",
       "      <td>1.0</td>\n",
       "      <td>1010</td>\n",
       "      <td>0.35</td>\n",
       "      <td>24</td>\n",
       "      <td>1180</td>\n",
       "      <td>-170</td>\n",
       "    </tr>\n",
       "    <tr>\n",
       "      <th>27</th>\n",
       "      <td>Michigan</td>\n",
       "      <td>1.0</td>\n",
       "      <td>1000</td>\n",
       "      <td>0.19</td>\n",
       "      <td>24</td>\n",
       "      <td>1180</td>\n",
       "      <td>-180</td>\n",
       "    </tr>\n",
       "    <tr>\n",
       "      <th>33</th>\n",
       "      <td>Connecticut</td>\n",
       "      <td>1.0</td>\n",
       "      <td>1050</td>\n",
       "      <td>0.22</td>\n",
       "      <td>26</td>\n",
       "      <td>1240</td>\n",
       "      <td>-190</td>\n",
       "    </tr>\n",
       "    <tr>\n",
       "      <th>41</th>\n",
       "      <td>Idaho</td>\n",
       "      <td>1.0</td>\n",
       "      <td>990</td>\n",
       "      <td>0.31</td>\n",
       "      <td>22</td>\n",
       "      <td>1110</td>\n",
       "      <td>-120</td>\n",
       "    </tr>\n",
       "    <tr>\n",
       "      <th>50</th>\n",
       "      <td>Rhode Island</td>\n",
       "      <td>1.0</td>\n",
       "      <td>1000</td>\n",
       "      <td>0.12</td>\n",
       "      <td>25</td>\n",
       "      <td>1210</td>\n",
       "      <td>-210</td>\n",
       "    </tr>\n",
       "  </tbody>\n",
       "</table>\n",
       "</div>"
      ],
      "text/plain": [
       "   state_or_territory  sat_participation_rate  sat_total  \\\n",
       "11            Florida                     1.0       1000   \n",
       "22           Colorado                     1.0       1020   \n",
       "23           Delaware                     1.0        980   \n",
       "25           Illinois                     1.0       1010   \n",
       "27           Michigan                     1.0       1000   \n",
       "33        Connecticut                     1.0       1050   \n",
       "41              Idaho                     1.0        990   \n",
       "50       Rhode Island                     1.0       1000   \n",
       "\n",
       "    act_participation_rate  act_composite  sat_equiv_of_act_composite  \\\n",
       "11                    0.54             20                        1040   \n",
       "22                    0.27             24                        1180   \n",
       "23                    0.13             24                        1180   \n",
       "25                    0.35             24                        1180   \n",
       "27                    0.19             24                        1180   \n",
       "33                    0.22             26                        1240   \n",
       "41                    0.31             22                        1110   \n",
       "50                    0.12             25                        1210   \n",
       "\n",
       "    mean_sat_minus_sat_equiv_mean_act  \n",
       "11                                -40  \n",
       "22                               -160  \n",
       "23                               -200  \n",
       "25                               -170  \n",
       "27                               -180  \n",
       "33                               -190  \n",
       "41                               -120  \n",
       "50                               -210  "
      ]
     },
     "execution_count": 1131,
     "metadata": {},
     "output_type": "execute_result"
    }
   ],
   "source": [
    "act_sat_2019_df[act_sat_2019_df['sat_participation_rate'] == 1]"
   ]
  },
  {
   "cell_type": "code",
   "execution_count": 1132,
   "metadata": {},
   "outputs": [
    {
     "data": {
      "text/plain": [
       "state_or_territory                   8\n",
       "sat_participation_rate               8\n",
       "sat_total                            8\n",
       "act_participation_rate               8\n",
       "act_composite                        8\n",
       "sat_equiv_of_act_composite           8\n",
       "mean_sat_minus_sat_equiv_mean_act    8\n",
       "dtype: int64"
      ]
     },
     "execution_count": 1132,
     "metadata": {},
     "output_type": "execute_result"
    }
   ],
   "source": [
    "act_sat_2019_df[act_sat_2019_df['sat_participation_rate'] == 1].count()"
   ]
  },
  {
   "cell_type": "markdown",
   "metadata": {},
   "source": [
    "8 States reporting 100% SAT participation.\n",
    "\n",
    "Surprisingly, Florida doesn't require the SAT, though it does require passing the FSA (Florida Standards Assessment) or achieving minimum scores on the SAT or the ACT for graduation. Perhaps that explains the high participation rate on both tests. That said, I'm skeptical the 100% SAT participation number is accurate without a requirement.\n",
    "\n",
    "Colorado, yes. Delaware, yes. Illinois, yes. Michigan, yes (both tests offered). CT, yes. Idaho, yes (both tests). RI, yes.\n",
    "\n",
    "An additional resource: https://blog.collegevine.com/states-that-require-sat/"
   ]
  },
  {
   "cell_type": "code",
   "execution_count": 1133,
   "metadata": {},
   "outputs": [
    {
     "data": {
      "text/html": [
       "<div>\n",
       "<style scoped>\n",
       "    .dataframe tbody tr th:only-of-type {\n",
       "        vertical-align: middle;\n",
       "    }\n",
       "\n",
       "    .dataframe tbody tr th {\n",
       "        vertical-align: top;\n",
       "    }\n",
       "\n",
       "    .dataframe thead th {\n",
       "        text-align: right;\n",
       "    }\n",
       "</style>\n",
       "<table border=\"1\" class=\"dataframe\">\n",
       "  <thead>\n",
       "    <tr style=\"text-align: right;\">\n",
       "      <th></th>\n",
       "      <th>state_or_territory</th>\n",
       "      <th>sat_participation_rate</th>\n",
       "      <th>sat_total</th>\n",
       "      <th>act_participation_rate</th>\n",
       "      <th>act_composite</th>\n",
       "      <th>sat_equiv_of_act_composite</th>\n",
       "      <th>mean_sat_minus_sat_equiv_mean_act</th>\n",
       "    </tr>\n",
       "  </thead>\n",
       "  <tbody>\n",
       "    <tr>\n",
       "      <th>0</th>\n",
       "      <td>Alabama</td>\n",
       "      <td>0.07</td>\n",
       "      <td>1140</td>\n",
       "      <td>1.0</td>\n",
       "      <td>19</td>\n",
       "      <td>1010</td>\n",
       "      <td>130</td>\n",
       "    </tr>\n",
       "    <tr>\n",
       "      <th>2</th>\n",
       "      <td>Arkansas</td>\n",
       "      <td>0.06</td>\n",
       "      <td>1140</td>\n",
       "      <td>1.0</td>\n",
       "      <td>19</td>\n",
       "      <td>1010</td>\n",
       "      <td>130</td>\n",
       "    </tr>\n",
       "    <tr>\n",
       "      <th>4</th>\n",
       "      <td>Louisiana</td>\n",
       "      <td>0.05</td>\n",
       "      <td>1200</td>\n",
       "      <td>1.0</td>\n",
       "      <td>19</td>\n",
       "      <td>1010</td>\n",
       "      <td>190</td>\n",
       "    </tr>\n",
       "    <tr>\n",
       "      <th>6</th>\n",
       "      <td>North Carolina</td>\n",
       "      <td>0.51</td>\n",
       "      <td>1100</td>\n",
       "      <td>1.0</td>\n",
       "      <td>19</td>\n",
       "      <td>1010</td>\n",
       "      <td>90</td>\n",
       "    </tr>\n",
       "    <tr>\n",
       "      <th>7</th>\n",
       "      <td>Oklahoma</td>\n",
       "      <td>0.22</td>\n",
       "      <td>960</td>\n",
       "      <td>1.0</td>\n",
       "      <td>19</td>\n",
       "      <td>1010</td>\n",
       "      <td>-50</td>\n",
       "    </tr>\n",
       "    <tr>\n",
       "      <th>9</th>\n",
       "      <td>Tennessee</td>\n",
       "      <td>0.07</td>\n",
       "      <td>1220</td>\n",
       "      <td>1.0</td>\n",
       "      <td>19</td>\n",
       "      <td>1010</td>\n",
       "      <td>210</td>\n",
       "    </tr>\n",
       "    <tr>\n",
       "      <th>12</th>\n",
       "      <td>Kentucky</td>\n",
       "      <td>0.04</td>\n",
       "      <td>1230</td>\n",
       "      <td>1.0</td>\n",
       "      <td>20</td>\n",
       "      <td>1040</td>\n",
       "      <td>190</td>\n",
       "    </tr>\n",
       "    <tr>\n",
       "      <th>13</th>\n",
       "      <td>Montana</td>\n",
       "      <td>0.09</td>\n",
       "      <td>1200</td>\n",
       "      <td>1.0</td>\n",
       "      <td>20</td>\n",
       "      <td>1040</td>\n",
       "      <td>160</td>\n",
       "    </tr>\n",
       "    <tr>\n",
       "      <th>14</th>\n",
       "      <td>Nebraska</td>\n",
       "      <td>0.03</td>\n",
       "      <td>1260</td>\n",
       "      <td>1.0</td>\n",
       "      <td>20</td>\n",
       "      <td>1040</td>\n",
       "      <td>220</td>\n",
       "    </tr>\n",
       "    <tr>\n",
       "      <th>16</th>\n",
       "      <td>Ohio</td>\n",
       "      <td>0.19</td>\n",
       "      <td>1100</td>\n",
       "      <td>1.0</td>\n",
       "      <td>20</td>\n",
       "      <td>1040</td>\n",
       "      <td>60</td>\n",
       "    </tr>\n",
       "    <tr>\n",
       "      <th>18</th>\n",
       "      <td>Utah</td>\n",
       "      <td>0.04</td>\n",
       "      <td>1230</td>\n",
       "      <td>1.0</td>\n",
       "      <td>20</td>\n",
       "      <td>1040</td>\n",
       "      <td>190</td>\n",
       "    </tr>\n",
       "    <tr>\n",
       "      <th>19</th>\n",
       "      <td>Wisconsin</td>\n",
       "      <td>0.03</td>\n",
       "      <td>1280</td>\n",
       "      <td>1.0</td>\n",
       "      <td>20</td>\n",
       "      <td>1040</td>\n",
       "      <td>240</td>\n",
       "    </tr>\n",
       "    <tr>\n",
       "      <th>20</th>\n",
       "      <td>Wyoming</td>\n",
       "      <td>0.03</td>\n",
       "      <td>1240</td>\n",
       "      <td>1.0</td>\n",
       "      <td>20</td>\n",
       "      <td>1040</td>\n",
       "      <td>200</td>\n",
       "    </tr>\n",
       "    <tr>\n",
       "      <th>47</th>\n",
       "      <td>Mississippi</td>\n",
       "      <td>0.03</td>\n",
       "      <td>1240</td>\n",
       "      <td>1.0</td>\n",
       "      <td>18</td>\n",
       "      <td>970</td>\n",
       "      <td>270</td>\n",
       "    </tr>\n",
       "    <tr>\n",
       "      <th>48</th>\n",
       "      <td>Nevada</td>\n",
       "      <td>0.20</td>\n",
       "      <td>1160</td>\n",
       "      <td>1.0</td>\n",
       "      <td>18</td>\n",
       "      <td>970</td>\n",
       "      <td>190</td>\n",
       "    </tr>\n",
       "  </tbody>\n",
       "</table>\n",
       "</div>"
      ],
      "text/plain": [
       "   state_or_territory  sat_participation_rate  sat_total  \\\n",
       "0             Alabama                    0.07       1140   \n",
       "2            Arkansas                    0.06       1140   \n",
       "4           Louisiana                    0.05       1200   \n",
       "6      North Carolina                    0.51       1100   \n",
       "7            Oklahoma                    0.22        960   \n",
       "9           Tennessee                    0.07       1220   \n",
       "12           Kentucky                    0.04       1230   \n",
       "13            Montana                    0.09       1200   \n",
       "14           Nebraska                    0.03       1260   \n",
       "16               Ohio                    0.19       1100   \n",
       "18               Utah                    0.04       1230   \n",
       "19          Wisconsin                    0.03       1280   \n",
       "20            Wyoming                    0.03       1240   \n",
       "47        Mississippi                    0.03       1240   \n",
       "48             Nevada                    0.20       1160   \n",
       "\n",
       "    act_participation_rate  act_composite  sat_equiv_of_act_composite  \\\n",
       "0                      1.0             19                        1010   \n",
       "2                      1.0             19                        1010   \n",
       "4                      1.0             19                        1010   \n",
       "6                      1.0             19                        1010   \n",
       "7                      1.0             19                        1010   \n",
       "9                      1.0             19                        1010   \n",
       "12                     1.0             20                        1040   \n",
       "13                     1.0             20                        1040   \n",
       "14                     1.0             20                        1040   \n",
       "16                     1.0             20                        1040   \n",
       "18                     1.0             20                        1040   \n",
       "19                     1.0             20                        1040   \n",
       "20                     1.0             20                        1040   \n",
       "47                     1.0             18                         970   \n",
       "48                     1.0             18                         970   \n",
       "\n",
       "    mean_sat_minus_sat_equiv_mean_act  \n",
       "0                                 130  \n",
       "2                                 130  \n",
       "4                                 190  \n",
       "6                                  90  \n",
       "7                                 -50  \n",
       "9                                 210  \n",
       "12                                190  \n",
       "13                                160  \n",
       "14                                220  \n",
       "16                                 60  \n",
       "18                                190  \n",
       "19                                240  \n",
       "20                                200  \n",
       "47                                270  \n",
       "48                                190  "
      ]
     },
     "execution_count": 1133,
     "metadata": {},
     "output_type": "execute_result"
    }
   ],
   "source": [
    "act_sat_2019_df[act_sat_2019_df['act_participation_rate'] == 1]"
   ]
  },
  {
   "cell_type": "code",
   "execution_count": 1134,
   "metadata": {},
   "outputs": [
    {
     "data": {
      "text/plain": [
       "state_or_territory                   15\n",
       "sat_participation_rate               15\n",
       "sat_total                            15\n",
       "act_participation_rate               15\n",
       "act_composite                        15\n",
       "sat_equiv_of_act_composite           15\n",
       "mean_sat_minus_sat_equiv_mean_act    15\n",
       "dtype: int64"
      ]
     },
     "execution_count": 1134,
     "metadata": {},
     "output_type": "execute_result"
    }
   ],
   "source": [
    "act_sat_2019_df[act_sat_2019_df['act_participation_rate'] == 1].count()"
   ]
  },
  {
   "cell_type": "markdown",
   "metadata": {},
   "source": [
    "15 states reporting 100% ACT participation.\n",
    "\n",
    "For more info on LA: https://www.louisianabelieves.com/measuringresults/assessments-for-high-schools\n",
    "\n",
    "AL, yes. AR, all districts must offer ACT, but students aren't required to take it. LA, LEAP assesments include ACT. NC, yes. OK, districts choose between SAT and ACT. TN, districts choose between SAT and ACT. KY, yes. MT, yes. NE, yes. OH, ACT or SAT. UT, yes. WI, yes. WY, yes. MS, yes. NV, yes.\n",
    "\n",
    "An additional resource: https://blog.prepscholar.com/which-states-require-the-act-full-list-and-advice"
   ]
  },
  {
   "cell_type": "markdown",
   "metadata": {},
   "source": [
    "### Observations about States with 100% participation rate on either test.\n",
    "\n",
    "It appears that with the exception of Florida, which does allow students to use SAT or ACT scores to meet graduation requirements, every state with a 100% participation rate on either test at least offers that test statewide."
   ]
  },
  {
   "cell_type": "markdown",
   "metadata": {},
   "source": [
    "    - Which states have the highest and lowest mean total/composite scores for the 2019 SAT and ACT?"
   ]
  },
  {
   "cell_type": "code",
   "execution_count": 1135,
   "metadata": {},
   "outputs": [
    {
     "data": {
      "text/html": [
       "<div>\n",
       "<style scoped>\n",
       "    .dataframe tbody tr th:only-of-type {\n",
       "        vertical-align: middle;\n",
       "    }\n",
       "\n",
       "    .dataframe tbody tr th {\n",
       "        vertical-align: top;\n",
       "    }\n",
       "\n",
       "    .dataframe thead th {\n",
       "        text-align: right;\n",
       "    }\n",
       "</style>\n",
       "<table border=\"1\" class=\"dataframe\">\n",
       "  <thead>\n",
       "    <tr style=\"text-align: right;\">\n",
       "      <th></th>\n",
       "      <th>state_or_territory</th>\n",
       "      <th>sat_participation_rate</th>\n",
       "      <th>sat_total</th>\n",
       "      <th>act_participation_rate</th>\n",
       "      <th>act_composite</th>\n",
       "      <th>sat_equiv_of_act_composite</th>\n",
       "      <th>mean_sat_minus_sat_equiv_mean_act</th>\n",
       "    </tr>\n",
       "  </thead>\n",
       "  <tbody>\n",
       "    <tr>\n",
       "      <th>40</th>\n",
       "      <td>West Virginia</td>\n",
       "      <td>0.99</td>\n",
       "      <td>940</td>\n",
       "      <td>0.49</td>\n",
       "      <td>21</td>\n",
       "      <td>1080</td>\n",
       "      <td>-140</td>\n",
       "    </tr>\n",
       "    <tr>\n",
       "      <th>7</th>\n",
       "      <td>Oklahoma</td>\n",
       "      <td>0.22</td>\n",
       "      <td>960</td>\n",
       "      <td>1.00</td>\n",
       "      <td>19</td>\n",
       "      <td>1010</td>\n",
       "      <td>-50</td>\n",
       "    </tr>\n",
       "    <tr>\n",
       "      <th>24</th>\n",
       "      <td>District of Columbia</td>\n",
       "      <td>0.94</td>\n",
       "      <td>980</td>\n",
       "      <td>0.32</td>\n",
       "      <td>24</td>\n",
       "      <td>1180</td>\n",
       "      <td>-200</td>\n",
       "    </tr>\n",
       "    <tr>\n",
       "      <th>23</th>\n",
       "      <td>Delaware</td>\n",
       "      <td>1.00</td>\n",
       "      <td>980</td>\n",
       "      <td>0.13</td>\n",
       "      <td>24</td>\n",
       "      <td>1180</td>\n",
       "      <td>-200</td>\n",
       "    </tr>\n",
       "    <tr>\n",
       "      <th>41</th>\n",
       "      <td>Idaho</td>\n",
       "      <td>1.00</td>\n",
       "      <td>990</td>\n",
       "      <td>0.31</td>\n",
       "      <td>22</td>\n",
       "      <td>1110</td>\n",
       "      <td>-120</td>\n",
       "    </tr>\n",
       "  </tbody>\n",
       "</table>\n",
       "</div>"
      ],
      "text/plain": [
       "      state_or_territory  sat_participation_rate  sat_total  \\\n",
       "40         West Virginia                    0.99        940   \n",
       "7               Oklahoma                    0.22        960   \n",
       "24  District of Columbia                    0.94        980   \n",
       "23              Delaware                    1.00        980   \n",
       "41                 Idaho                    1.00        990   \n",
       "\n",
       "    act_participation_rate  act_composite  sat_equiv_of_act_composite  \\\n",
       "40                    0.49             21                        1080   \n",
       "7                     1.00             19                        1010   \n",
       "24                    0.32             24                        1180   \n",
       "23                    0.13             24                        1180   \n",
       "41                    0.31             22                        1110   \n",
       "\n",
       "    mean_sat_minus_sat_equiv_mean_act  \n",
       "40                               -140  \n",
       "7                                 -50  \n",
       "24                               -200  \n",
       "23                               -200  \n",
       "41                               -120  "
      ]
     },
     "execution_count": 1135,
     "metadata": {},
     "output_type": "execute_result"
    }
   ],
   "source": [
    "act_sat_2019_df.sort_values('sat_total', ascending = True).head()"
   ]
  },
  {
   "cell_type": "code",
   "execution_count": 1136,
   "metadata": {},
   "outputs": [
    {
     "data": {
      "text/html": [
       "<div>\n",
       "<style scoped>\n",
       "    .dataframe tbody tr th:only-of-type {\n",
       "        vertical-align: middle;\n",
       "    }\n",
       "\n",
       "    .dataframe tbody tr th {\n",
       "        vertical-align: top;\n",
       "    }\n",
       "\n",
       "    .dataframe thead th {\n",
       "        text-align: right;\n",
       "    }\n",
       "</style>\n",
       "<table border=\"1\" class=\"dataframe\">\n",
       "  <thead>\n",
       "    <tr style=\"text-align: right;\">\n",
       "      <th></th>\n",
       "      <th>state_or_territory</th>\n",
       "      <th>sat_participation_rate</th>\n",
       "      <th>sat_total</th>\n",
       "      <th>act_participation_rate</th>\n",
       "      <th>act_composite</th>\n",
       "      <th>sat_equiv_of_act_composite</th>\n",
       "      <th>mean_sat_minus_sat_equiv_mean_act</th>\n",
       "    </tr>\n",
       "  </thead>\n",
       "  <tbody>\n",
       "    <tr>\n",
       "      <th>37</th>\n",
       "      <td>Minnesota</td>\n",
       "      <td>0.04</td>\n",
       "      <td>1280</td>\n",
       "      <td>0.95</td>\n",
       "      <td>21</td>\n",
       "      <td>1080</td>\n",
       "      <td>200</td>\n",
       "    </tr>\n",
       "    <tr>\n",
       "      <th>19</th>\n",
       "      <td>Wisconsin</td>\n",
       "      <td>0.03</td>\n",
       "      <td>1280</td>\n",
       "      <td>1.00</td>\n",
       "      <td>20</td>\n",
       "      <td>1040</td>\n",
       "      <td>240</td>\n",
       "    </tr>\n",
       "    <tr>\n",
       "      <th>45</th>\n",
       "      <td>South Dakota</td>\n",
       "      <td>0.03</td>\n",
       "      <td>1270</td>\n",
       "      <td>0.75</td>\n",
       "      <td>22</td>\n",
       "      <td>1110</td>\n",
       "      <td>160</td>\n",
       "    </tr>\n",
       "    <tr>\n",
       "      <th>14</th>\n",
       "      <td>Nebraska</td>\n",
       "      <td>0.03</td>\n",
       "      <td>1260</td>\n",
       "      <td>1.00</td>\n",
       "      <td>20</td>\n",
       "      <td>1040</td>\n",
       "      <td>220</td>\n",
       "    </tr>\n",
       "    <tr>\n",
       "      <th>15</th>\n",
       "      <td>North Dakota</td>\n",
       "      <td>0.02</td>\n",
       "      <td>1260</td>\n",
       "      <td>0.96</td>\n",
       "      <td>20</td>\n",
       "      <td>1040</td>\n",
       "      <td>220</td>\n",
       "    </tr>\n",
       "  </tbody>\n",
       "</table>\n",
       "</div>"
      ],
      "text/plain": [
       "   state_or_territory  sat_participation_rate  sat_total  \\\n",
       "37          Minnesota                    0.04       1280   \n",
       "19          Wisconsin                    0.03       1280   \n",
       "45       South Dakota                    0.03       1270   \n",
       "14           Nebraska                    0.03       1260   \n",
       "15       North Dakota                    0.02       1260   \n",
       "\n",
       "    act_participation_rate  act_composite  sat_equiv_of_act_composite  \\\n",
       "37                    0.95             21                        1080   \n",
       "19                    1.00             20                        1040   \n",
       "45                    0.75             22                        1110   \n",
       "14                    1.00             20                        1040   \n",
       "15                    0.96             20                        1040   \n",
       "\n",
       "    mean_sat_minus_sat_equiv_mean_act  \n",
       "37                                200  \n",
       "19                                240  \n",
       "45                                160  \n",
       "14                                220  \n",
       "15                                220  "
      ]
     },
     "execution_count": 1136,
     "metadata": {},
     "output_type": "execute_result"
    }
   ],
   "source": [
    "act_sat_2019_df.sort_values('sat_total', ascending = False).head()"
   ]
  },
  {
   "cell_type": "code",
   "execution_count": 1137,
   "metadata": {},
   "outputs": [
    {
     "data": {
      "text/html": [
       "<div>\n",
       "<style scoped>\n",
       "    .dataframe tbody tr th:only-of-type {\n",
       "        vertical-align: middle;\n",
       "    }\n",
       "\n",
       "    .dataframe tbody tr th {\n",
       "        vertical-align: top;\n",
       "    }\n",
       "\n",
       "    .dataframe thead th {\n",
       "        text-align: right;\n",
       "    }\n",
       "</style>\n",
       "<table border=\"1\" class=\"dataframe\">\n",
       "  <thead>\n",
       "    <tr style=\"text-align: right;\">\n",
       "      <th></th>\n",
       "      <th>state_or_territory</th>\n",
       "      <th>sat_participation_rate</th>\n",
       "      <th>sat_total</th>\n",
       "      <th>act_participation_rate</th>\n",
       "      <th>act_composite</th>\n",
       "      <th>sat_equiv_of_act_composite</th>\n",
       "      <th>mean_sat_minus_sat_equiv_mean_act</th>\n",
       "    </tr>\n",
       "  </thead>\n",
       "  <tbody>\n",
       "    <tr>\n",
       "      <th>47</th>\n",
       "      <td>Mississippi</td>\n",
       "      <td>0.03</td>\n",
       "      <td>1240</td>\n",
       "      <td>1.00</td>\n",
       "      <td>18</td>\n",
       "      <td>970</td>\n",
       "      <td>270</td>\n",
       "    </tr>\n",
       "    <tr>\n",
       "      <th>48</th>\n",
       "      <td>Nevada</td>\n",
       "      <td>0.20</td>\n",
       "      <td>1160</td>\n",
       "      <td>1.00</td>\n",
       "      <td>18</td>\n",
       "      <td>970</td>\n",
       "      <td>190</td>\n",
       "    </tr>\n",
       "    <tr>\n",
       "      <th>0</th>\n",
       "      <td>Alabama</td>\n",
       "      <td>0.07</td>\n",
       "      <td>1140</td>\n",
       "      <td>1.00</td>\n",
       "      <td>19</td>\n",
       "      <td>1010</td>\n",
       "      <td>130</td>\n",
       "    </tr>\n",
       "    <tr>\n",
       "      <th>1</th>\n",
       "      <td>Arizona</td>\n",
       "      <td>0.31</td>\n",
       "      <td>1130</td>\n",
       "      <td>0.73</td>\n",
       "      <td>19</td>\n",
       "      <td>1010</td>\n",
       "      <td>120</td>\n",
       "    </tr>\n",
       "    <tr>\n",
       "      <th>2</th>\n",
       "      <td>Arkansas</td>\n",
       "      <td>0.06</td>\n",
       "      <td>1140</td>\n",
       "      <td>1.00</td>\n",
       "      <td>19</td>\n",
       "      <td>1010</td>\n",
       "      <td>130</td>\n",
       "    </tr>\n",
       "  </tbody>\n",
       "</table>\n",
       "</div>"
      ],
      "text/plain": [
       "   state_or_territory  sat_participation_rate  sat_total  \\\n",
       "47        Mississippi                    0.03       1240   \n",
       "48             Nevada                    0.20       1160   \n",
       "0             Alabama                    0.07       1140   \n",
       "1             Arizona                    0.31       1130   \n",
       "2            Arkansas                    0.06       1140   \n",
       "\n",
       "    act_participation_rate  act_composite  sat_equiv_of_act_composite  \\\n",
       "47                    1.00             18                         970   \n",
       "48                    1.00             18                         970   \n",
       "0                     1.00             19                        1010   \n",
       "1                     0.73             19                        1010   \n",
       "2                     1.00             19                        1010   \n",
       "\n",
       "    mean_sat_minus_sat_equiv_mean_act  \n",
       "47                                270  \n",
       "48                                190  \n",
       "0                                 130  \n",
       "1                                 120  \n",
       "2                                 130  "
      ]
     },
     "execution_count": 1137,
     "metadata": {},
     "output_type": "execute_result"
    }
   ],
   "source": [
    "act_sat_2019_df.sort_values('act_composite', ascending = True).head()"
   ]
  },
  {
   "cell_type": "code",
   "execution_count": 1138,
   "metadata": {},
   "outputs": [
    {
     "data": {
      "text/html": [
       "<div>\n",
       "<style scoped>\n",
       "    .dataframe tbody tr th:only-of-type {\n",
       "        vertical-align: middle;\n",
       "    }\n",
       "\n",
       "    .dataframe tbody tr th {\n",
       "        vertical-align: top;\n",
       "    }\n",
       "\n",
       "    .dataframe thead th {\n",
       "        text-align: right;\n",
       "    }\n",
       "</style>\n",
       "<table border=\"1\" class=\"dataframe\">\n",
       "  <thead>\n",
       "    <tr style=\"text-align: right;\">\n",
       "      <th></th>\n",
       "      <th>state_or_territory</th>\n",
       "      <th>sat_participation_rate</th>\n",
       "      <th>sat_total</th>\n",
       "      <th>act_participation_rate</th>\n",
       "      <th>act_composite</th>\n",
       "      <th>sat_equiv_of_act_composite</th>\n",
       "      <th>mean_sat_minus_sat_equiv_mean_act</th>\n",
       "    </tr>\n",
       "  </thead>\n",
       "  <tbody>\n",
       "    <tr>\n",
       "      <th>34</th>\n",
       "      <td>Massachusetts</td>\n",
       "      <td>0.81</td>\n",
       "      <td>1120</td>\n",
       "      <td>0.21</td>\n",
       "      <td>26</td>\n",
       "      <td>1240</td>\n",
       "      <td>-120</td>\n",
       "    </tr>\n",
       "    <tr>\n",
       "      <th>33</th>\n",
       "      <td>Connecticut</td>\n",
       "      <td>1.00</td>\n",
       "      <td>1050</td>\n",
       "      <td>0.22</td>\n",
       "      <td>26</td>\n",
       "      <td>1240</td>\n",
       "      <td>-190</td>\n",
       "    </tr>\n",
       "    <tr>\n",
       "      <th>50</th>\n",
       "      <td>Rhode Island</td>\n",
       "      <td>1.00</td>\n",
       "      <td>1000</td>\n",
       "      <td>0.12</td>\n",
       "      <td>25</td>\n",
       "      <td>1210</td>\n",
       "      <td>-210</td>\n",
       "    </tr>\n",
       "    <tr>\n",
       "      <th>49</th>\n",
       "      <td>New Hampshire</td>\n",
       "      <td>0.95</td>\n",
       "      <td>1060</td>\n",
       "      <td>0.14</td>\n",
       "      <td>25</td>\n",
       "      <td>1210</td>\n",
       "      <td>-150</td>\n",
       "    </tr>\n",
       "    <tr>\n",
       "      <th>22</th>\n",
       "      <td>Colorado</td>\n",
       "      <td>1.00</td>\n",
       "      <td>1020</td>\n",
       "      <td>0.27</td>\n",
       "      <td>24</td>\n",
       "      <td>1180</td>\n",
       "      <td>-160</td>\n",
       "    </tr>\n",
       "  </tbody>\n",
       "</table>\n",
       "</div>"
      ],
      "text/plain": [
       "   state_or_territory  sat_participation_rate  sat_total  \\\n",
       "34      Massachusetts                    0.81       1120   \n",
       "33        Connecticut                    1.00       1050   \n",
       "50       Rhode Island                    1.00       1000   \n",
       "49      New Hampshire                    0.95       1060   \n",
       "22           Colorado                    1.00       1020   \n",
       "\n",
       "    act_participation_rate  act_composite  sat_equiv_of_act_composite  \\\n",
       "34                    0.21             26                        1240   \n",
       "33                    0.22             26                        1240   \n",
       "50                    0.12             25                        1210   \n",
       "49                    0.14             25                        1210   \n",
       "22                    0.27             24                        1180   \n",
       "\n",
       "    mean_sat_minus_sat_equiv_mean_act  \n",
       "34                               -120  \n",
       "33                               -190  \n",
       "50                               -210  \n",
       "49                               -150  \n",
       "22                               -160  "
      ]
     },
     "execution_count": 1138,
     "metadata": {},
     "output_type": "execute_result"
    }
   ],
   "source": [
    "act_sat_2019_df.sort_values('act_composite', ascending = False).head()"
   ]
  },
  {
   "cell_type": "markdown",
   "metadata": {},
   "source": [
    "### Observations about 5 Greatest and Lowest SAT and ACT scores\n",
    "\n",
    "There continues to appear to be an inverse relationship between participation rate and scores. This seems intuitive: in a state that requires or offers the test to everyone, in school, students who might not otherwise test are more likely to test. As it seems likely these students are more likely to be weaker at traditional academics (for example, those who aren't planning to attending college for that reason). The inclusion of such students would likely explain the lower averages.\n",
    "\n",
    "On the flip side, it seems likely that in a state with a low participation rate on a given test (for example, MS on the SAT), the students who choose to test are self-selected, and that self-selection is likely to correlate to more time and resources for college prep, application prep, test prep, and additional thoughtfulness about which test to take that seems likely to correlate to academic ability even in the absence of other resources."
   ]
  },
  {
   "cell_type": "markdown",
   "metadata": {
    "jp-MarkdownHeadingCollapsed": true,
    "tags": []
   },
   "source": [
    "        - Do any states with 100% participation on a given test have a rate change year-to-year?\n",
    "\n",
    "As I'm only looking at 2019 (and focusing on state-by-state comparison versus year-to-year comparison), I can't explore this data."
   ]
  },
  {
   "cell_type": "markdown",
   "metadata": {
    "jp-MarkdownHeadingCollapsed": true,
    "tags": []
   },
   "source": [
    "        - Do any states show have >50% participation on *both* tests each year?"
   ]
  },
  {
   "cell_type": "code",
   "execution_count": 1139,
   "metadata": {},
   "outputs": [
    {
     "data": {
      "text/html": [
       "<div>\n",
       "<style scoped>\n",
       "    .dataframe tbody tr th:only-of-type {\n",
       "        vertical-align: middle;\n",
       "    }\n",
       "\n",
       "    .dataframe tbody tr th {\n",
       "        vertical-align: top;\n",
       "    }\n",
       "\n",
       "    .dataframe thead th {\n",
       "        text-align: right;\n",
       "    }\n",
       "</style>\n",
       "<table border=\"1\" class=\"dataframe\">\n",
       "  <thead>\n",
       "    <tr style=\"text-align: right;\">\n",
       "      <th></th>\n",
       "      <th>state_or_territory</th>\n",
       "      <th>sat_participation_rate</th>\n",
       "      <th>sat_total</th>\n",
       "      <th>act_participation_rate</th>\n",
       "      <th>act_composite</th>\n",
       "      <th>sat_equiv_of_act_composite</th>\n",
       "      <th>mean_sat_minus_sat_equiv_mean_act</th>\n",
       "    </tr>\n",
       "  </thead>\n",
       "  <tbody>\n",
       "    <tr>\n",
       "      <th>3</th>\n",
       "      <td>Hawaii</td>\n",
       "      <td>0.54</td>\n",
       "      <td>1100</td>\n",
       "      <td>0.80</td>\n",
       "      <td>19</td>\n",
       "      <td>1010</td>\n",
       "      <td>90</td>\n",
       "    </tr>\n",
       "    <tr>\n",
       "      <th>6</th>\n",
       "      <td>North Carolina</td>\n",
       "      <td>0.51</td>\n",
       "      <td>1100</td>\n",
       "      <td>1.00</td>\n",
       "      <td>19</td>\n",
       "      <td>1010</td>\n",
       "      <td>90</td>\n",
       "    </tr>\n",
       "    <tr>\n",
       "      <th>8</th>\n",
       "      <td>South Carolina</td>\n",
       "      <td>0.68</td>\n",
       "      <td>1030</td>\n",
       "      <td>0.78</td>\n",
       "      <td>19</td>\n",
       "      <td>1010</td>\n",
       "      <td>20</td>\n",
       "    </tr>\n",
       "    <tr>\n",
       "      <th>11</th>\n",
       "      <td>Florida</td>\n",
       "      <td>1.00</td>\n",
       "      <td>1000</td>\n",
       "      <td>0.54</td>\n",
       "      <td>20</td>\n",
       "      <td>1040</td>\n",
       "      <td>-40</td>\n",
       "    </tr>\n",
       "  </tbody>\n",
       "</table>\n",
       "</div>"
      ],
      "text/plain": [
       "   state_or_territory  sat_participation_rate  sat_total  \\\n",
       "3              Hawaii                    0.54       1100   \n",
       "6      North Carolina                    0.51       1100   \n",
       "8      South Carolina                    0.68       1030   \n",
       "11            Florida                    1.00       1000   \n",
       "\n",
       "    act_participation_rate  act_composite  sat_equiv_of_act_composite  \\\n",
       "3                     0.80             19                        1010   \n",
       "6                     1.00             19                        1010   \n",
       "8                     0.78             19                        1010   \n",
       "11                    0.54             20                        1040   \n",
       "\n",
       "    mean_sat_minus_sat_equiv_mean_act  \n",
       "3                                  90  \n",
       "6                                  90  \n",
       "8                                  20  \n",
       "11                                -40  "
      ]
     },
     "execution_count": 1139,
     "metadata": {},
     "output_type": "execute_result"
    }
   ],
   "source": [
    "act_sat_2019_df[(act_sat_2019_df['sat_participation_rate'] > .5) & (act_sat_2019_df['act_participation_rate'] > .5)]\n",
    "                "
   ]
  },
  {
   "cell_type": "markdown",
   "metadata": {},
   "source": [
    "### Observations about States with >50% participation on both tests\n",
    "\n",
    "Without more data there isn't a lot to conclude from this. Florida is discussed above. North Carolina, as well. It seems plausible that the high rate of SAT participation is related to the large number of universities in the state and it's relative wealth.\n",
    "\n",
    "Hawai'i required that all HS students take the test (and still does) (evidence it was required at the time: https://www.hawaiipublicschools.org/ConnectWithUs/MediaRoom/PressReleases/Pages/2017-ACT-Results.aspx). It's unclear why participation rate is *only* 80%. \n",
    "\n",
    "South Carolina currently requires the ACT: https://ed.sc.gov/tests/high/the-act/. It's unclear how long that requirement has existed and/or if it doesn't go back to 2019 if it was at least offered in school. The PrepScholar article (dated 2021, here, again: https://blog.prepscholar.com/which-states-require-the-act-full-list-and-advice) suggests that the state requires SAT or ACT, but I can't find any other evidence of that, yet."
   ]
  },
  {
   "cell_type": "markdown",
   "metadata": {
    "jp-MarkdownHeadingCollapsed": true,
    "tags": []
   },
   "source": [
    "        - Which colleges have the highest median SAT and ACT scores for admittance?"
   ]
  },
  {
   "cell_type": "code",
   "execution_count": 1140,
   "metadata": {},
   "outputs": [
    {
     "data": {
      "text/html": [
       "<div>\n",
       "<style scoped>\n",
       "    .dataframe tbody tr th:only-of-type {\n",
       "        vertical-align: middle;\n",
       "    }\n",
       "\n",
       "    .dataframe tbody tr th {\n",
       "        vertical-align: top;\n",
       "    }\n",
       "\n",
       "    .dataframe thead th {\n",
       "        text-align: right;\n",
       "    }\n",
       "</style>\n",
       "<table border=\"1\" class=\"dataframe\">\n",
       "  <thead>\n",
       "    <tr style=\"text-align: right;\">\n",
       "      <th></th>\n",
       "      <th>school</th>\n",
       "      <th>test_optional_or_no</th>\n",
       "      <th>applies_to_class_year_s</th>\n",
       "      <th>policy_details</th>\n",
       "      <th>number_of_applicants</th>\n",
       "      <th>accept_rate</th>\n",
       "      <th>sat_tot_25th_percentile</th>\n",
       "      <th>sat_tot_75th_percentile</th>\n",
       "      <th>act_composite_25th_percentile</th>\n",
       "      <th>act_composite_75th_percentile</th>\n",
       "      <th>sat_equiv_of_act_25th</th>\n",
       "      <th>sat_equiv_of_act_75th</th>\n",
       "      <th>sat_minus_sat_equiv_25th_perc</th>\n",
       "      <th>sat_minus_sat_equiv_75th_perc</th>\n",
       "    </tr>\n",
       "  </thead>\n",
       "  <tbody>\n",
       "    <tr>\n",
       "      <th>0</th>\n",
       "      <td>Stanford University</td>\n",
       "      <td>Yes</td>\n",
       "      <td>2021</td>\n",
       "      <td>Stanford has adopted a one-year test optional ...</td>\n",
       "      <td>47452</td>\n",
       "      <td>0.043</td>\n",
       "      <td>1440</td>\n",
       "      <td>1570</td>\n",
       "      <td>32</td>\n",
       "      <td>35</td>\n",
       "      <td>1430</td>\n",
       "      <td>1540</td>\n",
       "      <td>10</td>\n",
       "      <td>30</td>\n",
       "    </tr>\n",
       "  </tbody>\n",
       "</table>\n",
       "</div>"
      ],
      "text/plain": [
       "                school test_optional_or_no applies_to_class_year_s  \\\n",
       "0  Stanford University                 Yes                    2021   \n",
       "\n",
       "                                      policy_details  number_of_applicants  \\\n",
       "0  Stanford has adopted a one-year test optional ...                 47452   \n",
       "\n",
       "   accept_rate  sat_tot_25th_percentile  sat_tot_75th_percentile  \\\n",
       "0        0.043                     1440                     1570   \n",
       "\n",
       "   act_composite_25th_percentile  act_composite_75th_percentile  \\\n",
       "0                             32                             35   \n",
       "\n",
       "   sat_equiv_of_act_25th  sat_equiv_of_act_75th  \\\n",
       "0                   1430                   1540   \n",
       "\n",
       "   sat_minus_sat_equiv_25th_perc  sat_minus_sat_equiv_75th_perc  \n",
       "0                             10                             30  "
      ]
     },
     "execution_count": 1140,
     "metadata": {},
     "output_type": "execute_result"
    }
   ],
   "source": [
    "colleges_df.head(1)"
   ]
  },
  {
   "cell_type": "code",
   "execution_count": 1141,
   "metadata": {},
   "outputs": [
    {
     "data": {
      "text/html": [
       "<div>\n",
       "<style scoped>\n",
       "    .dataframe tbody tr th:only-of-type {\n",
       "        vertical-align: middle;\n",
       "    }\n",
       "\n",
       "    .dataframe tbody tr th {\n",
       "        vertical-align: top;\n",
       "    }\n",
       "\n",
       "    .dataframe thead th {\n",
       "        text-align: right;\n",
       "    }\n",
       "</style>\n",
       "<table border=\"1\" class=\"dataframe\">\n",
       "  <thead>\n",
       "    <tr style=\"text-align: right;\">\n",
       "      <th></th>\n",
       "      <th>school</th>\n",
       "      <th>test_optional_or_no</th>\n",
       "      <th>applies_to_class_year_s</th>\n",
       "      <th>policy_details</th>\n",
       "      <th>number_of_applicants</th>\n",
       "      <th>accept_rate</th>\n",
       "      <th>sat_tot_25th_percentile</th>\n",
       "      <th>sat_tot_75th_percentile</th>\n",
       "      <th>act_composite_25th_percentile</th>\n",
       "      <th>act_composite_75th_percentile</th>\n",
       "      <th>sat_equiv_of_act_25th</th>\n",
       "      <th>sat_equiv_of_act_75th</th>\n",
       "      <th>sat_minus_sat_equiv_25th_perc</th>\n",
       "      <th>sat_minus_sat_equiv_75th_perc</th>\n",
       "    </tr>\n",
       "  </thead>\n",
       "  <tbody>\n",
       "    <tr>\n",
       "      <th>1</th>\n",
       "      <td>Harvard College</td>\n",
       "      <td>Yes</td>\n",
       "      <td>2021</td>\n",
       "      <td>Harvard has adopted a one-year test optional p...</td>\n",
       "      <td>42749</td>\n",
       "      <td>0.047</td>\n",
       "      <td>1460</td>\n",
       "      <td>1580</td>\n",
       "      <td>33</td>\n",
       "      <td>35</td>\n",
       "      <td>1460</td>\n",
       "      <td>1540</td>\n",
       "      <td>0</td>\n",
       "      <td>40</td>\n",
       "    </tr>\n",
       "    <tr>\n",
       "      <th>0</th>\n",
       "      <td>Stanford University</td>\n",
       "      <td>Yes</td>\n",
       "      <td>2021</td>\n",
       "      <td>Stanford has adopted a one-year test optional ...</td>\n",
       "      <td>47452</td>\n",
       "      <td>0.043</td>\n",
       "      <td>1440</td>\n",
       "      <td>1570</td>\n",
       "      <td>32</td>\n",
       "      <td>35</td>\n",
       "      <td>1430</td>\n",
       "      <td>1540</td>\n",
       "      <td>10</td>\n",
       "      <td>30</td>\n",
       "    </tr>\n",
       "    <tr>\n",
       "      <th>2</th>\n",
       "      <td>Princeton University</td>\n",
       "      <td>Yes</td>\n",
       "      <td>2021</td>\n",
       "      <td>Princeton has adopted a one-year test optional...</td>\n",
       "      <td>35370</td>\n",
       "      <td>0.055</td>\n",
       "      <td>1440</td>\n",
       "      <td>1570</td>\n",
       "      <td>32</td>\n",
       "      <td>35</td>\n",
       "      <td>1430</td>\n",
       "      <td>1540</td>\n",
       "      <td>10</td>\n",
       "      <td>30</td>\n",
       "    </tr>\n",
       "    <tr>\n",
       "      <th>4</th>\n",
       "      <td>Yale University</td>\n",
       "      <td>Yes</td>\n",
       "      <td>2021</td>\n",
       "      <td>Yale has adopted a one-year test optional poli...</td>\n",
       "      <td>36844</td>\n",
       "      <td>0.061</td>\n",
       "      <td>1460</td>\n",
       "      <td>1570</td>\n",
       "      <td>33</td>\n",
       "      <td>35</td>\n",
       "      <td>1460</td>\n",
       "      <td>1540</td>\n",
       "      <td>0</td>\n",
       "      <td>30</td>\n",
       "    </tr>\n",
       "    <tr>\n",
       "      <th>35</th>\n",
       "      <td>Washington University in St. Louis</td>\n",
       "      <td>Yes</td>\n",
       "      <td>2021</td>\n",
       "      <td>Washington University in St. Louis has adopted...</td>\n",
       "      <td>31320</td>\n",
       "      <td>0.150</td>\n",
       "      <td>1470</td>\n",
       "      <td>1570</td>\n",
       "      <td>32</td>\n",
       "      <td>35</td>\n",
       "      <td>1430</td>\n",
       "      <td>1540</td>\n",
       "      <td>40</td>\n",
       "      <td>30</td>\n",
       "    </tr>\n",
       "  </tbody>\n",
       "</table>\n",
       "</div>"
      ],
      "text/plain": [
       "                                school test_optional_or_no  \\\n",
       "1                      Harvard College                 Yes   \n",
       "0                  Stanford University                 Yes   \n",
       "2                 Princeton University                 Yes   \n",
       "4                      Yale University                 Yes   \n",
       "35  Washington University in St. Louis                 Yes   \n",
       "\n",
       "   applies_to_class_year_s                                     policy_details  \\\n",
       "1                     2021  Harvard has adopted a one-year test optional p...   \n",
       "0                     2021  Stanford has adopted a one-year test optional ...   \n",
       "2                     2021  Princeton has adopted a one-year test optional...   \n",
       "4                     2021  Yale has adopted a one-year test optional poli...   \n",
       "35                    2021  Washington University in St. Louis has adopted...   \n",
       "\n",
       "    number_of_applicants  accept_rate  sat_tot_25th_percentile  \\\n",
       "1                  42749        0.047                     1460   \n",
       "0                  47452        0.043                     1440   \n",
       "2                  35370        0.055                     1440   \n",
       "4                  36844        0.061                     1460   \n",
       "35                 31320        0.150                     1470   \n",
       "\n",
       "    sat_tot_75th_percentile  act_composite_25th_percentile  \\\n",
       "1                      1580                             33   \n",
       "0                      1570                             32   \n",
       "2                      1570                             32   \n",
       "4                      1570                             33   \n",
       "35                     1570                             32   \n",
       "\n",
       "    act_composite_75th_percentile  sat_equiv_of_act_25th  \\\n",
       "1                              35                   1460   \n",
       "0                              35                   1430   \n",
       "2                              35                   1430   \n",
       "4                              35                   1460   \n",
       "35                             35                   1430   \n",
       "\n",
       "    sat_equiv_of_act_75th  sat_minus_sat_equiv_25th_perc  \\\n",
       "1                    1540                              0   \n",
       "0                    1540                             10   \n",
       "2                    1540                             10   \n",
       "4                    1540                              0   \n",
       "35                   1540                             40   \n",
       "\n",
       "    sat_minus_sat_equiv_75th_perc  \n",
       "1                              40  \n",
       "0                              30  \n",
       "2                              30  \n",
       "4                              30  \n",
       "35                             30  "
      ]
     },
     "execution_count": 1141,
     "metadata": {},
     "output_type": "execute_result"
    }
   ],
   "source": [
    "colleges_df.sort_values('sat_tot_75th_percentile', ascending = False).head()"
   ]
  },
  {
   "cell_type": "code",
   "execution_count": 1142,
   "metadata": {},
   "outputs": [
    {
     "data": {
      "text/html": [
       "<div>\n",
       "<style scoped>\n",
       "    .dataframe tbody tr th:only-of-type {\n",
       "        vertical-align: middle;\n",
       "    }\n",
       "\n",
       "    .dataframe tbody tr th {\n",
       "        vertical-align: top;\n",
       "    }\n",
       "\n",
       "    .dataframe thead th {\n",
       "        text-align: right;\n",
       "    }\n",
       "</style>\n",
       "<table border=\"1\" class=\"dataframe\">\n",
       "  <thead>\n",
       "    <tr style=\"text-align: right;\">\n",
       "      <th></th>\n",
       "      <th>school</th>\n",
       "      <th>test_optional_or_no</th>\n",
       "      <th>applies_to_class_year_s</th>\n",
       "      <th>policy_details</th>\n",
       "      <th>number_of_applicants</th>\n",
       "      <th>accept_rate</th>\n",
       "      <th>sat_tot_25th_percentile</th>\n",
       "      <th>sat_tot_75th_percentile</th>\n",
       "      <th>act_composite_25th_percentile</th>\n",
       "      <th>act_composite_75th_percentile</th>\n",
       "      <th>sat_equiv_of_act_25th</th>\n",
       "      <th>sat_equiv_of_act_75th</th>\n",
       "      <th>sat_minus_sat_equiv_25th_perc</th>\n",
       "      <th>sat_minus_sat_equiv_75th_perc</th>\n",
       "    </tr>\n",
       "  </thead>\n",
       "  <tbody>\n",
       "    <tr>\n",
       "      <th>5</th>\n",
       "      <td>California Institute of Technology</td>\n",
       "      <td>Yes (TB)</td>\n",
       "      <td>2021 2022</td>\n",
       "      <td>CalTech has adopted a two-year Test Blind poli...</td>\n",
       "      <td>8367</td>\n",
       "      <td>0.064</td>\n",
       "      <td>1530</td>\n",
       "      <td>1560</td>\n",
       "      <td>35</td>\n",
       "      <td>36</td>\n",
       "      <td>1540</td>\n",
       "      <td>1590</td>\n",
       "      <td>-10</td>\n",
       "      <td>-30</td>\n",
       "    </tr>\n",
       "    <tr>\n",
       "      <th>6</th>\n",
       "      <td>Massachusetts Institute of Technology</td>\n",
       "      <td>Yes</td>\n",
       "      <td>2021</td>\n",
       "      <td>MIT has adopted a one-year test optional polic...</td>\n",
       "      <td>21706</td>\n",
       "      <td>0.067</td>\n",
       "      <td>1500</td>\n",
       "      <td>1570</td>\n",
       "      <td>34</td>\n",
       "      <td>36</td>\n",
       "      <td>1500</td>\n",
       "      <td>1590</td>\n",
       "      <td>0</td>\n",
       "      <td>-20</td>\n",
       "    </tr>\n",
       "    <tr>\n",
       "      <th>0</th>\n",
       "      <td>Stanford University</td>\n",
       "      <td>Yes</td>\n",
       "      <td>2021</td>\n",
       "      <td>Stanford has adopted a one-year test optional ...</td>\n",
       "      <td>47452</td>\n",
       "      <td>0.043</td>\n",
       "      <td>1440</td>\n",
       "      <td>1570</td>\n",
       "      <td>32</td>\n",
       "      <td>35</td>\n",
       "      <td>1430</td>\n",
       "      <td>1540</td>\n",
       "      <td>10</td>\n",
       "      <td>30</td>\n",
       "    </tr>\n",
       "    <tr>\n",
       "      <th>15</th>\n",
       "      <td>Northwestern University</td>\n",
       "      <td>Yes</td>\n",
       "      <td>2021</td>\n",
       "      <td>Northwestern has adopted a one-year test optio...</td>\n",
       "      <td>40585</td>\n",
       "      <td>0.091</td>\n",
       "      <td>1440</td>\n",
       "      <td>1550</td>\n",
       "      <td>33</td>\n",
       "      <td>35</td>\n",
       "      <td>1460</td>\n",
       "      <td>1540</td>\n",
       "      <td>-20</td>\n",
       "      <td>10</td>\n",
       "    </tr>\n",
       "    <tr>\n",
       "      <th>44</th>\n",
       "      <td>Northeastern University</td>\n",
       "      <td>Yes</td>\n",
       "      <td>2021</td>\n",
       "      <td>Northeastern University has adopted a one-year...</td>\n",
       "      <td>62263</td>\n",
       "      <td>0.181</td>\n",
       "      <td>1390</td>\n",
       "      <td>1540</td>\n",
       "      <td>32</td>\n",
       "      <td>35</td>\n",
       "      <td>1430</td>\n",
       "      <td>1540</td>\n",
       "      <td>-40</td>\n",
       "      <td>0</td>\n",
       "    </tr>\n",
       "  </tbody>\n",
       "</table>\n",
       "</div>"
      ],
      "text/plain": [
       "                                   school test_optional_or_no  \\\n",
       "5      California Institute of Technology            Yes (TB)   \n",
       "6   Massachusetts Institute of Technology                 Yes   \n",
       "0                     Stanford University                 Yes   \n",
       "15                Northwestern University                 Yes   \n",
       "44                Northeastern University                 Yes   \n",
       "\n",
       "   applies_to_class_year_s                                     policy_details  \\\n",
       "5                2021 2022  CalTech has adopted a two-year Test Blind poli...   \n",
       "6                     2021  MIT has adopted a one-year test optional polic...   \n",
       "0                     2021  Stanford has adopted a one-year test optional ...   \n",
       "15                    2021  Northwestern has adopted a one-year test optio...   \n",
       "44                    2021  Northeastern University has adopted a one-year...   \n",
       "\n",
       "    number_of_applicants  accept_rate  sat_tot_25th_percentile  \\\n",
       "5                   8367        0.064                     1530   \n",
       "6                  21706        0.067                     1500   \n",
       "0                  47452        0.043                     1440   \n",
       "15                 40585        0.091                     1440   \n",
       "44                 62263        0.181                     1390   \n",
       "\n",
       "    sat_tot_75th_percentile  act_composite_25th_percentile  \\\n",
       "5                      1560                             35   \n",
       "6                      1570                             34   \n",
       "0                      1570                             32   \n",
       "15                     1550                             33   \n",
       "44                     1540                             32   \n",
       "\n",
       "    act_composite_75th_percentile  sat_equiv_of_act_25th  \\\n",
       "5                              36                   1540   \n",
       "6                              36                   1500   \n",
       "0                              35                   1430   \n",
       "15                             35                   1460   \n",
       "44                             35                   1430   \n",
       "\n",
       "    sat_equiv_of_act_75th  sat_minus_sat_equiv_25th_perc  \\\n",
       "5                    1590                            -10   \n",
       "6                    1590                              0   \n",
       "0                    1540                             10   \n",
       "15                   1540                            -20   \n",
       "44                   1540                            -40   \n",
       "\n",
       "    sat_minus_sat_equiv_75th_perc  \n",
       "5                             -30  \n",
       "6                             -20  \n",
       "0                              30  \n",
       "15                             10  \n",
       "44                              0  "
      ]
     },
     "execution_count": 1142,
     "metadata": {},
     "output_type": "execute_result"
    }
   ],
   "source": [
    "colleges_df.sort_values('act_composite_75th_percentile', ascending = False).head()"
   ]
  },
  {
   "cell_type": "markdown",
   "metadata": {},
   "source": [
    "### Observations on Schools with 5 Highest SAT and ACT Scores\n",
    "\n",
    "I decided to compare by 75th percentile, since I'm looking for high scores.\n",
    "\n",
    "Firstly, I'm surprised that other than Stanford, none of the top 5 overlap. This further suggests that you may want to use a different score depending on the school you're applying to (assuming you get roughly equivalent scores on each test). _NB: There are likely a lot of other factors involved that would need eliminating (for example, do differing average reflect differing preferences for region that is accounted for in the admissions process, for example by comparing students to others from the same region?)_\n",
    "\n",
    "I'm also somewhat surprised to see Wash U in the top 5 highest 75th percentile SAT score. I know it's a great school (and has been trendy, which would contribute), but I would have thought there were other schools that would come in ahead of it (for instance, other Ivy League schools).\n",
    "\n",
    "Likewise for Northwestern and, perhaps even moreso, Northeastern in the ACT top 5. Again, great schools, just would have thought that there'd be Ivy's in the top 5.\n",
    "\n",
    "That's also a surprise, that there aren't any Ivies. The top ACT schools on the whole appear to be a little less competitive than the top SAT schools (and Northeastern, while still competitive, much less so).\n",
    "\n",
    "Also, notably, it appears there's a clear SAT DISADVANTAGE at the 75th percentile at top SAT schools (the 75th percentile SAT is 30 or 40 points higher than the SAT equivalent to the ACT 75th percentile). The results are more mixed in the ACT top 5 -- in some cases there seems to be a cost to the ACT, in the case of Stanford, to the SAT. For Northwestern and Northeastern the scores are functionally equivalent across test type at the 75th percentile.\n",
    "\n",
    "Notably, at all 9 of those schools (Stanford appearing twice) the trend at the 25th percentile appears quite different.\n",
    "\n",
    "There are definitely some interesting avenues of exploration here, potentially. I don't think I'm going to follow them now because I have other objectives in mind, but it would be interesting to see what changes at the 25th percentiles for both tests, and perhaps to more rigorously compare admissions rates across SAT scores to admissions rates across ACT scores."
   ]
  },
  {
   "cell_type": "markdown",
   "metadata": {
    "jp-MarkdownHeadingCollapsed": true,
    "tags": []
   },
   "source": [
    "        - Which California school districts have the highest and lowest mean test scores?\n",
    "\n",
    "I'm not examining California school districts for this project and haven't prepared the data, so can't examine this."
   ]
  },
  {
   "cell_type": "markdown",
   "metadata": {},
   "source": [
    "## Visualize the Data\n",
    "\n",
    "There's not a magic bullet recommendation for the right number of plots to understand a given dataset, but visualizing your data is *always* a good idea. Not only does it allow you to quickly convey your findings (even if you have a non-technical audience), it will often reveal trends in your data that escaped you when you were looking only at numbers. It is important to not only create visualizations, but to **interpret your visualizations** as well.\n",
    "\n",
    "**Every plot should**:\n",
    "- Have a title\n",
    "- Have axis labels\n",
    "- Have appropriate tick labels\n",
    "- Text is legible in a plot\n",
    "- Plots demonstrate meaningful and valid relationships\n",
    "- Have an interpretation to aid understanding\n",
    "\n",
    "Here is an example of what your plots should look like following the above guidelines. Note that while the content of this example is unrelated, the principles of visualization hold:\n",
    "\n",
    "![](https://snag.gy/hCBR1U.jpg)\n",
    "*Interpretation: The above image shows that as we increase our spending on advertising, our sales numbers also tend to increase. There is a positive correlation between advertising spending and sales.*\n",
    "\n",
    "---\n",
    "\n",
    "Here are some prompts to get you started with visualizations. Feel free to add additional visualizations as you see fit:\n",
    "1. Use Seaborn's heatmap with pandas `.corr()` to visualize correlations between all numeric features.\n",
    "    - Heatmaps are generally not appropriate for presentations, and should often be excluded from reports as they can be visually overwhelming. **However**, they can be extremely useful in identify relationships of potential interest (as well as identifying potential collinearity before modeling).\n",
    "    - Please take time to format your output, adding a title. Look through some of the additional arguments and options. (Axis labels aren't really necessary, as long as the title is informative).\n",
    "2. Visualize distributions using histograms. If you have a lot, consider writing a custom function and use subplots.\n",
    "    - *OPTIONAL*: Summarize the underlying distributions of your features (in words & statistics)\n",
    "         - Be thorough in your verbal description of these distributions.\n",
    "         - Be sure to back up these summaries with statistics.\n",
    "         - We generally assume that data we sample from a population will be normally distributed. Do we observe this trend? Explain your answers for each distribution and how you think this will affect estimates made from these data.\n",
    "3. Plot and interpret boxplots. \n",
    "    - Boxplots demonstrate central tendency and spread in variables. In a certain sense, these are somewhat redundant with histograms, but you may be better able to identify clear outliers or differences in IQR, etc.\n",
    "    - Multiple values can be plotted to a single boxplot as long as they are of the same relative scale (meaning they have similar min/max values).\n",
    "    - Each boxplot should:\n",
    "        - Only include variables of a similar scale\n",
    "        - Have clear labels for each variable\n",
    "        - Have appropriate titles and labels\n",
    "4. Plot and interpret scatter plots to view relationships between features. Feel free to write a custom function, and subplot if you'd like. Functions save both time and space.\n",
    "    - Your plots should have:\n",
    "        - Two clearly labeled axes\n",
    "        - A proper title\n",
    "        - Colors and symbols that are clear and unmistakable\n",
    "5. Additional plots of your choosing.\n",
    "    - Are there any additional trends or relationships you haven't explored? Was there something interesting you saw that you'd like to dive further into? It's likely that there are a few more plots you might want to generate to support your narrative and recommendations that you are building toward. **As always, make sure you're interpreting your plots as you go**."
   ]
  },
  {
   "cell_type": "markdown",
   "metadata": {},
   "source": [
    "1. Use Seaborn's heatmap with pandas `.corr()` to visualize correlations between all numeric features.\n",
    "    - Heatmaps are generally not appropriate for presentations, and should often be excluded from reports as they can be visually overwhelming. **However**, they can be extremely useful in identify relationships of potential interest (as well as identifying potential collinearity before modeling).\n",
    "    - Please take time to format your output, adding a title. Look through some of the additional arguments and options. (Axis labels aren't really necessary, as long as the title is informative)."
   ]
  },
  {
   "cell_type": "code",
   "execution_count": 1143,
   "metadata": {},
   "outputs": [
    {
     "data": {
      "image/png": "[encoded data removed]",
      "text/plain": [
       "<Figure size 1152x648 with 2 Axes>"
      ]
     },
     "metadata": {
      "needs_background": "light"
     },
     "output_type": "display_data"
    }
   ],
   "source": [
    "# using code from lesson 1.07 \"# This code is taken with minor modifications from https://seaborn.pydata.org/generated/seaborn.heatmap.html\"\n",
    "\n",
    "plt.figure(figsize = (16,9))\n",
    "\n",
    "# Get correlation of variables.\n",
    "corr_coll = colleges_df.corr()\n",
    "\n",
    "# Set up mask to be \"True\" in the upper triangle.\n",
    "mask = np.zeros_like(corr_coll)\n",
    "mask[np.triu_indices_from(mask)] = True\n",
    "\n",
    "# Plot our correlation heatmap, while masking the upper triangle to be white.\n",
    "sns.heatmap(corr_coll,\n",
    "           mask = mask, #this cuts off all the duplicates because this is symmetric, o.w.\n",
    "           square = True,\n",
    "           cmap = 'PRGn',\n",
    "           annot = True);"
   ]
  },
  {
   "cell_type": "markdown",
   "metadata": {},
   "source": [
    "### Observations about SAT/ACT by College Heatmap\n",
    "\n",
    "SAT and ACT scores are highly correlated with each other. That makes sense intuitively: a school that has higher scores gets higher scores across the board and not just on one test or one percentile for one test.\n",
    "\n",
    "ACT composite to SAT equivalent of ACT composite for both 25th and 75th percentiles are perfectly correlated because the second is drawn from the first using the conversion chart. \n",
    "\n",
    "Acceptance rate seems to be the only other rate that seems highly correlated. In this case, it's highly negatively correlated with scores. Also, this makes intuitive sense: as the acceptance rate goes down, the scores an instituation insists upon for admittance will, for the most part, go up."
   ]
  },
  {
   "cell_type": "code",
   "execution_count": 1144,
   "metadata": {},
   "outputs": [
    {
     "data": {
      "image/png": "[encoded data removed]",
      "text/plain": [
       "<Figure size 1152x648 with 2 Axes>"
      ]
     },
     "metadata": {
      "needs_background": "light"
     },
     "output_type": "display_data"
    }
   ],
   "source": [
    "# using code from lesson 1.07 \"# This code is taken with minor modifications from https://seaborn.pydata.org/generated/seaborn.heatmap.html\"\n",
    "\n",
    "plt.figure(figsize = (16,9))\n",
    "\n",
    "# Get correlation of variables.\n",
    "corr_as2019 = act_sat_2019_df.corr()\n",
    "\n",
    "# Set up mask to be \"True\" in the upper triangle.\n",
    "mask = np.zeros_like(corr_as2019)\n",
    "mask[np.triu_indices_from(mask)] = True\n",
    "\n",
    "# Plot our correlation heatmap, while masking the upper triangle to be white.\n",
    "sns.heatmap(corr_as2019,\n",
    "           mask = mask, #this cuts off all the duplicates because this is symmetric, o.w.\n",
    "           square = True,\n",
    "           cmap = 'PRGn',\n",
    "           annot = True);"
   ]
  },
  {
   "cell_type": "markdown",
   "metadata": {},
   "source": [
    "### Observations of ACT and SAT Scores by State Heatmap\n",
    "\n",
    "ACT composite is perfectly correlated to SAT Equivalent of ACT Composite because the second was drawn from the first with the conversion chart.\n",
    "\n",
    "SAT participation rate is highly correlated to ACT composite and ACT participation rate is highly correlated to SAT total. My hypothesis is that in a state with a high level of participation in one test, the people who take the other test are self-selected and have a combination of resources and motivation that is likely to correlate to test-taking ability.\n",
    "\n",
    "On the other hand, SAT participation rate is highly negatively correlated to SAT total, as is ACT participation to ACT composite. I discussed this above: this is likely a result of states mandating or providing the test for students who wouldn't otherwise test. Also, it seems like that students who default to the given test are less likely to have the resources or motivation that seems likely to correlate to test-taking ability at least somewhat. It takes added effort to figure out that you can/should take the \"other test\".\n",
    "\n",
    "Following on that, mean SAT minus SAT equivalent of mean ACT shows expected correlations: highly negative with SAT particpation rate, ACT composite, and SAT equiv of ACT composite, and highly highly positive with SAT_total and ACT Participation Rate."
   ]
  },
  {
   "cell_type": "markdown",
   "metadata": {},
   "source": [
    "2. Visualize distributions using histograms. If you have a lot, consider writing a custom function and use subplots.\n",
    "    - *OPTIONAL*: Summarize the underlying distributions of your features (in words & statistics)\n",
    "         - Be thorough in your verbal description of these distributions.\n",
    "         - Be sure to back up these summaries with statistics.\n",
    "         - We generally assume that data we sample from a population will be normally distributed. Do we observe this trend? Explain your answers for each distribution and how you think this will affect estimates made from these data."
   ]
  },
  {
   "cell_type": "code",
   "execution_count": 1145,
   "metadata": {},
   "outputs": [
    {
     "data": {
      "text/html": [
       "<div>\n",
       "<style scoped>\n",
       "    .dataframe tbody tr th:only-of-type {\n",
       "        vertical-align: middle;\n",
       "    }\n",
       "\n",
       "    .dataframe tbody tr th {\n",
       "        vertical-align: top;\n",
       "    }\n",
       "\n",
       "    .dataframe thead th {\n",
       "        text-align: right;\n",
       "    }\n",
       "</style>\n",
       "<table border=\"1\" class=\"dataframe\">\n",
       "  <thead>\n",
       "    <tr style=\"text-align: right;\">\n",
       "      <th></th>\n",
       "      <th>school</th>\n",
       "      <th>test_optional_or_no</th>\n",
       "      <th>applies_to_class_year_s</th>\n",
       "      <th>policy_details</th>\n",
       "      <th>number_of_applicants</th>\n",
       "      <th>accept_rate</th>\n",
       "      <th>sat_tot_25th_percentile</th>\n",
       "      <th>sat_tot_75th_percentile</th>\n",
       "      <th>act_composite_25th_percentile</th>\n",
       "      <th>act_composite_75th_percentile</th>\n",
       "      <th>sat_equiv_of_act_25th</th>\n",
       "      <th>sat_equiv_of_act_75th</th>\n",
       "      <th>sat_minus_sat_equiv_25th_perc</th>\n",
       "      <th>sat_minus_sat_equiv_75th_perc</th>\n",
       "    </tr>\n",
       "  </thead>\n",
       "  <tbody>\n",
       "    <tr>\n",
       "      <th>0</th>\n",
       "      <td>Stanford University</td>\n",
       "      <td>Yes</td>\n",
       "      <td>2021</td>\n",
       "      <td>Stanford has adopted a one-year test optional ...</td>\n",
       "      <td>47452</td>\n",
       "      <td>0.043</td>\n",
       "      <td>1440</td>\n",
       "      <td>1570</td>\n",
       "      <td>32</td>\n",
       "      <td>35</td>\n",
       "      <td>1430</td>\n",
       "      <td>1540</td>\n",
       "      <td>10</td>\n",
       "      <td>30</td>\n",
       "    </tr>\n",
       "  </tbody>\n",
       "</table>\n",
       "</div>"
      ],
      "text/plain": [
       "                school test_optional_or_no applies_to_class_year_s  \\\n",
       "0  Stanford University                 Yes                    2021   \n",
       "\n",
       "                                      policy_details  number_of_applicants  \\\n",
       "0  Stanford has adopted a one-year test optional ...                 47452   \n",
       "\n",
       "   accept_rate  sat_tot_25th_percentile  sat_tot_75th_percentile  \\\n",
       "0        0.043                     1440                     1570   \n",
       "\n",
       "   act_composite_25th_percentile  act_composite_75th_percentile  \\\n",
       "0                             32                             35   \n",
       "\n",
       "   sat_equiv_of_act_25th  sat_equiv_of_act_75th  \\\n",
       "0                   1430                   1540   \n",
       "\n",
       "   sat_minus_sat_equiv_25th_perc  sat_minus_sat_equiv_75th_perc  \n",
       "0                             10                             30  "
      ]
     },
     "execution_count": 1145,
     "metadata": {},
     "output_type": "execute_result"
    }
   ],
   "source": [
    "colleges_df.head(1)"
   ]
  },
  {
   "cell_type": "code",
   "execution_count": 1151,
   "metadata": {},
   "outputs": [
    {
     "data": {
      "text/plain": [
       "''"
      ]
     },
     "execution_count": 1151,
     "metadata": {},
     "output_type": "execute_result"
    },
    {
     "data": {
      "image/png": "[encoded data removed]",
      "text/plain": [
       "<Figure size 1152x576 with 2 Axes>"
      ]
     },
     "metadata": {
      "needs_background": "light"
     },
     "output_type": "display_data"
    }
   ],
   "source": [
    "# Worked from Lesson 1.08 code to do this subplot\n",
    "\n",
    "plt.figure(figsize = (16,8))\n",
    "\n",
    "ax1 = plt.subplot(2, 1, 1)\n",
    "ax1.set_title('The Difference, SAT Total & SAT equivalent to ACT Composite, 25th %ile of each')\n",
    "ax1.hist(colleges_df['sat_minus_sat_equiv_25th_perc'], \n",
    "         color = 'blue')\n",
    "ax1.axvline(x = np.mean(colleges_df['sat_minus_sat_equiv_25th_perc']), \n",
    "            color = 'orange')\n",
    "#ax1.xticks(np.arrange(-300, 200, 50))\n",
    "\n",
    "ax2 = plt.subplot(2,1,2, sharex = ax1)\n",
    "ax2.set_title('The Difference, SAT Total & SAT equivalent to ACT Composite, 75th %ile of each')\n",
    "ax2.hist(colleges_df['sat_minus_sat_equiv_75th_perc'], \n",
    "         color = 'orange')\n",
    "ax2.axvline(x = np.mean(colleges_df['sat_minus_sat_equiv_75th_perc']), \n",
    "            color = 'blue')\n",
    ";\n"
   ]
  },
  {
   "cell_type": "code",
   "execution_count": 1149,
   "metadata": {},
   "outputs": [
    {
     "data": {
      "text/html": [
       "<div>\n",
       "<style scoped>\n",
       "    .dataframe tbody tr th:only-of-type {\n",
       "        vertical-align: middle;\n",
       "    }\n",
       "\n",
       "    .dataframe tbody tr th {\n",
       "        vertical-align: top;\n",
       "    }\n",
       "\n",
       "    .dataframe thead th {\n",
       "        text-align: right;\n",
       "    }\n",
       "</style>\n",
       "<table border=\"1\" class=\"dataframe\">\n",
       "  <thead>\n",
       "    <tr style=\"text-align: right;\">\n",
       "      <th></th>\n",
       "      <th>state_or_territory</th>\n",
       "      <th>sat_participation_rate</th>\n",
       "      <th>sat_total</th>\n",
       "      <th>act_participation_rate</th>\n",
       "      <th>act_composite</th>\n",
       "      <th>sat_equiv_of_act_composite</th>\n",
       "      <th>mean_sat_minus_sat_equiv_mean_act</th>\n",
       "    </tr>\n",
       "  </thead>\n",
       "  <tbody>\n",
       "    <tr>\n",
       "      <th>0</th>\n",
       "      <td>Alabama</td>\n",
       "      <td>0.07</td>\n",
       "      <td>1140</td>\n",
       "      <td>1.0</td>\n",
       "      <td>19</td>\n",
       "      <td>1010</td>\n",
       "      <td>130</td>\n",
       "    </tr>\n",
       "  </tbody>\n",
       "</table>\n",
       "</div>"
      ],
      "text/plain": [
       "  state_or_territory  sat_participation_rate  sat_total  \\\n",
       "0            Alabama                    0.07       1140   \n",
       "\n",
       "   act_participation_rate  act_composite  sat_equiv_of_act_composite  \\\n",
       "0                     1.0             19                        1010   \n",
       "\n",
       "   mean_sat_minus_sat_equiv_mean_act  \n",
       "0                                130  "
      ]
     },
     "execution_count": 1149,
     "metadata": {},
     "output_type": "execute_result"
    }
   ],
   "source": [
    "act_sat_2019_df.head(1)"
   ]
  },
  {
   "cell_type": "code",
   "execution_count": 1150,
   "metadata": {},
   "outputs": [
    {
     "data": {
      "text/plain": [
       "''"
      ]
     },
     "execution_count": 1150,
     "metadata": {},
     "output_type": "execute_result"
    },
    {
     "data": {
      "image/png": "[encoded data removed]",
      "text/plain": [
       "<Figure size 1152x432 with 1 Axes>"
      ]
     },
     "metadata": {
      "needs_background": "light"
     },
     "output_type": "display_data"
    }
   ],
   "source": [
    "plt.figure(figsize = (16, 6))\n",
    "\n",
    "plt.title('The Difference, Mean SAT Total & SAT Equivalent of Mean ACT Composite')\n",
    "\n",
    "plt.hist(act_sat_2019_df['mean_sat_minus_sat_equiv_mean_act'],\n",
    "         color = 'brown')\n",
    ";"
   ]
  },
  {
   "cell_type": "markdown",
   "metadata": {},
   "source": [
    "3. Plot and interpret boxplots. \n",
    "    - Boxplots demonstrate central tendency and spread in variables. In a certain sense, these are somewhat redundant with histograms, but you may be better able to identify clear outliers or differences in IQR, etc.\n",
    "    - Multiple values can be plotted to a single boxplot as long as they are of the same relative scale (meaning they have similar min/max values).\n",
    "    - Each boxplot should:\n",
    "        - Only include variables of a similar scale\n",
    "        - Have clear labels for each variable\n",
    "        - Have appropriate titles and labels\n",
    "4. Plot and interpret scatter plots to view relationships between features. Feel free to write a custom function, and subplot if you'd like. Functions save both time and space.\n",
    "    - Your plots should have:\n",
    "        - Two clearly labeled axes\n",
    "        - A proper title\n",
    "        - Colors and symbols that are clear and unmistakable\n",
    "5. Additional plots of your choosing.\n",
    "    - Are there any additional trends or relationships you haven't explored? Was there something interesting you saw that you'd like to dive further into? It's likely that there are a few more plots you might want to generate to support your narrative and recommendations that you are building toward. **As always, make sure you're interpreting your plots as you go**."
   ]
  },
  {
   "cell_type": "code",
   "execution_count": null,
   "metadata": {},
   "outputs": [],
   "source": [
    "# Code"
   ]
  },
  {
   "cell_type": "markdown",
   "metadata": {},
   "source": [
    "## Conclusions and Recommendations"
   ]
  },
  {
   "cell_type": "markdown",
   "metadata": {},
   "source": [
    "Based on your exploration of the data, what are you key takeaways and recommendations? Make sure to answer your question of interest or address your problem statement here."
   ]
  },
  {
   "cell_type": "markdown",
   "metadata": {},
   "source": [
    "**To-Do:** *Edit this cell with your conclusions and recommendations.*"
   ]
  },
  {
   "cell_type": "markdown",
   "metadata": {},
   "source": [
    "Don't forget to create your README!\n",
    "\n",
    "**To-Do:** *If you combine your problem statement, data dictionary, brief summary of your analysis, and conclusions/recommendations, you have an amazing README.md file that quickly aligns your audience to the contents of your project.* Don't forget to cite your data sources!"
   ]
  }
 ],
 "metadata": {
  "anaconda-cloud": {},
  "kernelspec": {
   "display_name": "Python 3 (ipykernel)",
   "language": "python",
   "name": "python3"
  },
  "language_info": {
   "codemirror_mode": {
    "name": "ipython",
    "version": 3
   },
   "file_extension": ".py",
   "mimetype": "text/x-python",
   "name": "python",
   "nbconvert_exporter": "python",
   "pygments_lexer": "ipython3",
   "version": "3.9.12"
  }
 },
 "nbformat": 4,
 "nbformat_minor": 4
}
