{
 "cells": [
  {
   "cell_type": "markdown",
   "metadata": {},
   "source": [
    "<img src=\"http://imgur.com/1ZcRyrc.png\" style=\"float: left; margin: 20px; height: 55px\">\n",
    "\n",
    "# Project 1: Standardized Test Analysis"
   ]
  },
  {
   "cell_type": "markdown",
   "metadata": {
    "tags": []
   },
   "source": [
    "--- \n",
    "# Part 1\n",
    "\n",
    "Part 1 requires knowledge of basic Python.\n",
    "\n",
    "---"
   ]
  },
  {
   "cell_type": "markdown",
   "metadata": {
    "tags": []
   },
   "source": [
    "## Problem Statement"
   ]
  },
  {
   "cell_type": "markdown",
   "metadata": {},
   "source": [
    "One of the questions an experienced ACT and SAT tutor has fielded a lot is whether a student should focus on the ACT or the SAT. Colleges say they treat the two tests equally, but is that true?\n",
    "\n",
    "This project aims to explore whether or not college-level data supports the idea that college treats the ACT and the SAT equally. If not, is there an across-the-board bias, or is there a school-by-school bias that an applicant might be able to exploit to their advantage?\n",
    "\n",
    "Similarly, are there any state-by-state biases in the strength of the ACT versus the SAT? As students are being compared to other students from their geographic region, this would suggest that an applicant might benefit from doing comparably well on the _less competitive_ test in their state."
   ]
  },
  {
   "cell_type": "markdown",
   "metadata": {},
   "source": [
    "### Contents:\n",
    "- [Background](#Background)\n",
    "- [Data Import & Cleaning](#Data-Import-and-Cleaning)\n",
    "- [Exploratory Data Analysis](#Exploratory-Data-Analysis)\n",
    "- [Data Visualization](#Visualize-the-Data)\n",
    "- [Conclusions and Recommendations](#Conclusions-and-Recommendations)"
   ]
  },
  {
   "cell_type": "markdown",
   "metadata": {
    "tags": []
   },
   "source": [
    "## Background"
   ]
  },
  {
   "cell_type": "markdown",
   "metadata": {},
   "source": [
    "_NB: I opted to maintain the given background, adding a paragraph about the ACT/SAT concordance chart (paragraph 3)._\n",
    "\n",
    "The SAT and ACT are standardized tests that many colleges and universities in the United States require for their admissions process. This score is used along with other materials such as grade point average (GPA) and essay responses to determine whether or not a potential student will be accepted to the university.\n",
    "\n",
    "The SAT has two sections of the test: Evidence-Based Reading (EBRW) and Writing and Math ([*source*](https://www.princetonreview.com/college/sat-sections)). The ACT has 4 sections: English, Mathematics, Reading, and Science, with an additional optional writing section ([*source*](https://www.act.org/content/act/en/products-and-services/the-act/scores/understanding-your-scores.html)). They have different score ranges, which you can read more about on their websites or additional outside sources (a quick Google search will help you understand the scores for each test):\n",
    "* [SAT](https://collegereadiness.collegeboard.org/sat)\n",
    "* [ACT](https://www.act.org/content/act/en.html)\n",
    "\n",
    "In addition, the College Board, maker of the SAT, and the ACT, maker of the ACT, have collaborated to make a [concordance chart](https://www.act.org/content/act/en/products-and-services/the-act/scores/act-sat-concordance.html) that allows translation of ACT to SAT scores and vice versa. This chart was last updated in 2018.\n",
    "\n",
    "Standardized tests have long been a controversial topic for students, administrators, and legislators. Since the 1940's, an increasing number of colleges have been using scores from sudents' performances on tests like the SAT and the ACT as a measure for college readiness and aptitude ([*source*](https://www.minotdailynews.com/news/local-news/2017/04/a-brief-history-of-the-sat-and-act/)). Supporters of these tests argue that these scores can be used as an objective measure to determine college admittance. Opponents of these tests claim that these tests are not accurate measures of students potential or ability and serve as an inequitable barrier to entry. Lately, more and more schools are opting to drop the SAT/ACT requirement for their Fall 2021 applications ([*read more about this here*](https://www.cnn.com/2020/04/14/us/coronavirus-colleges-sat-act-test-trnd/index.html))."
   ]
  },
  {
   "cell_type": "markdown",
   "metadata": {},
   "source": [
    "### My Data\n",
    "\n",
    "* [`act_2019.csv`](./data/act_2019.csv): 2019 ACT Scores by State\n",
    "* [`sat_2019.csv`](./data/sat_2019.csv): 2019 SAT Scores by State\n",
    "* [`2018concordance_table_A1.csv`](./data/2018concordance_table_A1.csv): 2018 Concordance Table (SAT Total Score to ACT Composite Score)\n",
    "* [`sat_act_by_college.csv`](./data/sat_act_by_college.csv): Ranges of Accepted ACT & SAT Student Scores by Colleges"
   ]
  },
  {
   "cell_type": "markdown",
   "metadata": {},
   "source": [
    "### Outside Research"
   ]
  },
  {
   "cell_type": "markdown",
   "metadata": {},
   "source": [
    "The following are data or resources I brought into the project:\n",
    "\n",
    "* [2018 ACT/SAT Concordace Chart](https://www.act.org/content/act/en/products-and-services/the-act/scores/act-sat-concordance.html)\n",
    "* [Education Week](https://www.edweek.org/teaching-learning/which-states-require-students-to-take-the-sat-or-act) - information on state-by-state testing requirements in 2018-19\n",
    "* [College Vine](https://blog.collegevine.com/states-that-require-sat/) - information on which states require or offer the SAT for all high school students\n",
    "* [PrepScholar Blog](https://blog.prepscholar.com/which-states-require-the-act-full-list-and-advice) -- information about which states requires the ACT, used to examine South Carolina's status\n",
    "* [louisianabelieves.com](https://www.louisianabelieves.com/measuringresults/assessments-for-high-schools) -- info on Louisiana testing requirements/offerings\n",
    "* [hawaiipublicschools.org](https://www.hawaiipublicschools.org/ConnectWithUs/MediaRoom/PressReleases/Pages/2017-ACT-Results.aspx) -- information about Hawai'in public school SAT/ACT requirements\n",
    "* [South Carolina Department of Education](https://ed.sc.gov/tests/high/the-act/) - information about South Carolina ACT requirements\n",
    "* [National Center for Education Statistics](https://nces.ed.gov/programs/digest/d20/tables/dt20_226.40.asp) - information on mean SAT scores\n",
    "* [PrepScholar Blog](https://blog.prepscholar.com/average-act-score-by-year) - information on mean ACT scores"
   ]
  },
  {
   "cell_type": "markdown",
   "metadata": {
    "tags": []
   },
   "source": [
    "### Coding Challenges\n",
    "\n",
    "1. Manually calculate mean:\n",
    "\n",
    "    Write a function that takes in values and returns the mean of the values. Create a list of numbers that you test on your function to check to make sure your function works!\n",
    "    \n",
    "    *Note*: Do not use any mean methods built-in to any Python libraries to do this! This should be done without importing any additional libraries."
   ]
  },
  {
   "cell_type": "code",
   "execution_count": 11,
   "metadata": {},
   "outputs": [],
   "source": [
    "# Code:\n",
    "\n",
    "def meanfnc(numlist):\n",
    "    return sum(numlist)/len(numlist)"
   ]
  },
  {
   "cell_type": "code",
   "execution_count": 12,
   "metadata": {},
   "outputs": [
    {
     "data": {
      "text/plain": [
       "9.875"
      ]
     },
     "execution_count": 12,
     "metadata": {},
     "output_type": "execute_result"
    }
   ],
   "source": [
    "test_num = [3, 42, -6, 0.5]\n",
    "\n",
    "meanfnc(test_num)"
   ]
  },
  {
   "cell_type": "markdown",
   "metadata": {},
   "source": [
    "2. Manually calculate standard deviation:\n",
    "\n",
    "    The formula for standard deviation is below:\n",
    "\n",
    "    $$\\sigma = \\sqrt{\\frac{1}{n}\\sum_{i=1}^n(x_i - \\mu)^2}$$\n",
    "\n",
    "    Where $x_i$ represents each value in the dataset, $\\mu$ represents the mean of all values in the dataset and $n$ represents the number of values in the dataset.\n",
    "\n",
    "    Write a function that takes in values and returns the standard deviation of the values using the formula above. Hint: use the function you wrote above to calculate the mean! Use the list of numbers you created above to test on your function.\n",
    "    \n",
    "    *Note*: Do not use any standard deviation methods built-in to any Python libraries to do this! This should be done without importing any additional libraries."
   ]
  },
  {
   "cell_type": "code",
   "execution_count": 13,
   "metadata": {},
   "outputs": [],
   "source": [
    "# Code:\n",
    "\n",
    "def stddevfnc(numlist):\n",
    "    \n",
    "    diff_sqr = []\n",
    "    \n",
    "    for x in numlist:\n",
    "        diff_sqr = diff_sqr + [(x - meanfnc(numlist))**2]\n",
    "    \n",
    "    return float(((1/len(numlist)) * sum(diff_sqr)) ** 0.5)\n",
    "\n"
   ]
  },
  {
   "cell_type": "code",
   "execution_count": 14,
   "metadata": {},
   "outputs": [
    {
     "data": {
      "text/plain": [
       "18.83605253231154"
      ]
     },
     "execution_count": 14,
     "metadata": {},
     "output_type": "execute_result"
    }
   ],
   "source": [
    "stddevfnc(test_num)"
   ]
  },
  {
   "cell_type": "markdown",
   "metadata": {},
   "source": [
    "3. Data cleaning function:\n",
    "    \n",
    "    Write a function that takes in a string that is a number and a percent symbol (ex. '50%', '30.5%', etc.) and converts this to a float that is the decimal approximation of the percent. For example, inputting '50%' in your function should return 0.5, '30.5%' should return 0.305, etc. Make sure to test your function to make sure it works!\n",
    "\n",
    "You will use these functions later on in the project!"
   ]
  },
  {
   "cell_type": "code",
   "execution_count": 15,
   "metadata": {},
   "outputs": [],
   "source": [
    "# Code:\n",
    "\n",
    "# after working with the sat_19_df I discovered there were '-' in the 'Participation Rate' column \n",
    "# I wrote in a .replace('-', '0') but I realized it actually isn't a 0 participation rate for those territories,\n",
    "# so I eliminated it.\n",
    "\n",
    "def per_to_dec(percent):\n",
    "    \"\"\"\n",
    "    this function converts percents in a string (%) format into a decimal, float format.\n",
    "    \"\"\"\n",
    "    return float(percent.replace('%','').replace(' ', ''))/100"
   ]
  },
  {
   "cell_type": "code",
   "execution_count": 16,
   "metadata": {},
   "outputs": [
    {
     "data": {
      "text/plain": [
       "0.3025"
      ]
     },
     "execution_count": 16,
     "metadata": {},
     "output_type": "execute_result"
    }
   ],
   "source": [
    "per_to_dec('30.25%')"
   ]
  },
  {
   "cell_type": "code",
   "execution_count": 17,
   "metadata": {},
   "outputs": [
    {
     "data": {
      "text/plain": [
       "0.25"
      ]
     },
     "execution_count": 17,
     "metadata": {},
     "output_type": "execute_result"
    }
   ],
   "source": [
    "per_to_dec('25%')"
   ]
  },
  {
   "cell_type": "markdown",
   "metadata": {
    "tags": []
   },
   "source": [
    "--- \n",
    "# Part 2\n",
    "\n",
    "Part 2 requires knowledge of Pandas, EDA, data cleaning, and data visualization.\n",
    "\n",
    "---"
   ]
  },
  {
   "cell_type": "markdown",
   "metadata": {},
   "source": [
    "*All libraries used should be added here*"
   ]
  },
  {
   "cell_type": "code",
   "execution_count": 18,
   "metadata": {},
   "outputs": [],
   "source": [
    "# Imports:\n",
    "\n",
    "import pandas as pd\n",
    "import numpy as np\n",
    "import seaborn as sns\n",
    "import matplotlib.pyplot as plt"
   ]
  },
  {
   "cell_type": "markdown",
   "metadata": {
    "tags": []
   },
   "source": [
    "## Data Import and Cleaning"
   ]
  },
  {
   "cell_type": "markdown",
   "metadata": {
    "tags": []
   },
   "source": [
    "### SAT Total Score/ACT Composite Conversion DF"
   ]
  },
  {
   "cell_type": "markdown",
   "metadata": {
    "tags": []
   },
   "source": [
    "#### 0.0 Importing Data Set, SAT Total Score/ACT Composite Conversion Tables"
   ]
  },
  {
   "cell_type": "code",
   "execution_count": 19,
   "metadata": {},
   "outputs": [],
   "source": [
    "# My first data file, which has conversion data for total SAT scores \n",
    "# to ACT composites and vice versa\n",
    "\n",
    "conv_file_path = '../data/2018concordance_table_A1.csv'\n",
    "\n",
    "dirty_conv_table = pd.read_csv(conv_file_path)"
   ]
  },
  {
   "cell_type": "markdown",
   "metadata": {
    "tags": []
   },
   "source": [
    "#### 1.0 Printing the head, SAT Total Score/ACT Composite Conversion Tables\n",
    "I find there are entries that have asterisks. The original Excel file states that these are the SAT scores we should use if we're choosing a single score to correspond to an ACT score. For example, as you can see in the head, there are 4 SAT scores that correspond to an ACT of 36, but the documentation recommends using 1590 if you're not using a range."
   ]
  },
  {
   "cell_type": "code",
   "execution_count": 20,
   "metadata": {},
   "outputs": [
    {
     "data": {
      "text/html": [
       "<div>\n",
       "<style scoped>\n",
       "    .dataframe tbody tr th:only-of-type {\n",
       "        vertical-align: middle;\n",
       "    }\n",
       "\n",
       "    .dataframe tbody tr th {\n",
       "        vertical-align: top;\n",
       "    }\n",
       "\n",
       "    .dataframe thead th {\n",
       "        text-align: right;\n",
       "    }\n",
       "</style>\n",
       "<table border=\"1\" class=\"dataframe\">\n",
       "  <thead>\n",
       "    <tr style=\"text-align: right;\">\n",
       "      <th></th>\n",
       "      <th>SAT</th>\n",
       "      <th>ACT</th>\n",
       "    </tr>\n",
       "  </thead>\n",
       "  <tbody>\n",
       "    <tr>\n",
       "      <th>0</th>\n",
       "      <td>1600</td>\n",
       "      <td>36</td>\n",
       "    </tr>\n",
       "    <tr>\n",
       "      <th>1</th>\n",
       "      <td>*1590</td>\n",
       "      <td>36</td>\n",
       "    </tr>\n",
       "    <tr>\n",
       "      <th>2</th>\n",
       "      <td>1580</td>\n",
       "      <td>36</td>\n",
       "    </tr>\n",
       "    <tr>\n",
       "      <th>3</th>\n",
       "      <td>1570</td>\n",
       "      <td>36</td>\n",
       "    </tr>\n",
       "    <tr>\n",
       "      <th>4</th>\n",
       "      <td>1560</td>\n",
       "      <td>35</td>\n",
       "    </tr>\n",
       "  </tbody>\n",
       "</table>\n",
       "</div>"
      ],
      "text/plain": [
       "     SAT  ACT\n",
       "0   1600   36\n",
       "1  *1590   36\n",
       "2   1580   36\n",
       "3   1570   36\n",
       "4   1560   35"
      ]
     },
     "execution_count": 20,
     "metadata": {},
     "output_type": "execute_result"
    }
   ],
   "source": [
    "dirty_conv_table.head()"
   ]
  },
  {
   "cell_type": "markdown",
   "metadata": {
    "tags": []
   },
   "source": [
    "#### 2.0 Checking for Nulls, SAT Total Score/ACT Composite Conversion Tables\n",
    "\n",
    "There are no nulls"
   ]
  },
  {
   "cell_type": "code",
   "execution_count": 21,
   "metadata": {},
   "outputs": [
    {
     "data": {
      "text/plain": [
       "SAT    0\n",
       "ACT    0\n",
       "dtype: int64"
      ]
     },
     "execution_count": 21,
     "metadata": {},
     "output_type": "execute_result"
    }
   ],
   "source": [
    "dirty_conv_table.isnull().sum()"
   ]
  },
  {
   "cell_type": "markdown",
   "metadata": {
    "tags": []
   },
   "source": [
    "#### 3.0 Looking for Obvious Errors in the Data, SAT Total Score/ACT Composite Conversion Tables\n",
    "\n",
    "I'll need to deal with the asterisk issue for both tables (SAT-->ACT and ACT-->SAT). for the ACT --> SAT I'll need to eliminate the \"non-asterisk\" values from the SAT so each ACT score only returns one SAT value."
   ]
  },
  {
   "cell_type": "code",
   "execution_count": 22,
   "metadata": {},
   "outputs": [
    {
     "data": {
      "text/plain": [
       "SAT    object\n",
       "ACT     int64\n",
       "dtype: object"
      ]
     },
     "execution_count": 22,
     "metadata": {},
     "output_type": "execute_result"
    }
   ],
   "source": [
    "dirty_conv_table.dtypes"
   ]
  },
  {
   "cell_type": "markdown",
   "metadata": {
    "tags": []
   },
   "source": [
    "#### 4.0 Fix Errors, SAT Total Score/ACT Composite Conversion Tables\n",
    "\n",
    "In this section, I make a version of the SAT-->ACT table (s_to_a_df) with the asterisk eliminated and the datatype corrected to integer and I make a version of the ACT-->SAT table (a_to_s_df) that reduces the table to the asterisked SAT values and then removed the asterisk in order to have a 1-to-1 conversion from ACT composite to SAT total score."
   ]
  },
  {
   "cell_type": "code",
   "execution_count": 23,
   "metadata": {},
   "outputs": [],
   "source": [
    "s_to_a_df = dirty_conv_table.copy()"
   ]
  },
  {
   "cell_type": "code",
   "execution_count": 24,
   "metadata": {},
   "outputs": [
    {
     "data": {
      "text/html": [
       "<div>\n",
       "<style scoped>\n",
       "    .dataframe tbody tr th:only-of-type {\n",
       "        vertical-align: middle;\n",
       "    }\n",
       "\n",
       "    .dataframe tbody tr th {\n",
       "        vertical-align: top;\n",
       "    }\n",
       "\n",
       "    .dataframe thead th {\n",
       "        text-align: right;\n",
       "    }\n",
       "</style>\n",
       "<table border=\"1\" class=\"dataframe\">\n",
       "  <thead>\n",
       "    <tr style=\"text-align: right;\">\n",
       "      <th></th>\n",
       "      <th>SAT</th>\n",
       "      <th>ACT</th>\n",
       "    </tr>\n",
       "  </thead>\n",
       "  <tbody>\n",
       "    <tr>\n",
       "      <th>0</th>\n",
       "      <td>1600</td>\n",
       "      <td>36</td>\n",
       "    </tr>\n",
       "    <tr>\n",
       "      <th>1</th>\n",
       "      <td>*1590</td>\n",
       "      <td>36</td>\n",
       "    </tr>\n",
       "    <tr>\n",
       "      <th>2</th>\n",
       "      <td>1580</td>\n",
       "      <td>36</td>\n",
       "    </tr>\n",
       "    <tr>\n",
       "      <th>3</th>\n",
       "      <td>1570</td>\n",
       "      <td>36</td>\n",
       "    </tr>\n",
       "    <tr>\n",
       "      <th>4</th>\n",
       "      <td>1560</td>\n",
       "      <td>35</td>\n",
       "    </tr>\n",
       "  </tbody>\n",
       "</table>\n",
       "</div>"
      ],
      "text/plain": [
       "     SAT  ACT\n",
       "0   1600   36\n",
       "1  *1590   36\n",
       "2   1580   36\n",
       "3   1570   36\n",
       "4   1560   35"
      ]
     },
     "execution_count": 24,
     "metadata": {},
     "output_type": "execute_result"
    }
   ],
   "source": [
    "s_to_a_df.head()"
   ]
  },
  {
   "cell_type": "code",
   "execution_count": 25,
   "metadata": {},
   "outputs": [],
   "source": [
    "#this creates the SAT->ACT conversion table without the asterisk and as integer.\n",
    "s_to_a_df['SAT'] = s_to_a_df['SAT'].map(lambda score: int(score.replace(\"*\", \"\")) if \"*\" in score else int(score))"
   ]
  },
  {
   "cell_type": "code",
   "execution_count": 26,
   "metadata": {},
   "outputs": [
    {
     "data": {
      "text/html": [
       "<div>\n",
       "<style scoped>\n",
       "    .dataframe tbody tr th:only-of-type {\n",
       "        vertical-align: middle;\n",
       "    }\n",
       "\n",
       "    .dataframe tbody tr th {\n",
       "        vertical-align: top;\n",
       "    }\n",
       "\n",
       "    .dataframe thead th {\n",
       "        text-align: right;\n",
       "    }\n",
       "</style>\n",
       "<table border=\"1\" class=\"dataframe\">\n",
       "  <thead>\n",
       "    <tr style=\"text-align: right;\">\n",
       "      <th></th>\n",
       "      <th>SAT</th>\n",
       "      <th>ACT</th>\n",
       "    </tr>\n",
       "  </thead>\n",
       "  <tbody>\n",
       "    <tr>\n",
       "      <th>0</th>\n",
       "      <td>1600</td>\n",
       "      <td>36</td>\n",
       "    </tr>\n",
       "    <tr>\n",
       "      <th>1</th>\n",
       "      <td>1590</td>\n",
       "      <td>36</td>\n",
       "    </tr>\n",
       "    <tr>\n",
       "      <th>2</th>\n",
       "      <td>1580</td>\n",
       "      <td>36</td>\n",
       "    </tr>\n",
       "    <tr>\n",
       "      <th>3</th>\n",
       "      <td>1570</td>\n",
       "      <td>36</td>\n",
       "    </tr>\n",
       "    <tr>\n",
       "      <th>4</th>\n",
       "      <td>1560</td>\n",
       "      <td>35</td>\n",
       "    </tr>\n",
       "  </tbody>\n",
       "</table>\n",
       "</div>"
      ],
      "text/plain": [
       "    SAT  ACT\n",
       "0  1600   36\n",
       "1  1590   36\n",
       "2  1580   36\n",
       "3  1570   36\n",
       "4  1560   35"
      ]
     },
     "execution_count": 26,
     "metadata": {},
     "output_type": "execute_result"
    }
   ],
   "source": [
    "s_to_a_df.head()"
   ]
  },
  {
   "cell_type": "code",
   "execution_count": 27,
   "metadata": {},
   "outputs": [
    {
     "data": {
      "text/plain": [
       "SAT    int64\n",
       "ACT    int64\n",
       "dtype: object"
      ]
     },
     "execution_count": 27,
     "metadata": {},
     "output_type": "execute_result"
    }
   ],
   "source": [
    "s_to_a_df.dtypes"
   ]
  },
  {
   "cell_type": "code",
   "execution_count": 28,
   "metadata": {},
   "outputs": [],
   "source": [
    "# this creates the ACT->SAT conversion chart first with asterisk, then eliminates asterisks, converts to int\n",
    "\n",
    "a_to_s_df = dirty_conv_table.copy()\n",
    "\n",
    "# eliminate rows that have DON'T have an asterisk\n",
    "\n",
    "a_to_s_df = a_to_s_df[a_to_s_df['SAT'].map(lambda x: True if '*' in x else False)]\n"
   ]
  },
  {
   "cell_type": "code",
   "execution_count": 29,
   "metadata": {},
   "outputs": [
    {
     "data": {
      "text/html": [
       "<div>\n",
       "<style scoped>\n",
       "    .dataframe tbody tr th:only-of-type {\n",
       "        vertical-align: middle;\n",
       "    }\n",
       "\n",
       "    .dataframe tbody tr th {\n",
       "        vertical-align: top;\n",
       "    }\n",
       "\n",
       "    .dataframe thead th {\n",
       "        text-align: right;\n",
       "    }\n",
       "</style>\n",
       "<table border=\"1\" class=\"dataframe\">\n",
       "  <thead>\n",
       "    <tr style=\"text-align: right;\">\n",
       "      <th></th>\n",
       "      <th>SAT</th>\n",
       "      <th>ACT</th>\n",
       "    </tr>\n",
       "  </thead>\n",
       "  <tbody>\n",
       "    <tr>\n",
       "      <th>1</th>\n",
       "      <td>*1590</td>\n",
       "      <td>36</td>\n",
       "    </tr>\n",
       "    <tr>\n",
       "      <th>6</th>\n",
       "      <td>*1540</td>\n",
       "      <td>35</td>\n",
       "    </tr>\n",
       "    <tr>\n",
       "      <th>10</th>\n",
       "      <td>*1500</td>\n",
       "      <td>34</td>\n",
       "    </tr>\n",
       "    <tr>\n",
       "      <th>14</th>\n",
       "      <td>*1460</td>\n",
       "      <td>33</td>\n",
       "    </tr>\n",
       "    <tr>\n",
       "      <th>17</th>\n",
       "      <td>*1430</td>\n",
       "      <td>32</td>\n",
       "    </tr>\n",
       "  </tbody>\n",
       "</table>\n",
       "</div>"
      ],
      "text/plain": [
       "      SAT  ACT\n",
       "1   *1590   36\n",
       "6   *1540   35\n",
       "10  *1500   34\n",
       "14  *1460   33\n",
       "17  *1430   32"
      ]
     },
     "execution_count": 29,
     "metadata": {},
     "output_type": "execute_result"
    }
   ],
   "source": [
    "a_to_s_df.head()"
   ]
  },
  {
   "cell_type": "code",
   "execution_count": 30,
   "metadata": {},
   "outputs": [],
   "source": [
    "# now eliminate the asterisks as I did for the SAT-> ACT chart\n",
    "\n",
    "a_to_s_df['SAT'] = a_to_s_df['SAT'].map(lambda score: int(score.replace(\"*\", \"\")) if \"*\" in score else int(score))"
   ]
  },
  {
   "cell_type": "code",
   "execution_count": 31,
   "metadata": {},
   "outputs": [
    {
     "data": {
      "text/html": [
       "<div>\n",
       "<style scoped>\n",
       "    .dataframe tbody tr th:only-of-type {\n",
       "        vertical-align: middle;\n",
       "    }\n",
       "\n",
       "    .dataframe tbody tr th {\n",
       "        vertical-align: top;\n",
       "    }\n",
       "\n",
       "    .dataframe thead th {\n",
       "        text-align: right;\n",
       "    }\n",
       "</style>\n",
       "<table border=\"1\" class=\"dataframe\">\n",
       "  <thead>\n",
       "    <tr style=\"text-align: right;\">\n",
       "      <th></th>\n",
       "      <th>SAT</th>\n",
       "      <th>ACT</th>\n",
       "    </tr>\n",
       "  </thead>\n",
       "  <tbody>\n",
       "    <tr>\n",
       "      <th>1</th>\n",
       "      <td>1590</td>\n",
       "      <td>36</td>\n",
       "    </tr>\n",
       "    <tr>\n",
       "      <th>6</th>\n",
       "      <td>1540</td>\n",
       "      <td>35</td>\n",
       "    </tr>\n",
       "    <tr>\n",
       "      <th>10</th>\n",
       "      <td>1500</td>\n",
       "      <td>34</td>\n",
       "    </tr>\n",
       "    <tr>\n",
       "      <th>14</th>\n",
       "      <td>1460</td>\n",
       "      <td>33</td>\n",
       "    </tr>\n",
       "    <tr>\n",
       "      <th>17</th>\n",
       "      <td>1430</td>\n",
       "      <td>32</td>\n",
       "    </tr>\n",
       "  </tbody>\n",
       "</table>\n",
       "</div>"
      ],
      "text/plain": [
       "     SAT  ACT\n",
       "1   1590   36\n",
       "6   1540   35\n",
       "10  1500   34\n",
       "14  1460   33\n",
       "17  1430   32"
      ]
     },
     "execution_count": 31,
     "metadata": {},
     "output_type": "execute_result"
    }
   ],
   "source": [
    "a_to_s_df.head()"
   ]
  },
  {
   "cell_type": "code",
   "execution_count": 32,
   "metadata": {},
   "outputs": [
    {
     "data": {
      "text/plain": [
       "SAT    int64\n",
       "ACT    int64\n",
       "dtype: object"
      ]
     },
     "execution_count": 32,
     "metadata": {},
     "output_type": "execute_result"
    }
   ],
   "source": [
    "a_to_s_df.dtypes"
   ]
  },
  {
   "cell_type": "markdown",
   "metadata": {
    "jp-MarkdownHeadingCollapsed": true,
    "tags": []
   },
   "source": [
    "#### 5.0 Display Data Types, SAT Total Score/ACT Composite Conversion Tables\n",
    "\n",
    "I already did this above."
   ]
  },
  {
   "cell_type": "markdown",
   "metadata": {
    "jp-MarkdownHeadingCollapsed": true,
    "tags": []
   },
   "source": [
    "#### 6.0 Correct Data Types, SAT Total Score/ACT Composite Conversion Tables\n",
    "\n",
    "I already did this above."
   ]
  },
  {
   "cell_type": "markdown",
   "metadata": {
    "tags": []
   },
   "source": [
    "#### 7.0 Rename Columns, SAT Total Score/ACT Composite Conversion Tables"
   ]
  },
  {
   "cell_type": "code",
   "execution_count": 33,
   "metadata": {},
   "outputs": [],
   "source": [
    "s_a_col_dict = {\n",
    "    \"SAT\": \"sat_tot_score\",\n",
    "    \"ACT\": \"act_composite\"\n",
    "}"
   ]
  },
  {
   "cell_type": "code",
   "execution_count": 34,
   "metadata": {},
   "outputs": [],
   "source": [
    "s_to_a_df.rename(columns = s_a_col_dict,\n",
    "                 inplace = True)"
   ]
  },
  {
   "cell_type": "code",
   "execution_count": 35,
   "metadata": {},
   "outputs": [
    {
     "data": {
      "text/html": [
       "<div>\n",
       "<style scoped>\n",
       "    .dataframe tbody tr th:only-of-type {\n",
       "        vertical-align: middle;\n",
       "    }\n",
       "\n",
       "    .dataframe tbody tr th {\n",
       "        vertical-align: top;\n",
       "    }\n",
       "\n",
       "    .dataframe thead th {\n",
       "        text-align: right;\n",
       "    }\n",
       "</style>\n",
       "<table border=\"1\" class=\"dataframe\">\n",
       "  <thead>\n",
       "    <tr style=\"text-align: right;\">\n",
       "      <th></th>\n",
       "      <th>sat_tot_score</th>\n",
       "      <th>act_composite</th>\n",
       "    </tr>\n",
       "  </thead>\n",
       "  <tbody>\n",
       "    <tr>\n",
       "      <th>0</th>\n",
       "      <td>1600</td>\n",
       "      <td>36</td>\n",
       "    </tr>\n",
       "    <tr>\n",
       "      <th>1</th>\n",
       "      <td>1590</td>\n",
       "      <td>36</td>\n",
       "    </tr>\n",
       "    <tr>\n",
       "      <th>2</th>\n",
       "      <td>1580</td>\n",
       "      <td>36</td>\n",
       "    </tr>\n",
       "    <tr>\n",
       "      <th>3</th>\n",
       "      <td>1570</td>\n",
       "      <td>36</td>\n",
       "    </tr>\n",
       "    <tr>\n",
       "      <th>4</th>\n",
       "      <td>1560</td>\n",
       "      <td>35</td>\n",
       "    </tr>\n",
       "  </tbody>\n",
       "</table>\n",
       "</div>"
      ],
      "text/plain": [
       "   sat_tot_score  act_composite\n",
       "0           1600             36\n",
       "1           1590             36\n",
       "2           1580             36\n",
       "3           1570             36\n",
       "4           1560             35"
      ]
     },
     "execution_count": 35,
     "metadata": {},
     "output_type": "execute_result"
    }
   ],
   "source": [
    "s_to_a_df.head()"
   ]
  },
  {
   "cell_type": "code",
   "execution_count": 36,
   "metadata": {},
   "outputs": [],
   "source": [
    "a_to_s_df.rename(columns = s_a_col_dict,\n",
    "                inplace = True)"
   ]
  },
  {
   "cell_type": "code",
   "execution_count": 37,
   "metadata": {
    "tags": []
   },
   "outputs": [
    {
     "data": {
      "text/html": [
       "<div>\n",
       "<style scoped>\n",
       "    .dataframe tbody tr th:only-of-type {\n",
       "        vertical-align: middle;\n",
       "    }\n",
       "\n",
       "    .dataframe tbody tr th {\n",
       "        vertical-align: top;\n",
       "    }\n",
       "\n",
       "    .dataframe thead th {\n",
       "        text-align: right;\n",
       "    }\n",
       "</style>\n",
       "<table border=\"1\" class=\"dataframe\">\n",
       "  <thead>\n",
       "    <tr style=\"text-align: right;\">\n",
       "      <th></th>\n",
       "      <th>sat_tot_score</th>\n",
       "      <th>act_composite</th>\n",
       "    </tr>\n",
       "  </thead>\n",
       "  <tbody>\n",
       "    <tr>\n",
       "      <th>1</th>\n",
       "      <td>1590</td>\n",
       "      <td>36</td>\n",
       "    </tr>\n",
       "    <tr>\n",
       "      <th>6</th>\n",
       "      <td>1540</td>\n",
       "      <td>35</td>\n",
       "    </tr>\n",
       "    <tr>\n",
       "      <th>10</th>\n",
       "      <td>1500</td>\n",
       "      <td>34</td>\n",
       "    </tr>\n",
       "    <tr>\n",
       "      <th>14</th>\n",
       "      <td>1460</td>\n",
       "      <td>33</td>\n",
       "    </tr>\n",
       "    <tr>\n",
       "      <th>17</th>\n",
       "      <td>1430</td>\n",
       "      <td>32</td>\n",
       "    </tr>\n",
       "  </tbody>\n",
       "</table>\n",
       "</div>"
      ],
      "text/plain": [
       "    sat_tot_score  act_composite\n",
       "1            1590             36\n",
       "6            1540             35\n",
       "10           1500             34\n",
       "14           1460             33\n",
       "17           1430             32"
      ]
     },
     "execution_count": 37,
     "metadata": {},
     "output_type": "execute_result"
    }
   ],
   "source": [
    "a_to_s_df.head()"
   ]
  },
  {
   "cell_type": "markdown",
   "metadata": {
    "jp-MarkdownHeadingCollapsed": true,
    "tags": []
   },
   "source": [
    "#### 8.0 Drop Unnecessary Rows, SAT Total Score/ACT Composite Conversion Tables\n",
    "\n",
    "No unnecessary rows to drop."
   ]
  },
  {
   "cell_type": "markdown",
   "metadata": {
    "tags": []
   },
   "source": [
    "### SAT 2019 DF"
   ]
  },
  {
   "cell_type": "markdown",
   "metadata": {
    "tags": []
   },
   "source": [
    "#### 0.0 Importing Data Set, SAT 2019 DF"
   ]
  },
  {
   "cell_type": "code",
   "execution_count": 38,
   "metadata": {},
   "outputs": [],
   "source": [
    "raw_sat_19 = pd.read_csv('../data/sat_2019.csv')\n",
    "\n",
    "sat_19_df = raw_sat_19.copy()"
   ]
  },
  {
   "cell_type": "markdown",
   "metadata": {
    "tags": []
   },
   "source": [
    "#### 1.0 Printing the head, SAT 2019 DF"
   ]
  },
  {
   "cell_type": "code",
   "execution_count": 39,
   "metadata": {},
   "outputs": [
    {
     "data": {
      "text/html": [
       "<div>\n",
       "<style scoped>\n",
       "    .dataframe tbody tr th:only-of-type {\n",
       "        vertical-align: middle;\n",
       "    }\n",
       "\n",
       "    .dataframe tbody tr th {\n",
       "        vertical-align: top;\n",
       "    }\n",
       "\n",
       "    .dataframe thead th {\n",
       "        text-align: right;\n",
       "    }\n",
       "</style>\n",
       "<table border=\"1\" class=\"dataframe\">\n",
       "  <thead>\n",
       "    <tr style=\"text-align: right;\">\n",
       "      <th></th>\n",
       "      <th>State</th>\n",
       "      <th>Participation Rate</th>\n",
       "      <th>EBRW</th>\n",
       "      <th>Math</th>\n",
       "      <th>Total</th>\n",
       "    </tr>\n",
       "  </thead>\n",
       "  <tbody>\n",
       "    <tr>\n",
       "      <th>0</th>\n",
       "      <td>Alabama</td>\n",
       "      <td>7%</td>\n",
       "      <td>583</td>\n",
       "      <td>560</td>\n",
       "      <td>1143</td>\n",
       "    </tr>\n",
       "    <tr>\n",
       "      <th>1</th>\n",
       "      <td>Alaska</td>\n",
       "      <td>41%</td>\n",
       "      <td>556</td>\n",
       "      <td>541</td>\n",
       "      <td>1097</td>\n",
       "    </tr>\n",
       "    <tr>\n",
       "      <th>2</th>\n",
       "      <td>Arizona</td>\n",
       "      <td>31%</td>\n",
       "      <td>569</td>\n",
       "      <td>565</td>\n",
       "      <td>1134</td>\n",
       "    </tr>\n",
       "    <tr>\n",
       "      <th>3</th>\n",
       "      <td>Arkansas</td>\n",
       "      <td>6%</td>\n",
       "      <td>582</td>\n",
       "      <td>559</td>\n",
       "      <td>1141</td>\n",
       "    </tr>\n",
       "    <tr>\n",
       "      <th>4</th>\n",
       "      <td>California</td>\n",
       "      <td>63%</td>\n",
       "      <td>534</td>\n",
       "      <td>531</td>\n",
       "      <td>1065</td>\n",
       "    </tr>\n",
       "  </tbody>\n",
       "</table>\n",
       "</div>"
      ],
      "text/plain": [
       "        State Participation Rate  EBRW  Math  Total\n",
       "0     Alabama                 7%   583   560   1143\n",
       "1      Alaska                41%   556   541   1097\n",
       "2     Arizona                31%   569   565   1134\n",
       "3    Arkansas                 6%   582   559   1141\n",
       "4  California                63%   534   531   1065"
      ]
     },
     "execution_count": 39,
     "metadata": {},
     "output_type": "execute_result"
    }
   ],
   "source": [
    "sat_19_df.head()"
   ]
  },
  {
   "cell_type": "markdown",
   "metadata": {
    "tags": []
   },
   "source": [
    "#### 2.0 Checking for Nulls, SAT 2019 DF\n",
    "\n",
    "No nulls"
   ]
  },
  {
   "cell_type": "code",
   "execution_count": 40,
   "metadata": {},
   "outputs": [
    {
     "data": {
      "text/plain": [
       "State                 0\n",
       "Participation Rate    0\n",
       "EBRW                  0\n",
       "Math                  0\n",
       "Total                 0\n",
       "dtype: int64"
      ]
     },
     "execution_count": 40,
     "metadata": {},
     "output_type": "execute_result"
    }
   ],
   "source": [
    "sat_19_df.isnull().sum()"
   ]
  },
  {
   "cell_type": "markdown",
   "metadata": {
    "tags": []
   },
   "source": [
    "#### 3.0 Looking for Obvious Errors in the Data, SAT 2019 DF\n",
    "\n",
    ".dytpes reveals that the participation rate needs to be converted from a string with '%' to a float.\n",
    "\n",
    ".describe() shows no surprises.\n",
    "\n",
    "I discovered '-' in the participation rate column. Looking at the data for those columns, it's clear there was participation. Ultimately, the best solution would be to find the # of eligible students in those territories and calculate participation rate. Do get the correct number would be very involved, so for now I'm eliminating those two territories."
   ]
  },
  {
   "cell_type": "code",
   "execution_count": 41,
   "metadata": {},
   "outputs": [
    {
     "data": {
      "text/plain": [
       "State                 object\n",
       "Participation Rate    object\n",
       "EBRW                   int64\n",
       "Math                   int64\n",
       "Total                  int64\n",
       "dtype: object"
      ]
     },
     "execution_count": 41,
     "metadata": {},
     "output_type": "execute_result"
    }
   ],
   "source": [
    "sat_19_df.dtypes"
   ]
  },
  {
   "cell_type": "code",
   "execution_count": 42,
   "metadata": {},
   "outputs": [
    {
     "data": {
      "text/plain": [
       "(53, 5)"
      ]
     },
     "execution_count": 42,
     "metadata": {},
     "output_type": "execute_result"
    }
   ],
   "source": [
    "sat_19_df.shape"
   ]
  },
  {
   "cell_type": "code",
   "execution_count": 43,
   "metadata": {},
   "outputs": [
    {
     "data": {
      "text/html": [
       "<div>\n",
       "<style scoped>\n",
       "    .dataframe tbody tr th:only-of-type {\n",
       "        vertical-align: middle;\n",
       "    }\n",
       "\n",
       "    .dataframe tbody tr th {\n",
       "        vertical-align: top;\n",
       "    }\n",
       "\n",
       "    .dataframe thead th {\n",
       "        text-align: right;\n",
       "    }\n",
       "</style>\n",
       "<table border=\"1\" class=\"dataframe\">\n",
       "  <thead>\n",
       "    <tr style=\"text-align: right;\">\n",
       "      <th></th>\n",
       "      <th>EBRW</th>\n",
       "      <th>Math</th>\n",
       "      <th>Total</th>\n",
       "    </tr>\n",
       "  </thead>\n",
       "  <tbody>\n",
       "    <tr>\n",
       "      <th>count</th>\n",
       "      <td>53.000000</td>\n",
       "      <td>53.000000</td>\n",
       "      <td>53.000000</td>\n",
       "    </tr>\n",
       "    <tr>\n",
       "      <th>mean</th>\n",
       "      <td>558.000000</td>\n",
       "      <td>548.471698</td>\n",
       "      <td>1106.528302</td>\n",
       "    </tr>\n",
       "    <tr>\n",
       "      <th>std</th>\n",
       "      <td>47.554422</td>\n",
       "      <td>53.785044</td>\n",
       "      <td>100.994784</td>\n",
       "    </tr>\n",
       "    <tr>\n",
       "      <th>min</th>\n",
       "      <td>483.000000</td>\n",
       "      <td>445.000000</td>\n",
       "      <td>935.000000</td>\n",
       "    </tr>\n",
       "    <tr>\n",
       "      <th>25%</th>\n",
       "      <td>518.000000</td>\n",
       "      <td>506.000000</td>\n",
       "      <td>1024.000000</td>\n",
       "    </tr>\n",
       "    <tr>\n",
       "      <th>50%</th>\n",
       "      <td>550.000000</td>\n",
       "      <td>545.000000</td>\n",
       "      <td>1097.000000</td>\n",
       "    </tr>\n",
       "    <tr>\n",
       "      <th>75%</th>\n",
       "      <td>610.000000</td>\n",
       "      <td>596.000000</td>\n",
       "      <td>1200.000000</td>\n",
       "    </tr>\n",
       "    <tr>\n",
       "      <th>max</th>\n",
       "      <td>636.000000</td>\n",
       "      <td>648.000000</td>\n",
       "      <td>1284.000000</td>\n",
       "    </tr>\n",
       "  </tbody>\n",
       "</table>\n",
       "</div>"
      ],
      "text/plain": [
       "             EBRW        Math        Total\n",
       "count   53.000000   53.000000    53.000000\n",
       "mean   558.000000  548.471698  1106.528302\n",
       "std     47.554422   53.785044   100.994784\n",
       "min    483.000000  445.000000   935.000000\n",
       "25%    518.000000  506.000000  1024.000000\n",
       "50%    550.000000  545.000000  1097.000000\n",
       "75%    610.000000  596.000000  1200.000000\n",
       "max    636.000000  648.000000  1284.000000"
      ]
     },
     "execution_count": 43,
     "metadata": {},
     "output_type": "execute_result"
    }
   ],
   "source": [
    "sat_19_df.describe()"
   ]
  },
  {
   "cell_type": "code",
   "execution_count": 44,
   "metadata": {},
   "outputs": [
    {
     "data": {
      "text/plain": [
       "100%    8\n",
       "3%      6\n",
       "4%      5\n",
       "68%     3\n",
       "66%     2\n",
       "—       2\n",
       "70%     2\n",
       "51%     2\n",
       "99%     2\n",
       "7%      2\n",
       "82%     2\n",
       "71%     1\n",
       "31%     1\n",
       "6%      1\n",
       "22%     1\n",
       "19%     1\n",
       "2%      1\n",
       "63%     1\n",
       "79%     1\n",
       "54%     1\n",
       "95%     1\n",
       "20%     1\n",
       "9%      1\n",
       "81%     1\n",
       "41%     1\n",
       "94%     1\n",
       "5%      1\n",
       "18%     1\n",
       "Name: Participation Rate, dtype: int64"
      ]
     },
     "execution_count": 44,
     "metadata": {},
     "output_type": "execute_result"
    }
   ],
   "source": [
    "sat_19_df['Participation Rate'].value_counts()"
   ]
  },
  {
   "cell_type": "code",
   "execution_count": 45,
   "metadata": {},
   "outputs": [
    {
     "data": {
      "text/plain": [
       "['—']"
      ]
     },
     "execution_count": 45,
     "metadata": {},
     "output_type": "execute_result"
    }
   ],
   "source": [
    "list(sat_19_df.loc[sat_19_df['State'] == 'Virgin Islands']['Participation Rate'])"
   ]
  },
  {
   "cell_type": "code",
   "execution_count": 46,
   "metadata": {},
   "outputs": [
    {
     "data": {
      "text/html": [
       "<div>\n",
       "<style scoped>\n",
       "    .dataframe tbody tr th:only-of-type {\n",
       "        vertical-align: middle;\n",
       "    }\n",
       "\n",
       "    .dataframe tbody tr th {\n",
       "        vertical-align: top;\n",
       "    }\n",
       "\n",
       "    .dataframe thead th {\n",
       "        text-align: right;\n",
       "    }\n",
       "</style>\n",
       "<table border=\"1\" class=\"dataframe\">\n",
       "  <thead>\n",
       "    <tr style=\"text-align: right;\">\n",
       "      <th></th>\n",
       "      <th>State</th>\n",
       "      <th>Participation Rate</th>\n",
       "      <th>EBRW</th>\n",
       "      <th>Math</th>\n",
       "      <th>Total</th>\n",
       "    </tr>\n",
       "  </thead>\n",
       "  <tbody>\n",
       "    <tr>\n",
       "      <th>39</th>\n",
       "      <td>Puerto Rico</td>\n",
       "      <td>—</td>\n",
       "      <td>483</td>\n",
       "      <td>462</td>\n",
       "      <td>944</td>\n",
       "    </tr>\n",
       "    <tr>\n",
       "      <th>47</th>\n",
       "      <td>Virgin Islands</td>\n",
       "      <td>—</td>\n",
       "      <td>490</td>\n",
       "      <td>445</td>\n",
       "      <td>935</td>\n",
       "    </tr>\n",
       "  </tbody>\n",
       "</table>\n",
       "</div>"
      ],
      "text/plain": [
       "             State Participation Rate  EBRW  Math  Total\n",
       "39     Puerto Rico                  —   483   462    944\n",
       "47  Virgin Islands                  —   490   445    935"
      ]
     },
     "execution_count": 46,
     "metadata": {},
     "output_type": "execute_result"
    }
   ],
   "source": [
    "sat_19_df[sat_19_df['Participation Rate'] == '—']"
   ]
  },
  {
   "cell_type": "markdown",
   "metadata": {
    "tags": []
   },
   "source": [
    "#### 4.0 Fix Errors, SAT 2019 DF\n",
    "\n",
    "I eliminated the territories that don't report participation rate because I'm more interested in being able to look at participation rates across the remaining 51 states/territories than I am in the additional two SAT data points.\n",
    "\n",
    "I then converted the remaining 'Participation Rate' entries from strings to floats."
   ]
  },
  {
   "cell_type": "code",
   "execution_count": 47,
   "metadata": {},
   "outputs": [],
   "source": [
    "# Dropping the two cases of \"-\" in 'Participation Rate'\n",
    "sat_19_df = sat_19_df[sat_19_df['Participation Rate'] != '—']"
   ]
  },
  {
   "cell_type": "code",
   "execution_count": 48,
   "metadata": {},
   "outputs": [
    {
     "data": {
      "text/plain": [
       "(51, 5)"
      ]
     },
     "execution_count": 48,
     "metadata": {},
     "output_type": "execute_result"
    }
   ],
   "source": [
    "sat_19_df.shape"
   ]
  },
  {
   "cell_type": "code",
   "execution_count": 49,
   "metadata": {},
   "outputs": [],
   "source": [
    "sat_19_df['Participation Rate'] = sat_19_df['Participation Rate'].map(lambda x: per_to_dec(x))"
   ]
  },
  {
   "cell_type": "code",
   "execution_count": 50,
   "metadata": {},
   "outputs": [
    {
     "data": {
      "text/html": [
       "<div>\n",
       "<style scoped>\n",
       "    .dataframe tbody tr th:only-of-type {\n",
       "        vertical-align: middle;\n",
       "    }\n",
       "\n",
       "    .dataframe tbody tr th {\n",
       "        vertical-align: top;\n",
       "    }\n",
       "\n",
       "    .dataframe thead th {\n",
       "        text-align: right;\n",
       "    }\n",
       "</style>\n",
       "<table border=\"1\" class=\"dataframe\">\n",
       "  <thead>\n",
       "    <tr style=\"text-align: right;\">\n",
       "      <th></th>\n",
       "      <th>State</th>\n",
       "      <th>Participation Rate</th>\n",
       "      <th>EBRW</th>\n",
       "      <th>Math</th>\n",
       "      <th>Total</th>\n",
       "    </tr>\n",
       "  </thead>\n",
       "  <tbody>\n",
       "    <tr>\n",
       "      <th>0</th>\n",
       "      <td>Alabama</td>\n",
       "      <td>0.07</td>\n",
       "      <td>583</td>\n",
       "      <td>560</td>\n",
       "      <td>1143</td>\n",
       "    </tr>\n",
       "    <tr>\n",
       "      <th>1</th>\n",
       "      <td>Alaska</td>\n",
       "      <td>0.41</td>\n",
       "      <td>556</td>\n",
       "      <td>541</td>\n",
       "      <td>1097</td>\n",
       "    </tr>\n",
       "    <tr>\n",
       "      <th>2</th>\n",
       "      <td>Arizona</td>\n",
       "      <td>0.31</td>\n",
       "      <td>569</td>\n",
       "      <td>565</td>\n",
       "      <td>1134</td>\n",
       "    </tr>\n",
       "    <tr>\n",
       "      <th>3</th>\n",
       "      <td>Arkansas</td>\n",
       "      <td>0.06</td>\n",
       "      <td>582</td>\n",
       "      <td>559</td>\n",
       "      <td>1141</td>\n",
       "    </tr>\n",
       "    <tr>\n",
       "      <th>4</th>\n",
       "      <td>California</td>\n",
       "      <td>0.63</td>\n",
       "      <td>534</td>\n",
       "      <td>531</td>\n",
       "      <td>1065</td>\n",
       "    </tr>\n",
       "  </tbody>\n",
       "</table>\n",
       "</div>"
      ],
      "text/plain": [
       "        State  Participation Rate  EBRW  Math  Total\n",
       "0     Alabama                0.07   583   560   1143\n",
       "1      Alaska                0.41   556   541   1097\n",
       "2     Arizona                0.31   569   565   1134\n",
       "3    Arkansas                0.06   582   559   1141\n",
       "4  California                0.63   534   531   1065"
      ]
     },
     "execution_count": 50,
     "metadata": {},
     "output_type": "execute_result"
    }
   ],
   "source": [
    "sat_19_df.head()"
   ]
  },
  {
   "cell_type": "code",
   "execution_count": 51,
   "metadata": {},
   "outputs": [
    {
     "data": {
      "text/plain": [
       "State                  object\n",
       "Participation Rate    float64\n",
       "EBRW                    int64\n",
       "Math                    int64\n",
       "Total                   int64\n",
       "dtype: object"
      ]
     },
     "execution_count": 51,
     "metadata": {},
     "output_type": "execute_result"
    }
   ],
   "source": [
    "sat_19_df.dtypes"
   ]
  },
  {
   "cell_type": "markdown",
   "metadata": {
    "jp-MarkdownHeadingCollapsed": true,
    "tags": []
   },
   "source": [
    "#### 5.0 Display Data Types, SAT 2019 DF\n",
    "\n",
    "I already did this above."
   ]
  },
  {
   "cell_type": "markdown",
   "metadata": {
    "jp-MarkdownHeadingCollapsed": true,
    "tags": []
   },
   "source": [
    "#### 6.0 Correct Data Types, SAT 2019 DF\n",
    "\n",
    "I already did this above."
   ]
  },
  {
   "cell_type": "markdown",
   "metadata": {
    "tags": []
   },
   "source": [
    "#### 7.0 Rename Columns, SAT 2019 DF"
   ]
  },
  {
   "cell_type": "code",
   "execution_count": 52,
   "metadata": {},
   "outputs": [],
   "source": [
    "sat19_col_dict = {\n",
    "    \"State\": \"state_or_territory\",\n",
    "    \"Participation Rate\": \"sat_participation_rate\",\n",
    "    \"EBRW\": \"ebrw\",\n",
    "    \"Math\": \"math\",\n",
    "    \"Total\": \"sat_total\"\n",
    "}"
   ]
  },
  {
   "cell_type": "code",
   "execution_count": 53,
   "metadata": {},
   "outputs": [],
   "source": [
    "sat_19_df.rename(columns = sat19_col_dict,\n",
    "                 inplace = True)"
   ]
  },
  {
   "cell_type": "code",
   "execution_count": 54,
   "metadata": {},
   "outputs": [
    {
     "data": {
      "text/html": [
       "<div>\n",
       "<style scoped>\n",
       "    .dataframe tbody tr th:only-of-type {\n",
       "        vertical-align: middle;\n",
       "    }\n",
       "\n",
       "    .dataframe tbody tr th {\n",
       "        vertical-align: top;\n",
       "    }\n",
       "\n",
       "    .dataframe thead th {\n",
       "        text-align: right;\n",
       "    }\n",
       "</style>\n",
       "<table border=\"1\" class=\"dataframe\">\n",
       "  <thead>\n",
       "    <tr style=\"text-align: right;\">\n",
       "      <th></th>\n",
       "      <th>state_or_territory</th>\n",
       "      <th>sat_participation_rate</th>\n",
       "      <th>ebrw</th>\n",
       "      <th>math</th>\n",
       "      <th>sat_total</th>\n",
       "    </tr>\n",
       "  </thead>\n",
       "  <tbody>\n",
       "    <tr>\n",
       "      <th>0</th>\n",
       "      <td>Alabama</td>\n",
       "      <td>0.07</td>\n",
       "      <td>583</td>\n",
       "      <td>560</td>\n",
       "      <td>1143</td>\n",
       "    </tr>\n",
       "    <tr>\n",
       "      <th>1</th>\n",
       "      <td>Alaska</td>\n",
       "      <td>0.41</td>\n",
       "      <td>556</td>\n",
       "      <td>541</td>\n",
       "      <td>1097</td>\n",
       "    </tr>\n",
       "    <tr>\n",
       "      <th>2</th>\n",
       "      <td>Arizona</td>\n",
       "      <td>0.31</td>\n",
       "      <td>569</td>\n",
       "      <td>565</td>\n",
       "      <td>1134</td>\n",
       "    </tr>\n",
       "    <tr>\n",
       "      <th>3</th>\n",
       "      <td>Arkansas</td>\n",
       "      <td>0.06</td>\n",
       "      <td>582</td>\n",
       "      <td>559</td>\n",
       "      <td>1141</td>\n",
       "    </tr>\n",
       "    <tr>\n",
       "      <th>4</th>\n",
       "      <td>California</td>\n",
       "      <td>0.63</td>\n",
       "      <td>534</td>\n",
       "      <td>531</td>\n",
       "      <td>1065</td>\n",
       "    </tr>\n",
       "  </tbody>\n",
       "</table>\n",
       "</div>"
      ],
      "text/plain": [
       "  state_or_territory  sat_participation_rate  ebrw  math  sat_total\n",
       "0            Alabama                    0.07   583   560       1143\n",
       "1             Alaska                    0.41   556   541       1097\n",
       "2            Arizona                    0.31   569   565       1134\n",
       "3           Arkansas                    0.06   582   559       1141\n",
       "4         California                    0.63   534   531       1065"
      ]
     },
     "execution_count": 54,
     "metadata": {},
     "output_type": "execute_result"
    }
   ],
   "source": [
    "sat_19_df.head()"
   ]
  },
  {
   "cell_type": "markdown",
   "metadata": {
    "tags": []
   },
   "source": [
    "#### 8.0 Drop Unnecessary Rows, SAT 2019 DF\n",
    "\n",
    "Already did that above, while changing data type for participation rate. NB: Eliminating the section level columns would be acceptable because we won't use them in this analysis."
   ]
  },
  {
   "cell_type": "markdown",
   "metadata": {
    "tags": []
   },
   "source": [
    "#### 8.1 Dropping ebrw and math columns"
   ]
  },
  {
   "cell_type": "code",
   "execution_count": 55,
   "metadata": {},
   "outputs": [],
   "source": [
    "sat_19_df.drop(columns = ['ebrw', 'math'],\n",
    "              inplace = True)"
   ]
  },
  {
   "cell_type": "code",
   "execution_count": 56,
   "metadata": {},
   "outputs": [
    {
     "data": {
      "text/html": [
       "<div>\n",
       "<style scoped>\n",
       "    .dataframe tbody tr th:only-of-type {\n",
       "        vertical-align: middle;\n",
       "    }\n",
       "\n",
       "    .dataframe tbody tr th {\n",
       "        vertical-align: top;\n",
       "    }\n",
       "\n",
       "    .dataframe thead th {\n",
       "        text-align: right;\n",
       "    }\n",
       "</style>\n",
       "<table border=\"1\" class=\"dataframe\">\n",
       "  <thead>\n",
       "    <tr style=\"text-align: right;\">\n",
       "      <th></th>\n",
       "      <th>state_or_territory</th>\n",
       "      <th>sat_participation_rate</th>\n",
       "      <th>sat_total</th>\n",
       "    </tr>\n",
       "  </thead>\n",
       "  <tbody>\n",
       "    <tr>\n",
       "      <th>0</th>\n",
       "      <td>Alabama</td>\n",
       "      <td>0.07</td>\n",
       "      <td>1143</td>\n",
       "    </tr>\n",
       "    <tr>\n",
       "      <th>1</th>\n",
       "      <td>Alaska</td>\n",
       "      <td>0.41</td>\n",
       "      <td>1097</td>\n",
       "    </tr>\n",
       "    <tr>\n",
       "      <th>2</th>\n",
       "      <td>Arizona</td>\n",
       "      <td>0.31</td>\n",
       "      <td>1134</td>\n",
       "    </tr>\n",
       "    <tr>\n",
       "      <th>3</th>\n",
       "      <td>Arkansas</td>\n",
       "      <td>0.06</td>\n",
       "      <td>1141</td>\n",
       "    </tr>\n",
       "    <tr>\n",
       "      <th>4</th>\n",
       "      <td>California</td>\n",
       "      <td>0.63</td>\n",
       "      <td>1065</td>\n",
       "    </tr>\n",
       "  </tbody>\n",
       "</table>\n",
       "</div>"
      ],
      "text/plain": [
       "  state_or_territory  sat_participation_rate  sat_total\n",
       "0            Alabama                    0.07       1143\n",
       "1             Alaska                    0.41       1097\n",
       "2            Arizona                    0.31       1134\n",
       "3           Arkansas                    0.06       1141\n",
       "4         California                    0.63       1065"
      ]
     },
     "execution_count": 56,
     "metadata": {},
     "output_type": "execute_result"
    }
   ],
   "source": [
    "sat_19_df.head()"
   ]
  },
  {
   "cell_type": "markdown",
   "metadata": {
    "tags": []
   },
   "source": [
    "### ACT 2019 DF"
   ]
  },
  {
   "cell_type": "markdown",
   "metadata": {
    "tags": []
   },
   "source": [
    "#### 0.0 Importing Data Set, ACT 2019 DF"
   ]
  },
  {
   "cell_type": "code",
   "execution_count": 57,
   "metadata": {},
   "outputs": [],
   "source": [
    "raw_act2019_df = pd.read_csv('../data/act_2019.csv')\n",
    "\n",
    "act2019_df = raw_act2019_df.copy()"
   ]
  },
  {
   "cell_type": "markdown",
   "metadata": {
    "tags": []
   },
   "source": [
    "#### 1.0 Printing the head, ACT 2019 DF\n",
    "\n",
    "It turns out the section data is missing from this data NB: the 2017 ACT data has it, if a section level comparison becomes desireable."
   ]
  },
  {
   "cell_type": "code",
   "execution_count": 58,
   "metadata": {},
   "outputs": [
    {
     "data": {
      "text/html": [
       "<div>\n",
       "<style scoped>\n",
       "    .dataframe tbody tr th:only-of-type {\n",
       "        vertical-align: middle;\n",
       "    }\n",
       "\n",
       "    .dataframe tbody tr th {\n",
       "        vertical-align: top;\n",
       "    }\n",
       "\n",
       "    .dataframe thead th {\n",
       "        text-align: right;\n",
       "    }\n",
       "</style>\n",
       "<table border=\"1\" class=\"dataframe\">\n",
       "  <thead>\n",
       "    <tr style=\"text-align: right;\">\n",
       "      <th></th>\n",
       "      <th>State</th>\n",
       "      <th>Participation</th>\n",
       "      <th>Composite</th>\n",
       "    </tr>\n",
       "  </thead>\n",
       "  <tbody>\n",
       "    <tr>\n",
       "      <th>0</th>\n",
       "      <td>Alabama</td>\n",
       "      <td>100%</td>\n",
       "      <td>18.9</td>\n",
       "    </tr>\n",
       "    <tr>\n",
       "      <th>1</th>\n",
       "      <td>Alaska</td>\n",
       "      <td>38%</td>\n",
       "      <td>20.1</td>\n",
       "    </tr>\n",
       "    <tr>\n",
       "      <th>2</th>\n",
       "      <td>Arizona</td>\n",
       "      <td>73%</td>\n",
       "      <td>19.0</td>\n",
       "    </tr>\n",
       "    <tr>\n",
       "      <th>3</th>\n",
       "      <td>Arkansas</td>\n",
       "      <td>100%</td>\n",
       "      <td>19.3</td>\n",
       "    </tr>\n",
       "    <tr>\n",
       "      <th>4</th>\n",
       "      <td>California</td>\n",
       "      <td>23%</td>\n",
       "      <td>22.6</td>\n",
       "    </tr>\n",
       "  </tbody>\n",
       "</table>\n",
       "</div>"
      ],
      "text/plain": [
       "        State Participation  Composite\n",
       "0     Alabama          100%       18.9\n",
       "1      Alaska           38%       20.1\n",
       "2     Arizona           73%       19.0\n",
       "3    Arkansas          100%       19.3\n",
       "4  California           23%       22.6"
      ]
     },
     "execution_count": 58,
     "metadata": {},
     "output_type": "execute_result"
    }
   ],
   "source": [
    "act2019_df.head()"
   ]
  },
  {
   "cell_type": "markdown",
   "metadata": {
    "tags": []
   },
   "source": [
    "#### 2.0 Checking for Nulls, ACT 2019 DF\n",
    "\n",
    "No nulls"
   ]
  },
  {
   "cell_type": "code",
   "execution_count": 59,
   "metadata": {},
   "outputs": [
    {
     "data": {
      "text/plain": [
       "State            0\n",
       "Participation    0\n",
       "Composite        0\n",
       "dtype: int64"
      ]
     },
     "execution_count": 59,
     "metadata": {},
     "output_type": "execute_result"
    }
   ],
   "source": [
    "act2019_df.isnull().sum()"
   ]
  },
  {
   "cell_type": "markdown",
   "metadata": {
    "tags": []
   },
   "source": [
    "#### 3.0 Looking for Obvious Errors in the Data, ACT 2019 DF\n",
    "\n",
    ".dytpes reveals that the participation rate needs to be converted from a string with '%' to a float.\n",
    "\n",
    ".describe() shows no surprises.\n",
    "\n",
    "There are 52 states here, where as there are 51 states and territories in the sat_2019_df once I was finished. I'll handle this once I've merged the data frames."
   ]
  },
  {
   "cell_type": "code",
   "execution_count": 60,
   "metadata": {},
   "outputs": [
    {
     "data": {
      "text/plain": [
       "State             object\n",
       "Participation     object\n",
       "Composite        float64\n",
       "dtype: object"
      ]
     },
     "execution_count": 60,
     "metadata": {},
     "output_type": "execute_result"
    }
   ],
   "source": [
    "act2019_df.dtypes"
   ]
  },
  {
   "cell_type": "code",
   "execution_count": 61,
   "metadata": {},
   "outputs": [
    {
     "data": {
      "text/html": [
       "<div>\n",
       "<style scoped>\n",
       "    .dataframe tbody tr th:only-of-type {\n",
       "        vertical-align: middle;\n",
       "    }\n",
       "\n",
       "    .dataframe tbody tr th {\n",
       "        vertical-align: top;\n",
       "    }\n",
       "\n",
       "    .dataframe thead th {\n",
       "        text-align: right;\n",
       "    }\n",
       "</style>\n",
       "<table border=\"1\" class=\"dataframe\">\n",
       "  <thead>\n",
       "    <tr style=\"text-align: right;\">\n",
       "      <th></th>\n",
       "      <th>Composite</th>\n",
       "    </tr>\n",
       "  </thead>\n",
       "  <tbody>\n",
       "    <tr>\n",
       "      <th>count</th>\n",
       "      <td>52.000000</td>\n",
       "    </tr>\n",
       "    <tr>\n",
       "      <th>mean</th>\n",
       "      <td>21.450000</td>\n",
       "    </tr>\n",
       "    <tr>\n",
       "      <th>std</th>\n",
       "      <td>2.175487</td>\n",
       "    </tr>\n",
       "    <tr>\n",
       "      <th>min</th>\n",
       "      <td>17.900000</td>\n",
       "    </tr>\n",
       "    <tr>\n",
       "      <th>25%</th>\n",
       "      <td>19.800000</td>\n",
       "    </tr>\n",
       "    <tr>\n",
       "      <th>50%</th>\n",
       "      <td>20.950000</td>\n",
       "    </tr>\n",
       "    <tr>\n",
       "      <th>75%</th>\n",
       "      <td>23.650000</td>\n",
       "    </tr>\n",
       "    <tr>\n",
       "      <th>max</th>\n",
       "      <td>25.500000</td>\n",
       "    </tr>\n",
       "  </tbody>\n",
       "</table>\n",
       "</div>"
      ],
      "text/plain": [
       "       Composite\n",
       "count  52.000000\n",
       "mean   21.450000\n",
       "std     2.175487\n",
       "min    17.900000\n",
       "25%    19.800000\n",
       "50%    20.950000\n",
       "75%    23.650000\n",
       "max    25.500000"
      ]
     },
     "execution_count": 61,
     "metadata": {},
     "output_type": "execute_result"
    }
   ],
   "source": [
    "act2019_df.describe()"
   ]
  },
  {
   "cell_type": "code",
   "execution_count": 62,
   "metadata": {},
   "outputs": [
    {
     "data": {
      "text/plain": [
       "(52, 3)"
      ]
     },
     "execution_count": 62,
     "metadata": {},
     "output_type": "execute_result"
    }
   ],
   "source": [
    "act2019_df.shape"
   ]
  },
  {
   "cell_type": "code",
   "execution_count": 63,
   "metadata": {},
   "outputs": [
    {
     "data": {
      "text/plain": [
       "100%    15\n",
       "22%      2\n",
       "49%      2\n",
       "21%      2\n",
       "20%      1\n",
       "39%      1\n",
       "24%      1\n",
       "75%      1\n",
       "78%      1\n",
       "12%      1\n",
       "19%      1\n",
       "17%      1\n",
       "42%      1\n",
       "96%      1\n",
       "63%      1\n",
       "25%      1\n",
       "14%      1\n",
       "82%      1\n",
       "95%      1\n",
       "28%      1\n",
       "38%      1\n",
       "6%       1\n",
       "72%      1\n",
       "66%      1\n",
       "29%      1\n",
       "35%      1\n",
       "31%      1\n",
       "80%      1\n",
       "54%      1\n",
       "32%      1\n",
       "13%      1\n",
       "27%      1\n",
       "23%      1\n",
       "73%      1\n",
       "52%      1\n",
       "Name: Participation, dtype: int64"
      ]
     },
     "execution_count": 63,
     "metadata": {},
     "output_type": "execute_result"
    }
   ],
   "source": [
    "act2019_df['Participation'].value_counts()"
   ]
  },
  {
   "cell_type": "markdown",
   "metadata": {
    "tags": []
   },
   "source": [
    "#### 4.0 Fix Errors, ACT 2019 DF\n",
    "\n",
    "I converted the Participation Rate to floats."
   ]
  },
  {
   "cell_type": "code",
   "execution_count": 64,
   "metadata": {},
   "outputs": [],
   "source": [
    "act2019_df['Participation'] = act2019_df['Participation'].map(lambda x : per_to_dec(x))"
   ]
  },
  {
   "cell_type": "code",
   "execution_count": 65,
   "metadata": {},
   "outputs": [
    {
     "data": {
      "text/html": [
       "<div>\n",
       "<style scoped>\n",
       "    .dataframe tbody tr th:only-of-type {\n",
       "        vertical-align: middle;\n",
       "    }\n",
       "\n",
       "    .dataframe tbody tr th {\n",
       "        vertical-align: top;\n",
       "    }\n",
       "\n",
       "    .dataframe thead th {\n",
       "        text-align: right;\n",
       "    }\n",
       "</style>\n",
       "<table border=\"1\" class=\"dataframe\">\n",
       "  <thead>\n",
       "    <tr style=\"text-align: right;\">\n",
       "      <th></th>\n",
       "      <th>State</th>\n",
       "      <th>Participation</th>\n",
       "      <th>Composite</th>\n",
       "    </tr>\n",
       "  </thead>\n",
       "  <tbody>\n",
       "    <tr>\n",
       "      <th>0</th>\n",
       "      <td>Alabama</td>\n",
       "      <td>1.00</td>\n",
       "      <td>18.9</td>\n",
       "    </tr>\n",
       "    <tr>\n",
       "      <th>1</th>\n",
       "      <td>Alaska</td>\n",
       "      <td>0.38</td>\n",
       "      <td>20.1</td>\n",
       "    </tr>\n",
       "    <tr>\n",
       "      <th>2</th>\n",
       "      <td>Arizona</td>\n",
       "      <td>0.73</td>\n",
       "      <td>19.0</td>\n",
       "    </tr>\n",
       "    <tr>\n",
       "      <th>3</th>\n",
       "      <td>Arkansas</td>\n",
       "      <td>1.00</td>\n",
       "      <td>19.3</td>\n",
       "    </tr>\n",
       "    <tr>\n",
       "      <th>4</th>\n",
       "      <td>California</td>\n",
       "      <td>0.23</td>\n",
       "      <td>22.6</td>\n",
       "    </tr>\n",
       "  </tbody>\n",
       "</table>\n",
       "</div>"
      ],
      "text/plain": [
       "        State  Participation  Composite\n",
       "0     Alabama           1.00       18.9\n",
       "1      Alaska           0.38       20.1\n",
       "2     Arizona           0.73       19.0\n",
       "3    Arkansas           1.00       19.3\n",
       "4  California           0.23       22.6"
      ]
     },
     "execution_count": 65,
     "metadata": {},
     "output_type": "execute_result"
    }
   ],
   "source": [
    "act2019_df.head()"
   ]
  },
  {
   "cell_type": "markdown",
   "metadata": {
    "jp-MarkdownHeadingCollapsed": true,
    "tags": []
   },
   "source": [
    "#### 5.0 Display Data Types, ACT 2019 DF\n",
    "\n",
    "I already did this above."
   ]
  },
  {
   "cell_type": "markdown",
   "metadata": {
    "jp-MarkdownHeadingCollapsed": true,
    "tags": []
   },
   "source": [
    "#### 6.0 Correct Data Types, ACT 2019 DF\n",
    "\n",
    "I already did this above."
   ]
  },
  {
   "cell_type": "markdown",
   "metadata": {
    "tags": []
   },
   "source": [
    "#### 7.0 Rename Columns, ACT 2019 DF"
   ]
  },
  {
   "cell_type": "code",
   "execution_count": 66,
   "metadata": {},
   "outputs": [],
   "source": [
    "act_col_dict = {\n",
    "    'State': 'state_or_territory',\n",
    "    'Participation': 'act_participation_rate',\n",
    "    'Composite': 'act_composite'\n",
    "}"
   ]
  },
  {
   "cell_type": "code",
   "execution_count": 67,
   "metadata": {},
   "outputs": [],
   "source": [
    "act2019_df.rename(columns = act_col_dict,\n",
    "                 inplace = True)"
   ]
  },
  {
   "cell_type": "code",
   "execution_count": 68,
   "metadata": {},
   "outputs": [
    {
     "data": {
      "text/html": [
       "<div>\n",
       "<style scoped>\n",
       "    .dataframe tbody tr th:only-of-type {\n",
       "        vertical-align: middle;\n",
       "    }\n",
       "\n",
       "    .dataframe tbody tr th {\n",
       "        vertical-align: top;\n",
       "    }\n",
       "\n",
       "    .dataframe thead th {\n",
       "        text-align: right;\n",
       "    }\n",
       "</style>\n",
       "<table border=\"1\" class=\"dataframe\">\n",
       "  <thead>\n",
       "    <tr style=\"text-align: right;\">\n",
       "      <th></th>\n",
       "      <th>state_or_territory</th>\n",
       "      <th>act_participation_rate</th>\n",
       "      <th>act_composite</th>\n",
       "    </tr>\n",
       "  </thead>\n",
       "  <tbody>\n",
       "    <tr>\n",
       "      <th>0</th>\n",
       "      <td>Alabama</td>\n",
       "      <td>1.00</td>\n",
       "      <td>18.9</td>\n",
       "    </tr>\n",
       "    <tr>\n",
       "      <th>1</th>\n",
       "      <td>Alaska</td>\n",
       "      <td>0.38</td>\n",
       "      <td>20.1</td>\n",
       "    </tr>\n",
       "    <tr>\n",
       "      <th>2</th>\n",
       "      <td>Arizona</td>\n",
       "      <td>0.73</td>\n",
       "      <td>19.0</td>\n",
       "    </tr>\n",
       "    <tr>\n",
       "      <th>3</th>\n",
       "      <td>Arkansas</td>\n",
       "      <td>1.00</td>\n",
       "      <td>19.3</td>\n",
       "    </tr>\n",
       "    <tr>\n",
       "      <th>4</th>\n",
       "      <td>California</td>\n",
       "      <td>0.23</td>\n",
       "      <td>22.6</td>\n",
       "    </tr>\n",
       "  </tbody>\n",
       "</table>\n",
       "</div>"
      ],
      "text/plain": [
       "  state_or_territory  act_participation_rate  act_composite\n",
       "0            Alabama                    1.00           18.9\n",
       "1             Alaska                    0.38           20.1\n",
       "2            Arizona                    0.73           19.0\n",
       "3           Arkansas                    1.00           19.3\n",
       "4         California                    0.23           22.6"
      ]
     },
     "execution_count": 68,
     "metadata": {},
     "output_type": "execute_result"
    }
   ],
   "source": [
    "act2019_df.head()"
   ]
  },
  {
   "cell_type": "markdown",
   "metadata": {
    "jp-MarkdownHeadingCollapsed": true,
    "tags": []
   },
   "source": [
    "#### 8.0 Drop Unnecessary Rows, ACT 2019 DF\n",
    "\n",
    "I waited to eliminate rows with incomplete data until after I merged the SAT and ACT tables"
   ]
  },
  {
   "cell_type": "markdown",
   "metadata": {
    "tags": []
   },
   "source": [
    "### SAT/ACT by College DF\n",
    "\n",
    "I'm using this to determine if there are any discrepancies between SAT and ACT scores once converted."
   ]
  },
  {
   "cell_type": "markdown",
   "metadata": {
    "tags": []
   },
   "source": [
    "#### 0.0 Importing Data Set, SAT/ACT by College DF"
   ]
  },
  {
   "cell_type": "code",
   "execution_count": 69,
   "metadata": {},
   "outputs": [],
   "source": [
    "raw_colleges_df = pd.read_csv('../data/sat_act_by_college.csv')\n",
    "\n",
    "colleges_df = raw_colleges_df.copy()"
   ]
  },
  {
   "cell_type": "markdown",
   "metadata": {
    "tags": []
   },
   "source": [
    "#### 1.0 Printing the head, SAT/ACT by College DF\n",
    "\n",
    "It turns out the section data is missing from this data NB: the 2017 ACT data has it, if a section level comparison becomes desireable."
   ]
  },
  {
   "cell_type": "code",
   "execution_count": 70,
   "metadata": {},
   "outputs": [
    {
     "data": {
      "text/html": [
       "<div>\n",
       "<style scoped>\n",
       "    .dataframe tbody tr th:only-of-type {\n",
       "        vertical-align: middle;\n",
       "    }\n",
       "\n",
       "    .dataframe tbody tr th {\n",
       "        vertical-align: top;\n",
       "    }\n",
       "\n",
       "    .dataframe thead th {\n",
       "        text-align: right;\n",
       "    }\n",
       "</style>\n",
       "<table border=\"1\" class=\"dataframe\">\n",
       "  <thead>\n",
       "    <tr style=\"text-align: right;\">\n",
       "      <th></th>\n",
       "      <th>School</th>\n",
       "      <th>Test Optional?</th>\n",
       "      <th>Applies to Class Year(s)</th>\n",
       "      <th>Policy Details</th>\n",
       "      <th>Number of Applicants</th>\n",
       "      <th>Accept Rate</th>\n",
       "      <th>SAT Total 25th-75th Percentile</th>\n",
       "      <th>ACT Total 25th-75th Percentile</th>\n",
       "    </tr>\n",
       "  </thead>\n",
       "  <tbody>\n",
       "    <tr>\n",
       "      <th>0</th>\n",
       "      <td>Stanford University</td>\n",
       "      <td>Yes</td>\n",
       "      <td>2021</td>\n",
       "      <td>Stanford has adopted a one-year test optional ...</td>\n",
       "      <td>47452</td>\n",
       "      <td>4.3%</td>\n",
       "      <td>1440-1570</td>\n",
       "      <td>32-35</td>\n",
       "    </tr>\n",
       "    <tr>\n",
       "      <th>1</th>\n",
       "      <td>Harvard College</td>\n",
       "      <td>Yes</td>\n",
       "      <td>2021</td>\n",
       "      <td>Harvard has adopted a one-year test optional p...</td>\n",
       "      <td>42749</td>\n",
       "      <td>4.7%</td>\n",
       "      <td>1460-1580</td>\n",
       "      <td>33-35</td>\n",
       "    </tr>\n",
       "    <tr>\n",
       "      <th>2</th>\n",
       "      <td>Princeton University</td>\n",
       "      <td>Yes</td>\n",
       "      <td>2021</td>\n",
       "      <td>Princeton has adopted a one-year test optional...</td>\n",
       "      <td>35370</td>\n",
       "      <td>5.5%</td>\n",
       "      <td>1440-1570</td>\n",
       "      <td>32-35</td>\n",
       "    </tr>\n",
       "    <tr>\n",
       "      <th>3</th>\n",
       "      <td>Columbia University</td>\n",
       "      <td>Yes</td>\n",
       "      <td>2021</td>\n",
       "      <td>Columbia has adopted a one-year test optional ...</td>\n",
       "      <td>40203</td>\n",
       "      <td>5.5%</td>\n",
       "      <td>1450-1560</td>\n",
       "      <td>33-35</td>\n",
       "    </tr>\n",
       "    <tr>\n",
       "      <th>4</th>\n",
       "      <td>Yale University</td>\n",
       "      <td>Yes</td>\n",
       "      <td>2021</td>\n",
       "      <td>Yale has adopted a one-year test optional poli...</td>\n",
       "      <td>36844</td>\n",
       "      <td>6.1%</td>\n",
       "      <td>1460-1570</td>\n",
       "      <td>33-35</td>\n",
       "    </tr>\n",
       "  </tbody>\n",
       "</table>\n",
       "</div>"
      ],
      "text/plain": [
       "                 School Test Optional? Applies to Class Year(s)  \\\n",
       "0   Stanford University            Yes                     2021   \n",
       "1       Harvard College            Yes                     2021   \n",
       "2  Princeton University            Yes                     2021   \n",
       "3   Columbia University            Yes                     2021   \n",
       "4       Yale University            Yes                     2021   \n",
       "\n",
       "                                      Policy Details  Number of Applicants  \\\n",
       "0  Stanford has adopted a one-year test optional ...                 47452   \n",
       "1  Harvard has adopted a one-year test optional p...                 42749   \n",
       "2  Princeton has adopted a one-year test optional...                 35370   \n",
       "3  Columbia has adopted a one-year test optional ...                 40203   \n",
       "4  Yale has adopted a one-year test optional poli...                 36844   \n",
       "\n",
       "  Accept Rate SAT Total 25th-75th Percentile ACT Total 25th-75th Percentile  \n",
       "0        4.3%                      1440-1570                          32-35  \n",
       "1        4.7%                      1460-1580                          33-35  \n",
       "2        5.5%                      1440-1570                          32-35  \n",
       "3        5.5%                      1450-1560                          33-35  \n",
       "4        6.1%                      1460-1570                          33-35  "
      ]
     },
     "execution_count": 70,
     "metadata": {},
     "output_type": "execute_result"
    }
   ],
   "source": [
    "colleges_df.head()"
   ]
  },
  {
   "cell_type": "markdown",
   "metadata": {
    "tags": []
   },
   "source": [
    "#### 2.0 Checking for Nulls, SAT/ACT by College DF\n",
    "\n",
    "There are some nulls for \"Applies to Class Year(s)\". Since I'm not interested in this, I'm going to delete that column."
   ]
  },
  {
   "cell_type": "code",
   "execution_count": 71,
   "metadata": {},
   "outputs": [
    {
     "data": {
      "text/plain": [
       "School                             0\n",
       "Test Optional?                     0\n",
       "Applies to Class Year(s)          26\n",
       "Policy Details                     0\n",
       "Number of Applicants               0\n",
       "Accept Rate                        0\n",
       "SAT Total 25th-75th Percentile     0\n",
       "ACT Total 25th-75th Percentile     0\n",
       "dtype: int64"
      ]
     },
     "execution_count": 71,
     "metadata": {},
     "output_type": "execute_result"
    }
   ],
   "source": [
    "colleges_df.isnull().sum()"
   ]
  },
  {
   "cell_type": "markdown",
   "metadata": {
    "tags": []
   },
   "source": [
    "#### 3.0 Looking for Obvious Errors in the Data, SAT/ACT by College DF\n",
    "\n",
    ".dytpes confirms that the 25th-75th Percentile will need to be cleaned to a form that's usable.\n",
    "\n",
    ".describe() showed a school with ~111k applicants. I checked, and that's UCLA. Further investigaction suggests that the current figure is actually a lot higher (https://newsroom.ucla.edu/releases/increase-in-top-california-applicants-for-fall-2022)."
   ]
  },
  {
   "cell_type": "code",
   "execution_count": 72,
   "metadata": {},
   "outputs": [
    {
     "data": {
      "text/plain": [
       "School                            object\n",
       "Test Optional?                    object\n",
       "Applies to Class Year(s)          object\n",
       "Policy Details                    object\n",
       "Number of Applicants               int64\n",
       "Accept Rate                       object\n",
       "SAT Total 25th-75th Percentile    object\n",
       "ACT Total 25th-75th Percentile    object\n",
       "dtype: object"
      ]
     },
     "execution_count": 72,
     "metadata": {},
     "output_type": "execute_result"
    }
   ],
   "source": [
    "colleges_df.dtypes"
   ]
  },
  {
   "cell_type": "code",
   "execution_count": 73,
   "metadata": {},
   "outputs": [
    {
     "data": {
      "text/html": [
       "<div>\n",
       "<style scoped>\n",
       "    .dataframe tbody tr th:only-of-type {\n",
       "        vertical-align: middle;\n",
       "    }\n",
       "\n",
       "    .dataframe tbody tr th {\n",
       "        vertical-align: top;\n",
       "    }\n",
       "\n",
       "    .dataframe thead th {\n",
       "        text-align: right;\n",
       "    }\n",
       "</style>\n",
       "<table border=\"1\" class=\"dataframe\">\n",
       "  <thead>\n",
       "    <tr style=\"text-align: right;\">\n",
       "      <th></th>\n",
       "      <th>Number of Applicants</th>\n",
       "    </tr>\n",
       "  </thead>\n",
       "  <tbody>\n",
       "    <tr>\n",
       "      <th>count</th>\n",
       "      <td>416.000000</td>\n",
       "    </tr>\n",
       "    <tr>\n",
       "      <th>mean</th>\n",
       "      <td>17481.759615</td>\n",
       "    </tr>\n",
       "    <tr>\n",
       "      <th>std</th>\n",
       "      <td>17447.621897</td>\n",
       "    </tr>\n",
       "    <tr>\n",
       "      <th>min</th>\n",
       "      <td>211.000000</td>\n",
       "    </tr>\n",
       "    <tr>\n",
       "      <th>25%</th>\n",
       "      <td>5313.000000</td>\n",
       "    </tr>\n",
       "    <tr>\n",
       "      <th>50%</th>\n",
       "      <td>11622.000000</td>\n",
       "    </tr>\n",
       "    <tr>\n",
       "      <th>75%</th>\n",
       "      <td>23599.750000</td>\n",
       "    </tr>\n",
       "    <tr>\n",
       "      <th>max</th>\n",
       "      <td>111322.000000</td>\n",
       "    </tr>\n",
       "  </tbody>\n",
       "</table>\n",
       "</div>"
      ],
      "text/plain": [
       "       Number of Applicants\n",
       "count            416.000000\n",
       "mean           17481.759615\n",
       "std            17447.621897\n",
       "min              211.000000\n",
       "25%             5313.000000\n",
       "50%            11622.000000\n",
       "75%            23599.750000\n",
       "max           111322.000000"
      ]
     },
     "execution_count": 73,
     "metadata": {},
     "output_type": "execute_result"
    }
   ],
   "source": [
    "colleges_df.describe()"
   ]
  },
  {
   "cell_type": "code",
   "execution_count": 74,
   "metadata": {},
   "outputs": [
    {
     "data": {
      "text/html": [
       "<div>\n",
       "<style scoped>\n",
       "    .dataframe tbody tr th:only-of-type {\n",
       "        vertical-align: middle;\n",
       "    }\n",
       "\n",
       "    .dataframe tbody tr th {\n",
       "        vertical-align: top;\n",
       "    }\n",
       "\n",
       "    .dataframe thead th {\n",
       "        text-align: right;\n",
       "    }\n",
       "</style>\n",
       "<table border=\"1\" class=\"dataframe\">\n",
       "  <thead>\n",
       "    <tr style=\"text-align: right;\">\n",
       "      <th></th>\n",
       "      <th>School</th>\n",
       "      <th>Test Optional?</th>\n",
       "      <th>Applies to Class Year(s)</th>\n",
       "      <th>Policy Details</th>\n",
       "      <th>Number of Applicants</th>\n",
       "      <th>Accept Rate</th>\n",
       "      <th>SAT Total 25th-75th Percentile</th>\n",
       "      <th>ACT Total 25th-75th Percentile</th>\n",
       "    </tr>\n",
       "  </thead>\n",
       "  <tbody>\n",
       "    <tr>\n",
       "      <th>24</th>\n",
       "      <td>University of California—​Los Angeles</td>\n",
       "      <td>Yes</td>\n",
       "      <td>2021 2022 2023 2024</td>\n",
       "      <td>The UC system has adopted a two-year test opti...</td>\n",
       "      <td>111322</td>\n",
       "      <td>12.3%</td>\n",
       "      <td>1290-1510</td>\n",
       "      <td>27-34</td>\n",
       "    </tr>\n",
       "  </tbody>\n",
       "</table>\n",
       "</div>"
      ],
      "text/plain": [
       "                                   School Test Optional?  \\\n",
       "24  University of California—​Los Angeles            Yes   \n",
       "\n",
       "   Applies to Class Year(s)  \\\n",
       "24      2021 2022 2023 2024   \n",
       "\n",
       "                                       Policy Details  Number of Applicants  \\\n",
       "24  The UC system has adopted a two-year test opti...                111322   \n",
       "\n",
       "   Accept Rate SAT Total 25th-75th Percentile ACT Total 25th-75th Percentile  \n",
       "24       12.3%                      1290-1510                          27-34  "
      ]
     },
     "execution_count": 74,
     "metadata": {},
     "output_type": "execute_result"
    }
   ],
   "source": [
    "colleges_df[colleges_df['Number of Applicants'] == 111322]"
   ]
  },
  {
   "cell_type": "markdown",
   "metadata": {
    "jp-MarkdownHeadingCollapsed": true,
    "tags": []
   },
   "source": [
    "#### 4.0 Fix Errors, SAT/ACT by College DF\n",
    "\n",
    "No errors discerned."
   ]
  },
  {
   "cell_type": "markdown",
   "metadata": {
    "tags": []
   },
   "source": [
    "#### 5.0 Display Data Types, SAT/ACT by College DF\n",
    "\n",
    "I already did this above."
   ]
  },
  {
   "cell_type": "markdown",
   "metadata": {
    "tags": []
   },
   "source": [
    "#### 6.0 Correct Data Types, SAT/ACT by College DF\n",
    "\n",
    "This website helped me turn the ranges of percentiles into separate columns after I'd made lists out of them.\n",
    "\n",
    "https://datascienceparichay.com/article/split-pandas-column-of-lists-into-multiple-columns/\n",
    "\n",
    "split_df = pd.DataFrame(df['Values'].tolist(), columns=['v1', 'v2', 'v3'])\n",
    "\n",
    "and\n",
    "\n",
    "df = pd.concat([df, split_df], axis=1)"
   ]
  },
  {
   "cell_type": "code",
   "execution_count": 75,
   "metadata": {},
   "outputs": [
    {
     "data": {
      "text/html": [
       "<div>\n",
       "<style scoped>\n",
       "    .dataframe tbody tr th:only-of-type {\n",
       "        vertical-align: middle;\n",
       "    }\n",
       "\n",
       "    .dataframe tbody tr th {\n",
       "        vertical-align: top;\n",
       "    }\n",
       "\n",
       "    .dataframe thead th {\n",
       "        text-align: right;\n",
       "    }\n",
       "</style>\n",
       "<table border=\"1\" class=\"dataframe\">\n",
       "  <thead>\n",
       "    <tr style=\"text-align: right;\">\n",
       "      <th></th>\n",
       "      <th>School</th>\n",
       "      <th>Test Optional?</th>\n",
       "      <th>Applies to Class Year(s)</th>\n",
       "      <th>Policy Details</th>\n",
       "      <th>Number of Applicants</th>\n",
       "      <th>Accept Rate</th>\n",
       "      <th>SAT Total 25th-75th Percentile</th>\n",
       "      <th>ACT Total 25th-75th Percentile</th>\n",
       "    </tr>\n",
       "  </thead>\n",
       "  <tbody>\n",
       "    <tr>\n",
       "      <th>0</th>\n",
       "      <td>Stanford University</td>\n",
       "      <td>Yes</td>\n",
       "      <td>2021</td>\n",
       "      <td>Stanford has adopted a one-year test optional ...</td>\n",
       "      <td>47452</td>\n",
       "      <td>4.3%</td>\n",
       "      <td>1440-1570</td>\n",
       "      <td>32-35</td>\n",
       "    </tr>\n",
       "    <tr>\n",
       "      <th>1</th>\n",
       "      <td>Harvard College</td>\n",
       "      <td>Yes</td>\n",
       "      <td>2021</td>\n",
       "      <td>Harvard has adopted a one-year test optional p...</td>\n",
       "      <td>42749</td>\n",
       "      <td>4.7%</td>\n",
       "      <td>1460-1580</td>\n",
       "      <td>33-35</td>\n",
       "    </tr>\n",
       "  </tbody>\n",
       "</table>\n",
       "</div>"
      ],
      "text/plain": [
       "                School Test Optional? Applies to Class Year(s)  \\\n",
       "0  Stanford University            Yes                     2021   \n",
       "1      Harvard College            Yes                     2021   \n",
       "\n",
       "                                      Policy Details  Number of Applicants  \\\n",
       "0  Stanford has adopted a one-year test optional ...                 47452   \n",
       "1  Harvard has adopted a one-year test optional p...                 42749   \n",
       "\n",
       "  Accept Rate SAT Total 25th-75th Percentile ACT Total 25th-75th Percentile  \n",
       "0        4.3%                      1440-1570                          32-35  \n",
       "1        4.7%                      1460-1580                          33-35  "
      ]
     },
     "execution_count": 75,
     "metadata": {},
     "output_type": "execute_result"
    }
   ],
   "source": [
    "colleges_df.head(2)"
   ]
  },
  {
   "cell_type": "code",
   "execution_count": 76,
   "metadata": {},
   "outputs": [
    {
     "data": {
      "text/plain": [
       "0    [1440, 1570]\n",
       "Name: SAT Total 25th-75th Percentile, dtype: object"
      ]
     },
     "execution_count": 76,
     "metadata": {},
     "output_type": "execute_result"
    }
   ],
   "source": [
    "colleges_df.loc[colleges_df['School'] == 'Stanford University']['SAT Total 25th-75th Percentile'].str.split('-')"
   ]
  },
  {
   "cell_type": "code",
   "execution_count": 77,
   "metadata": {
    "tags": []
   },
   "outputs": [
    {
     "data": {
      "text/plain": [
       "0    [1440, 1570]\n",
       "1    [1460, 1580]\n",
       "2    [1440, 1570]\n",
       "3    [1450, 1560]\n",
       "4    [1460, 1570]\n",
       "Name: SAT Total 25th-75th Percentile, dtype: object"
      ]
     },
     "execution_count": 77,
     "metadata": {},
     "output_type": "execute_result"
    }
   ],
   "source": [
    "colleges_df['SAT Total 25th-75th Percentile'].str.split('-').head()"
   ]
  },
  {
   "cell_type": "code",
   "execution_count": 78,
   "metadata": {},
   "outputs": [],
   "source": [
    "colleges_df['sat_25_75_list'] = colleges_df['SAT Total 25th-75th Percentile'].str.split('-')"
   ]
  },
  {
   "cell_type": "code",
   "execution_count": 79,
   "metadata": {},
   "outputs": [
    {
     "data": {
      "text/html": [
       "<div>\n",
       "<style scoped>\n",
       "    .dataframe tbody tr th:only-of-type {\n",
       "        vertical-align: middle;\n",
       "    }\n",
       "\n",
       "    .dataframe tbody tr th {\n",
       "        vertical-align: top;\n",
       "    }\n",
       "\n",
       "    .dataframe thead th {\n",
       "        text-align: right;\n",
       "    }\n",
       "</style>\n",
       "<table border=\"1\" class=\"dataframe\">\n",
       "  <thead>\n",
       "    <tr style=\"text-align: right;\">\n",
       "      <th></th>\n",
       "      <th>School</th>\n",
       "      <th>Test Optional?</th>\n",
       "      <th>Applies to Class Year(s)</th>\n",
       "      <th>Policy Details</th>\n",
       "      <th>Number of Applicants</th>\n",
       "      <th>Accept Rate</th>\n",
       "      <th>SAT Total 25th-75th Percentile</th>\n",
       "      <th>ACT Total 25th-75th Percentile</th>\n",
       "      <th>sat_25_75_list</th>\n",
       "    </tr>\n",
       "  </thead>\n",
       "  <tbody>\n",
       "    <tr>\n",
       "      <th>0</th>\n",
       "      <td>Stanford University</td>\n",
       "      <td>Yes</td>\n",
       "      <td>2021</td>\n",
       "      <td>Stanford has adopted a one-year test optional ...</td>\n",
       "      <td>47452</td>\n",
       "      <td>4.3%</td>\n",
       "      <td>1440-1570</td>\n",
       "      <td>32-35</td>\n",
       "      <td>[1440, 1570]</td>\n",
       "    </tr>\n",
       "    <tr>\n",
       "      <th>1</th>\n",
       "      <td>Harvard College</td>\n",
       "      <td>Yes</td>\n",
       "      <td>2021</td>\n",
       "      <td>Harvard has adopted a one-year test optional p...</td>\n",
       "      <td>42749</td>\n",
       "      <td>4.7%</td>\n",
       "      <td>1460-1580</td>\n",
       "      <td>33-35</td>\n",
       "      <td>[1460, 1580]</td>\n",
       "    </tr>\n",
       "    <tr>\n",
       "      <th>2</th>\n",
       "      <td>Princeton University</td>\n",
       "      <td>Yes</td>\n",
       "      <td>2021</td>\n",
       "      <td>Princeton has adopted a one-year test optional...</td>\n",
       "      <td>35370</td>\n",
       "      <td>5.5%</td>\n",
       "      <td>1440-1570</td>\n",
       "      <td>32-35</td>\n",
       "      <td>[1440, 1570]</td>\n",
       "    </tr>\n",
       "    <tr>\n",
       "      <th>3</th>\n",
       "      <td>Columbia University</td>\n",
       "      <td>Yes</td>\n",
       "      <td>2021</td>\n",
       "      <td>Columbia has adopted a one-year test optional ...</td>\n",
       "      <td>40203</td>\n",
       "      <td>5.5%</td>\n",
       "      <td>1450-1560</td>\n",
       "      <td>33-35</td>\n",
       "      <td>[1450, 1560]</td>\n",
       "    </tr>\n",
       "    <tr>\n",
       "      <th>4</th>\n",
       "      <td>Yale University</td>\n",
       "      <td>Yes</td>\n",
       "      <td>2021</td>\n",
       "      <td>Yale has adopted a one-year test optional poli...</td>\n",
       "      <td>36844</td>\n",
       "      <td>6.1%</td>\n",
       "      <td>1460-1570</td>\n",
       "      <td>33-35</td>\n",
       "      <td>[1460, 1570]</td>\n",
       "    </tr>\n",
       "  </tbody>\n",
       "</table>\n",
       "</div>"
      ],
      "text/plain": [
       "                 School Test Optional? Applies to Class Year(s)  \\\n",
       "0   Stanford University            Yes                     2021   \n",
       "1       Harvard College            Yes                     2021   \n",
       "2  Princeton University            Yes                     2021   \n",
       "3   Columbia University            Yes                     2021   \n",
       "4       Yale University            Yes                     2021   \n",
       "\n",
       "                                      Policy Details  Number of Applicants  \\\n",
       "0  Stanford has adopted a one-year test optional ...                 47452   \n",
       "1  Harvard has adopted a one-year test optional p...                 42749   \n",
       "2  Princeton has adopted a one-year test optional...                 35370   \n",
       "3  Columbia has adopted a one-year test optional ...                 40203   \n",
       "4  Yale has adopted a one-year test optional poli...                 36844   \n",
       "\n",
       "  Accept Rate SAT Total 25th-75th Percentile ACT Total 25th-75th Percentile  \\\n",
       "0        4.3%                      1440-1570                          32-35   \n",
       "1        4.7%                      1460-1580                          33-35   \n",
       "2        5.5%                      1440-1570                          32-35   \n",
       "3        5.5%                      1450-1560                          33-35   \n",
       "4        6.1%                      1460-1570                          33-35   \n",
       "\n",
       "  sat_25_75_list  \n",
       "0   [1440, 1570]  \n",
       "1   [1460, 1580]  \n",
       "2   [1440, 1570]  \n",
       "3   [1450, 1560]  \n",
       "4   [1460, 1570]  "
      ]
     },
     "execution_count": 79,
     "metadata": {},
     "output_type": "execute_result"
    }
   ],
   "source": [
    "colleges_df.head()"
   ]
  },
  {
   "cell_type": "code",
   "execution_count": 80,
   "metadata": {},
   "outputs": [],
   "source": [
    "split_sat_25_75 = pd.DataFrame(colleges_df['sat_25_75_list'].tolist())"
   ]
  },
  {
   "cell_type": "code",
   "execution_count": 81,
   "metadata": {},
   "outputs": [
    {
     "data": {
      "text/html": [
       "<div>\n",
       "<style scoped>\n",
       "    .dataframe tbody tr th:only-of-type {\n",
       "        vertical-align: middle;\n",
       "    }\n",
       "\n",
       "    .dataframe tbody tr th {\n",
       "        vertical-align: top;\n",
       "    }\n",
       "\n",
       "    .dataframe thead th {\n",
       "        text-align: right;\n",
       "    }\n",
       "</style>\n",
       "<table border=\"1\" class=\"dataframe\">\n",
       "  <thead>\n",
       "    <tr style=\"text-align: right;\">\n",
       "      <th></th>\n",
       "      <th>0</th>\n",
       "      <th>1</th>\n",
       "      <th>2</th>\n",
       "    </tr>\n",
       "  </thead>\n",
       "  <tbody>\n",
       "    <tr>\n",
       "      <th>0</th>\n",
       "      <td>1440</td>\n",
       "      <td>1570</td>\n",
       "      <td>None</td>\n",
       "    </tr>\n",
       "    <tr>\n",
       "      <th>1</th>\n",
       "      <td>1460</td>\n",
       "      <td>1580</td>\n",
       "      <td>None</td>\n",
       "    </tr>\n",
       "    <tr>\n",
       "      <th>2</th>\n",
       "      <td>1440</td>\n",
       "      <td>1570</td>\n",
       "      <td>None</td>\n",
       "    </tr>\n",
       "    <tr>\n",
       "      <th>3</th>\n",
       "      <td>1450</td>\n",
       "      <td>1560</td>\n",
       "      <td>None</td>\n",
       "    </tr>\n",
       "    <tr>\n",
       "      <th>4</th>\n",
       "      <td>1460</td>\n",
       "      <td>1570</td>\n",
       "      <td>None</td>\n",
       "    </tr>\n",
       "  </tbody>\n",
       "</table>\n",
       "</div>"
      ],
      "text/plain": [
       "      0     1     2\n",
       "0  1440  1570  None\n",
       "1  1460  1580  None\n",
       "2  1440  1570  None\n",
       "3  1450  1560  None\n",
       "4  1460  1570  None"
      ]
     },
     "execution_count": 81,
     "metadata": {},
     "output_type": "execute_result"
    }
   ],
   "source": [
    "split_sat_25_75.head()"
   ]
  },
  {
   "cell_type": "code",
   "execution_count": 82,
   "metadata": {},
   "outputs": [],
   "source": [
    "split_sat_25_75.drop(2, axis = 1, inplace = True)"
   ]
  },
  {
   "cell_type": "code",
   "execution_count": 83,
   "metadata": {},
   "outputs": [
    {
     "data": {
      "text/html": [
       "<div>\n",
       "<style scoped>\n",
       "    .dataframe tbody tr th:only-of-type {\n",
       "        vertical-align: middle;\n",
       "    }\n",
       "\n",
       "    .dataframe tbody tr th {\n",
       "        vertical-align: top;\n",
       "    }\n",
       "\n",
       "    .dataframe thead th {\n",
       "        text-align: right;\n",
       "    }\n",
       "</style>\n",
       "<table border=\"1\" class=\"dataframe\">\n",
       "  <thead>\n",
       "    <tr style=\"text-align: right;\">\n",
       "      <th></th>\n",
       "      <th>0</th>\n",
       "      <th>1</th>\n",
       "    </tr>\n",
       "  </thead>\n",
       "  <tbody>\n",
       "    <tr>\n",
       "      <th>0</th>\n",
       "      <td>1440</td>\n",
       "      <td>1570</td>\n",
       "    </tr>\n",
       "    <tr>\n",
       "      <th>1</th>\n",
       "      <td>1460</td>\n",
       "      <td>1580</td>\n",
       "    </tr>\n",
       "    <tr>\n",
       "      <th>2</th>\n",
       "      <td>1440</td>\n",
       "      <td>1570</td>\n",
       "    </tr>\n",
       "    <tr>\n",
       "      <th>3</th>\n",
       "      <td>1450</td>\n",
       "      <td>1560</td>\n",
       "    </tr>\n",
       "    <tr>\n",
       "      <th>4</th>\n",
       "      <td>1460</td>\n",
       "      <td>1570</td>\n",
       "    </tr>\n",
       "  </tbody>\n",
       "</table>\n",
       "</div>"
      ],
      "text/plain": [
       "      0     1\n",
       "0  1440  1570\n",
       "1  1460  1580\n",
       "2  1440  1570\n",
       "3  1450  1560\n",
       "4  1460  1570"
      ]
     },
     "execution_count": 83,
     "metadata": {},
     "output_type": "execute_result"
    }
   ],
   "source": [
    "split_sat_25_75.head()"
   ]
  },
  {
   "cell_type": "code",
   "execution_count": 84,
   "metadata": {},
   "outputs": [],
   "source": [
    "split_sat_25_75.columns = ['sat_tot_25th_percentile', 'sat_tot_75th_percentile']"
   ]
  },
  {
   "cell_type": "code",
   "execution_count": 85,
   "metadata": {},
   "outputs": [
    {
     "data": {
      "text/html": [
       "<div>\n",
       "<style scoped>\n",
       "    .dataframe tbody tr th:only-of-type {\n",
       "        vertical-align: middle;\n",
       "    }\n",
       "\n",
       "    .dataframe tbody tr th {\n",
       "        vertical-align: top;\n",
       "    }\n",
       "\n",
       "    .dataframe thead th {\n",
       "        text-align: right;\n",
       "    }\n",
       "</style>\n",
       "<table border=\"1\" class=\"dataframe\">\n",
       "  <thead>\n",
       "    <tr style=\"text-align: right;\">\n",
       "      <th></th>\n",
       "      <th>sat_tot_25th_percentile</th>\n",
       "      <th>sat_tot_75th_percentile</th>\n",
       "    </tr>\n",
       "  </thead>\n",
       "  <tbody>\n",
       "    <tr>\n",
       "      <th>0</th>\n",
       "      <td>1440</td>\n",
       "      <td>1570</td>\n",
       "    </tr>\n",
       "    <tr>\n",
       "      <th>1</th>\n",
       "      <td>1460</td>\n",
       "      <td>1580</td>\n",
       "    </tr>\n",
       "    <tr>\n",
       "      <th>2</th>\n",
       "      <td>1440</td>\n",
       "      <td>1570</td>\n",
       "    </tr>\n",
       "    <tr>\n",
       "      <th>3</th>\n",
       "      <td>1450</td>\n",
       "      <td>1560</td>\n",
       "    </tr>\n",
       "    <tr>\n",
       "      <th>4</th>\n",
       "      <td>1460</td>\n",
       "      <td>1570</td>\n",
       "    </tr>\n",
       "  </tbody>\n",
       "</table>\n",
       "</div>"
      ],
      "text/plain": [
       "  sat_tot_25th_percentile sat_tot_75th_percentile\n",
       "0                    1440                    1570\n",
       "1                    1460                    1580\n",
       "2                    1440                    1570\n",
       "3                    1450                    1560\n",
       "4                    1460                    1570"
      ]
     },
     "execution_count": 85,
     "metadata": {},
     "output_type": "execute_result"
    }
   ],
   "source": [
    "split_sat_25_75.head()"
   ]
  },
  {
   "cell_type": "code",
   "execution_count": 86,
   "metadata": {},
   "outputs": [
    {
     "data": {
      "text/plain": [
       "sat_tot_25th_percentile    object\n",
       "sat_tot_75th_percentile    object\n",
       "dtype: object"
      ]
     },
     "execution_count": 86,
     "metadata": {},
     "output_type": "execute_result"
    }
   ],
   "source": [
    "split_sat_25_75.dtypes"
   ]
  },
  {
   "cell_type": "code",
   "execution_count": 87,
   "metadata": {},
   "outputs": [
    {
     "data": {
      "text/html": [
       "<div>\n",
       "<style scoped>\n",
       "    .dataframe tbody tr th:only-of-type {\n",
       "        vertical-align: middle;\n",
       "    }\n",
       "\n",
       "    .dataframe tbody tr th {\n",
       "        vertical-align: top;\n",
       "    }\n",
       "\n",
       "    .dataframe thead th {\n",
       "        text-align: right;\n",
       "    }\n",
       "</style>\n",
       "<table border=\"1\" class=\"dataframe\">\n",
       "  <thead>\n",
       "    <tr style=\"text-align: right;\">\n",
       "      <th></th>\n",
       "      <th>School</th>\n",
       "      <th>Test Optional?</th>\n",
       "      <th>Applies to Class Year(s)</th>\n",
       "      <th>Policy Details</th>\n",
       "      <th>Number of Applicants</th>\n",
       "      <th>Accept Rate</th>\n",
       "      <th>SAT Total 25th-75th Percentile</th>\n",
       "      <th>ACT Total 25th-75th Percentile</th>\n",
       "      <th>sat_25_75_list</th>\n",
       "    </tr>\n",
       "  </thead>\n",
       "  <tbody>\n",
       "    <tr>\n",
       "      <th>0</th>\n",
       "      <td>Stanford University</td>\n",
       "      <td>Yes</td>\n",
       "      <td>2021</td>\n",
       "      <td>Stanford has adopted a one-year test optional ...</td>\n",
       "      <td>47452</td>\n",
       "      <td>4.3%</td>\n",
       "      <td>1440-1570</td>\n",
       "      <td>32-35</td>\n",
       "      <td>[1440, 1570]</td>\n",
       "    </tr>\n",
       "    <tr>\n",
       "      <th>1</th>\n",
       "      <td>Harvard College</td>\n",
       "      <td>Yes</td>\n",
       "      <td>2021</td>\n",
       "      <td>Harvard has adopted a one-year test optional p...</td>\n",
       "      <td>42749</td>\n",
       "      <td>4.7%</td>\n",
       "      <td>1460-1580</td>\n",
       "      <td>33-35</td>\n",
       "      <td>[1460, 1580]</td>\n",
       "    </tr>\n",
       "    <tr>\n",
       "      <th>2</th>\n",
       "      <td>Princeton University</td>\n",
       "      <td>Yes</td>\n",
       "      <td>2021</td>\n",
       "      <td>Princeton has adopted a one-year test optional...</td>\n",
       "      <td>35370</td>\n",
       "      <td>5.5%</td>\n",
       "      <td>1440-1570</td>\n",
       "      <td>32-35</td>\n",
       "      <td>[1440, 1570]</td>\n",
       "    </tr>\n",
       "    <tr>\n",
       "      <th>3</th>\n",
       "      <td>Columbia University</td>\n",
       "      <td>Yes</td>\n",
       "      <td>2021</td>\n",
       "      <td>Columbia has adopted a one-year test optional ...</td>\n",
       "      <td>40203</td>\n",
       "      <td>5.5%</td>\n",
       "      <td>1450-1560</td>\n",
       "      <td>33-35</td>\n",
       "      <td>[1450, 1560]</td>\n",
       "    </tr>\n",
       "    <tr>\n",
       "      <th>4</th>\n",
       "      <td>Yale University</td>\n",
       "      <td>Yes</td>\n",
       "      <td>2021</td>\n",
       "      <td>Yale has adopted a one-year test optional poli...</td>\n",
       "      <td>36844</td>\n",
       "      <td>6.1%</td>\n",
       "      <td>1460-1570</td>\n",
       "      <td>33-35</td>\n",
       "      <td>[1460, 1570]</td>\n",
       "    </tr>\n",
       "  </tbody>\n",
       "</table>\n",
       "</div>"
      ],
      "text/plain": [
       "                 School Test Optional? Applies to Class Year(s)  \\\n",
       "0   Stanford University            Yes                     2021   \n",
       "1       Harvard College            Yes                     2021   \n",
       "2  Princeton University            Yes                     2021   \n",
       "3   Columbia University            Yes                     2021   \n",
       "4       Yale University            Yes                     2021   \n",
       "\n",
       "                                      Policy Details  Number of Applicants  \\\n",
       "0  Stanford has adopted a one-year test optional ...                 47452   \n",
       "1  Harvard has adopted a one-year test optional p...                 42749   \n",
       "2  Princeton has adopted a one-year test optional...                 35370   \n",
       "3  Columbia has adopted a one-year test optional ...                 40203   \n",
       "4  Yale has adopted a one-year test optional poli...                 36844   \n",
       "\n",
       "  Accept Rate SAT Total 25th-75th Percentile ACT Total 25th-75th Percentile  \\\n",
       "0        4.3%                      1440-1570                          32-35   \n",
       "1        4.7%                      1460-1580                          33-35   \n",
       "2        5.5%                      1440-1570                          32-35   \n",
       "3        5.5%                      1450-1560                          33-35   \n",
       "4        6.1%                      1460-1570                          33-35   \n",
       "\n",
       "  sat_25_75_list  \n",
       "0   [1440, 1570]  \n",
       "1   [1460, 1580]  \n",
       "2   [1440, 1570]  \n",
       "3   [1450, 1560]  \n",
       "4   [1460, 1570]  "
      ]
     },
     "execution_count": 87,
     "metadata": {},
     "output_type": "execute_result"
    }
   ],
   "source": [
    "colleges_df.head()"
   ]
  },
  {
   "cell_type": "code",
   "execution_count": 88,
   "metadata": {
    "tags": []
   },
   "outputs": [],
   "source": [
    "colleges_df = pd.concat([colleges_df, split_sat_25_75], axis=1)"
   ]
  },
  {
   "cell_type": "code",
   "execution_count": 89,
   "metadata": {},
   "outputs": [
    {
     "data": {
      "text/html": [
       "<div>\n",
       "<style scoped>\n",
       "    .dataframe tbody tr th:only-of-type {\n",
       "        vertical-align: middle;\n",
       "    }\n",
       "\n",
       "    .dataframe tbody tr th {\n",
       "        vertical-align: top;\n",
       "    }\n",
       "\n",
       "    .dataframe thead th {\n",
       "        text-align: right;\n",
       "    }\n",
       "</style>\n",
       "<table border=\"1\" class=\"dataframe\">\n",
       "  <thead>\n",
       "    <tr style=\"text-align: right;\">\n",
       "      <th></th>\n",
       "      <th>School</th>\n",
       "      <th>Test Optional?</th>\n",
       "      <th>Applies to Class Year(s)</th>\n",
       "      <th>Policy Details</th>\n",
       "      <th>Number of Applicants</th>\n",
       "      <th>Accept Rate</th>\n",
       "      <th>SAT Total 25th-75th Percentile</th>\n",
       "      <th>ACT Total 25th-75th Percentile</th>\n",
       "      <th>sat_25_75_list</th>\n",
       "      <th>sat_tot_25th_percentile</th>\n",
       "      <th>sat_tot_75th_percentile</th>\n",
       "    </tr>\n",
       "  </thead>\n",
       "  <tbody>\n",
       "    <tr>\n",
       "      <th>0</th>\n",
       "      <td>Stanford University</td>\n",
       "      <td>Yes</td>\n",
       "      <td>2021</td>\n",
       "      <td>Stanford has adopted a one-year test optional ...</td>\n",
       "      <td>47452</td>\n",
       "      <td>4.3%</td>\n",
       "      <td>1440-1570</td>\n",
       "      <td>32-35</td>\n",
       "      <td>[1440, 1570]</td>\n",
       "      <td>1440</td>\n",
       "      <td>1570</td>\n",
       "    </tr>\n",
       "    <tr>\n",
       "      <th>1</th>\n",
       "      <td>Harvard College</td>\n",
       "      <td>Yes</td>\n",
       "      <td>2021</td>\n",
       "      <td>Harvard has adopted a one-year test optional p...</td>\n",
       "      <td>42749</td>\n",
       "      <td>4.7%</td>\n",
       "      <td>1460-1580</td>\n",
       "      <td>33-35</td>\n",
       "      <td>[1460, 1580]</td>\n",
       "      <td>1460</td>\n",
       "      <td>1580</td>\n",
       "    </tr>\n",
       "    <tr>\n",
       "      <th>2</th>\n",
       "      <td>Princeton University</td>\n",
       "      <td>Yes</td>\n",
       "      <td>2021</td>\n",
       "      <td>Princeton has adopted a one-year test optional...</td>\n",
       "      <td>35370</td>\n",
       "      <td>5.5%</td>\n",
       "      <td>1440-1570</td>\n",
       "      <td>32-35</td>\n",
       "      <td>[1440, 1570]</td>\n",
       "      <td>1440</td>\n",
       "      <td>1570</td>\n",
       "    </tr>\n",
       "    <tr>\n",
       "      <th>3</th>\n",
       "      <td>Columbia University</td>\n",
       "      <td>Yes</td>\n",
       "      <td>2021</td>\n",
       "      <td>Columbia has adopted a one-year test optional ...</td>\n",
       "      <td>40203</td>\n",
       "      <td>5.5%</td>\n",
       "      <td>1450-1560</td>\n",
       "      <td>33-35</td>\n",
       "      <td>[1450, 1560]</td>\n",
       "      <td>1450</td>\n",
       "      <td>1560</td>\n",
       "    </tr>\n",
       "    <tr>\n",
       "      <th>4</th>\n",
       "      <td>Yale University</td>\n",
       "      <td>Yes</td>\n",
       "      <td>2021</td>\n",
       "      <td>Yale has adopted a one-year test optional poli...</td>\n",
       "      <td>36844</td>\n",
       "      <td>6.1%</td>\n",
       "      <td>1460-1570</td>\n",
       "      <td>33-35</td>\n",
       "      <td>[1460, 1570]</td>\n",
       "      <td>1460</td>\n",
       "      <td>1570</td>\n",
       "    </tr>\n",
       "  </tbody>\n",
       "</table>\n",
       "</div>"
      ],
      "text/plain": [
       "                 School Test Optional? Applies to Class Year(s)  \\\n",
       "0   Stanford University            Yes                     2021   \n",
       "1       Harvard College            Yes                     2021   \n",
       "2  Princeton University            Yes                     2021   \n",
       "3   Columbia University            Yes                     2021   \n",
       "4       Yale University            Yes                     2021   \n",
       "\n",
       "                                      Policy Details  Number of Applicants  \\\n",
       "0  Stanford has adopted a one-year test optional ...                 47452   \n",
       "1  Harvard has adopted a one-year test optional p...                 42749   \n",
       "2  Princeton has adopted a one-year test optional...                 35370   \n",
       "3  Columbia has adopted a one-year test optional ...                 40203   \n",
       "4  Yale has adopted a one-year test optional poli...                 36844   \n",
       "\n",
       "  Accept Rate SAT Total 25th-75th Percentile ACT Total 25th-75th Percentile  \\\n",
       "0        4.3%                      1440-1570                          32-35   \n",
       "1        4.7%                      1460-1580                          33-35   \n",
       "2        5.5%                      1440-1570                          32-35   \n",
       "3        5.5%                      1450-1560                          33-35   \n",
       "4        6.1%                      1460-1570                          33-35   \n",
       "\n",
       "  sat_25_75_list sat_tot_25th_percentile sat_tot_75th_percentile  \n",
       "0   [1440, 1570]                    1440                    1570  \n",
       "1   [1460, 1580]                    1460                    1580  \n",
       "2   [1440, 1570]                    1440                    1570  \n",
       "3   [1450, 1560]                    1450                    1560  \n",
       "4   [1460, 1570]                    1460                    1570  "
      ]
     },
     "execution_count": 89,
     "metadata": {},
     "output_type": "execute_result"
    }
   ],
   "source": [
    "colleges_df.head()"
   ]
  },
  {
   "cell_type": "code",
   "execution_count": 90,
   "metadata": {},
   "outputs": [],
   "source": [
    "colleges_df['act_25_75_list'] = colleges_df['ACT Total 25th-75th Percentile'].str.split('-')"
   ]
  },
  {
   "cell_type": "code",
   "execution_count": 91,
   "metadata": {
    "tags": []
   },
   "outputs": [
    {
     "data": {
      "text/html": [
       "<div>\n",
       "<style scoped>\n",
       "    .dataframe tbody tr th:only-of-type {\n",
       "        vertical-align: middle;\n",
       "    }\n",
       "\n",
       "    .dataframe tbody tr th {\n",
       "        vertical-align: top;\n",
       "    }\n",
       "\n",
       "    .dataframe thead th {\n",
       "        text-align: right;\n",
       "    }\n",
       "</style>\n",
       "<table border=\"1\" class=\"dataframe\">\n",
       "  <thead>\n",
       "    <tr style=\"text-align: right;\">\n",
       "      <th></th>\n",
       "      <th>School</th>\n",
       "      <th>Test Optional?</th>\n",
       "      <th>Applies to Class Year(s)</th>\n",
       "      <th>Policy Details</th>\n",
       "      <th>Number of Applicants</th>\n",
       "      <th>Accept Rate</th>\n",
       "      <th>SAT Total 25th-75th Percentile</th>\n",
       "      <th>ACT Total 25th-75th Percentile</th>\n",
       "      <th>sat_25_75_list</th>\n",
       "      <th>sat_tot_25th_percentile</th>\n",
       "      <th>sat_tot_75th_percentile</th>\n",
       "      <th>act_25_75_list</th>\n",
       "    </tr>\n",
       "  </thead>\n",
       "  <tbody>\n",
       "    <tr>\n",
       "      <th>0</th>\n",
       "      <td>Stanford University</td>\n",
       "      <td>Yes</td>\n",
       "      <td>2021</td>\n",
       "      <td>Stanford has adopted a one-year test optional ...</td>\n",
       "      <td>47452</td>\n",
       "      <td>4.3%</td>\n",
       "      <td>1440-1570</td>\n",
       "      <td>32-35</td>\n",
       "      <td>[1440, 1570]</td>\n",
       "      <td>1440</td>\n",
       "      <td>1570</td>\n",
       "      <td>[32, 35]</td>\n",
       "    </tr>\n",
       "    <tr>\n",
       "      <th>1</th>\n",
       "      <td>Harvard College</td>\n",
       "      <td>Yes</td>\n",
       "      <td>2021</td>\n",
       "      <td>Harvard has adopted a one-year test optional p...</td>\n",
       "      <td>42749</td>\n",
       "      <td>4.7%</td>\n",
       "      <td>1460-1580</td>\n",
       "      <td>33-35</td>\n",
       "      <td>[1460, 1580]</td>\n",
       "      <td>1460</td>\n",
       "      <td>1580</td>\n",
       "      <td>[33, 35]</td>\n",
       "    </tr>\n",
       "    <tr>\n",
       "      <th>2</th>\n",
       "      <td>Princeton University</td>\n",
       "      <td>Yes</td>\n",
       "      <td>2021</td>\n",
       "      <td>Princeton has adopted a one-year test optional...</td>\n",
       "      <td>35370</td>\n",
       "      <td>5.5%</td>\n",
       "      <td>1440-1570</td>\n",
       "      <td>32-35</td>\n",
       "      <td>[1440, 1570]</td>\n",
       "      <td>1440</td>\n",
       "      <td>1570</td>\n",
       "      <td>[32, 35]</td>\n",
       "    </tr>\n",
       "    <tr>\n",
       "      <th>3</th>\n",
       "      <td>Columbia University</td>\n",
       "      <td>Yes</td>\n",
       "      <td>2021</td>\n",
       "      <td>Columbia has adopted a one-year test optional ...</td>\n",
       "      <td>40203</td>\n",
       "      <td>5.5%</td>\n",
       "      <td>1450-1560</td>\n",
       "      <td>33-35</td>\n",
       "      <td>[1450, 1560]</td>\n",
       "      <td>1450</td>\n",
       "      <td>1560</td>\n",
       "      <td>[33, 35]</td>\n",
       "    </tr>\n",
       "    <tr>\n",
       "      <th>4</th>\n",
       "      <td>Yale University</td>\n",
       "      <td>Yes</td>\n",
       "      <td>2021</td>\n",
       "      <td>Yale has adopted a one-year test optional poli...</td>\n",
       "      <td>36844</td>\n",
       "      <td>6.1%</td>\n",
       "      <td>1460-1570</td>\n",
       "      <td>33-35</td>\n",
       "      <td>[1460, 1570]</td>\n",
       "      <td>1460</td>\n",
       "      <td>1570</td>\n",
       "      <td>[33, 35]</td>\n",
       "    </tr>\n",
       "  </tbody>\n",
       "</table>\n",
       "</div>"
      ],
      "text/plain": [
       "                 School Test Optional? Applies to Class Year(s)  \\\n",
       "0   Stanford University            Yes                     2021   \n",
       "1       Harvard College            Yes                     2021   \n",
       "2  Princeton University            Yes                     2021   \n",
       "3   Columbia University            Yes                     2021   \n",
       "4       Yale University            Yes                     2021   \n",
       "\n",
       "                                      Policy Details  Number of Applicants  \\\n",
       "0  Stanford has adopted a one-year test optional ...                 47452   \n",
       "1  Harvard has adopted a one-year test optional p...                 42749   \n",
       "2  Princeton has adopted a one-year test optional...                 35370   \n",
       "3  Columbia has adopted a one-year test optional ...                 40203   \n",
       "4  Yale has adopted a one-year test optional poli...                 36844   \n",
       "\n",
       "  Accept Rate SAT Total 25th-75th Percentile ACT Total 25th-75th Percentile  \\\n",
       "0        4.3%                      1440-1570                          32-35   \n",
       "1        4.7%                      1460-1580                          33-35   \n",
       "2        5.5%                      1440-1570                          32-35   \n",
       "3        5.5%                      1450-1560                          33-35   \n",
       "4        6.1%                      1460-1570                          33-35   \n",
       "\n",
       "  sat_25_75_list sat_tot_25th_percentile sat_tot_75th_percentile  \\\n",
       "0   [1440, 1570]                    1440                    1570   \n",
       "1   [1460, 1580]                    1460                    1580   \n",
       "2   [1440, 1570]                    1440                    1570   \n",
       "3   [1450, 1560]                    1450                    1560   \n",
       "4   [1460, 1570]                    1460                    1570   \n",
       "\n",
       "  act_25_75_list  \n",
       "0       [32, 35]  \n",
       "1       [33, 35]  \n",
       "2       [32, 35]  \n",
       "3       [33, 35]  \n",
       "4       [33, 35]  "
      ]
     },
     "execution_count": 91,
     "metadata": {},
     "output_type": "execute_result"
    }
   ],
   "source": [
    "colleges_df.head()"
   ]
  },
  {
   "cell_type": "code",
   "execution_count": 92,
   "metadata": {},
   "outputs": [],
   "source": [
    "split_act_25_75 = pd.DataFrame(colleges_df['act_25_75_list'].tolist())"
   ]
  },
  {
   "cell_type": "code",
   "execution_count": 93,
   "metadata": {},
   "outputs": [
    {
     "data": {
      "text/html": [
       "<div>\n",
       "<style scoped>\n",
       "    .dataframe tbody tr th:only-of-type {\n",
       "        vertical-align: middle;\n",
       "    }\n",
       "\n",
       "    .dataframe tbody tr th {\n",
       "        vertical-align: top;\n",
       "    }\n",
       "\n",
       "    .dataframe thead th {\n",
       "        text-align: right;\n",
       "    }\n",
       "</style>\n",
       "<table border=\"1\" class=\"dataframe\">\n",
       "  <thead>\n",
       "    <tr style=\"text-align: right;\">\n",
       "      <th></th>\n",
       "      <th>0</th>\n",
       "      <th>1</th>\n",
       "      <th>2</th>\n",
       "    </tr>\n",
       "  </thead>\n",
       "  <tbody>\n",
       "    <tr>\n",
       "      <th>0</th>\n",
       "      <td>32</td>\n",
       "      <td>35</td>\n",
       "      <td>None</td>\n",
       "    </tr>\n",
       "    <tr>\n",
       "      <th>1</th>\n",
       "      <td>33</td>\n",
       "      <td>35</td>\n",
       "      <td>None</td>\n",
       "    </tr>\n",
       "    <tr>\n",
       "      <th>2</th>\n",
       "      <td>32</td>\n",
       "      <td>35</td>\n",
       "      <td>None</td>\n",
       "    </tr>\n",
       "    <tr>\n",
       "      <th>3</th>\n",
       "      <td>33</td>\n",
       "      <td>35</td>\n",
       "      <td>None</td>\n",
       "    </tr>\n",
       "    <tr>\n",
       "      <th>4</th>\n",
       "      <td>33</td>\n",
       "      <td>35</td>\n",
       "      <td>None</td>\n",
       "    </tr>\n",
       "  </tbody>\n",
       "</table>\n",
       "</div>"
      ],
      "text/plain": [
       "    0   1     2\n",
       "0  32  35  None\n",
       "1  33  35  None\n",
       "2  32  35  None\n",
       "3  33  35  None\n",
       "4  33  35  None"
      ]
     },
     "execution_count": 93,
     "metadata": {},
     "output_type": "execute_result"
    }
   ],
   "source": [
    "split_act_25_75.head()"
   ]
  },
  {
   "cell_type": "code",
   "execution_count": 94,
   "metadata": {},
   "outputs": [],
   "source": [
    "split_act_25_75.drop(2, axis = 1, inplace = True)"
   ]
  },
  {
   "cell_type": "code",
   "execution_count": 95,
   "metadata": {},
   "outputs": [
    {
     "data": {
      "text/html": [
       "<div>\n",
       "<style scoped>\n",
       "    .dataframe tbody tr th:only-of-type {\n",
       "        vertical-align: middle;\n",
       "    }\n",
       "\n",
       "    .dataframe tbody tr th {\n",
       "        vertical-align: top;\n",
       "    }\n",
       "\n",
       "    .dataframe thead th {\n",
       "        text-align: right;\n",
       "    }\n",
       "</style>\n",
       "<table border=\"1\" class=\"dataframe\">\n",
       "  <thead>\n",
       "    <tr style=\"text-align: right;\">\n",
       "      <th></th>\n",
       "      <th>0</th>\n",
       "      <th>1</th>\n",
       "    </tr>\n",
       "  </thead>\n",
       "  <tbody>\n",
       "    <tr>\n",
       "      <th>0</th>\n",
       "      <td>32</td>\n",
       "      <td>35</td>\n",
       "    </tr>\n",
       "    <tr>\n",
       "      <th>1</th>\n",
       "      <td>33</td>\n",
       "      <td>35</td>\n",
       "    </tr>\n",
       "    <tr>\n",
       "      <th>2</th>\n",
       "      <td>32</td>\n",
       "      <td>35</td>\n",
       "    </tr>\n",
       "    <tr>\n",
       "      <th>3</th>\n",
       "      <td>33</td>\n",
       "      <td>35</td>\n",
       "    </tr>\n",
       "    <tr>\n",
       "      <th>4</th>\n",
       "      <td>33</td>\n",
       "      <td>35</td>\n",
       "    </tr>\n",
       "  </tbody>\n",
       "</table>\n",
       "</div>"
      ],
      "text/plain": [
       "    0   1\n",
       "0  32  35\n",
       "1  33  35\n",
       "2  32  35\n",
       "3  33  35\n",
       "4  33  35"
      ]
     },
     "execution_count": 95,
     "metadata": {},
     "output_type": "execute_result"
    }
   ],
   "source": [
    "split_act_25_75.head()"
   ]
  },
  {
   "cell_type": "code",
   "execution_count": 96,
   "metadata": {},
   "outputs": [],
   "source": [
    "split_act_25_75.columns = ['act_composite_25th_percentile', 'act_composite_75th_percentile']"
   ]
  },
  {
   "cell_type": "code",
   "execution_count": 97,
   "metadata": {},
   "outputs": [
    {
     "data": {
      "text/html": [
       "<div>\n",
       "<style scoped>\n",
       "    .dataframe tbody tr th:only-of-type {\n",
       "        vertical-align: middle;\n",
       "    }\n",
       "\n",
       "    .dataframe tbody tr th {\n",
       "        vertical-align: top;\n",
       "    }\n",
       "\n",
       "    .dataframe thead th {\n",
       "        text-align: right;\n",
       "    }\n",
       "</style>\n",
       "<table border=\"1\" class=\"dataframe\">\n",
       "  <thead>\n",
       "    <tr style=\"text-align: right;\">\n",
       "      <th></th>\n",
       "      <th>act_composite_25th_percentile</th>\n",
       "      <th>act_composite_75th_percentile</th>\n",
       "    </tr>\n",
       "  </thead>\n",
       "  <tbody>\n",
       "    <tr>\n",
       "      <th>0</th>\n",
       "      <td>32</td>\n",
       "      <td>35</td>\n",
       "    </tr>\n",
       "    <tr>\n",
       "      <th>1</th>\n",
       "      <td>33</td>\n",
       "      <td>35</td>\n",
       "    </tr>\n",
       "    <tr>\n",
       "      <th>2</th>\n",
       "      <td>32</td>\n",
       "      <td>35</td>\n",
       "    </tr>\n",
       "    <tr>\n",
       "      <th>3</th>\n",
       "      <td>33</td>\n",
       "      <td>35</td>\n",
       "    </tr>\n",
       "    <tr>\n",
       "      <th>4</th>\n",
       "      <td>33</td>\n",
       "      <td>35</td>\n",
       "    </tr>\n",
       "  </tbody>\n",
       "</table>\n",
       "</div>"
      ],
      "text/plain": [
       "  act_composite_25th_percentile act_composite_75th_percentile\n",
       "0                            32                            35\n",
       "1                            33                            35\n",
       "2                            32                            35\n",
       "3                            33                            35\n",
       "4                            33                            35"
      ]
     },
     "execution_count": 97,
     "metadata": {},
     "output_type": "execute_result"
    }
   ],
   "source": [
    "split_act_25_75.head()"
   ]
  },
  {
   "cell_type": "code",
   "execution_count": 98,
   "metadata": {},
   "outputs": [],
   "source": [
    "colleges_df = pd.concat([colleges_df, split_act_25_75], axis = 1)"
   ]
  },
  {
   "cell_type": "code",
   "execution_count": 99,
   "metadata": {},
   "outputs": [
    {
     "data": {
      "text/html": [
       "<div>\n",
       "<style scoped>\n",
       "    .dataframe tbody tr th:only-of-type {\n",
       "        vertical-align: middle;\n",
       "    }\n",
       "\n",
       "    .dataframe tbody tr th {\n",
       "        vertical-align: top;\n",
       "    }\n",
       "\n",
       "    .dataframe thead th {\n",
       "        text-align: right;\n",
       "    }\n",
       "</style>\n",
       "<table border=\"1\" class=\"dataframe\">\n",
       "  <thead>\n",
       "    <tr style=\"text-align: right;\">\n",
       "      <th></th>\n",
       "      <th>School</th>\n",
       "      <th>Test Optional?</th>\n",
       "      <th>Applies to Class Year(s)</th>\n",
       "      <th>Policy Details</th>\n",
       "      <th>Number of Applicants</th>\n",
       "      <th>Accept Rate</th>\n",
       "      <th>SAT Total 25th-75th Percentile</th>\n",
       "      <th>ACT Total 25th-75th Percentile</th>\n",
       "      <th>sat_25_75_list</th>\n",
       "      <th>sat_tot_25th_percentile</th>\n",
       "      <th>sat_tot_75th_percentile</th>\n",
       "      <th>act_25_75_list</th>\n",
       "      <th>act_composite_25th_percentile</th>\n",
       "      <th>act_composite_75th_percentile</th>\n",
       "    </tr>\n",
       "  </thead>\n",
       "  <tbody>\n",
       "    <tr>\n",
       "      <th>0</th>\n",
       "      <td>Stanford University</td>\n",
       "      <td>Yes</td>\n",
       "      <td>2021</td>\n",
       "      <td>Stanford has adopted a one-year test optional ...</td>\n",
       "      <td>47452</td>\n",
       "      <td>4.3%</td>\n",
       "      <td>1440-1570</td>\n",
       "      <td>32-35</td>\n",
       "      <td>[1440, 1570]</td>\n",
       "      <td>1440</td>\n",
       "      <td>1570</td>\n",
       "      <td>[32, 35]</td>\n",
       "      <td>32</td>\n",
       "      <td>35</td>\n",
       "    </tr>\n",
       "    <tr>\n",
       "      <th>1</th>\n",
       "      <td>Harvard College</td>\n",
       "      <td>Yes</td>\n",
       "      <td>2021</td>\n",
       "      <td>Harvard has adopted a one-year test optional p...</td>\n",
       "      <td>42749</td>\n",
       "      <td>4.7%</td>\n",
       "      <td>1460-1580</td>\n",
       "      <td>33-35</td>\n",
       "      <td>[1460, 1580]</td>\n",
       "      <td>1460</td>\n",
       "      <td>1580</td>\n",
       "      <td>[33, 35]</td>\n",
       "      <td>33</td>\n",
       "      <td>35</td>\n",
       "    </tr>\n",
       "    <tr>\n",
       "      <th>2</th>\n",
       "      <td>Princeton University</td>\n",
       "      <td>Yes</td>\n",
       "      <td>2021</td>\n",
       "      <td>Princeton has adopted a one-year test optional...</td>\n",
       "      <td>35370</td>\n",
       "      <td>5.5%</td>\n",
       "      <td>1440-1570</td>\n",
       "      <td>32-35</td>\n",
       "      <td>[1440, 1570]</td>\n",
       "      <td>1440</td>\n",
       "      <td>1570</td>\n",
       "      <td>[32, 35]</td>\n",
       "      <td>32</td>\n",
       "      <td>35</td>\n",
       "    </tr>\n",
       "    <tr>\n",
       "      <th>3</th>\n",
       "      <td>Columbia University</td>\n",
       "      <td>Yes</td>\n",
       "      <td>2021</td>\n",
       "      <td>Columbia has adopted a one-year test optional ...</td>\n",
       "      <td>40203</td>\n",
       "      <td>5.5%</td>\n",
       "      <td>1450-1560</td>\n",
       "      <td>33-35</td>\n",
       "      <td>[1450, 1560]</td>\n",
       "      <td>1450</td>\n",
       "      <td>1560</td>\n",
       "      <td>[33, 35]</td>\n",
       "      <td>33</td>\n",
       "      <td>35</td>\n",
       "    </tr>\n",
       "    <tr>\n",
       "      <th>4</th>\n",
       "      <td>Yale University</td>\n",
       "      <td>Yes</td>\n",
       "      <td>2021</td>\n",
       "      <td>Yale has adopted a one-year test optional poli...</td>\n",
       "      <td>36844</td>\n",
       "      <td>6.1%</td>\n",
       "      <td>1460-1570</td>\n",
       "      <td>33-35</td>\n",
       "      <td>[1460, 1570]</td>\n",
       "      <td>1460</td>\n",
       "      <td>1570</td>\n",
       "      <td>[33, 35]</td>\n",
       "      <td>33</td>\n",
       "      <td>35</td>\n",
       "    </tr>\n",
       "  </tbody>\n",
       "</table>\n",
       "</div>"
      ],
      "text/plain": [
       "                 School Test Optional? Applies to Class Year(s)  \\\n",
       "0   Stanford University            Yes                     2021   \n",
       "1       Harvard College            Yes                     2021   \n",
       "2  Princeton University            Yes                     2021   \n",
       "3   Columbia University            Yes                     2021   \n",
       "4       Yale University            Yes                     2021   \n",
       "\n",
       "                                      Policy Details  Number of Applicants  \\\n",
       "0  Stanford has adopted a one-year test optional ...                 47452   \n",
       "1  Harvard has adopted a one-year test optional p...                 42749   \n",
       "2  Princeton has adopted a one-year test optional...                 35370   \n",
       "3  Columbia has adopted a one-year test optional ...                 40203   \n",
       "4  Yale has adopted a one-year test optional poli...                 36844   \n",
       "\n",
       "  Accept Rate SAT Total 25th-75th Percentile ACT Total 25th-75th Percentile  \\\n",
       "0        4.3%                      1440-1570                          32-35   \n",
       "1        4.7%                      1460-1580                          33-35   \n",
       "2        5.5%                      1440-1570                          32-35   \n",
       "3        5.5%                      1450-1560                          33-35   \n",
       "4        6.1%                      1460-1570                          33-35   \n",
       "\n",
       "  sat_25_75_list sat_tot_25th_percentile sat_tot_75th_percentile  \\\n",
       "0   [1440, 1570]                    1440                    1570   \n",
       "1   [1460, 1580]                    1460                    1580   \n",
       "2   [1440, 1570]                    1440                    1570   \n",
       "3   [1450, 1560]                    1450                    1560   \n",
       "4   [1460, 1570]                    1460                    1570   \n",
       "\n",
       "  act_25_75_list act_composite_25th_percentile act_composite_75th_percentile  \n",
       "0       [32, 35]                            32                            35  \n",
       "1       [33, 35]                            33                            35  \n",
       "2       [32, 35]                            32                            35  \n",
       "3       [33, 35]                            33                            35  \n",
       "4       [33, 35]                            33                            35  "
      ]
     },
     "execution_count": 99,
     "metadata": {},
     "output_type": "execute_result"
    }
   ],
   "source": [
    "colleges_df.head()"
   ]
  },
  {
   "cell_type": "code",
   "execution_count": 100,
   "metadata": {},
   "outputs": [],
   "source": [
    "colleges_df.drop(['sat_25_75_list', 'act_25_75_list'], axis = 1, inplace = True)"
   ]
  },
  {
   "cell_type": "code",
   "execution_count": 101,
   "metadata": {
    "tags": []
   },
   "outputs": [
    {
     "data": {
      "text/html": [
       "<div>\n",
       "<style scoped>\n",
       "    .dataframe tbody tr th:only-of-type {\n",
       "        vertical-align: middle;\n",
       "    }\n",
       "\n",
       "    .dataframe tbody tr th {\n",
       "        vertical-align: top;\n",
       "    }\n",
       "\n",
       "    .dataframe thead th {\n",
       "        text-align: right;\n",
       "    }\n",
       "</style>\n",
       "<table border=\"1\" class=\"dataframe\">\n",
       "  <thead>\n",
       "    <tr style=\"text-align: right;\">\n",
       "      <th></th>\n",
       "      <th>School</th>\n",
       "      <th>Test Optional?</th>\n",
       "      <th>Applies to Class Year(s)</th>\n",
       "      <th>Policy Details</th>\n",
       "      <th>Number of Applicants</th>\n",
       "      <th>Accept Rate</th>\n",
       "      <th>SAT Total 25th-75th Percentile</th>\n",
       "      <th>ACT Total 25th-75th Percentile</th>\n",
       "      <th>sat_tot_25th_percentile</th>\n",
       "      <th>sat_tot_75th_percentile</th>\n",
       "      <th>act_composite_25th_percentile</th>\n",
       "      <th>act_composite_75th_percentile</th>\n",
       "    </tr>\n",
       "  </thead>\n",
       "  <tbody>\n",
       "    <tr>\n",
       "      <th>0</th>\n",
       "      <td>Stanford University</td>\n",
       "      <td>Yes</td>\n",
       "      <td>2021</td>\n",
       "      <td>Stanford has adopted a one-year test optional ...</td>\n",
       "      <td>47452</td>\n",
       "      <td>4.3%</td>\n",
       "      <td>1440-1570</td>\n",
       "      <td>32-35</td>\n",
       "      <td>1440</td>\n",
       "      <td>1570</td>\n",
       "      <td>32</td>\n",
       "      <td>35</td>\n",
       "    </tr>\n",
       "    <tr>\n",
       "      <th>1</th>\n",
       "      <td>Harvard College</td>\n",
       "      <td>Yes</td>\n",
       "      <td>2021</td>\n",
       "      <td>Harvard has adopted a one-year test optional p...</td>\n",
       "      <td>42749</td>\n",
       "      <td>4.7%</td>\n",
       "      <td>1460-1580</td>\n",
       "      <td>33-35</td>\n",
       "      <td>1460</td>\n",
       "      <td>1580</td>\n",
       "      <td>33</td>\n",
       "      <td>35</td>\n",
       "    </tr>\n",
       "    <tr>\n",
       "      <th>2</th>\n",
       "      <td>Princeton University</td>\n",
       "      <td>Yes</td>\n",
       "      <td>2021</td>\n",
       "      <td>Princeton has adopted a one-year test optional...</td>\n",
       "      <td>35370</td>\n",
       "      <td>5.5%</td>\n",
       "      <td>1440-1570</td>\n",
       "      <td>32-35</td>\n",
       "      <td>1440</td>\n",
       "      <td>1570</td>\n",
       "      <td>32</td>\n",
       "      <td>35</td>\n",
       "    </tr>\n",
       "    <tr>\n",
       "      <th>3</th>\n",
       "      <td>Columbia University</td>\n",
       "      <td>Yes</td>\n",
       "      <td>2021</td>\n",
       "      <td>Columbia has adopted a one-year test optional ...</td>\n",
       "      <td>40203</td>\n",
       "      <td>5.5%</td>\n",
       "      <td>1450-1560</td>\n",
       "      <td>33-35</td>\n",
       "      <td>1450</td>\n",
       "      <td>1560</td>\n",
       "      <td>33</td>\n",
       "      <td>35</td>\n",
       "    </tr>\n",
       "    <tr>\n",
       "      <th>4</th>\n",
       "      <td>Yale University</td>\n",
       "      <td>Yes</td>\n",
       "      <td>2021</td>\n",
       "      <td>Yale has adopted a one-year test optional poli...</td>\n",
       "      <td>36844</td>\n",
       "      <td>6.1%</td>\n",
       "      <td>1460-1570</td>\n",
       "      <td>33-35</td>\n",
       "      <td>1460</td>\n",
       "      <td>1570</td>\n",
       "      <td>33</td>\n",
       "      <td>35</td>\n",
       "    </tr>\n",
       "  </tbody>\n",
       "</table>\n",
       "</div>"
      ],
      "text/plain": [
       "                 School Test Optional? Applies to Class Year(s)  \\\n",
       "0   Stanford University            Yes                     2021   \n",
       "1       Harvard College            Yes                     2021   \n",
       "2  Princeton University            Yes                     2021   \n",
       "3   Columbia University            Yes                     2021   \n",
       "4       Yale University            Yes                     2021   \n",
       "\n",
       "                                      Policy Details  Number of Applicants  \\\n",
       "0  Stanford has adopted a one-year test optional ...                 47452   \n",
       "1  Harvard has adopted a one-year test optional p...                 42749   \n",
       "2  Princeton has adopted a one-year test optional...                 35370   \n",
       "3  Columbia has adopted a one-year test optional ...                 40203   \n",
       "4  Yale has adopted a one-year test optional poli...                 36844   \n",
       "\n",
       "  Accept Rate SAT Total 25th-75th Percentile ACT Total 25th-75th Percentile  \\\n",
       "0        4.3%                      1440-1570                          32-35   \n",
       "1        4.7%                      1460-1580                          33-35   \n",
       "2        5.5%                      1440-1570                          32-35   \n",
       "3        5.5%                      1450-1560                          33-35   \n",
       "4        6.1%                      1460-1570                          33-35   \n",
       "\n",
       "  sat_tot_25th_percentile sat_tot_75th_percentile  \\\n",
       "0                    1440                    1570   \n",
       "1                    1460                    1580   \n",
       "2                    1440                    1570   \n",
       "3                    1450                    1560   \n",
       "4                    1460                    1570   \n",
       "\n",
       "  act_composite_25th_percentile act_composite_75th_percentile  \n",
       "0                            32                            35  \n",
       "1                            33                            35  \n",
       "2                            32                            35  \n",
       "3                            33                            35  \n",
       "4                            33                            35  "
      ]
     },
     "execution_count": 101,
     "metadata": {},
     "output_type": "execute_result"
    }
   ],
   "source": [
    "colleges_df.head()"
   ]
  },
  {
   "cell_type": "code",
   "execution_count": 102,
   "metadata": {},
   "outputs": [],
   "source": [
    "colleges_df.drop(['SAT Total 25th-75th Percentile', 'ACT Total 25th-75th Percentile'], axis = 1, inplace = True)"
   ]
  },
  {
   "cell_type": "code",
   "execution_count": 103,
   "metadata": {},
   "outputs": [
    {
     "data": {
      "text/html": [
       "<div>\n",
       "<style scoped>\n",
       "    .dataframe tbody tr th:only-of-type {\n",
       "        vertical-align: middle;\n",
       "    }\n",
       "\n",
       "    .dataframe tbody tr th {\n",
       "        vertical-align: top;\n",
       "    }\n",
       "\n",
       "    .dataframe thead th {\n",
       "        text-align: right;\n",
       "    }\n",
       "</style>\n",
       "<table border=\"1\" class=\"dataframe\">\n",
       "  <thead>\n",
       "    <tr style=\"text-align: right;\">\n",
       "      <th></th>\n",
       "      <th>School</th>\n",
       "      <th>Test Optional?</th>\n",
       "      <th>Applies to Class Year(s)</th>\n",
       "      <th>Policy Details</th>\n",
       "      <th>Number of Applicants</th>\n",
       "      <th>Accept Rate</th>\n",
       "      <th>sat_tot_25th_percentile</th>\n",
       "      <th>sat_tot_75th_percentile</th>\n",
       "      <th>act_composite_25th_percentile</th>\n",
       "      <th>act_composite_75th_percentile</th>\n",
       "    </tr>\n",
       "  </thead>\n",
       "  <tbody>\n",
       "    <tr>\n",
       "      <th>0</th>\n",
       "      <td>Stanford University</td>\n",
       "      <td>Yes</td>\n",
       "      <td>2021</td>\n",
       "      <td>Stanford has adopted a one-year test optional ...</td>\n",
       "      <td>47452</td>\n",
       "      <td>4.3%</td>\n",
       "      <td>1440</td>\n",
       "      <td>1570</td>\n",
       "      <td>32</td>\n",
       "      <td>35</td>\n",
       "    </tr>\n",
       "    <tr>\n",
       "      <th>1</th>\n",
       "      <td>Harvard College</td>\n",
       "      <td>Yes</td>\n",
       "      <td>2021</td>\n",
       "      <td>Harvard has adopted a one-year test optional p...</td>\n",
       "      <td>42749</td>\n",
       "      <td>4.7%</td>\n",
       "      <td>1460</td>\n",
       "      <td>1580</td>\n",
       "      <td>33</td>\n",
       "      <td>35</td>\n",
       "    </tr>\n",
       "    <tr>\n",
       "      <th>2</th>\n",
       "      <td>Princeton University</td>\n",
       "      <td>Yes</td>\n",
       "      <td>2021</td>\n",
       "      <td>Princeton has adopted a one-year test optional...</td>\n",
       "      <td>35370</td>\n",
       "      <td>5.5%</td>\n",
       "      <td>1440</td>\n",
       "      <td>1570</td>\n",
       "      <td>32</td>\n",
       "      <td>35</td>\n",
       "    </tr>\n",
       "    <tr>\n",
       "      <th>3</th>\n",
       "      <td>Columbia University</td>\n",
       "      <td>Yes</td>\n",
       "      <td>2021</td>\n",
       "      <td>Columbia has adopted a one-year test optional ...</td>\n",
       "      <td>40203</td>\n",
       "      <td>5.5%</td>\n",
       "      <td>1450</td>\n",
       "      <td>1560</td>\n",
       "      <td>33</td>\n",
       "      <td>35</td>\n",
       "    </tr>\n",
       "    <tr>\n",
       "      <th>4</th>\n",
       "      <td>Yale University</td>\n",
       "      <td>Yes</td>\n",
       "      <td>2021</td>\n",
       "      <td>Yale has adopted a one-year test optional poli...</td>\n",
       "      <td>36844</td>\n",
       "      <td>6.1%</td>\n",
       "      <td>1460</td>\n",
       "      <td>1570</td>\n",
       "      <td>33</td>\n",
       "      <td>35</td>\n",
       "    </tr>\n",
       "  </tbody>\n",
       "</table>\n",
       "</div>"
      ],
      "text/plain": [
       "                 School Test Optional? Applies to Class Year(s)  \\\n",
       "0   Stanford University            Yes                     2021   \n",
       "1       Harvard College            Yes                     2021   \n",
       "2  Princeton University            Yes                     2021   \n",
       "3   Columbia University            Yes                     2021   \n",
       "4       Yale University            Yes                     2021   \n",
       "\n",
       "                                      Policy Details  Number of Applicants  \\\n",
       "0  Stanford has adopted a one-year test optional ...                 47452   \n",
       "1  Harvard has adopted a one-year test optional p...                 42749   \n",
       "2  Princeton has adopted a one-year test optional...                 35370   \n",
       "3  Columbia has adopted a one-year test optional ...                 40203   \n",
       "4  Yale has adopted a one-year test optional poli...                 36844   \n",
       "\n",
       "  Accept Rate sat_tot_25th_percentile sat_tot_75th_percentile  \\\n",
       "0        4.3%                    1440                    1570   \n",
       "1        4.7%                    1460                    1580   \n",
       "2        5.5%                    1440                    1570   \n",
       "3        5.5%                    1450                    1560   \n",
       "4        6.1%                    1460                    1570   \n",
       "\n",
       "  act_composite_25th_percentile act_composite_75th_percentile  \n",
       "0                            32                            35  \n",
       "1                            33                            35  \n",
       "2                            32                            35  \n",
       "3                            33                            35  \n",
       "4                            33                            35  "
      ]
     },
     "execution_count": 103,
     "metadata": {},
     "output_type": "execute_result"
    }
   ],
   "source": [
    "colleges_df.head()"
   ]
  },
  {
   "cell_type": "code",
   "execution_count": 104,
   "metadata": {},
   "outputs": [],
   "source": [
    "colleges_df['Accept Rate'] = colleges_df['Accept Rate'].map(lambda x: per_to_dec(x))"
   ]
  },
  {
   "cell_type": "code",
   "execution_count": 105,
   "metadata": {
    "tags": []
   },
   "outputs": [
    {
     "data": {
      "text/html": [
       "<div>\n",
       "<style scoped>\n",
       "    .dataframe tbody tr th:only-of-type {\n",
       "        vertical-align: middle;\n",
       "    }\n",
       "\n",
       "    .dataframe tbody tr th {\n",
       "        vertical-align: top;\n",
       "    }\n",
       "\n",
       "    .dataframe thead th {\n",
       "        text-align: right;\n",
       "    }\n",
       "</style>\n",
       "<table border=\"1\" class=\"dataframe\">\n",
       "  <thead>\n",
       "    <tr style=\"text-align: right;\">\n",
       "      <th></th>\n",
       "      <th>School</th>\n",
       "      <th>Test Optional?</th>\n",
       "      <th>Applies to Class Year(s)</th>\n",
       "      <th>Policy Details</th>\n",
       "      <th>Number of Applicants</th>\n",
       "      <th>Accept Rate</th>\n",
       "      <th>sat_tot_25th_percentile</th>\n",
       "      <th>sat_tot_75th_percentile</th>\n",
       "      <th>act_composite_25th_percentile</th>\n",
       "      <th>act_composite_75th_percentile</th>\n",
       "    </tr>\n",
       "  </thead>\n",
       "  <tbody>\n",
       "    <tr>\n",
       "      <th>0</th>\n",
       "      <td>Stanford University</td>\n",
       "      <td>Yes</td>\n",
       "      <td>2021</td>\n",
       "      <td>Stanford has adopted a one-year test optional ...</td>\n",
       "      <td>47452</td>\n",
       "      <td>0.043</td>\n",
       "      <td>1440</td>\n",
       "      <td>1570</td>\n",
       "      <td>32</td>\n",
       "      <td>35</td>\n",
       "    </tr>\n",
       "    <tr>\n",
       "      <th>1</th>\n",
       "      <td>Harvard College</td>\n",
       "      <td>Yes</td>\n",
       "      <td>2021</td>\n",
       "      <td>Harvard has adopted a one-year test optional p...</td>\n",
       "      <td>42749</td>\n",
       "      <td>0.047</td>\n",
       "      <td>1460</td>\n",
       "      <td>1580</td>\n",
       "      <td>33</td>\n",
       "      <td>35</td>\n",
       "    </tr>\n",
       "    <tr>\n",
       "      <th>2</th>\n",
       "      <td>Princeton University</td>\n",
       "      <td>Yes</td>\n",
       "      <td>2021</td>\n",
       "      <td>Princeton has adopted a one-year test optional...</td>\n",
       "      <td>35370</td>\n",
       "      <td>0.055</td>\n",
       "      <td>1440</td>\n",
       "      <td>1570</td>\n",
       "      <td>32</td>\n",
       "      <td>35</td>\n",
       "    </tr>\n",
       "    <tr>\n",
       "      <th>3</th>\n",
       "      <td>Columbia University</td>\n",
       "      <td>Yes</td>\n",
       "      <td>2021</td>\n",
       "      <td>Columbia has adopted a one-year test optional ...</td>\n",
       "      <td>40203</td>\n",
       "      <td>0.055</td>\n",
       "      <td>1450</td>\n",
       "      <td>1560</td>\n",
       "      <td>33</td>\n",
       "      <td>35</td>\n",
       "    </tr>\n",
       "    <tr>\n",
       "      <th>4</th>\n",
       "      <td>Yale University</td>\n",
       "      <td>Yes</td>\n",
       "      <td>2021</td>\n",
       "      <td>Yale has adopted a one-year test optional poli...</td>\n",
       "      <td>36844</td>\n",
       "      <td>0.061</td>\n",
       "      <td>1460</td>\n",
       "      <td>1570</td>\n",
       "      <td>33</td>\n",
       "      <td>35</td>\n",
       "    </tr>\n",
       "  </tbody>\n",
       "</table>\n",
       "</div>"
      ],
      "text/plain": [
       "                 School Test Optional? Applies to Class Year(s)  \\\n",
       "0   Stanford University            Yes                     2021   \n",
       "1       Harvard College            Yes                     2021   \n",
       "2  Princeton University            Yes                     2021   \n",
       "3   Columbia University            Yes                     2021   \n",
       "4       Yale University            Yes                     2021   \n",
       "\n",
       "                                      Policy Details  Number of Applicants  \\\n",
       "0  Stanford has adopted a one-year test optional ...                 47452   \n",
       "1  Harvard has adopted a one-year test optional p...                 42749   \n",
       "2  Princeton has adopted a one-year test optional...                 35370   \n",
       "3  Columbia has adopted a one-year test optional ...                 40203   \n",
       "4  Yale has adopted a one-year test optional poli...                 36844   \n",
       "\n",
       "   Accept Rate sat_tot_25th_percentile sat_tot_75th_percentile  \\\n",
       "0        0.043                    1440                    1570   \n",
       "1        0.047                    1460                    1580   \n",
       "2        0.055                    1440                    1570   \n",
       "3        0.055                    1450                    1560   \n",
       "4        0.061                    1460                    1570   \n",
       "\n",
       "  act_composite_25th_percentile act_composite_75th_percentile  \n",
       "0                            32                            35  \n",
       "1                            33                            35  \n",
       "2                            32                            35  \n",
       "3                            33                            35  \n",
       "4                            33                            35  "
      ]
     },
     "execution_count": 105,
     "metadata": {},
     "output_type": "execute_result"
    }
   ],
   "source": [
    "colleges_df.head()"
   ]
  },
  {
   "cell_type": "code",
   "execution_count": 106,
   "metadata": {},
   "outputs": [
    {
     "data": {
      "text/plain": [
       "School                            object\n",
       "Test Optional?                    object\n",
       "Applies to Class Year(s)          object\n",
       "Policy Details                    object\n",
       "Number of Applicants               int64\n",
       "Accept Rate                      float64\n",
       "sat_tot_25th_percentile           object\n",
       "sat_tot_75th_percentile           object\n",
       "act_composite_25th_percentile     object\n",
       "act_composite_75th_percentile     object\n",
       "dtype: object"
      ]
     },
     "execution_count": 106,
     "metadata": {},
     "output_type": "execute_result"
    }
   ],
   "source": [
    "colleges_df.dtypes"
   ]
  },
  {
   "cell_type": "code",
   "execution_count": 107,
   "metadata": {},
   "outputs": [
    {
     "data": {
      "text/html": [
       "<div>\n",
       "<style scoped>\n",
       "    .dataframe tbody tr th:only-of-type {\n",
       "        vertical-align: middle;\n",
       "    }\n",
       "\n",
       "    .dataframe tbody tr th {\n",
       "        vertical-align: top;\n",
       "    }\n",
       "\n",
       "    .dataframe thead th {\n",
       "        text-align: right;\n",
       "    }\n",
       "</style>\n",
       "<table border=\"1\" class=\"dataframe\">\n",
       "  <thead>\n",
       "    <tr style=\"text-align: right;\">\n",
       "      <th></th>\n",
       "      <th>School</th>\n",
       "      <th>Test Optional?</th>\n",
       "      <th>Applies to Class Year(s)</th>\n",
       "      <th>Policy Details</th>\n",
       "      <th>Number of Applicants</th>\n",
       "      <th>Accept Rate</th>\n",
       "      <th>sat_tot_25th_percentile</th>\n",
       "      <th>sat_tot_75th_percentile</th>\n",
       "      <th>act_composite_25th_percentile</th>\n",
       "      <th>act_composite_75th_percentile</th>\n",
       "    </tr>\n",
       "  </thead>\n",
       "  <tbody>\n",
       "    <tr>\n",
       "      <th>5</th>\n",
       "      <td>California Institute of Technology</td>\n",
       "      <td>Yes (TB)</td>\n",
       "      <td>2021 2022</td>\n",
       "      <td>CalTech has adopted a two-year Test Blind poli...</td>\n",
       "      <td>8367</td>\n",
       "      <td>0.064</td>\n",
       "      <td>​​ 1530</td>\n",
       "      <td>1560</td>\n",
       "      <td>35</td>\n",
       "      <td>36</td>\n",
       "    </tr>\n",
       "  </tbody>\n",
       "</table>\n",
       "</div>"
      ],
      "text/plain": [
       "                               School Test Optional? Applies to Class Year(s)  \\\n",
       "5  California Institute of Technology       Yes (TB)                2021 2022   \n",
       "\n",
       "                                      Policy Details  Number of Applicants  \\\n",
       "5  CalTech has adopted a two-year Test Blind poli...                  8367   \n",
       "\n",
       "   Accept Rate sat_tot_25th_percentile sat_tot_75th_percentile  \\\n",
       "5        0.064                 ​​ 1530                    1560   \n",
       "\n",
       "  act_composite_25th_percentile act_composite_75th_percentile  \n",
       "5                            35                            36  "
      ]
     },
     "execution_count": 107,
     "metadata": {},
     "output_type": "execute_result"
    }
   ],
   "source": [
    "colleges_df[colleges_df['sat_tot_25th_percentile'] == '\\u200b\\u200b 1530']"
   ]
  },
  {
   "cell_type": "code",
   "execution_count": 108,
   "metadata": {},
   "outputs": [],
   "source": [
    "colleges_df['sat_tot_25th_percentile'] = colleges_df['sat_tot_25th_percentile'].map(lambda x: int(x.replace(\"\\u200b\\u200b \", \"\")) if \"\\u200b\\u200b \" in x else 0 if x == \"\" else int(round(float(x))))"
   ]
  },
  {
   "cell_type": "code",
   "execution_count": 109,
   "metadata": {},
   "outputs": [
    {
     "data": {
      "text/plain": [
       "School                            object\n",
       "Test Optional?                    object\n",
       "Applies to Class Year(s)          object\n",
       "Policy Details                    object\n",
       "Number of Applicants               int64\n",
       "Accept Rate                      float64\n",
       "sat_tot_25th_percentile            int64\n",
       "sat_tot_75th_percentile           object\n",
       "act_composite_25th_percentile     object\n",
       "act_composite_75th_percentile     object\n",
       "dtype: object"
      ]
     },
     "execution_count": 109,
     "metadata": {},
     "output_type": "execute_result"
    }
   ],
   "source": [
    "colleges_df.dtypes"
   ]
  },
  {
   "cell_type": "code",
   "execution_count": 110,
   "metadata": {},
   "outputs": [],
   "source": [
    "colleges_df['sat_tot_75th_percentile'] = colleges_df['sat_tot_75th_percentile'].map(lambda x: int(x.replace(\"\\u200b\\u200b \", \"\")) if \"\\u200b\\u200b \" in x else 0 if x == \"\" else int(round(float(x))))\n",
    "colleges_df['act_composite_25th_percentile'] = colleges_df['act_composite_25th_percentile'].map(lambda x: int(x.replace(\"\\u200b\\u200b \", \"\")) if \"\\u200b\\u200b \" in x else 0 if x == \"\" else int(round(float(x))))\n",
    "colleges_df['act_composite_75th_percentile'] = colleges_df['act_composite_75th_percentile'].map(lambda x: int(x.replace(\"\\u200b\\u200b \", \"\")) if \"\\u200b\\u200b \" in x else 0 if x == \"\" else int(round(float(x))))\n"
   ]
  },
  {
   "cell_type": "code",
   "execution_count": 111,
   "metadata": {},
   "outputs": [
    {
     "data": {
      "text/plain": [
       "School                            object\n",
       "Test Optional?                    object\n",
       "Applies to Class Year(s)          object\n",
       "Policy Details                    object\n",
       "Number of Applicants               int64\n",
       "Accept Rate                      float64\n",
       "sat_tot_25th_percentile            int64\n",
       "sat_tot_75th_percentile            int64\n",
       "act_composite_25th_percentile      int64\n",
       "act_composite_75th_percentile      int64\n",
       "dtype: object"
      ]
     },
     "execution_count": 111,
     "metadata": {},
     "output_type": "execute_result"
    }
   ],
   "source": [
    "colleges_df.dtypes"
   ]
  },
  {
   "cell_type": "markdown",
   "metadata": {
    "tags": []
   },
   "source": [
    "#### 6.1 Discovered Missing Data\n",
    "In the course of the above work I discovered that there are some 0 values in the data that don't make sense so I searched for it and eliminated it below.\n",
    "\n",
    "I found 6 colleges that don't have SAT scores. I eliminated them from the data frame.\n",
    "\n",
    "I found 5 colleges that don't have ACT scores. I eliminated them from the data frame.\n",
    "\n",
    "All this done below."
   ]
  },
  {
   "cell_type": "code",
   "execution_count": 112,
   "metadata": {},
   "outputs": [
    {
     "data": {
      "text/plain": [
       "count     416.000000\n",
       "mean     1150.175481\n",
       "std       189.620815\n",
       "min         0.000000\n",
       "25%      1070.000000\n",
       "50%      1150.000000\n",
       "75%      1250.000000\n",
       "max      1530.000000\n",
       "Name: sat_tot_25th_percentile, dtype: float64"
      ]
     },
     "execution_count": 112,
     "metadata": {},
     "output_type": "execute_result"
    }
   ],
   "source": [
    "colleges_df['sat_tot_25th_percentile'].describe()"
   ]
  },
  {
   "cell_type": "code",
   "execution_count": 113,
   "metadata": {},
   "outputs": [
    {
     "data": {
      "text/plain": [
       "0    6\n",
       "Name: sat_tot_25th_percentile, dtype: int64"
      ]
     },
     "execution_count": 113,
     "metadata": {},
     "output_type": "execute_result"
    }
   ],
   "source": [
    "colleges_df[colleges_df['sat_tot_25th_percentile'] == 0]['sat_tot_25th_percentile'].value_counts()"
   ]
  },
  {
   "cell_type": "code",
   "execution_count": 114,
   "metadata": {},
   "outputs": [
    {
     "data": {
      "text/html": [
       "<div>\n",
       "<style scoped>\n",
       "    .dataframe tbody tr th:only-of-type {\n",
       "        vertical-align: middle;\n",
       "    }\n",
       "\n",
       "    .dataframe tbody tr th {\n",
       "        vertical-align: top;\n",
       "    }\n",
       "\n",
       "    .dataframe thead th {\n",
       "        text-align: right;\n",
       "    }\n",
       "</style>\n",
       "<table border=\"1\" class=\"dataframe\">\n",
       "  <thead>\n",
       "    <tr style=\"text-align: right;\">\n",
       "      <th></th>\n",
       "      <th>School</th>\n",
       "      <th>Test Optional?</th>\n",
       "      <th>Applies to Class Year(s)</th>\n",
       "      <th>Policy Details</th>\n",
       "      <th>Number of Applicants</th>\n",
       "      <th>Accept Rate</th>\n",
       "      <th>sat_tot_25th_percentile</th>\n",
       "      <th>sat_tot_75th_percentile</th>\n",
       "      <th>act_composite_25th_percentile</th>\n",
       "      <th>act_composite_75th_percentile</th>\n",
       "    </tr>\n",
       "  </thead>\n",
       "  <tbody>\n",
       "    <tr>\n",
       "      <th>254</th>\n",
       "      <td>Gustavus Adolphus College</td>\n",
       "      <td>Yes</td>\n",
       "      <td>All / Permanent Policy</td>\n",
       "      <td>Gustavus Adolphus College offers a test option...</td>\n",
       "      <td>4957</td>\n",
       "      <td>0.692</td>\n",
       "      <td>0</td>\n",
       "      <td>0</td>\n",
       "      <td>25</td>\n",
       "      <td>30</td>\n",
       "    </tr>\n",
       "    <tr>\n",
       "      <th>305</th>\n",
       "      <td>Ball State</td>\n",
       "      <td>Yes</td>\n",
       "      <td>All / Permanent Policy</td>\n",
       "      <td>Ball State University offers a test optional p...</td>\n",
       "      <td>23305</td>\n",
       "      <td>0.767</td>\n",
       "      <td>0</td>\n",
       "      <td>0</td>\n",
       "      <td>0</td>\n",
       "      <td>0</td>\n",
       "    </tr>\n",
       "    <tr>\n",
       "      <th>375</th>\n",
       "      <td>Weber State</td>\n",
       "      <td>Yes</td>\n",
       "      <td>All / Permanent Policy</td>\n",
       "      <td>Weber State University offers a test optional ...</td>\n",
       "      <td>6853</td>\n",
       "      <td>0.891</td>\n",
       "      <td>0</td>\n",
       "      <td>0</td>\n",
       "      <td>18</td>\n",
       "      <td>24</td>\n",
       "    </tr>\n",
       "    <tr>\n",
       "      <th>383</th>\n",
       "      <td>University of Kansas</td>\n",
       "      <td>Yes*</td>\n",
       "      <td>All / Permanent Policy</td>\n",
       "      <td>The University of Kansas requires either the S...</td>\n",
       "      <td>15093</td>\n",
       "      <td>0.931</td>\n",
       "      <td>0</td>\n",
       "      <td>0</td>\n",
       "      <td>23</td>\n",
       "      <td>29</td>\n",
       "    </tr>\n",
       "    <tr>\n",
       "      <th>386</th>\n",
       "      <td>Kansas State University</td>\n",
       "      <td>Yes*</td>\n",
       "      <td>All / Permanent Policy</td>\n",
       "      <td>Kansas State requires either the SAT or ACT. H...</td>\n",
       "      <td>8140</td>\n",
       "      <td>0.957</td>\n",
       "      <td>0</td>\n",
       "      <td>0</td>\n",
       "      <td>22</td>\n",
       "      <td>28</td>\n",
       "    </tr>\n",
       "    <tr>\n",
       "      <th>405</th>\n",
       "      <td>Milwaukee School of Engineering</td>\n",
       "      <td>No</td>\n",
       "      <td>NaN</td>\n",
       "      <td>The Milwaukee School of Engineering requires e...</td>\n",
       "      <td>3552</td>\n",
       "      <td>0.617</td>\n",
       "      <td>0</td>\n",
       "      <td>0</td>\n",
       "      <td>25</td>\n",
       "      <td>30</td>\n",
       "    </tr>\n",
       "  </tbody>\n",
       "</table>\n",
       "</div>"
      ],
      "text/plain": [
       "                              School Test Optional? Applies to Class Year(s)  \\\n",
       "254        Gustavus Adolphus College            Yes   All / Permanent Policy   \n",
       "305                       Ball State            Yes   All / Permanent Policy   \n",
       "375                      Weber State            Yes   All / Permanent Policy   \n",
       "383             University of Kansas           Yes*   All / Permanent Policy   \n",
       "386          Kansas State University           Yes*   All / Permanent Policy   \n",
       "405  Milwaukee School of Engineering             No                      NaN   \n",
       "\n",
       "                                        Policy Details  Number of Applicants  \\\n",
       "254  Gustavus Adolphus College offers a test option...                  4957   \n",
       "305  Ball State University offers a test optional p...                 23305   \n",
       "375  Weber State University offers a test optional ...                  6853   \n",
       "383  The University of Kansas requires either the S...                 15093   \n",
       "386  Kansas State requires either the SAT or ACT. H...                  8140   \n",
       "405  The Milwaukee School of Engineering requires e...                  3552   \n",
       "\n",
       "     Accept Rate  sat_tot_25th_percentile  sat_tot_75th_percentile  \\\n",
       "254        0.692                        0                        0   \n",
       "305        0.767                        0                        0   \n",
       "375        0.891                        0                        0   \n",
       "383        0.931                        0                        0   \n",
       "386        0.957                        0                        0   \n",
       "405        0.617                        0                        0   \n",
       "\n",
       "     act_composite_25th_percentile  act_composite_75th_percentile  \n",
       "254                             25                             30  \n",
       "305                              0                              0  \n",
       "375                             18                             24  \n",
       "383                             23                             29  \n",
       "386                             22                             28  \n",
       "405                             25                             30  "
      ]
     },
     "execution_count": 114,
     "metadata": {},
     "output_type": "execute_result"
    }
   ],
   "source": [
    "colleges_df[colleges_df['sat_tot_25th_percentile'] == 0]"
   ]
  },
  {
   "cell_type": "code",
   "execution_count": 115,
   "metadata": {},
   "outputs": [],
   "source": [
    "colleges_df = colleges_df[colleges_df['sat_tot_25th_percentile'].map(lambda x: True if x != 0 else False)]"
   ]
  },
  {
   "cell_type": "code",
   "execution_count": 116,
   "metadata": {},
   "outputs": [
    {
     "data": {
      "text/html": [
       "<div>\n",
       "<style scoped>\n",
       "    .dataframe tbody tr th:only-of-type {\n",
       "        vertical-align: middle;\n",
       "    }\n",
       "\n",
       "    .dataframe tbody tr th {\n",
       "        vertical-align: top;\n",
       "    }\n",
       "\n",
       "    .dataframe thead th {\n",
       "        text-align: right;\n",
       "    }\n",
       "</style>\n",
       "<table border=\"1\" class=\"dataframe\">\n",
       "  <thead>\n",
       "    <tr style=\"text-align: right;\">\n",
       "      <th></th>\n",
       "      <th>School</th>\n",
       "      <th>Test Optional?</th>\n",
       "      <th>Applies to Class Year(s)</th>\n",
       "      <th>Policy Details</th>\n",
       "      <th>Number of Applicants</th>\n",
       "      <th>Accept Rate</th>\n",
       "      <th>sat_tot_25th_percentile</th>\n",
       "      <th>sat_tot_75th_percentile</th>\n",
       "      <th>act_composite_25th_percentile</th>\n",
       "      <th>act_composite_75th_percentile</th>\n",
       "    </tr>\n",
       "  </thead>\n",
       "  <tbody>\n",
       "  </tbody>\n",
       "</table>\n",
       "</div>"
      ],
      "text/plain": [
       "Empty DataFrame\n",
       "Columns: [School, Test Optional?, Applies to Class Year(s), Policy Details, Number of Applicants, Accept Rate, sat_tot_25th_percentile, sat_tot_75th_percentile, act_composite_25th_percentile, act_composite_75th_percentile]\n",
       "Index: []"
      ]
     },
     "execution_count": 116,
     "metadata": {},
     "output_type": "execute_result"
    }
   ],
   "source": [
    "colleges_df[colleges_df['sat_tot_25th_percentile'] == 0]"
   ]
  },
  {
   "cell_type": "code",
   "execution_count": 117,
   "metadata": {},
   "outputs": [
    {
     "data": {
      "text/plain": [
       "count    410.000000\n",
       "mean      24.436585\n",
       "std        4.929541\n",
       "min        0.000000\n",
       "25%       22.000000\n",
       "50%       24.000000\n",
       "75%       28.000000\n",
       "max       35.000000\n",
       "Name: act_composite_25th_percentile, dtype: float64"
      ]
     },
     "execution_count": 117,
     "metadata": {},
     "output_type": "execute_result"
    }
   ],
   "source": [
    "colleges_df['act_composite_25th_percentile'].describe()"
   ]
  },
  {
   "cell_type": "code",
   "execution_count": 118,
   "metadata": {},
   "outputs": [
    {
     "data": {
      "text/plain": [
       "0    5\n",
       "Name: act_composite_25th_percentile, dtype: int64"
      ]
     },
     "execution_count": 118,
     "metadata": {},
     "output_type": "execute_result"
    }
   ],
   "source": [
    "colleges_df[colleges_df['act_composite_25th_percentile'] == 0]['act_composite_25th_percentile'].value_counts()"
   ]
  },
  {
   "cell_type": "code",
   "execution_count": 119,
   "metadata": {},
   "outputs": [
    {
     "data": {
      "text/html": [
       "<div>\n",
       "<style scoped>\n",
       "    .dataframe tbody tr th:only-of-type {\n",
       "        vertical-align: middle;\n",
       "    }\n",
       "\n",
       "    .dataframe tbody tr th {\n",
       "        vertical-align: top;\n",
       "    }\n",
       "\n",
       "    .dataframe thead th {\n",
       "        text-align: right;\n",
       "    }\n",
       "</style>\n",
       "<table border=\"1\" class=\"dataframe\">\n",
       "  <thead>\n",
       "    <tr style=\"text-align: right;\">\n",
       "      <th></th>\n",
       "      <th>School</th>\n",
       "      <th>Test Optional?</th>\n",
       "      <th>Applies to Class Year(s)</th>\n",
       "      <th>Policy Details</th>\n",
       "      <th>Number of Applicants</th>\n",
       "      <th>Accept Rate</th>\n",
       "      <th>sat_tot_25th_percentile</th>\n",
       "      <th>sat_tot_75th_percentile</th>\n",
       "      <th>act_composite_25th_percentile</th>\n",
       "      <th>act_composite_75th_percentile</th>\n",
       "    </tr>\n",
       "  </thead>\n",
       "  <tbody>\n",
       "    <tr>\n",
       "      <th>60</th>\n",
       "      <td>University of California—​Irvine</td>\n",
       "      <td>Yes (TB)</td>\n",
       "      <td>2021 2022 2023 2024</td>\n",
       "      <td>UCI has adopted a four-year test blind policy ...</td>\n",
       "      <td>95568</td>\n",
       "      <td>0.265</td>\n",
       "      <td>1180</td>\n",
       "      <td>1440</td>\n",
       "      <td>0</td>\n",
       "      <td>0</td>\n",
       "    </tr>\n",
       "    <tr>\n",
       "      <th>93</th>\n",
       "      <td>CUNY--Hunter</td>\n",
       "      <td>Yes (TB)</td>\n",
       "      <td>2021</td>\n",
       "      <td>The CUNY system has adopted a one-year Test Bl...</td>\n",
       "      <td>31030</td>\n",
       "      <td>0.364</td>\n",
       "      <td>1090</td>\n",
       "      <td>1260</td>\n",
       "      <td>0</td>\n",
       "      <td>0</td>\n",
       "    </tr>\n",
       "    <tr>\n",
       "      <th>114</th>\n",
       "      <td>CUNY--Baruch College</td>\n",
       "      <td>Yes (TB)</td>\n",
       "      <td>2021</td>\n",
       "      <td>The CUNY system has adopted a one-year Test Bl...</td>\n",
       "      <td>20303</td>\n",
       "      <td>0.434</td>\n",
       "      <td>1130</td>\n",
       "      <td>1330</td>\n",
       "      <td>0</td>\n",
       "      <td>0</td>\n",
       "    </tr>\n",
       "    <tr>\n",
       "      <th>242</th>\n",
       "      <td>DePaul University</td>\n",
       "      <td>Yes</td>\n",
       "      <td>All / Permanent Policy</td>\n",
       "      <td>DePaul University offers a test optional polic...</td>\n",
       "      <td>26895</td>\n",
       "      <td>0.682</td>\n",
       "      <td>1070</td>\n",
       "      <td>1290</td>\n",
       "      <td>0</td>\n",
       "      <td>0</td>\n",
       "    </tr>\n",
       "    <tr>\n",
       "      <th>261</th>\n",
       "      <td>Montclair State</td>\n",
       "      <td>Yes</td>\n",
       "      <td>All / Permanent Policy</td>\n",
       "      <td>Montclair State offers a test optional policy ...</td>\n",
       "      <td>14324</td>\n",
       "      <td>0.709</td>\n",
       "      <td>990</td>\n",
       "      <td>1170</td>\n",
       "      <td>0</td>\n",
       "      <td>0</td>\n",
       "    </tr>\n",
       "  </tbody>\n",
       "</table>\n",
       "</div>"
      ],
      "text/plain": [
       "                               School Test Optional? Applies to Class Year(s)  \\\n",
       "60   University of California—​Irvine       Yes (TB)      2021 2022 2023 2024   \n",
       "93                       CUNY--Hunter       Yes (TB)                     2021   \n",
       "114              CUNY--Baruch College       Yes (TB)                     2021   \n",
       "242                 DePaul University            Yes   All / Permanent Policy   \n",
       "261                   Montclair State            Yes   All / Permanent Policy   \n",
       "\n",
       "                                        Policy Details  Number of Applicants  \\\n",
       "60   UCI has adopted a four-year test blind policy ...                 95568   \n",
       "93   The CUNY system has adopted a one-year Test Bl...                 31030   \n",
       "114  The CUNY system has adopted a one-year Test Bl...                 20303   \n",
       "242  DePaul University offers a test optional polic...                 26895   \n",
       "261  Montclair State offers a test optional policy ...                 14324   \n",
       "\n",
       "     Accept Rate  sat_tot_25th_percentile  sat_tot_75th_percentile  \\\n",
       "60         0.265                     1180                     1440   \n",
       "93         0.364                     1090                     1260   \n",
       "114        0.434                     1130                     1330   \n",
       "242        0.682                     1070                     1290   \n",
       "261        0.709                      990                     1170   \n",
       "\n",
       "     act_composite_25th_percentile  act_composite_75th_percentile  \n",
       "60                               0                              0  \n",
       "93                               0                              0  \n",
       "114                              0                              0  \n",
       "242                              0                              0  \n",
       "261                              0                              0  "
      ]
     },
     "execution_count": 119,
     "metadata": {},
     "output_type": "execute_result"
    }
   ],
   "source": [
    "colleges_df[colleges_df['act_composite_25th_percentile'] == 0]"
   ]
  },
  {
   "cell_type": "code",
   "execution_count": 120,
   "metadata": {},
   "outputs": [],
   "source": [
    "colleges_df = colleges_df[colleges_df['act_composite_25th_percentile'].map(lambda x: True if x != 0 else False)]"
   ]
  },
  {
   "cell_type": "code",
   "execution_count": 121,
   "metadata": {},
   "outputs": [
    {
     "data": {
      "text/html": [
       "<div>\n",
       "<style scoped>\n",
       "    .dataframe tbody tr th:only-of-type {\n",
       "        vertical-align: middle;\n",
       "    }\n",
       "\n",
       "    .dataframe tbody tr th {\n",
       "        vertical-align: top;\n",
       "    }\n",
       "\n",
       "    .dataframe thead th {\n",
       "        text-align: right;\n",
       "    }\n",
       "</style>\n",
       "<table border=\"1\" class=\"dataframe\">\n",
       "  <thead>\n",
       "    <tr style=\"text-align: right;\">\n",
       "      <th></th>\n",
       "      <th>School</th>\n",
       "      <th>Test Optional?</th>\n",
       "      <th>Applies to Class Year(s)</th>\n",
       "      <th>Policy Details</th>\n",
       "      <th>Number of Applicants</th>\n",
       "      <th>Accept Rate</th>\n",
       "      <th>sat_tot_25th_percentile</th>\n",
       "      <th>sat_tot_75th_percentile</th>\n",
       "      <th>act_composite_25th_percentile</th>\n",
       "      <th>act_composite_75th_percentile</th>\n",
       "    </tr>\n",
       "  </thead>\n",
       "  <tbody>\n",
       "  </tbody>\n",
       "</table>\n",
       "</div>"
      ],
      "text/plain": [
       "Empty DataFrame\n",
       "Columns: [School, Test Optional?, Applies to Class Year(s), Policy Details, Number of Applicants, Accept Rate, sat_tot_25th_percentile, sat_tot_75th_percentile, act_composite_25th_percentile, act_composite_75th_percentile]\n",
       "Index: []"
      ]
     },
     "execution_count": 121,
     "metadata": {},
     "output_type": "execute_result"
    }
   ],
   "source": [
    "colleges_df[colleges_df['act_composite_25th_percentile'] == 0]"
   ]
  },
  {
   "cell_type": "code",
   "execution_count": 122,
   "metadata": {},
   "outputs": [
    {
     "data": {
      "text/plain": [
       "Series([], dtype: int64)"
      ]
     },
     "execution_count": 122,
     "metadata": {},
     "output_type": "execute_result"
    }
   ],
   "source": [
    "colleges_df[colleges_df['sat_tot_75th_percentile'] == 0].value_counts()"
   ]
  },
  {
   "cell_type": "code",
   "execution_count": 123,
   "metadata": {},
   "outputs": [
    {
     "data": {
      "text/html": [
       "<div>\n",
       "<style scoped>\n",
       "    .dataframe tbody tr th:only-of-type {\n",
       "        vertical-align: middle;\n",
       "    }\n",
       "\n",
       "    .dataframe tbody tr th {\n",
       "        vertical-align: top;\n",
       "    }\n",
       "\n",
       "    .dataframe thead th {\n",
       "        text-align: right;\n",
       "    }\n",
       "</style>\n",
       "<table border=\"1\" class=\"dataframe\">\n",
       "  <thead>\n",
       "    <tr style=\"text-align: right;\">\n",
       "      <th></th>\n",
       "      <th>School</th>\n",
       "      <th>Test Optional?</th>\n",
       "      <th>Applies to Class Year(s)</th>\n",
       "      <th>Policy Details</th>\n",
       "      <th>Number of Applicants</th>\n",
       "      <th>Accept Rate</th>\n",
       "      <th>sat_tot_25th_percentile</th>\n",
       "      <th>sat_tot_75th_percentile</th>\n",
       "      <th>act_composite_25th_percentile</th>\n",
       "      <th>act_composite_75th_percentile</th>\n",
       "    </tr>\n",
       "  </thead>\n",
       "  <tbody>\n",
       "  </tbody>\n",
       "</table>\n",
       "</div>"
      ],
      "text/plain": [
       "Empty DataFrame\n",
       "Columns: [School, Test Optional?, Applies to Class Year(s), Policy Details, Number of Applicants, Accept Rate, sat_tot_25th_percentile, sat_tot_75th_percentile, act_composite_25th_percentile, act_composite_75th_percentile]\n",
       "Index: []"
      ]
     },
     "execution_count": 123,
     "metadata": {},
     "output_type": "execute_result"
    }
   ],
   "source": [
    "colleges_df[colleges_df['sat_tot_75th_percentile'] == 0]"
   ]
  },
  {
   "cell_type": "code",
   "execution_count": 124,
   "metadata": {},
   "outputs": [
    {
     "data": {
      "text/plain": [
       "Series([], dtype: int64)"
      ]
     },
     "execution_count": 124,
     "metadata": {},
     "output_type": "execute_result"
    }
   ],
   "source": [
    "colleges_df[colleges_df['act_composite_75th_percentile'] == 0].value_counts()"
   ]
  },
  {
   "cell_type": "code",
   "execution_count": 125,
   "metadata": {},
   "outputs": [
    {
     "data": {
      "text/html": [
       "<div>\n",
       "<style scoped>\n",
       "    .dataframe tbody tr th:only-of-type {\n",
       "        vertical-align: middle;\n",
       "    }\n",
       "\n",
       "    .dataframe tbody tr th {\n",
       "        vertical-align: top;\n",
       "    }\n",
       "\n",
       "    .dataframe thead th {\n",
       "        text-align: right;\n",
       "    }\n",
       "</style>\n",
       "<table border=\"1\" class=\"dataframe\">\n",
       "  <thead>\n",
       "    <tr style=\"text-align: right;\">\n",
       "      <th></th>\n",
       "      <th>School</th>\n",
       "      <th>Test Optional?</th>\n",
       "      <th>Applies to Class Year(s)</th>\n",
       "      <th>Policy Details</th>\n",
       "      <th>Number of Applicants</th>\n",
       "      <th>Accept Rate</th>\n",
       "      <th>sat_tot_25th_percentile</th>\n",
       "      <th>sat_tot_75th_percentile</th>\n",
       "      <th>act_composite_25th_percentile</th>\n",
       "      <th>act_composite_75th_percentile</th>\n",
       "    </tr>\n",
       "  </thead>\n",
       "  <tbody>\n",
       "  </tbody>\n",
       "</table>\n",
       "</div>"
      ],
      "text/plain": [
       "Empty DataFrame\n",
       "Columns: [School, Test Optional?, Applies to Class Year(s), Policy Details, Number of Applicants, Accept Rate, sat_tot_25th_percentile, sat_tot_75th_percentile, act_composite_25th_percentile, act_composite_75th_percentile]\n",
       "Index: []"
      ]
     },
     "execution_count": 125,
     "metadata": {},
     "output_type": "execute_result"
    }
   ],
   "source": [
    "colleges_df[colleges_df['act_composite_75th_percentile'] == 0]"
   ]
  },
  {
   "cell_type": "markdown",
   "metadata": {
    "tags": []
   },
   "source": [
    "#### 7.0 Rename Columns, SAT/ACT by College DF"
   ]
  },
  {
   "cell_type": "code",
   "execution_count": 126,
   "metadata": {},
   "outputs": [
    {
     "data": {
      "text/html": [
       "<div>\n",
       "<style scoped>\n",
       "    .dataframe tbody tr th:only-of-type {\n",
       "        vertical-align: middle;\n",
       "    }\n",
       "\n",
       "    .dataframe tbody tr th {\n",
       "        vertical-align: top;\n",
       "    }\n",
       "\n",
       "    .dataframe thead th {\n",
       "        text-align: right;\n",
       "    }\n",
       "</style>\n",
       "<table border=\"1\" class=\"dataframe\">\n",
       "  <thead>\n",
       "    <tr style=\"text-align: right;\">\n",
       "      <th></th>\n",
       "      <th>School</th>\n",
       "      <th>Test Optional?</th>\n",
       "      <th>Applies to Class Year(s)</th>\n",
       "      <th>Policy Details</th>\n",
       "      <th>Number of Applicants</th>\n",
       "      <th>Accept Rate</th>\n",
       "      <th>sat_tot_25th_percentile</th>\n",
       "      <th>sat_tot_75th_percentile</th>\n",
       "      <th>act_composite_25th_percentile</th>\n",
       "      <th>act_composite_75th_percentile</th>\n",
       "    </tr>\n",
       "  </thead>\n",
       "  <tbody>\n",
       "    <tr>\n",
       "      <th>0</th>\n",
       "      <td>Stanford University</td>\n",
       "      <td>Yes</td>\n",
       "      <td>2021</td>\n",
       "      <td>Stanford has adopted a one-year test optional ...</td>\n",
       "      <td>47452</td>\n",
       "      <td>0.043</td>\n",
       "      <td>1440</td>\n",
       "      <td>1570</td>\n",
       "      <td>32</td>\n",
       "      <td>35</td>\n",
       "    </tr>\n",
       "    <tr>\n",
       "      <th>1</th>\n",
       "      <td>Harvard College</td>\n",
       "      <td>Yes</td>\n",
       "      <td>2021</td>\n",
       "      <td>Harvard has adopted a one-year test optional p...</td>\n",
       "      <td>42749</td>\n",
       "      <td>0.047</td>\n",
       "      <td>1460</td>\n",
       "      <td>1580</td>\n",
       "      <td>33</td>\n",
       "      <td>35</td>\n",
       "    </tr>\n",
       "  </tbody>\n",
       "</table>\n",
       "</div>"
      ],
      "text/plain": [
       "                School Test Optional? Applies to Class Year(s)  \\\n",
       "0  Stanford University            Yes                     2021   \n",
       "1      Harvard College            Yes                     2021   \n",
       "\n",
       "                                      Policy Details  Number of Applicants  \\\n",
       "0  Stanford has adopted a one-year test optional ...                 47452   \n",
       "1  Harvard has adopted a one-year test optional p...                 42749   \n",
       "\n",
       "   Accept Rate  sat_tot_25th_percentile  sat_tot_75th_percentile  \\\n",
       "0        0.043                     1440                     1570   \n",
       "1        0.047                     1460                     1580   \n",
       "\n",
       "   act_composite_25th_percentile  act_composite_75th_percentile  \n",
       "0                             32                             35  \n",
       "1                             33                             35  "
      ]
     },
     "execution_count": 126,
     "metadata": {},
     "output_type": "execute_result"
    }
   ],
   "source": [
    "colleges_df.head(2)"
   ]
  },
  {
   "cell_type": "code",
   "execution_count": 127,
   "metadata": {},
   "outputs": [],
   "source": [
    "coll_df_column_dict = {\n",
    "    'School': 'school',\n",
    "    'Test Optional?': 'test_optional_or_no',\n",
    "    'Applies to Class Year(s)': 'applies_to_class_year_s',\n",
    "    'Policy Details': 'policy_details',\n",
    "    'Number of Applicants': 'number_of_applicants',\n",
    "    'Accept Rate': 'accept_rate',\n",
    "}"
   ]
  },
  {
   "cell_type": "code",
   "execution_count": 128,
   "metadata": {},
   "outputs": [
    {
     "ename": "AttributeError",
     "evalue": "'NoneType' object has no attribute 'copy'",
     "output_type": "error",
     "traceback": [
      "\u001b[0;31m---------------------------------------------------------------------------\u001b[0m",
      "\u001b[0;31mAttributeError\u001b[0m                            Traceback (most recent call last)",
      "Input \u001b[0;32mIn [128]\u001b[0m, in \u001b[0;36m<cell line: 7>\u001b[0;34m()\u001b[0m\n\u001b[1;32m      1\u001b[0m \u001b[38;5;66;03m# WHY DOES THIS THROW AN ERROR BUT APPEAR TO WORK, NONETHELESS?\u001b[39;00m\n\u001b[1;32m      2\u001b[0m \n\u001b[1;32m      3\u001b[0m \u001b[38;5;66;03m# Previously I got an error about how I was trying to work on a copy of a slice. In researching it here:\u001b[39;00m\n\u001b[1;32m      4\u001b[0m \u001b[38;5;66;03m# https://stackoverflow.com/questions/44028898/a-value-is-trying-to-be-set-on-a-copy-of-a-slice-from-a-dataframe-pandas\u001b[39;00m\n\u001b[1;32m      5\u001b[0m \u001b[38;5;66;03m# I added the .copy() at the end, which seems to have worked despite the error.\u001b[39;00m\n\u001b[0;32m----> 7\u001b[0m \u001b[43mcolleges_df\u001b[49m\u001b[38;5;241;43m.\u001b[39;49m\u001b[43mrename\u001b[49m\u001b[43m(\u001b[49m\u001b[43mcolumns\u001b[49m\u001b[43m \u001b[49m\u001b[38;5;241;43m=\u001b[39;49m\u001b[43m \u001b[49m\u001b[43mcoll_df_column_dict\u001b[49m\u001b[43m,\u001b[49m\u001b[43m \u001b[49m\u001b[43minplace\u001b[49m\u001b[43m \u001b[49m\u001b[38;5;241;43m=\u001b[39;49m\u001b[43m \u001b[49m\u001b[38;5;28;43;01mTrue\u001b[39;49;00m\u001b[43m)\u001b[49m\u001b[38;5;241;43m.\u001b[39;49m\u001b[43mcopy\u001b[49m()\n",
      "\u001b[0;31mAttributeError\u001b[0m: 'NoneType' object has no attribute 'copy'"
     ]
    }
   ],
   "source": [
    "# WHY DOES THIS THROW AN ERROR BUT APPEAR TO WORK, NONETHELESS?\n",
    "\n",
    "# Previously I got an error about how I was trying to work on a copy of a slice. In researching it here:\n",
    "# https://stackoverflow.com/questions/44028898/a-value-is-trying-to-be-set-on-a-copy-of-a-slice-from-a-dataframe-pandas\n",
    "# I added the .copy() at the end, which seems to have worked despite the error.\n",
    "\n",
    "colleges_df.rename(columns = coll_df_column_dict, inplace = True).copy()"
   ]
  },
  {
   "cell_type": "code",
   "execution_count": 129,
   "metadata": {},
   "outputs": [
    {
     "data": {
      "text/html": [
       "<div>\n",
       "<style scoped>\n",
       "    .dataframe tbody tr th:only-of-type {\n",
       "        vertical-align: middle;\n",
       "    }\n",
       "\n",
       "    .dataframe tbody tr th {\n",
       "        vertical-align: top;\n",
       "    }\n",
       "\n",
       "    .dataframe thead th {\n",
       "        text-align: right;\n",
       "    }\n",
       "</style>\n",
       "<table border=\"1\" class=\"dataframe\">\n",
       "  <thead>\n",
       "    <tr style=\"text-align: right;\">\n",
       "      <th></th>\n",
       "      <th>school</th>\n",
       "      <th>test_optional_or_no</th>\n",
       "      <th>applies_to_class_year_s</th>\n",
       "      <th>policy_details</th>\n",
       "      <th>number_of_applicants</th>\n",
       "      <th>accept_rate</th>\n",
       "      <th>sat_tot_25th_percentile</th>\n",
       "      <th>sat_tot_75th_percentile</th>\n",
       "      <th>act_composite_25th_percentile</th>\n",
       "      <th>act_composite_75th_percentile</th>\n",
       "    </tr>\n",
       "  </thead>\n",
       "  <tbody>\n",
       "    <tr>\n",
       "      <th>0</th>\n",
       "      <td>Stanford University</td>\n",
       "      <td>Yes</td>\n",
       "      <td>2021</td>\n",
       "      <td>Stanford has adopted a one-year test optional ...</td>\n",
       "      <td>47452</td>\n",
       "      <td>0.043</td>\n",
       "      <td>1440</td>\n",
       "      <td>1570</td>\n",
       "      <td>32</td>\n",
       "      <td>35</td>\n",
       "    </tr>\n",
       "    <tr>\n",
       "      <th>1</th>\n",
       "      <td>Harvard College</td>\n",
       "      <td>Yes</td>\n",
       "      <td>2021</td>\n",
       "      <td>Harvard has adopted a one-year test optional p...</td>\n",
       "      <td>42749</td>\n",
       "      <td>0.047</td>\n",
       "      <td>1460</td>\n",
       "      <td>1580</td>\n",
       "      <td>33</td>\n",
       "      <td>35</td>\n",
       "    </tr>\n",
       "    <tr>\n",
       "      <th>2</th>\n",
       "      <td>Princeton University</td>\n",
       "      <td>Yes</td>\n",
       "      <td>2021</td>\n",
       "      <td>Princeton has adopted a one-year test optional...</td>\n",
       "      <td>35370</td>\n",
       "      <td>0.055</td>\n",
       "      <td>1440</td>\n",
       "      <td>1570</td>\n",
       "      <td>32</td>\n",
       "      <td>35</td>\n",
       "    </tr>\n",
       "    <tr>\n",
       "      <th>3</th>\n",
       "      <td>Columbia University</td>\n",
       "      <td>Yes</td>\n",
       "      <td>2021</td>\n",
       "      <td>Columbia has adopted a one-year test optional ...</td>\n",
       "      <td>40203</td>\n",
       "      <td>0.055</td>\n",
       "      <td>1450</td>\n",
       "      <td>1560</td>\n",
       "      <td>33</td>\n",
       "      <td>35</td>\n",
       "    </tr>\n",
       "    <tr>\n",
       "      <th>4</th>\n",
       "      <td>Yale University</td>\n",
       "      <td>Yes</td>\n",
       "      <td>2021</td>\n",
       "      <td>Yale has adopted a one-year test optional poli...</td>\n",
       "      <td>36844</td>\n",
       "      <td>0.061</td>\n",
       "      <td>1460</td>\n",
       "      <td>1570</td>\n",
       "      <td>33</td>\n",
       "      <td>35</td>\n",
       "    </tr>\n",
       "  </tbody>\n",
       "</table>\n",
       "</div>"
      ],
      "text/plain": [
       "                 school test_optional_or_no applies_to_class_year_s  \\\n",
       "0   Stanford University                 Yes                    2021   \n",
       "1       Harvard College                 Yes                    2021   \n",
       "2  Princeton University                 Yes                    2021   \n",
       "3   Columbia University                 Yes                    2021   \n",
       "4       Yale University                 Yes                    2021   \n",
       "\n",
       "                                      policy_details  number_of_applicants  \\\n",
       "0  Stanford has adopted a one-year test optional ...                 47452   \n",
       "1  Harvard has adopted a one-year test optional p...                 42749   \n",
       "2  Princeton has adopted a one-year test optional...                 35370   \n",
       "3  Columbia has adopted a one-year test optional ...                 40203   \n",
       "4  Yale has adopted a one-year test optional poli...                 36844   \n",
       "\n",
       "   accept_rate  sat_tot_25th_percentile  sat_tot_75th_percentile  \\\n",
       "0        0.043                     1440                     1570   \n",
       "1        0.047                     1460                     1580   \n",
       "2        0.055                     1440                     1570   \n",
       "3        0.055                     1450                     1560   \n",
       "4        0.061                     1460                     1570   \n",
       "\n",
       "   act_composite_25th_percentile  act_composite_75th_percentile  \n",
       "0                             32                             35  \n",
       "1                             33                             35  \n",
       "2                             32                             35  \n",
       "3                             33                             35  \n",
       "4                             33                             35  "
      ]
     },
     "execution_count": 129,
     "metadata": {},
     "output_type": "execute_result"
    }
   ],
   "source": [
    "colleges_df.head()"
   ]
  },
  {
   "cell_type": "markdown",
   "metadata": {
    "tags": []
   },
   "source": [
    "#### 8.0 Drop Unnecessary Rows, SAT/ACT by College DF\n",
    "\n",
    "I did this above."
   ]
  },
  {
   "cell_type": "markdown",
   "metadata": {
    "jp-MarkdownHeadingCollapsed": true,
    "tags": []
   },
   "source": [
    "### Steps 9-11 were done at the same time for all of the above data sets"
   ]
  },
  {
   "cell_type": "markdown",
   "metadata": {
    "tags": []
   },
   "source": [
    "### 9.0 Merging SAT 2019 and ACT 2019 Data and adding ACT Composite to SAT Total conversion\n",
    "\n",
    "Combining the sat_19_df and act_2019_df to get act_sat_2019_df.\n",
    "\n",
    "Adding a column to give ACT Composite to SAT Total scores for each state."
   ]
  },
  {
   "cell_type": "code",
   "execution_count": 130,
   "metadata": {},
   "outputs": [
    {
     "data": {
      "text/html": [
       "<div>\n",
       "<style scoped>\n",
       "    .dataframe tbody tr th:only-of-type {\n",
       "        vertical-align: middle;\n",
       "    }\n",
       "\n",
       "    .dataframe tbody tr th {\n",
       "        vertical-align: top;\n",
       "    }\n",
       "\n",
       "    .dataframe thead th {\n",
       "        text-align: right;\n",
       "    }\n",
       "</style>\n",
       "<table border=\"1\" class=\"dataframe\">\n",
       "  <thead>\n",
       "    <tr style=\"text-align: right;\">\n",
       "      <th></th>\n",
       "      <th>state_or_territory</th>\n",
       "      <th>sat_participation_rate</th>\n",
       "      <th>sat_total</th>\n",
       "    </tr>\n",
       "  </thead>\n",
       "  <tbody>\n",
       "    <tr>\n",
       "      <th>0</th>\n",
       "      <td>Alabama</td>\n",
       "      <td>0.07</td>\n",
       "      <td>1143</td>\n",
       "    </tr>\n",
       "    <tr>\n",
       "      <th>1</th>\n",
       "      <td>Alaska</td>\n",
       "      <td>0.41</td>\n",
       "      <td>1097</td>\n",
       "    </tr>\n",
       "    <tr>\n",
       "      <th>2</th>\n",
       "      <td>Arizona</td>\n",
       "      <td>0.31</td>\n",
       "      <td>1134</td>\n",
       "    </tr>\n",
       "    <tr>\n",
       "      <th>3</th>\n",
       "      <td>Arkansas</td>\n",
       "      <td>0.06</td>\n",
       "      <td>1141</td>\n",
       "    </tr>\n",
       "    <tr>\n",
       "      <th>4</th>\n",
       "      <td>California</td>\n",
       "      <td>0.63</td>\n",
       "      <td>1065</td>\n",
       "    </tr>\n",
       "  </tbody>\n",
       "</table>\n",
       "</div>"
      ],
      "text/plain": [
       "  state_or_territory  sat_participation_rate  sat_total\n",
       "0            Alabama                    0.07       1143\n",
       "1             Alaska                    0.41       1097\n",
       "2            Arizona                    0.31       1134\n",
       "3           Arkansas                    0.06       1141\n",
       "4         California                    0.63       1065"
      ]
     },
     "execution_count": 130,
     "metadata": {},
     "output_type": "execute_result"
    }
   ],
   "source": [
    "sat_19_df.head()"
   ]
  },
  {
   "cell_type": "code",
   "execution_count": 131,
   "metadata": {},
   "outputs": [
    {
     "data": {
      "text/html": [
       "<div>\n",
       "<style scoped>\n",
       "    .dataframe tbody tr th:only-of-type {\n",
       "        vertical-align: middle;\n",
       "    }\n",
       "\n",
       "    .dataframe tbody tr th {\n",
       "        vertical-align: top;\n",
       "    }\n",
       "\n",
       "    .dataframe thead th {\n",
       "        text-align: right;\n",
       "    }\n",
       "</style>\n",
       "<table border=\"1\" class=\"dataframe\">\n",
       "  <thead>\n",
       "    <tr style=\"text-align: right;\">\n",
       "      <th></th>\n",
       "      <th>state_or_territory</th>\n",
       "      <th>act_participation_rate</th>\n",
       "      <th>act_composite</th>\n",
       "    </tr>\n",
       "  </thead>\n",
       "  <tbody>\n",
       "    <tr>\n",
       "      <th>0</th>\n",
       "      <td>Alabama</td>\n",
       "      <td>1.00</td>\n",
       "      <td>18.9</td>\n",
       "    </tr>\n",
       "    <tr>\n",
       "      <th>1</th>\n",
       "      <td>Alaska</td>\n",
       "      <td>0.38</td>\n",
       "      <td>20.1</td>\n",
       "    </tr>\n",
       "    <tr>\n",
       "      <th>2</th>\n",
       "      <td>Arizona</td>\n",
       "      <td>0.73</td>\n",
       "      <td>19.0</td>\n",
       "    </tr>\n",
       "    <tr>\n",
       "      <th>3</th>\n",
       "      <td>Arkansas</td>\n",
       "      <td>1.00</td>\n",
       "      <td>19.3</td>\n",
       "    </tr>\n",
       "    <tr>\n",
       "      <th>4</th>\n",
       "      <td>California</td>\n",
       "      <td>0.23</td>\n",
       "      <td>22.6</td>\n",
       "    </tr>\n",
       "  </tbody>\n",
       "</table>\n",
       "</div>"
      ],
      "text/plain": [
       "  state_or_territory  act_participation_rate  act_composite\n",
       "0            Alabama                    1.00           18.9\n",
       "1             Alaska                    0.38           20.1\n",
       "2            Arizona                    0.73           19.0\n",
       "3           Arkansas                    1.00           19.3\n",
       "4         California                    0.23           22.6"
      ]
     },
     "execution_count": 131,
     "metadata": {},
     "output_type": "execute_result"
    }
   ],
   "source": [
    "act2019_df.head()"
   ]
  },
  {
   "cell_type": "code",
   "execution_count": 132,
   "metadata": {},
   "outputs": [],
   "source": [
    "act_sat_2019_df = sat_19_df.set_index('state_or_territory').join(act2019_df.set_index('state_or_territory'))"
   ]
  },
  {
   "cell_type": "code",
   "execution_count": 133,
   "metadata": {},
   "outputs": [
    {
     "data": {
      "text/html": [
       "<div>\n",
       "<style scoped>\n",
       "    .dataframe tbody tr th:only-of-type {\n",
       "        vertical-align: middle;\n",
       "    }\n",
       "\n",
       "    .dataframe tbody tr th {\n",
       "        vertical-align: top;\n",
       "    }\n",
       "\n",
       "    .dataframe thead th {\n",
       "        text-align: right;\n",
       "    }\n",
       "</style>\n",
       "<table border=\"1\" class=\"dataframe\">\n",
       "  <thead>\n",
       "    <tr style=\"text-align: right;\">\n",
       "      <th></th>\n",
       "      <th>sat_participation_rate</th>\n",
       "      <th>sat_total</th>\n",
       "      <th>act_participation_rate</th>\n",
       "      <th>act_composite</th>\n",
       "    </tr>\n",
       "    <tr>\n",
       "      <th>state_or_territory</th>\n",
       "      <th></th>\n",
       "      <th></th>\n",
       "      <th></th>\n",
       "      <th></th>\n",
       "    </tr>\n",
       "  </thead>\n",
       "  <tbody>\n",
       "    <tr>\n",
       "      <th>Alabama</th>\n",
       "      <td>0.07</td>\n",
       "      <td>1143</td>\n",
       "      <td>1.00</td>\n",
       "      <td>18.9</td>\n",
       "    </tr>\n",
       "    <tr>\n",
       "      <th>Alaska</th>\n",
       "      <td>0.41</td>\n",
       "      <td>1097</td>\n",
       "      <td>0.38</td>\n",
       "      <td>20.1</td>\n",
       "    </tr>\n",
       "    <tr>\n",
       "      <th>Arizona</th>\n",
       "      <td>0.31</td>\n",
       "      <td>1134</td>\n",
       "      <td>0.73</td>\n",
       "      <td>19.0</td>\n",
       "    </tr>\n",
       "    <tr>\n",
       "      <th>Arkansas</th>\n",
       "      <td>0.06</td>\n",
       "      <td>1141</td>\n",
       "      <td>1.00</td>\n",
       "      <td>19.3</td>\n",
       "    </tr>\n",
       "    <tr>\n",
       "      <th>California</th>\n",
       "      <td>0.63</td>\n",
       "      <td>1065</td>\n",
       "      <td>0.23</td>\n",
       "      <td>22.6</td>\n",
       "    </tr>\n",
       "  </tbody>\n",
       "</table>\n",
       "</div>"
      ],
      "text/plain": [
       "                    sat_participation_rate  sat_total  act_participation_rate  \\\n",
       "state_or_territory                                                              \n",
       "Alabama                               0.07       1143                    1.00   \n",
       "Alaska                                0.41       1097                    0.38   \n",
       "Arizona                               0.31       1134                    0.73   \n",
       "Arkansas                              0.06       1141                    1.00   \n",
       "California                            0.63       1065                    0.23   \n",
       "\n",
       "                    act_composite  \n",
       "state_or_territory                 \n",
       "Alabama                      18.9  \n",
       "Alaska                       20.1  \n",
       "Arizona                      19.0  \n",
       "Arkansas                     19.3  \n",
       "California                   22.6  "
      ]
     },
     "execution_count": 133,
     "metadata": {},
     "output_type": "execute_result"
    }
   ],
   "source": [
    "act_sat_2019_df.head()"
   ]
  },
  {
   "cell_type": "code",
   "execution_count": 134,
   "metadata": {},
   "outputs": [],
   "source": [
    "# I discovered below that I needed to reset my index or I'd lose the state names from my join.\n",
    "\n",
    "act_sat_2019_df.reset_index(inplace=True)"
   ]
  },
  {
   "cell_type": "code",
   "execution_count": 135,
   "metadata": {},
   "outputs": [],
   "source": [
    "# I need to round my sat_total (to nearest ten) and act_composite (to nearest whole number) in order\n",
    "# to be able to compare them\n",
    "# got help here: https://www.tutorialkart.com/python/python-round/python-round-to-nearest-10/ on rounding to 10\n",
    "\n",
    "act_sat_2019_df['sat_total'] = act_sat_2019_df['sat_total'].map(lambda x: int(round(x/10)*10))"
   ]
  },
  {
   "cell_type": "code",
   "execution_count": 136,
   "metadata": {},
   "outputs": [
    {
     "data": {
      "text/html": [
       "<div>\n",
       "<style scoped>\n",
       "    .dataframe tbody tr th:only-of-type {\n",
       "        vertical-align: middle;\n",
       "    }\n",
       "\n",
       "    .dataframe tbody tr th {\n",
       "        vertical-align: top;\n",
       "    }\n",
       "\n",
       "    .dataframe thead th {\n",
       "        text-align: right;\n",
       "    }\n",
       "</style>\n",
       "<table border=\"1\" class=\"dataframe\">\n",
       "  <thead>\n",
       "    <tr style=\"text-align: right;\">\n",
       "      <th></th>\n",
       "      <th>state_or_territory</th>\n",
       "      <th>sat_participation_rate</th>\n",
       "      <th>sat_total</th>\n",
       "      <th>act_participation_rate</th>\n",
       "      <th>act_composite</th>\n",
       "    </tr>\n",
       "  </thead>\n",
       "  <tbody>\n",
       "    <tr>\n",
       "      <th>0</th>\n",
       "      <td>Alabama</td>\n",
       "      <td>0.07</td>\n",
       "      <td>1140</td>\n",
       "      <td>1.00</td>\n",
       "      <td>18.9</td>\n",
       "    </tr>\n",
       "    <tr>\n",
       "      <th>1</th>\n",
       "      <td>Alaska</td>\n",
       "      <td>0.41</td>\n",
       "      <td>1100</td>\n",
       "      <td>0.38</td>\n",
       "      <td>20.1</td>\n",
       "    </tr>\n",
       "    <tr>\n",
       "      <th>2</th>\n",
       "      <td>Arizona</td>\n",
       "      <td>0.31</td>\n",
       "      <td>1130</td>\n",
       "      <td>0.73</td>\n",
       "      <td>19.0</td>\n",
       "    </tr>\n",
       "    <tr>\n",
       "      <th>3</th>\n",
       "      <td>Arkansas</td>\n",
       "      <td>0.06</td>\n",
       "      <td>1140</td>\n",
       "      <td>1.00</td>\n",
       "      <td>19.3</td>\n",
       "    </tr>\n",
       "    <tr>\n",
       "      <th>4</th>\n",
       "      <td>California</td>\n",
       "      <td>0.63</td>\n",
       "      <td>1060</td>\n",
       "      <td>0.23</td>\n",
       "      <td>22.6</td>\n",
       "    </tr>\n",
       "  </tbody>\n",
       "</table>\n",
       "</div>"
      ],
      "text/plain": [
       "  state_or_territory  sat_participation_rate  sat_total  \\\n",
       "0            Alabama                    0.07       1140   \n",
       "1             Alaska                    0.41       1100   \n",
       "2            Arizona                    0.31       1130   \n",
       "3           Arkansas                    0.06       1140   \n",
       "4         California                    0.63       1060   \n",
       "\n",
       "   act_participation_rate  act_composite  \n",
       "0                    1.00           18.9  \n",
       "1                    0.38           20.1  \n",
       "2                    0.73           19.0  \n",
       "3                    1.00           19.3  \n",
       "4                    0.23           22.6  "
      ]
     },
     "execution_count": 136,
     "metadata": {},
     "output_type": "execute_result"
    }
   ],
   "source": [
    "act_sat_2019_df.head()"
   ]
  },
  {
   "cell_type": "code",
   "execution_count": 137,
   "metadata": {},
   "outputs": [],
   "source": [
    "# I need to lookup SAT total equivalent of ACT composite.\n",
    "\n",
    "act_sat_2019_df['act_composite'] = act_sat_2019_df['act_composite'].map(lambda x: round(x))"
   ]
  },
  {
   "cell_type": "code",
   "execution_count": 138,
   "metadata": {},
   "outputs": [
    {
     "data": {
      "text/html": [
       "<div>\n",
       "<style scoped>\n",
       "    .dataframe tbody tr th:only-of-type {\n",
       "        vertical-align: middle;\n",
       "    }\n",
       "\n",
       "    .dataframe tbody tr th {\n",
       "        vertical-align: top;\n",
       "    }\n",
       "\n",
       "    .dataframe thead th {\n",
       "        text-align: right;\n",
       "    }\n",
       "</style>\n",
       "<table border=\"1\" class=\"dataframe\">\n",
       "  <thead>\n",
       "    <tr style=\"text-align: right;\">\n",
       "      <th></th>\n",
       "      <th>state_or_territory</th>\n",
       "      <th>sat_participation_rate</th>\n",
       "      <th>sat_total</th>\n",
       "      <th>act_participation_rate</th>\n",
       "      <th>act_composite</th>\n",
       "    </tr>\n",
       "  </thead>\n",
       "  <tbody>\n",
       "    <tr>\n",
       "      <th>0</th>\n",
       "      <td>Alabama</td>\n",
       "      <td>0.07</td>\n",
       "      <td>1140</td>\n",
       "      <td>1.00</td>\n",
       "      <td>19</td>\n",
       "    </tr>\n",
       "    <tr>\n",
       "      <th>1</th>\n",
       "      <td>Alaska</td>\n",
       "      <td>0.41</td>\n",
       "      <td>1100</td>\n",
       "      <td>0.38</td>\n",
       "      <td>20</td>\n",
       "    </tr>\n",
       "    <tr>\n",
       "      <th>2</th>\n",
       "      <td>Arizona</td>\n",
       "      <td>0.31</td>\n",
       "      <td>1130</td>\n",
       "      <td>0.73</td>\n",
       "      <td>19</td>\n",
       "    </tr>\n",
       "    <tr>\n",
       "      <th>3</th>\n",
       "      <td>Arkansas</td>\n",
       "      <td>0.06</td>\n",
       "      <td>1140</td>\n",
       "      <td>1.00</td>\n",
       "      <td>19</td>\n",
       "    </tr>\n",
       "    <tr>\n",
       "      <th>4</th>\n",
       "      <td>California</td>\n",
       "      <td>0.63</td>\n",
       "      <td>1060</td>\n",
       "      <td>0.23</td>\n",
       "      <td>23</td>\n",
       "    </tr>\n",
       "  </tbody>\n",
       "</table>\n",
       "</div>"
      ],
      "text/plain": [
       "  state_or_territory  sat_participation_rate  sat_total  \\\n",
       "0            Alabama                    0.07       1140   \n",
       "1             Alaska                    0.41       1100   \n",
       "2            Arizona                    0.31       1130   \n",
       "3           Arkansas                    0.06       1140   \n",
       "4         California                    0.63       1060   \n",
       "\n",
       "   act_participation_rate  act_composite  \n",
       "0                    1.00             19  \n",
       "1                    0.38             20  \n",
       "2                    0.73             19  \n",
       "3                    1.00             19  \n",
       "4                    0.23             23  "
      ]
     },
     "execution_count": 138,
     "metadata": {},
     "output_type": "execute_result"
    }
   ],
   "source": [
    "act_sat_2019_df.head()"
   ]
  },
  {
   "cell_type": "code",
   "execution_count": 139,
   "metadata": {},
   "outputs": [
    {
     "data": {
      "text/plain": [
       "state_or_territory         object\n",
       "sat_participation_rate    float64\n",
       "sat_total                   int64\n",
       "act_participation_rate    float64\n",
       "act_composite               int64\n",
       "dtype: object"
      ]
     },
     "execution_count": 139,
     "metadata": {},
     "output_type": "execute_result"
    }
   ],
   "source": [
    "act_sat_2019_df.dtypes"
   ]
  },
  {
   "cell_type": "code",
   "execution_count": 140,
   "metadata": {},
   "outputs": [],
   "source": [
    "#I used this site to learn how to do this: https://www.geeksforgeeks.org/how-to-do-a-vlookup-in-python-using-pandas/\n",
    "\n",
    "act_sat_2019_df = pd.merge(act_sat_2019_df, \n",
    "                           a_to_s_df,\n",
    "                           on = 'act_composite',\n",
    "                           how = 'inner')"
   ]
  },
  {
   "cell_type": "code",
   "execution_count": 141,
   "metadata": {},
   "outputs": [
    {
     "data": {
      "text/html": [
       "<div>\n",
       "<style scoped>\n",
       "    .dataframe tbody tr th:only-of-type {\n",
       "        vertical-align: middle;\n",
       "    }\n",
       "\n",
       "    .dataframe tbody tr th {\n",
       "        vertical-align: top;\n",
       "    }\n",
       "\n",
       "    .dataframe thead th {\n",
       "        text-align: right;\n",
       "    }\n",
       "</style>\n",
       "<table border=\"1\" class=\"dataframe\">\n",
       "  <thead>\n",
       "    <tr style=\"text-align: right;\">\n",
       "      <th></th>\n",
       "      <th>state_or_territory</th>\n",
       "      <th>sat_participation_rate</th>\n",
       "      <th>sat_total</th>\n",
       "      <th>act_participation_rate</th>\n",
       "      <th>act_composite</th>\n",
       "      <th>sat_tot_score</th>\n",
       "    </tr>\n",
       "  </thead>\n",
       "  <tbody>\n",
       "    <tr>\n",
       "      <th>0</th>\n",
       "      <td>Alabama</td>\n",
       "      <td>0.07</td>\n",
       "      <td>1140</td>\n",
       "      <td>1.00</td>\n",
       "      <td>19</td>\n",
       "      <td>1010</td>\n",
       "    </tr>\n",
       "    <tr>\n",
       "      <th>1</th>\n",
       "      <td>Arizona</td>\n",
       "      <td>0.31</td>\n",
       "      <td>1130</td>\n",
       "      <td>0.73</td>\n",
       "      <td>19</td>\n",
       "      <td>1010</td>\n",
       "    </tr>\n",
       "    <tr>\n",
       "      <th>2</th>\n",
       "      <td>Arkansas</td>\n",
       "      <td>0.06</td>\n",
       "      <td>1140</td>\n",
       "      <td>1.00</td>\n",
       "      <td>19</td>\n",
       "      <td>1010</td>\n",
       "    </tr>\n",
       "    <tr>\n",
       "      <th>3</th>\n",
       "      <td>Hawaii</td>\n",
       "      <td>0.54</td>\n",
       "      <td>1100</td>\n",
       "      <td>0.80</td>\n",
       "      <td>19</td>\n",
       "      <td>1010</td>\n",
       "    </tr>\n",
       "    <tr>\n",
       "      <th>4</th>\n",
       "      <td>Louisiana</td>\n",
       "      <td>0.05</td>\n",
       "      <td>1200</td>\n",
       "      <td>1.00</td>\n",
       "      <td>19</td>\n",
       "      <td>1010</td>\n",
       "    </tr>\n",
       "  </tbody>\n",
       "</table>\n",
       "</div>"
      ],
      "text/plain": [
       "  state_or_territory  sat_participation_rate  sat_total  \\\n",
       "0            Alabama                    0.07       1140   \n",
       "1            Arizona                    0.31       1130   \n",
       "2           Arkansas                    0.06       1140   \n",
       "3             Hawaii                    0.54       1100   \n",
       "4          Louisiana                    0.05       1200   \n",
       "\n",
       "   act_participation_rate  act_composite  sat_tot_score  \n",
       "0                    1.00             19           1010  \n",
       "1                    0.73             19           1010  \n",
       "2                    1.00             19           1010  \n",
       "3                    0.80             19           1010  \n",
       "4                    1.00             19           1010  "
      ]
     },
     "execution_count": 141,
     "metadata": {},
     "output_type": "execute_result"
    }
   ],
   "source": [
    "act_sat_2019_df.head()"
   ]
  },
  {
   "cell_type": "code",
   "execution_count": 142,
   "metadata": {},
   "outputs": [],
   "source": [
    "act_sat_2019_df.rename(columns = {'sat_tot_score': 'sat_equiv_of_act_composite',},\n",
    "                                     inplace = True)"
   ]
  },
  {
   "cell_type": "code",
   "execution_count": 143,
   "metadata": {},
   "outputs": [
    {
     "data": {
      "text/html": [
       "<div>\n",
       "<style scoped>\n",
       "    .dataframe tbody tr th:only-of-type {\n",
       "        vertical-align: middle;\n",
       "    }\n",
       "\n",
       "    .dataframe tbody tr th {\n",
       "        vertical-align: top;\n",
       "    }\n",
       "\n",
       "    .dataframe thead th {\n",
       "        text-align: right;\n",
       "    }\n",
       "</style>\n",
       "<table border=\"1\" class=\"dataframe\">\n",
       "  <thead>\n",
       "    <tr style=\"text-align: right;\">\n",
       "      <th></th>\n",
       "      <th>state_or_territory</th>\n",
       "      <th>sat_participation_rate</th>\n",
       "      <th>sat_total</th>\n",
       "      <th>act_participation_rate</th>\n",
       "      <th>act_composite</th>\n",
       "      <th>sat_equiv_of_act_composite</th>\n",
       "    </tr>\n",
       "  </thead>\n",
       "  <tbody>\n",
       "    <tr>\n",
       "      <th>0</th>\n",
       "      <td>Alabama</td>\n",
       "      <td>0.07</td>\n",
       "      <td>1140</td>\n",
       "      <td>1.00</td>\n",
       "      <td>19</td>\n",
       "      <td>1010</td>\n",
       "    </tr>\n",
       "    <tr>\n",
       "      <th>1</th>\n",
       "      <td>Arizona</td>\n",
       "      <td>0.31</td>\n",
       "      <td>1130</td>\n",
       "      <td>0.73</td>\n",
       "      <td>19</td>\n",
       "      <td>1010</td>\n",
       "    </tr>\n",
       "    <tr>\n",
       "      <th>2</th>\n",
       "      <td>Arkansas</td>\n",
       "      <td>0.06</td>\n",
       "      <td>1140</td>\n",
       "      <td>1.00</td>\n",
       "      <td>19</td>\n",
       "      <td>1010</td>\n",
       "    </tr>\n",
       "    <tr>\n",
       "      <th>3</th>\n",
       "      <td>Hawaii</td>\n",
       "      <td>0.54</td>\n",
       "      <td>1100</td>\n",
       "      <td>0.80</td>\n",
       "      <td>19</td>\n",
       "      <td>1010</td>\n",
       "    </tr>\n",
       "    <tr>\n",
       "      <th>4</th>\n",
       "      <td>Louisiana</td>\n",
       "      <td>0.05</td>\n",
       "      <td>1200</td>\n",
       "      <td>1.00</td>\n",
       "      <td>19</td>\n",
       "      <td>1010</td>\n",
       "    </tr>\n",
       "  </tbody>\n",
       "</table>\n",
       "</div>"
      ],
      "text/plain": [
       "  state_or_territory  sat_participation_rate  sat_total  \\\n",
       "0            Alabama                    0.07       1140   \n",
       "1            Arizona                    0.31       1130   \n",
       "2           Arkansas                    0.06       1140   \n",
       "3             Hawaii                    0.54       1100   \n",
       "4          Louisiana                    0.05       1200   \n",
       "\n",
       "   act_participation_rate  act_composite  sat_equiv_of_act_composite  \n",
       "0                    1.00             19                        1010  \n",
       "1                    0.73             19                        1010  \n",
       "2                    1.00             19                        1010  \n",
       "3                    0.80             19                        1010  \n",
       "4                    1.00             19                        1010  "
      ]
     },
     "execution_count": 143,
     "metadata": {},
     "output_type": "execute_result"
    }
   ],
   "source": [
    "act_sat_2019_df.head()"
   ]
  },
  {
   "cell_type": "markdown",
   "metadata": {
    "tags": []
   },
   "source": [
    "### 9.1 Adding ACT Composite to SAT total conversion to SAT/ACT by College Data Frame\n",
    "\n",
    "Adding a column to give ACT Composite to SAT Total scores for ACT 25th Percentile and ACT 75th percentile\n",
    "\n",
    "This stackoverflow on merging was very helpful:\n",
    "https://stackoverflow.com/questions/53645882/pandas-merging-101"
   ]
  },
  {
   "cell_type": "code",
   "execution_count": 144,
   "metadata": {},
   "outputs": [
    {
     "data": {
      "text/html": [
       "<div>\n",
       "<style scoped>\n",
       "    .dataframe tbody tr th:only-of-type {\n",
       "        vertical-align: middle;\n",
       "    }\n",
       "\n",
       "    .dataframe tbody tr th {\n",
       "        vertical-align: top;\n",
       "    }\n",
       "\n",
       "    .dataframe thead th {\n",
       "        text-align: right;\n",
       "    }\n",
       "</style>\n",
       "<table border=\"1\" class=\"dataframe\">\n",
       "  <thead>\n",
       "    <tr style=\"text-align: right;\">\n",
       "      <th></th>\n",
       "      <th>school</th>\n",
       "      <th>test_optional_or_no</th>\n",
       "      <th>applies_to_class_year_s</th>\n",
       "      <th>policy_details</th>\n",
       "      <th>number_of_applicants</th>\n",
       "      <th>accept_rate</th>\n",
       "      <th>sat_tot_25th_percentile</th>\n",
       "      <th>sat_tot_75th_percentile</th>\n",
       "      <th>act_composite_25th_percentile</th>\n",
       "      <th>act_composite_75th_percentile</th>\n",
       "    </tr>\n",
       "  </thead>\n",
       "  <tbody>\n",
       "    <tr>\n",
       "      <th>0</th>\n",
       "      <td>Stanford University</td>\n",
       "      <td>Yes</td>\n",
       "      <td>2021</td>\n",
       "      <td>Stanford has adopted a one-year test optional ...</td>\n",
       "      <td>47452</td>\n",
       "      <td>0.043</td>\n",
       "      <td>1440</td>\n",
       "      <td>1570</td>\n",
       "      <td>32</td>\n",
       "      <td>35</td>\n",
       "    </tr>\n",
       "    <tr>\n",
       "      <th>1</th>\n",
       "      <td>Harvard College</td>\n",
       "      <td>Yes</td>\n",
       "      <td>2021</td>\n",
       "      <td>Harvard has adopted a one-year test optional p...</td>\n",
       "      <td>42749</td>\n",
       "      <td>0.047</td>\n",
       "      <td>1460</td>\n",
       "      <td>1580</td>\n",
       "      <td>33</td>\n",
       "      <td>35</td>\n",
       "    </tr>\n",
       "    <tr>\n",
       "      <th>2</th>\n",
       "      <td>Princeton University</td>\n",
       "      <td>Yes</td>\n",
       "      <td>2021</td>\n",
       "      <td>Princeton has adopted a one-year test optional...</td>\n",
       "      <td>35370</td>\n",
       "      <td>0.055</td>\n",
       "      <td>1440</td>\n",
       "      <td>1570</td>\n",
       "      <td>32</td>\n",
       "      <td>35</td>\n",
       "    </tr>\n",
       "    <tr>\n",
       "      <th>3</th>\n",
       "      <td>Columbia University</td>\n",
       "      <td>Yes</td>\n",
       "      <td>2021</td>\n",
       "      <td>Columbia has adopted a one-year test optional ...</td>\n",
       "      <td>40203</td>\n",
       "      <td>0.055</td>\n",
       "      <td>1450</td>\n",
       "      <td>1560</td>\n",
       "      <td>33</td>\n",
       "      <td>35</td>\n",
       "    </tr>\n",
       "    <tr>\n",
       "      <th>4</th>\n",
       "      <td>Yale University</td>\n",
       "      <td>Yes</td>\n",
       "      <td>2021</td>\n",
       "      <td>Yale has adopted a one-year test optional poli...</td>\n",
       "      <td>36844</td>\n",
       "      <td>0.061</td>\n",
       "      <td>1460</td>\n",
       "      <td>1570</td>\n",
       "      <td>33</td>\n",
       "      <td>35</td>\n",
       "    </tr>\n",
       "  </tbody>\n",
       "</table>\n",
       "</div>"
      ],
      "text/plain": [
       "                 school test_optional_or_no applies_to_class_year_s  \\\n",
       "0   Stanford University                 Yes                    2021   \n",
       "1       Harvard College                 Yes                    2021   \n",
       "2  Princeton University                 Yes                    2021   \n",
       "3   Columbia University                 Yes                    2021   \n",
       "4       Yale University                 Yes                    2021   \n",
       "\n",
       "                                      policy_details  number_of_applicants  \\\n",
       "0  Stanford has adopted a one-year test optional ...                 47452   \n",
       "1  Harvard has adopted a one-year test optional p...                 42749   \n",
       "2  Princeton has adopted a one-year test optional...                 35370   \n",
       "3  Columbia has adopted a one-year test optional ...                 40203   \n",
       "4  Yale has adopted a one-year test optional poli...                 36844   \n",
       "\n",
       "   accept_rate  sat_tot_25th_percentile  sat_tot_75th_percentile  \\\n",
       "0        0.043                     1440                     1570   \n",
       "1        0.047                     1460                     1580   \n",
       "2        0.055                     1440                     1570   \n",
       "3        0.055                     1450                     1560   \n",
       "4        0.061                     1460                     1570   \n",
       "\n",
       "   act_composite_25th_percentile  act_composite_75th_percentile  \n",
       "0                             32                             35  \n",
       "1                             33                             35  \n",
       "2                             32                             35  \n",
       "3                             33                             35  \n",
       "4                             33                             35  "
      ]
     },
     "execution_count": 144,
     "metadata": {},
     "output_type": "execute_result"
    }
   ],
   "source": [
    "colleges_df.head()"
   ]
  },
  {
   "cell_type": "code",
   "execution_count": 145,
   "metadata": {},
   "outputs": [
    {
     "data": {
      "text/html": [
       "<div>\n",
       "<style scoped>\n",
       "    .dataframe tbody tr th:only-of-type {\n",
       "        vertical-align: middle;\n",
       "    }\n",
       "\n",
       "    .dataframe tbody tr th {\n",
       "        vertical-align: top;\n",
       "    }\n",
       "\n",
       "    .dataframe thead th {\n",
       "        text-align: right;\n",
       "    }\n",
       "</style>\n",
       "<table border=\"1\" class=\"dataframe\">\n",
       "  <thead>\n",
       "    <tr style=\"text-align: right;\">\n",
       "      <th></th>\n",
       "      <th>sat_tot_score</th>\n",
       "      <th>act_composite</th>\n",
       "    </tr>\n",
       "  </thead>\n",
       "  <tbody>\n",
       "    <tr>\n",
       "      <th>1</th>\n",
       "      <td>1590</td>\n",
       "      <td>36</td>\n",
       "    </tr>\n",
       "    <tr>\n",
       "      <th>6</th>\n",
       "      <td>1540</td>\n",
       "      <td>35</td>\n",
       "    </tr>\n",
       "    <tr>\n",
       "      <th>10</th>\n",
       "      <td>1500</td>\n",
       "      <td>34</td>\n",
       "    </tr>\n",
       "    <tr>\n",
       "      <th>14</th>\n",
       "      <td>1460</td>\n",
       "      <td>33</td>\n",
       "    </tr>\n",
       "    <tr>\n",
       "      <th>17</th>\n",
       "      <td>1430</td>\n",
       "      <td>32</td>\n",
       "    </tr>\n",
       "  </tbody>\n",
       "</table>\n",
       "</div>"
      ],
      "text/plain": [
       "    sat_tot_score  act_composite\n",
       "1            1590             36\n",
       "6            1540             35\n",
       "10           1500             34\n",
       "14           1460             33\n",
       "17           1430             32"
      ]
     },
     "execution_count": 145,
     "metadata": {},
     "output_type": "execute_result"
    }
   ],
   "source": [
    "a_to_s_df.head()"
   ]
  },
  {
   "cell_type": "code",
   "execution_count": 146,
   "metadata": {},
   "outputs": [],
   "source": [
    "colleges_df = colleges_df.merge(a_to_s_df, left_on='act_composite_25th_percentile', right_on='act_composite', how='left')"
   ]
  },
  {
   "cell_type": "code",
   "execution_count": 147,
   "metadata": {},
   "outputs": [
    {
     "data": {
      "text/html": [
       "<div>\n",
       "<style scoped>\n",
       "    .dataframe tbody tr th:only-of-type {\n",
       "        vertical-align: middle;\n",
       "    }\n",
       "\n",
       "    .dataframe tbody tr th {\n",
       "        vertical-align: top;\n",
       "    }\n",
       "\n",
       "    .dataframe thead th {\n",
       "        text-align: right;\n",
       "    }\n",
       "</style>\n",
       "<table border=\"1\" class=\"dataframe\">\n",
       "  <thead>\n",
       "    <tr style=\"text-align: right;\">\n",
       "      <th></th>\n",
       "      <th>school</th>\n",
       "      <th>test_optional_or_no</th>\n",
       "      <th>applies_to_class_year_s</th>\n",
       "      <th>policy_details</th>\n",
       "      <th>number_of_applicants</th>\n",
       "      <th>accept_rate</th>\n",
       "      <th>sat_tot_25th_percentile</th>\n",
       "      <th>sat_tot_75th_percentile</th>\n",
       "      <th>act_composite_25th_percentile</th>\n",
       "      <th>act_composite_75th_percentile</th>\n",
       "      <th>sat_tot_score</th>\n",
       "      <th>act_composite</th>\n",
       "    </tr>\n",
       "  </thead>\n",
       "  <tbody>\n",
       "    <tr>\n",
       "      <th>0</th>\n",
       "      <td>Stanford University</td>\n",
       "      <td>Yes</td>\n",
       "      <td>2021</td>\n",
       "      <td>Stanford has adopted a one-year test optional ...</td>\n",
       "      <td>47452</td>\n",
       "      <td>0.043</td>\n",
       "      <td>1440</td>\n",
       "      <td>1570</td>\n",
       "      <td>32</td>\n",
       "      <td>35</td>\n",
       "      <td>1430</td>\n",
       "      <td>32</td>\n",
       "    </tr>\n",
       "    <tr>\n",
       "      <th>1</th>\n",
       "      <td>Harvard College</td>\n",
       "      <td>Yes</td>\n",
       "      <td>2021</td>\n",
       "      <td>Harvard has adopted a one-year test optional p...</td>\n",
       "      <td>42749</td>\n",
       "      <td>0.047</td>\n",
       "      <td>1460</td>\n",
       "      <td>1580</td>\n",
       "      <td>33</td>\n",
       "      <td>35</td>\n",
       "      <td>1460</td>\n",
       "      <td>33</td>\n",
       "    </tr>\n",
       "    <tr>\n",
       "      <th>2</th>\n",
       "      <td>Princeton University</td>\n",
       "      <td>Yes</td>\n",
       "      <td>2021</td>\n",
       "      <td>Princeton has adopted a one-year test optional...</td>\n",
       "      <td>35370</td>\n",
       "      <td>0.055</td>\n",
       "      <td>1440</td>\n",
       "      <td>1570</td>\n",
       "      <td>32</td>\n",
       "      <td>35</td>\n",
       "      <td>1430</td>\n",
       "      <td>32</td>\n",
       "    </tr>\n",
       "    <tr>\n",
       "      <th>3</th>\n",
       "      <td>Columbia University</td>\n",
       "      <td>Yes</td>\n",
       "      <td>2021</td>\n",
       "      <td>Columbia has adopted a one-year test optional ...</td>\n",
       "      <td>40203</td>\n",
       "      <td>0.055</td>\n",
       "      <td>1450</td>\n",
       "      <td>1560</td>\n",
       "      <td>33</td>\n",
       "      <td>35</td>\n",
       "      <td>1460</td>\n",
       "      <td>33</td>\n",
       "    </tr>\n",
       "    <tr>\n",
       "      <th>4</th>\n",
       "      <td>Yale University</td>\n",
       "      <td>Yes</td>\n",
       "      <td>2021</td>\n",
       "      <td>Yale has adopted a one-year test optional poli...</td>\n",
       "      <td>36844</td>\n",
       "      <td>0.061</td>\n",
       "      <td>1460</td>\n",
       "      <td>1570</td>\n",
       "      <td>33</td>\n",
       "      <td>35</td>\n",
       "      <td>1460</td>\n",
       "      <td>33</td>\n",
       "    </tr>\n",
       "  </tbody>\n",
       "</table>\n",
       "</div>"
      ],
      "text/plain": [
       "                 school test_optional_or_no applies_to_class_year_s  \\\n",
       "0   Stanford University                 Yes                    2021   \n",
       "1       Harvard College                 Yes                    2021   \n",
       "2  Princeton University                 Yes                    2021   \n",
       "3   Columbia University                 Yes                    2021   \n",
       "4       Yale University                 Yes                    2021   \n",
       "\n",
       "                                      policy_details  number_of_applicants  \\\n",
       "0  Stanford has adopted a one-year test optional ...                 47452   \n",
       "1  Harvard has adopted a one-year test optional p...                 42749   \n",
       "2  Princeton has adopted a one-year test optional...                 35370   \n",
       "3  Columbia has adopted a one-year test optional ...                 40203   \n",
       "4  Yale has adopted a one-year test optional poli...                 36844   \n",
       "\n",
       "   accept_rate  sat_tot_25th_percentile  sat_tot_75th_percentile  \\\n",
       "0        0.043                     1440                     1570   \n",
       "1        0.047                     1460                     1580   \n",
       "2        0.055                     1440                     1570   \n",
       "3        0.055                     1450                     1560   \n",
       "4        0.061                     1460                     1570   \n",
       "\n",
       "   act_composite_25th_percentile  act_composite_75th_percentile  \\\n",
       "0                             32                             35   \n",
       "1                             33                             35   \n",
       "2                             32                             35   \n",
       "3                             33                             35   \n",
       "4                             33                             35   \n",
       "\n",
       "   sat_tot_score  act_composite  \n",
       "0           1430             32  \n",
       "1           1460             33  \n",
       "2           1430             32  \n",
       "3           1460             33  \n",
       "4           1460             33  "
      ]
     },
     "execution_count": 147,
     "metadata": {},
     "output_type": "execute_result"
    }
   ],
   "source": [
    "colleges_df.head()"
   ]
  },
  {
   "cell_type": "code",
   "execution_count": 148,
   "metadata": {},
   "outputs": [],
   "source": [
    "colleges_df.drop('act_composite', axis = 1, inplace = True)\n",
    "colleges_df.rename(columns = {'sat_tot_score': 'sat_equiv_of_act_25th',},\n",
    "                  inplace = True)"
   ]
  },
  {
   "cell_type": "code",
   "execution_count": 149,
   "metadata": {},
   "outputs": [
    {
     "data": {
      "text/html": [
       "<div>\n",
       "<style scoped>\n",
       "    .dataframe tbody tr th:only-of-type {\n",
       "        vertical-align: middle;\n",
       "    }\n",
       "\n",
       "    .dataframe tbody tr th {\n",
       "        vertical-align: top;\n",
       "    }\n",
       "\n",
       "    .dataframe thead th {\n",
       "        text-align: right;\n",
       "    }\n",
       "</style>\n",
       "<table border=\"1\" class=\"dataframe\">\n",
       "  <thead>\n",
       "    <tr style=\"text-align: right;\">\n",
       "      <th></th>\n",
       "      <th>school</th>\n",
       "      <th>test_optional_or_no</th>\n",
       "      <th>applies_to_class_year_s</th>\n",
       "      <th>policy_details</th>\n",
       "      <th>number_of_applicants</th>\n",
       "      <th>accept_rate</th>\n",
       "      <th>sat_tot_25th_percentile</th>\n",
       "      <th>sat_tot_75th_percentile</th>\n",
       "      <th>act_composite_25th_percentile</th>\n",
       "      <th>act_composite_75th_percentile</th>\n",
       "      <th>sat_equiv_of_act_25th</th>\n",
       "    </tr>\n",
       "  </thead>\n",
       "  <tbody>\n",
       "    <tr>\n",
       "      <th>0</th>\n",
       "      <td>Stanford University</td>\n",
       "      <td>Yes</td>\n",
       "      <td>2021</td>\n",
       "      <td>Stanford has adopted a one-year test optional ...</td>\n",
       "      <td>47452</td>\n",
       "      <td>0.043</td>\n",
       "      <td>1440</td>\n",
       "      <td>1570</td>\n",
       "      <td>32</td>\n",
       "      <td>35</td>\n",
       "      <td>1430</td>\n",
       "    </tr>\n",
       "    <tr>\n",
       "      <th>1</th>\n",
       "      <td>Harvard College</td>\n",
       "      <td>Yes</td>\n",
       "      <td>2021</td>\n",
       "      <td>Harvard has adopted a one-year test optional p...</td>\n",
       "      <td>42749</td>\n",
       "      <td>0.047</td>\n",
       "      <td>1460</td>\n",
       "      <td>1580</td>\n",
       "      <td>33</td>\n",
       "      <td>35</td>\n",
       "      <td>1460</td>\n",
       "    </tr>\n",
       "    <tr>\n",
       "      <th>2</th>\n",
       "      <td>Princeton University</td>\n",
       "      <td>Yes</td>\n",
       "      <td>2021</td>\n",
       "      <td>Princeton has adopted a one-year test optional...</td>\n",
       "      <td>35370</td>\n",
       "      <td>0.055</td>\n",
       "      <td>1440</td>\n",
       "      <td>1570</td>\n",
       "      <td>32</td>\n",
       "      <td>35</td>\n",
       "      <td>1430</td>\n",
       "    </tr>\n",
       "    <tr>\n",
       "      <th>3</th>\n",
       "      <td>Columbia University</td>\n",
       "      <td>Yes</td>\n",
       "      <td>2021</td>\n",
       "      <td>Columbia has adopted a one-year test optional ...</td>\n",
       "      <td>40203</td>\n",
       "      <td>0.055</td>\n",
       "      <td>1450</td>\n",
       "      <td>1560</td>\n",
       "      <td>33</td>\n",
       "      <td>35</td>\n",
       "      <td>1460</td>\n",
       "    </tr>\n",
       "    <tr>\n",
       "      <th>4</th>\n",
       "      <td>Yale University</td>\n",
       "      <td>Yes</td>\n",
       "      <td>2021</td>\n",
       "      <td>Yale has adopted a one-year test optional poli...</td>\n",
       "      <td>36844</td>\n",
       "      <td>0.061</td>\n",
       "      <td>1460</td>\n",
       "      <td>1570</td>\n",
       "      <td>33</td>\n",
       "      <td>35</td>\n",
       "      <td>1460</td>\n",
       "    </tr>\n",
       "  </tbody>\n",
       "</table>\n",
       "</div>"
      ],
      "text/plain": [
       "                 school test_optional_or_no applies_to_class_year_s  \\\n",
       "0   Stanford University                 Yes                    2021   \n",
       "1       Harvard College                 Yes                    2021   \n",
       "2  Princeton University                 Yes                    2021   \n",
       "3   Columbia University                 Yes                    2021   \n",
       "4       Yale University                 Yes                    2021   \n",
       "\n",
       "                                      policy_details  number_of_applicants  \\\n",
       "0  Stanford has adopted a one-year test optional ...                 47452   \n",
       "1  Harvard has adopted a one-year test optional p...                 42749   \n",
       "2  Princeton has adopted a one-year test optional...                 35370   \n",
       "3  Columbia has adopted a one-year test optional ...                 40203   \n",
       "4  Yale has adopted a one-year test optional poli...                 36844   \n",
       "\n",
       "   accept_rate  sat_tot_25th_percentile  sat_tot_75th_percentile  \\\n",
       "0        0.043                     1440                     1570   \n",
       "1        0.047                     1460                     1580   \n",
       "2        0.055                     1440                     1570   \n",
       "3        0.055                     1450                     1560   \n",
       "4        0.061                     1460                     1570   \n",
       "\n",
       "   act_composite_25th_percentile  act_composite_75th_percentile  \\\n",
       "0                             32                             35   \n",
       "1                             33                             35   \n",
       "2                             32                             35   \n",
       "3                             33                             35   \n",
       "4                             33                             35   \n",
       "\n",
       "   sat_equiv_of_act_25th  \n",
       "0                   1430  \n",
       "1                   1460  \n",
       "2                   1430  \n",
       "3                   1460  \n",
       "4                   1460  "
      ]
     },
     "execution_count": 149,
     "metadata": {},
     "output_type": "execute_result"
    }
   ],
   "source": [
    "colleges_df.head()"
   ]
  },
  {
   "cell_type": "code",
   "execution_count": 150,
   "metadata": {},
   "outputs": [],
   "source": [
    "colleges_df = colleges_df.merge(a_to_s_df, left_on='act_composite_75th_percentile', right_on='act_composite', how='left')"
   ]
  },
  {
   "cell_type": "code",
   "execution_count": 151,
   "metadata": {},
   "outputs": [
    {
     "data": {
      "text/html": [
       "<div>\n",
       "<style scoped>\n",
       "    .dataframe tbody tr th:only-of-type {\n",
       "        vertical-align: middle;\n",
       "    }\n",
       "\n",
       "    .dataframe tbody tr th {\n",
       "        vertical-align: top;\n",
       "    }\n",
       "\n",
       "    .dataframe thead th {\n",
       "        text-align: right;\n",
       "    }\n",
       "</style>\n",
       "<table border=\"1\" class=\"dataframe\">\n",
       "  <thead>\n",
       "    <tr style=\"text-align: right;\">\n",
       "      <th></th>\n",
       "      <th>school</th>\n",
       "      <th>test_optional_or_no</th>\n",
       "      <th>applies_to_class_year_s</th>\n",
       "      <th>policy_details</th>\n",
       "      <th>number_of_applicants</th>\n",
       "      <th>accept_rate</th>\n",
       "      <th>sat_tot_25th_percentile</th>\n",
       "      <th>sat_tot_75th_percentile</th>\n",
       "      <th>act_composite_25th_percentile</th>\n",
       "      <th>act_composite_75th_percentile</th>\n",
       "      <th>sat_equiv_of_act_25th</th>\n",
       "      <th>sat_tot_score</th>\n",
       "      <th>act_composite</th>\n",
       "    </tr>\n",
       "  </thead>\n",
       "  <tbody>\n",
       "    <tr>\n",
       "      <th>0</th>\n",
       "      <td>Stanford University</td>\n",
       "      <td>Yes</td>\n",
       "      <td>2021</td>\n",
       "      <td>Stanford has adopted a one-year test optional ...</td>\n",
       "      <td>47452</td>\n",
       "      <td>0.043</td>\n",
       "      <td>1440</td>\n",
       "      <td>1570</td>\n",
       "      <td>32</td>\n",
       "      <td>35</td>\n",
       "      <td>1430</td>\n",
       "      <td>1540</td>\n",
       "      <td>35</td>\n",
       "    </tr>\n",
       "    <tr>\n",
       "      <th>1</th>\n",
       "      <td>Harvard College</td>\n",
       "      <td>Yes</td>\n",
       "      <td>2021</td>\n",
       "      <td>Harvard has adopted a one-year test optional p...</td>\n",
       "      <td>42749</td>\n",
       "      <td>0.047</td>\n",
       "      <td>1460</td>\n",
       "      <td>1580</td>\n",
       "      <td>33</td>\n",
       "      <td>35</td>\n",
       "      <td>1460</td>\n",
       "      <td>1540</td>\n",
       "      <td>35</td>\n",
       "    </tr>\n",
       "    <tr>\n",
       "      <th>2</th>\n",
       "      <td>Princeton University</td>\n",
       "      <td>Yes</td>\n",
       "      <td>2021</td>\n",
       "      <td>Princeton has adopted a one-year test optional...</td>\n",
       "      <td>35370</td>\n",
       "      <td>0.055</td>\n",
       "      <td>1440</td>\n",
       "      <td>1570</td>\n",
       "      <td>32</td>\n",
       "      <td>35</td>\n",
       "      <td>1430</td>\n",
       "      <td>1540</td>\n",
       "      <td>35</td>\n",
       "    </tr>\n",
       "    <tr>\n",
       "      <th>3</th>\n",
       "      <td>Columbia University</td>\n",
       "      <td>Yes</td>\n",
       "      <td>2021</td>\n",
       "      <td>Columbia has adopted a one-year test optional ...</td>\n",
       "      <td>40203</td>\n",
       "      <td>0.055</td>\n",
       "      <td>1450</td>\n",
       "      <td>1560</td>\n",
       "      <td>33</td>\n",
       "      <td>35</td>\n",
       "      <td>1460</td>\n",
       "      <td>1540</td>\n",
       "      <td>35</td>\n",
       "    </tr>\n",
       "    <tr>\n",
       "      <th>4</th>\n",
       "      <td>Yale University</td>\n",
       "      <td>Yes</td>\n",
       "      <td>2021</td>\n",
       "      <td>Yale has adopted a one-year test optional poli...</td>\n",
       "      <td>36844</td>\n",
       "      <td>0.061</td>\n",
       "      <td>1460</td>\n",
       "      <td>1570</td>\n",
       "      <td>33</td>\n",
       "      <td>35</td>\n",
       "      <td>1460</td>\n",
       "      <td>1540</td>\n",
       "      <td>35</td>\n",
       "    </tr>\n",
       "  </tbody>\n",
       "</table>\n",
       "</div>"
      ],
      "text/plain": [
       "                 school test_optional_or_no applies_to_class_year_s  \\\n",
       "0   Stanford University                 Yes                    2021   \n",
       "1       Harvard College                 Yes                    2021   \n",
       "2  Princeton University                 Yes                    2021   \n",
       "3   Columbia University                 Yes                    2021   \n",
       "4       Yale University                 Yes                    2021   \n",
       "\n",
       "                                      policy_details  number_of_applicants  \\\n",
       "0  Stanford has adopted a one-year test optional ...                 47452   \n",
       "1  Harvard has adopted a one-year test optional p...                 42749   \n",
       "2  Princeton has adopted a one-year test optional...                 35370   \n",
       "3  Columbia has adopted a one-year test optional ...                 40203   \n",
       "4  Yale has adopted a one-year test optional poli...                 36844   \n",
       "\n",
       "   accept_rate  sat_tot_25th_percentile  sat_tot_75th_percentile  \\\n",
       "0        0.043                     1440                     1570   \n",
       "1        0.047                     1460                     1580   \n",
       "2        0.055                     1440                     1570   \n",
       "3        0.055                     1450                     1560   \n",
       "4        0.061                     1460                     1570   \n",
       "\n",
       "   act_composite_25th_percentile  act_composite_75th_percentile  \\\n",
       "0                             32                             35   \n",
       "1                             33                             35   \n",
       "2                             32                             35   \n",
       "3                             33                             35   \n",
       "4                             33                             35   \n",
       "\n",
       "   sat_equiv_of_act_25th  sat_tot_score  act_composite  \n",
       "0                   1430           1540             35  \n",
       "1                   1460           1540             35  \n",
       "2                   1430           1540             35  \n",
       "3                   1460           1540             35  \n",
       "4                   1460           1540             35  "
      ]
     },
     "execution_count": 151,
     "metadata": {},
     "output_type": "execute_result"
    }
   ],
   "source": [
    "colleges_df.head()"
   ]
  },
  {
   "cell_type": "code",
   "execution_count": 152,
   "metadata": {},
   "outputs": [],
   "source": [
    "colleges_df.drop('act_composite', axis = 1, inplace = True)\n",
    "colleges_df.rename(columns = {'sat_tot_score': 'sat_equiv_of_act_75th',},\n",
    "                  inplace = True)"
   ]
  },
  {
   "cell_type": "code",
   "execution_count": 153,
   "metadata": {},
   "outputs": [
    {
     "data": {
      "text/html": [
       "<div>\n",
       "<style scoped>\n",
       "    .dataframe tbody tr th:only-of-type {\n",
       "        vertical-align: middle;\n",
       "    }\n",
       "\n",
       "    .dataframe tbody tr th {\n",
       "        vertical-align: top;\n",
       "    }\n",
       "\n",
       "    .dataframe thead th {\n",
       "        text-align: right;\n",
       "    }\n",
       "</style>\n",
       "<table border=\"1\" class=\"dataframe\">\n",
       "  <thead>\n",
       "    <tr style=\"text-align: right;\">\n",
       "      <th></th>\n",
       "      <th>school</th>\n",
       "      <th>test_optional_or_no</th>\n",
       "      <th>applies_to_class_year_s</th>\n",
       "      <th>policy_details</th>\n",
       "      <th>number_of_applicants</th>\n",
       "      <th>accept_rate</th>\n",
       "      <th>sat_tot_25th_percentile</th>\n",
       "      <th>sat_tot_75th_percentile</th>\n",
       "      <th>act_composite_25th_percentile</th>\n",
       "      <th>act_composite_75th_percentile</th>\n",
       "      <th>sat_equiv_of_act_25th</th>\n",
       "      <th>sat_equiv_of_act_75th</th>\n",
       "    </tr>\n",
       "  </thead>\n",
       "  <tbody>\n",
       "    <tr>\n",
       "      <th>0</th>\n",
       "      <td>Stanford University</td>\n",
       "      <td>Yes</td>\n",
       "      <td>2021</td>\n",
       "      <td>Stanford has adopted a one-year test optional ...</td>\n",
       "      <td>47452</td>\n",
       "      <td>0.043</td>\n",
       "      <td>1440</td>\n",
       "      <td>1570</td>\n",
       "      <td>32</td>\n",
       "      <td>35</td>\n",
       "      <td>1430</td>\n",
       "      <td>1540</td>\n",
       "    </tr>\n",
       "    <tr>\n",
       "      <th>1</th>\n",
       "      <td>Harvard College</td>\n",
       "      <td>Yes</td>\n",
       "      <td>2021</td>\n",
       "      <td>Harvard has adopted a one-year test optional p...</td>\n",
       "      <td>42749</td>\n",
       "      <td>0.047</td>\n",
       "      <td>1460</td>\n",
       "      <td>1580</td>\n",
       "      <td>33</td>\n",
       "      <td>35</td>\n",
       "      <td>1460</td>\n",
       "      <td>1540</td>\n",
       "    </tr>\n",
       "    <tr>\n",
       "      <th>2</th>\n",
       "      <td>Princeton University</td>\n",
       "      <td>Yes</td>\n",
       "      <td>2021</td>\n",
       "      <td>Princeton has adopted a one-year test optional...</td>\n",
       "      <td>35370</td>\n",
       "      <td>0.055</td>\n",
       "      <td>1440</td>\n",
       "      <td>1570</td>\n",
       "      <td>32</td>\n",
       "      <td>35</td>\n",
       "      <td>1430</td>\n",
       "      <td>1540</td>\n",
       "    </tr>\n",
       "    <tr>\n",
       "      <th>3</th>\n",
       "      <td>Columbia University</td>\n",
       "      <td>Yes</td>\n",
       "      <td>2021</td>\n",
       "      <td>Columbia has adopted a one-year test optional ...</td>\n",
       "      <td>40203</td>\n",
       "      <td>0.055</td>\n",
       "      <td>1450</td>\n",
       "      <td>1560</td>\n",
       "      <td>33</td>\n",
       "      <td>35</td>\n",
       "      <td>1460</td>\n",
       "      <td>1540</td>\n",
       "    </tr>\n",
       "    <tr>\n",
       "      <th>4</th>\n",
       "      <td>Yale University</td>\n",
       "      <td>Yes</td>\n",
       "      <td>2021</td>\n",
       "      <td>Yale has adopted a one-year test optional poli...</td>\n",
       "      <td>36844</td>\n",
       "      <td>0.061</td>\n",
       "      <td>1460</td>\n",
       "      <td>1570</td>\n",
       "      <td>33</td>\n",
       "      <td>35</td>\n",
       "      <td>1460</td>\n",
       "      <td>1540</td>\n",
       "    </tr>\n",
       "  </tbody>\n",
       "</table>\n",
       "</div>"
      ],
      "text/plain": [
       "                 school test_optional_or_no applies_to_class_year_s  \\\n",
       "0   Stanford University                 Yes                    2021   \n",
       "1       Harvard College                 Yes                    2021   \n",
       "2  Princeton University                 Yes                    2021   \n",
       "3   Columbia University                 Yes                    2021   \n",
       "4       Yale University                 Yes                    2021   \n",
       "\n",
       "                                      policy_details  number_of_applicants  \\\n",
       "0  Stanford has adopted a one-year test optional ...                 47452   \n",
       "1  Harvard has adopted a one-year test optional p...                 42749   \n",
       "2  Princeton has adopted a one-year test optional...                 35370   \n",
       "3  Columbia has adopted a one-year test optional ...                 40203   \n",
       "4  Yale has adopted a one-year test optional poli...                 36844   \n",
       "\n",
       "   accept_rate  sat_tot_25th_percentile  sat_tot_75th_percentile  \\\n",
       "0        0.043                     1440                     1570   \n",
       "1        0.047                     1460                     1580   \n",
       "2        0.055                     1440                     1570   \n",
       "3        0.055                     1450                     1560   \n",
       "4        0.061                     1460                     1570   \n",
       "\n",
       "   act_composite_25th_percentile  act_composite_75th_percentile  \\\n",
       "0                             32                             35   \n",
       "1                             33                             35   \n",
       "2                             32                             35   \n",
       "3                             33                             35   \n",
       "4                             33                             35   \n",
       "\n",
       "   sat_equiv_of_act_25th  sat_equiv_of_act_75th  \n",
       "0                   1430                   1540  \n",
       "1                   1460                   1540  \n",
       "2                   1430                   1540  \n",
       "3                   1460                   1540  \n",
       "4                   1460                   1540  "
      ]
     },
     "execution_count": 153,
     "metadata": {},
     "output_type": "execute_result"
    }
   ],
   "source": [
    "colleges_df.head()"
   ]
  },
  {
   "cell_type": "markdown",
   "metadata": {
    "tags": []
   },
   "source": [
    "### 10.0 Additional Cleaning\n",
    "\n",
    "None. The inner join I used eliminated the discrepant row from my the ACT by state data.\n",
    "\n",
    "Adding the Difference between SAT and ACT scores to both tables."
   ]
  },
  {
   "cell_type": "code",
   "execution_count": 154,
   "metadata": {},
   "outputs": [],
   "source": [
    "colleges_df['sat_minus_sat_equiv_25th_perc'] = colleges_df['sat_tot_25th_percentile'] - colleges_df['sat_equiv_of_act_25th']\n",
    "colleges_df['sat_minus_sat_equiv_75th_perc'] = colleges_df['sat_tot_75th_percentile'] - colleges_df['sat_equiv_of_act_75th']\n"
   ]
  },
  {
   "cell_type": "code",
   "execution_count": 155,
   "metadata": {},
   "outputs": [
    {
     "data": {
      "text/html": [
       "<div>\n",
       "<style scoped>\n",
       "    .dataframe tbody tr th:only-of-type {\n",
       "        vertical-align: middle;\n",
       "    }\n",
       "\n",
       "    .dataframe tbody tr th {\n",
       "        vertical-align: top;\n",
       "    }\n",
       "\n",
       "    .dataframe thead th {\n",
       "        text-align: right;\n",
       "    }\n",
       "</style>\n",
       "<table border=\"1\" class=\"dataframe\">\n",
       "  <thead>\n",
       "    <tr style=\"text-align: right;\">\n",
       "      <th></th>\n",
       "      <th>school</th>\n",
       "      <th>test_optional_or_no</th>\n",
       "      <th>applies_to_class_year_s</th>\n",
       "      <th>policy_details</th>\n",
       "      <th>number_of_applicants</th>\n",
       "      <th>accept_rate</th>\n",
       "      <th>sat_tot_25th_percentile</th>\n",
       "      <th>sat_tot_75th_percentile</th>\n",
       "      <th>act_composite_25th_percentile</th>\n",
       "      <th>act_composite_75th_percentile</th>\n",
       "      <th>sat_equiv_of_act_25th</th>\n",
       "      <th>sat_equiv_of_act_75th</th>\n",
       "      <th>sat_minus_sat_equiv_25th_perc</th>\n",
       "      <th>sat_minus_sat_equiv_75th_perc</th>\n",
       "    </tr>\n",
       "  </thead>\n",
       "  <tbody>\n",
       "    <tr>\n",
       "      <th>0</th>\n",
       "      <td>Stanford University</td>\n",
       "      <td>Yes</td>\n",
       "      <td>2021</td>\n",
       "      <td>Stanford has adopted a one-year test optional ...</td>\n",
       "      <td>47452</td>\n",
       "      <td>0.043</td>\n",
       "      <td>1440</td>\n",
       "      <td>1570</td>\n",
       "      <td>32</td>\n",
       "      <td>35</td>\n",
       "      <td>1430</td>\n",
       "      <td>1540</td>\n",
       "      <td>10</td>\n",
       "      <td>30</td>\n",
       "    </tr>\n",
       "    <tr>\n",
       "      <th>1</th>\n",
       "      <td>Harvard College</td>\n",
       "      <td>Yes</td>\n",
       "      <td>2021</td>\n",
       "      <td>Harvard has adopted a one-year test optional p...</td>\n",
       "      <td>42749</td>\n",
       "      <td>0.047</td>\n",
       "      <td>1460</td>\n",
       "      <td>1580</td>\n",
       "      <td>33</td>\n",
       "      <td>35</td>\n",
       "      <td>1460</td>\n",
       "      <td>1540</td>\n",
       "      <td>0</td>\n",
       "      <td>40</td>\n",
       "    </tr>\n",
       "    <tr>\n",
       "      <th>2</th>\n",
       "      <td>Princeton University</td>\n",
       "      <td>Yes</td>\n",
       "      <td>2021</td>\n",
       "      <td>Princeton has adopted a one-year test optional...</td>\n",
       "      <td>35370</td>\n",
       "      <td>0.055</td>\n",
       "      <td>1440</td>\n",
       "      <td>1570</td>\n",
       "      <td>32</td>\n",
       "      <td>35</td>\n",
       "      <td>1430</td>\n",
       "      <td>1540</td>\n",
       "      <td>10</td>\n",
       "      <td>30</td>\n",
       "    </tr>\n",
       "    <tr>\n",
       "      <th>3</th>\n",
       "      <td>Columbia University</td>\n",
       "      <td>Yes</td>\n",
       "      <td>2021</td>\n",
       "      <td>Columbia has adopted a one-year test optional ...</td>\n",
       "      <td>40203</td>\n",
       "      <td>0.055</td>\n",
       "      <td>1450</td>\n",
       "      <td>1560</td>\n",
       "      <td>33</td>\n",
       "      <td>35</td>\n",
       "      <td>1460</td>\n",
       "      <td>1540</td>\n",
       "      <td>-10</td>\n",
       "      <td>20</td>\n",
       "    </tr>\n",
       "    <tr>\n",
       "      <th>4</th>\n",
       "      <td>Yale University</td>\n",
       "      <td>Yes</td>\n",
       "      <td>2021</td>\n",
       "      <td>Yale has adopted a one-year test optional poli...</td>\n",
       "      <td>36844</td>\n",
       "      <td>0.061</td>\n",
       "      <td>1460</td>\n",
       "      <td>1570</td>\n",
       "      <td>33</td>\n",
       "      <td>35</td>\n",
       "      <td>1460</td>\n",
       "      <td>1540</td>\n",
       "      <td>0</td>\n",
       "      <td>30</td>\n",
       "    </tr>\n",
       "  </tbody>\n",
       "</table>\n",
       "</div>"
      ],
      "text/plain": [
       "                 school test_optional_or_no applies_to_class_year_s  \\\n",
       "0   Stanford University                 Yes                    2021   \n",
       "1       Harvard College                 Yes                    2021   \n",
       "2  Princeton University                 Yes                    2021   \n",
       "3   Columbia University                 Yes                    2021   \n",
       "4       Yale University                 Yes                    2021   \n",
       "\n",
       "                                      policy_details  number_of_applicants  \\\n",
       "0  Stanford has adopted a one-year test optional ...                 47452   \n",
       "1  Harvard has adopted a one-year test optional p...                 42749   \n",
       "2  Princeton has adopted a one-year test optional...                 35370   \n",
       "3  Columbia has adopted a one-year test optional ...                 40203   \n",
       "4  Yale has adopted a one-year test optional poli...                 36844   \n",
       "\n",
       "   accept_rate  sat_tot_25th_percentile  sat_tot_75th_percentile  \\\n",
       "0        0.043                     1440                     1570   \n",
       "1        0.047                     1460                     1580   \n",
       "2        0.055                     1440                     1570   \n",
       "3        0.055                     1450                     1560   \n",
       "4        0.061                     1460                     1570   \n",
       "\n",
       "   act_composite_25th_percentile  act_composite_75th_percentile  \\\n",
       "0                             32                             35   \n",
       "1                             33                             35   \n",
       "2                             32                             35   \n",
       "3                             33                             35   \n",
       "4                             33                             35   \n",
       "\n",
       "   sat_equiv_of_act_25th  sat_equiv_of_act_75th  \\\n",
       "0                   1430                   1540   \n",
       "1                   1460                   1540   \n",
       "2                   1430                   1540   \n",
       "3                   1460                   1540   \n",
       "4                   1460                   1540   \n",
       "\n",
       "   sat_minus_sat_equiv_25th_perc  sat_minus_sat_equiv_75th_perc  \n",
       "0                             10                             30  \n",
       "1                              0                             40  \n",
       "2                             10                             30  \n",
       "3                            -10                             20  \n",
       "4                              0                             30  "
      ]
     },
     "execution_count": 155,
     "metadata": {},
     "output_type": "execute_result"
    }
   ],
   "source": [
    "colleges_df.head()"
   ]
  },
  {
   "cell_type": "code",
   "execution_count": 156,
   "metadata": {},
   "outputs": [],
   "source": [
    "act_sat_2019_df['mean_sat_minus_sat_equiv_mean_act'] = act_sat_2019_df['sat_total'] - act_sat_2019_df['sat_equiv_of_act_composite']\n"
   ]
  },
  {
   "cell_type": "code",
   "execution_count": 157,
   "metadata": {},
   "outputs": [
    {
     "data": {
      "text/html": [
       "<div>\n",
       "<style scoped>\n",
       "    .dataframe tbody tr th:only-of-type {\n",
       "        vertical-align: middle;\n",
       "    }\n",
       "\n",
       "    .dataframe tbody tr th {\n",
       "        vertical-align: top;\n",
       "    }\n",
       "\n",
       "    .dataframe thead th {\n",
       "        text-align: right;\n",
       "    }\n",
       "</style>\n",
       "<table border=\"1\" class=\"dataframe\">\n",
       "  <thead>\n",
       "    <tr style=\"text-align: right;\">\n",
       "      <th></th>\n",
       "      <th>state_or_territory</th>\n",
       "      <th>sat_participation_rate</th>\n",
       "      <th>sat_total</th>\n",
       "      <th>act_participation_rate</th>\n",
       "      <th>act_composite</th>\n",
       "      <th>sat_equiv_of_act_composite</th>\n",
       "      <th>mean_sat_minus_sat_equiv_mean_act</th>\n",
       "    </tr>\n",
       "  </thead>\n",
       "  <tbody>\n",
       "    <tr>\n",
       "      <th>0</th>\n",
       "      <td>Alabama</td>\n",
       "      <td>0.07</td>\n",
       "      <td>1140</td>\n",
       "      <td>1.00</td>\n",
       "      <td>19</td>\n",
       "      <td>1010</td>\n",
       "      <td>130</td>\n",
       "    </tr>\n",
       "    <tr>\n",
       "      <th>1</th>\n",
       "      <td>Arizona</td>\n",
       "      <td>0.31</td>\n",
       "      <td>1130</td>\n",
       "      <td>0.73</td>\n",
       "      <td>19</td>\n",
       "      <td>1010</td>\n",
       "      <td>120</td>\n",
       "    </tr>\n",
       "  </tbody>\n",
       "</table>\n",
       "</div>"
      ],
      "text/plain": [
       "  state_or_territory  sat_participation_rate  sat_total  \\\n",
       "0            Alabama                    0.07       1140   \n",
       "1            Arizona                    0.31       1130   \n",
       "\n",
       "   act_participation_rate  act_composite  sat_equiv_of_act_composite  \\\n",
       "0                    1.00             19                        1010   \n",
       "1                    0.73             19                        1010   \n",
       "\n",
       "   mean_sat_minus_sat_equiv_mean_act  \n",
       "0                                130  \n",
       "1                                120  "
      ]
     },
     "execution_count": 157,
     "metadata": {},
     "output_type": "execute_result"
    }
   ],
   "source": [
    "act_sat_2019_df.head(2)"
   ]
  },
  {
   "cell_type": "markdown",
   "metadata": {
    "tags": []
   },
   "source": [
    "### 11.0 Save your cleaned and merged dataframes as csv files.\n",
    "\n",
    "Saving the final colleges_df, act_sat_2019_df"
   ]
  },
  {
   "cell_type": "code",
   "execution_count": 158,
   "metadata": {},
   "outputs": [],
   "source": [
    "colleges_df.to_csv('../data/colleges_df.csv', index = False)"
   ]
  },
  {
   "cell_type": "code",
   "execution_count": 159,
   "metadata": {},
   "outputs": [],
   "source": [
    "act_sat_2019_df.to_csv('../data/act_sat_2019_df.csv', index = False)"
   ]
  },
  {
   "cell_type": "markdown",
   "metadata": {
    "jp-MarkdownHeadingCollapsed": true,
    "tags": []
   },
   "source": [
    "## Data Dictionary for ACT and SAT Scores by State, 2019\n",
    "\n",
    "|Feature|Type|Dataset|Description|\n",
    "|---|---|---|---|\n",
    "|state_or_territory|object|act_2019 and sat_2019 from prepscholar.com|The name of the state or territory|\n",
    "|sat_participation_rate|float|sat_2019 from prepscholar.com|The SAT participation rate for eligible students in state or territory|\n",
    "|sat_total|int|sat_2019 from prepscholar.com|The average SAT total score (EBRW + Math) in state or territory, rounded to nearest 10|\n",
    "|act_participation_rate|float|act_2019 from prepscholar.com|The ACT participation rate for eligible students in state or territory|\n",
    "|act_composite|int|act_2019 from prepscholar.com|The average ACT composite in state/territory, rounded to nearest integer|\n",
    "|sat_equiv_of_act_composite|int|2018 ACT/SAT Concordance Tables|The equivalent SAT total score (EBRW + Math) for the state or territory's average ACT composite score|\n",
    "|mean_sat_minus_sat_equiv_mean_act|int|calculated from sat_total and act_composite|The difference between the mean SAT total and the SAT total equivalent to the mean ACT composite for the state| "
   ]
  },
  {
   "cell_type": "markdown",
   "metadata": {
    "jp-MarkdownHeadingCollapsed": true,
    "tags": []
   },
   "source": [
    "## Data Dictionary for ACT/SAT Scores by College\n",
    "\n",
    "|Feature|Type|Dataset|Description|\n",
    "|---|---|---|---|\n",
    "|school|object|sat_act_by_college from Compass Prep|College name|\n",
    "|test_optional_or_no|object|sat_act_by_college from Compass Prep|Describes whether or not the college is test optional|\n",
    "|applies_to_class_year_s|object|sat_act_by_college from Compass Prep|Class year or years for which test optional is available|\n",
    "|policy_details|object|sat_act_by_college from Compass Prep|Description of the test optional policy, where applicable|\n",
    "|number_of_applicants|int|sat_act_by_college from Compass Prep|The number of applicants to the college|\n",
    "|accept_rate|float|sat_act_by_college from Compass Prep|The rate of acceptance for applicants|\n",
    "|sat_tot_25th_percentile|int|sat_act_by_college from Compass Prep|The 25th percentile SAT total score (EBRW + Math) for accepted students|\n",
    "|sat_tot_75th_percentile|int|sat_act_by_college from Compass Prep|The 75th percentile SAT total score (EBRW + Math) for accepted students|\n",
    "|act_composite_25th_percentile|int|sat_act_by_college from Compass Prep| The 25th percentile ACT composite for accepted students|\n",
    "|act_composite_75th_percentile|int|sat_act_by_college from Compass Prep| The 75th percentile ACT composite for accepted students|\n",
    "|sat_equiv_of_act_25th|int|2018 ACT/SAT Concordance Tables|The equivalent SAT total score (EBRW + Math) for the college's 25th percentile ACT composite score|\n",
    "|sat_equiv_of_act_75th|int|2018 ACT/SAT Concordance Tables|The equivalent SAT total score (EBRW + Math) for the college's 75th percentile ACT composite score|\n",
    "|sat_minus_sat_equiv_25th_perc|int|calculated from sat_tot_25th_percentile and sat_equiv_of_act_25th|This is calculated from the 25th percentile SAT score for the college minus the SAT score equivalent for the 25th percentile ACT score for the college. A positive value indicates the 25th percentile SAT score is higher than its 25th percentile ACT counterpart. A negative value indicates that the 25th percentile ACT score is higher than its 25th percentile SAT counterpart|\n",
    "|sat_minus_sat_equiv_75th_perc|int|calculated from sat_tot_75th_percentile and sat_equiv_of_act_75th|This is calculated from the 75th percentile SAT score for the college minus the SAT score equivalent for the 75th percentile ACT score for the college. A positive value indicates the 75th percentile SAT score is higher than its 75th percentile ACT counterpart. A negative value indicates that the 75th percentile ACT score is higher than its 75th percentile SAT counterpart|"
   ]
  },
  {
   "cell_type": "markdown",
   "metadata": {
    "tags": []
   },
   "source": [
    "## Exploratory Data Analysis\n",
    "\n",
    "Complete the following steps to explore your data. You are welcome to do more EDA than the steps outlined here as you feel necessary:"
   ]
  },
  {
   "cell_type": "markdown",
   "metadata": {
    "tags": []
   },
   "source": [
    "### 1. Summary Statistics."
   ]
  },
  {
   "cell_type": "code",
   "execution_count": 160,
   "metadata": {},
   "outputs": [
    {
     "data": {
      "text/html": [
       "<div>\n",
       "<style scoped>\n",
       "    .dataframe tbody tr th:only-of-type {\n",
       "        vertical-align: middle;\n",
       "    }\n",
       "\n",
       "    .dataframe tbody tr th {\n",
       "        vertical-align: top;\n",
       "    }\n",
       "\n",
       "    .dataframe thead th {\n",
       "        text-align: right;\n",
       "    }\n",
       "</style>\n",
       "<table border=\"1\" class=\"dataframe\">\n",
       "  <thead>\n",
       "    <tr style=\"text-align: right;\">\n",
       "      <th></th>\n",
       "      <th>sat_participation_rate</th>\n",
       "      <th>sat_total</th>\n",
       "      <th>act_participation_rate</th>\n",
       "      <th>act_composite</th>\n",
       "      <th>sat_equiv_of_act_composite</th>\n",
       "      <th>mean_sat_minus_sat_equiv_mean_act</th>\n",
       "    </tr>\n",
       "  </thead>\n",
       "  <tbody>\n",
       "    <tr>\n",
       "      <th>count</th>\n",
       "      <td>51.000000</td>\n",
       "      <td>51.000000</td>\n",
       "      <td>51.000000</td>\n",
       "      <td>51.000000</td>\n",
       "      <td>51.000000</td>\n",
       "      <td>51.000000</td>\n",
       "    </tr>\n",
       "    <tr>\n",
       "      <th>mean</th>\n",
       "      <td>0.490588</td>\n",
       "      <td>1112.549020</td>\n",
       "      <td>0.586667</td>\n",
       "      <td>21.431373</td>\n",
       "      <td>1090.980392</td>\n",
       "      <td>21.568627</td>\n",
       "    </tr>\n",
       "    <tr>\n",
       "      <th>std</th>\n",
       "      <td>0.387476</td>\n",
       "      <td>97.464725</td>\n",
       "      <td>0.345159</td>\n",
       "      <td>2.238347</td>\n",
       "      <td>75.980390</td>\n",
       "      <td>146.429130</td>\n",
       "    </tr>\n",
       "    <tr>\n",
       "      <th>min</th>\n",
       "      <td>0.020000</td>\n",
       "      <td>940.000000</td>\n",
       "      <td>0.060000</td>\n",
       "      <td>18.000000</td>\n",
       "      <td>970.000000</td>\n",
       "      <td>-210.000000</td>\n",
       "    </tr>\n",
       "    <tr>\n",
       "      <th>25%</th>\n",
       "      <td>0.055000</td>\n",
       "      <td>1040.000000</td>\n",
       "      <td>0.245000</td>\n",
       "      <td>20.000000</td>\n",
       "      <td>1040.000000</td>\n",
       "      <td>-110.000000</td>\n",
       "    </tr>\n",
       "    <tr>\n",
       "      <th>50%</th>\n",
       "      <td>0.540000</td>\n",
       "      <td>1100.000000</td>\n",
       "      <td>0.540000</td>\n",
       "      <td>21.000000</td>\n",
       "      <td>1080.000000</td>\n",
       "      <td>20.000000</td>\n",
       "    </tr>\n",
       "    <tr>\n",
       "      <th>75%</th>\n",
       "      <td>0.820000</td>\n",
       "      <td>1210.000000</td>\n",
       "      <td>1.000000</td>\n",
       "      <td>24.000000</td>\n",
       "      <td>1180.000000</td>\n",
       "      <td>160.000000</td>\n",
       "    </tr>\n",
       "    <tr>\n",
       "      <th>max</th>\n",
       "      <td>1.000000</td>\n",
       "      <td>1280.000000</td>\n",
       "      <td>1.000000</td>\n",
       "      <td>26.000000</td>\n",
       "      <td>1240.000000</td>\n",
       "      <td>270.000000</td>\n",
       "    </tr>\n",
       "  </tbody>\n",
       "</table>\n",
       "</div>"
      ],
      "text/plain": [
       "       sat_participation_rate    sat_total  act_participation_rate  \\\n",
       "count               51.000000    51.000000               51.000000   \n",
       "mean                 0.490588  1112.549020                0.586667   \n",
       "std                  0.387476    97.464725                0.345159   \n",
       "min                  0.020000   940.000000                0.060000   \n",
       "25%                  0.055000  1040.000000                0.245000   \n",
       "50%                  0.540000  1100.000000                0.540000   \n",
       "75%                  0.820000  1210.000000                1.000000   \n",
       "max                  1.000000  1280.000000                1.000000   \n",
       "\n",
       "       act_composite  sat_equiv_of_act_composite  \\\n",
       "count      51.000000                   51.000000   \n",
       "mean       21.431373                 1090.980392   \n",
       "std         2.238347                   75.980390   \n",
       "min        18.000000                  970.000000   \n",
       "25%        20.000000                 1040.000000   \n",
       "50%        21.000000                 1080.000000   \n",
       "75%        24.000000                 1180.000000   \n",
       "max        26.000000                 1240.000000   \n",
       "\n",
       "       mean_sat_minus_sat_equiv_mean_act  \n",
       "count                          51.000000  \n",
       "mean                           21.568627  \n",
       "std                           146.429130  \n",
       "min                          -210.000000  \n",
       "25%                          -110.000000  \n",
       "50%                            20.000000  \n",
       "75%                           160.000000  \n",
       "max                           270.000000  "
      ]
     },
     "execution_count": 160,
     "metadata": {},
     "output_type": "execute_result"
    }
   ],
   "source": [
    "act_sat_2019_df.describe()"
   ]
  },
  {
   "cell_type": "markdown",
   "metadata": {},
   "source": [
    "Observations:\n",
    "\n",
    "The ACT has a higher average participation rate.\n",
    "The SAT equivalent of ACT scores is lower at the mean, the max, the 75th percentile, and the 50th percentile. The SAT equivalent of ACT scores is higher at the minimum and equal at the 25th percentile. NOTE: the ACT conversion chart chooses a point within a range that includes one or two SAT scores above and one or two SAT scores below. That means that when an SAT equivalent of ACT is 30 points (or potentially even 20 points) below the SAT score, that SAT score is equivalent to a full point higher on the ACT.\n",
    "\n",
    "HYPOTHESIS: higher ACT participation includes more lower-performing students, lowering mean and higher percentiles because that higher participation results from more states that require all students to take the ACT versus those requiring the SAT.\n",
    "\n",
    "Pretty wide discrepancy on how SAT and SAT equivalent of ACT stacks up by state."
   ]
  },
  {
   "cell_type": "code",
   "execution_count": 161,
   "metadata": {},
   "outputs": [
    {
     "data": {
      "text/html": [
       "<div>\n",
       "<style scoped>\n",
       "    .dataframe tbody tr th:only-of-type {\n",
       "        vertical-align: middle;\n",
       "    }\n",
       "\n",
       "    .dataframe tbody tr th {\n",
       "        vertical-align: top;\n",
       "    }\n",
       "\n",
       "    .dataframe thead th {\n",
       "        text-align: right;\n",
       "    }\n",
       "</style>\n",
       "<table border=\"1\" class=\"dataframe\">\n",
       "  <thead>\n",
       "    <tr style=\"text-align: right;\">\n",
       "      <th></th>\n",
       "      <th>number_of_applicants</th>\n",
       "      <th>accept_rate</th>\n",
       "      <th>sat_tot_25th_percentile</th>\n",
       "      <th>sat_tot_75th_percentile</th>\n",
       "      <th>act_composite_25th_percentile</th>\n",
       "      <th>act_composite_75th_percentile</th>\n",
       "      <th>sat_equiv_of_act_25th</th>\n",
       "      <th>sat_equiv_of_act_75th</th>\n",
       "      <th>sat_minus_sat_equiv_25th_perc</th>\n",
       "      <th>sat_minus_sat_equiv_75th_perc</th>\n",
       "    </tr>\n",
       "  </thead>\n",
       "  <tbody>\n",
       "    <tr>\n",
       "      <th>count</th>\n",
       "      <td>405.000000</td>\n",
       "      <td>405.000000</td>\n",
       "      <td>405.000000</td>\n",
       "      <td>405.000000</td>\n",
       "      <td>405.000000</td>\n",
       "      <td>405.000000</td>\n",
       "      <td>405.000000</td>\n",
       "      <td>405.000000</td>\n",
       "      <td>405.000000</td>\n",
       "      <td>405.000000</td>\n",
       "    </tr>\n",
       "    <tr>\n",
       "      <th>mean</th>\n",
       "      <td>17339.239506</td>\n",
       "      <td>0.554116</td>\n",
       "      <td>1167.933333</td>\n",
       "      <td>1359.644444</td>\n",
       "      <td>24.738272</td>\n",
       "      <td>29.908642</td>\n",
       "      <td>1198.790123</td>\n",
       "      <td>1367.555556</td>\n",
       "      <td>-30.856790</td>\n",
       "      <td>-7.911111</td>\n",
       "    </tr>\n",
       "    <tr>\n",
       "      <th>std</th>\n",
       "      <td>17187.633091</td>\n",
       "      <td>0.242055</td>\n",
       "      <td>129.924056</td>\n",
       "      <td>111.478484</td>\n",
       "      <td>4.137565</td>\n",
       "      <td>3.160563</td>\n",
       "      <td>136.273850</td>\n",
       "      <td>101.609328</td>\n",
       "      <td>37.868901</td>\n",
       "      <td>37.674833</td>\n",
       "    </tr>\n",
       "    <tr>\n",
       "      <th>min</th>\n",
       "      <td>211.000000</td>\n",
       "      <td>0.043000</td>\n",
       "      <td>793.000000</td>\n",
       "      <td>1050.000000</td>\n",
       "      <td>15.000000</td>\n",
       "      <td>19.000000</td>\n",
       "      <td>850.000000</td>\n",
       "      <td>1010.000000</td>\n",
       "      <td>-260.000000</td>\n",
       "      <td>-200.000000</td>\n",
       "    </tr>\n",
       "    <tr>\n",
       "      <th>25%</th>\n",
       "      <td>5208.000000</td>\n",
       "      <td>0.374000</td>\n",
       "      <td>1070.000000</td>\n",
       "      <td>1270.000000</td>\n",
       "      <td>22.000000</td>\n",
       "      <td>28.000000</td>\n",
       "      <td>1110.000000</td>\n",
       "      <td>1310.000000</td>\n",
       "      <td>-52.000000</td>\n",
       "      <td>-30.000000</td>\n",
       "    </tr>\n",
       "    <tr>\n",
       "      <th>50%</th>\n",
       "      <td>11478.000000</td>\n",
       "      <td>0.611000</td>\n",
       "      <td>1150.000000</td>\n",
       "      <td>1350.000000</td>\n",
       "      <td>24.000000</td>\n",
       "      <td>30.000000</td>\n",
       "      <td>1180.000000</td>\n",
       "      <td>1370.000000</td>\n",
       "      <td>-30.000000</td>\n",
       "      <td>-10.000000</td>\n",
       "    </tr>\n",
       "    <tr>\n",
       "      <th>75%</th>\n",
       "      <td>23583.000000</td>\n",
       "      <td>0.742000</td>\n",
       "      <td>1250.000000</td>\n",
       "      <td>1440.000000</td>\n",
       "      <td>28.000000</td>\n",
       "      <td>32.000000</td>\n",
       "      <td>1310.000000</td>\n",
       "      <td>1430.000000</td>\n",
       "      <td>-10.000000</td>\n",
       "      <td>20.000000</td>\n",
       "    </tr>\n",
       "    <tr>\n",
       "      <th>max</th>\n",
       "      <td>111322.000000</td>\n",
       "      <td>0.999000</td>\n",
       "      <td>1530.000000</td>\n",
       "      <td>1580.000000</td>\n",
       "      <td>35.000000</td>\n",
       "      <td>36.000000</td>\n",
       "      <td>1540.000000</td>\n",
       "      <td>1590.000000</td>\n",
       "      <td>100.000000</td>\n",
       "      <td>188.000000</td>\n",
       "    </tr>\n",
       "  </tbody>\n",
       "</table>\n",
       "</div>"
      ],
      "text/plain": [
       "       number_of_applicants  accept_rate  sat_tot_25th_percentile  \\\n",
       "count            405.000000   405.000000               405.000000   \n",
       "mean           17339.239506     0.554116              1167.933333   \n",
       "std            17187.633091     0.242055               129.924056   \n",
       "min              211.000000     0.043000               793.000000   \n",
       "25%             5208.000000     0.374000              1070.000000   \n",
       "50%            11478.000000     0.611000              1150.000000   \n",
       "75%            23583.000000     0.742000              1250.000000   \n",
       "max           111322.000000     0.999000              1530.000000   \n",
       "\n",
       "       sat_tot_75th_percentile  act_composite_25th_percentile  \\\n",
       "count               405.000000                     405.000000   \n",
       "mean               1359.644444                      24.738272   \n",
       "std                 111.478484                       4.137565   \n",
       "min                1050.000000                      15.000000   \n",
       "25%                1270.000000                      22.000000   \n",
       "50%                1350.000000                      24.000000   \n",
       "75%                1440.000000                      28.000000   \n",
       "max                1580.000000                      35.000000   \n",
       "\n",
       "       act_composite_75th_percentile  sat_equiv_of_act_25th  \\\n",
       "count                     405.000000             405.000000   \n",
       "mean                       29.908642            1198.790123   \n",
       "std                         3.160563             136.273850   \n",
       "min                        19.000000             850.000000   \n",
       "25%                        28.000000            1110.000000   \n",
       "50%                        30.000000            1180.000000   \n",
       "75%                        32.000000            1310.000000   \n",
       "max                        36.000000            1540.000000   \n",
       "\n",
       "       sat_equiv_of_act_75th  sat_minus_sat_equiv_25th_perc  \\\n",
       "count             405.000000                     405.000000   \n",
       "mean             1367.555556                     -30.856790   \n",
       "std               101.609328                      37.868901   \n",
       "min              1010.000000                    -260.000000   \n",
       "25%              1310.000000                     -52.000000   \n",
       "50%              1370.000000                     -30.000000   \n",
       "75%              1430.000000                     -10.000000   \n",
       "max              1590.000000                     100.000000   \n",
       "\n",
       "       sat_minus_sat_equiv_75th_perc  \n",
       "count                     405.000000  \n",
       "mean                       -7.911111  \n",
       "std                        37.674833  \n",
       "min                      -200.000000  \n",
       "25%                       -30.000000  \n",
       "50%                       -10.000000  \n",
       "75%                        20.000000  \n",
       "max                       188.000000  "
      ]
     },
     "execution_count": 161,
     "metadata": {},
     "output_type": "execute_result"
    }
   ],
   "source": [
    "colleges_df.describe()"
   ]
  },
  {
   "cell_type": "markdown",
   "metadata": {},
   "source": [
    "Observations:\n",
    "\n",
    "Interestingly, the mean college acceptance rate is over 50%, the 50th percentile is 61%, and the 25th percentile is 37%. It seems that a relatively few colleges skew the average downward. Working as a tutor in NYC, that fact is lost here.\n",
    "\n",
    "count, mean, std, min, 25%, 50%, 75%, max\n",
    "\n",
    "Looking at sat_minus_sat_equiv_25th_perc:\n",
    "The mean for the ACT is higher at the 25th percentile by about 30 SAT points (because the SAT equivalent of ACT is greater than the SAT). Knowing nothing about the school, we'd guess the 25th % ACT is effectively a higher score than the 25th % SAT. The minimum looks like an outlier (ACT effectively 260 SAT points higher than the SAT). The max could be an outlier as well, with a 100 SAT point skew toward the SAT.\n",
    "\n",
    "Looking at the sat_minus_sat_equiv_75th_perc:\n",
    "There's still a skew toward the ACT in the mean, but it's much smaller (~8 SAT points). The discrepancy between the two scores is less extreme at the minimum (ACT 200 SAT points stronger), but it's more extreme at the max (SAT 188 SAT points stronger).\n",
    "\n",
    "SAT 25th percentile: \n",
    "For the mean, the SAT equivalent of ACT is about 30 points higher. For the min, the SAT equivalent of ACT is about 60 points higher. For the 25th percentile, the SAT equivalent of ACT is 40 points higher. For the 50th percentile, the SAT equivalent of ACT is 30 points higher. For the 75th percentile, the SAT equivalent of ACT is 60 points higher. For the max, the SAT equivalent of the ACT is 10 points higher."
   ]
  },
  {
   "cell_type": "markdown",
   "metadata": {},
   "source": [
    "##### Summary of Observations from Summary Data\n",
    "\n",
    "It seems like the SAT is skewed towards higher performing students and schools. \n",
    "\n",
    "A school looking for higher scores is going to have SAT scores that are higher than their ACT equivalents (comparing by 25th and 75th percentiles) and that difference is going to be more pronounced at the 75th percentile than at the 25th percentile. On the other hand, a school looking for relatively lower scores is either less skewed towards the SAT or is skewered toward the ACT (ACT higher than the comparable SAT), with the same biases toward 25th versus 75th percentile as above (25th reflecting relatively higher ACT, 75th reflecting relatively higher SAT). **This suggests that a student could benefit from choosing which test to take and/or submit to the school depending on which scores are relatively lower and where the student falls on the range of scores.** In other words, a student will appear relatively stronger with a score from the \"lower\" test than an equivalen score from the \"higher\" test, which varies by school and location on the score range."
   ]
  },
  {
   "cell_type": "markdown",
   "metadata": {
    "tags": []
   },
   "source": [
    "### 2. Use a **dictionary comprehension** to apply the standard deviation function you create in part 1 to each numeric column in the dataframe.  **No loops**.\n",
    "    - Assign the output to variable `sd` as a dictionary where: \n",
    "        - Each column name is now a key \n",
    "        - That standard deviation of the column is the value \n",
    "        - *Example Output :* `{'ACT_Math': 120, 'ACT_Reading': 120, ...}`"
   ]
  },
  {
   "cell_type": "code",
   "execution_count": 162,
   "metadata": {},
   "outputs": [
    {
     "data": {
      "text/plain": [
       "state_or_territory                    object\n",
       "sat_participation_rate               float64\n",
       "sat_total                              int64\n",
       "act_participation_rate               float64\n",
       "act_composite                          int64\n",
       "sat_equiv_of_act_composite             int64\n",
       "mean_sat_minus_sat_equiv_mean_act      int64\n",
       "dtype: object"
      ]
     },
     "execution_count": 162,
     "metadata": {},
     "output_type": "execute_result"
    }
   ],
   "source": [
    "act_sat_2019_df.dtypes"
   ]
  },
  {
   "cell_type": "code",
   "execution_count": 163,
   "metadata": {},
   "outputs": [],
   "source": [
    "sd_ac_sat_2019_dict = {c: stddevfnc(act_sat_2019_df[c][1:].tolist()) for c in act_sat_2019_df.columns if act_sat_2019_df[c].dtypes != object}\n",
    "                                    "
   ]
  },
  {
   "cell_type": "code",
   "execution_count": 164,
   "metadata": {},
   "outputs": [
    {
     "data": {
      "text/plain": [
       "{'sat_participation_rate': 0.3827910657264612,\n",
       " 'sat_total': 97.38583059151881,\n",
       " 'act_participation_rate': 0.3400726981102717,\n",
       " 'act_composite': 2.2112439937736403,\n",
       " 'sat_equiv_of_act_composite': 75.09487332701217,\n",
       " 'mean_sat_minus_sat_equiv_mean_act': 145.6078294598199}"
      ]
     },
     "execution_count": 164,
     "metadata": {},
     "output_type": "execute_result"
    }
   ],
   "source": [
    "sd_ac_sat_2019_dict"
   ]
  },
  {
   "cell_type": "markdown",
   "metadata": {
    "tags": []
   },
   "source": [
    "### 3. Investigate trends in the data.\n",
    "    - Using sorting and/or masking (along with the `.head()` method to avoid printing our entire dataframe), consider questions relevant to your problem statement. Some examples are provided below (but feel free to change these questions for your specific problem):\n",
    "        - Which states have the highest and lowest participation rates for the 2019 SAT and ACT?"
   ]
  },
  {
   "cell_type": "code",
   "execution_count": 165,
   "metadata": {},
   "outputs": [
    {
     "data": {
      "text/html": [
       "<div>\n",
       "<style scoped>\n",
       "    .dataframe tbody tr th:only-of-type {\n",
       "        vertical-align: middle;\n",
       "    }\n",
       "\n",
       "    .dataframe tbody tr th {\n",
       "        vertical-align: top;\n",
       "    }\n",
       "\n",
       "    .dataframe thead th {\n",
       "        text-align: right;\n",
       "    }\n",
       "</style>\n",
       "<table border=\"1\" class=\"dataframe\">\n",
       "  <thead>\n",
       "    <tr style=\"text-align: right;\">\n",
       "      <th></th>\n",
       "      <th>state_or_territory</th>\n",
       "      <th>sat_participation_rate</th>\n",
       "      <th>sat_total</th>\n",
       "      <th>act_participation_rate</th>\n",
       "      <th>act_composite</th>\n",
       "      <th>sat_equiv_of_act_composite</th>\n",
       "      <th>mean_sat_minus_sat_equiv_mean_act</th>\n",
       "    </tr>\n",
       "  </thead>\n",
       "  <tbody>\n",
       "    <tr>\n",
       "      <th>15</th>\n",
       "      <td>North Dakota</td>\n",
       "      <td>0.02</td>\n",
       "      <td>1260</td>\n",
       "      <td>0.96</td>\n",
       "      <td>20</td>\n",
       "      <td>1040</td>\n",
       "      <td>220</td>\n",
       "    </tr>\n",
       "    <tr>\n",
       "      <th>45</th>\n",
       "      <td>South Dakota</td>\n",
       "      <td>0.03</td>\n",
       "      <td>1270</td>\n",
       "      <td>0.75</td>\n",
       "      <td>22</td>\n",
       "      <td>1110</td>\n",
       "      <td>160</td>\n",
       "    </tr>\n",
       "    <tr>\n",
       "      <th>47</th>\n",
       "      <td>Mississippi</td>\n",
       "      <td>0.03</td>\n",
       "      <td>1240</td>\n",
       "      <td>1.00</td>\n",
       "      <td>18</td>\n",
       "      <td>970</td>\n",
       "      <td>270</td>\n",
       "    </tr>\n",
       "    <tr>\n",
       "      <th>43</th>\n",
       "      <td>Iowa</td>\n",
       "      <td>0.03</td>\n",
       "      <td>1240</td>\n",
       "      <td>0.66</td>\n",
       "      <td>22</td>\n",
       "      <td>1110</td>\n",
       "      <td>130</td>\n",
       "    </tr>\n",
       "    <tr>\n",
       "      <th>20</th>\n",
       "      <td>Wyoming</td>\n",
       "      <td>0.03</td>\n",
       "      <td>1240</td>\n",
       "      <td>1.00</td>\n",
       "      <td>20</td>\n",
       "      <td>1040</td>\n",
       "      <td>200</td>\n",
       "    </tr>\n",
       "  </tbody>\n",
       "</table>\n",
       "</div>"
      ],
      "text/plain": [
       "   state_or_territory  sat_participation_rate  sat_total  \\\n",
       "15       North Dakota                    0.02       1260   \n",
       "45       South Dakota                    0.03       1270   \n",
       "47        Mississippi                    0.03       1240   \n",
       "43               Iowa                    0.03       1240   \n",
       "20            Wyoming                    0.03       1240   \n",
       "\n",
       "    act_participation_rate  act_composite  sat_equiv_of_act_composite  \\\n",
       "15                    0.96             20                        1040   \n",
       "45                    0.75             22                        1110   \n",
       "47                    1.00             18                         970   \n",
       "43                    0.66             22                        1110   \n",
       "20                    1.00             20                        1040   \n",
       "\n",
       "    mean_sat_minus_sat_equiv_mean_act  \n",
       "15                                220  \n",
       "45                                160  \n",
       "47                                270  \n",
       "43                                130  \n",
       "20                                200  "
      ]
     },
     "execution_count": 165,
     "metadata": {},
     "output_type": "execute_result"
    }
   ],
   "source": [
    "act_sat_2019_df.sort_values('sat_participation_rate', ascending = True).head()"
   ]
  },
  {
   "cell_type": "code",
   "execution_count": 166,
   "metadata": {},
   "outputs": [
    {
     "data": {
      "text/html": [
       "<div>\n",
       "<style scoped>\n",
       "    .dataframe tbody tr th:only-of-type {\n",
       "        vertical-align: middle;\n",
       "    }\n",
       "\n",
       "    .dataframe tbody tr th {\n",
       "        vertical-align: top;\n",
       "    }\n",
       "\n",
       "    .dataframe thead th {\n",
       "        text-align: right;\n",
       "    }\n",
       "</style>\n",
       "<table border=\"1\" class=\"dataframe\">\n",
       "  <thead>\n",
       "    <tr style=\"text-align: right;\">\n",
       "      <th></th>\n",
       "      <th>state_or_territory</th>\n",
       "      <th>sat_participation_rate</th>\n",
       "      <th>sat_total</th>\n",
       "      <th>act_participation_rate</th>\n",
       "      <th>act_composite</th>\n",
       "      <th>sat_equiv_of_act_composite</th>\n",
       "      <th>mean_sat_minus_sat_equiv_mean_act</th>\n",
       "    </tr>\n",
       "  </thead>\n",
       "  <tbody>\n",
       "    <tr>\n",
       "      <th>25</th>\n",
       "      <td>Illinois</td>\n",
       "      <td>1.0</td>\n",
       "      <td>1010</td>\n",
       "      <td>0.35</td>\n",
       "      <td>24</td>\n",
       "      <td>1180</td>\n",
       "      <td>-170</td>\n",
       "    </tr>\n",
       "    <tr>\n",
       "      <th>11</th>\n",
       "      <td>Florida</td>\n",
       "      <td>1.0</td>\n",
       "      <td>1000</td>\n",
       "      <td>0.54</td>\n",
       "      <td>20</td>\n",
       "      <td>1040</td>\n",
       "      <td>-40</td>\n",
       "    </tr>\n",
       "    <tr>\n",
       "      <th>41</th>\n",
       "      <td>Idaho</td>\n",
       "      <td>1.0</td>\n",
       "      <td>990</td>\n",
       "      <td>0.31</td>\n",
       "      <td>22</td>\n",
       "      <td>1110</td>\n",
       "      <td>-120</td>\n",
       "    </tr>\n",
       "    <tr>\n",
       "      <th>33</th>\n",
       "      <td>Connecticut</td>\n",
       "      <td>1.0</td>\n",
       "      <td>1050</td>\n",
       "      <td>0.22</td>\n",
       "      <td>26</td>\n",
       "      <td>1240</td>\n",
       "      <td>-190</td>\n",
       "    </tr>\n",
       "    <tr>\n",
       "      <th>27</th>\n",
       "      <td>Michigan</td>\n",
       "      <td>1.0</td>\n",
       "      <td>1000</td>\n",
       "      <td>0.19</td>\n",
       "      <td>24</td>\n",
       "      <td>1180</td>\n",
       "      <td>-180</td>\n",
       "    </tr>\n",
       "  </tbody>\n",
       "</table>\n",
       "</div>"
      ],
      "text/plain": [
       "   state_or_territory  sat_participation_rate  sat_total  \\\n",
       "25           Illinois                     1.0       1010   \n",
       "11            Florida                     1.0       1000   \n",
       "41              Idaho                     1.0        990   \n",
       "33        Connecticut                     1.0       1050   \n",
       "27           Michigan                     1.0       1000   \n",
       "\n",
       "    act_participation_rate  act_composite  sat_equiv_of_act_composite  \\\n",
       "25                    0.35             24                        1180   \n",
       "11                    0.54             20                        1040   \n",
       "41                    0.31             22                        1110   \n",
       "33                    0.22             26                        1240   \n",
       "27                    0.19             24                        1180   \n",
       "\n",
       "    mean_sat_minus_sat_equiv_mean_act  \n",
       "25                               -170  \n",
       "11                                -40  \n",
       "41                               -120  \n",
       "33                               -190  \n",
       "27                               -180  "
      ]
     },
     "execution_count": 166,
     "metadata": {},
     "output_type": "execute_result"
    }
   ],
   "source": [
    "act_sat_2019_df.sort_values('sat_participation_rate', ascending = False).head()"
   ]
  },
  {
   "cell_type": "code",
   "execution_count": 167,
   "metadata": {},
   "outputs": [
    {
     "data": {
      "text/html": [
       "<div>\n",
       "<style scoped>\n",
       "    .dataframe tbody tr th:only-of-type {\n",
       "        vertical-align: middle;\n",
       "    }\n",
       "\n",
       "    .dataframe tbody tr th {\n",
       "        vertical-align: top;\n",
       "    }\n",
       "\n",
       "    .dataframe thead th {\n",
       "        text-align: right;\n",
       "    }\n",
       "</style>\n",
       "<table border=\"1\" class=\"dataframe\">\n",
       "  <thead>\n",
       "    <tr style=\"text-align: right;\">\n",
       "      <th></th>\n",
       "      <th>state_or_territory</th>\n",
       "      <th>sat_participation_rate</th>\n",
       "      <th>sat_total</th>\n",
       "      <th>act_participation_rate</th>\n",
       "      <th>act_composite</th>\n",
       "      <th>sat_equiv_of_act_composite</th>\n",
       "      <th>mean_sat_minus_sat_equiv_mean_act</th>\n",
       "    </tr>\n",
       "  </thead>\n",
       "  <tbody>\n",
       "    <tr>\n",
       "      <th>26</th>\n",
       "      <td>Maine</td>\n",
       "      <td>0.99</td>\n",
       "      <td>1010</td>\n",
       "      <td>0.06</td>\n",
       "      <td>24</td>\n",
       "      <td>1180</td>\n",
       "      <td>-170</td>\n",
       "    </tr>\n",
       "    <tr>\n",
       "      <th>50</th>\n",
       "      <td>Rhode Island</td>\n",
       "      <td>1.00</td>\n",
       "      <td>1000</td>\n",
       "      <td>0.12</td>\n",
       "      <td>25</td>\n",
       "      <td>1210</td>\n",
       "      <td>-210</td>\n",
       "    </tr>\n",
       "    <tr>\n",
       "      <th>23</th>\n",
       "      <td>Delaware</td>\n",
       "      <td>1.00</td>\n",
       "      <td>980</td>\n",
       "      <td>0.13</td>\n",
       "      <td>24</td>\n",
       "      <td>1180</td>\n",
       "      <td>-200</td>\n",
       "    </tr>\n",
       "    <tr>\n",
       "      <th>49</th>\n",
       "      <td>New Hampshire</td>\n",
       "      <td>0.95</td>\n",
       "      <td>1060</td>\n",
       "      <td>0.14</td>\n",
       "      <td>25</td>\n",
       "      <td>1210</td>\n",
       "      <td>-150</td>\n",
       "    </tr>\n",
       "    <tr>\n",
       "      <th>30</th>\n",
       "      <td>Pennsylvania</td>\n",
       "      <td>0.70</td>\n",
       "      <td>1080</td>\n",
       "      <td>0.17</td>\n",
       "      <td>24</td>\n",
       "      <td>1180</td>\n",
       "      <td>-100</td>\n",
       "    </tr>\n",
       "  </tbody>\n",
       "</table>\n",
       "</div>"
      ],
      "text/plain": [
       "   state_or_territory  sat_participation_rate  sat_total  \\\n",
       "26              Maine                    0.99       1010   \n",
       "50       Rhode Island                    1.00       1000   \n",
       "23           Delaware                    1.00        980   \n",
       "49      New Hampshire                    0.95       1060   \n",
       "30       Pennsylvania                    0.70       1080   \n",
       "\n",
       "    act_participation_rate  act_composite  sat_equiv_of_act_composite  \\\n",
       "26                    0.06             24                        1180   \n",
       "50                    0.12             25                        1210   \n",
       "23                    0.13             24                        1180   \n",
       "49                    0.14             25                        1210   \n",
       "30                    0.17             24                        1180   \n",
       "\n",
       "    mean_sat_minus_sat_equiv_mean_act  \n",
       "26                               -170  \n",
       "50                               -210  \n",
       "23                               -200  \n",
       "49                               -150  \n",
       "30                               -100  "
      ]
     },
     "execution_count": 167,
     "metadata": {},
     "output_type": "execute_result"
    }
   ],
   "source": [
    "act_sat_2019_df.sort_values('act_participation_rate', ascending = True).head()"
   ]
  },
  {
   "cell_type": "code",
   "execution_count": 168,
   "metadata": {},
   "outputs": [
    {
     "data": {
      "text/html": [
       "<div>\n",
       "<style scoped>\n",
       "    .dataframe tbody tr th:only-of-type {\n",
       "        vertical-align: middle;\n",
       "    }\n",
       "\n",
       "    .dataframe tbody tr th {\n",
       "        vertical-align: top;\n",
       "    }\n",
       "\n",
       "    .dataframe thead th {\n",
       "        text-align: right;\n",
       "    }\n",
       "</style>\n",
       "<table border=\"1\" class=\"dataframe\">\n",
       "  <thead>\n",
       "    <tr style=\"text-align: right;\">\n",
       "      <th></th>\n",
       "      <th>state_or_territory</th>\n",
       "      <th>sat_participation_rate</th>\n",
       "      <th>sat_total</th>\n",
       "      <th>act_participation_rate</th>\n",
       "      <th>act_composite</th>\n",
       "      <th>sat_equiv_of_act_composite</th>\n",
       "      <th>mean_sat_minus_sat_equiv_mean_act</th>\n",
       "    </tr>\n",
       "  </thead>\n",
       "  <tbody>\n",
       "    <tr>\n",
       "      <th>0</th>\n",
       "      <td>Alabama</td>\n",
       "      <td>0.07</td>\n",
       "      <td>1140</td>\n",
       "      <td>1.0</td>\n",
       "      <td>19</td>\n",
       "      <td>1010</td>\n",
       "      <td>130</td>\n",
       "    </tr>\n",
       "    <tr>\n",
       "      <th>16</th>\n",
       "      <td>Ohio</td>\n",
       "      <td>0.19</td>\n",
       "      <td>1100</td>\n",
       "      <td>1.0</td>\n",
       "      <td>20</td>\n",
       "      <td>1040</td>\n",
       "      <td>60</td>\n",
       "    </tr>\n",
       "    <tr>\n",
       "      <th>2</th>\n",
       "      <td>Arkansas</td>\n",
       "      <td>0.06</td>\n",
       "      <td>1140</td>\n",
       "      <td>1.0</td>\n",
       "      <td>19</td>\n",
       "      <td>1010</td>\n",
       "      <td>130</td>\n",
       "    </tr>\n",
       "    <tr>\n",
       "      <th>47</th>\n",
       "      <td>Mississippi</td>\n",
       "      <td>0.03</td>\n",
       "      <td>1240</td>\n",
       "      <td>1.0</td>\n",
       "      <td>18</td>\n",
       "      <td>970</td>\n",
       "      <td>270</td>\n",
       "    </tr>\n",
       "    <tr>\n",
       "      <th>4</th>\n",
       "      <td>Louisiana</td>\n",
       "      <td>0.05</td>\n",
       "      <td>1200</td>\n",
       "      <td>1.0</td>\n",
       "      <td>19</td>\n",
       "      <td>1010</td>\n",
       "      <td>190</td>\n",
       "    </tr>\n",
       "  </tbody>\n",
       "</table>\n",
       "</div>"
      ],
      "text/plain": [
       "   state_or_territory  sat_participation_rate  sat_total  \\\n",
       "0             Alabama                    0.07       1140   \n",
       "16               Ohio                    0.19       1100   \n",
       "2            Arkansas                    0.06       1140   \n",
       "47        Mississippi                    0.03       1240   \n",
       "4           Louisiana                    0.05       1200   \n",
       "\n",
       "    act_participation_rate  act_composite  sat_equiv_of_act_composite  \\\n",
       "0                      1.0             19                        1010   \n",
       "16                     1.0             20                        1040   \n",
       "2                      1.0             19                        1010   \n",
       "47                     1.0             18                         970   \n",
       "4                      1.0             19                        1010   \n",
       "\n",
       "    mean_sat_minus_sat_equiv_mean_act  \n",
       "0                                 130  \n",
       "16                                 60  \n",
       "2                                 130  \n",
       "47                                270  \n",
       "4                                 190  "
      ]
     },
     "execution_count": 168,
     "metadata": {},
     "output_type": "execute_result"
    }
   ],
   "source": [
    "act_sat_2019_df.sort_values('act_participation_rate', ascending = False).head()"
   ]
  },
  {
   "cell_type": "markdown",
   "metadata": {
    "tags": []
   },
   "source": [
    "### Observations about Lowest and Highest Participation Rates for SAT and ACT, by state/territory, 2019\n",
    "\n",
    "Perhaps unsurprisingly, there's an inverse correlation between SAT and ACT participation rate, at least among the top 5 highest and lowest for each test. States with 100% participation almost certainly are all requiring/offering all students to take that respective test.\n",
    "\n",
    "The SAT minus SAT equivalent of ACT mean supports this contention, with a huge difference between the tests at each end of the scale.\n",
    "\n",
    "[Education Week](https://www.edweek.org/teaching-learning/which-states-require-students-to-take-the-sat-or-act) provides 2018-19 data on test requirements by state.\n",
    "\n",
    "I printed the list of 100% participation and checked against it manually (in future I'll write it in and verify in Python/Pandas:))"
   ]
  },
  {
   "cell_type": "code",
   "execution_count": 169,
   "metadata": {},
   "outputs": [
    {
     "data": {
      "text/html": [
       "<div>\n",
       "<style scoped>\n",
       "    .dataframe tbody tr th:only-of-type {\n",
       "        vertical-align: middle;\n",
       "    }\n",
       "\n",
       "    .dataframe tbody tr th {\n",
       "        vertical-align: top;\n",
       "    }\n",
       "\n",
       "    .dataframe thead th {\n",
       "        text-align: right;\n",
       "    }\n",
       "</style>\n",
       "<table border=\"1\" class=\"dataframe\">\n",
       "  <thead>\n",
       "    <tr style=\"text-align: right;\">\n",
       "      <th></th>\n",
       "      <th>state_or_territory</th>\n",
       "      <th>sat_participation_rate</th>\n",
       "      <th>sat_total</th>\n",
       "      <th>act_participation_rate</th>\n",
       "      <th>act_composite</th>\n",
       "      <th>sat_equiv_of_act_composite</th>\n",
       "      <th>mean_sat_minus_sat_equiv_mean_act</th>\n",
       "    </tr>\n",
       "  </thead>\n",
       "  <tbody>\n",
       "    <tr>\n",
       "      <th>11</th>\n",
       "      <td>Florida</td>\n",
       "      <td>1.0</td>\n",
       "      <td>1000</td>\n",
       "      <td>0.54</td>\n",
       "      <td>20</td>\n",
       "      <td>1040</td>\n",
       "      <td>-40</td>\n",
       "    </tr>\n",
       "    <tr>\n",
       "      <th>22</th>\n",
       "      <td>Colorado</td>\n",
       "      <td>1.0</td>\n",
       "      <td>1020</td>\n",
       "      <td>0.27</td>\n",
       "      <td>24</td>\n",
       "      <td>1180</td>\n",
       "      <td>-160</td>\n",
       "    </tr>\n",
       "    <tr>\n",
       "      <th>23</th>\n",
       "      <td>Delaware</td>\n",
       "      <td>1.0</td>\n",
       "      <td>980</td>\n",
       "      <td>0.13</td>\n",
       "      <td>24</td>\n",
       "      <td>1180</td>\n",
       "      <td>-200</td>\n",
       "    </tr>\n",
       "    <tr>\n",
       "      <th>25</th>\n",
       "      <td>Illinois</td>\n",
       "      <td>1.0</td>\n",
       "      <td>1010</td>\n",
       "      <td>0.35</td>\n",
       "      <td>24</td>\n",
       "      <td>1180</td>\n",
       "      <td>-170</td>\n",
       "    </tr>\n",
       "    <tr>\n",
       "      <th>27</th>\n",
       "      <td>Michigan</td>\n",
       "      <td>1.0</td>\n",
       "      <td>1000</td>\n",
       "      <td>0.19</td>\n",
       "      <td>24</td>\n",
       "      <td>1180</td>\n",
       "      <td>-180</td>\n",
       "    </tr>\n",
       "    <tr>\n",
       "      <th>33</th>\n",
       "      <td>Connecticut</td>\n",
       "      <td>1.0</td>\n",
       "      <td>1050</td>\n",
       "      <td>0.22</td>\n",
       "      <td>26</td>\n",
       "      <td>1240</td>\n",
       "      <td>-190</td>\n",
       "    </tr>\n",
       "    <tr>\n",
       "      <th>41</th>\n",
       "      <td>Idaho</td>\n",
       "      <td>1.0</td>\n",
       "      <td>990</td>\n",
       "      <td>0.31</td>\n",
       "      <td>22</td>\n",
       "      <td>1110</td>\n",
       "      <td>-120</td>\n",
       "    </tr>\n",
       "    <tr>\n",
       "      <th>50</th>\n",
       "      <td>Rhode Island</td>\n",
       "      <td>1.0</td>\n",
       "      <td>1000</td>\n",
       "      <td>0.12</td>\n",
       "      <td>25</td>\n",
       "      <td>1210</td>\n",
       "      <td>-210</td>\n",
       "    </tr>\n",
       "  </tbody>\n",
       "</table>\n",
       "</div>"
      ],
      "text/plain": [
       "   state_or_territory  sat_participation_rate  sat_total  \\\n",
       "11            Florida                     1.0       1000   \n",
       "22           Colorado                     1.0       1020   \n",
       "23           Delaware                     1.0        980   \n",
       "25           Illinois                     1.0       1010   \n",
       "27           Michigan                     1.0       1000   \n",
       "33        Connecticut                     1.0       1050   \n",
       "41              Idaho                     1.0        990   \n",
       "50       Rhode Island                     1.0       1000   \n",
       "\n",
       "    act_participation_rate  act_composite  sat_equiv_of_act_composite  \\\n",
       "11                    0.54             20                        1040   \n",
       "22                    0.27             24                        1180   \n",
       "23                    0.13             24                        1180   \n",
       "25                    0.35             24                        1180   \n",
       "27                    0.19             24                        1180   \n",
       "33                    0.22             26                        1240   \n",
       "41                    0.31             22                        1110   \n",
       "50                    0.12             25                        1210   \n",
       "\n",
       "    mean_sat_minus_sat_equiv_mean_act  \n",
       "11                                -40  \n",
       "22                               -160  \n",
       "23                               -200  \n",
       "25                               -170  \n",
       "27                               -180  \n",
       "33                               -190  \n",
       "41                               -120  \n",
       "50                               -210  "
      ]
     },
     "execution_count": 169,
     "metadata": {},
     "output_type": "execute_result"
    }
   ],
   "source": [
    "act_sat_2019_df[act_sat_2019_df['sat_participation_rate'] == 1]"
   ]
  },
  {
   "cell_type": "code",
   "execution_count": 170,
   "metadata": {},
   "outputs": [
    {
     "data": {
      "text/plain": [
       "state_or_territory                   8\n",
       "sat_participation_rate               8\n",
       "sat_total                            8\n",
       "act_participation_rate               8\n",
       "act_composite                        8\n",
       "sat_equiv_of_act_composite           8\n",
       "mean_sat_minus_sat_equiv_mean_act    8\n",
       "dtype: int64"
      ]
     },
     "execution_count": 170,
     "metadata": {},
     "output_type": "execute_result"
    }
   ],
   "source": [
    "act_sat_2019_df[act_sat_2019_df['sat_participation_rate'] == 1].count()"
   ]
  },
  {
   "cell_type": "markdown",
   "metadata": {},
   "source": [
    "8 States reporting 100% SAT participation.\n",
    "\n",
    "Surprisingly, Florida doesn't require the SAT, though it does require passing the FSA (Florida Standards Assessment) or achieving minimum scores on the SAT or the ACT for graduation. Perhaps that explains the high participation rate on both tests. That said, I'm skeptical the 100% SAT participation number is accurate without a requirement.\n",
    "\n",
    "Colorado, yes. Delaware, yes. Illinois, yes. Michigan, yes (both tests offered). CT, yes. Idaho, yes (both tests). RI, yes.\n",
    "\n",
    "[College Vine](https://blog.collegevine.com/states-that-require-sat/) provides additional information."
   ]
  },
  {
   "cell_type": "code",
   "execution_count": 171,
   "metadata": {},
   "outputs": [
    {
     "data": {
      "text/html": [
       "<div>\n",
       "<style scoped>\n",
       "    .dataframe tbody tr th:only-of-type {\n",
       "        vertical-align: middle;\n",
       "    }\n",
       "\n",
       "    .dataframe tbody tr th {\n",
       "        vertical-align: top;\n",
       "    }\n",
       "\n",
       "    .dataframe thead th {\n",
       "        text-align: right;\n",
       "    }\n",
       "</style>\n",
       "<table border=\"1\" class=\"dataframe\">\n",
       "  <thead>\n",
       "    <tr style=\"text-align: right;\">\n",
       "      <th></th>\n",
       "      <th>state_or_territory</th>\n",
       "      <th>sat_participation_rate</th>\n",
       "      <th>sat_total</th>\n",
       "      <th>act_participation_rate</th>\n",
       "      <th>act_composite</th>\n",
       "      <th>sat_equiv_of_act_composite</th>\n",
       "      <th>mean_sat_minus_sat_equiv_mean_act</th>\n",
       "    </tr>\n",
       "  </thead>\n",
       "  <tbody>\n",
       "    <tr>\n",
       "      <th>0</th>\n",
       "      <td>Alabama</td>\n",
       "      <td>0.07</td>\n",
       "      <td>1140</td>\n",
       "      <td>1.0</td>\n",
       "      <td>19</td>\n",
       "      <td>1010</td>\n",
       "      <td>130</td>\n",
       "    </tr>\n",
       "    <tr>\n",
       "      <th>2</th>\n",
       "      <td>Arkansas</td>\n",
       "      <td>0.06</td>\n",
       "      <td>1140</td>\n",
       "      <td>1.0</td>\n",
       "      <td>19</td>\n",
       "      <td>1010</td>\n",
       "      <td>130</td>\n",
       "    </tr>\n",
       "    <tr>\n",
       "      <th>4</th>\n",
       "      <td>Louisiana</td>\n",
       "      <td>0.05</td>\n",
       "      <td>1200</td>\n",
       "      <td>1.0</td>\n",
       "      <td>19</td>\n",
       "      <td>1010</td>\n",
       "      <td>190</td>\n",
       "    </tr>\n",
       "    <tr>\n",
       "      <th>6</th>\n",
       "      <td>North Carolina</td>\n",
       "      <td>0.51</td>\n",
       "      <td>1100</td>\n",
       "      <td>1.0</td>\n",
       "      <td>19</td>\n",
       "      <td>1010</td>\n",
       "      <td>90</td>\n",
       "    </tr>\n",
       "    <tr>\n",
       "      <th>7</th>\n",
       "      <td>Oklahoma</td>\n",
       "      <td>0.22</td>\n",
       "      <td>960</td>\n",
       "      <td>1.0</td>\n",
       "      <td>19</td>\n",
       "      <td>1010</td>\n",
       "      <td>-50</td>\n",
       "    </tr>\n",
       "    <tr>\n",
       "      <th>9</th>\n",
       "      <td>Tennessee</td>\n",
       "      <td>0.07</td>\n",
       "      <td>1220</td>\n",
       "      <td>1.0</td>\n",
       "      <td>19</td>\n",
       "      <td>1010</td>\n",
       "      <td>210</td>\n",
       "    </tr>\n",
       "    <tr>\n",
       "      <th>12</th>\n",
       "      <td>Kentucky</td>\n",
       "      <td>0.04</td>\n",
       "      <td>1230</td>\n",
       "      <td>1.0</td>\n",
       "      <td>20</td>\n",
       "      <td>1040</td>\n",
       "      <td>190</td>\n",
       "    </tr>\n",
       "    <tr>\n",
       "      <th>13</th>\n",
       "      <td>Montana</td>\n",
       "      <td>0.09</td>\n",
       "      <td>1200</td>\n",
       "      <td>1.0</td>\n",
       "      <td>20</td>\n",
       "      <td>1040</td>\n",
       "      <td>160</td>\n",
       "    </tr>\n",
       "    <tr>\n",
       "      <th>14</th>\n",
       "      <td>Nebraska</td>\n",
       "      <td>0.03</td>\n",
       "      <td>1260</td>\n",
       "      <td>1.0</td>\n",
       "      <td>20</td>\n",
       "      <td>1040</td>\n",
       "      <td>220</td>\n",
       "    </tr>\n",
       "    <tr>\n",
       "      <th>16</th>\n",
       "      <td>Ohio</td>\n",
       "      <td>0.19</td>\n",
       "      <td>1100</td>\n",
       "      <td>1.0</td>\n",
       "      <td>20</td>\n",
       "      <td>1040</td>\n",
       "      <td>60</td>\n",
       "    </tr>\n",
       "    <tr>\n",
       "      <th>18</th>\n",
       "      <td>Utah</td>\n",
       "      <td>0.04</td>\n",
       "      <td>1230</td>\n",
       "      <td>1.0</td>\n",
       "      <td>20</td>\n",
       "      <td>1040</td>\n",
       "      <td>190</td>\n",
       "    </tr>\n",
       "    <tr>\n",
       "      <th>19</th>\n",
       "      <td>Wisconsin</td>\n",
       "      <td>0.03</td>\n",
       "      <td>1280</td>\n",
       "      <td>1.0</td>\n",
       "      <td>20</td>\n",
       "      <td>1040</td>\n",
       "      <td>240</td>\n",
       "    </tr>\n",
       "    <tr>\n",
       "      <th>20</th>\n",
       "      <td>Wyoming</td>\n",
       "      <td>0.03</td>\n",
       "      <td>1240</td>\n",
       "      <td>1.0</td>\n",
       "      <td>20</td>\n",
       "      <td>1040</td>\n",
       "      <td>200</td>\n",
       "    </tr>\n",
       "    <tr>\n",
       "      <th>47</th>\n",
       "      <td>Mississippi</td>\n",
       "      <td>0.03</td>\n",
       "      <td>1240</td>\n",
       "      <td>1.0</td>\n",
       "      <td>18</td>\n",
       "      <td>970</td>\n",
       "      <td>270</td>\n",
       "    </tr>\n",
       "    <tr>\n",
       "      <th>48</th>\n",
       "      <td>Nevada</td>\n",
       "      <td>0.20</td>\n",
       "      <td>1160</td>\n",
       "      <td>1.0</td>\n",
       "      <td>18</td>\n",
       "      <td>970</td>\n",
       "      <td>190</td>\n",
       "    </tr>\n",
       "  </tbody>\n",
       "</table>\n",
       "</div>"
      ],
      "text/plain": [
       "   state_or_territory  sat_participation_rate  sat_total  \\\n",
       "0             Alabama                    0.07       1140   \n",
       "2            Arkansas                    0.06       1140   \n",
       "4           Louisiana                    0.05       1200   \n",
       "6      North Carolina                    0.51       1100   \n",
       "7            Oklahoma                    0.22        960   \n",
       "9           Tennessee                    0.07       1220   \n",
       "12           Kentucky                    0.04       1230   \n",
       "13            Montana                    0.09       1200   \n",
       "14           Nebraska                    0.03       1260   \n",
       "16               Ohio                    0.19       1100   \n",
       "18               Utah                    0.04       1230   \n",
       "19          Wisconsin                    0.03       1280   \n",
       "20            Wyoming                    0.03       1240   \n",
       "47        Mississippi                    0.03       1240   \n",
       "48             Nevada                    0.20       1160   \n",
       "\n",
       "    act_participation_rate  act_composite  sat_equiv_of_act_composite  \\\n",
       "0                      1.0             19                        1010   \n",
       "2                      1.0             19                        1010   \n",
       "4                      1.0             19                        1010   \n",
       "6                      1.0             19                        1010   \n",
       "7                      1.0             19                        1010   \n",
       "9                      1.0             19                        1010   \n",
       "12                     1.0             20                        1040   \n",
       "13                     1.0             20                        1040   \n",
       "14                     1.0             20                        1040   \n",
       "16                     1.0             20                        1040   \n",
       "18                     1.0             20                        1040   \n",
       "19                     1.0             20                        1040   \n",
       "20                     1.0             20                        1040   \n",
       "47                     1.0             18                         970   \n",
       "48                     1.0             18                         970   \n",
       "\n",
       "    mean_sat_minus_sat_equiv_mean_act  \n",
       "0                                 130  \n",
       "2                                 130  \n",
       "4                                 190  \n",
       "6                                  90  \n",
       "7                                 -50  \n",
       "9                                 210  \n",
       "12                                190  \n",
       "13                                160  \n",
       "14                                220  \n",
       "16                                 60  \n",
       "18                                190  \n",
       "19                                240  \n",
       "20                                200  \n",
       "47                                270  \n",
       "48                                190  "
      ]
     },
     "execution_count": 171,
     "metadata": {},
     "output_type": "execute_result"
    }
   ],
   "source": [
    "act_sat_2019_df[act_sat_2019_df['act_participation_rate'] == 1]"
   ]
  },
  {
   "cell_type": "code",
   "execution_count": 172,
   "metadata": {},
   "outputs": [
    {
     "data": {
      "text/plain": [
       "state_or_territory                   15\n",
       "sat_participation_rate               15\n",
       "sat_total                            15\n",
       "act_participation_rate               15\n",
       "act_composite                        15\n",
       "sat_equiv_of_act_composite           15\n",
       "mean_sat_minus_sat_equiv_mean_act    15\n",
       "dtype: int64"
      ]
     },
     "execution_count": 172,
     "metadata": {},
     "output_type": "execute_result"
    }
   ],
   "source": [
    "act_sat_2019_df[act_sat_2019_df['act_participation_rate'] == 1].count()"
   ]
  },
  {
   "cell_type": "markdown",
   "metadata": {},
   "source": [
    "15 states reporting 100% ACT participation.\n",
    "\n",
    "[More info on LA](https://www.louisianabelieves.com/measuringresults/assessments-for-high-schools)\n",
    "\n",
    "AL, yes. AR, all districts must offer ACT, but students aren't required to take it. LA, LEAP assesments include ACT. NC, yes. OK, districts choose between SAT and ACT. TN, districts choose between SAT and ACT. KY, yes. MT, yes. NE, yes. OH, ACT or SAT. UT, yes. WI, yes. WY, yes. MS, yes. NV, yes.\n",
    "\n",
    "[PrepScholar Blog](https://blog.prepscholar.com/which-states-require-the-act-full-list-and-advice) again offers additional information."
   ]
  },
  {
   "cell_type": "markdown",
   "metadata": {
    "tags": []
   },
   "source": [
    "### Observations about States with 100% participation rate on either test.\n",
    "\n",
    "It appears that with the exception of Florida, which does allow students to use SAT or ACT scores to meet graduation requirements, every state with a 100% participation rate on either test at least offers that test statewide."
   ]
  },
  {
   "cell_type": "markdown",
   "metadata": {},
   "source": [
    "    - Which states have the highest and lowest mean total/composite scores for the 2019 SAT and ACT?"
   ]
  },
  {
   "cell_type": "code",
   "execution_count": 173,
   "metadata": {},
   "outputs": [
    {
     "data": {
      "text/html": [
       "<div>\n",
       "<style scoped>\n",
       "    .dataframe tbody tr th:only-of-type {\n",
       "        vertical-align: middle;\n",
       "    }\n",
       "\n",
       "    .dataframe tbody tr th {\n",
       "        vertical-align: top;\n",
       "    }\n",
       "\n",
       "    .dataframe thead th {\n",
       "        text-align: right;\n",
       "    }\n",
       "</style>\n",
       "<table border=\"1\" class=\"dataframe\">\n",
       "  <thead>\n",
       "    <tr style=\"text-align: right;\">\n",
       "      <th></th>\n",
       "      <th>state_or_territory</th>\n",
       "      <th>sat_participation_rate</th>\n",
       "      <th>sat_total</th>\n",
       "      <th>act_participation_rate</th>\n",
       "      <th>act_composite</th>\n",
       "      <th>sat_equiv_of_act_composite</th>\n",
       "      <th>mean_sat_minus_sat_equiv_mean_act</th>\n",
       "    </tr>\n",
       "  </thead>\n",
       "  <tbody>\n",
       "    <tr>\n",
       "      <th>40</th>\n",
       "      <td>West Virginia</td>\n",
       "      <td>0.99</td>\n",
       "      <td>940</td>\n",
       "      <td>0.49</td>\n",
       "      <td>21</td>\n",
       "      <td>1080</td>\n",
       "      <td>-140</td>\n",
       "    </tr>\n",
       "    <tr>\n",
       "      <th>7</th>\n",
       "      <td>Oklahoma</td>\n",
       "      <td>0.22</td>\n",
       "      <td>960</td>\n",
       "      <td>1.00</td>\n",
       "      <td>19</td>\n",
       "      <td>1010</td>\n",
       "      <td>-50</td>\n",
       "    </tr>\n",
       "    <tr>\n",
       "      <th>24</th>\n",
       "      <td>District of Columbia</td>\n",
       "      <td>0.94</td>\n",
       "      <td>980</td>\n",
       "      <td>0.32</td>\n",
       "      <td>24</td>\n",
       "      <td>1180</td>\n",
       "      <td>-200</td>\n",
       "    </tr>\n",
       "    <tr>\n",
       "      <th>23</th>\n",
       "      <td>Delaware</td>\n",
       "      <td>1.00</td>\n",
       "      <td>980</td>\n",
       "      <td>0.13</td>\n",
       "      <td>24</td>\n",
       "      <td>1180</td>\n",
       "      <td>-200</td>\n",
       "    </tr>\n",
       "    <tr>\n",
       "      <th>41</th>\n",
       "      <td>Idaho</td>\n",
       "      <td>1.00</td>\n",
       "      <td>990</td>\n",
       "      <td>0.31</td>\n",
       "      <td>22</td>\n",
       "      <td>1110</td>\n",
       "      <td>-120</td>\n",
       "    </tr>\n",
       "  </tbody>\n",
       "</table>\n",
       "</div>"
      ],
      "text/plain": [
       "      state_or_territory  sat_participation_rate  sat_total  \\\n",
       "40         West Virginia                    0.99        940   \n",
       "7               Oklahoma                    0.22        960   \n",
       "24  District of Columbia                    0.94        980   \n",
       "23              Delaware                    1.00        980   \n",
       "41                 Idaho                    1.00        990   \n",
       "\n",
       "    act_participation_rate  act_composite  sat_equiv_of_act_composite  \\\n",
       "40                    0.49             21                        1080   \n",
       "7                     1.00             19                        1010   \n",
       "24                    0.32             24                        1180   \n",
       "23                    0.13             24                        1180   \n",
       "41                    0.31             22                        1110   \n",
       "\n",
       "    mean_sat_minus_sat_equiv_mean_act  \n",
       "40                               -140  \n",
       "7                                 -50  \n",
       "24                               -200  \n",
       "23                               -200  \n",
       "41                               -120  "
      ]
     },
     "execution_count": 173,
     "metadata": {},
     "output_type": "execute_result"
    }
   ],
   "source": [
    "act_sat_2019_df.sort_values('sat_total', ascending = True).head()"
   ]
  },
  {
   "cell_type": "code",
   "execution_count": 174,
   "metadata": {},
   "outputs": [
    {
     "data": {
      "text/html": [
       "<div>\n",
       "<style scoped>\n",
       "    .dataframe tbody tr th:only-of-type {\n",
       "        vertical-align: middle;\n",
       "    }\n",
       "\n",
       "    .dataframe tbody tr th {\n",
       "        vertical-align: top;\n",
       "    }\n",
       "\n",
       "    .dataframe thead th {\n",
       "        text-align: right;\n",
       "    }\n",
       "</style>\n",
       "<table border=\"1\" class=\"dataframe\">\n",
       "  <thead>\n",
       "    <tr style=\"text-align: right;\">\n",
       "      <th></th>\n",
       "      <th>state_or_territory</th>\n",
       "      <th>sat_participation_rate</th>\n",
       "      <th>sat_total</th>\n",
       "      <th>act_participation_rate</th>\n",
       "      <th>act_composite</th>\n",
       "      <th>sat_equiv_of_act_composite</th>\n",
       "      <th>mean_sat_minus_sat_equiv_mean_act</th>\n",
       "    </tr>\n",
       "  </thead>\n",
       "  <tbody>\n",
       "    <tr>\n",
       "      <th>37</th>\n",
       "      <td>Minnesota</td>\n",
       "      <td>0.04</td>\n",
       "      <td>1280</td>\n",
       "      <td>0.95</td>\n",
       "      <td>21</td>\n",
       "      <td>1080</td>\n",
       "      <td>200</td>\n",
       "    </tr>\n",
       "    <tr>\n",
       "      <th>19</th>\n",
       "      <td>Wisconsin</td>\n",
       "      <td>0.03</td>\n",
       "      <td>1280</td>\n",
       "      <td>1.00</td>\n",
       "      <td>20</td>\n",
       "      <td>1040</td>\n",
       "      <td>240</td>\n",
       "    </tr>\n",
       "    <tr>\n",
       "      <th>45</th>\n",
       "      <td>South Dakota</td>\n",
       "      <td>0.03</td>\n",
       "      <td>1270</td>\n",
       "      <td>0.75</td>\n",
       "      <td>22</td>\n",
       "      <td>1110</td>\n",
       "      <td>160</td>\n",
       "    </tr>\n",
       "    <tr>\n",
       "      <th>14</th>\n",
       "      <td>Nebraska</td>\n",
       "      <td>0.03</td>\n",
       "      <td>1260</td>\n",
       "      <td>1.00</td>\n",
       "      <td>20</td>\n",
       "      <td>1040</td>\n",
       "      <td>220</td>\n",
       "    </tr>\n",
       "    <tr>\n",
       "      <th>15</th>\n",
       "      <td>North Dakota</td>\n",
       "      <td>0.02</td>\n",
       "      <td>1260</td>\n",
       "      <td>0.96</td>\n",
       "      <td>20</td>\n",
       "      <td>1040</td>\n",
       "      <td>220</td>\n",
       "    </tr>\n",
       "  </tbody>\n",
       "</table>\n",
       "</div>"
      ],
      "text/plain": [
       "   state_or_territory  sat_participation_rate  sat_total  \\\n",
       "37          Minnesota                    0.04       1280   \n",
       "19          Wisconsin                    0.03       1280   \n",
       "45       South Dakota                    0.03       1270   \n",
       "14           Nebraska                    0.03       1260   \n",
       "15       North Dakota                    0.02       1260   \n",
       "\n",
       "    act_participation_rate  act_composite  sat_equiv_of_act_composite  \\\n",
       "37                    0.95             21                        1080   \n",
       "19                    1.00             20                        1040   \n",
       "45                    0.75             22                        1110   \n",
       "14                    1.00             20                        1040   \n",
       "15                    0.96             20                        1040   \n",
       "\n",
       "    mean_sat_minus_sat_equiv_mean_act  \n",
       "37                                200  \n",
       "19                                240  \n",
       "45                                160  \n",
       "14                                220  \n",
       "15                                220  "
      ]
     },
     "execution_count": 174,
     "metadata": {},
     "output_type": "execute_result"
    }
   ],
   "source": [
    "act_sat_2019_df.sort_values('sat_total', ascending = False).head()"
   ]
  },
  {
   "cell_type": "code",
   "execution_count": 175,
   "metadata": {},
   "outputs": [
    {
     "data": {
      "text/html": [
       "<div>\n",
       "<style scoped>\n",
       "    .dataframe tbody tr th:only-of-type {\n",
       "        vertical-align: middle;\n",
       "    }\n",
       "\n",
       "    .dataframe tbody tr th {\n",
       "        vertical-align: top;\n",
       "    }\n",
       "\n",
       "    .dataframe thead th {\n",
       "        text-align: right;\n",
       "    }\n",
       "</style>\n",
       "<table border=\"1\" class=\"dataframe\">\n",
       "  <thead>\n",
       "    <tr style=\"text-align: right;\">\n",
       "      <th></th>\n",
       "      <th>state_or_territory</th>\n",
       "      <th>sat_participation_rate</th>\n",
       "      <th>sat_total</th>\n",
       "      <th>act_participation_rate</th>\n",
       "      <th>act_composite</th>\n",
       "      <th>sat_equiv_of_act_composite</th>\n",
       "      <th>mean_sat_minus_sat_equiv_mean_act</th>\n",
       "    </tr>\n",
       "  </thead>\n",
       "  <tbody>\n",
       "    <tr>\n",
       "      <th>47</th>\n",
       "      <td>Mississippi</td>\n",
       "      <td>0.03</td>\n",
       "      <td>1240</td>\n",
       "      <td>1.00</td>\n",
       "      <td>18</td>\n",
       "      <td>970</td>\n",
       "      <td>270</td>\n",
       "    </tr>\n",
       "    <tr>\n",
       "      <th>48</th>\n",
       "      <td>Nevada</td>\n",
       "      <td>0.20</td>\n",
       "      <td>1160</td>\n",
       "      <td>1.00</td>\n",
       "      <td>18</td>\n",
       "      <td>970</td>\n",
       "      <td>190</td>\n",
       "    </tr>\n",
       "    <tr>\n",
       "      <th>0</th>\n",
       "      <td>Alabama</td>\n",
       "      <td>0.07</td>\n",
       "      <td>1140</td>\n",
       "      <td>1.00</td>\n",
       "      <td>19</td>\n",
       "      <td>1010</td>\n",
       "      <td>130</td>\n",
       "    </tr>\n",
       "    <tr>\n",
       "      <th>1</th>\n",
       "      <td>Arizona</td>\n",
       "      <td>0.31</td>\n",
       "      <td>1130</td>\n",
       "      <td>0.73</td>\n",
       "      <td>19</td>\n",
       "      <td>1010</td>\n",
       "      <td>120</td>\n",
       "    </tr>\n",
       "    <tr>\n",
       "      <th>2</th>\n",
       "      <td>Arkansas</td>\n",
       "      <td>0.06</td>\n",
       "      <td>1140</td>\n",
       "      <td>1.00</td>\n",
       "      <td>19</td>\n",
       "      <td>1010</td>\n",
       "      <td>130</td>\n",
       "    </tr>\n",
       "  </tbody>\n",
       "</table>\n",
       "</div>"
      ],
      "text/plain": [
       "   state_or_territory  sat_participation_rate  sat_total  \\\n",
       "47        Mississippi                    0.03       1240   \n",
       "48             Nevada                    0.20       1160   \n",
       "0             Alabama                    0.07       1140   \n",
       "1             Arizona                    0.31       1130   \n",
       "2            Arkansas                    0.06       1140   \n",
       "\n",
       "    act_participation_rate  act_composite  sat_equiv_of_act_composite  \\\n",
       "47                    1.00             18                         970   \n",
       "48                    1.00             18                         970   \n",
       "0                     1.00             19                        1010   \n",
       "1                     0.73             19                        1010   \n",
       "2                     1.00             19                        1010   \n",
       "\n",
       "    mean_sat_minus_sat_equiv_mean_act  \n",
       "47                                270  \n",
       "48                                190  \n",
       "0                                 130  \n",
       "1                                 120  \n",
       "2                                 130  "
      ]
     },
     "execution_count": 175,
     "metadata": {},
     "output_type": "execute_result"
    }
   ],
   "source": [
    "act_sat_2019_df.sort_values('act_composite', ascending = True).head()"
   ]
  },
  {
   "cell_type": "code",
   "execution_count": 176,
   "metadata": {},
   "outputs": [
    {
     "data": {
      "text/html": [
       "<div>\n",
       "<style scoped>\n",
       "    .dataframe tbody tr th:only-of-type {\n",
       "        vertical-align: middle;\n",
       "    }\n",
       "\n",
       "    .dataframe tbody tr th {\n",
       "        vertical-align: top;\n",
       "    }\n",
       "\n",
       "    .dataframe thead th {\n",
       "        text-align: right;\n",
       "    }\n",
       "</style>\n",
       "<table border=\"1\" class=\"dataframe\">\n",
       "  <thead>\n",
       "    <tr style=\"text-align: right;\">\n",
       "      <th></th>\n",
       "      <th>state_or_territory</th>\n",
       "      <th>sat_participation_rate</th>\n",
       "      <th>sat_total</th>\n",
       "      <th>act_participation_rate</th>\n",
       "      <th>act_composite</th>\n",
       "      <th>sat_equiv_of_act_composite</th>\n",
       "      <th>mean_sat_minus_sat_equiv_mean_act</th>\n",
       "    </tr>\n",
       "  </thead>\n",
       "  <tbody>\n",
       "    <tr>\n",
       "      <th>34</th>\n",
       "      <td>Massachusetts</td>\n",
       "      <td>0.81</td>\n",
       "      <td>1120</td>\n",
       "      <td>0.21</td>\n",
       "      <td>26</td>\n",
       "      <td>1240</td>\n",
       "      <td>-120</td>\n",
       "    </tr>\n",
       "    <tr>\n",
       "      <th>33</th>\n",
       "      <td>Connecticut</td>\n",
       "      <td>1.00</td>\n",
       "      <td>1050</td>\n",
       "      <td>0.22</td>\n",
       "      <td>26</td>\n",
       "      <td>1240</td>\n",
       "      <td>-190</td>\n",
       "    </tr>\n",
       "    <tr>\n",
       "      <th>50</th>\n",
       "      <td>Rhode Island</td>\n",
       "      <td>1.00</td>\n",
       "      <td>1000</td>\n",
       "      <td>0.12</td>\n",
       "      <td>25</td>\n",
       "      <td>1210</td>\n",
       "      <td>-210</td>\n",
       "    </tr>\n",
       "    <tr>\n",
       "      <th>49</th>\n",
       "      <td>New Hampshire</td>\n",
       "      <td>0.95</td>\n",
       "      <td>1060</td>\n",
       "      <td>0.14</td>\n",
       "      <td>25</td>\n",
       "      <td>1210</td>\n",
       "      <td>-150</td>\n",
       "    </tr>\n",
       "    <tr>\n",
       "      <th>22</th>\n",
       "      <td>Colorado</td>\n",
       "      <td>1.00</td>\n",
       "      <td>1020</td>\n",
       "      <td>0.27</td>\n",
       "      <td>24</td>\n",
       "      <td>1180</td>\n",
       "      <td>-160</td>\n",
       "    </tr>\n",
       "  </tbody>\n",
       "</table>\n",
       "</div>"
      ],
      "text/plain": [
       "   state_or_territory  sat_participation_rate  sat_total  \\\n",
       "34      Massachusetts                    0.81       1120   \n",
       "33        Connecticut                    1.00       1050   \n",
       "50       Rhode Island                    1.00       1000   \n",
       "49      New Hampshire                    0.95       1060   \n",
       "22           Colorado                    1.00       1020   \n",
       "\n",
       "    act_participation_rate  act_composite  sat_equiv_of_act_composite  \\\n",
       "34                    0.21             26                        1240   \n",
       "33                    0.22             26                        1240   \n",
       "50                    0.12             25                        1210   \n",
       "49                    0.14             25                        1210   \n",
       "22                    0.27             24                        1180   \n",
       "\n",
       "    mean_sat_minus_sat_equiv_mean_act  \n",
       "34                               -120  \n",
       "33                               -190  \n",
       "50                               -210  \n",
       "49                               -150  \n",
       "22                               -160  "
      ]
     },
     "execution_count": 176,
     "metadata": {},
     "output_type": "execute_result"
    }
   ],
   "source": [
    "act_sat_2019_df.sort_values('act_composite', ascending = False).head()"
   ]
  },
  {
   "cell_type": "markdown",
   "metadata": {
    "tags": []
   },
   "source": [
    "### Observations about 5 Greatest and Lowest SAT and ACT scores\n",
    "\n",
    "There continues to appear to be an inverse relationship between participation rate and scores. This seems intuitive: in a state that requires or offers the test to everyone, in school, students who might not otherwise test are more likely to test. As it seems likely these students are more likely to be weaker at traditional academics (for example, those who aren't planning to attending college for that reason). The inclusion of such students would likely explain the lower averages.\n",
    "\n",
    "On the flip side, it seems likely that in a state with a low participation rate on a given test (for example, MS on the SAT), the students who choose to test are self-selected, and that self-selection is likely to correlate to more time and resources for college prep, application prep, test prep, and additional thoughtfulness about which test to take that seems likely to correlate to academic ability even in the absence of other resources."
   ]
  },
  {
   "cell_type": "markdown",
   "metadata": {
    "jp-MarkdownHeadingCollapsed": true,
    "tags": []
   },
   "source": [
    "        - Do any states with 100% participation on a given test have a rate change year-to-year?\n",
    "\n",
    "As I'm only looking at 2019 (and focusing on state-by-state comparison versus year-to-year comparison), I can't explore this data."
   ]
  },
  {
   "cell_type": "markdown",
   "metadata": {
    "jp-MarkdownHeadingCollapsed": true,
    "tags": []
   },
   "source": [
    "        - Do any states show have >50% participation on *both* tests each year?"
   ]
  },
  {
   "cell_type": "code",
   "execution_count": 177,
   "metadata": {},
   "outputs": [
    {
     "data": {
      "text/html": [
       "<div>\n",
       "<style scoped>\n",
       "    .dataframe tbody tr th:only-of-type {\n",
       "        vertical-align: middle;\n",
       "    }\n",
       "\n",
       "    .dataframe tbody tr th {\n",
       "        vertical-align: top;\n",
       "    }\n",
       "\n",
       "    .dataframe thead th {\n",
       "        text-align: right;\n",
       "    }\n",
       "</style>\n",
       "<table border=\"1\" class=\"dataframe\">\n",
       "  <thead>\n",
       "    <tr style=\"text-align: right;\">\n",
       "      <th></th>\n",
       "      <th>state_or_territory</th>\n",
       "      <th>sat_participation_rate</th>\n",
       "      <th>sat_total</th>\n",
       "      <th>act_participation_rate</th>\n",
       "      <th>act_composite</th>\n",
       "      <th>sat_equiv_of_act_composite</th>\n",
       "      <th>mean_sat_minus_sat_equiv_mean_act</th>\n",
       "    </tr>\n",
       "  </thead>\n",
       "  <tbody>\n",
       "    <tr>\n",
       "      <th>3</th>\n",
       "      <td>Hawaii</td>\n",
       "      <td>0.54</td>\n",
       "      <td>1100</td>\n",
       "      <td>0.80</td>\n",
       "      <td>19</td>\n",
       "      <td>1010</td>\n",
       "      <td>90</td>\n",
       "    </tr>\n",
       "    <tr>\n",
       "      <th>6</th>\n",
       "      <td>North Carolina</td>\n",
       "      <td>0.51</td>\n",
       "      <td>1100</td>\n",
       "      <td>1.00</td>\n",
       "      <td>19</td>\n",
       "      <td>1010</td>\n",
       "      <td>90</td>\n",
       "    </tr>\n",
       "    <tr>\n",
       "      <th>8</th>\n",
       "      <td>South Carolina</td>\n",
       "      <td>0.68</td>\n",
       "      <td>1030</td>\n",
       "      <td>0.78</td>\n",
       "      <td>19</td>\n",
       "      <td>1010</td>\n",
       "      <td>20</td>\n",
       "    </tr>\n",
       "    <tr>\n",
       "      <th>11</th>\n",
       "      <td>Florida</td>\n",
       "      <td>1.00</td>\n",
       "      <td>1000</td>\n",
       "      <td>0.54</td>\n",
       "      <td>20</td>\n",
       "      <td>1040</td>\n",
       "      <td>-40</td>\n",
       "    </tr>\n",
       "  </tbody>\n",
       "</table>\n",
       "</div>"
      ],
      "text/plain": [
       "   state_or_territory  sat_participation_rate  sat_total  \\\n",
       "3              Hawaii                    0.54       1100   \n",
       "6      North Carolina                    0.51       1100   \n",
       "8      South Carolina                    0.68       1030   \n",
       "11            Florida                    1.00       1000   \n",
       "\n",
       "    act_participation_rate  act_composite  sat_equiv_of_act_composite  \\\n",
       "3                     0.80             19                        1010   \n",
       "6                     1.00             19                        1010   \n",
       "8                     0.78             19                        1010   \n",
       "11                    0.54             20                        1040   \n",
       "\n",
       "    mean_sat_minus_sat_equiv_mean_act  \n",
       "3                                  90  \n",
       "6                                  90  \n",
       "8                                  20  \n",
       "11                                -40  "
      ]
     },
     "execution_count": 177,
     "metadata": {},
     "output_type": "execute_result"
    }
   ],
   "source": [
    "act_sat_2019_df[(act_sat_2019_df['sat_participation_rate'] > .5) & (act_sat_2019_df['act_participation_rate'] > .5)]\n",
    "                "
   ]
  },
  {
   "cell_type": "markdown",
   "metadata": {
    "tags": []
   },
   "source": [
    "### Observations about States with >50% participation on both tests\n",
    "\n",
    "Without more data there isn't a lot to conclude from this. Florida is discussed above. North Carolina, as well. It seems plausible that the high rate of SAT participation is related to the large number of universities in the state and it's relative wealth.\n",
    "\n",
    "Hawai'i required that all HS students take the test (and still does). [(source)](https://www.hawaiipublicschools.org/ConnectWithUs/MediaRoom/PressReleases/Pages/2017-ACT-Results.aspx) It's unclear why participation rate is *only* 80%. \n",
    "\n",
    "South Carolina currently requires the ACT. [(source)](https://ed.sc.gov/tests/high/the-act/). It's unclear how long that requirement has existed and/or if it doesn't go back to 2019 if it was at least offered in school. The [PrepScholar article](https://blog.prepscholar.com/which-states-require-the-act-full-list-and-advice) (dated 2021) suggests that the state requires SAT or ACT, but I can't find any other evidence of that, yet."
   ]
  },
  {
   "cell_type": "markdown",
   "metadata": {
    "jp-MarkdownHeadingCollapsed": true,
    "tags": []
   },
   "source": [
    "        - Which colleges have the highest median SAT and ACT scores for admittance?"
   ]
  },
  {
   "cell_type": "code",
   "execution_count": 178,
   "metadata": {},
   "outputs": [
    {
     "data": {
      "text/html": [
       "<div>\n",
       "<style scoped>\n",
       "    .dataframe tbody tr th:only-of-type {\n",
       "        vertical-align: middle;\n",
       "    }\n",
       "\n",
       "    .dataframe tbody tr th {\n",
       "        vertical-align: top;\n",
       "    }\n",
       "\n",
       "    .dataframe thead th {\n",
       "        text-align: right;\n",
       "    }\n",
       "</style>\n",
       "<table border=\"1\" class=\"dataframe\">\n",
       "  <thead>\n",
       "    <tr style=\"text-align: right;\">\n",
       "      <th></th>\n",
       "      <th>school</th>\n",
       "      <th>test_optional_or_no</th>\n",
       "      <th>applies_to_class_year_s</th>\n",
       "      <th>policy_details</th>\n",
       "      <th>number_of_applicants</th>\n",
       "      <th>accept_rate</th>\n",
       "      <th>sat_tot_25th_percentile</th>\n",
       "      <th>sat_tot_75th_percentile</th>\n",
       "      <th>act_composite_25th_percentile</th>\n",
       "      <th>act_composite_75th_percentile</th>\n",
       "      <th>sat_equiv_of_act_25th</th>\n",
       "      <th>sat_equiv_of_act_75th</th>\n",
       "      <th>sat_minus_sat_equiv_25th_perc</th>\n",
       "      <th>sat_minus_sat_equiv_75th_perc</th>\n",
       "    </tr>\n",
       "  </thead>\n",
       "  <tbody>\n",
       "    <tr>\n",
       "      <th>0</th>\n",
       "      <td>Stanford University</td>\n",
       "      <td>Yes</td>\n",
       "      <td>2021</td>\n",
       "      <td>Stanford has adopted a one-year test optional ...</td>\n",
       "      <td>47452</td>\n",
       "      <td>0.043</td>\n",
       "      <td>1440</td>\n",
       "      <td>1570</td>\n",
       "      <td>32</td>\n",
       "      <td>35</td>\n",
       "      <td>1430</td>\n",
       "      <td>1540</td>\n",
       "      <td>10</td>\n",
       "      <td>30</td>\n",
       "    </tr>\n",
       "  </tbody>\n",
       "</table>\n",
       "</div>"
      ],
      "text/plain": [
       "                school test_optional_or_no applies_to_class_year_s  \\\n",
       "0  Stanford University                 Yes                    2021   \n",
       "\n",
       "                                      policy_details  number_of_applicants  \\\n",
       "0  Stanford has adopted a one-year test optional ...                 47452   \n",
       "\n",
       "   accept_rate  sat_tot_25th_percentile  sat_tot_75th_percentile  \\\n",
       "0        0.043                     1440                     1570   \n",
       "\n",
       "   act_composite_25th_percentile  act_composite_75th_percentile  \\\n",
       "0                             32                             35   \n",
       "\n",
       "   sat_equiv_of_act_25th  sat_equiv_of_act_75th  \\\n",
       "0                   1430                   1540   \n",
       "\n",
       "   sat_minus_sat_equiv_25th_perc  sat_minus_sat_equiv_75th_perc  \n",
       "0                             10                             30  "
      ]
     },
     "execution_count": 178,
     "metadata": {},
     "output_type": "execute_result"
    }
   ],
   "source": [
    "colleges_df.head(1)"
   ]
  },
  {
   "cell_type": "code",
   "execution_count": 179,
   "metadata": {},
   "outputs": [
    {
     "data": {
      "text/html": [
       "<div>\n",
       "<style scoped>\n",
       "    .dataframe tbody tr th:only-of-type {\n",
       "        vertical-align: middle;\n",
       "    }\n",
       "\n",
       "    .dataframe tbody tr th {\n",
       "        vertical-align: top;\n",
       "    }\n",
       "\n",
       "    .dataframe thead th {\n",
       "        text-align: right;\n",
       "    }\n",
       "</style>\n",
       "<table border=\"1\" class=\"dataframe\">\n",
       "  <thead>\n",
       "    <tr style=\"text-align: right;\">\n",
       "      <th></th>\n",
       "      <th>school</th>\n",
       "      <th>test_optional_or_no</th>\n",
       "      <th>applies_to_class_year_s</th>\n",
       "      <th>policy_details</th>\n",
       "      <th>number_of_applicants</th>\n",
       "      <th>accept_rate</th>\n",
       "      <th>sat_tot_25th_percentile</th>\n",
       "      <th>sat_tot_75th_percentile</th>\n",
       "      <th>act_composite_25th_percentile</th>\n",
       "      <th>act_composite_75th_percentile</th>\n",
       "      <th>sat_equiv_of_act_25th</th>\n",
       "      <th>sat_equiv_of_act_75th</th>\n",
       "      <th>sat_minus_sat_equiv_25th_perc</th>\n",
       "      <th>sat_minus_sat_equiv_75th_perc</th>\n",
       "    </tr>\n",
       "  </thead>\n",
       "  <tbody>\n",
       "    <tr>\n",
       "      <th>1</th>\n",
       "      <td>Harvard College</td>\n",
       "      <td>Yes</td>\n",
       "      <td>2021</td>\n",
       "      <td>Harvard has adopted a one-year test optional p...</td>\n",
       "      <td>42749</td>\n",
       "      <td>0.047</td>\n",
       "      <td>1460</td>\n",
       "      <td>1580</td>\n",
       "      <td>33</td>\n",
       "      <td>35</td>\n",
       "      <td>1460</td>\n",
       "      <td>1540</td>\n",
       "      <td>0</td>\n",
       "      <td>40</td>\n",
       "    </tr>\n",
       "    <tr>\n",
       "      <th>0</th>\n",
       "      <td>Stanford University</td>\n",
       "      <td>Yes</td>\n",
       "      <td>2021</td>\n",
       "      <td>Stanford has adopted a one-year test optional ...</td>\n",
       "      <td>47452</td>\n",
       "      <td>0.043</td>\n",
       "      <td>1440</td>\n",
       "      <td>1570</td>\n",
       "      <td>32</td>\n",
       "      <td>35</td>\n",
       "      <td>1430</td>\n",
       "      <td>1540</td>\n",
       "      <td>10</td>\n",
       "      <td>30</td>\n",
       "    </tr>\n",
       "    <tr>\n",
       "      <th>2</th>\n",
       "      <td>Princeton University</td>\n",
       "      <td>Yes</td>\n",
       "      <td>2021</td>\n",
       "      <td>Princeton has adopted a one-year test optional...</td>\n",
       "      <td>35370</td>\n",
       "      <td>0.055</td>\n",
       "      <td>1440</td>\n",
       "      <td>1570</td>\n",
       "      <td>32</td>\n",
       "      <td>35</td>\n",
       "      <td>1430</td>\n",
       "      <td>1540</td>\n",
       "      <td>10</td>\n",
       "      <td>30</td>\n",
       "    </tr>\n",
       "    <tr>\n",
       "      <th>4</th>\n",
       "      <td>Yale University</td>\n",
       "      <td>Yes</td>\n",
       "      <td>2021</td>\n",
       "      <td>Yale has adopted a one-year test optional poli...</td>\n",
       "      <td>36844</td>\n",
       "      <td>0.061</td>\n",
       "      <td>1460</td>\n",
       "      <td>1570</td>\n",
       "      <td>33</td>\n",
       "      <td>35</td>\n",
       "      <td>1460</td>\n",
       "      <td>1540</td>\n",
       "      <td>0</td>\n",
       "      <td>30</td>\n",
       "    </tr>\n",
       "    <tr>\n",
       "      <th>35</th>\n",
       "      <td>Washington University in St. Louis</td>\n",
       "      <td>Yes</td>\n",
       "      <td>2021</td>\n",
       "      <td>Washington University in St. Louis has adopted...</td>\n",
       "      <td>31320</td>\n",
       "      <td>0.150</td>\n",
       "      <td>1470</td>\n",
       "      <td>1570</td>\n",
       "      <td>32</td>\n",
       "      <td>35</td>\n",
       "      <td>1430</td>\n",
       "      <td>1540</td>\n",
       "      <td>40</td>\n",
       "      <td>30</td>\n",
       "    </tr>\n",
       "  </tbody>\n",
       "</table>\n",
       "</div>"
      ],
      "text/plain": [
       "                                school test_optional_or_no  \\\n",
       "1                      Harvard College                 Yes   \n",
       "0                  Stanford University                 Yes   \n",
       "2                 Princeton University                 Yes   \n",
       "4                      Yale University                 Yes   \n",
       "35  Washington University in St. Louis                 Yes   \n",
       "\n",
       "   applies_to_class_year_s                                     policy_details  \\\n",
       "1                     2021  Harvard has adopted a one-year test optional p...   \n",
       "0                     2021  Stanford has adopted a one-year test optional ...   \n",
       "2                     2021  Princeton has adopted a one-year test optional...   \n",
       "4                     2021  Yale has adopted a one-year test optional poli...   \n",
       "35                    2021  Washington University in St. Louis has adopted...   \n",
       "\n",
       "    number_of_applicants  accept_rate  sat_tot_25th_percentile  \\\n",
       "1                  42749        0.047                     1460   \n",
       "0                  47452        0.043                     1440   \n",
       "2                  35370        0.055                     1440   \n",
       "4                  36844        0.061                     1460   \n",
       "35                 31320        0.150                     1470   \n",
       "\n",
       "    sat_tot_75th_percentile  act_composite_25th_percentile  \\\n",
       "1                      1580                             33   \n",
       "0                      1570                             32   \n",
       "2                      1570                             32   \n",
       "4                      1570                             33   \n",
       "35                     1570                             32   \n",
       "\n",
       "    act_composite_75th_percentile  sat_equiv_of_act_25th  \\\n",
       "1                              35                   1460   \n",
       "0                              35                   1430   \n",
       "2                              35                   1430   \n",
       "4                              35                   1460   \n",
       "35                             35                   1430   \n",
       "\n",
       "    sat_equiv_of_act_75th  sat_minus_sat_equiv_25th_perc  \\\n",
       "1                    1540                              0   \n",
       "0                    1540                             10   \n",
       "2                    1540                             10   \n",
       "4                    1540                              0   \n",
       "35                   1540                             40   \n",
       "\n",
       "    sat_minus_sat_equiv_75th_perc  \n",
       "1                              40  \n",
       "0                              30  \n",
       "2                              30  \n",
       "4                              30  \n",
       "35                             30  "
      ]
     },
     "execution_count": 179,
     "metadata": {},
     "output_type": "execute_result"
    }
   ],
   "source": [
    "colleges_df.sort_values('sat_tot_75th_percentile', ascending = False).head()"
   ]
  },
  {
   "cell_type": "code",
   "execution_count": 180,
   "metadata": {},
   "outputs": [
    {
     "data": {
      "text/html": [
       "<div>\n",
       "<style scoped>\n",
       "    .dataframe tbody tr th:only-of-type {\n",
       "        vertical-align: middle;\n",
       "    }\n",
       "\n",
       "    .dataframe tbody tr th {\n",
       "        vertical-align: top;\n",
       "    }\n",
       "\n",
       "    .dataframe thead th {\n",
       "        text-align: right;\n",
       "    }\n",
       "</style>\n",
       "<table border=\"1\" class=\"dataframe\">\n",
       "  <thead>\n",
       "    <tr style=\"text-align: right;\">\n",
       "      <th></th>\n",
       "      <th>school</th>\n",
       "      <th>test_optional_or_no</th>\n",
       "      <th>applies_to_class_year_s</th>\n",
       "      <th>policy_details</th>\n",
       "      <th>number_of_applicants</th>\n",
       "      <th>accept_rate</th>\n",
       "      <th>sat_tot_25th_percentile</th>\n",
       "      <th>sat_tot_75th_percentile</th>\n",
       "      <th>act_composite_25th_percentile</th>\n",
       "      <th>act_composite_75th_percentile</th>\n",
       "      <th>sat_equiv_of_act_25th</th>\n",
       "      <th>sat_equiv_of_act_75th</th>\n",
       "      <th>sat_minus_sat_equiv_25th_perc</th>\n",
       "      <th>sat_minus_sat_equiv_75th_perc</th>\n",
       "    </tr>\n",
       "  </thead>\n",
       "  <tbody>\n",
       "    <tr>\n",
       "      <th>5</th>\n",
       "      <td>California Institute of Technology</td>\n",
       "      <td>Yes (TB)</td>\n",
       "      <td>2021 2022</td>\n",
       "      <td>CalTech has adopted a two-year Test Blind poli...</td>\n",
       "      <td>8367</td>\n",
       "      <td>0.064</td>\n",
       "      <td>1530</td>\n",
       "      <td>1560</td>\n",
       "      <td>35</td>\n",
       "      <td>36</td>\n",
       "      <td>1540</td>\n",
       "      <td>1590</td>\n",
       "      <td>-10</td>\n",
       "      <td>-30</td>\n",
       "    </tr>\n",
       "    <tr>\n",
       "      <th>6</th>\n",
       "      <td>Massachusetts Institute of Technology</td>\n",
       "      <td>Yes</td>\n",
       "      <td>2021</td>\n",
       "      <td>MIT has adopted a one-year test optional polic...</td>\n",
       "      <td>21706</td>\n",
       "      <td>0.067</td>\n",
       "      <td>1500</td>\n",
       "      <td>1570</td>\n",
       "      <td>34</td>\n",
       "      <td>36</td>\n",
       "      <td>1500</td>\n",
       "      <td>1590</td>\n",
       "      <td>0</td>\n",
       "      <td>-20</td>\n",
       "    </tr>\n",
       "    <tr>\n",
       "      <th>0</th>\n",
       "      <td>Stanford University</td>\n",
       "      <td>Yes</td>\n",
       "      <td>2021</td>\n",
       "      <td>Stanford has adopted a one-year test optional ...</td>\n",
       "      <td>47452</td>\n",
       "      <td>0.043</td>\n",
       "      <td>1440</td>\n",
       "      <td>1570</td>\n",
       "      <td>32</td>\n",
       "      <td>35</td>\n",
       "      <td>1430</td>\n",
       "      <td>1540</td>\n",
       "      <td>10</td>\n",
       "      <td>30</td>\n",
       "    </tr>\n",
       "    <tr>\n",
       "      <th>15</th>\n",
       "      <td>Northwestern University</td>\n",
       "      <td>Yes</td>\n",
       "      <td>2021</td>\n",
       "      <td>Northwestern has adopted a one-year test optio...</td>\n",
       "      <td>40585</td>\n",
       "      <td>0.091</td>\n",
       "      <td>1440</td>\n",
       "      <td>1550</td>\n",
       "      <td>33</td>\n",
       "      <td>35</td>\n",
       "      <td>1460</td>\n",
       "      <td>1540</td>\n",
       "      <td>-20</td>\n",
       "      <td>10</td>\n",
       "    </tr>\n",
       "    <tr>\n",
       "      <th>44</th>\n",
       "      <td>Northeastern University</td>\n",
       "      <td>Yes</td>\n",
       "      <td>2021</td>\n",
       "      <td>Northeastern University has adopted a one-year...</td>\n",
       "      <td>62263</td>\n",
       "      <td>0.181</td>\n",
       "      <td>1390</td>\n",
       "      <td>1540</td>\n",
       "      <td>32</td>\n",
       "      <td>35</td>\n",
       "      <td>1430</td>\n",
       "      <td>1540</td>\n",
       "      <td>-40</td>\n",
       "      <td>0</td>\n",
       "    </tr>\n",
       "  </tbody>\n",
       "</table>\n",
       "</div>"
      ],
      "text/plain": [
       "                                   school test_optional_or_no  \\\n",
       "5      California Institute of Technology            Yes (TB)   \n",
       "6   Massachusetts Institute of Technology                 Yes   \n",
       "0                     Stanford University                 Yes   \n",
       "15                Northwestern University                 Yes   \n",
       "44                Northeastern University                 Yes   \n",
       "\n",
       "   applies_to_class_year_s                                     policy_details  \\\n",
       "5                2021 2022  CalTech has adopted a two-year Test Blind poli...   \n",
       "6                     2021  MIT has adopted a one-year test optional polic...   \n",
       "0                     2021  Stanford has adopted a one-year test optional ...   \n",
       "15                    2021  Northwestern has adopted a one-year test optio...   \n",
       "44                    2021  Northeastern University has adopted a one-year...   \n",
       "\n",
       "    number_of_applicants  accept_rate  sat_tot_25th_percentile  \\\n",
       "5                   8367        0.064                     1530   \n",
       "6                  21706        0.067                     1500   \n",
       "0                  47452        0.043                     1440   \n",
       "15                 40585        0.091                     1440   \n",
       "44                 62263        0.181                     1390   \n",
       "\n",
       "    sat_tot_75th_percentile  act_composite_25th_percentile  \\\n",
       "5                      1560                             35   \n",
       "6                      1570                             34   \n",
       "0                      1570                             32   \n",
       "15                     1550                             33   \n",
       "44                     1540                             32   \n",
       "\n",
       "    act_composite_75th_percentile  sat_equiv_of_act_25th  \\\n",
       "5                              36                   1540   \n",
       "6                              36                   1500   \n",
       "0                              35                   1430   \n",
       "15                             35                   1460   \n",
       "44                             35                   1430   \n",
       "\n",
       "    sat_equiv_of_act_75th  sat_minus_sat_equiv_25th_perc  \\\n",
       "5                    1590                            -10   \n",
       "6                    1590                              0   \n",
       "0                    1540                             10   \n",
       "15                   1540                            -20   \n",
       "44                   1540                            -40   \n",
       "\n",
       "    sat_minus_sat_equiv_75th_perc  \n",
       "5                             -30  \n",
       "6                             -20  \n",
       "0                              30  \n",
       "15                             10  \n",
       "44                              0  "
      ]
     },
     "execution_count": 180,
     "metadata": {},
     "output_type": "execute_result"
    }
   ],
   "source": [
    "colleges_df.sort_values('act_composite_75th_percentile', ascending = False).head()"
   ]
  },
  {
   "cell_type": "markdown",
   "metadata": {},
   "source": [
    "### Observations on Schools with 5 Highest SAT and ACT Scores\n",
    "\n",
    "I decided to compare by 75th percentile, since I'm looking for high scores.\n",
    "\n",
    "Firstly, I'm surprised that other than Stanford, none of the top 5 overlap. This further suggests that you may want to use a different score depending on the school you're applying to (assuming you get roughly equivalent scores on each test). _NB: There are likely a lot of other factors involved that would need eliminating (for example, do differing average reflect differing preferences for region that is accounted for in the admissions process, for example by comparing students to others from the same region?)_\n",
    "\n",
    "I'm also somewhat surprised to see Wash U in the top 5 highest 75th percentile SAT score. I know it's a great school (and has been trendy, which would contribute), but I would have thought there were other schools that would come in ahead of it (for instance, other Ivy League schools).\n",
    "\n",
    "Likewise for Northwestern and, perhaps even moreso, Northeastern in the ACT top 5. Again, great schools, just would have thought that there'd be Ivy's in the top 5.\n",
    "\n",
    "That's also a surprise, that there aren't any Ivies. The top ACT schools on the whole appear to be a little less competitive than the top SAT schools (and Northeastern, while still competitive, much less so).\n",
    "\n",
    "Also, notably, it appears there's a clear SAT DISADVANTAGE at the 75th percentile at top SAT schools (the 75th percentile SAT is 30 or 40 points higher than the SAT equivalent to the ACT 75th percentile). The results are more mixed in the ACT top 5 -- in some cases there seems to be a cost to the ACT, in the case of Stanford, to the SAT. For Northwestern and Northeastern the scores are functionally equivalent across test type at the 75th percentile.\n",
    "\n",
    "Notably, at all 9 of those schools (Stanford appearing twice) the trend at the 25th percentile appears quite different.\n",
    "\n",
    "There are definitely some interesting avenues of exploration here, potentially. I don't think I'm going to follow them now because I have other objectives in mind, but it would be interesting to see what changes at the 25th percentiles for both tests, and perhaps to more rigorously compare admissions rates across SAT scores to admissions rates across ACT scores."
   ]
  },
  {
   "cell_type": "markdown",
   "metadata": {
    "jp-MarkdownHeadingCollapsed": true,
    "tags": []
   },
   "source": [
    "        - Which California school districts have the highest and lowest mean test scores?\n",
    "\n",
    "I'm not examining California school districts for this project and haven't prepared the data, so can't examine this."
   ]
  },
  {
   "cell_type": "markdown",
   "metadata": {
    "tags": []
   },
   "source": [
    "## Visualize the Data"
   ]
  },
  {
   "cell_type": "markdown",
   "metadata": {
    "tags": []
   },
   "source": [
    "## Heatmap 1"
   ]
  },
  {
   "cell_type": "markdown",
   "metadata": {},
   "source": [
    "1. Use Seaborn's heatmap with pandas `.corr()` to visualize correlations between all numeric features.\n",
    "    - Heatmaps are generally not appropriate for presentations, and should often be excluded from reports as they can be visually overwhelming. **However**, they can be extremely useful in identify relationships of potential interest (as well as identifying potential collinearity before modeling).\n",
    "    - Please take time to format your output, adding a title. Look through some of the additional arguments and options. (Axis labels aren't really necessary, as long as the title is informative)."
   ]
  },
  {
   "cell_type": "code",
   "execution_count": 181,
   "metadata": {},
   "outputs": [
    {
     "data": {
      "image/png": "[encoded data removed]",
      "text/plain": [
       "<Figure size 1152x648 with 2 Axes>"
      ]
     },
     "metadata": {
      "needs_background": "light"
     },
     "output_type": "display_data"
    }
   ],
   "source": [
    "# using code from lesson 1.07 \"# This code is taken with minor modifications from https://seaborn.pydata.org/generated/seaborn.heatmap.html\"\n",
    "\n",
    "plt.figure(figsize = (16,9))\n",
    "plt.title('College Level Accepted Students Correlation -- Heatmap')\n",
    "\n",
    "# Get correlation of variables.\n",
    "corr_coll = colleges_df.corr()\n",
    "\n",
    "# Set up mask to be \"True\" in the upper triangle.\n",
    "mask = np.zeros_like(corr_coll)\n",
    "mask[np.triu_indices_from(mask)] = True\n",
    "\n",
    "# Plot our correlation heatmap, while masking the upper triangle to be white.\n",
    "sns.heatmap(corr_coll,\n",
    "           mask = mask, #this cuts off all the duplicates because this is symmetric, o.w.\n",
    "           square = True,\n",
    "           cmap = 'PRGn',\n",
    "           annot = True);"
   ]
  },
  {
   "cell_type": "markdown",
   "metadata": {
    "tags": []
   },
   "source": [
    "#### Observations about SAT/ACT by College Heatmap"
   ]
  },
  {
   "cell_type": "markdown",
   "metadata": {},
   "source": [
    "SAT and ACT scores are highly correlated with each other. That makes sense intuitively: a school that has higher scores gets higher scores across the board and not just on one test or one percentile for one test.\n",
    "\n",
    "ACT composite to SAT equivalent of ACT composite for both 25th and 75th percentiles are perfectly correlated because the second is drawn from the first using the conversion chart. \n",
    "\n",
    "Acceptance rate seems to be the only other rate that seems highly correlated. In this case, it's highly negatively correlated with scores. Also, this makes intuitive sense: as the acceptance rate goes down, the scores an instituation insists upon for admittance will, for the most part, go up."
   ]
  },
  {
   "cell_type": "markdown",
   "metadata": {
    "tags": []
   },
   "source": [
    "## Heatmap 2"
   ]
  },
  {
   "cell_type": "code",
   "execution_count": 182,
   "metadata": {},
   "outputs": [
    {
     "data": {
      "image/png": "[encoded data removed]",
      "text/plain": [
       "<Figure size 1152x648 with 2 Axes>"
      ]
     },
     "metadata": {
      "needs_background": "light"
     },
     "output_type": "display_data"
    }
   ],
   "source": [
    "# using code from lesson 1.07 \"# This code is taken with minor modifications from https://seaborn.pydata.org/generated/seaborn.heatmap.html\"\n",
    "\n",
    "plt.figure(figsize = (16,9))\n",
    "plt.title('State and Territory Correlations - Heatmap')\n",
    "\n",
    "# Get correlation of variables.\n",
    "corr_as2019 = act_sat_2019_df.corr()\n",
    "\n",
    "# Set up mask to be \"True\" in the upper triangle.\n",
    "mask = np.zeros_like(corr_as2019)\n",
    "mask[np.triu_indices_from(mask)] = True\n",
    "\n",
    "# Plot our correlation heatmap, while masking the upper triangle to be white.\n",
    "sns.heatmap(corr_as2019,\n",
    "           mask = mask, #this cuts off all the duplicates because this is symmetric, o.w.\n",
    "           square = True,\n",
    "           cmap = 'PRGn',\n",
    "           annot = True);"
   ]
  },
  {
   "cell_type": "markdown",
   "metadata": {},
   "source": [
    "#### Observations of ACT and SAT Scores by State Heatmap"
   ]
  },
  {
   "cell_type": "markdown",
   "metadata": {},
   "source": [
    "ACT composite is perfectly correlated to SAT Equivalent of ACT Composite because the second was drawn from the first with the conversion chart.\n",
    "\n",
    "SAT participation rate is highly correlated to ACT composite and ACT participation rate is highly correlated to SAT total. My hypothesis is that in a state with a high level of participation in one test, the people who take the other test are self-selected and have a combination of resources and motivation that is likely to correlate to test-taking ability.\n",
    "\n",
    "On the other hand, SAT participation rate is highly negatively correlated to SAT total, as is ACT participation to ACT composite. I discussed this above: this is likely a result of states mandating or providing the test for students who wouldn't otherwise test. Also, it seems like that students who default to the given test are less likely to have the resources or motivation that seems likely to correlate to test-taking ability at least somewhat. It takes added effort to figure out that you can/should take the \"other test\".\n",
    "\n",
    "Following on that, mean SAT minus SAT equivalent of mean ACT shows expected correlations: highly negative with SAT particpation rate, ACT composite, and SAT equiv of ACT composite, and highly highly positive with SAT_total and ACT Participation Rate."
   ]
  },
  {
   "cell_type": "markdown",
   "metadata": {
    "tags": []
   },
   "source": [
    "## Histograms"
   ]
  },
  {
   "cell_type": "markdown",
   "metadata": {
    "tags": []
   },
   "source": [
    "#### College-Level Histograms"
   ]
  },
  {
   "cell_type": "code",
   "execution_count": 247,
   "metadata": {},
   "outputs": [
    {
     "data": {
      "text/plain": [
       "''"
      ]
     },
     "execution_count": 247,
     "metadata": {},
     "output_type": "execute_result"
    },
    {
     "data": {
      "image/png": "[encoded data removed]",
      "text/plain": [
       "<Figure size 1152x576 with 3 Axes>"
      ]
     },
     "metadata": {
      "needs_background": "light"
     },
     "output_type": "display_data"
    }
   ],
   "source": [
    "# Worked from Lesson 1.08 code to do this subplot\n",
    "\n",
    "fig = plt.figure(figsize = (16,8))\n",
    "\n",
    "# used this to learn how to set x and y labels to span the subplot:\n",
    "# https://stackoverflow.com/questions/6963035/pyplot-common-axes-labels-for-subplots\n",
    "\n",
    "ax = fig.add_subplot(1, 1, 1)\n",
    "ax1 = fig.add_subplot(2,1,1)\n",
    "ax2 = fig.add_subplot(2,1,2)\n",
    "\n",
    "ax.set_ylabel('Number of Colleges')\n",
    "ax.set_xlabel('SAT minus SAT Equivalent of ACT')\n",
    "\n",
    "ax.spines['top'].set_color('none')\n",
    "ax.spines['bottom'].set_color('none')\n",
    "ax.spines['right'].set_color('none')\n",
    "ax.spines['left'].set_color('none')\n",
    "# during my presentation, there were white labels because the color in the line below here was\n",
    "# set to \"w\". White doesn't show up in the plot below because the background was white, \n",
    "# but showed up against the blue of my slides\n",
    "ax.tick_params(labelcolor='none',top=False, bottom=False, left=False, right=False)\n",
    "\n",
    "#ax1 = plt.subplot(2, 1, 1)\n",
    "ax1.set_title('The Difference, SAT Total & SAT equivalent to ACT Composite, 25th %ile of each')\n",
    "ax1.hist(colleges_df['sat_minus_sat_equiv_25th_perc'], \n",
    "         color = 'blue')\n",
    "ax1.axvline(x = np.mean(colleges_df['sat_minus_sat_equiv_25th_perc']), \n",
    "            color = 'orange')\n",
    "#ax1.xticks(np.arrange(-300, 200, 50))\n",
    "\n",
    "#ax2 = plt.subplot(2,1,2, sharex = ax1)\n",
    "ax2.set_title('The Difference, SAT Total & SAT equivalent to ACT Composite, 75th %ile of each')\n",
    "ax2.hist(colleges_df['sat_minus_sat_equiv_75th_perc'], \n",
    "         color = 'orange')\n",
    "ax2.axvline(x = np.mean(colleges_df['sat_minus_sat_equiv_75th_perc']), \n",
    "            color = 'blue')\n",
    "\n",
    "plt.savefig('../figures/sat_equiv_college_hist.png')\n",
    ";\n"
   ]
  },
  {
   "cell_type": "code",
   "execution_count": 184,
   "metadata": {},
   "outputs": [
    {
     "data": {
      "text/plain": [
       "count    405.000000\n",
       "mean     -30.856790\n",
       "std       37.868901\n",
       "min     -260.000000\n",
       "25%      -52.000000\n",
       "50%      -30.000000\n",
       "75%      -10.000000\n",
       "max      100.000000\n",
       "Name: sat_minus_sat_equiv_25th_perc, dtype: float64"
      ]
     },
     "execution_count": 184,
     "metadata": {},
     "output_type": "execute_result"
    }
   ],
   "source": [
    "colleges_df['sat_minus_sat_equiv_25th_perc'].describe()"
   ]
  },
  {
   "cell_type": "code",
   "execution_count": 185,
   "metadata": {},
   "outputs": [
    {
     "data": {
      "text/plain": [
       "count    405.000000\n",
       "mean      -7.911111\n",
       "std       37.674833\n",
       "min     -200.000000\n",
       "25%      -30.000000\n",
       "50%      -10.000000\n",
       "75%       20.000000\n",
       "max      188.000000\n",
       "Name: sat_minus_sat_equiv_75th_perc, dtype: float64"
      ]
     },
     "execution_count": 185,
     "metadata": {},
     "output_type": "execute_result"
    }
   ],
   "source": [
    "colleges_df['sat_minus_sat_equiv_75th_perc'].describe()"
   ]
  },
  {
   "cell_type": "markdown",
   "metadata": {
    "jp-MarkdownHeadingCollapsed": true,
    "tags": []
   },
   "source": [
    "#### Some Observations On The College Level Histograms "
   ]
  },
  {
   "cell_type": "markdown",
   "metadata": {},
   "source": [
    "Per the questions in the starter code, these appear to be roughly normally distributed, supported by the statistics provided by .describe(), with some outliers.\n",
    "\n",
    "The ACT/SAT Concordance Chart provides a range of 10 to 20 points above and 10 to 20 points below the level at which it converts a given ACT composite to an SAT total score, with 10 points above and 10 to 20 below at most points on the scale. For example, the chart offers that SAT total scores of 1160, 1170, 1180, and 1190 should all be interpreted as an ACT composite of 24, but specifies that an ACT composite of 24 should be interpreted as an 1180.\n",
    "\n",
    "For this reason, a difference of 20-30 SAT points represents a shift of 1 ACT composite point depending on where one falls on the curve and whether the shift is up or down.\n",
    "\n",
    "Based on this, it appears that at the 25th percentile level there's a significant difference for over 50% of schools, in favor of the ACT (meaning their ACT scores are relatively higher than their SAT scores, and a student would likely benefit from using an SAT score rather than an equivalent ACT score).\n",
    "\n",
    "It appears that at the 75th percentile there's a significant difference between scores at over 50% of schools, the bias towards the ACT (meaning higher relative ACT scores) ending somewhere above the 25th percentile and then a meaningful bias towards the SAT (meaning higher relative SAT scores) starting somewhere beneath the 75th percentile (and continuing above it.) For the first group of schools, a student would benefit from using an SAT score and for the second group, from using an ACT score, assuming their scores were equivalent on both tests."
   ]
  },
  {
   "cell_type": "markdown",
   "metadata": {
    "tags": []
   },
   "source": [
    "#### State-Level Histograms"
   ]
  },
  {
   "cell_type": "code",
   "execution_count": 186,
   "metadata": {},
   "outputs": [
    {
     "data": {
      "text/plain": [
       "''"
      ]
     },
     "execution_count": 186,
     "metadata": {},
     "output_type": "execute_result"
    },
    {
     "data": {
      "image/png": "[encoded data removed]",
      "text/plain": [
       "<Figure size 1152x432 with 1 Axes>"
      ]
     },
     "metadata": {
      "needs_background": "light"
     },
     "output_type": "display_data"
    }
   ],
   "source": [
    "plt.figure(figsize = (16, 6))\n",
    "\n",
    "plt.title('The Difference, Mean SAT Total & SAT Equivalent of Mean ACT Composite Across States')\n",
    "\n",
    "plt.xlabel('Mean SAT minus SAT Equivalent of mean ACT')\n",
    "plt.ylabel('Number of States')\n",
    "\n",
    "plt.hist(act_sat_2019_df['mean_sat_minus_sat_equiv_mean_act'],\n",
    "         color = 'brown')\n",
    "plt.axvline(x = np.mean(act_sat_2019_df['mean_sat_minus_sat_equiv_mean_act']),\n",
    "           color = 'black')\n",
    "\n",
    "plt.savefig('../figures/sat_equiv_state_hist.png')\n",
    ";"
   ]
  },
  {
   "cell_type": "code",
   "execution_count": 187,
   "metadata": {},
   "outputs": [
    {
     "data": {
      "text/plain": [
       "count     51.000000\n",
       "mean      21.568627\n",
       "std      146.429130\n",
       "min     -210.000000\n",
       "25%     -110.000000\n",
       "50%       20.000000\n",
       "75%      160.000000\n",
       "max      270.000000\n",
       "Name: mean_sat_minus_sat_equiv_mean_act, dtype: float64"
      ]
     },
     "execution_count": 187,
     "metadata": {},
     "output_type": "execute_result"
    }
   ],
   "source": [
    "act_sat_2019_df['mean_sat_minus_sat_equiv_mean_act'].describe()"
   ]
  },
  {
   "cell_type": "code",
   "execution_count": 188,
   "metadata": {},
   "outputs": [
    {
     "data": {
      "text/html": [
       "<div>\n",
       "<style scoped>\n",
       "    .dataframe tbody tr th:only-of-type {\n",
       "        vertical-align: middle;\n",
       "    }\n",
       "\n",
       "    .dataframe tbody tr th {\n",
       "        vertical-align: top;\n",
       "    }\n",
       "\n",
       "    .dataframe thead th {\n",
       "        text-align: right;\n",
       "    }\n",
       "</style>\n",
       "<table border=\"1\" class=\"dataframe\">\n",
       "  <thead>\n",
       "    <tr style=\"text-align: right;\">\n",
       "      <th></th>\n",
       "      <th>state_or_territory</th>\n",
       "      <th>sat_participation_rate</th>\n",
       "      <th>sat_total</th>\n",
       "      <th>act_participation_rate</th>\n",
       "      <th>act_composite</th>\n",
       "      <th>sat_equiv_of_act_composite</th>\n",
       "      <th>mean_sat_minus_sat_equiv_mean_act</th>\n",
       "    </tr>\n",
       "  </thead>\n",
       "  <tbody>\n",
       "    <tr>\n",
       "      <th>17</th>\n",
       "      <td>Texas</td>\n",
       "      <td>0.68</td>\n",
       "      <td>1020</td>\n",
       "      <td>0.39</td>\n",
       "      <td>20</td>\n",
       "      <td>1040</td>\n",
       "      <td>-20</td>\n",
       "    </tr>\n",
       "    <tr>\n",
       "      <th>35</th>\n",
       "      <td>Georgia</td>\n",
       "      <td>0.71</td>\n",
       "      <td>1060</td>\n",
       "      <td>0.49</td>\n",
       "      <td>21</td>\n",
       "      <td>1080</td>\n",
       "      <td>-20</td>\n",
       "    </tr>\n",
       "  </tbody>\n",
       "</table>\n",
       "</div>"
      ],
      "text/plain": [
       "   state_or_territory  sat_participation_rate  sat_total  \\\n",
       "17              Texas                    0.68       1020   \n",
       "35            Georgia                    0.71       1060   \n",
       "\n",
       "    act_participation_rate  act_composite  sat_equiv_of_act_composite  \\\n",
       "17                    0.39             20                        1040   \n",
       "35                    0.49             21                        1080   \n",
       "\n",
       "    mean_sat_minus_sat_equiv_mean_act  \n",
       "17                                -20  \n",
       "35                                -20  "
      ]
     },
     "execution_count": 188,
     "metadata": {},
     "output_type": "execute_result"
    }
   ],
   "source": [
    "act_sat_2019_df[(act_sat_2019_df['mean_sat_minus_sat_equiv_mean_act']<=10) & (act_sat_2019_df['mean_sat_minus_sat_equiv_mean_act']>=-20)]"
   ]
  },
  {
   "cell_type": "markdown",
   "metadata": {
    "jp-MarkdownHeadingCollapsed": true,
    "tags": []
   },
   "source": [
    "#### Some Observations On The State Level Histograms "
   ]
  },
  {
   "cell_type": "markdown",
   "metadata": {},
   "source": [
    "Per the questions in the starter code, the state level distributions are clearly not normal. \n",
    "\n",
    "Instead, it appears that the bias towards the SAT (i.e. higher SAT scores) is a bit more extreme, with more states with higher positive differences between mean SAT total scores and SAT equivalents to their mean ACT Composites.\n",
    "\n",
    "On the other hand, there are two states, Texas and Georgia, for which the discrepancy between the mean SAT and SAT equivalent of mean ACT are within the range of scores that are equivalent (plus 10-20 SAT points and minus 10-20 points depending on the location on the curve). In essence, the mean scores here are equivalent.\n",
    "\n",
    "In the other 49 states and the District of Columbia, however, the scores represent a significant (and sometimes very significant) difference."
   ]
  },
  {
   "cell_type": "markdown",
   "metadata": {
    "tags": []
   },
   "source": [
    "## Boxplots"
   ]
  },
  {
   "cell_type": "markdown",
   "metadata": {
    "tags": []
   },
   "source": [
    "### College-Level Box Plots"
   ]
  },
  {
   "cell_type": "code",
   "execution_count": 189,
   "metadata": {},
   "outputs": [
    {
     "data": {
      "text/plain": [
       "''"
      ]
     },
     "execution_count": 189,
     "metadata": {},
     "output_type": "execute_result"
    },
    {
     "data": {
      "image/png": "[encoded data removed]",
      "text/plain": [
       "<Figure size 432x288 with 1 Axes>"
      ]
     },
     "metadata": {
      "needs_background": "light"
     },
     "output_type": "display_data"
    }
   ],
   "source": [
    "plt.title('Across Colleges, Difference Between SAT Mean and SAT Equivalent to ACT 25th %ile - Boxplot')\n",
    "\n",
    "sns.boxplot(x = colleges_df['sat_minus_sat_equiv_25th_perc'],\n",
    "           color = 'green')\n",
    ";"
   ]
  },
  {
   "cell_type": "code",
   "execution_count": 190,
   "metadata": {},
   "outputs": [
    {
     "data": {
      "text/plain": [
       "''"
      ]
     },
     "execution_count": 190,
     "metadata": {},
     "output_type": "execute_result"
    },
    {
     "data": {
      "image/png": "[encoded data removed]",
      "text/plain": [
       "<Figure size 432x288 with 1 Axes>"
      ]
     },
     "metadata": {
      "needs_background": "light"
     },
     "output_type": "display_data"
    }
   ],
   "source": [
    "plt.title('Across Colleges, Difference Between SAT Mean and SAT Equivalent to ACT 75th %ile - Boxplot')\n",
    "\n",
    "sns.boxplot(x = colleges_df['sat_minus_sat_equiv_75th_perc'],\n",
    "           color = 'green')\n",
    ";"
   ]
  },
  {
   "cell_type": "code",
   "execution_count": 191,
   "metadata": {},
   "outputs": [
    {
     "data": {
      "text/plain": [
       "''"
      ]
     },
     "execution_count": 191,
     "metadata": {},
     "output_type": "execute_result"
    },
    {
     "data": {
      "image/png": "[encoded data removed]",
      "text/plain": [
       "<Figure size 432x288 with 1 Axes>"
      ]
     },
     "metadata": {
      "needs_background": "light"
     },
     "output_type": "display_data"
    }
   ],
   "source": [
    "plt.title('Across Colleges, SAT 25th %ile - Boxplot')\n",
    "\n",
    "sns.boxplot(x = colleges_df['sat_tot_25th_percentile'],\n",
    "           color = 'blue')\n",
    ";"
   ]
  },
  {
   "cell_type": "code",
   "execution_count": 192,
   "metadata": {},
   "outputs": [
    {
     "data": {
      "text/plain": [
       "count     405.000000\n",
       "mean     1167.933333\n",
       "std       129.924056\n",
       "min       793.000000\n",
       "25%      1070.000000\n",
       "50%      1150.000000\n",
       "75%      1250.000000\n",
       "max      1530.000000\n",
       "Name: sat_tot_25th_percentile, dtype: float64"
      ]
     },
     "execution_count": 192,
     "metadata": {},
     "output_type": "execute_result"
    }
   ],
   "source": [
    "colleges_df['sat_tot_25th_percentile'].describe()"
   ]
  },
  {
   "cell_type": "code",
   "execution_count": 193,
   "metadata": {},
   "outputs": [
    {
     "data": {
      "text/plain": [
       "''"
      ]
     },
     "execution_count": 193,
     "metadata": {},
     "output_type": "execute_result"
    },
    {
     "data": {
      "image/png": "[encoded data removed]",
      "text/plain": [
       "<Figure size 432x288 with 1 Axes>"
      ]
     },
     "metadata": {
      "needs_background": "light"
     },
     "output_type": "display_data"
    }
   ],
   "source": [
    "plt.title('Across Colleges, SAT 75th %ile - Boxplot')\n",
    "\n",
    "sns.boxplot(x = colleges_df['sat_tot_75th_percentile'],\n",
    "           color = 'blue')\n",
    ";"
   ]
  },
  {
   "cell_type": "code",
   "execution_count": 194,
   "metadata": {},
   "outputs": [
    {
     "data": {
      "text/plain": [
       "''"
      ]
     },
     "execution_count": 194,
     "metadata": {},
     "output_type": "execute_result"
    },
    {
     "data": {
      "image/png": "[encoded data removed]",
      "text/plain": [
       "<Figure size 432x288 with 1 Axes>"
      ]
     },
     "metadata": {
      "needs_background": "light"
     },
     "output_type": "display_data"
    }
   ],
   "source": [
    "plt.title('Across Colleges, ACT 25th %ile - Boxplot')\n",
    "\n",
    "sns.boxplot(x = colleges_df['act_composite_25th_percentile'],\n",
    "           color = 'maroon')\n",
    ";"
   ]
  },
  {
   "cell_type": "code",
   "execution_count": 195,
   "metadata": {},
   "outputs": [
    {
     "data": {
      "text/plain": [
       "count    405.000000\n",
       "mean      24.738272\n",
       "std        4.137565\n",
       "min       15.000000\n",
       "25%       22.000000\n",
       "50%       24.000000\n",
       "75%       28.000000\n",
       "max       35.000000\n",
       "Name: act_composite_25th_percentile, dtype: float64"
      ]
     },
     "execution_count": 195,
     "metadata": {},
     "output_type": "execute_result"
    }
   ],
   "source": [
    "colleges_df['act_composite_25th_percentile'].describe()"
   ]
  },
  {
   "cell_type": "code",
   "execution_count": 196,
   "metadata": {},
   "outputs": [
    {
     "data": {
      "text/plain": [
       "''"
      ]
     },
     "execution_count": 196,
     "metadata": {},
     "output_type": "execute_result"
    },
    {
     "data": {
      "image/png": "[encoded data removed]",
      "text/plain": [
       "<Figure size 432x288 with 1 Axes>"
      ]
     },
     "metadata": {
      "needs_background": "light"
     },
     "output_type": "display_data"
    }
   ],
   "source": [
    "plt.title('Across Colleges, ACT 75th %ile - Boxplot')\n",
    "\n",
    "sns.boxplot(x = colleges_df['act_composite_75th_percentile'],\n",
    "           color = 'maroon')\n",
    ";"
   ]
  },
  {
   "cell_type": "markdown",
   "metadata": {
    "tags": []
   },
   "source": [
    "### Observations about College-Level Box Plots"
   ]
  },
  {
   "cell_type": "markdown",
   "metadata": {},
   "source": [
    "Between 25th and 75th %ile for the SAT v SAT equivalent of ACT, ACT scores are relatively stronger at the 25th percentile. There are also more outliers.\n",
    "\n",
    "The presence of those outliers are noteworthy. If there's no alternative explanation, these outliers would reinforce the idea that decisions about which test to use can/should vary by school, that some schools strongly favor one test or the other.\n",
    "\n",
    "In addition, the mean score at the *25th percentile* for the SAT is higher than the national mean in the US in 2019 (1168 v 1059) (source: [National Center for Education Statistics](https://nces.ed.gov/programs/digest/d20/tables/dt20_226.40.asp)). In other words, the average 25th percentile accepted student among the listed colleges is scoring about 1/2 a standard deviation higher than the average American student. Does that suggest these colleges aren't representative of the entire spectrum of colleges American SAT takers are attending? Does it suggest that lower scorers aren't going to college? Some combination of the two?\n",
    "\n",
    "A similar pattern exist for the ACT. The mean ACT composite at the 25th percentile across these colleges is 24.7 whereas the national mean in 2019 was 20.7. (source: [PrepScholar](https://blog.prepscholar.com/average-act-score-by-year))\n",
    "\n",
    "It's also interesting that there's an outlier at the SAT 25th percentile and a couple at the ACT 75th percentile, both in the lower directions. Looking into what those colleges are and why, perhaps, they fall outside the range of the box plot could be an interesting avenue for future investigation."
   ]
  },
  {
   "cell_type": "markdown",
   "metadata": {
    "tags": []
   },
   "source": [
    "### State-Level Box Plots"
   ]
  },
  {
   "cell_type": "code",
   "execution_count": 197,
   "metadata": {
    "tags": []
   },
   "outputs": [
    {
     "data": {
      "text/plain": [
       "''"
      ]
     },
     "execution_count": 197,
     "metadata": {},
     "output_type": "execute_result"
    },
    {
     "data": {
      "image/png": "[encoded data removed]",
      "text/plain": [
       "<Figure size 432x288 with 1 Axes>"
      ]
     },
     "metadata": {
      "needs_background": "light"
     },
     "output_type": "display_data"
    }
   ],
   "source": [
    "plt.title('Across States, Difference Between SAT Mean and SAT Equivalent to ACT Mean - Boxplot')\n",
    "\n",
    "sns.boxplot(x = act_sat_2019_df['mean_sat_minus_sat_equiv_mean_act'],\n",
    "           color = 'green')\n",
    ";"
   ]
  },
  {
   "cell_type": "code",
   "execution_count": 198,
   "metadata": {},
   "outputs": [
    {
     "data": {
      "text/plain": [
       "''"
      ]
     },
     "execution_count": 198,
     "metadata": {},
     "output_type": "execute_result"
    },
    {
     "data": {
      "image/png": "[encoded data removed]",
      "text/plain": [
       "<Figure size 432x288 with 1 Axes>"
      ]
     },
     "metadata": {
      "needs_background": "light"
     },
     "output_type": "display_data"
    }
   ],
   "source": [
    "plt.title('Across States, SAT Mean - Boxplot')\n",
    "\n",
    "sns.boxplot(x = act_sat_2019_df['sat_total'],\n",
    "           color = 'blue')\n",
    ";"
   ]
  },
  {
   "cell_type": "code",
   "execution_count": 199,
   "metadata": {},
   "outputs": [
    {
     "data": {
      "text/plain": [
       "''"
      ]
     },
     "execution_count": 199,
     "metadata": {},
     "output_type": "execute_result"
    },
    {
     "data": {
      "image/png": "[encoded data removed]",
      "text/plain": [
       "<Figure size 432x288 with 1 Axes>"
      ]
     },
     "metadata": {
      "needs_background": "light"
     },
     "output_type": "display_data"
    }
   ],
   "source": [
    "plt.title('Across States, ACT Mean - Boxplot')\n",
    "\n",
    "sns.boxplot(x = act_sat_2019_df['act_composite'],\n",
    "           color = 'maroon')\n",
    ";"
   ]
  },
  {
   "cell_type": "markdown",
   "metadata": {},
   "source": [
    "### Observations about State-Level Box Plots"
   ]
  },
  {
   "cell_type": "markdown",
   "metadata": {
    "tags": []
   },
   "source": [
    "It's surprising how large the spread of scores is across the interquartile range of SAT mean v SAT equiv of ACT mean. That suggests how widely the populations of students taking each test varies within many states and how widely they vary across states.\n",
    "\n",
    "It seems intuitive that there'd be a wide variety of SAT and ACT scores across states, as states vary in resources and, more importantly, the states that provide or require either test to all students produce lower averages on those tests.\n",
    "\n",
    "It's also noteworthy that there are no outliers."
   ]
  },
  {
   "cell_type": "markdown",
   "metadata": {
    "tags": []
   },
   "source": [
    "## Scatterplots"
   ]
  },
  {
   "cell_type": "markdown",
   "metadata": {
    "tags": []
   },
   "source": [
    "### SAT Total v ACT Composite, Mean by State - Scatterplot"
   ]
  },
  {
   "cell_type": "code",
   "execution_count": 200,
   "metadata": {},
   "outputs": [
    {
     "data": {
      "text/plain": [
       "''"
      ]
     },
     "execution_count": 200,
     "metadata": {},
     "output_type": "execute_result"
    },
    {
     "data": {
      "image/png": "[encoded data removed]",
      "text/plain": [
       "<Figure size 1152x864 with 1 Axes>"
      ]
     },
     "metadata": {
      "needs_background": "light"
     },
     "output_type": "display_data"
    }
   ],
   "source": [
    "# worked from lesson 1.08 code\n",
    "# national mean ACT score source: https://blog.prepscholar.com/average-act-score-by-year \n",
    "# national mean SAT source: https://nces.ed.gov/programs/digest/d20/tables/dt20_226.40.asp\n",
    "\n",
    "plt.figure(figsize = (16, 12))\n",
    "\n",
    "plt.title('SAT Total v ACT Composite, Mean by State')\n",
    "\n",
    "plt.scatter(act_sat_2019_df['sat_total'],\n",
    "           act_sat_2019_df['act_composite'],\n",
    "           color = 'b', alpha = 0.5)\n",
    "\n",
    "plt.xlabel('Mean SAT Total')\n",
    "plt.ylabel('Mean ACT Composite')\n",
    "\n",
    "plt.axvline(x = 1059, color = 'teal', label = \"2019 Nat'l Mean SAT Total = 1059\")\n",
    "plt.axhline(y = 20.7, color = 'maroon', label = \"2019 Nat'l Mean ACT Composite = 20.7\")\n",
    "plt.legend()\n",
    "plt.savefig('../figures/act_sat_states_scatter.png')\n",
    ";\n"
   ]
  },
  {
   "cell_type": "code",
   "execution_count": 201,
   "metadata": {},
   "outputs": [
    {
     "data": {
      "text/plain": [
       "(18, 7)"
      ]
     },
     "execution_count": 201,
     "metadata": {},
     "output_type": "execute_result"
    }
   ],
   "source": [
    "#Number of states that overperform the national mean on both the SAT and the ACT\n",
    "\n",
    "act_sat_2019_df[(act_sat_2019_df['sat_total']>1059) & (act_sat_2019_df['act_composite']>20.7)].shape\n"
   ]
  },
  {
   "cell_type": "code",
   "execution_count": 202,
   "metadata": {},
   "outputs": [
    {
     "data": {
      "text/plain": [
       "(19, 7)"
      ]
     },
     "execution_count": 202,
     "metadata": {},
     "output_type": "execute_result"
    }
   ],
   "source": [
    "#Number of states that overperform the national mean on SAT but not the ACT\n",
    "\n",
    "act_sat_2019_df[(act_sat_2019_df['sat_total']>1059) & (act_sat_2019_df['act_composite']<=20.7)].shape\n"
   ]
  },
  {
   "cell_type": "code",
   "execution_count": 203,
   "metadata": {},
   "outputs": [
    {
     "data": {
      "text/plain": [
       "(10, 7)"
      ]
     },
     "execution_count": 203,
     "metadata": {},
     "output_type": "execute_result"
    }
   ],
   "source": [
    "#Number of states that overperform the national mean on ACT but not the SAT\n",
    "\n",
    "act_sat_2019_df[(act_sat_2019_df['sat_total']<=1059) & (act_sat_2019_df['act_composite']>20.7)].shape\n"
   ]
  },
  {
   "cell_type": "code",
   "execution_count": 204,
   "metadata": {},
   "outputs": [
    {
     "data": {
      "text/plain": [
       "(4, 7)"
      ]
     },
     "execution_count": 204,
     "metadata": {},
     "output_type": "execute_result"
    }
   ],
   "source": [
    "#Number of states that overperform the national mean on neither the ACT nor the SAT\n",
    "\n",
    "act_sat_2019_df[(act_sat_2019_df['sat_total']<=1059) & (act_sat_2019_df['act_composite']<=20.7)].shape\n"
   ]
  },
  {
   "cell_type": "code",
   "execution_count": 205,
   "metadata": {},
   "outputs": [
    {
     "data": {
      "text/plain": [
       "51"
      ]
     },
     "execution_count": 205,
     "metadata": {},
     "output_type": "execute_result"
    }
   ],
   "source": [
    "18+19+10+4"
   ]
  },
  {
   "cell_type": "code",
   "execution_count": 206,
   "metadata": {},
   "outputs": [
    {
     "data": {
      "text/html": [
       "<div>\n",
       "<style scoped>\n",
       "    .dataframe tbody tr th:only-of-type {\n",
       "        vertical-align: middle;\n",
       "    }\n",
       "\n",
       "    .dataframe tbody tr th {\n",
       "        vertical-align: top;\n",
       "    }\n",
       "\n",
       "    .dataframe thead th {\n",
       "        text-align: right;\n",
       "    }\n",
       "</style>\n",
       "<table border=\"1\" class=\"dataframe\">\n",
       "  <thead>\n",
       "    <tr style=\"text-align: right;\">\n",
       "      <th></th>\n",
       "      <th>state_or_territory</th>\n",
       "      <th>sat_participation_rate</th>\n",
       "      <th>sat_total</th>\n",
       "      <th>act_participation_rate</th>\n",
       "      <th>act_composite</th>\n",
       "      <th>sat_equiv_of_act_composite</th>\n",
       "      <th>mean_sat_minus_sat_equiv_mean_act</th>\n",
       "    </tr>\n",
       "  </thead>\n",
       "  <tbody>\n",
       "    <tr>\n",
       "      <th>7</th>\n",
       "      <td>Oklahoma</td>\n",
       "      <td>0.22</td>\n",
       "      <td>960</td>\n",
       "      <td>1.00</td>\n",
       "      <td>19</td>\n",
       "      <td>1010</td>\n",
       "      <td>-50</td>\n",
       "    </tr>\n",
       "    <tr>\n",
       "      <th>8</th>\n",
       "      <td>South Carolina</td>\n",
       "      <td>0.68</td>\n",
       "      <td>1030</td>\n",
       "      <td>0.78</td>\n",
       "      <td>19</td>\n",
       "      <td>1010</td>\n",
       "      <td>20</td>\n",
       "    </tr>\n",
       "    <tr>\n",
       "      <th>11</th>\n",
       "      <td>Florida</td>\n",
       "      <td>1.00</td>\n",
       "      <td>1000</td>\n",
       "      <td>0.54</td>\n",
       "      <td>20</td>\n",
       "      <td>1040</td>\n",
       "      <td>-40</td>\n",
       "    </tr>\n",
       "    <tr>\n",
       "      <th>17</th>\n",
       "      <td>Texas</td>\n",
       "      <td>0.68</td>\n",
       "      <td>1020</td>\n",
       "      <td>0.39</td>\n",
       "      <td>20</td>\n",
       "      <td>1040</td>\n",
       "      <td>-20</td>\n",
       "    </tr>\n",
       "  </tbody>\n",
       "</table>\n",
       "</div>"
      ],
      "text/plain": [
       "   state_or_territory  sat_participation_rate  sat_total  \\\n",
       "7            Oklahoma                    0.22        960   \n",
       "8      South Carolina                    0.68       1030   \n",
       "11            Florida                    1.00       1000   \n",
       "17              Texas                    0.68       1020   \n",
       "\n",
       "    act_participation_rate  act_composite  sat_equiv_of_act_composite  \\\n",
       "7                     1.00             19                        1010   \n",
       "8                     0.78             19                        1010   \n",
       "11                    0.54             20                        1040   \n",
       "17                    0.39             20                        1040   \n",
       "\n",
       "    mean_sat_minus_sat_equiv_mean_act  \n",
       "7                                 -50  \n",
       "8                                  20  \n",
       "11                                -40  \n",
       "17                                -20  "
      ]
     },
     "execution_count": 206,
     "metadata": {},
     "output_type": "execute_result"
    }
   ],
   "source": [
    "#The states that underperform on both tests\n",
    "\n",
    "act_sat_2019_df[(act_sat_2019_df['sat_total']<=1059) & (act_sat_2019_df['act_composite']<=20.7)]\n"
   ]
  },
  {
   "cell_type": "markdown",
   "metadata": {},
   "source": [
    "### Observations about ACT to SAT Scatterplot\n",
    "\n",
    "Looking at the scatterplot initially, it was interesting to see that there was an area in the upper right (1st quadrant if we think of the space as a coordinate plane) that did seem to have any data points. I added the mean SAT and ACT scores as lines to see how they related. As it turns out there are several states that overperform the mean on both tests. As a side note, it would be interesting to add, say, the 75th percentile lines and or run the above masks to see how many states outperform that on both tests. I suspect very few/none. In other words, it seems like there's a certain point at which a state will excel on one test, but won't on the other. I suspect based on the rest of that analysis, that's likely to be in states where a select few students take one test. Because this isn't central to my project, I'm not going to take the time to do this right now.\n",
    "\n",
    "Otherwise, I found it interesting to see the breakdown of which states overperformed the means and which didn't. Points for further exploration: how does high participation relate to underperformance with more precision. Why are there more states where students overperform the mean on the SAT but not the ACT (19) than there are states where students overperform the ACT mean but not the SAT (10)?"
   ]
  },
  {
   "cell_type": "markdown",
   "metadata": {
    "tags": []
   },
   "source": [
    "## Additional Plots"
   ]
  },
  {
   "cell_type": "markdown",
   "metadata": {
    "tags": []
   },
   "source": [
    "### SAT minus SAT Equivalent of ACT, 25th percentiles, 10 Highest Acceptance Rates - Bar Chart"
   ]
  },
  {
   "cell_type": "code",
   "execution_count": 207,
   "metadata": {},
   "outputs": [
    {
     "data": {
      "text/plain": [
       "''"
      ]
     },
     "execution_count": 207,
     "metadata": {},
     "output_type": "execute_result"
    },
    {
     "data": {
      "image/png": "[encoded data removed]",
      "text/plain": [
       "<Figure size 1152x360 with 1 Axes>"
      ]
     },
     "metadata": {
      "needs_background": "light"
     },
     "output_type": "display_data"
    }
   ],
   "source": [
    "ten_high_accept_df = pd.DataFrame(colleges_df.sort_values(by = 'accept_rate', ascending = False)[:10]).reset_index()\n",
    "\n",
    "plt.figure(figsize = (16, 5))\n",
    "\n",
    "plt.title('SAT 25th %ile minus SAT Equivalent of ACT 25th %ile,\\nby college, 10 highest acceptance rates')\n",
    "\n",
    "# this method of changing color based on value comes from here: \n",
    "# https://stackoverflow.com/questions/45274183/matplotlib-different-colors-for-bar-graph-based-on-value\n",
    "\n",
    "t1 = ten_high_accept_df[ten_high_accept_df['sat_minus_sat_equiv_25th_perc'] >= 0]\n",
    "t2 = ten_high_accept_df[ten_high_accept_df['sat_minus_sat_equiv_25th_perc'] < 0]\n",
    "\n",
    "# this article helped me understand how to create the legend:\n",
    "# https://stackoverflow.com/questions/19125722/adding-a-legend-to-pyplot-in-matplotlib-in-the-simplest-manner-possible\n",
    "\n",
    "plt.bar(t1.index.values,\n",
    "       t1['sat_minus_sat_equiv_25th_perc'],\n",
    "       color = 'blue',\n",
    "       label = 'SAT bias') # added here\n",
    "\n",
    "plt.bar(t2.index.values,\n",
    "       t2['sat_minus_sat_equiv_25th_perc'],\n",
    "       color = 'maroon',\n",
    "       label = 'ACT bias') # added here\n",
    "\n",
    "plt.xlabel('School')\n",
    "plt.ylabel('SAT minus SAT equiv of ACT')\n",
    "plt.legend()\n",
    "\n",
    "plt.xticks(range(10), [i for i in ten_high_accept_df['school']],\n",
    "           rotation = 20, ha = 'right', rotation_mode = 'anchor')\n",
    "# this stackexchange helped me understand how to anchor the labels to the ticks:\n",
    "# https://stackoverflow.com/questions/14852821/aligning-rotated-xticklabels-with-their-respective-xticks\n",
    "\n",
    "plt.tight_layout()\n",
    "plt.savefig('../figures/10highestaccept25th.png')\n",
    ";"
   ]
  },
  {
   "cell_type": "markdown",
   "metadata": {
    "jp-MarkdownHeadingCollapsed": true,
    "tags": []
   },
   "source": [
    "### Observations about 10 Highest Acceptance Rates, 25th Percentile"
   ]
  },
  {
   "cell_type": "markdown",
   "metadata": {},
   "source": [
    "There's a wide variation from school to school, suggesting that decisions about tests should be made on a school by school basis. The bias among these schools is largely (though not exclusively) toward the ACT, meaning that a student would likely gain an advantage from using the SAT."
   ]
  },
  {
   "cell_type": "markdown",
   "metadata": {
    "tags": []
   },
   "source": [
    "### SAT minus SAT Equivalent of ACT, 25th percentiles, 10 Lowest Acceptance Rates - Bar Chart"
   ]
  },
  {
   "cell_type": "code",
   "execution_count": 208,
   "metadata": {},
   "outputs": [
    {
     "data": {
      "text/plain": [
       "''"
      ]
     },
     "execution_count": 208,
     "metadata": {},
     "output_type": "execute_result"
    },
    {
     "data": {
      "image/png": "[encoded data removed]",
      "text/plain": [
       "<Figure size 1152x360 with 1 Axes>"
      ]
     },
     "metadata": {
      "needs_background": "light"
     },
     "output_type": "display_data"
    }
   ],
   "source": [
    "ten_low_accept_df = pd.DataFrame(colleges_df.sort_values(by = 'accept_rate', ascending = True)[:10]).reset_index()\n",
    "\n",
    "plt.figure(figsize = (16, 5))\n",
    "\n",
    "plt.title('SAT 25th %ile minus SAT Equivalent of ACT 25th %ile,\\nby college, 10 lowest acceptance rates')\n",
    "\n",
    "t1 = ten_low_accept_df[ten_low_accept_df['sat_minus_sat_equiv_25th_perc'] >= 0]\n",
    "t2 = ten_low_accept_df[ten_low_accept_df['sat_minus_sat_equiv_25th_perc'] < 0]\n",
    "\n",
    "plt.bar(t1.index.values,\n",
    "       t1['sat_minus_sat_equiv_25th_perc'],\n",
    "       color = 'blue',\n",
    "       label = 'SAT bias')\n",
    "\n",
    "plt.bar(t2.index.values,\n",
    "       t2['sat_minus_sat_equiv_25th_perc'],\n",
    "       color = 'maroon',\n",
    "       label = 'ACT bias')\n",
    "\n",
    "plt.xlabel('School')\n",
    "plt.ylabel('SAT minus SAT equiv of ACT')\n",
    "plt.legend()\n",
    "\n",
    "plt.xticks(range(10), [i for i in ten_low_accept_df['school']],\n",
    "           rotation = 20, ha = 'right', rotation_mode = 'anchor')\n",
    "\n",
    "plt.tight_layout()\n",
    "plt.savefig('../figures/10lowestaccept25th.png')\n",
    ";"
   ]
  },
  {
   "cell_type": "markdown",
   "metadata": {
    "jp-MarkdownHeadingCollapsed": true,
    "tags": []
   },
   "source": [
    "### Observations about 10 Lowest Acceptance Rates, 25th Percentile"
   ]
  },
  {
   "cell_type": "markdown",
   "metadata": {},
   "source": [
    "_NB: I couldn't figure out how to make the 0's (Harvard, Yale, and MIT) appear as lines. Would be grateful for help with that!_\n",
    "\n",
    "Again, there's variation among these schools. 8 of 10 don't show a clear bias in either direction (becase 10-20 points in either direction is essentially equivalent). Pomona College has an ACT bias (suggesting students at this score level would benefit from using the SAT) and University of Chicago has an SAT bias (suggesting the reverse), though neither is a large one. However, this reinforces the idea that these decisions should be made on a school-by-school basis."
   ]
  },
  {
   "cell_type": "markdown",
   "metadata": {
    "tags": []
   },
   "source": [
    "### SAT minus SAT Equivalent of ACT, 75th percentiles, 10 Highest Acceptance Rates - Bar Chart"
   ]
  },
  {
   "cell_type": "code",
   "execution_count": 209,
   "metadata": {},
   "outputs": [
    {
     "data": {
      "text/plain": [
       "''"
      ]
     },
     "execution_count": 209,
     "metadata": {},
     "output_type": "execute_result"
    },
    {
     "data": {
      "image/png": "[encoded data removed]",
      "text/plain": [
       "<Figure size 1152x360 with 1 Axes>"
      ]
     },
     "metadata": {
      "needs_background": "light"
     },
     "output_type": "display_data"
    }
   ],
   "source": [
    "plt.figure(figsize = (16, 5))\n",
    "\n",
    "plt.title('SAT 75th %ile minus SAT Equivalent of ACT 75th %ile,\\nby college, 10 highest acceptance rates')\n",
    "\n",
    "t1 = ten_high_accept_df[ten_high_accept_df['sat_minus_sat_equiv_75th_perc'] >= 0]\n",
    "t2 = ten_high_accept_df[ten_high_accept_df['sat_minus_sat_equiv_75th_perc'] < 0]\n",
    "\n",
    "plt.bar(t1.index.values,\n",
    "       t1['sat_minus_sat_equiv_75th_perc'],\n",
    "       color = 'blue',\n",
    "       label = 'SAT bias')\n",
    "\n",
    "plt.bar(t2.index.values,\n",
    "       t2['sat_minus_sat_equiv_75th_perc'],\n",
    "       color = 'maroon',\n",
    "       label = 'ACT bias')\n",
    "\n",
    "plt.xlabel('School')\n",
    "plt.ylabel('SAT minus SAT equiv of ACT')\n",
    "plt.legend()\n",
    "\n",
    "plt.xticks(range(10), [i for i in ten_high_accept_df['school']],\n",
    "           rotation = 20, ha = 'right', rotation_mode = 'anchor')\n",
    "\n",
    "plt.tight_layout()\n",
    "plt.savefig('../figures/10highestaccept75th.png')\n",
    ";"
   ]
  },
  {
   "cell_type": "code",
   "execution_count": 210,
   "metadata": {},
   "outputs": [
    {
     "data": {
      "text/html": [
       "<div>\n",
       "<style scoped>\n",
       "    .dataframe tbody tr th:only-of-type {\n",
       "        vertical-align: middle;\n",
       "    }\n",
       "\n",
       "    .dataframe tbody tr th {\n",
       "        vertical-align: top;\n",
       "    }\n",
       "\n",
       "    .dataframe thead th {\n",
       "        text-align: right;\n",
       "    }\n",
       "</style>\n",
       "<table border=\"1\" class=\"dataframe\">\n",
       "  <thead>\n",
       "    <tr style=\"text-align: right;\">\n",
       "      <th></th>\n",
       "      <th>index</th>\n",
       "      <th>school</th>\n",
       "      <th>test_optional_or_no</th>\n",
       "      <th>applies_to_class_year_s</th>\n",
       "      <th>policy_details</th>\n",
       "      <th>number_of_applicants</th>\n",
       "      <th>accept_rate</th>\n",
       "      <th>sat_tot_25th_percentile</th>\n",
       "      <th>sat_tot_75th_percentile</th>\n",
       "      <th>act_composite_25th_percentile</th>\n",
       "      <th>act_composite_75th_percentile</th>\n",
       "      <th>sat_equiv_of_act_25th</th>\n",
       "      <th>sat_equiv_of_act_75th</th>\n",
       "      <th>sat_minus_sat_equiv_25th_perc</th>\n",
       "      <th>sat_minus_sat_equiv_75th_perc</th>\n",
       "    </tr>\n",
       "  </thead>\n",
       "  <tbody>\n",
       "    <tr>\n",
       "      <th>0</th>\n",
       "      <td>404</td>\n",
       "      <td>University of Texas El Paso</td>\n",
       "      <td>No</td>\n",
       "      <td>NaN</td>\n",
       "      <td>UTEP requires either the SAT or ACT. It does n...</td>\n",
       "      <td>7157</td>\n",
       "      <td>0.999</td>\n",
       "      <td>820</td>\n",
       "      <td>1050</td>\n",
       "      <td>17</td>\n",
       "      <td>23</td>\n",
       "      <td>930</td>\n",
       "      <td>1140</td>\n",
       "      <td>-110</td>\n",
       "      <td>-90</td>\n",
       "    </tr>\n",
       "    <tr>\n",
       "      <th>1</th>\n",
       "      <td>379</td>\n",
       "      <td>Western Kentucky</td>\n",
       "      <td>Yes*</td>\n",
       "      <td>All / Permanent Policy</td>\n",
       "      <td>WKU offers a test optional policy for students...</td>\n",
       "      <td>8245</td>\n",
       "      <td>0.973</td>\n",
       "      <td>990</td>\n",
       "      <td>1220</td>\n",
       "      <td>19</td>\n",
       "      <td>27</td>\n",
       "      <td>1010</td>\n",
       "      <td>1280</td>\n",
       "      <td>-20</td>\n",
       "      <td>-60</td>\n",
       "    </tr>\n",
       "    <tr>\n",
       "      <th>2</th>\n",
       "      <td>378</td>\n",
       "      <td>Queens University of Charlotte</td>\n",
       "      <td>Yes</td>\n",
       "      <td>All / Permanent Policy</td>\n",
       "      <td>Queens University of Charlotte offers a test o...</td>\n",
       "      <td>2319</td>\n",
       "      <td>0.962</td>\n",
       "      <td>1040</td>\n",
       "      <td>1240</td>\n",
       "      <td>21</td>\n",
       "      <td>27</td>\n",
       "      <td>1080</td>\n",
       "      <td>1280</td>\n",
       "      <td>-40</td>\n",
       "      <td>-40</td>\n",
       "    </tr>\n",
       "    <tr>\n",
       "      <th>3</th>\n",
       "      <td>377</td>\n",
       "      <td>Portland State</td>\n",
       "      <td>Yes</td>\n",
       "      <td>All / Permanent Policy</td>\n",
       "      <td>Portland State offers a test optional policy w...</td>\n",
       "      <td>7821</td>\n",
       "      <td>0.961</td>\n",
       "      <td>1010</td>\n",
       "      <td>1230</td>\n",
       "      <td>18</td>\n",
       "      <td>25</td>\n",
       "      <td>970</td>\n",
       "      <td>1210</td>\n",
       "      <td>40</td>\n",
       "      <td>20</td>\n",
       "    </tr>\n",
       "    <tr>\n",
       "      <th>4</th>\n",
       "      <td>403</td>\n",
       "      <td>University of Wyoming</td>\n",
       "      <td>No</td>\n",
       "      <td>NaN</td>\n",
       "      <td>University of Wyoming requires either the SAT ...</td>\n",
       "      <td>5348</td>\n",
       "      <td>0.960</td>\n",
       "      <td>1060</td>\n",
       "      <td>1280</td>\n",
       "      <td>22</td>\n",
       "      <td>28</td>\n",
       "      <td>1110</td>\n",
       "      <td>1310</td>\n",
       "      <td>-50</td>\n",
       "      <td>-30</td>\n",
       "    </tr>\n",
       "    <tr>\n",
       "      <th>5</th>\n",
       "      <td>376</td>\n",
       "      <td>University of Toledo</td>\n",
       "      <td>Yes</td>\n",
       "      <td>All / Permanent Policy</td>\n",
       "      <td>University of Toledo offers a test optional po...</td>\n",
       "      <td>10228</td>\n",
       "      <td>0.951</td>\n",
       "      <td>1000</td>\n",
       "      <td>1240</td>\n",
       "      <td>20</td>\n",
       "      <td>26</td>\n",
       "      <td>1040</td>\n",
       "      <td>1240</td>\n",
       "      <td>-40</td>\n",
       "      <td>0</td>\n",
       "    </tr>\n",
       "    <tr>\n",
       "      <th>6</th>\n",
       "      <td>375</td>\n",
       "      <td>University of Kentucky</td>\n",
       "      <td>Yes</td>\n",
       "      <td>2021</td>\n",
       "      <td>The University of Kentucky has adopted a one-y...</td>\n",
       "      <td>19324</td>\n",
       "      <td>0.945</td>\n",
       "      <td>1080</td>\n",
       "      <td>1300</td>\n",
       "      <td>23</td>\n",
       "      <td>29</td>\n",
       "      <td>1140</td>\n",
       "      <td>1340</td>\n",
       "      <td>-60</td>\n",
       "      <td>-40</td>\n",
       "    </tr>\n",
       "    <tr>\n",
       "      <th>7</th>\n",
       "      <td>374</td>\n",
       "      <td>Samford University</td>\n",
       "      <td>Yes</td>\n",
       "      <td>2021</td>\n",
       "      <td>Samford University has adopted a one-year test...</td>\n",
       "      <td>3912</td>\n",
       "      <td>0.929</td>\n",
       "      <td>1070</td>\n",
       "      <td>1250</td>\n",
       "      <td>23</td>\n",
       "      <td>29</td>\n",
       "      <td>1140</td>\n",
       "      <td>1340</td>\n",
       "      <td>-70</td>\n",
       "      <td>-90</td>\n",
       "    </tr>\n",
       "    <tr>\n",
       "      <th>8</th>\n",
       "      <td>373</td>\n",
       "      <td>University of Montana</td>\n",
       "      <td>Yes</td>\n",
       "      <td>2021</td>\n",
       "      <td>University of Montana has adopted a one-year t...</td>\n",
       "      <td>6182</td>\n",
       "      <td>0.926</td>\n",
       "      <td>1060</td>\n",
       "      <td>1270</td>\n",
       "      <td>21</td>\n",
       "      <td>26</td>\n",
       "      <td>1080</td>\n",
       "      <td>1240</td>\n",
       "      <td>-20</td>\n",
       "      <td>30</td>\n",
       "    </tr>\n",
       "    <tr>\n",
       "      <th>9</th>\n",
       "      <td>372</td>\n",
       "      <td>Washington College</td>\n",
       "      <td>Yes</td>\n",
       "      <td>All / Permanent Policy</td>\n",
       "      <td>Ursinus College has a test-optional policy whi...</td>\n",
       "      <td>2225</td>\n",
       "      <td>0.924</td>\n",
       "      <td>1090</td>\n",
       "      <td>1300</td>\n",
       "      <td>20</td>\n",
       "      <td>29</td>\n",
       "      <td>1040</td>\n",
       "      <td>1340</td>\n",
       "      <td>50</td>\n",
       "      <td>-40</td>\n",
       "    </tr>\n",
       "  </tbody>\n",
       "</table>\n",
       "</div>"
      ],
      "text/plain": [
       "   index                          school test_optional_or_no  \\\n",
       "0    404     University of Texas El Paso                  No   \n",
       "1    379                Western Kentucky                Yes*   \n",
       "2    378  Queens University of Charlotte                 Yes   \n",
       "3    377                  Portland State                 Yes   \n",
       "4    403           University of Wyoming                  No   \n",
       "5    376            University of Toledo                 Yes   \n",
       "6    375          University of Kentucky                 Yes   \n",
       "7    374              Samford University                 Yes   \n",
       "8    373           University of Montana                 Yes   \n",
       "9    372              Washington College                 Yes   \n",
       "\n",
       "  applies_to_class_year_s                                     policy_details  \\\n",
       "0                     NaN  UTEP requires either the SAT or ACT. It does n...   \n",
       "1  All / Permanent Policy  WKU offers a test optional policy for students...   \n",
       "2  All / Permanent Policy  Queens University of Charlotte offers a test o...   \n",
       "3  All / Permanent Policy  Portland State offers a test optional policy w...   \n",
       "4                     NaN  University of Wyoming requires either the SAT ...   \n",
       "5  All / Permanent Policy  University of Toledo offers a test optional po...   \n",
       "6                    2021  The University of Kentucky has adopted a one-y...   \n",
       "7                    2021  Samford University has adopted a one-year test...   \n",
       "8                    2021  University of Montana has adopted a one-year t...   \n",
       "9  All / Permanent Policy  Ursinus College has a test-optional policy whi...   \n",
       "\n",
       "   number_of_applicants  accept_rate  sat_tot_25th_percentile  \\\n",
       "0                  7157        0.999                      820   \n",
       "1                  8245        0.973                      990   \n",
       "2                  2319        0.962                     1040   \n",
       "3                  7821        0.961                     1010   \n",
       "4                  5348        0.960                     1060   \n",
       "5                 10228        0.951                     1000   \n",
       "6                 19324        0.945                     1080   \n",
       "7                  3912        0.929                     1070   \n",
       "8                  6182        0.926                     1060   \n",
       "9                  2225        0.924                     1090   \n",
       "\n",
       "   sat_tot_75th_percentile  act_composite_25th_percentile  \\\n",
       "0                     1050                             17   \n",
       "1                     1220                             19   \n",
       "2                     1240                             21   \n",
       "3                     1230                             18   \n",
       "4                     1280                             22   \n",
       "5                     1240                             20   \n",
       "6                     1300                             23   \n",
       "7                     1250                             23   \n",
       "8                     1270                             21   \n",
       "9                     1300                             20   \n",
       "\n",
       "   act_composite_75th_percentile  sat_equiv_of_act_25th  \\\n",
       "0                             23                    930   \n",
       "1                             27                   1010   \n",
       "2                             27                   1080   \n",
       "3                             25                    970   \n",
       "4                             28                   1110   \n",
       "5                             26                   1040   \n",
       "6                             29                   1140   \n",
       "7                             29                   1140   \n",
       "8                             26                   1080   \n",
       "9                             29                   1040   \n",
       "\n",
       "   sat_equiv_of_act_75th  sat_minus_sat_equiv_25th_perc  \\\n",
       "0                   1140                           -110   \n",
       "1                   1280                            -20   \n",
       "2                   1280                            -40   \n",
       "3                   1210                             40   \n",
       "4                   1310                            -50   \n",
       "5                   1240                            -40   \n",
       "6                   1340                            -60   \n",
       "7                   1340                            -70   \n",
       "8                   1240                            -20   \n",
       "9                   1340                             50   \n",
       "\n",
       "   sat_minus_sat_equiv_75th_perc  \n",
       "0                            -90  \n",
       "1                            -60  \n",
       "2                            -40  \n",
       "3                             20  \n",
       "4                            -30  \n",
       "5                              0  \n",
       "6                            -40  \n",
       "7                            -90  \n",
       "8                             30  \n",
       "9                            -40  "
      ]
     },
     "execution_count": 210,
     "metadata": {},
     "output_type": "execute_result"
    }
   ],
   "source": [
    "ten_high_accept_df"
   ]
  },
  {
   "cell_type": "code",
   "execution_count": 231,
   "metadata": {},
   "outputs": [],
   "source": [
    "colleges_df[colleges_df['school'] == 'Washington College']\n",
    "wash_coll_df = pd.DataFrame([colleges_df[colleges_df['school'] == 'Washington College']['sat_tot_75th_percentile'], colleges_df[colleges_df['school'] == 'Washington College']['sat_equiv_of_act_75th']])\n"
   ]
  },
  {
   "cell_type": "code",
   "execution_count": 232,
   "metadata": {},
   "outputs": [
    {
     "data": {
      "text/html": [
       "<div>\n",
       "<style scoped>\n",
       "    .dataframe tbody tr th:only-of-type {\n",
       "        vertical-align: middle;\n",
       "    }\n",
       "\n",
       "    .dataframe tbody tr th {\n",
       "        vertical-align: top;\n",
       "    }\n",
       "\n",
       "    .dataframe thead th {\n",
       "        text-align: right;\n",
       "    }\n",
       "</style>\n",
       "<table border=\"1\" class=\"dataframe\">\n",
       "  <thead>\n",
       "    <tr style=\"text-align: right;\">\n",
       "      <th></th>\n",
       "      <th>372</th>\n",
       "    </tr>\n",
       "  </thead>\n",
       "  <tbody>\n",
       "    <tr>\n",
       "      <th>sat_tot_75th_percentile</th>\n",
       "      <td>1300</td>\n",
       "    </tr>\n",
       "    <tr>\n",
       "      <th>sat_equiv_of_act_75th</th>\n",
       "      <td>1340</td>\n",
       "    </tr>\n",
       "  </tbody>\n",
       "</table>\n",
       "</div>"
      ],
      "text/plain": [
       "                          372\n",
       "sat_tot_75th_percentile  1300\n",
       "sat_equiv_of_act_75th    1340"
      ]
     },
     "execution_count": 232,
     "metadata": {},
     "output_type": "execute_result"
    }
   ],
   "source": [
    "wash_coll_df"
   ]
  },
  {
   "cell_type": "code",
   "execution_count": 246,
   "metadata": {},
   "outputs": [
    {
     "data": {
      "text/plain": [
       "''"
      ]
     },
     "execution_count": 246,
     "metadata": {},
     "output_type": "execute_result"
    },
    {
     "data": {
      "image/png": "[encoded data removed]",
      "text/plain": [
       "<Figure size 432x432 with 1 Axes>"
      ]
     },
     "metadata": {
      "needs_background": "light"
     },
     "output_type": "display_data"
    }
   ],
   "source": [
    "plt.figure(figsize = (6,6))\n",
    "\n",
    "plt.title('Washington College (MD) - Difference Between SAT Total Score\\n and SAT Equivalent of ACT Composite at the 75th percentile')\n",
    "plt.bar(wash_coll_df[372].index.values,\n",
    "       wash_coll_df[372],\n",
    "       color = 'b')\n",
    "\n",
    "plt.ylabel('SAT Total Score')\n",
    "\n",
    "# used this to learn how to set limits on ranges:\n",
    "# https://pythonguides.com/matplotlib-set-axis-range/\n",
    "\n",
    "plt.ylim(1250, 1400)\n",
    "plt.tight_layout()\n",
    "plt.savefig('../figures/washingtoncollege75th.png')\n",
    ";"
   ]
  },
  {
   "cell_type": "markdown",
   "metadata": {
    "tags": []
   },
   "source": [
    "### Observations on 10 Highest Acceptance Rate Schools, 75th Percentile"
   ]
  },
  {
   "cell_type": "markdown",
   "metadata": {},
   "source": [
    "Again, there's wide variation among schools, with more bias towards the ACT, as was the case among the 10 Highest Acceptance Rate Schools at the 25th percentile. In this case, though, there's one school that shows no bias, one that's on the edge of showing SAT bias, and one that shows SAT bias."
   ]
  },
  {
   "cell_type": "markdown",
   "metadata": {
    "jp-MarkdownHeadingCollapsed": true,
    "tags": []
   },
   "source": [
    "### SAT minus SAT Equivalent of ACT, 75th percentiles, 10 Lowest Acceptance Rates - Bar Chart"
   ]
  },
  {
   "cell_type": "code",
   "execution_count": 1515,
   "metadata": {},
   "outputs": [
    {
     "data": {
      "text/plain": [
       "''"
      ]
     },
     "execution_count": 1515,
     "metadata": {},
     "output_type": "execute_result"
    },
    {
     "data": {
      "image/png": "[encoded data removed]",
      "text/plain": [
       "<Figure size 1152x360 with 1 Axes>"
      ]
     },
     "metadata": {
      "needs_background": "light"
     },
     "output_type": "display_data"
    }
   ],
   "source": [
    "plt.figure(figsize = (16, 5))\n",
    "\n",
    "plt.title('SAT 75th %ile minus SAT Equivalent of ACT 75th %ile,\\nby college, 10 lowest acceptance rates')\n",
    "\n",
    "t1 = ten_low_accept_df[ten_low_accept_df['sat_minus_sat_equiv_75th_perc'] >= 0]\n",
    "t2 = ten_low_accept_df[ten_low_accept_df['sat_minus_sat_equiv_75th_perc'] < 0]\n",
    "\n",
    "plt.bar(t1.index.values,\n",
    "       t1['sat_minus_sat_equiv_75th_perc'],\n",
    "       color = 'blue',\n",
    "       label = 'SAT bias')\n",
    "\n",
    "plt.bar(t2.index.values,\n",
    "       t2['sat_minus_sat_equiv_75th_perc'],\n",
    "       color = 'maroon',\n",
    "       label = 'ACT bias')\n",
    "\n",
    "plt.xlabel('School')\n",
    "plt.ylabel('SAT minus SAT equiv of ACT')\n",
    "plt.legend()\n",
    "\n",
    "plt.xticks(range(10), [i for i in ten_low_accept_df['school']],\n",
    "           rotation = 20, ha = 'right', rotation_mode = 'anchor')\n",
    "\n",
    "plt.tight_layout()\n",
    "plt.savefig('../figures/10lowestaccept75th.png')\n",
    ";"
   ]
  },
  {
   "cell_type": "code",
   "execution_count": 1503,
   "metadata": {},
   "outputs": [
    {
     "data": {
      "text/html": [
       "<div>\n",
       "<style scoped>\n",
       "    .dataframe tbody tr th:only-of-type {\n",
       "        vertical-align: middle;\n",
       "    }\n",
       "\n",
       "    .dataframe tbody tr th {\n",
       "        vertical-align: top;\n",
       "    }\n",
       "\n",
       "    .dataframe thead th {\n",
       "        text-align: right;\n",
       "    }\n",
       "</style>\n",
       "<table border=\"1\" class=\"dataframe\">\n",
       "  <thead>\n",
       "    <tr style=\"text-align: right;\">\n",
       "      <th></th>\n",
       "      <th>index</th>\n",
       "      <th>school</th>\n",
       "      <th>test_optional_or_no</th>\n",
       "      <th>applies_to_class_year_s</th>\n",
       "      <th>policy_details</th>\n",
       "      <th>number_of_applicants</th>\n",
       "      <th>accept_rate</th>\n",
       "      <th>sat_tot_25th_percentile</th>\n",
       "      <th>sat_tot_75th_percentile</th>\n",
       "      <th>act_composite_25th_percentile</th>\n",
       "      <th>act_composite_75th_percentile</th>\n",
       "      <th>sat_equiv_of_act_25th</th>\n",
       "      <th>sat_equiv_of_act_75th</th>\n",
       "      <th>sat_minus_sat_equiv_25th_perc</th>\n",
       "      <th>sat_minus_sat_equiv_75th_perc</th>\n",
       "    </tr>\n",
       "  </thead>\n",
       "  <tbody>\n",
       "    <tr>\n",
       "      <th>0</th>\n",
       "      <td>0</td>\n",
       "      <td>Stanford University</td>\n",
       "      <td>Yes</td>\n",
       "      <td>2021</td>\n",
       "      <td>Stanford has adopted a one-year test optional ...</td>\n",
       "      <td>47452</td>\n",
       "      <td>0.043</td>\n",
       "      <td>1440</td>\n",
       "      <td>1570</td>\n",
       "      <td>32</td>\n",
       "      <td>35</td>\n",
       "      <td>1430</td>\n",
       "      <td>1540</td>\n",
       "      <td>10</td>\n",
       "      <td>30</td>\n",
       "    </tr>\n",
       "    <tr>\n",
       "      <th>1</th>\n",
       "      <td>1</td>\n",
       "      <td>Harvard College</td>\n",
       "      <td>Yes</td>\n",
       "      <td>2021</td>\n",
       "      <td>Harvard has adopted a one-year test optional p...</td>\n",
       "      <td>42749</td>\n",
       "      <td>0.047</td>\n",
       "      <td>1460</td>\n",
       "      <td>1580</td>\n",
       "      <td>33</td>\n",
       "      <td>35</td>\n",
       "      <td>1460</td>\n",
       "      <td>1540</td>\n",
       "      <td>0</td>\n",
       "      <td>40</td>\n",
       "    </tr>\n",
       "    <tr>\n",
       "      <th>2</th>\n",
       "      <td>2</td>\n",
       "      <td>Princeton University</td>\n",
       "      <td>Yes</td>\n",
       "      <td>2021</td>\n",
       "      <td>Princeton has adopted a one-year test optional...</td>\n",
       "      <td>35370</td>\n",
       "      <td>0.055</td>\n",
       "      <td>1440</td>\n",
       "      <td>1570</td>\n",
       "      <td>32</td>\n",
       "      <td>35</td>\n",
       "      <td>1430</td>\n",
       "      <td>1540</td>\n",
       "      <td>10</td>\n",
       "      <td>30</td>\n",
       "    </tr>\n",
       "    <tr>\n",
       "      <th>3</th>\n",
       "      <td>3</td>\n",
       "      <td>Columbia University</td>\n",
       "      <td>Yes</td>\n",
       "      <td>2021</td>\n",
       "      <td>Columbia has adopted a one-year test optional ...</td>\n",
       "      <td>40203</td>\n",
       "      <td>0.055</td>\n",
       "      <td>1450</td>\n",
       "      <td>1560</td>\n",
       "      <td>33</td>\n",
       "      <td>35</td>\n",
       "      <td>1460</td>\n",
       "      <td>1540</td>\n",
       "      <td>-10</td>\n",
       "      <td>20</td>\n",
       "    </tr>\n",
       "    <tr>\n",
       "      <th>4</th>\n",
       "      <td>4</td>\n",
       "      <td>Yale University</td>\n",
       "      <td>Yes</td>\n",
       "      <td>2021</td>\n",
       "      <td>Yale has adopted a one-year test optional poli...</td>\n",
       "      <td>36844</td>\n",
       "      <td>0.061</td>\n",
       "      <td>1460</td>\n",
       "      <td>1570</td>\n",
       "      <td>33</td>\n",
       "      <td>35</td>\n",
       "      <td>1460</td>\n",
       "      <td>1540</td>\n",
       "      <td>0</td>\n",
       "      <td>30</td>\n",
       "    </tr>\n",
       "    <tr>\n",
       "      <th>5</th>\n",
       "      <td>5</td>\n",
       "      <td>California Institute of Technology</td>\n",
       "      <td>Yes (TB)</td>\n",
       "      <td>2021 2022</td>\n",
       "      <td>CalTech has adopted a two-year Test Blind poli...</td>\n",
       "      <td>8367</td>\n",
       "      <td>0.064</td>\n",
       "      <td>1530</td>\n",
       "      <td>1560</td>\n",
       "      <td>35</td>\n",
       "      <td>36</td>\n",
       "      <td>1540</td>\n",
       "      <td>1590</td>\n",
       "      <td>-10</td>\n",
       "      <td>-30</td>\n",
       "    </tr>\n",
       "    <tr>\n",
       "      <th>6</th>\n",
       "      <td>6</td>\n",
       "      <td>Massachusetts Institute of Technology</td>\n",
       "      <td>Yes</td>\n",
       "      <td>2021</td>\n",
       "      <td>MIT has adopted a one-year test optional polic...</td>\n",
       "      <td>21706</td>\n",
       "      <td>0.067</td>\n",
       "      <td>1500</td>\n",
       "      <td>1570</td>\n",
       "      <td>34</td>\n",
       "      <td>36</td>\n",
       "      <td>1500</td>\n",
       "      <td>1590</td>\n",
       "      <td>0</td>\n",
       "      <td>-20</td>\n",
       "    </tr>\n",
       "    <tr>\n",
       "      <th>7</th>\n",
       "      <td>7</td>\n",
       "      <td>Brown University</td>\n",
       "      <td>Yes</td>\n",
       "      <td>2021</td>\n",
       "      <td>Brown has adopted a one-year test optional pol...</td>\n",
       "      <td>38674</td>\n",
       "      <td>0.071</td>\n",
       "      <td>1440</td>\n",
       "      <td>1570</td>\n",
       "      <td>33</td>\n",
       "      <td>35</td>\n",
       "      <td>1460</td>\n",
       "      <td>1540</td>\n",
       "      <td>-20</td>\n",
       "      <td>30</td>\n",
       "    </tr>\n",
       "    <tr>\n",
       "      <th>8</th>\n",
       "      <td>8</td>\n",
       "      <td>University of Chicago</td>\n",
       "      <td>Yes</td>\n",
       "      <td>All / Permanent Policy</td>\n",
       "      <td>UChicago offers a test optional policy which a...</td>\n",
       "      <td>32283</td>\n",
       "      <td>0.073</td>\n",
       "      <td>1490</td>\n",
       "      <td>1570</td>\n",
       "      <td>33</td>\n",
       "      <td>35</td>\n",
       "      <td>1460</td>\n",
       "      <td>1540</td>\n",
       "      <td>30</td>\n",
       "      <td>30</td>\n",
       "    </tr>\n",
       "    <tr>\n",
       "      <th>9</th>\n",
       "      <td>9</td>\n",
       "      <td>Pomona College</td>\n",
       "      <td>Yes</td>\n",
       "      <td>2021</td>\n",
       "      <td>Pomona College has adopted a one-year test opt...</td>\n",
       "      <td>10401</td>\n",
       "      <td>0.074</td>\n",
       "      <td>1390</td>\n",
       "      <td>1540</td>\n",
       "      <td>32</td>\n",
       "      <td>35</td>\n",
       "      <td>1430</td>\n",
       "      <td>1540</td>\n",
       "      <td>-40</td>\n",
       "      <td>0</td>\n",
       "    </tr>\n",
       "  </tbody>\n",
       "</table>\n",
       "</div>"
      ],
      "text/plain": [
       "   index                                 school test_optional_or_no  \\\n",
       "0      0                    Stanford University                 Yes   \n",
       "1      1                        Harvard College                 Yes   \n",
       "2      2                   Princeton University                 Yes   \n",
       "3      3                    Columbia University                 Yes   \n",
       "4      4                        Yale University                 Yes   \n",
       "5      5     California Institute of Technology            Yes (TB)   \n",
       "6      6  Massachusetts Institute of Technology                 Yes   \n",
       "7      7                       Brown University                 Yes   \n",
       "8      8                  University of Chicago                 Yes   \n",
       "9      9                         Pomona College                 Yes   \n",
       "\n",
       "  applies_to_class_year_s                                     policy_details  \\\n",
       "0                    2021  Stanford has adopted a one-year test optional ...   \n",
       "1                    2021  Harvard has adopted a one-year test optional p...   \n",
       "2                    2021  Princeton has adopted a one-year test optional...   \n",
       "3                    2021  Columbia has adopted a one-year test optional ...   \n",
       "4                    2021  Yale has adopted a one-year test optional poli...   \n",
       "5               2021 2022  CalTech has adopted a two-year Test Blind poli...   \n",
       "6                    2021  MIT has adopted a one-year test optional polic...   \n",
       "7                    2021  Brown has adopted a one-year test optional pol...   \n",
       "8  All / Permanent Policy  UChicago offers a test optional policy which a...   \n",
       "9                    2021  Pomona College has adopted a one-year test opt...   \n",
       "\n",
       "   number_of_applicants  accept_rate  sat_tot_25th_percentile  \\\n",
       "0                 47452        0.043                     1440   \n",
       "1                 42749        0.047                     1460   \n",
       "2                 35370        0.055                     1440   \n",
       "3                 40203        0.055                     1450   \n",
       "4                 36844        0.061                     1460   \n",
       "5                  8367        0.064                     1530   \n",
       "6                 21706        0.067                     1500   \n",
       "7                 38674        0.071                     1440   \n",
       "8                 32283        0.073                     1490   \n",
       "9                 10401        0.074                     1390   \n",
       "\n",
       "   sat_tot_75th_percentile  act_composite_25th_percentile  \\\n",
       "0                     1570                             32   \n",
       "1                     1580                             33   \n",
       "2                     1570                             32   \n",
       "3                     1560                             33   \n",
       "4                     1570                             33   \n",
       "5                     1560                             35   \n",
       "6                     1570                             34   \n",
       "7                     1570                             33   \n",
       "8                     1570                             33   \n",
       "9                     1540                             32   \n",
       "\n",
       "   act_composite_75th_percentile  sat_equiv_of_act_25th  \\\n",
       "0                             35                   1430   \n",
       "1                             35                   1460   \n",
       "2                             35                   1430   \n",
       "3                             35                   1460   \n",
       "4                             35                   1460   \n",
       "5                             36                   1540   \n",
       "6                             36                   1500   \n",
       "7                             35                   1460   \n",
       "8                             35                   1460   \n",
       "9                             35                   1430   \n",
       "\n",
       "   sat_equiv_of_act_75th  sat_minus_sat_equiv_25th_perc  \\\n",
       "0                   1540                             10   \n",
       "1                   1540                              0   \n",
       "2                   1540                             10   \n",
       "3                   1540                            -10   \n",
       "4                   1540                              0   \n",
       "5                   1590                            -10   \n",
       "6                   1590                              0   \n",
       "7                   1540                            -20   \n",
       "8                   1540                             30   \n",
       "9                   1540                            -40   \n",
       "\n",
       "   sat_minus_sat_equiv_75th_perc  \n",
       "0                             30  \n",
       "1                             40  \n",
       "2                             30  \n",
       "3                             20  \n",
       "4                             30  \n",
       "5                            -30  \n",
       "6                            -20  \n",
       "7                             30  \n",
       "8                             30  \n",
       "9                              0  "
      ]
     },
     "execution_count": 1503,
     "metadata": {},
     "output_type": "execute_result"
    }
   ],
   "source": [
    "ten_low_accept_df"
   ]
  },
  {
   "cell_type": "markdown",
   "metadata": {
    "jp-MarkdownHeadingCollapsed": true,
    "tags": []
   },
   "source": [
    "### Observations about 10 Lowest Acceptance Rate Schools, 75th Percentile"
   ]
  },
  {
   "cell_type": "markdown",
   "metadata": {},
   "source": [
    "Again, we see meaningful variation at this level, reinforcing that decisions should be made on a school by school basis. It's important to note that this is, in part, because students are pushing the edge of the score range, here. The SAT offers more nuance (30-50 point ranges equivalent to a single ACT Composite score), and that should be taken into account. It may be that a student who will fall short of a perfect score on either test can get closer on an SAT than they can on an ACT because of that additional gradation.\n",
    "\n",
    "At this acceptance rate and percentile, most schools are biased towards the SAT (making an equivalent ACT score advantageous), with the exception of CalTech and MIT, which show small biases toward the ACT, making an equivalent SAT score advantageous)."
   ]
  },
  {
   "cell_type": "markdown",
   "metadata": {
    "jp-MarkdownHeadingCollapsed": true,
    "tags": []
   },
   "source": [
    "### A Failed Attempt At a Subplot I've Left In Because I'd Love Help In Making It Work!"
   ]
  },
  {
   "cell_type": "markdown",
   "metadata": {},
   "source": [
    "#### I tried to make this work as a subplot. I couldn't figure out how to get the labels of the subplots to adjust (to put the right school on each) in a timely manner.\n",
    "\n",
    "I think I'm at about 20 hours I've put in, and I'm running short of time:)\n",
    "\n",
    "I left the code below so you can see where I went with it (and perhaps where I went wrong)"
   ]
  },
  {
   "cell_type": "code",
   "execution_count": 1295,
   "metadata": {},
   "outputs": [
    {
     "name": "stdout",
     "output_type": "stream",
     "text": [
      "  adjustable: {'box', 'datalim'}\n",
      "  agg_filter: a filter function, which takes a (m, n, 3) float array and a dpi value, and returns a (m, n, 3) array\n",
      "  alpha: scalar or None\n",
      "  anchor: (float, float) or {'C', 'SW', 'S', 'SE', 'E', 'NE', ...}\n",
      "  animated: bool\n",
      "  aspect: {'auto', 'equal'} or float\n",
      "  autoscale_on: bool\n",
      "  autoscalex_on: bool\n",
      "  autoscaley_on: bool\n",
      "  axes_locator: Callable[[Axes, Renderer], Bbox]\n",
      "  axisbelow: bool or 'line'\n",
      "  box_aspect: float or None\n",
      "  clip_box: `.Bbox`\n",
      "  clip_on: bool\n",
      "  clip_path: Patch or (Path, Transform) or None\n",
      "  facecolor or fc: color\n",
      "  figure: `.Figure`\n",
      "  frame_on: bool\n",
      "  gid: str\n",
      "  in_layout: bool\n",
      "  label: object\n",
      "  navigate: bool\n",
      "  navigate_mode: unknown\n",
      "  path_effects: `.AbstractPathEffect`\n",
      "  picker: None or bool or float or callable\n",
      "  position: [left, bottom, width, height] or `~matplotlib.transforms.Bbox`\n",
      "  prop_cycle: unknown\n",
      "  rasterization_zorder: float or None\n",
      "  rasterized: bool\n",
      "  sketch_params: (scale: float, length: float, randomness: float)\n",
      "  snap: bool or None\n",
      "  subplotspec: unknown\n",
      "  title: str\n",
      "  transform: `.Transform`\n",
      "  url: str\n",
      "  visible: bool\n",
      "  xbound: unknown\n",
      "  xlabel: str\n",
      "  xlim: (bottom: float, top: float)\n",
      "  xmargin: float greater than -0.5\n",
      "  xscale: {\"linear\", \"log\", \"symlog\", \"logit\", ...} or `.ScaleBase`\n",
      "  xticklabels: unknown\n",
      "  xticks: unknown\n",
      "  ybound: unknown\n",
      "  ylabel: str\n",
      "  ylim: (bottom: float, top: float)\n",
      "  ymargin: float greater than -0.5\n",
      "  yscale: {\"linear\", \"log\", \"symlog\", \"logit\", ...} or `.ScaleBase`\n",
      "  yticklabels: unknown\n",
      "  yticks: unknown\n",
      "  zorder: float\n"
     ]
    },
    {
     "data": {
      "text/plain": [
       "''"
      ]
     },
     "execution_count": 1295,
     "metadata": {},
     "output_type": "execute_result"
    },
    {
     "data": {
      "image/png": "[encoded data removed]",
      "text/plain": [
       "<Figure size 1152x576 with 1 Axes>"
      ]
     },
     "metadata": {
      "needs_background": "light"
     },
     "output_type": "display_data"
    },
    {
     "data": {
      "image/png": "[encoded data removed]",
      "text/plain": [
       "<Figure size 432x288 with 2 Axes>"
      ]
     },
     "metadata": {
      "needs_background": "light"
     },
     "output_type": "display_data"
    }
   ],
   "source": [
    "# I can't get this to work right now, gotta move on for sake of time. \n",
    "# Just making two plots for each, for now.\n",
    "\n",
    "ten_high_accept_df = pd.DataFrame(colleges_df.sort_values(by = 'accept_rate', ascending = False)[:10]).reset_index()\n",
    "\n",
    "plt.figure(figsize = (16, 8))\n",
    "\n",
    "plt.title('SAT 25th %ile minus SAT Equivalent of ACT 25th %ile,\\nby college, acceptance rate')\n",
    "\n",
    "# this method of changing color based on value comes from here: \n",
    "# https://stackoverflow.com/questions/45274183/matplotlib-different-colors-for-bar-graph-based-on-value\n",
    "\n",
    "t1 = ten_high_accept_df[ten_high_accept_df['sat_minus_sat_equiv_25th_perc'] >= 0]\n",
    "t2 = ten_high_accept_df[ten_high_accept_df['sat_minus_sat_equiv_25th_perc'] < 0]\n",
    "\n",
    "ax1 = plt.subplot(2,1,1)\n",
    "ax1.set_title('10 Highest Acceptance Rates')\n",
    "ax1.bar(t1.index.values,\n",
    "       t1['sat_minus_sat_equiv_25th_perc'],\n",
    "       color = 'blue')\n",
    "ax1.bar(t2.index.values,\n",
    "       t2['sat_minus_sat_equiv_25th_perc'],\n",
    "       color = 'maroon')\n",
    "\n",
    "#to set ticks for each subplot got help here:\n",
    "# https://stackoverflow.com/questions/19626530/python-xticks-in-subplots\n",
    "fig, axes = plt.subplots(nrows=2, ncols=1)\n",
    "\n",
    "plt.setp(axes)\n",
    "plt.sca(axes[0])\n",
    "plt.xticks(range(10), [i for i in ten_high_accept_df['school']],\n",
    "           rotation = 20, ha = 'right', rotation_mode = 'anchor')\n",
    "# this stackexchange helped me understand how to anchor the labels to the ticks:\n",
    "# https://stackoverflow.com/questions/14852821/aligning-rotated-xticklabels-with-their-respective-xticks\n",
    "\n",
    "\n",
    "plt.xlabel('School')\n",
    "plt.ylabel('SAT minus SAT equiv of ACT')\n",
    "\n",
    ";"
   ]
  },
  {
   "cell_type": "code",
   "execution_count": null,
   "metadata": {},
   "outputs": [],
   "source": [
    "# Code"
   ]
  },
  {
   "cell_type": "markdown",
   "metadata": {
    "tags": []
   },
   "source": [
    "## Conclusions and Recommendations"
   ]
  },
  {
   "cell_type": "markdown",
   "metadata": {
    "tags": []
   },
   "source": [
    "### States and Schools Often Show a Clear Bias Towards One Test or the Other\n",
    "\n",
    "The data collected here reveals that there are clear biases towards one test or the other depending on the state or territory an applicant is from on the one hand, and the college an applicant is applying to on the other.\n",
    "\n",
    "### This Data Can Be Used to an Individual Applicant's Advantage\n",
    "\n",
    "Because standardized test scores are part of a suite of data points admissions offices use to compare students, one to another, it follows that if an applicant has comparable scores on the ACT and the SAT, they can and should decide which score to use based on some combination of geography and the school they're applying to. In essence, students are admitted not only based on their appeal to the school, _but also on their relative strengths -- including test scores -- compared to other applicants._\n",
    "\n",
    "An important caveat is that this data doesn't speak to how much of a benefit is necessary to change an admission decision for any individual application at any given school. It's possible, for instance, that the equivalent of 1 ACT composite point or 30 SAT total score points could shift the balance for one specific applicant at one specific school, but not make a difference for another at the same or another school.\n",
    "\n",
    "However, there's no apparent downside to using this approach other than the resources necessary to prepare for and take both the ACT and the SAT. While this may be prohibitive for some applicants, the two tests share a lot of commonalities, and trying to use the right test at the right school seems to be a low-risk, potentially high-reward approach.\n",
    "\n",
    "### More Data Is Needed to Make More Precise Recommendations\n",
    "\n",
    "That said, more data is needed to sharpen the determination of which test to use under which circumstance. \n",
    "\n",
    "For instance, at what geographic level are colleges focused? Ideally, high school-level data would be helpful for an applicant to understand whether their particular high school shows a bias towards one test or another. This data is often available for students, anonymized, through the college counselor's office. \n",
    "\n",
    "In addition, narrower geographic regions than the state level might be more helpful than state-level data. Whether or not that's the case should ideally be determined, perhaps by surveying admissions offices.\n",
    "\n",
    "At the level of the college-specific data, it would be helpful to have more detailed data about applicants, such as geographic data, ideally tied to individual scores. To use that example, it would be helpful to know to what extent geography plays into the biases towards one test or another. If so, and students are being compared to each other within regions, that factor might outweigh any mean bias across the college toward one test or another, for any given region. On the other hand, if applicants aren't being considered by geographic region, this factor wouldn't matter. Either determination could influence whether and/or how to balance geographic data (such as the state-level date) against the overall patterns at any given college.\n",
    "\n",
    "It would also be interesting (and potentially important for the colleges) to uncover why given colleges show the biases they have, particularly as they vary across score levels. For instance, do these schools need to do a better job of comparing scores across test? Are they showing improper biases towards geographic regions? While there are plenty of potential good reasons for schools showing biases (for instance, a state school preferencing in-state applicants, leading to a bias towards that state's preferred test), the information gleaned from examining this question could be important to determining if unhelpful or unconcious factors are at play in any given school's admissions office.\n",
    "\n",
    "### If The Data Bears Out, Build A Tool to Guide Applicants\n",
    "\n",
    "If the data bears out, a tool that guides applicants as to the best test to use for a given school at their given score level given their geographic location could be a powerful resource to advise students internally or a powerful marketing tool if made available publicly."
   ]
  }
 ],
 "metadata": {
  "anaconda-cloud": {},
  "kernelspec": {
   "display_name": "Python 3 (ipykernel)",
   "language": "python",
   "name": "python3"
  },
  "language_info": {
   "codemirror_mode": {
    "name": "ipython",
    "version": 3
   },
   "file_extension": ".py",
   "mimetype": "text/x-python",
   "name": "python",
   "nbconvert_exporter": "python",
   "pygments_lexer": "ipython3",
   "version": "3.9.12"
  }
 },
 "nbformat": 4,
 "nbformat_minor": 4
}
